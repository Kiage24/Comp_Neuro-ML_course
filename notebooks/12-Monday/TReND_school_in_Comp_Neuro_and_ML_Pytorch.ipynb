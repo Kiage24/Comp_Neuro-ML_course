{
  "cells": [
    {
      "cell_type": "markdown",
      "source": [
        "<img align=\"left\" width=\"300\" src=\"https://drive.google.com/uc?id=1xhBJo9KKicDMw6HuOCZiRclX5DJb2g_J\">\n",
        "\n",
        "    \n",
        "# **Introduction to Pytorch for Beginners** \n",
        "## Computational Neuroscience and Machine Learning Basics <br> Accra, Ghana <br> 11-24 June, 2023"
      ],
      "metadata": {
        "id": "LAHAiruXydkb"
      }
    },
    {
      "cell_type": "markdown",
      "metadata": {
        "execution": {},
        "id": "Ipf6r64mgTpR"
      },
      "source": [
        "# Tutorial 1: PyTorch\n",
        "**Week 1, Day 1: Basics and PyTorch**\n",
        "\n",
        "<!-- **By TReND school in Comp Neuro and ML** -->\n",
        "\n",
        "\n",
        "__Content creators:__ \n",
        " - Ishaya, Jeremiah Ayock\n",
        " - Elizabeth Cornell Awuku\n",
        "\n",
        "<!-- __Content reviewers:__ Ishaya, Jeremiah Ayock\n",
        "\n",
        "__Content editors:__ Ishaya, Jeremiah Ayock\n",
        "\n",
        "__Production editors:__ Ishaya, Jeremiah Ayock -->"
      ]
    },
    {
      "cell_type": "markdown",
      "metadata": {
        "execution": {},
        "id": "6x0I98WQgTpV"
      },
      "source": [
        "---\n",
        "# Learning Objective\n",
        "\n",
        "\n",
        "- Understand the fundamental concepts of PyTorch and its role in numerical computations and deep learning.\n",
        "\n",
        "- Gain proficiency in creating tensors, performing basic operations, and manipulating tensors using indexing, slicing, reshaping, and concatenation.\n",
        "\n",
        "- Learn about automatic differentiation and its importance in PyTorch for calculating gradients."
      ]
    },
    {
      "cell_type": "markdown",
      "source": [
        "**Takeaways:**\n",
        "\n",
        "At the end of the tutorial, it is expected that every participant should;   \n",
        "\n",
        "- Have a clear understanding of PyTorch and its significance in deep learning and numerical computations.  \n",
        "\n",
        "- Be proficient in creating tensors of different shapes and sizes and performing basic element-wise operations on them.\n",
        "\n",
        "- Have the ability to access and modify tensor elements using indexing and \n",
        "slicing operations.\n",
        "\n",
        "\n",
        "- Have the Knowledge of reshaping and concatenating tensors to accommodate various requirements.\n",
        "\n",
        "- Have familiarity with built-in mathematical functions for performing computations on tensors.\n",
        "\n",
        "- Be aware of automatic differentiation and its role in calculating gradients in PyTorch.\n",
        "\n",
        "<!-- - Access to additional resources, tutorials, and documentation to continue learning and exploring PyTorch independently. -->"
      ],
      "metadata": {
        "id": "g2cfwq-0tTsS"
      }
    },
    {
      "cell_type": "markdown",
      "source": [
        "# Tutorial Outline"
      ],
      "metadata": {
        "id": "gl7ZwnEp5Nh7"
      }
    },
    {
      "cell_type": "markdown",
      "source": [
        "**Part 1. Introduction to PyTorch**\n",
        "\n",
        "What is PyTorch and its role in deep learning and numerical computations?  \n",
        "Advantages of PyTorch, such as its ease of use, dynamic computational graph, and Pythonic interface.\n",
        "\n",
        "Installation and setup of PyTorch, including installing the necessary dependencies."
      ],
      "metadata": {
        "id": "8AzeJzMB6JbN"
      }
    },
    {
      "cell_type": "markdown",
      "source": [
        "**Part 2. Tensors and Operations**\n",
        "\n",
        "1. Introduction to Tensors\n",
        "\n",
        "- Explanation of tensors as fundamental data structures in PyTorch, similar to arrays or matrices.\n",
        "- Understanding the concept of dimensions and shape of tensors.\n",
        "- Creating tensors of different shapes and sizes using PyTorch.\n",
        "\n",
        "2. Basic Tensor Operations\n",
        "\n",
        "- Performing basic element-wise operations on tensors, such as addition, subtraction, multiplication, and division.\n",
        "- Demonstrating broadcasting and its role in performing operations on tensors of different shapes.\n",
        "- Explaining the importance of data types in tensors and how to convert between different data types.\n",
        "\n",
        "3. Indexing and Slicing\n",
        "\n",
        "- Accessing specific elements, rows, or columns in tensors using indexing and slicing operations.\n",
        "- Demonstrating how to modify specific elements of tensors using indexing.\n",
        "- Highlighting the difference between indexing and slicing in PyTorch.\n",
        "\n",
        "4. Reshaping and Concatenating Tensors\n",
        "\n",
        "- Understanding tensor reshaping and its applications, such as flattening or changing the dimensions of tensors.\n",
        "- Demonstrating how to reshape tensors using the reshape and view functions.\n",
        "- Concatenating tensors along different dimensions using the cat or stack functions.\n",
        "\n",
        "5. Element-wise Mathematical Functions\n",
        "\n",
        "- Exploring built-in mathematical functions in PyTorch for element-wise operations on tensors, such as square root, exponential, logarithm, etc.\n",
        "- Applying these functions to tensors to perform mathematical computations.\n",
        "\n",
        "\n"
      ],
      "metadata": {
        "id": "Pjs8EdwLhzL8"
      }
    },
    {
      "cell_type": "markdown",
      "source": [
        "**Part 3. Automatic Differentiation (Autograd)**"
      ],
      "metadata": {
        "id": "d6vLjaBWNJGk"
      }
    },
    {
      "cell_type": "markdown",
      "source": [
        "**Part 4. Resources and Next Steps (5 minutes)**\n",
        "\n",
        "Providing additional resources for further learning and practice with PyTorch.  \n",
        "Suggesting online tutorials, documentation, and beginner-friendly projects.  \n",
        "Encouraging students to explore PyTorch's community and support."
      ],
      "metadata": {
        "id": "WxNdTID86knI"
      }
    },
    {
      "cell_type": "markdown",
      "source": [
        "## **Part 1. Introduction to PyTorch (5 minutes)**\n"
      ],
      "metadata": {
        "id": "RlJD2SFR6CAl"
      }
    },
    {
      "cell_type": "markdown",
      "source": [
        "**i. What is PyTorch?**\n",
        "\n",
        "\n",
        "_PyTorch_ is an open-source machine learning library for Python developed by Facebook's AI Research (FAIR) team.\n",
        "\n",
        "It provides a flexible and efficient framework for building and training deep learning models.  \n",
        "\n",
        "\n",
        "_PyTorch_ is widely used in academia and industry due to its dynamic computational graph, ease of use, and strong community support.  \n",
        "\n",
        "\n",
        "\n",
        "**ii. Role of PyTorch in deep learning and numerical computations**\n",
        "\n",
        "\n",
        "\n",
        "_PyTorch_ is specifically designed for deep learning tasks such as **image classification, natural language processing, and computer vision.**\n",
        "It offers a rich set of tools and functions for creating, training, and evaluating neural networks.\n",
        "PyTorch's tensor computations and automatic differentiation capabilities make it suitable for various numerical computations beyond deep learning.  \n",
        "\n",
        "\n",
        "\n",
        "**iii. Advantages of PyTorch**\n",
        "\n",
        "\n",
        "\n",
        "- **Dynamic computational graph:** \n",
        "\n",
        "PyTorch allows for dynamic graph construction, enabling more flexibility in model design and debugging.\n",
        "\n",
        "- **Pythonic interface:**\n",
        "\n",
        "PyTorch integrates well with Python, making it easy to write and debug code.\n",
        "GPU acceleration: PyTorch seamlessly supports GPU acceleration, enabling faster computations for training deep learning models.\n",
        "\n",
        "- **Strong community support:**\n",
        "\n",
        "PyTorch has a large and active community, providing extensive documentation, tutorials, and libraries.  \n",
        "\n",
        "\n",
        "\n",
        "**iv. Installation and setup of PyTorch.**\n",
        "\n",
        "- ``conda install -y pytorch torchvision -c pytorch ``\n",
        "- ``pip3 install torch torchvision``"
      ],
      "metadata": {
        "id": "zLxsIU_MiYcP"
      }
    },
    {
      "cell_type": "markdown",
      "source": [
        "## **Part 2. Tensors and Operations (50 minutes)**\n",
        "\n",
        "\n",
        "\n",
        "\n",
        "\n",
        "\n"
      ],
      "metadata": {
        "id": "XAxHbFwritP5"
      }
    },
    {
      "cell_type": "markdown",
      "source": [
        "**1. Introduction to Tensors (10 minutes)**"
      ],
      "metadata": {
        "id": "N-XtAYrL8q8I"
      }
    },
    {
      "cell_type": "markdown",
      "source": [
        "**Tensors** are fundamental data structures that serve as the core building \n",
        "  blocks for handling numerical data. A tensor can be thought of as a generalization of arrays or matrices, capable of representing data in any number of dimensions. \n",
        "\n",
        "**Tensors** are the primary data structure used to store and manipulate data in PyTorch, making them essential for tasks like deep learning, scientific computing, and numerical analysis."
      ],
      "metadata": {
        "id": "2Yu2hjagHkI8"
      }
    },
    {
      "cell_type": "markdown",
      "source": [
        "A tensor can be created using PyTorch's tensor class, and it represents a multi-dimensional array of elements. These elements can be of different data types, such as floating-point numbers, integers, or even booleans. \n",
        "\n",
        "The elements of a tensor are stored in contiguous memory, enabling efficient computation and operations on the data."
      ],
      "metadata": {
        "id": "9vStwzLwH89I"
      }
    },
    {
      "cell_type": "markdown",
      "source": [
        "**Comparison to Arrays or Matrices**\n",
        "\n",
        "**Tensors** can be seen as a more powerful extension of arrays or matrices. While arrays and matrices are limited to representing data in two or fewer dimensions, tensors have no such restriction. Tensors can handle data of any dimensionality, making them more versatile for complex tasks.\n",
        "\n",
        "**Arrays** and **matrices** are commonly used in traditional numerical computing and linear algebra. They provide a way to represent and perform operations on vectors and matrices, but they lack the flexibility and functionality offered by tensors. \n",
        "\n",
        "**Tensors** can represent higher-dimensional data, such as multi-channel images, time-series data, or even high-dimensional feature vectors."
      ],
      "metadata": {
        "id": "YytNr0HLIUSy"
      }
    },
    {
      "cell_type": "markdown",
      "source": [
        "**Key Characteristics of Tensors:**\n",
        "\n",
        "**Tensors** possess three key characteristics: _data storage, shape, and dimensionality_.\n",
        "\n",
        "**Data Storage:**\n",
        "\n",
        "Tensors store their data in contiguous memory, ensuring efficient memory access and computation. This contiguous storage enables fast element-wise operations and allows for seamless integration with hardware acceleration, such as GPUs, for accelerated computation.\n",
        "\n",
        "**Shape:**\n",
        "\n",
        "The shape of a tensor defines the size along each axis or dimension. It is represented as a tuple of integers. \n",
        "\n",
        "For example, a 2D tensor with shape (3, 4) represents a matrix with 3 rows and 4 columns. \n",
        "\n",
        "The shape of a tensor determines the arrangement and organization of its elements.\n",
        "\n",
        "**Dimensionality:**\n",
        "\n",
        "Tensors can have any number of dimensions or axes. This means they can represent scalars (0D), vectors (1D), matrices (2D), or even higher-dimensional arrays (3D or more). Each dimension of a tensor corresponds to a specific mode of variation or feature in the data it represents.\n",
        "\n",
        "Understanding these key characteristics of tensors data storage, shape, and dimensionality allows us to effectively manipulate and transform data in PyTorch."
      ],
      "metadata": {
        "id": "W3O8kD_EIUWj"
      }
    },
    {
      "cell_type": "markdown",
      "source": [
        "<!-- Dimensions play a crucial role in understanding tensors. They represent the different axes or modes of variation within a tensor. Each dimension provides a unique way to organize and access the data stored in a tensor.\n",
        "\n",
        "The shape of a tensor describes its size along each dimension. It is expressed as a tuple of integers, where each integer represents the length of the corresponding dimension. The shape of a tensor determines the number of elements it can hold and the operations that can be performed on it. -->\n",
        "\n",
        "\n",
        "let explore three common types of tensors: 1D, 2D, and 3D tensors to gain a better understanding,"
      ],
      "metadata": {
        "id": "YEkkIlCfIeNm"
      }
    },
    {
      "cell_type": "code",
      "source": [
        "# Imports\n",
        "import time\n",
        "import random\n",
        "import numpy as np\n",
        "import pandas as pd\n",
        "import matplotlib.pyplot as plt\n",
        "\n",
        "# PyTorch libraries\n",
        "import torch"
      ],
      "metadata": {
        "id": "ECanvCdoRaZi"
      },
      "execution_count": null,
      "outputs": []
    },
    {
      "cell_type": "markdown",
      "source": [
        "**1D Tensors:**\n",
        "\n",
        "A 1D tensor, also known as a vector, has a single axis. It can be visualized as a list of values arranged in a single row or column.\n",
        "\n",
        "For example, consider a 1D tensor representing daily temperature values for Accra City throughout a week."
      ],
      "metadata": {
        "id": "elGscOM7IeWW"
      }
    },
    {
      "cell_type": "code",
      "source": [
        "# The tensor has a shape of (7,), indicating that it has 7 elements in a single dimension.\n",
        "\n",
        "accra_weekly_temperature = torch.tensor([23.5, 24.1, 22.8, 26.3, 25.9, 24.7, 23.2])\n",
        "print(accra_weekly_temperature)"
      ],
      "metadata": {
        "colab": {
          "base_uri": "https://localhost:8080/"
        },
        "id": "2jrWm5dRKc5x",
        "outputId": "73b2af02-8771-42fe-d7e4-b145ead5647b"
      },
      "execution_count": null,
      "outputs": [
        {
          "output_type": "stream",
          "name": "stdout",
          "text": [
            "tensor([23.5000, 24.1000, 22.8000, 26.3000, 25.9000, 24.7000, 23.2000])\n"
          ]
        }
      ]
    },
    {
      "cell_type": "markdown",
      "source": [
        "**2D Tensors:**\n",
        "\n",
        "A 2D tensor, also called a matrix, has two axes: rows and columns. It can be thought of as a table or grid of values.   \n",
        "\n",
        "For instance, consider a 2D tensor representing a grayscale image with pixel intensities: . \n"
      ],
      "metadata": {
        "id": "cBEvAQ8HKPVA"
      }
    },
    {
      "cell_type": "code",
      "source": [
        "# In this case, the tensor has a shape of (2, 3), indicating 2 rows and 3 columns.\n",
        "img = torch.tensor([[0.2, 0.4, 0.1], [0.6, 0.8, 0.3]])\n",
        "print(img)"
      ],
      "metadata": {
        "colab": {
          "base_uri": "https://localhost:8080/"
        },
        "id": "2wpQ2mh7K8F1",
        "outputId": "f994e2e5-7d23-44d1-b433-a426aeefab42"
      },
      "execution_count": null,
      "outputs": [
        {
          "output_type": "stream",
          "name": "stdout",
          "text": [
            "tensor([[0.2000, 0.4000, 0.1000],\n",
            "        [0.6000, 0.8000, 0.3000]])\n"
          ]
        }
      ]
    },
    {
      "cell_type": "markdown",
      "source": [
        "**3D Tensors:**\n",
        "\n",
        "A 3D tensor adds depth as the third dimension to represent volumetric or sequential data. For example, imagine a 3D tensor representing a batch of RGB images: "
      ],
      "metadata": {
        "id": "rYHMAJciKSKh"
      }
    },
    {
      "cell_type": "code",
      "source": [
        "# This tensor has a shape of (2, 2, 3), indicating 2 images, each with 2 rows and 3 columns of RGB values.\n",
        "\n",
        "col_img = torch.tensor([[[0.1, 0.3, 0.5], [0.4, 0.2, 0.9]], [[0.7, 0.6, 0.2], [0.3, 0.5, 0.8]]])\n",
        "print(col_img)"
      ],
      "metadata": {
        "colab": {
          "base_uri": "https://localhost:8080/"
        },
        "id": "ftO6aDqzLpP2",
        "outputId": "3a5fd4a7-91ab-4398-e298-46296cb37c7a"
      },
      "execution_count": null,
      "outputs": [
        {
          "output_type": "stream",
          "name": "stdout",
          "text": [
            "tensor([[[0.1000, 0.3000, 0.5000],\n",
            "         [0.4000, 0.2000, 0.9000]],\n",
            "\n",
            "        [[0.7000, 0.6000, 0.2000],\n",
            "         [0.3000, 0.5000, 0.8000]]])\n"
          ]
        }
      ]
    },
    {
      "cell_type": "markdown",
      "source": [
        "The shape and dimensions of a tensor play a significant role in determining the operations that can be performed on it. \n",
        "\n",
        "Tensor operations, such as element-wise additions, matrix multiplications, or convolutions, depend on compatible shapes and dimensions. \n",
        "\n",
        "Broadcasting, a feature of tensors, allows operations to be applied efficiently across tensors with different shapes by automatically aligning dimensions."
      ],
      "metadata": {
        "id": "tONcUJ78KWQv"
      }
    },
    {
      "cell_type": "markdown",
      "source": [
        "### Creating Tensors in PyTorch:\n"
      ],
      "metadata": {
        "id": "fG34cGZ5MEqH"
      }
    },
    {
      "cell_type": "markdown",
      "source": [
        "To create tensors in PyTorch, we will walk through the following steps:"
      ],
      "metadata": {
        "id": "N3VRtiFMNrEt"
      }
    },
    {
      "cell_type": "markdown",
      "source": [
        "**Step 1: Importing the necessary libraries and setting up the environment.**\n",
        "\n",
        "Before creating tensors, it's essential to import the PyTorch library and set up the environment."
      ],
      "metadata": {
        "id": "LmvWb26aNyCa"
      }
    },
    {
      "cell_type": "markdown",
      "source": [
        "**Step 2: Creating tensors from Python lists or arrays.**\n",
        "\n",
        "We can create tensors by converting Python lists or arrays using the torch.``tensor()`` function."
      ],
      "metadata": {
        "id": "hFf8FHZHN8GQ"
      }
    },
    {
      "cell_type": "code",
      "source": [
        "# Creating a 1D tensor from a Python list\n",
        "my_list = [1, 2, 3, 4, 5]\n",
        "tensor_from_list = torch.tensor(my_list)\n",
        "print(tensor_from_list, '\\n')\n",
        "\n",
        "# Creating a 2D tensor from a Python nested list\n",
        "my_nested_list = [[1, 2, 3], [4, 5, 6]]\n",
        "tensor_from_nested_list = torch.tensor(my_nested_list)\n",
        "print(tensor_from_nested_list)\n"
      ],
      "metadata": {
        "id": "6Y9xsFJD9Fgp",
        "colab": {
          "base_uri": "https://localhost:8080/"
        },
        "outputId": "89fb439a-016b-4eb3-987b-da04aab74053"
      },
      "execution_count": null,
      "outputs": [
        {
          "output_type": "stream",
          "name": "stdout",
          "text": [
            "tensor([1, 2, 3, 4, 5]) \n",
            "\n",
            "tensor([[1, 2, 3],\n",
            "        [4, 5, 6]])\n"
          ]
        }
      ]
    },
    {
      "cell_type": "markdown",
      "source": [
        "**Step 3: Specifying the data type of tensors.**\n",
        "\n",
        "By default, tensors are created with the data type inferred from the input. However, we can also explicitly specify the data type using the ``dtype `` parameter."
      ],
      "metadata": {
        "id": "oDB0ZgfoOH9D"
      }
    },
    {
      "cell_type": "code",
      "source": [
        "# Creating a tensor with a specific data type\n",
        "\n",
        "my_list = [1, 2, 3, 4, 5]\n",
        "tensor_with_dtype = torch.tensor(my_list, dtype=torch.float32)\n",
        "\n",
        "print(tensor_with_dtype)"
      ],
      "metadata": {
        "id": "0ccMO6pa9FjC",
        "colab": {
          "base_uri": "https://localhost:8080/"
        },
        "outputId": "ebcd6ea5-34e6-4f48-c1be-a0230f9f0018"
      },
      "execution_count": null,
      "outputs": [
        {
          "output_type": "stream",
          "name": "stdout",
          "text": [
            "tensor([1., 2., 3., 4., 5.])\n"
          ]
        }
      ]
    },
    {
      "cell_type": "markdown",
      "source": [
        "**Step 4: Creating tensors of different shapes using PyTorch functions.**\n",
        "\n",
        "PyTorch provides several functions to create tensors of different shapes and fill them with specific values:"
      ],
      "metadata": {
        "id": "WcmC0bRlOS9m"
      }
    },
    {
      "cell_type": "code",
      "source": [
        "# Creating a tensor filled with zeros\n",
        "zeros_tensor = torch.zeros((2, 3))\n",
        "print(\"Tensors filled with Zeros : \", zeros_tensor, '\\n')\n",
        "\n",
        "# Creating a tensor filled with ones\n",
        "ones_tensor = torch.ones((3, 2))\n",
        "print(\"Tensors filled with ones : \", ones_tensor, '\\n')\n",
        "\n",
        "# Creating a tensor with random values between 0 and 1\n",
        "random_tensor = torch.rand((3, 3))\n",
        "print(\"Tensors with random values between 0 and 1 : \", random_tensor, '\\n')\n",
        "\n",
        "\n",
        "# Creating a tensor with random values from a standard normal distribution\n",
        "normal_tensor = torch.randn((2, 2))\n",
        "print(\"Tensors with random values from a standard normal distribution : \", normal_tensor, '\\n')\n",
        "\n",
        "\n",
        "# Creating an uninitialized tensor\n",
        "empty_tensor = torch.empty((2, 2))\n",
        "print(\"uninitialized tensor : \", empty_tensor, '\\n')\n",
        "\n",
        "\n",
        "# Creating a tensor from existing data\n",
        "existing_data = [1, 2, 3, 4, 5]\n",
        "tensor_from_data = torch.tensor(existing_data)\n",
        "print(\"Tensors filled with ones : \", tensor_from_data)"
      ],
      "metadata": {
        "id": "HZIURRdCOP5d",
        "colab": {
          "base_uri": "https://localhost:8080/"
        },
        "outputId": "e6ba6e1a-a992-4469-8f41-142af0289eca"
      },
      "execution_count": null,
      "outputs": [
        {
          "output_type": "stream",
          "name": "stdout",
          "text": [
            "Tensors filled with Zeros :  tensor([[0., 0., 0.],\n",
            "        [0., 0., 0.]]) \n",
            "\n",
            "Tensors filled with ones :  tensor([[1., 1.],\n",
            "        [1., 1.],\n",
            "        [1., 1.]]) \n",
            "\n",
            "Tensors with random values between 0 and 1 :  tensor([[0.6927, 0.6970, 0.1688],\n",
            "        [0.5186, 0.0222, 0.9901],\n",
            "        [0.2285, 0.8236, 0.9721]]) \n",
            "\n",
            "Tensors with random values from a standard normal distribution :  tensor([[-1.2131,  1.8832],\n",
            "        [ 0.7087,  2.1228]]) \n",
            "\n",
            "uninitialized tensor :  tensor([[-4.0045e-17,  4.5607e-41],\n",
            "        [ 1.4492e-34,  0.0000e+00]]) \n",
            "\n",
            "Tensors filled with ones :  tensor([1, 2, 3, 4, 5])\n"
          ]
        }
      ]
    },
    {
      "cell_type": "markdown",
      "source": [
        "**Step 5: Accessing and modifying tensor elements.**\n",
        "\n",
        "You can access and modify specific elements of a tensor using indexing and slicing, similar to Python lists or arrays."
      ],
      "metadata": {
        "id": "-6SDhFW6OZ6A"
      }
    },
    {
      "cell_type": "code",
      "source": [
        "# Accessing tensor elements\n",
        "my_tensor = torch.tensor([1, 2, 3, 4, 5])\n",
        "element = my_tensor[0]  # Accessing the first element\n",
        "print(\" The first element is : \", element, '\\n')\n",
        "\n",
        "# Modifying elements in tensor \n",
        "my_tensor[1] = 10  # modifying the second element\n",
        "print(\" The new tensor is : \", my_tensor)"
      ],
      "metadata": {
        "id": "XqzWXIfPOP8P",
        "colab": {
          "base_uri": "https://localhost:8080/"
        },
        "outputId": "98158502-9685-441f-f5f9-965167f9ef19"
      },
      "execution_count": null,
      "outputs": [
        {
          "output_type": "stream",
          "name": "stdout",
          "text": [
            " The first element is :  tensor(1) \n",
            "\n",
            " The new tensor is :  tensor([ 1, 10,  3,  4,  5])\n"
          ]
        }
      ]
    },
    {
      "cell_type": "markdown",
      "source": [
        "**Step 6: Visualizing tensors using matplotlib or other visualization libraries.**\n",
        "\n",
        "To visualize tensors, you can use libraries like matplotlib to plot or display them."
      ],
      "metadata": {
        "id": "f6XzduHYOiTZ"
      }
    },
    {
      "cell_type": "code",
      "source": [
        "# Visualizing a tensor\n",
        "my_tensor = torch.tensor([1, 2, 3, 4, 5]) # y axis\n",
        "plt.plot(my_tensor)\n",
        "plt.show()\n"
      ],
      "metadata": {
        "colab": {
          "base_uri": "https://localhost:8080/",
          "height": 430
        },
        "id": "eCaUq2ffOP-s",
        "outputId": "8e87b99d-8649-4496-9644-3dd4d87d3a82"
      },
      "execution_count": null,
      "outputs": [
        {
          "output_type": "display_data",
          "data": {
            "text/plain": [
              "<Figure size 640x480 with 1 Axes>"
            ],
            "image/png": "[encoded data removed]"
          },
          "metadata": {}
        }
      ]
    },
    {
      "cell_type": "markdown",
      "source": [
        "**2. Basic Tensor Operations**"
      ],
      "metadata": {
        "id": "nshNe89f84qS"
      }
    },
    {
      "cell_type": "markdown",
      "source": [
        "These operations include performing element-wise operations like addition, subtraction, multiplication, and division on tensors. \n",
        "\n",
        "We will also cover the concept of broadcasting, which allows operations to be performed on tensors of different shapes. \n",
        "\n",
        "\n",
        "We will also discuss the importance of data types in tensors and learn how to convert between different data types."
      ],
      "metadata": {
        "id": "8pdbaARRQ4EA"
      }
    },
    {
      "cell_type": "markdown",
      "source": [
        "**Element-wise Operations on Tensors:**\n",
        "\n",
        "\n",
        "\n",
        "Element-wise operations involve performing an operation between corresponding \n",
        "elements of two or more tensors. \n",
        "\n",
        "PyTorch provides operators such as `+` for addition, `-` for subtraction, `*` for multiplication, and `/` for division to perform these operations."
      ],
      "metadata": {
        "id": "NbLQZNVfQ_wX"
      }
    },
    {
      "cell_type": "code",
      "source": [
        "tensor1 = torch.tensor([1, 2, 3])\n",
        "tensor2 = torch.tensor([4, 5, 6])\n",
        "\n",
        "# Element-wise addition\n",
        "addition_result = tensor1 + tensor2\n",
        "print(\"Element-wise addition : \", addition_result, '\\n') \n",
        "\n",
        "# Element-wise multiplication\n",
        "multiplication_result = tensor1 * tensor2\n",
        "print(\"Element-wise multiplication : \", multiplication_result, '\\n') \n",
        "\n",
        "\n",
        "# Element-wise subtraction\n",
        "subtraction_result = tensor2 - tensor1\n",
        "print(\"Element-wise subtraction : \", subtraction_result, '\\n') \n",
        "\n",
        "\n",
        "# Element-wise division\n",
        "division_result = tensor2 / tensor1\n",
        "print(\"Element-wise division : \", division_result, '\\n') "
      ],
      "metadata": {
        "colab": {
          "base_uri": "https://localhost:8080/"
        },
        "id": "09kIW5ir9G5a",
        "outputId": "15ef1f98-8bab-46ad-9263-8985aa7bce47"
      },
      "execution_count": null,
      "outputs": [
        {
          "output_type": "stream",
          "name": "stdout",
          "text": [
            "Element-wise addition :  tensor([5, 7, 9]) \n",
            "\n",
            "Element-wise multiplication :  tensor([ 4, 10, 18]) \n",
            "\n",
            "Element-wise subtraction :  tensor([3, 3, 3]) \n",
            "\n",
            "Element-wise division :  tensor([4.0000, 2.5000, 2.0000]) \n",
            "\n"
          ]
        }
      ]
    },
    {
      "cell_type": "markdown",
      "source": [
        "**Broadcasting:**\n",
        "\n",
        "Broadcasting allows operations to be performed on tensors of different shapes by automatically aligning their dimensions. \n",
        "\n",
        "This feature simplifies element-wise operations between tensors with compatible shapes."
      ],
      "metadata": {
        "id": "C-S0EOx5RY0K"
      }
    },
    {
      "cell_type": "code",
      "source": [
        "# Creating tensors\n",
        "tensor1 = torch.tensor([[1, 2, 3], [4, 5, 6]])\n",
        "tensor2 = torch.tensor([10, 20, 30])\n",
        "\n",
        "# Broadcasting and addition\n",
        "result = tensor1 + tensor2\n",
        "\n",
        "# Displaying the result\n",
        "print(result)"
      ],
      "metadata": {
        "colab": {
          "base_uri": "https://localhost:8080/"
        },
        "id": "mCeZLoI69G7c",
        "outputId": "c0a2c932-8cc2-418b-fe5d-7671ab6ecf30"
      },
      "execution_count": null,
      "outputs": [
        {
          "output_type": "stream",
          "name": "stdout",
          "text": [
            "tensor([[11, 22, 33],\n",
            "        [14, 25, 36]])\n"
          ]
        }
      ]
    },
    {
      "cell_type": "markdown",
      "source": [
        "In the example above, the tensor ``tensor2`` is broadcasted to match the shape of ``tensor1``, and element-wise addition is performed."
      ],
      "metadata": {
        "id": "MRbCHdQnSlpm"
      }
    },
    {
      "cell_type": "markdown",
      "source": [
        "**Importance of Data Types and Type Conversion:**\n",
        "\n",
        "Data types in tensors determine the kind of data they can hold and impact the memory usage and computation performance. \n",
        "\n",
        "PyTorch allows easy conversion between different data types using the ``.to()`` method."
      ],
      "metadata": {
        "id": "LgM5sSNhSy9b"
      }
    },
    {
      "cell_type": "code",
      "source": [
        "# Creating a tensor\n",
        "tensor = torch.tensor([1, 2, 3])\n",
        "\n",
        "# Checking the data type\n",
        "print(\"The data type is : \", tensor.dtype, \"\\n\") \n",
        "\n",
        "# Converting to float data type\n",
        "tensor_float = tensor.to(torch.float32)\n",
        "print(\"The data type is :\", tensor_float.dtype,\"\\n\") \n",
        "\n",
        "# Converting to boolean data type\n",
        "tensor_bool = tensor.to(torch.bool)\n",
        "print(\"The data type is : \", tensor_bool.dtype) "
      ],
      "metadata": {
        "colab": {
          "base_uri": "https://localhost:8080/"
        },
        "id": "95zoKDit9G9k",
        "outputId": "b9e43fdb-2c86-44b3-c6f6-5b8319d4d69c"
      },
      "execution_count": null,
      "outputs": [
        {
          "output_type": "stream",
          "name": "stdout",
          "text": [
            "The data type is :  torch.int64 \n",
            "\n",
            "The data type is : torch.float32 \n",
            "\n",
            "The data type is :  torch.bool\n"
          ]
        }
      ]
    },
    {
      "cell_type": "markdown",
      "source": [
        "By using the ``.to()`` method, we can convert tensors to the desired data type, such as float or boolean."
      ],
      "metadata": {
        "id": "vtHNSQRBTDw3"
      }
    },
    {
      "cell_type": "markdown",
      "source": [],
      "metadata": {
        "id": "CqxdL_gblG4V"
      }
    },
    {
      "cell_type": "markdown",
      "source": [
        "### Coding Exercise 2.1: Creating Tensors\n",
        "\n",
        "1. Given two tensors A and B of the same shape, how would you perform element-wise addition of the tensors?\n",
        "\n",
        "2. If you have a tensor C and want to subtract a scalar value 5 from each element of C, how would you achieve this using element-wise operations?\n",
        "\n",
        "3. Suppose you have two tensors D and E with different shapes, but you want to multiply them element-wise. How can you perform this operation?\n",
        "\n",
        "4. Consider a tensor F with shape (3, 3) and another tensor G with shape (1, 3).How would you divide each element of F by the corresponding element of G?\n",
        "\n",
        "5. If you have a tensor H with shape (2, 2, 2) and want to calculate the square root of each element using an element-wise operation, how can you accomplish this?\n"
      ],
      "metadata": {
        "id": "o_Ki6KsxlHQy"
      }
    },
    {
      "cell_type": "markdown",
      "source": [
        "**3. Indexing and Slicing**"
      ],
      "metadata": {
        "id": "jm6p6Dn489cB"
      }
    },
    {
      "cell_type": "markdown",
      "source": [
        "We will explore the indexing and slicing operations in PyTorch. These operations allow us to access specific elements, rows, or columns in tensors and modify them if needed. \n",
        "\n",
        "It is important to also understand the difference between indexing and slicing in PyTorch."
      ],
      "metadata": {
        "id": "QT6KmQIPUn5R"
      }
    },
    {
      "cell_type": "markdown",
      "source": [
        "**Accessing Specific Elements with Indexing:**\n",
        "\n",
        "Indexing refers to accessing individual elements of a tensor using their indices. In PyTorch, indexing starts from 0, similar to Python lists or arrays.\n",
        "\n",
        "Its  follows a similar syntax to indexing in Python lists or arrays. We can use square brackets ``[]`` to access specific elements, rows, or columns of a tensor."
      ],
      "metadata": {
        "id": "ubOudpV_UtNY"
      }
    },
    {
      "cell_type": "code",
      "source": [
        "# Creating a tensor\n",
        "tensor = torch.tensor([[1, 2, 3],\n",
        "                       [4, 5, 6],\n",
        "                       [7, 8, 9]])\n",
        "\n",
        "# Accessing a specific element\n",
        "element = tensor[0, 1]\n",
        "print(element) \n",
        "\n",
        "# Accessing a specific row\n",
        "row = tensor[1]\n",
        "print(row)\n",
        "\n",
        "# Accessing a specific column\n",
        "column = tensor[:, 2]\n",
        "print(column)"
      ],
      "metadata": {
        "colab": {
          "base_uri": "https://localhost:8080/"
        },
        "id": "ro1QGMEx9Ipf",
        "outputId": "43c614cf-e1e3-4651-ee21-baade996d611"
      },
      "execution_count": null,
      "outputs": [
        {
          "output_type": "stream",
          "name": "stdout",
          "text": [
            "tensor(2)\n",
            "tensor([4, 5, 6])\n",
            "tensor([3, 6, 9])\n"
          ]
        }
      ]
    },
    {
      "cell_type": "markdown",
      "source": [
        "**Slicing Rows and Columns:**\n",
        "\n",
        "Slicing allows us to extract specific portions (rows, columns, or sub-tensors) from a tensor. \n",
        "\n",
        "The general syntax for slicing in PyTorch is ``[start:stop:step]``."
      ],
      "metadata": {
        "id": "XmI0-l-KUlq2"
      }
    },
    {
      "cell_type": "code",
      "source": [
        "# Creating a 2D tensor\n",
        "tensor = torch.tensor([[1, 2, 3], [4, 5, 6], [7, 8, 9]])\n",
        "\n",
        "# Slicing rows\n",
        "row_slice = tensor[1:3, :]   # Slicing the second and third rows\n",
        "print(\" Row Slice : \", row_slice, \"\\n\")\n",
        "\n",
        "# Slicing columns\n",
        "col_slice = tensor[:, 0:2]   # Slicing the first two columns\n",
        "print(\" Column Slice :\", col_slice)"
      ],
      "metadata": {
        "colab": {
          "base_uri": "https://localhost:8080/"
        },
        "id": "Xm9NHJRk9Ir0",
        "outputId": "da3e5d1d-52cd-46c5-83a0-fb0d74f537e9"
      },
      "execution_count": null,
      "outputs": [
        {
          "output_type": "stream",
          "name": "stdout",
          "text": [
            " Row Slice :  tensor([[4, 5, 6],\n",
            "        [7, 8, 9]]) \n",
            "\n",
            " Column Slice : tensor([[1, 2],\n",
            "        [4, 5],\n",
            "        [7, 8]])\n"
          ]
        }
      ]
    },
    {
      "cell_type": "markdown",
      "source": [
        "**Modifying Specific Elements with Indexing:**\n",
        "\n",
        "We can use indexing to modify individual elements of a tensor"
      ],
      "metadata": {
        "id": "2bnSPSDvVEMz"
      }
    },
    {
      "cell_type": "code",
      "source": [
        "# Creating a tensor\n",
        "tensor = torch.tensor([1, 2, 3, 4, 5])\n",
        "\n",
        "# Modifying specific elements\n",
        "tensor[1] = 10 \n",
        "tensor[3] = 20\n",
        "\n",
        "# Displaying the modified tensor\n",
        "print(tensor)"
      ],
      "metadata": {
        "colab": {
          "base_uri": "https://localhost:8080/"
        },
        "id": "P5MHKP9s9IuH",
        "outputId": "73f2940f-2f93-460a-cb90-7c3c596637ad"
      },
      "execution_count": null,
      "outputs": [
        {
          "output_type": "stream",
          "name": "stdout",
          "text": [
            "tensor([ 1, 10,  3, 20,  5])\n"
          ]
        }
      ]
    },
    {
      "cell_type": "markdown",
      "source": [
        "**Difference between Indexing and Slicing:**\n",
        "\n",
        "\n",
        "Indexing and slicing are similar in syntax but differ in their output.\n",
        "\n",
        "Indexing returns a scalar value (individual element) or a tensor with reduced dimensions, while slicing returns a sub-tensor with the same or reduced dimensions."
      ],
      "metadata": {
        "id": "OakW9KAXVQjp"
      }
    },
    {
      "cell_type": "code",
      "source": [
        "# Creating a 2D tensor\n",
        "tensor = torch.tensor([[1, 2, 3], [4, 5, 6], [7, 8, 9]])\n",
        "\n",
        "# Indexing returns a scalar\n",
        "element = tensor[1, 1]   # Accessing the element at row 1, column 1\n",
        "print(\" For indexing : \", element, \"\\n\") \n",
        "\n",
        "# Slicing returns a sub-tensor\n",
        "sub_tensor = tensor[0:2, :]   # Slicing the first two rows\n",
        "print(\" For Slicing : \", sub_tensor)"
      ],
      "metadata": {
        "colab": {
          "base_uri": "https://localhost:8080/"
        },
        "id": "4VyZtxHy9IwO",
        "outputId": "a6b764d6-aad3-4448-a75e-7c791fb1c764"
      },
      "execution_count": null,
      "outputs": [
        {
          "output_type": "stream",
          "name": "stdout",
          "text": [
            " For indexing :  tensor(5) \n",
            "\n",
            " For Slicing :  tensor([[1, 2, 3],\n",
            "        [4, 5, 6]])\n"
          ]
        }
      ]
    },
    {
      "cell_type": "markdown",
      "source": [
        "Understanding indexing and slicing operations in PyTorch is crucial for extracting and modifying specific elements or portions of tensors."
      ],
      "metadata": {
        "id": "6Njs9ctZVbMl"
      }
    },
    {
      "cell_type": "code",
      "source": [],
      "metadata": {
        "id": "f8iTAB_N9JH9"
      },
      "execution_count": null,
      "outputs": []
    },
    {
      "cell_type": "markdown",
      "source": [
        "### Coding Exercise 3.1: Creating Tensors\n",
        "\n",
        "1. How can you extract the last three elements from a PyTorch tensor using indexing and slicing? Provide the code for this operation.\n",
        "\n",
        "2. Given a `2D` PyTorch tensor called tensor_2d, how can you extract the second column using slicing? Provide the code for this operation.\n",
        "\n",
        "3. Suppose you have a PyTorch tensor called tensor with shape `(5, 5, 3)`. How can you extract a `3x3` submatrix from the top-left corner of the tensor? Provide the code for this operation.\n",
        "\n",
        "4. Given a PyTorch tensor called tensor, how can you reverse the order of elements along the first dimension using slicing? Provide the code for this operation.\n",
        "\n",
        "5. Suppose you have a PyTorch tensor called tensor with shape `(3, 4, 5)`. How can you extract a sub-tensor containing the elements in the second row and third column of each 2D matrix along the first dimension? Provide the code for this operation. "
      ],
      "metadata": {
        "id": "yUMCGZCFog9t"
      }
    },
    {
      "cell_type": "markdown",
      "source": [
        "**4. Reshaping and Concatenating Tensors**"
      ],
      "metadata": {
        "id": "hqaNPPUc9AFC"
      }
    },
    {
      "cell_type": "markdown",
      "source": [
        "We will explore tensor reshaping and concatenation operations in PyTorch. \n",
        "\n",
        "Reshaping allows us to change the dimensions of tensors, such as flattening them or rearranging their shape. \n",
        "\n",
        "Concatenation enables us to combine tensors along different dimensions. We will demonstrate how to reshape tensors using the ``reshape`` and ``view`` functions and concatenate tensors using the ``cat`` and ``stack`` functions."
      ],
      "metadata": {
        "id": "awoVJafOIe5g"
      }
    },
    {
      "cell_type": "markdown",
      "source": [
        "**Reshaping Tensors:**\n",
        "\n",
        "Reshaping tensors is useful when we want to change their dimensions or rearrange the elements. \n",
        "\n",
        "PyTorch provides two functions, ``reshape()`` and ``view()``, to reshape tensors."
      ],
      "metadata": {
        "id": "p0WjR-xGJTPQ"
      }
    },
    {
      "cell_type": "code",
      "source": [
        "# Creating a tensor\n",
        "tensor = torch.tensor([[1, 2, 3],\n",
        "                       [4, 5, 6]])\n",
        "\n",
        "# Reshaping using reshape function\n",
        "reshaped_tensor = tensor.reshape(6)\n",
        "print(reshaped_tensor)\n",
        "\n",
        "# Reshaping using view function\n",
        "viewed_tensor = tensor.view(3, 2)\n",
        "print(viewed_tensor)"
      ],
      "metadata": {
        "colab": {
          "base_uri": "https://localhost:8080/"
        },
        "id": "Rda_5QnT9KHh",
        "outputId": "c19db51f-590b-4e2e-ad39-aa3f5e04f5bb"
      },
      "execution_count": null,
      "outputs": [
        {
          "output_type": "stream",
          "name": "stdout",
          "text": [
            "tensor([1, 2, 3, 4, 5, 6])\n",
            "tensor([[1, 2],\n",
            "        [3, 4],\n",
            "        [5, 6]])\n"
          ]
        }
      ]
    },
    {
      "cell_type": "markdown",
      "source": [
        "In the example above, we reshape the tensor to a 1D tensor using ``reshape()`` and change it back to a 2D tensor using ``view()``."
      ],
      "metadata": {
        "id": "676BO4aAJwe1"
      }
    },
    {
      "cell_type": "markdown",
      "source": [
        "**Concatenating Tensors:**\n",
        "\n",
        "Concatenating tensors allows us to combine multiple tensors along different dimensions. PyTorch provides the ``cat()`` and ``stack()`` functions for concatenation."
      ],
      "metadata": {
        "id": "ERopXvtpJ7aD"
      }
    },
    {
      "cell_type": "code",
      "source": [
        "# Creating tensors\n",
        "tensor1 = torch.tensor([[1, 2],\n",
        "                        [3, 4]])\n",
        "tensor2 = torch.tensor([[5, 6],\n",
        "                        [7, 8]])\n",
        "\n",
        "\n",
        "# Concatenating along the rows (dimension 0) using cat()\n",
        "concatenated_rows = torch.cat((tensor1, tensor2), dim=0)\n",
        "print(\"concatenated along rows : \", concatenated_rows, \"\\n\")\n",
        "\n",
        "\n",
        "\n",
        "# Concatenating along the columns (dimension 1) using cat()\n",
        "concatenated_columns = torch.cat((tensor1, tensor2), dim=1)\n",
        "print(\"concatenated along columns : \", concatenated_columns, \"\\n\")\n",
        "\n",
        "\n",
        "# Stacking tensors along a new dimension using the stack()\n",
        "stacked_tensor = torch.stack((tensor1, tensor2))\n",
        "print(\"stacked tensors : \", stacked_tensor)\n"
      ],
      "metadata": {
        "colab": {
          "base_uri": "https://localhost:8080/"
        },
        "id": "MVUop3Pu9KJ8",
        "outputId": "8e2d779e-0c28-49fb-d9b0-8917767e21d7"
      },
      "execution_count": null,
      "outputs": [
        {
          "output_type": "stream",
          "name": "stdout",
          "text": [
            "concatenated along rows :  tensor([[1, 2],\n",
            "        [3, 4],\n",
            "        [5, 6],\n",
            "        [7, 8]]) \n",
            "\n",
            "concatenated along columns :  tensor([[1, 2, 5, 6],\n",
            "        [3, 4, 7, 8]]) \n",
            "\n",
            "stacked tensors :  tensor([[[1, 2],\n",
            "         [3, 4]],\n",
            "\n",
            "        [[5, 6],\n",
            "         [7, 8]]])\n"
          ]
        }
      ]
    },
    {
      "cell_type": "markdown",
      "source": [
        "The ``cat()`` function in the above example is used to concatenate tensors along dimension 0 and dimension 1, while ``stack()`` function is used to stack the tensors along a new dimension (dimension 0)."
      ],
      "metadata": {
        "id": "1ToYUFaRKMIe"
      }
    },
    {
      "cell_type": "markdown",
      "source": [
        "### Coding Exercise 4.1: Creating Tensors\n",
        "\n",
        "\n",
        "1. Given two tensors t1 and t2, concatenates these tensors along dimension 0.\n",
        "2. Given that i have two torch tensors. One with shape [64, 4, 300], and one with shape [64, 300]. How can I concatenate these two tensors to obtain the resultant tensor of shape [64, 5, 300]. \n",
        "\n",
        "3. Given a tensor with the following element  `[1, 2, 3, 4, 5, 6, 7, 8]`, How can you reshape it.\n",
        "4. What is the difference between `torch.cat` and ``torch.concat`. "
      ],
      "metadata": {
        "id": "x0n9DCKJp2TZ"
      }
    },
    {
      "cell_type": "markdown",
      "source": [
        "**5. Element-wise Mathematical Functions**"
      ],
      "metadata": {
        "id": "21xa09gL9CMx"
      }
    },
    {
      "cell_type": "markdown",
      "source": [
        "We will explore the built-in mathematical functions in PyTorch that operate element-wise on tensors. These functions allow us to perform various mathematical computations on tensors, such as calculating the square root, exponential, logarithm, and more."
      ],
      "metadata": {
        "id": "sgs4kPIlLqHL"
      }
    },
    {
      "cell_type": "markdown",
      "source": [
        "**Square Root Function:**\n",
        "\n",
        "The `torch.sqrt()` function computes the square root of each element in a tensor."
      ],
      "metadata": {
        "id": "JLZ9yQTjN2au"
      }
    },
    {
      "cell_type": "code",
      "source": [
        "# Creating a tensor\n",
        "tensor = torch.tensor([4, 9, 16])\n",
        "\n",
        "# Square root function\n",
        "sqrt_tensor = torch.sqrt(tensor)\n",
        "print(sqrt_tensor)"
      ],
      "metadata": {
        "colab": {
          "base_uri": "https://localhost:8080/"
        },
        "id": "Px_qhm0HNC6_",
        "outputId": "fc3cc4bf-80c4-48a6-8fb1-b014aaaaa450"
      },
      "execution_count": null,
      "outputs": [
        {
          "output_type": "stream",
          "name": "stdout",
          "text": [
            "tensor([2., 3., 4.])\n"
          ]
        }
      ]
    },
    {
      "cell_type": "markdown",
      "source": [
        "The square root of each element in the tensor is calculated using the `torch.sqrt()` function."
      ],
      "metadata": {
        "id": "FVpa1M_bOCyZ"
      }
    },
    {
      "cell_type": "markdown",
      "source": [
        "**Exponential Function:**\n",
        "\n",
        "The `torch.exp()` function calculates the exponential value of each element in a tensor."
      ],
      "metadata": {
        "id": "0A_G8LdVOLd4"
      }
    },
    {
      "cell_type": "code",
      "source": [
        "# Creating a tensor\n",
        "tensor = torch.tensor([1, 2, 3])\n",
        "\n",
        "\n",
        "# Exponential function\n",
        "exp_tensor = torch.exp(tensor)\n",
        "print(exp_tensor)"
      ],
      "metadata": {
        "colab": {
          "base_uri": "https://localhost:8080/"
        },
        "id": "W6UbYAFCNC-N",
        "outputId": "1068a303-df1c-4d8e-b5ee-71243b8e917d"
      },
      "execution_count": null,
      "outputs": [
        {
          "output_type": "stream",
          "name": "stdout",
          "text": [
            "tensor([ 2.7183,  7.3891, 20.0855])\n"
          ]
        }
      ]
    },
    {
      "cell_type": "markdown",
      "source": [
        "**Logarithmic Functions:**\n",
        "\n",
        "PyTorch provides two logarithmic functions: `torch.log()` for natural logarithm and `torch.log10()` for base 10 logarithm."
      ],
      "metadata": {
        "id": "9_1TxayyOZMB"
      }
    },
    {
      "cell_type": "code",
      "source": [
        "# Creating a tensor\n",
        "tensor = torch.tensor([1, 10, 100])\n",
        "\n",
        "# Natural logarithm function\n",
        "log_tensor = torch.log(tensor)\n",
        "print(log_tensor)\n",
        "\n",
        "# Base 10 logarithm function\n",
        "log10_tensor = torch.log10(tensor)\n",
        "print(log10_tensor)"
      ],
      "metadata": {
        "id": "TCd1oRgMNDDP",
        "colab": {
          "base_uri": "https://localhost:8080/"
        },
        "outputId": "12fe7057-6a13-4ad7-ef25-3f50278b80a2"
      },
      "execution_count": null,
      "outputs": [
        {
          "output_type": "stream",
          "name": "stdout",
          "text": [
            "tensor([0.0000, 2.3026, 4.6052])\n",
            "tensor([0., 1., 2.])\n"
          ]
        }
      ]
    },
    {
      "cell_type": "markdown",
      "source": [
        "In the example above, both natural logarithm and base 10 logarithm functions are applied to each element of the tensor using `torch.log()` and `torch.log10()` respectively."
      ],
      "metadata": {
        "id": "BstvUXlfOjaB"
      }
    },
    {
      "cell_type": "markdown",
      "source": [
        "**Trigonometric Functions:**\n",
        "\n",
        "PyTorch provides various trigonometric functions that can be applied element-wise to tensors. Let's take a look at a few examples:"
      ],
      "metadata": {
        "id": "QbjlhHcmO3zm"
      }
    },
    {
      "cell_type": "code",
      "source": [
        "import math\n",
        "# Creating a tensor\n",
        "tensor = torch.tensor([0, math.pi/4, math.pi/2])\n",
        "\n",
        "# Sine function\n",
        "sin_tensor = torch.sin(tensor)\n",
        "print(\"Sine function : \", sin_tensor,\"\\n\")\n",
        "\n",
        "# Cosine function\n",
        "cos_tensor = torch.cos(tensor)\n",
        "print(\"Cosine function : \", cos_tensor,\"\\n\")\n",
        "\n",
        "# Tangent function\n",
        "tan_tensor = torch.tan(tensor)\n",
        "print(\"Tangent function : \", tan_tensor, \"\\n\")"
      ],
      "metadata": {
        "colab": {
          "base_uri": "https://localhost:8080/"
        },
        "id": "jewB7w9ANDeW",
        "outputId": "cad55b1c-5486-4131-d86d-a47d52e1f48b"
      },
      "execution_count": null,
      "outputs": [
        {
          "output_type": "stream",
          "name": "stdout",
          "text": [
            "Sine function :  tensor([0.0000, 0.7071, 1.0000]) \n",
            "\n",
            "Cosine function :  tensor([ 1.0000e+00,  7.0711e-01, -4.3711e-08]) \n",
            "\n",
            "Tangent function :  tensor([ 0.0000e+00,  1.0000e+00, -2.2877e+07]) \n",
            "\n"
          ]
        }
      ]
    },
    {
      "cell_type": "markdown",
      "source": [
        "In the example above, the sine, cosine, and tangent functions (`torch.sin()`, `torch.cos()`, `torch.tan()`) are applied to each element of the tensor.\n"
      ],
      "metadata": {
        "id": "pOWWEI8NLqLy"
      }
    },
    {
      "cell_type": "markdown",
      "source": [
        "**Absolute Function:**\n",
        "\n",
        "The `torch.abs()` function computes the absolute value of each element in a tensor."
      ],
      "metadata": {
        "id": "O6tHgl8TLqP4"
      }
    },
    {
      "cell_type": "code",
      "source": [
        "# Creating a tensor\n",
        "tensor = torch.tensor([-2, -5, 6])\n",
        "\n",
        "# Absolute function\n",
        "abs_tensor = torch.abs(tensor)\n",
        "print(abs_tensor)"
      ],
      "metadata": {
        "colab": {
          "base_uri": "https://localhost:8080/"
        },
        "id": "uD5q7c3C9MF0",
        "outputId": "6fc81a60-82b4-43ca-a402-2f0b99a1e87e"
      },
      "execution_count": null,
      "outputs": [
        {
          "output_type": "stream",
          "name": "stdout",
          "text": [
            "tensor([2, 5, 6])\n"
          ]
        }
      ]
    },
    {
      "cell_type": "markdown",
      "source": [
        "### Coding Exercise 5.1: Creating Tensors \n",
        "\n",
        "1. Given a tensor with values [4, 9, 16, 25], calculate the square root of each element.\n",
        "\n",
        "2. Compute the exponential of the tensor [1, 2, 3] element-wise.\n",
        "\n",
        "3. Calculate the logarithm base 2 for a tensor with elements [8, 16, 32].\n",
        "\n",
        "4. Calculate the logarithm base 10 of the tensor [10, 100, 1000] element-wise.\n",
        "\n",
        "5. Evaluate the exponential function for a tensor element-wise using base e for the tensor [1, 2, 3]."
      ],
      "metadata": {
        "id": "aTarYOTqsGUx"
      }
    },
    {
      "cell_type": "markdown",
      "source": [
        "In the above example, the absolute value of each element in the tensor is calculated using the `torch.abs()` function"
      ],
      "metadata": {
        "id": "eI3Hn5sDPoaD"
      }
    },
    {
      "cell_type": "markdown",
      "source": [
        "## **Part 3. Automatic Differentiation (Autograd)**"
      ],
      "metadata": {
        "id": "_KMpD7OCZ6Ef"
      }
    },
    {
      "cell_type": "markdown",
      "source": [
        "PyTorch so powerful for deep learning development.   \n",
        "The **backward()** method/function uses PyTorch's automatic differentiation.  package, `torch.autograd`,   \n",
        "to differentiate and compute gradients of tensors based on the chain rule."
      ],
      "metadata": {
        "id": "nLgmYb9ge6-7"
      }
    },
    {
      "cell_type": "markdown",
      "source": [
        "**1. PyTorch Computational Graphs:**\n",
        "\n",
        "PyTorch defines a computational graph as a **Directed Acyclic Graph (DAG)** where nodes represent operations (e.g., addition, multiplication) and edges represent the flow of data between the operations. When defining a PyTorch model, the computational graph is created by defining the forward function of the model. This function takes inputs and applies a sequence of operations to produce the outputs. During the forward pass, PyTorch creates the computational graph by keeping track of the operations and their dependencies.\n",
        "\n",
        "**2. Autograd in PyTorch:**\n",
        "\n",
        "PyTorch's autograd package provides automatic differentiation functionality, which is crucial for computing gradients in neural networks. The autograd package keeps track of operations performed on tensors and dynamically builds the computational graph. It enables efficient computation of gradients using the chain rule of calculus. When a tensor with `requires_grad=True `undergoes operations, the computational graph is constructed and allows backpropagation to compute gradients for the parameters involved in the graph.\n",
        "\n",
        "\n",
        "\n",
        "**3. Execution of Computational Graphs:**\n",
        "\n",
        "PyTorch executes the computational graph in a two-step process: **the forward pass and the backward pass**. In the forward pass, input tensors flow through the computational graph, and intermediate values are computed until the final output is obtained. During this process, PyTorch keeps track of operations and tensors involved for gradient computation in the backward pass. In the backward pass, gradients are computed by traversing the computational graph in reverse order, starting from the output and propagating gradients using the chain rule. These gradients can then be used for updating the model parameters through optimization algorithms.\n",
        "\n",
        "\n",
        "For example\n",
        "$$w = x\\cdot y \\rightarrow \\frac{dw}{dx} = y = 3$$"
      ],
      "metadata": {
        "id": "kGiyH9_kecbR"
      }
    },
    {
      "cell_type": "code",
      "source": [
        "# Create tensors with requires_grad=True to track the computation\n",
        "x = torch.tensor(2.0, requires_grad=True)\n",
        "y = torch.tensor(3.0, requires_grad=True)\n",
        "\n",
        "# This performs some computations\n",
        "z = x + y\n",
        "w = z * y\n",
        "\n",
        "# This Calculate the gradients using the .backward() method\n",
        "w.backward()\n",
        "\n",
        "# Print the gradients\n",
        "print(\"Gradient of w with respect to x:\", x.grad)\n",
        "print(\"Gradient of w with respect to y:\", y.grad)"
      ],
      "metadata": {
        "colab": {
          "base_uri": "https://localhost:8080/"
        },
        "id": "Ijtewb7wgzPb",
        "outputId": "ce7108e9-2247-43c1-c7ce-027b2b774515"
      },
      "execution_count": null,
      "outputs": [
        {
          "output_type": "stream",
          "name": "stdout",
          "text": [
            "Gradient of w with respect to x: tensor(3.)\n",
            "Gradient of w with respect to y: tensor(8.)\n"
          ]
        }
      ]
    },
    {
      "cell_type": "markdown",
      "source": [
        "We created two tensors `x` and `y` with `requires_grad=True` to indicate that we want to track the computation for calculating gradients.  \n",
        "\n",
        "Then we perform some computations: `z = x + y` and `w = z * y`.\n",
        "After that, the `.backward()` method was called on `w `to initiate the backpropagation process and calculate the gradients. \n",
        "\n",
        "Finally, we print The gradients of` w` with respect to `x` and `y` were printed using using the `.grad` attribute of the tensors.\n"
      ],
      "metadata": {
        "id": "jUhwU0UshWOh"
      }
    },
    {
      "cell_type": "markdown",
      "source": [
        "##Mathematically\n",
        "\n",
        "$$z = x+y$$, $$w = z * y$$   \n",
        "$$w = ( x + y)* y $$. \n",
        "$$w = xy + y^2 $$\n",
        "\n",
        "$$ \\frac{dw}{dx} = y $$ \n",
        "\n",
        "$$ \\frac{dw}{dy} = x + 2y $$ "
      ],
      "metadata": {
        "id": "eoKvM-08mLLY"
      }
    },
    {
      "cell_type": "markdown",
      "source": [
        "**Example of autodifferentiation.** \n",
        "\n",
        "Let  define a function,$$f= \\sum_{i,j} [x_{ij}]^3$$, where `x` is a matrix of variables.   \n",
        "If we want to find $$\\frac{df}{dx_{ij}}$$ for each variable in the matrix, we need to set the `requires_grad = True`\n",
        "flag for the tensor `x`, as shown in the following code:"
      ],
      "metadata": {
        "id": "KEPy7OilaKnd"
      }
    },
    {
      "cell_type": "code",
      "source": [
        "x = torch.tensor([[1,2,3],[4,5,6]],\n",
        "                 dtype=torch.float, \n",
        "                 requires_grad=True)\n",
        "print(x)"
      ],
      "metadata": {
        "colab": {
          "base_uri": "https://localhost:8080/"
        },
        "id": "7K_tbd9SbQNo",
        "outputId": "3ae5a8e2-43fa-4260-b8cf-6e0bf49db160"
      },
      "execution_count": null,
      "outputs": [
        {
          "output_type": "stream",
          "name": "stdout",
          "text": [
            "tensor([[1., 2., 3.],\n",
            "        [4., 5., 6.]], requires_grad=True)\n"
          ]
        }
      ]
    },
    {
      "cell_type": "code",
      "source": [
        "f = x.pow(3).sum()\n",
        "print(f)"
      ],
      "metadata": {
        "colab": {
          "base_uri": "https://localhost:8080/"
        },
        "id": "FtrRg8QDLCjw",
        "outputId": "182c1f8b-a367-4be7-ef26-5d3e3e43fd85"
      },
      "execution_count": null,
      "outputs": [
        {
          "output_type": "stream",
          "name": "stdout",
          "text": [
            "tensor(441., grad_fn=<SumBackward0>)\n"
          ]
        }
      ]
    },
    {
      "cell_type": "code",
      "source": [
        "f.backward()\n",
        "print(x.grad) # df/dx = 3x "
      ],
      "metadata": {
        "colab": {
          "base_uri": "https://localhost:8080/"
        },
        "id": "wC5Gs7ttdIn2",
        "outputId": "be4611c5-0ad4-4644-d992-65b8ea992822"
      },
      "execution_count": null,
      "outputs": [
        {
          "output_type": "stream",
          "name": "stdout",
          "text": [
            "tensor([[  3.,  12.,  27.],\n",
            "        [ 48.,  75., 108.]])\n"
          ]
        }
      ]
    },
    {
      "cell_type": "markdown",
      "source": [
        "The `f.backward()` function performs the differentiation with respect to `f` and stores $$\\frac{df}{dx_{ij}}$$ in the `x.grad` attribute. \n",
        "\n",
        "A quick review of calculus differential equations will tell us the derivation of `f` with respect to `x`, $$\\frac{df}{dx_{ij}} = 3 ⋅ x^2$$.   \n",
        "The results of evaluating $$\\frac{df}{dx_{ij}}$$ for the values of `x `are shown as the output."
      ],
      "metadata": {
        "id": "7hytCZ5KaKzl"
      }
    },
    {
      "cell_type": "markdown",
      "source": [
        "## **Part 4. Resources and Next Steps (5 minutes)**\n",
        "\n",
        "## Official PyTorch resources:\n",
        "\n",
        "### Tutorials\n",
        "- [https://pytorch.org/tutorials/](https://pytorch.org/tutorials/)\n",
        "\n",
        "### Documentation\n",
        "- [https://pytorch.org/docs/stable/tensors.html](https://pytorch.org/docs/stable/tensors.html) (tensor methods)\n",
        "\n",
        "- [https://pytorch.org/docs/stable/generated/torch.Tensor.view.html#torch.Tensor.view](https://pytorch.org/docs/stable/generated/torch.Tensor.view.html#torch.Tensor.view) (The view method in particular)\n",
        "\n",
        "- [https://pytorch.org/vision/stable/datasets.html](https://pytorch.org/vision/stable/datasets.html) (pre-loaded image datasets)"
      ],
      "metadata": {
        "id": "X2Muim7mUKB-"
      }
    },
    {
      "cell_type": "markdown",
      "source": [
        "# New section"
      ],
      "metadata": {
        "id": "5eOZI136174R"
      }
    },
    {
      "cell_type": "code",
      "source": [],
      "metadata": {
        "id": "zpPYOXeHDdPR"
      },
      "execution_count": null,
      "outputs": []
    }
  ],
  "metadata": {
    "accelerator": "GPU",
    "colab": {
      "provenance": [],
      "toc_visible": true
    },
    "kernel": {
      "display_name": "Python 3",
      "language": "python",
      "name": "python3"
    },
    "kernelspec": {
      "display_name": "Python 3",
      "name": "python3"
    },
    "language_info": {
      "codemirror_mode": {
        "name": "ipython",
        "version": 3
      },
      "file_extension": ".py",
      "mimetype": "text/x-python",
      "name": "python",
      "nbconvert_exporter": "python",
      "pygments_lexer": "ipython3",
      "version": "3.7.11"
    }
  },
  "nbformat": 4,
  "nbformat_minor": 0
}