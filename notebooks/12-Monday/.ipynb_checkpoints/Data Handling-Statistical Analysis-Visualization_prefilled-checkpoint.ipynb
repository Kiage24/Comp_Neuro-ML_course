{
 "cells": [
  {
   "cell_type": "markdown",
   "id": "9c721a5a",
   "metadata": {
    "id": "9c721a5a"
   },
   "source": [
    "<img align=\"left\" width=\"300\" src=\"https://drive.google.com/uc?id=1xhBJo9KKicDMw6HuOCZiRclX5DJb2g_J\">\n",
    "\n",
    "    \n",
    "# **Data Handling, Statistical analysis and Visualization** \n",
    "## Computational Neuroscience and Machine Learning Basics <br> Accra, Ghana <br> 11-24 June, 2023"
   ]
  },
  {
   "cell_type": "markdown",
   "id": "ea896f91",
   "metadata": {
    "id": "ea896f91"
   },
   "source": [
    "## **Content**\n",
    "\n",
    "\n",
    "1. [Packages](#pack)\n",
    "    - 1.1 [Useful packages](#upack)\n",
    "    - 1.2 [Installing packages](#inst)\n",
    "    - 1.3 [Practical tips](#tips)\n",
    "    - 1.4 [Creating your own functions](#own) <br>\n",
    "    \n",
    "    \n",
    "2. [Data Handling](#data)\n",
    "    - 2.1 [The NumPy ndarray: A Multidimensional Array Object](#ndarray)\n",
    "    - 2.2 [Creating ndarrays](#create)<br>\n",
    "    - 2.3 [Data Types for ndarrays](#types)<br>\n",
    "    - 2.4 [Basic Indexing and Slicing](#index)\n",
    "    - 2.5 [Universal Functions](#uni)\n",
    "    - 2.6 [Mathematical and Statistical Methods](#stats)\n",
    "    - 2.7 [Reshaping and Transposing](#trans)\n",
    "    - 2.8 [Concatenating and Splitting Arrays](#concat)\n",
    "    - 2.9 [Array comparisons and Subsetting](#compare)\n",
    "    - 2.10 [Saving and Loading NumPy objects](#save)\n",
    "    - 2.11 [Importing and exporting a CSV](#import)<br>\n",
    "\n",
    "\n",
    "3. [Statistical analysis](#stats)\n",
    "    - 3.1 [Data types](#types)\n",
    "    - 3.2 [Replicates and sample size](#rep)\n",
    "    - 3.3 [Measures of central tendency](#tend)\n",
    "    - 3.4 [Measures of dispersion](#disp)\n",
    "    - 3.5 [Distribution types](#dist)\n",
    "    - 3.6 [Hypothesis testing](#hypo)\n",
    "    - 3.7 [Choosing the appropriate statistical test](#choose)\n",
    "<br>\n",
    "\n",
    "\n",
    "4. [Plotting data](#plot)\n",
    "    - 4.1 [Figures and Subplots](#fig)\n",
    "    - 4.2 [Colors, Markers, and Line Styles](#col)\n",
    "    - 4.3 [Ticks, Labels, and Legends](#ticks)\n",
    "    - 4.4 [Annotations and Drawing on a Subplot](#annot)\n",
    "    - 4.5 [Saving Plots to File](#save)\n",
    "<br>\n",
    "\n",
    "\n",
    "5. [Self Study - Pandas](#self)\n",
    "    \n",
    "    "
   ]
  },
  {
   "cell_type": "markdown",
   "id": "3fe016be",
   "metadata": {
    "id": "3fe016be"
   },
   "source": [
    "---\n",
    "\n",
    "<a name=\"pack\"></a>\n",
    "# **1. Packages**"
   ]
  },
  {
   "cell_type": "markdown",
   "id": "290933d2",
   "metadata": {
    "id": "290933d2"
   },
   "source": [
    "As Python users, our needs intersect in many ways.\n",
    "\n",
    "- Does everyone need to write their own scripts for each of these needs? \n",
    "\n",
    "- Do we have the expertise and/or time to do this? \n",
    "\n",
    "- Wouldn't it be great if we can use the functions written by experts on our way to achieve our programming goal?\n",
    "\n",
    "### Python packages provide us a way to use functionality developed by other people "
   ]
  },
  {
   "cell_type": "markdown",
   "id": "19b632e8",
   "metadata": {
    "id": "19b632e8"
   },
   "source": [
    "####  What are packages?\n",
    "\n",
    "- **Collection of pre-written code** mostly consisting of functions\n",
    "\n",
    "- Packages contain many files of code. Each file is called a **module**. \n",
    "\n",
    "- A published package is sometimes referred to as a \"library\" so don't be confused if you see the term \"library\" used. For our purposes we can consider them the same. \n"
   ]
  },
  {
   "cell_type": "markdown",
   "id": "3517c183",
   "metadata": {
    "id": "3517c183"
   },
   "source": [
    "<img src=\"https://github.com/bgur123/python-beginners-course/blob/master/trend_course/images/package_scheme.svg?raw=1\" width =\"500px\">"
   ]
  },
  {
   "cell_type": "markdown",
   "id": "8336b160",
   "metadata": {
    "id": "8336b160"
   },
   "source": [
    "Python comes with a large collection of pre-installed packages: **Python Standard Library**. (No further installation required)\n",
    "\n",
    "#### The Python Standard Library\n",
    "\n",
    "Contains numerous functionality:\n",
    "- Mathematical functions \n",
    "- Internet data handling\n",
    "- Parallel processing\n",
    "- Accessing file and directories\n",
    "- ...\n",
    "\n",
    "You can get more information here: [Python Standard Library](https://docs.python.org/3/library/index.html)\n",
    "\n"
   ]
  },
  {
   "cell_type": "markdown",
   "id": "d82149c8",
   "metadata": {
    "id": "d82149c8"
   },
   "source": [
    "---\n",
    "\n",
    "<a name=\"upack\"></a>\n",
    "\n",
    "## **1.1 Useful packages**"
   ]
  },
  {
   "cell_type": "markdown",
   "id": "a8ea924e",
   "metadata": {
    "id": "a8ea924e"
   },
   "source": [
    "### [NumPy](https://numpy.org/)\n",
    "\n",
    "**NumPy (Numerical Python)** is the fundamental package for numerical computation in Python. It’s a general-purpose array-processing package that provides high-performance multidimensional objects called arrays and tools for working with them."
   ]
  },
  {
   "cell_type": "markdown",
   "id": "56123d52",
   "metadata": {
    "id": "56123d52"
   },
   "source": [
    "### [SciPy](https://scipy.org/)\n",
    "\n",
    "**SciPy (Scientific Python)** is a scientific computation library that uses NumPy underneath. It provides more utility functions for optimization, stats and signal processing. "
   ]
  },
  {
   "cell_type": "markdown",
   "id": "cdb161da",
   "metadata": {
    "id": "cdb161da"
   },
   "source": [
    "### [Pandas](https://pandas.pydata.org/) \n",
    "\n",
    "**Pandas (Python data analysis)** is the most popular and widely used Python library for data science, along with NumPy and Matplotlib. It is heavily used for data analysis, transformation, storage and cleaning."
   ]
  },
  {
   "cell_type": "markdown",
   "id": "d676970b",
   "metadata": {
    "id": "d676970b"
   },
   "source": [
    "### [Matplotlib](https://matplotlib.org/) \n",
    "\n",
    "**Matplotlib** is a plotting library for Python. Because of the graphs and plots that it produces, it’s extensively used for data visualization."
   ]
  },
  {
   "cell_type": "markdown",
   "id": "7fcf515e",
   "metadata": {
    "id": "7fcf515e"
   },
   "source": [
    "### [Seaborn](https://seaborn.pydata.org/) \n",
    "**Seaborn** is a data visualization library based on matplotlib. It provides a high-level interface for drawing attractive and informative statistical graphics."
   ]
  },
  {
   "cell_type": "markdown",
   "id": "c6a95927",
   "metadata": {
    "id": "c6a95927"
   },
   "source": [
    "---\n",
    "\n",
    "<a name=\"inst\"></a>\n",
    "\n",
    "## **1.2 Installing packages**"
   ]
  },
  {
   "cell_type": "markdown",
   "id": "bbe10551",
   "metadata": {
    "id": "bbe10551"
   },
   "source": [
    "In other python IDEs (not in colab), all packages that are not built-in need to be installed.\n",
    "\n",
    "There are several ways to install packages in Python, depending on the environment used, if it is for single or global use etc.\n",
    "\n",
    "**!!!Be careful when installing packages. It can lead to many problems if not done properly.**\n",
    "\n",
    "To install a package you can use `pip install` followed by the package_name."
   ]
  },
  {
   "cell_type": "code",
   "execution_count": null,
   "id": "efc55a7e",
   "metadata": {
    "code_folding": [],
    "id": "efc55a7e"
   },
   "outputs": [],
   "source": [
    "pip install numpy"
   ]
  },
  {
   "cell_type": "markdown",
   "id": "7cdcd366",
   "metadata": {
    "id": "7cdcd366"
   },
   "source": [
    "---\n",
    "\n",
    "<a name=\"tips\"></a>\n",
    "\n",
    "## **1.3 Practical tips**"
   ]
  },
  {
   "cell_type": "markdown",
   "id": "f0dd42f7",
   "metadata": {
    "id": "f0dd42f7"
   },
   "source": [
    "#### Using many functions from the same package/module? Make the name shorter\n",
    "\n",
    "Imagine we want to use many of the ```numpy``` module functions in our code. Always writing ```numpy.function``` makes our code long. \n",
    "\n",
    "While importing a module use you can change how you refer to it in your code.\n"
   ]
  },
  {
   "cell_type": "code",
   "execution_count": null,
   "id": "9Hzk1_DNdDw2",
   "metadata": {
    "id": "9Hzk1_DNdDw2"
   },
   "outputs": [],
   "source": [
    "import numpy as np\n",
    "np.floor(4.5)"
   ]
  },
  {
   "cell_type": "markdown",
   "id": "516f0b21",
   "metadata": {
    "id": "516f0b21"
   },
   "source": [
    "#### Using the same function from a package/module? Get rid of the dot.\n",
    "\n",
    "Imagine we want to use ```numpy.floor``` many times in our code. Always writing ```numpy.floor``` makes our code long.\n",
    "\n",
    "You can directly can directly import the function. \n"
   ]
  },
  {
   "cell_type": "code",
   "execution_count": null,
   "id": "1iD1vNM8dF3f",
   "metadata": {
    "id": "1iD1vNM8dF3f"
   },
   "outputs": [],
   "source": [
    "from numpy import floor\n",
    "numbers=(12.5,23.3,45.7)\n",
    "floor(numbers)"
   ]
  },
  {
   "cell_type": "markdown",
   "id": "WInT2Ld1i9PS",
   "metadata": {
    "id": "WInT2Ld1i9PS"
   },
   "source": [
    "Tip: When using multiple functions from a module it is recomended to import the whole module and abbreviated. On the other hand, if you will use just one function of a module you can directly import this one function."
   ]
  },
  {
   "cell_type": "markdown",
   "id": "6c9eaba6",
   "metadata": {
    "id": "6c9eaba6"
   },
   "source": [
    "---\n",
    "\n",
    "<a name=\"own\"></a>\n",
    "\n",
    "## **1.4 Creating your own functions**"
   ]
  },
  {
   "cell_type": "markdown",
   "id": "fb92852c",
   "metadata": {
    "id": "fb92852c"
   },
   "source": [
    "You can also create your own functions that will run when called upon. \n",
    "\n",
    "In general, a function takes arguments (if any), performs some operations, and returns a value (or object). The return value of a Python function can be any Python object. Everything in Python is an object. So, your functions can return numeric values (int, float, and complex values), collections and sequences of objects (list, tuple, dictionary, or set objects), user-defined objects, classes, functions, and even modules or packages.\n",
    "\n",
    "In Python a function is defined using the `def` keyword.\n",
    "\n",
    "Let's create a function that will `return` the cube of a number."
   ]
  },
  {
   "cell_type": "code",
   "execution_count": null,
   "id": "9EaoiIWNdIbo",
   "metadata": {
    "id": "9EaoiIWNdIbo"
   },
   "outputs": [],
   "source": [
    "def artemis(x):\n",
    "    return x**3"
   ]
  },
  {
   "cell_type": "markdown",
   "id": "3c41b08f",
   "metadata": {
    "id": "3c41b08f"
   },
   "source": [
    "To call a function, use the function name followed by parenthesis."
   ]
  },
  {
   "cell_type": "code",
   "execution_count": null,
   "id": "_7MrPXa1dKnx",
   "metadata": {
    "id": "_7MrPXa1dKnx"
   },
   "outputs": [],
   "source": [
    "x=[5,3,4,5]\n",
    "y=[]\n",
    "\n",
    "for i in x:\n",
    "    y.append(artemis(i))\n",
    "    \n",
    "print(y)"
   ]
  },
  {
   "cell_type": "markdown",
   "id": "e9560ea6",
   "metadata": {
    "id": "e9560ea6"
   },
   "source": [
    "You can add as many arguments as you want in a function, just separate them with a comma. <br>Let't create a function that adds two variables."
   ]
  },
  {
   "cell_type": "code",
   "execution_count": null,
   "id": "_QFUm0PgdZ5y",
   "metadata": {
    "id": "_QFUm0PgdZ5y"
   },
   "outputs": [],
   "source": [
    "def addition(x,y):\n",
    "    return x+y\n",
    "\n",
    "a=3\n",
    "b=5\n",
    "\n",
    "addition(a,b)"
   ]
  },
  {
   "cell_type": "markdown",
   "id": "4c24c5a2",
   "metadata": {
    "id": "4c24c5a2"
   },
   "source": [
    "You can send any data types of argument to a function (string, number, list, dictionary etc.), and it will be treated as the same data type inside the function."
   ]
  },
  {
   "cell_type": "code",
   "execution_count": null,
   "id": "vgbn8qgfdcEc",
   "metadata": {
    "id": "vgbn8qgfdcEc"
   },
   "outputs": [],
   "source": [
    "def my_function(food):\n",
    "    for x in food:\n",
    "        print(\"I like\", x)\n",
    "        \n",
    "fruits=[\"apples\",\"mangos\",\"kiwis\"]\n",
    "\n",
    "my_function(fruits)"
   ]
  },
  {
   "cell_type": "markdown",
   "id": "e7802465",
   "metadata": {
    "id": "e7802465"
   },
   "source": [
    "A function can do multiple operations at the same time."
   ]
  },
  {
   "cell_type": "code",
   "execution_count": 1,
   "id": "8wxjUO1mdiDS",
   "metadata": {
    "id": "8wxjUO1mdiDS"
   },
   "outputs": [
    {
     "data": {
      "text/plain": [
       "(136.5, 54.0, 12)"
      ]
     },
     "execution_count": 1,
     "metadata": {},
     "output_type": "execute_result"
    }
   ],
   "source": [
    "import statistics as st\n",
    "\n",
    "def describe(sample):\n",
    "    return st.mean(sample),st.median(sample),st.mode(sample)\n",
    "\n",
    "dataset=[12,342,12,345,65,43]\n",
    "describe(dataset)"
   ]
  },
  {
   "cell_type": "markdown",
   "id": "34dc56a7",
   "metadata": {
    "id": "34dc56a7"
   },
   "source": [
    "---\n",
    "\n",
    "<a name=\"data\"></a>\n",
    "\n",
    "## **2. Data Handling**"
   ]
  },
  {
   "cell_type": "markdown",
   "id": "deee4805",
   "metadata": {
    "id": "deee4805"
   },
   "source": [
    "---\n",
    "\n",
    "<a name=\"ndarray\"></a>\n",
    "\n",
    "## **2.1 The NumPy ndarray: A Multidimensional Array Object**"
   ]
  },
  {
   "cell_type": "markdown",
   "id": "e23aeeb7",
   "metadata": {
    "id": "e23aeeb7"
   },
   "source": [
    "**NumPy** is one of the most important foundational packages for numerical computing in Python. Many computational packages providing scientific functionality use NumPy's array objects as one of the standard interface lingua francas for data exchange.\n",
    "\n",
    "One of the reasons NumPy is so important for numerical computations in Python is because it is designed for efficiency on large arrays of data. There are a number of reasons for this:\n",
    "\n",
    "NumPy internally stores data in a contiguous block of memory, independent of other built-in Python objects. NumPy's library of algorithms written in the C language can operate on this memory without any type checking or other overhead. NumPy arrays also use much less memory than built-in Python sequences.\n",
    "\n",
    "NumPy operations perform complex computations on entire arrays without the need for Python for loops, which can be slow for large sequences. NumPy is faster than regular Python code because its C-based algorithms avoid overhead present with regular interpreted Python code."
   ]
  },
  {
   "cell_type": "markdown",
   "id": "58f86700",
   "metadata": {
    "id": "58f86700"
   },
   "source": [
    " Much of the knowledge about NumPy that I cover is transferable to Pandas as well."
   ]
  },
  {
   "cell_type": "markdown",
   "id": "596a0704",
   "metadata": {
    "id": "596a0704"
   },
   "source": [
    "To check out all the other possibilities during data handling you can have a look at the documentation  of [`numpy`](#https://numpy.org/doc/1.24/user/index.html#user)."
   ]
  },
  {
   "cell_type": "markdown",
   "id": "336e0f34",
   "metadata": {
    "id": "336e0f34"
   },
   "source": [
    "One of the key features of NumPy is its N-dimensional array object, or ndarray, which is a fast, flexible container for large datasets in Python. Arrays enable you to perform mathematical operations on whole blocks of data using similar syntax to the equivalent operations between scalar elements."
   ]
  },
  {
   "cell_type": "markdown",
   "id": "0081a48b",
   "metadata": {
    "id": "0081a48b"
   },
   "source": [
    "---\n",
    "\n",
    "<a name=\"create\"></a>\n",
    "\n",
    "## **2.2 Creating ndarrays**"
   ]
  },
  {
   "cell_type": "markdown",
   "id": "77c55529",
   "metadata": {
    "id": "77c55529"
   },
   "source": [
    "The easiest way to create an array is to use the `array` function. This accepts any sequence-like object (including other arrays) and produces a new NumPy array containing the passed data. <br> <br> A list is a good candidate for conversion:"
   ]
  },
  {
   "cell_type": "code",
   "execution_count": null,
   "id": "7gZS_a6udkZL",
   "metadata": {
    "id": "7gZS_a6udkZL"
   },
   "outputs": [],
   "source": [
    "data1 = [3, 2.5, 6, 0, -1]\n",
    "\n",
    "arr1 = np.array(data1)\n",
    "\n",
    "arr1"
   ]
  },
  {
   "cell_type": "markdown",
   "id": "cff0e1fd",
   "metadata": {
    "id": "cff0e1fd"
   },
   "source": [
    "Nested sequences, like a list of equal-length lists, will be converted into a multidimensional array:"
   ]
  },
  {
   "cell_type": "code",
   "execution_count": null,
   "id": "1q6ib2D4dqOm",
   "metadata": {
    "id": "1q6ib2D4dqOm"
   },
   "outputs": [],
   "source": [
    "data2 = [[1, 2, 3, 4], [5, 6, 7, 8]]\n",
    "\n",
    "arr2 = np.array(data2)\n",
    "\n",
    "arr2"
   ]
  },
  {
   "cell_type": "markdown",
   "id": "bf001fef",
   "metadata": {
    "id": "bf001fef"
   },
   "source": [
    "Since `data2` was a list of lists, the NumPy array `arr2` has two dimensions, with shape inferred from the data. <br>We can confirm this by inspecting the `ndim` and `shape` attributes."
   ]
  },
  {
   "cell_type": "code",
   "execution_count": null,
   "id": "12a0d126",
   "metadata": {
    "id": "12a0d126"
   },
   "outputs": [],
   "source": [
    "arr2.ndim"
   ]
  },
  {
   "cell_type": "code",
   "execution_count": null,
   "id": "b4e98a76",
   "metadata": {
    "id": "b4e98a76"
   },
   "outputs": [],
   "source": [
    "arr2.shape"
   ]
  },
  {
   "cell_type": "markdown",
   "id": "0e5effef",
   "metadata": {
    "id": "0e5effef"
   },
   "source": [
    "You can write mathematical operations with arrays."
   ]
  },
  {
   "cell_type": "markdown",
   "id": "HdCOFqSOeYfX",
   "metadata": {
    "id": "HdCOFqSOeYfX"
   },
   "source": [
    "Let's mulptiply the array `data` with 10."
   ]
  },
  {
   "cell_type": "code",
   "execution_count": null,
   "id": "BhXBfC7KeRLd",
   "metadata": {
    "id": "BhXBfC7KeRLd"
   },
   "outputs": [],
   "source": [
    "multiplied=data*10\n",
    "multiplied"
   ]
  },
  {
   "cell_type": "markdown",
   "id": "e176273a",
   "metadata": {
    "id": "e176273a"
   },
   "source": [
    "Every array has a `shape`, a tuple indicating the size of each dimension, and a `dtype`, an object describing the data type of the array:"
   ]
  },
  {
   "cell_type": "code",
   "execution_count": null,
   "id": "3341fb37",
   "metadata": {
    "id": "3341fb37"
   },
   "outputs": [],
   "source": [
    "data.shape  "
   ]
  },
  {
   "cell_type": "code",
   "execution_count": null,
   "id": "7d540913",
   "metadata": {
    "id": "7d540913"
   },
   "outputs": [],
   "source": [
    "data.dtype"
   ]
  },
  {
   "cell_type": "markdown",
   "id": "6c52b79d",
   "metadata": {
    "id": "6c52b79d"
   },
   "source": [
    "---\n",
    "\n",
    "<a name=\"types\"></a>\n",
    "\n",
    "## **2.3 Data Types for ndarrays**"
   ]
  },
  {
   "cell_type": "markdown",
   "id": "2c19900d",
   "metadata": {
    "id": "2c19900d"
   },
   "source": [
    "The data type or dtype is a special object containing the information (or metadata, data about data) the ndarray needs to interpret a chunk of memory as a particular type of data."
   ]
  },
  {
   "cell_type": "code",
   "execution_count": null,
   "id": "Krx_JpRce-2r",
   "metadata": {
    "id": "Krx_JpRce-2r"
   },
   "outputs": [],
   "source": [
    "arr1 = np.array([1, 2, 3], dtype=np.float64)\n",
    "arr2 = np.array([1, 2, 3], dtype=np.int32)"
   ]
  },
  {
   "cell_type": "code",
   "execution_count": null,
   "id": "njHj3BlwfIO0",
   "metadata": {
    "id": "njHj3BlwfIO0"
   },
   "outputs": [],
   "source": [
    "arr1.dtype"
   ]
  },
  {
   "cell_type": "code",
   "execution_count": null,
   "id": "iMWJ7AhCfIcC",
   "metadata": {
    "id": "iMWJ7AhCfIcC"
   },
   "outputs": [],
   "source": [
    "arr2.dtype"
   ]
  },
  {
   "cell_type": "markdown",
   "id": "f271e936",
   "metadata": {
    "id": "f271e936"
   },
   "source": [
    "You can explicitly convert or cast an array from one data type to another using ndarray’s `astype` method. <br> <br> Let's convert `arr2` to float."
   ]
  },
  {
   "cell_type": "code",
   "execution_count": null,
   "id": "owXKL_7YfP2i",
   "metadata": {
    "id": "owXKL_7YfP2i"
   },
   "outputs": [],
   "source": [
    "float_arr2 = arr2.astype(np.float64)\n",
    "float_arr2.dtype"
   ]
  },
  {
   "cell_type": "markdown",
   "id": "69f91b2f",
   "metadata": {
    "id": "69f91b2f"
   },
   "source": [
    "If you have an array of strings representing numbers, you can use `astype` to convert them to numeric form."
   ]
  },
  {
   "cell_type": "code",
   "execution_count": null,
   "id": "nZRb93sufUoG",
   "metadata": {
    "id": "nZRb93sufUoG"
   },
   "outputs": [],
   "source": [
    "numeric_strings = np.array([\"1.25\", \"-9.6\", \"42\"], dtype=np.string_)\n",
    "\n",
    "numeric_strings.astype(float)"
   ]
  },
  {
   "cell_type": "markdown",
   "id": "f204225a",
   "metadata": {
    "id": "f204225a"
   },
   "source": [
    "---\n",
    "\n",
    "<a name=\"index\"></a>\n",
    "\n",
    "## **2.4 Basic Indexing and Slicing**"
   ]
  },
  {
   "cell_type": "markdown",
   "id": "345a82e5",
   "metadata": {
    "id": "345a82e5"
   },
   "source": [
    "NumPy array indexing is a deep topic, as there are many ways to select a subset of your data or individual elements. <br> <br> \n",
    "One-dimensional arrays are simple; on the surface they act similarly to Python lists."
   ]
  },
  {
   "cell_type": "code",
   "execution_count": null,
   "id": "ry4ui1ZWjnwI",
   "metadata": {
    "id": "ry4ui1ZWjnwI"
   },
   "outputs": [],
   "source": [
    "arr = np.arange(10)#np.arrange is like the built-in `range` but returns an ndarray instead of a list\n",
    "arr"
   ]
  },
  {
   "cell_type": "code",
   "execution_count": null,
   "id": "P-tcYuW7jo9u",
   "metadata": {
    "id": "P-tcYuW7jo9u"
   },
   "outputs": [],
   "source": [
    "arr[3]"
   ]
  },
  {
   "cell_type": "markdown",
   "id": "c7f7c914",
   "metadata": {
    "id": "c7f7c914"
   },
   "source": [
    "You can replace elements by assigning a new value to the corresponding index. "
   ]
  },
  {
   "cell_type": "code",
   "execution_count": null,
   "id": "c5fc7629",
   "metadata": {
    "id": "c5fc7629"
   },
   "outputs": [],
   "source": [
    "arr[3]=10"
   ]
  },
  {
   "cell_type": "code",
   "execution_count": null,
   "id": "66a689de",
   "metadata": {
    "id": "66a689de"
   },
   "outputs": [],
   "source": [
    "arr"
   ]
  },
  {
   "cell_type": "markdown",
   "id": "28a465b9",
   "metadata": {
    "id": "28a465b9"
   },
   "source": [
    "You can create a slice by defining the range."
   ]
  },
  {
   "cell_type": "code",
   "execution_count": null,
   "id": "b0277551",
   "metadata": {
    "id": "b0277551"
   },
   "outputs": [],
   "source": [
    "arr[4:7]"
   ]
  },
  {
   "cell_type": "markdown",
   "id": "02582000",
   "metadata": {
    "id": "02582000"
   },
   "source": [
    "If you assign a scalar value to a slice, the value is propagated to the entire selection."
   ]
  },
  {
   "cell_type": "code",
   "execution_count": null,
   "id": "ee1217aa",
   "metadata": {
    "id": "ee1217aa"
   },
   "outputs": [],
   "source": [
    "arr[4:7]=34\n",
    "arr"
   ]
  },
  {
   "cell_type": "markdown",
   "id": "510fbfd8",
   "metadata": {
    "id": "510fbfd8"
   },
   "source": [
    "**An important first distinction from Python's built-in lists is that array slices are views on the original array. This means that the data is not copied, and any modifications to the view will be reflected in the source array.**"
   ]
  },
  {
   "cell_type": "code",
   "execution_count": null,
   "id": "a27ab609",
   "metadata": {
    "id": "a27ab609"
   },
   "outputs": [],
   "source": [
    "arr_slice=arr[4:7]\n",
    "arr_slice"
   ]
  },
  {
   "cell_type": "code",
   "execution_count": null,
   "id": "1a69518a",
   "metadata": {
    "id": "1a69518a"
   },
   "outputs": [],
   "source": [
    "arr_slice[1]=123\n",
    "arr"
   ]
  },
  {
   "cell_type": "markdown",
   "id": "23ef44fa",
   "metadata": {
    "id": "23ef44fa"
   },
   "source": [
    "If you want a copy of a slice of an ndarray instead of a view, you will need to explicitly copy the array—for example, `arr[4:7].copy()`."
   ]
  },
  {
   "cell_type": "code",
   "execution_count": null,
   "id": "iZW7Q6eio8ZF",
   "metadata": {
    "id": "iZW7Q6eio8ZF"
   },
   "outputs": [],
   "source": [
    "copied_slice=arr[4:7].copy()\n",
    "copied_slice[1]=15\n",
    "arr"
   ]
  },
  {
   "cell_type": "markdown",
   "id": "3bdcae91",
   "metadata": {
    "id": "3bdcae91"
   },
   "source": [
    "With higher dimensional arrays, you have many more options. In a two-dimensional array, the elements at each index are no longer scalars but rather one-dimensional arrays."
   ]
  },
  {
   "cell_type": "code",
   "execution_count": null,
   "id": "9c56fe48",
   "metadata": {
    "id": "9c56fe48"
   },
   "outputs": [],
   "source": [
    "arr2d = np.array([[1, 2, 3], [4, 5, 6], [7, 8, 9]])\n",
    "arr2d"
   ]
  },
  {
   "cell_type": "code",
   "execution_count": null,
   "id": "da6f3985",
   "metadata": {
    "id": "da6f3985"
   },
   "outputs": [],
   "source": [
    "arr2d[0]"
   ]
  },
  {
   "cell_type": "markdown",
   "id": "576da709",
   "metadata": {
    "id": "576da709"
   },
   "source": [
    "Individual elements can be accessed recursively, by passing a comma-separated list of indices to select individual elements."
   ]
  },
  {
   "cell_type": "code",
   "execution_count": null,
   "id": "bca68054",
   "metadata": {
    "id": "bca68054"
   },
   "outputs": [],
   "source": [
    "arr2d[0,1]"
   ]
  },
  {
   "cell_type": "markdown",
   "id": "afb6551d",
   "metadata": {
    "id": "afb6551d"
   },
   "source": [
    "You can think of axis 0 as the \"rows\" of the array and axis 1 as the \"columns.\""
   ]
  },
  {
   "cell_type": "markdown",
   "id": "2105253c",
   "metadata": {
    "id": "2105253c"
   },
   "source": [
    "![indexing.PNG](data:image/png;base64,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)"
   ]
  },
  {
   "cell_type": "markdown",
   "id": "93235aa7",
   "metadata": {
    "id": "93235aa7"
   },
   "source": [
    " Slicing in a two-dimensional array is a bit diffrent. A slice selects a range of elements along an axis. "
   ]
  },
  {
   "cell_type": "code",
   "execution_count": null,
   "id": "8mznF7thLDGu",
   "metadata": {
    "id": "8mznF7thLDGu"
   },
   "outputs": [],
   "source": [
    "arr2d[:2]"
   ]
  },
  {
   "cell_type": "markdown",
   "id": "7774aa5d",
   "metadata": {
    "id": "7774aa5d"
   },
   "source": [
    "It can be helpful to read the expression `arr2d[:2]` as \"select the first two rows of `arr2d`.\""
   ]
  },
  {
   "cell_type": "markdown",
   "id": "f1c1d448",
   "metadata": {
    "id": "f1c1d448"
   },
   "source": [
    "You can pass multiple slices just like you can pass multiple indexes."
   ]
  },
  {
   "cell_type": "code",
   "execution_count": null,
   "id": "9fc206d9",
   "metadata": {
    "id": "9fc206d9"
   },
   "outputs": [],
   "source": [
    "arr2d[:2,1:]"
   ]
  },
  {
   "cell_type": "markdown",
   "id": "1142e34f",
   "metadata": {
    "id": "1142e34f"
   },
   "source": [
    "When slicing like this, you always obtain array views of the same number of dimensions. By mixing integer indexes and slices, you get lower dimensional slices."
   ]
  },
  {
   "cell_type": "code",
   "execution_count": null,
   "id": "7f8140d2",
   "metadata": {
    "id": "7f8140d2"
   },
   "outputs": [],
   "source": [
    "arr2d[:2,1]"
   ]
  },
  {
   "cell_type": "markdown",
   "id": "1f0aba3a",
   "metadata": {
    "id": "1f0aba3a"
   },
   "source": [
    "In multidimensional arrays, if you omit later indices, the returned object will be a lower dimensional ndarray consisting of all the data along the higher dimensions. <br><br> Let's create a 2x2x3 array."
   ]
  },
  {
   "cell_type": "code",
   "execution_count": null,
   "id": "26fd9c48",
   "metadata": {
    "id": "26fd9c48"
   },
   "outputs": [],
   "source": [
    "arr3d = np.array([[[1, 2, 3], [4, 5, 6]], [[7, 8, 9], [10, 11, 12]]])\n",
    "arr3d"
   ]
  },
  {
   "cell_type": "code",
   "execution_count": null,
   "id": "25656185",
   "metadata": {
    "id": "25656185"
   },
   "outputs": [],
   "source": [
    "arr3d[0]"
   ]
  },
  {
   "cell_type": "markdown",
   "id": "ba04f008",
   "metadata": {
    "id": "ba04f008"
   },
   "source": [
    "Passing a comma-separated list of indices, gives you all of the values whose indices start with the selected indices, forming a one-dimensional array."
   ]
  },
  {
   "cell_type": "code",
   "execution_count": null,
   "id": "672720ed",
   "metadata": {
    "id": "672720ed"
   },
   "outputs": [],
   "source": [
    "arr3d[0,1]"
   ]
  },
  {
   "cell_type": "markdown",
   "id": "ff348bb4",
   "metadata": {
    "id": "ff348bb4"
   },
   "source": [
    "---\n",
    "\n",
    "<a name=\"data\"></a>\n",
    "\n",
    "## **2.5 Universal Functions**"
   ]
  },
  {
   "cell_type": "markdown",
   "id": "e2b54741",
   "metadata": {
    "id": "e2b54741"
   },
   "source": [
    "A universal function, or ufunc, is a function that performs element-wise operations on data in ndarrays. You can think of them as fast vectorized wrappers for simple functions that take one or more scalar values and produce one or more scalar results.\n",
    "<br><br>\n",
    "Many ufuncs are simple element-wise transformations referred to as 'unary ufuncs', like `numpy.sqrt` or `numpy.exp`."
   ]
  },
  {
   "cell_type": "code",
   "execution_count": null,
   "id": "12a04c6b",
   "metadata": {
    "id": "12a04c6b"
   },
   "outputs": [],
   "source": [
    "arr = np.arange(10)\n",
    "arr"
   ]
  },
  {
   "cell_type": "code",
   "execution_count": null,
   "id": "c1e1388a",
   "metadata": {
    "id": "c1e1388a"
   },
   "outputs": [],
   "source": [
    "np.sqrt(arr)"
   ]
  },
  {
   "cell_type": "code",
   "execution_count": null,
   "id": "7b113c76",
   "metadata": {
    "id": "7b113c76"
   },
   "outputs": [],
   "source": [
    "np.exp(arr)"
   ]
  },
  {
   "cell_type": "markdown",
   "id": "2ee76820",
   "metadata": {
    "id": "2ee76820"
   },
   "source": [
    "Some unary universal functions."
   ]
  },
  {
   "cell_type": "markdown",
   "id": "6cd5fece",
   "metadata": {
    "id": "6cd5fece"
   },
   "source": [
    "| **Function** | **Description** |\n",
    "|:--|:--|\n",
    "|`abs, fabs`|Compute the absolute value element-wise for integer, floating-point, or complex values|\n",
    "|`sqrt`|Compute the square root of each element |\n",
    "|`square`|Compute the square of each element |\n",
    "|`exp`|\tCompute the exponent ex of each element|\n",
    "|`log, log10, log2, log1p`|\tNatural logarithm (base e), log base 10, log base 2, and log(1 + x), respectively|\n",
    "|`sign`|\tCompute the sign of each element: 1 (positive), 0 (zero), or –1 (negative)|\n",
    "|`ceil`|\tCompute the ceiling of each element (i.e., the smallest integer greater than or equal to that number)|\n",
    "|`floor`|\tCompute the floor of each element (i.e., the largest integer less than or equal to each element)|\n",
    "|`rint`|\tRound elements to the nearest integer, preserving the dtype|\n",
    "|`modf`|\tReturn fractional and integral parts of array as separate arrays|\n",
    "|`isnan`|\tReturn Boolean array indicating whether each value is NaN (Not a Number)|\n",
    "|`isfinite, isinf`|\tReturn Boolean array indicating whether each element is finite (non-inf, non-NaN) or infinite, respectively|\n",
    "|`cos, cosh, sin, sinh, tan, tanh`|\tRegular and hyperbolic trigonometric functions|\n",
    "|`arccos, arccosh, arcsin, arcsinh, arctan, arctanh`|\tInverse trigonometric functions|\n",
    "|`logical_not`|\tCompute truth value of not x element-wise (equivalent to ~arr)|\n"
   ]
  },
  {
   "cell_type": "markdown",
   "id": "dd774187",
   "metadata": {
    "id": "dd774187"
   },
   "source": [
    "Others take two arrays and return a single array as the result, and are referred to as 'binary ufuncs', like `numpy.add`."
   ]
  },
  {
   "cell_type": "code",
   "execution_count": null,
   "id": "b9af4184",
   "metadata": {
    "id": "b9af4184"
   },
   "outputs": [],
   "source": [
    "x=np.arange(8)\n",
    "y=np.ones(8)"
   ]
  },
  {
   "cell_type": "code",
   "execution_count": null,
   "id": "2b0c8f9f",
   "metadata": {
    "id": "2b0c8f9f"
   },
   "outputs": [],
   "source": [
    "np.add(x,y)"
   ]
  },
  {
   "cell_type": "markdown",
   "id": "c04a3d99",
   "metadata": {
    "id": "c04a3d99"
   },
   "source": [
    "Some binary universal functions"
   ]
  },
  {
   "cell_type": "markdown",
   "id": "ba9e3bba",
   "metadata": {
    "id": "ba9e3bba"
   },
   "source": [
    "|**Function**|**Description**|\n",
    "|:--|:--|\n",
    "|`add`|\tAdd corresponding elements in arrays|\n",
    "|`subtract`|\tSubtract elements in second array from first array|\n",
    "|`multiply`|\tMultiply array elements|\n",
    "|`divide, floor_divide`|\tDivide or floor divide (truncating the remainder)|\n",
    "|`power`|\tRaise elements in first array to powers indicated in second array|\n",
    "|`maximum, fmax`|\tElement-wise maximum; fmax ignores NaN|\n",
    "|`minimum, fmin`|\tElement-wise minimum; fmin ignores NaN|\n",
    "|`mod`|\tElement-wise modulus (remainder of division)|\n",
    "|`copysign`|\tCopy sign of values in second argument to values in first argument|\n",
    "|`greater, greater_equal, less, less_equal, equal, not_equal`|\tPerform element-wise comparison, yielding Boolean array (equivalent to infix operators >, >=, <, <=, ==, !=)|\n",
    "|`logical_and`|\tCompute element-wise truth value of AND (&) logical operation|\n",
    "|`logical_or`|\tCompute element-wise truth value of OR (|) logical operation|\n",
    "|`logical_xor`|\tCompute element-wise truth value of XOR (^) logical operation|"
   ]
  },
  {
   "cell_type": "markdown",
   "id": "e80eb7f4",
   "metadata": {
    "id": "e80eb7f4"
   },
   "source": [
    "---\n",
    "\n",
    "<a name=\"stats\"></a>\n",
    "\n",
    "## **2.6 Mathematical and Statistical Methods**"
   ]
  },
  {
   "cell_type": "markdown",
   "id": "b3536712",
   "metadata": {
    "id": "b3536712"
   },
   "source": [
    "A set of mathematical functions that compute statistics about an entire array or about the data along an axis are accessible as methods of the array class. You can use aggregations (sometimes called reductions) like `sum`, `mean`, and `std` (standard deviation) either by calling the array instance method or using the top-level NumPy function."
   ]
  },
  {
   "cell_type": "code",
   "execution_count": null,
   "id": "1f370add",
   "metadata": {
    "id": "1f370add"
   },
   "outputs": [],
   "source": [
    "rng = np.random.default_rng(seed=12345)\n",
    "arr = rng.standard_normal((5, 4))\n",
    "arr"
   ]
  },
  {
   "cell_type": "code",
   "execution_count": null,
   "id": "e1314dda",
   "metadata": {
    "id": "e1314dda"
   },
   "outputs": [],
   "source": [
    "arr.mean()"
   ]
  },
  {
   "cell_type": "code",
   "execution_count": null,
   "id": "c47664c6",
   "metadata": {
    "id": "c47664c6"
   },
   "outputs": [],
   "source": [
    "arr.sum()"
   ]
  },
  {
   "cell_type": "markdown",
   "id": "ba404760",
   "metadata": {
    "id": "ba404760"
   },
   "source": [
    "Functions like `mean` and `sum` take an optional axis argument that computes the statistic over the given axis, resulting in an array with one less dimension."
   ]
  },
  {
   "cell_type": "code",
   "execution_count": null,
   "id": "6ead7569",
   "metadata": {
    "id": "6ead7569"
   },
   "outputs": [],
   "source": [
    "arr.mean(axis=0)"
   ]
  },
  {
   "cell_type": "code",
   "execution_count": null,
   "id": "0623cbf7",
   "metadata": {
    "id": "0623cbf7"
   },
   "outputs": [],
   "source": [
    "arr.mean(axis=1)"
   ]
  },
  {
   "cell_type": "markdown",
   "id": "d75fc2b5",
   "metadata": {
    "id": "d75fc2b5"
   },
   "source": [
    "Basic array statistical methods"
   ]
  },
  {
   "cell_type": "markdown",
   "id": "96a85f13",
   "metadata": {
    "id": "96a85f13"
   },
   "source": [
    "|**Method**|**Description**|\n",
    "|:--|:--|\n",
    "|`sum`|\tSum of all the elements in the array or along an axis; zero-length arrays have sum 0|\n",
    "|`mean`|\tArithmetic mean; invalid (returns NaN) on zero-length arrays|\n",
    "|`std, var`|\tStandard deviation and variance, respectively|\n",
    "|`min, max`|\tMinimum and maximum\n",
    "|`argmin, argmax`|\tIndices of minimum and maximum elements, respectively|\n",
    "|`cumsum`|\tCumulative sum of elements starting from 0|\n",
    "|`cumprod`|\tCumulative product of elements starting from 1|"
   ]
  },
  {
   "cell_type": "markdown",
   "id": "fd700954",
   "metadata": {
    "id": "fd700954"
   },
   "source": [
    "---\n",
    "\n",
    "<a name=\"trans\"></a>\n",
    "\n",
    "## **2.7 Reshaping and Transposing**"
   ]
  },
  {
   "cell_type": "markdown",
   "id": "2de19947",
   "metadata": {
    "id": "2de19947"
   },
   "source": [
    "**Reshaping**"
   ]
  },
  {
   "cell_type": "markdown",
   "id": "41ef20d3",
   "metadata": {
    "id": "41ef20d3"
   },
   "source": [
    "You can convert an array from one shape to another without copying any data. To do this, pass a tuple indicating the new shape to the `.reshape` array instance method. <br><br>For example, suppose we had a one-dimensional array of values that we wished to rearrange into a matrix "
   ]
  },
  {
   "cell_type": "code",
   "execution_count": null,
   "id": "7930bd2e",
   "metadata": {
    "id": "7930bd2e"
   },
   "outputs": [],
   "source": [
    "arr = np.arange(12)\n",
    "arr"
   ]
  },
  {
   "cell_type": "code",
   "execution_count": null,
   "id": "5f8ecaae",
   "metadata": {
    "id": "5f8ecaae"
   },
   "outputs": [],
   "source": [
    "arr_2d=arr.reshape(6,2)\n",
    "arr_2d"
   ]
  },
  {
   "cell_type": "markdown",
   "id": "358df398",
   "metadata": {
    "id": "358df398"
   },
   "source": [
    "A multidimensional array can also be reshaped."
   ]
  },
  {
   "cell_type": "code",
   "execution_count": null,
   "id": "c44d6c10",
   "metadata": {
    "id": "c44d6c10"
   },
   "outputs": [],
   "source": [
    "arr_2d.reshape(4,3)"
   ]
  },
  {
   "cell_type": "markdown",
   "id": "bb0c2d5f",
   "metadata": {
    "id": "bb0c2d5f"
   },
   "source": [
    "One of the passed shape dimensions can be –1, in which case the value used for that dimension will be inferred from the data."
   ]
  },
  {
   "cell_type": "code",
   "execution_count": null,
   "id": "d0fcf854",
   "metadata": {
    "id": "d0fcf854"
   },
   "outputs": [],
   "source": [
    "arr=np.arange(15)\n",
    "arr"
   ]
  },
  {
   "cell_type": "code",
   "execution_count": null,
   "id": "60b3f73f",
   "metadata": {
    "id": "60b3f73f"
   },
   "outputs": [],
   "source": [
    "arr.reshape(5,-1)"
   ]
  },
  {
   "cell_type": "markdown",
   "id": "c69ac8e7",
   "metadata": {
    "id": "c69ac8e7"
   },
   "source": [
    "The opposite operation of `reshape`- going from higher dimension to one-dimensional is done with `flatten`or `ravel`.<br><br>`ravel` does not produce a copy of the underlying values if the values in the result were contiguous in the original array.<br>\n",
    "\n",
    "The `flatten` method behaves like ravel except it always returns a copy of the data."
   ]
  },
  {
   "cell_type": "code",
   "execution_count": null,
   "id": "8c43d944",
   "metadata": {
    "id": "8c43d944"
   },
   "outputs": [],
   "source": [
    "arr = np.arange(15).reshape((5, 3))\n",
    "arr"
   ]
  },
  {
   "cell_type": "code",
   "execution_count": null,
   "id": "297c2216",
   "metadata": {
    "id": "297c2216"
   },
   "outputs": [],
   "source": [
    "arr.ravel()"
   ]
  },
  {
   "cell_type": "code",
   "execution_count": null,
   "id": "827ed603",
   "metadata": {
    "id": "827ed603"
   },
   "outputs": [],
   "source": [
    "arr = np.arange(15).reshape((5, 3))\n",
    "arr\n",
    "arr.flatten()"
   ]
  },
  {
   "cell_type": "markdown",
   "id": "f1b179c0",
   "metadata": {
    "id": "f1b179c0"
   },
   "source": [
    "**Transposing**"
   ]
  },
  {
   "cell_type": "markdown",
   "id": "561e6626",
   "metadata": {
    "id": "561e6626"
   },
   "source": [
    "Transposing is a special form of reshaping that similarly returns a view on the underlying data without copying anything. <br>\n",
    "When doing matrix computations, you may do this very often.<br><br>\n",
    "Arrays have the `transpose` method and the special `.T` attribute."
   ]
  },
  {
   "cell_type": "code",
   "execution_count": null,
   "id": "d63b5776",
   "metadata": {
    "id": "d63b5776"
   },
   "outputs": [],
   "source": [
    "arr=np.array([[ 0,  1,  2,  3,  4],[ 5,  6,  7,  8,  9],[10, 11, 12, 13, 14]])\n",
    "arr"
   ]
  },
  {
   "cell_type": "code",
   "execution_count": null,
   "id": "f6797e8e",
   "metadata": {
    "id": "f6797e8e"
   },
   "outputs": [],
   "source": [
    "arr.T"
   ]
  },
  {
   "cell_type": "markdown",
   "id": "3a4344bc",
   "metadata": {
    "id": "3a4344bc"
   },
   "source": [
    "Simple transposing with `.T` is a special case of swapping axes. ndarray has the method `swapaxes`, which takes a pair of axis numbers and switches the indicated axes to rearrange the data."
   ]
  },
  {
   "cell_type": "code",
   "execution_count": null,
   "id": "0f991cc9",
   "metadata": {
    "id": "0f991cc9"
   },
   "outputs": [],
   "source": [
    "arr3d"
   ]
  },
  {
   "cell_type": "code",
   "execution_count": null,
   "id": "eb686b22",
   "metadata": {
    "id": "eb686b22"
   },
   "outputs": [],
   "source": [
    "arr3d.swapaxes(0,1)"
   ]
  },
  {
   "cell_type": "code",
   "execution_count": null,
   "id": "ffca4f48",
   "metadata": {
    "id": "ffca4f48"
   },
   "outputs": [],
   "source": [
    "arr3d.swapaxes(0,2)"
   ]
  },
  {
   "cell_type": "markdown",
   "id": "7f9ba91c",
   "metadata": {
    "id": "7f9ba91c"
   },
   "source": [
    "---\n",
    "\n",
    "<a name=\"concat\"></a>\n",
    "\n",
    "## **2.8 Concatenating and Splitting Arrays**"
   ]
  },
  {
   "cell_type": "markdown",
   "id": "247b1f86",
   "metadata": {
    "id": "247b1f86"
   },
   "source": [
    "`numpy.concatenate` takes a sequence (tuple, list, etc.) of arrays and joins them in order along the input axis."
   ]
  },
  {
   "cell_type": "code",
   "execution_count": null,
   "id": "a42f4c9b",
   "metadata": {
    "id": "a42f4c9b"
   },
   "outputs": [],
   "source": [
    "arr1 = np.array([[1, 2, 3], [4, 5, 6]])\n",
    "arr2 = np.array([[7, 8, 9], [10, 11, 12]])\n",
    "\n",
    "np.concatenate([arr1, arr2], axis=0)"
   ]
  },
  {
   "cell_type": "markdown",
   "id": "a9b2044a",
   "metadata": {
    "id": "a9b2044a"
   },
   "source": [
    "`split`, on the other hand, slices an array into multiple arrays along an axis."
   ]
  },
  {
   "cell_type": "code",
   "execution_count": null,
   "id": "ac2b7252",
   "metadata": {
    "id": "ac2b7252"
   },
   "outputs": [],
   "source": [
    "arr = rng.standard_normal((5, 2))\n",
    "arr"
   ]
  },
  {
   "cell_type": "code",
   "execution_count": null,
   "id": "b3d9d923",
   "metadata": {
    "id": "b3d9d923"
   },
   "outputs": [],
   "source": [
    "first, second, third = np.split(arr, [1, 3])"
   ]
  },
  {
   "cell_type": "code",
   "execution_count": null,
   "id": "7a48293c",
   "metadata": {
    "id": "7a48293c"
   },
   "outputs": [],
   "source": [
    "first"
   ]
  },
  {
   "cell_type": "code",
   "execution_count": null,
   "id": "b172550a",
   "metadata": {
    "id": "b172550a"
   },
   "outputs": [],
   "source": [
    "second"
   ]
  },
  {
   "cell_type": "code",
   "execution_count": null,
   "id": "35e357cd",
   "metadata": {
    "id": "35e357cd"
   },
   "outputs": [],
   "source": [
    "third"
   ]
  },
  {
   "cell_type": "markdown",
   "id": "740d79d6",
   "metadata": {
    "id": "740d79d6"
   },
   "source": [
    "The value `[1, 3]` passed to `np.split` indicates the indices at which to split the array into pieces."
   ]
  },
  {
   "cell_type": "markdown",
   "id": "b756f3a1",
   "metadata": {
    "id": "b756f3a1"
   },
   "source": [
    "Array concatenation functions"
   ]
  },
  {
   "cell_type": "markdown",
   "id": "77a884cf",
   "metadata": {
    "id": "77a884cf"
   },
   "source": [
    "|**Function**|\t**Description**|\n",
    "|:--|:--|\n",
    "|`concatenate`|\tMost general function, concatenate collection of arrays along one axis|\n",
    "|`vstack, row_stack`|\tStack arrays by rows (along axis 0)|\n",
    "|`hstack`|\tStack arrays by columns (along axis 1)|\n",
    "|`column_stack`|\tLike hstack, but convert 1D arrays to 2D column vectors first|\n",
    "|`dstack`|\tStack arrays by “depth” (along axis 2)|\n",
    "|`split`|\tSplit array at passed locations along a particular axis|\n",
    "|`hsplit/vsplit`|\tConvenience functions for splitting on axis 0 and 1, respectively|"
   ]
  },
  {
   "cell_type": "markdown",
   "id": "ef4d28d1",
   "metadata": {
    "id": "ef4d28d1"
   },
   "source": [
    "---\n",
    "\n",
    "<a name=\"compare\"></a>\n",
    "\n",
    "## **2.9 Array comparisons and Subsetting**"
   ]
  },
  {
   "cell_type": "markdown",
   "id": "b5f9801b",
   "metadata": {
    "id": "b5f9801b"
   },
   "source": [
    "NumPy makes it possible to test to see if rows match certain values using mathematical comparison operations like <, >, >=, <=, and ==. As a result you get a Boolean array that tells you which elements fulfill the comparison. "
   ]
  },
  {
   "cell_type": "code",
   "execution_count": null,
   "id": "29f92b17",
   "metadata": {
    "id": "29f92b17"
   },
   "outputs": [],
   "source": [
    "arr"
   ]
  },
  {
   "cell_type": "code",
   "execution_count": null,
   "id": "3ab31371",
   "metadata": {
    "id": "3ab31371"
   },
   "outputs": [],
   "source": [
    "arr[:,:]>1"
   ]
  },
  {
   "cell_type": "markdown",
   "id": "79532d2d",
   "metadata": {
    "id": "79532d2d"
   },
   "source": [
    "One of the powerful things we can do with a Boolean array and a\n",
    "NumPy array is select only certain rows or columns in the NumPy array."
   ]
  },
  {
   "cell_type": "code",
   "execution_count": null,
   "id": "4225f391",
   "metadata": {
    "id": "4225f391"
   },
   "outputs": [],
   "source": [
    "greater1=arr[:,0]>1\n",
    "arr[greater1,:][:,:]"
   ]
  },
  {
   "cell_type": "markdown",
   "id": "691d4eb0",
   "metadata": {
    "id": "691d4eb0"
   },
   "source": [
    "---\n",
    "\n",
    "<a name=\"import\"></a>\n",
    "\n",
    "## **2.10 Saving and Loading NumPy objects**"
   ]
  },
  {
   "cell_type": "markdown",
   "id": "efc6410f",
   "metadata": {
    "id": "efc6410f"
   },
   "source": [
    "You will, at some point, want to save your arrays to disk and load them back without having to re-run the code. Fortunately, there are several ways to save and load objects with NumPy. The ndarray objects can be saved to and loaded from the disk files with `loadtxt` and `savetxt` functions that handle normal text files, `load` and `save` functions that handle NumPy binary files with a *.npy* file extension, and a `savez` function that handles NumPy files with a *.npz* file extension.\n",
    "\n",
    "The *.npy* and *.npz* files store data, shape, dtype, and other information required to reconstruct the ndarray in a way that allows the array to be correctly retrieved, even when the file is on another machine with different architecture.\n",
    "\n",
    "If you want to store a single ndarray object, store it as a *.npy* file using `np.save`. If you want to store more than one ndarray object in a single file, save it as a *.npz* file using `np.savez`. You can also save several arrays into a single file in compressed npz format with `savez_compressed`."
   ]
  },
  {
   "cell_type": "code",
   "execution_count": null,
   "id": "f5d9b8fa",
   "metadata": {
    "id": "f5d9b8fa"
   },
   "outputs": [],
   "source": [
    "import numpy as np\n",
    "rng = np.random.default_rng(seed=12345)\n",
    "arr = rng.standard_normal((5, 4))\n",
    "arr"
   ]
  },
  {
   "cell_type": "code",
   "execution_count": null,
   "id": "JO9R-kyPPNVH",
   "metadata": {
    "id": "JO9R-kyPPNVH"
   },
   "outputs": [],
   "source": [
    "np.save('saved_array',arr)"
   ]
  },
  {
   "cell_type": "code",
   "execution_count": null,
   "id": "4ada5a1f",
   "metadata": {
    "id": "4ada5a1f"
   },
   "outputs": [],
   "source": [
    "#It is recommended to create a working directory for each analysis\n",
    "work_dir=\"C:/Users/Artemis/Desktop/TReND/CompNeuro23/\"\n",
    "\n",
    "#Then save your files there\n",
    "np.save(targ_dir+'saved_array', arr)"
   ]
  },
  {
   "cell_type": "markdown",
   "id": "280txlJmL8ug",
   "metadata": {
    "id": "280txlJmL8ug"
   },
   "source": [
    "To load your data:"
   ]
  },
  {
   "cell_type": "code",
   "execution_count": null,
   "id": "55b34056",
   "metadata": {
    "id": "55b34056"
   },
   "outputs": [],
   "source": [
    "load=np.load('saved_array.npy')\n",
    "load"
   ]
  },
  {
   "cell_type": "markdown",
   "id": "7ddbaa5c",
   "metadata": {
    "id": "7ddbaa5c"
   },
   "source": [
    "---\n",
    "\n",
    "<a name=\"import\"></a>\n",
    "\n",
    "## **2.11 Importing and exporting a CSV**"
   ]
  },
  {
   "cell_type": "markdown",
   "id": "39d7bb7b",
   "metadata": {
    "id": "39d7bb7b"
   },
   "source": [
    "The best and easiest way to do read a CSV file is to use Pandas."
   ]
  },
  {
   "cell_type": "code",
   "execution_count": null,
   "id": "8523ee60",
   "metadata": {
    "id": "8523ee60"
   },
   "outputs": [],
   "source": [
    "import pandas as pd\n",
    "\n",
    "df = pd.read_csv('artemis_data.csv')\n",
    "df"
   ]
  },
  {
   "cell_type": "markdown",
   "id": "0e69b224",
   "metadata": {
    "id": "0e69b224"
   },
   "source": [
    "Using `.values` when reading into the CSV file returns a Numpy representation of the DataFrame."
   ]
  },
  {
   "cell_type": "code",
   "execution_count": null,
   "id": "65dceb8f",
   "metadata": {
    "id": "65dceb8f"
   },
   "outputs": [],
   "source": [
    "arr = pd.read_csv('artemis_data.csv').values"
   ]
  },
  {
   "cell_type": "code",
   "execution_count": null,
   "id": "1b419ca9",
   "metadata": {
    "id": "1b419ca9"
   },
   "outputs": [],
   "source": [
    "arr"
   ]
  },
  {
   "cell_type": "markdown",
   "id": "87c8a843",
   "metadata": {
    "id": "87c8a843"
   },
   "source": [
    "It’s simple to use Pandas in order to export your array to CSV as well. \n",
    "\n",
    "You first have to create a Pandas dataframe from the values in your array and then write the data frame to a CSV file with Pandas."
   ]
  },
  {
   "cell_type": "code",
   "execution_count": null,
   "id": "f9e558dd",
   "metadata": {
    "id": "f9e558dd"
   },
   "outputs": [],
   "source": [
    "df_for_csv=pd.DataFrame(arr)\n",
    "df_for_csv"
   ]
  },
  {
   "cell_type": "code",
   "execution_count": null,
   "id": "e5b83e0d",
   "metadata": {
    "id": "e5b83e0d"
   },
   "outputs": [],
   "source": [
    "df_for_csv.to_csv('array_to_pd.csv')"
   ]
  },
  {
   "cell_type": "markdown",
   "id": "3b1c24fa",
   "metadata": {
    "id": "3b1c24fa"
   },
   "source": [
    "---\n",
    "\n",
    "<a name=\"stats\"></a>\n",
    "\n",
    "## **3. Statistical analysis**"
   ]
  },
  {
   "cell_type": "markdown",
   "id": "7534a151",
   "metadata": {
    "id": "7534a151"
   },
   "source": [
    "Statistics is a way of thinking about data that are variable. It enables us to analyze and interpret our study data and to critically interpret published literature. Statistics can neither prove nor disprove anything. <br>\n",
    "**It is just a tool.**"
   ]
  },
  {
   "cell_type": "markdown",
   "id": "eee4b4ef",
   "metadata": {
    "id": "eee4b4ef"
   },
   "source": [
    "---\n",
    "\n",
    "<a name=\"types\"></a>\n",
    "\n",
    "## **3.1 Data types**\n"
   ]
  },
  {
   "cell_type": "markdown",
   "id": "k9qmTjVTRQ2F",
   "metadata": {
    "id": "k9qmTjVTRQ2F"
   },
   "source": [
    "![UntitledDiagram13.jpg](data:image/jpeg;base64,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)\n",
    "\n",
    "Source: https://www.geeksforgeeks.org/explain-different-types-of-data-in-statistics/"
   ]
  },
  {
   "cell_type": "markdown",
   "id": "243a832a",
   "metadata": {
    "id": "243a832a"
   },
   "source": [
    "---\n",
    "\n",
    "<a name=\"rep\"></a>\n",
    "\n",
    "## **3.2 Replicates and sample size**"
   ]
  },
  {
   "cell_type": "markdown",
   "id": "7739920e",
   "metadata": {
    "id": "7739920e"
   },
   "source": [
    "Repeating an experiment to be confident that an observed effect represents a real phenomenon is key in\n",
    "biology and the reproducibility (or lack thereof ) of the experiments.\n",
    "One important factor to consider (and report) is whether the replicates for each experiment are **biological replicates** or **technical replicates**. \n",
    "\n",
    "**Biological replicates** are biologically distinct samples (e.g. the same type of organism treated or grown in the same conditions), which show biological variation. \n",
    "**Technical replicates** are repeated measurements of a sample, which show variation of the measuring equipment and protocols."
   ]
  },
  {
   "cell_type": "markdown",
   "id": "32d90300",
   "metadata": {
    "id": "32d90300"
   },
   "source": [
    "![replicates.png](data:image/png;base64,iVBORw0KGgoAAAANSUhEUgAAAxAAAAFyCAYAAABlWjyFAAAABGdBTUEAALGPC/xhBQAAACBjSFJNAAB6JgAAgIQAAPoAAACA6AAAdTAAAOpgAAA6mAAAF3CculE8AAABWWlUWHRYTUw6Y29tLmFkb2JlLnhtcAAAAAAAPHg6eG1wbWV0YSB4bWxuczp4PSJhZG9iZTpuczptZXRhLyIgeDp4bXB0az0iWE1QIENvcmUgNS40LjAiPgogICA8cmRmOlJERiB4bWxuczpyZGY9Imh0dHA6Ly93d3cudzMub3JnLzE5OTkvMDIvMjItcmRmLXN5bnRheC1ucyMiPgogICAgICA8cmRmOkRlc2NyaXB0aW9uIHJkZjphYm91dD0iIgogICAgICAgICAgICB4bWxuczp0aWZmPSJodHRwOi8vbnMuYWRvYmUuY29tL3RpZmYvMS4wLyI+CiAgICAgICAgIDx0aWZmOk9yaWVudGF0aW9uPjE8L3RpZmY6T3JpZW50YXRpb24+CiAgICAgIDwvcmRmOkRlc2NyaXB0aW9uPgogICA8L3JkZjpSREY+CjwveDp4bXBtZXRhPgpMwidZAABAAElEQVR4Aey9B6ClRXn/P7f37Sy7S9kFpIMIosaGVMUaRUWN3SQaTaI/W9QYExM1MbEn0URjFDWK+RvU2LsIsYEgRTosLGV7vXv7vefe//fzzPucM+c977n3bGFhlzO75868M888M/PMzPPMPNNaNm8fvi7MYVpaQ5iZrgbCr6Wl2q/oa2Ym+jostrtr4YU0MdNKczqL795pko4LOHc7XGp7eq3V6A2kVEoho9vha0NCqOBIc5JC5v1zhAv58DRutZtyYWKannk83S2n0BVhdLJVwmYCfi0JNGEOJ2c5JPXDPzWecr5UEaaSWhoHt8drVcMpiuvhabx81VAvbbkkWpxIFrEAS+I1I3caPd+mQdFSlLk0U2V3bT2UiZmliVVpL+WINY4pUHm6SX7zgC1FyKyDqFRZ2VrlLGUVCL1mQVfYD2MrqW4n+KXthnw5XD6P6XdLOR8p1VOI/dM9KZqPjY2HyYmSaNgSpmZKobWtrVyH0xAd2ucbcJ3itirq3jLUOb/dMTPqIFSZRXccOWYAP3eeXtQc03SL8uFxPawIh3fpNAw/j5umkXc73tS/lU7RkGkEzjtqirCReCl8xd2CIM2ZonK25hgTPTKrqVzsff/ZGltMOWGaTDF/qKZTvRK0ttXSpIzcHTER/zKbmsEbvIYBhzzqdcMynIBx580MAgKEqVGjNNgkizVx1VhnxCMqPDMBTnEVur19NRAnA7GxmHBNTxUijJ4JurRfEWik9LgZXB7G4KZjSanbVgOIxJnODdIK5VTMxW79pU8n2TccDXfpBlK08qtMlfqCJvmKR65W/NqKGE2W1pxyz9HUNJwGMvsgA2lfu27tyfk8zSSEQkDWM0VhRX6OryjMcRM2W7jDYcfGG32IMxf+RvGmaaTuNG+Oy+0UDrfnpeIfW0sKn7orcLWuFM7d4Hc3MXCn347F85GGFcb1CImdxsG7CFcCXnbm45UD5EjD0vpzmDTc/YrsPFyLmLy30DQsLSv+YunGElKYIvztBQK9CC7F4+58muTLaZficHj3o4W4X8uMl8ZDE7totutxM7kznesPLo6K8lFv4FrOS9a2prMRXZV/mepJ/nJORT8gDcJreGQkrF+/IdYbwpQfM1QZr8LW6crQxWlXRJDZwlL4RuHSOPXcRbjwc9bv4bMNvh2GNIraV1HaHsftIpiIKzaeCpxL3UoMwirhFf+8q4jf5GH4brQMgqxKt5E8FKWHX6N5azSNRuCgbCNw5K9ROGBTU0TLorIW4S/yS3G7O48vTbNRHBU455SOvbjspFGJE2Hz3yZoxDNT/9RdSaG2/sGfplEvXorDYdxOw4pw4TebKcIDfErvmUwm4F+Dr46cAjY19dJJYdxd4aTRp7VAuBTjq67XIhj6QzY3KtcZcPxLTaq8zIelcAVZS4PVsKo/9+evdh8cpIXwBgER0waYwuyK2/HtShyHLarwNM+eR+CLYOfyrxfH08cuyn+RXxGuIrgiv9niEkYct93teSuK6/nPw3ra9eIU+ac4HO+e2Gn9gacozYbxixfO2WEbRtZ4XlI6uptknFbY6cSgKgv5DGdCowqm4GNP6JQy/wrqaubq/ml5vK5IGzd4YtmqhVBh3jKQwjBPbD+0KU8pE6BtWnmYknsmEZo+gRDBrHTAO033N1oUjTWKyuJ+aXUWldXhisLSuAzSo4nStgjecaXxiuC8DadwRe6iuEVw+JG2w+PO58XD6sV3/6K8FcXN4yd+o3CeltvEy2t0PSy1i/Cn4XO5dzd+UVnzaYE7D8c3Pw+rl36Rfx5XPr3ZvoviMsAtSifFQ3gRjPu5ncbJux0Gu6gtAZ/Pn8dJceVhCMvDOX78gffwfFz3T/HvibtIdjU6Bo8yuJK6c5WKT7ZwnJWHMtaTcWmcWScBB6jcqyp/9tFe5Jk2AHe7ncIX+aXh7k7hUreHY+NfFJb6pQ3V/d12HClOdzuM2+5fL04RXJp2vXgp3oqbpl7dbIs6RAW+4krhPE9px039KrEqLg/H9vynfvU6ocM6JvJBPI+LvzMTh9kVO4+/Xtw0vXow0FZ9v8bk02BQl/crwl9UriK4fILA5PEDU+SXj9sIDHFII5+XRuMWwQldXePpODMtSrtu5IdAgPXqTOhAG2uCuXboNHS7HlnmCq8Xr8i/UVyzwXmY2/l0Un93u52Hne3b47hdBDtbWBF8kd/ewJHidXxuE5a6U9i53EXxUr7v8YvginhVUVzH4TZttwifh6d2Ed9Iw3EX4XK+kYdt5LsIX1G8fN78223iFOFKw4vwul+jcI2kUQ8mX4ekWQTrecrbDt9oXok/G2yadh6uXlp5OHCkePJ53tXvPH4rQwGS2jRR4sGUK/mphSEUmsS2UhRekFTTK6NAe1HlFBGxCG5XqQjeXcVTBO943PZ8AOt5L3LnOyvxihhuUZpFabhfanv67hdxVY8sivDn8wFMKdNq5nGCO/VL3Z4ufp6O24SlbofN23l8xIF27u/2XPEIJ67D5+00vofN5ZeGR7d1/5o0CMvj5Dv1y9Pc4lRXlSWRxjEP/cnTMf9tuJI68Hj5PKRwno7bHie1i9JxP+K5O42Du8gfys1lPB72bPmaC8+BFC5SmIEe3keRQmVa5Qqb0s5hUpAivzR8X7s9v27XSz9tb0VlqNdeUn/i5eOm4fXSruefxwVcUT8vit9oukVp5PGBqxF8RbjKbSpBWoSryK8IH35FsAn6us7djVeUj0ZxFcXNZxBc9fC5v9v5uOm3w3ifTsOK3MB7HA/Pf+PP1r/UP3V7vNlsh3e7Edh6dHMcbteDy6fh8O6ffrsbuwhfkZ/jcdtx+Hc9uwhXo3EdJzjmitMIjOObzUZZ6ecgZoM7EMLaZyNqUViRX0qIeuH1/NO4RW7ieVy308FsGsfD8cu70+80TpF7LoEDrqJGXYSrLTsQNlf6Rfhmy8dc+Irygh/xyvnXykJ+KbsoH8QjL54mdtFkrF7cev7g3VXjedjVeEXwRWUQdYpAd8kPvPXqbjZaEFaum4IUZyv7bGGgKg4vmC0VpNv0ylFATcTrl9ZidaqzM2UaexPKRiVlf8Gm7hzWOT8bidsIDAnNBUc4v9naa5php0fqV5RGHl8RjOMAZx7ew7CL0kzDHfdsOFL4Rt1zpet48uny7XkCBnf67fFSe65wh3Vc+TQ93G3Dp3RFWPeqsb18c+GqiTiHR6P4GilzEa4ivzmyNGtwI/kAQVG6kBd/x1EEQ1wPx11k6sUrgt3bfo2kXQQzV5l2NZ97C19RXnc1L43C2zbWpI/trTI0mv6+givcwrSvEm8knX1Z6Z6fvZlmo7j2ZQMr50kNvL4YcWpEuxyn2rv5VUCBfVmXBck3vfYBBegPzT5RIfT9QYu5cM4VTu7uj774QKVbofYeupKBTRGmRspXFK/p16RAkwIVCvhZuAN5NSKvgK6UvulqUqBJgSYFmhRoUqBJgSYFmhRoUqBJgSYFchRoTiByBGl+NinQpECTAk0KNCnQpECTAk0KNCmwpxTwlYg9xfNgjN/4BIJtk/zLlu59mdNtCudhVlCWSZOl0pp7g5Nw20aT7Rt2fHyy/Mx2TVK2vwm+9Ns34hCXPew84sIjMPad7TOdLqcXy2AI9ScuccfEPW3Si+nmyhQT9ahl29OJwdX4Hciz7tnwtGIZs8I7cERkxbb8KRh4j5OCNd1NCjQpsP9QAD4Ib4l9OdlA6AzCi5KyhFwYsSLfqvAFwPmlPAJ35B/iiRle9/PvzLtsVSebQRmeCBLjZ25Z5bykEeXv+QGykmaGT4HkC39+BpPCuV8d2yL4H2fU2bfhy+I5iNuWZpkS7hvtOlGqgZpfTQo0KdCkwG5QION8uxHzwR2l3R/QSLNZFk6ZJ0yZe417unv0EnAcoHfo/nNeHJwsTZUP2HI3+uTkVJicmgxdHe2hu7PLBERbe3uYGB8PbZ0dOvmmIb6eylXsMDQ2Eib12NI0LzNZGq2ht6c7dLS2C2Y6lBA0CpuYmAhTU0pHaZc0MeCQak9vT+ho7zD/kYlxS4fZEI99dCi9zs7O0KIDzCOjo2FCtxm1d7SFeeRHMFOkPTyicASryibPvr5u5SleTzqsV2ZJt03l6+qWv8o6PDQUbyKSP5MTDppBp56eHt0JL/xt7QoHO6/Ujll++OZVTV4bjcJSeYMuwsmEpqQyUTbwTJMJ4JW3LpWrt6vb8IyOj4XW9jbRAmIYev1pGqcAs3uoDnkwbqd+MaT5t0mBvUMB+Ewjmhf4mnVZ9Wt4Ce7Oni7xpo5QmpzMeAZtVnxNTx1OTJb0Ez8Qz4DHtSmVvr5e8Se9di0+Ozw+Ib4jXgH/Ea729tbQKd5AKi3aaKskxNvEq0YnjEfB20gUXB3iT329vcYv4aWjSh++FHNFHrIHGTNePy2e1kNexUtNGSNE8N9xxeUV7iB8ZmBbwtLaKr4s3t/T1SXe30WiJh94I2NaeRsWTyQv9Ev+wj+7JU+wJ5UX+CBuXnuFTpSzr6/P8q7M6T9yZzqMS44gY9pVbl5wb4O3Ku8lvQbe1daR8X7JBfH8CdJUnEkOuBvPVhlUFwP9fVamcaU5OaUnqlo7DLfnzrKY+0P6TXPgUsC1xPn96ojl1BSNl9LwpntfUSDlwFRSVlG5F9vde1/linTybSimbdzY+Ni+zMv9nVZDh6hhnqMaiN9w/e/CpBg4jLxdg3x76l2MflJCBSbPQPvgpUvDqlWrwl133RXWr1snYRD9qV4GzbwITKfs0DO4x510QugRM58UPh5xndGk4YYbbgx33Hpr2LJhk/h6e1hx6KHhMY95dJg/f36YFMNnIN7e0RFuufmWsHHjxtDf3x+OPfEEJd9qQnpKAmF8dDjcdNNNJmiPOvrosGDxwjCkCcB1wj2uAfmqhx0dlh9yiE1e7Ml5yYbrr7subN20UeksDMeccIK1x63btoabb77ZBOdxxx8fFixYYAINerRLsG7atClc/dvfKh8bwujIWDjooCXh1FNPDQ972MPKghph366yEoffNuGkjNBrxbJl4Ygjj4w4TWxKIEqIXnvttWH7lq3Cd1A4SrgQrODhWaqmGLu/u0QTf5MCe58C9OGhoZ3q27dpAD6iAb3UFeKD8McZjV56BvrCSvHN/vnzbBJB2FRpMlzx61+HMSk7Djr44HD4w47KeG/kdTt3Dobrr/1tWHPXGl0nq8G7BvzHn/yIcNyJJ0k5oUmLeNSUJh0oLdatWxvuu/seeyX72OOOD/3z5pcfw7PSih9Ni4/Dw8lVV1dnWL16teHfsWO7BvilsHz5inDSwx8eDl+5KoxPaAIi3o9ChykEk5J+TXY2r98Urrn6auP9TAzmL1wYTv+9R4dlh6xQ2lIGWX46wohe8r72mmtM2bRkyUHhaPFpBvTwt67urjAmefOzn/0s3H777Ta5QCF0zDHHhFMe8QjLG5MIeL4psBQJehLnGvH94eHhsHjRonDsMUeLd7aJvuitxEMlX4ZVB9dcfZXhPFp0WLxkiU0i4Ocz05JjTdOkQJMCTQo0KdAQBRqaQMC81669L/zFm98U1q9da0we4cE/SREx6PjQOJqu573gReG973tfuPjii8MXv3CRGHebBsji4Ewd4OQyWEwI/vPzXwgnnniiBtgSlor7sY9+NHz9f74SNmtiYNJVf9ukzXrUox8T3voXfxFOPvlke/GVFYbPXXRR+MqXvySBdkr4lNzzBubZQLy3pzdc9rPLwuv/9NWho7MnfPTjHw/PeNYzbVD+mlf/oQb6o+Gkk08Jn/jUp0woT0nItUr4fPxf/yV851vftLQ+87kvWP5++9urw5+/7rW2UnDRf10czjrrTBN8rCB861vfCh/7yIc1wbhFglcaOTMt4dCVR4aXv/IV4TWvfrWVt43yS3BhEFKXfOWS8A9//3c2EDjjzHPDJz7xidCnSdB4ScJTdGlRXj70oQ+GH//w++GZz3hW+Ng//2ukn4Qv6yVN06RAkwL7BwXgdygNUBZEHro2vPENfx62bd1qSglTwNCrxft6+ueF4086KfzZ6/88nP6oRxnP2LhlS3jXX70z3Hn7bcZX3/P+94fhnUOhU1r+X/7yF+HT//Ef4YpfXG6Dd6fIvIWLw1Oe+vTwpje/OcwTj0UhMdA/ED7/g8+HD7//faFvQHxX/O1kDdpHR+OqAHHJa5w8kN2W8MlPfjJ86QufC/fde6+jNvtQTR7+6NWvDS95yYul0JkUcFwt6OzoDv/zlf8Jn//sReGmG2/QKoFwZ+bQw48Ir37d68ILXvACWwmBzw0N7gxvfP3rw6b168Lr/t8bwzFyM3Vp1+rrzTfdHD784Q+Fyy/9SRgbGXY04pMD4cxznhze8P/eEJU0Wslub9fER/y1s6Mz/OLnvwyvf91rws7BHZqMHREuuujz4bjjjwtTI+PioSWtiHeGazQh+eM/fJVNMj700X8Oz7vwQoWPmuxQUZqmSYEmBZoUaFKgQQo0NIFgYsDgd/khh5rdptWH7Vu3hK0IQg14Dz38MPMHDo2OLUXLjYDp6GwLhx++0pak0e/ApNm6MzAwYMKtXfHRlv3X5z8fPvuf/xlK0lAdefQx4dhjjzUBd+WVV4Rf/fyy8Nd/PRT++V/+JaxYscKKhtCdltaNyQnL2GjPuiQgbLmd5etxJjWTgQmC1Pf6VZa/mRgwAXnnX70rTCmPtjVKQogHfCa0HYq3G6wM2bcsw4tgZfLwf5dfHv72b/4mrL13TTho2SHh4ac8XFuvesON0n7dccuN4UMf+CcTVq9+zWukdRzWxEBL59ouNSat29e/9lWt4iBc28J10h7eeMMN4QlPeEIYnRi1/FM4tHQIPLR6PulCm9cmTaINSLKJGLBN06RAkwL7DwVYRYUnHaKV1VUajLPVBqXGLVp1vUJ87jPamnnSySeHbm2NZNIxJXhWF9i6A5/q1uTh1ltvCX/37r8Jd91xmzT8i8PDH36yVhTmhXX33Sft+jXhK1/6vA2Q3ydFDvwK3gG/xB4fEz7Z4CobOeEzqDkYZH/xi18MH/ngB5XP8XCY8njscceZJv/6310f7l1zV/jgP77f+PlLXvKSMKZ8EedyrRb83bvfHQa3bwkHH7wiHCft/oCUOtddf224e81q44mk+LKXvdz4LLybba2T4rfwYOQA4evXbwh/9ZdvD1dd8avQ2duv1YvHh8NEqzs08L9OKxbf/t9LbCUHxUu3tjiRb7Y7wbt//OMfhe3btghLS7hz9R1a6b0hnHDC8bGsmkiRALICWsLnkV1tbD0V74ccYvtN06RAkwJNCjQp0CAFGppAMJBdtHhR+Pt/+Htjtl3S9lz8pS+FT33y38JCLRW/531/r0nC4bZnn4lBHNzHVQmWvf/pAx8IixcvtrMI7OdHgKIZY7IB479eW3Y+95mLwrSY+vlPf0Z481veEo44YpWW2GfCV7/61fAP731vuOHaq8NFn/1seLeElKSGluV1nkKG1QgG1Zw1QCB19GrnsAQKwqFde40RlAgmTLvSnOIn4fW1r34tPOOZzwonnXSiCen2THqYnt/mG5xzkIDRT46ylm/Hjh3hM5rorL33nrDyiIeFf5Kg/b3f+z0T9jfeeKNWPv403PC7a20y9JTzzw8rli+XwNb2AgnyX/7859p6dZPOb8wzGm3RlqmfXfrTcOaTzihPwNgfzdkSTJtoZWcotPLAYILtXzYZstDmnyYFmhR4MFPA+U7MY7YH1vr2THjWs34/vPWtb7WtlVPaHvS2d7w9/PAH3wn33HNP2L59ezhU24FQtESVi3iXDbBntAI6LD74GZs8HLT80PCud70rnHvueeIfLYEtl//6Lx8PX9YE4Iff+04455yzwjPF44y3mdJBfBHeCHthxOxGbAUeSho333JL+A+tzk7pLMYZZ54V3v7Od4ajj3qYto122iruhz6klYGf/jh85tOfDo/WSsmxxx0bdmzfFj4vhQyTh6OOOjb81V//dXjSGWcYD75RqxFvf/s7NPj/Tfi08J533nmRJ4rvw6O15GpbrEifbZoXX/ylcLWURj3988Obter84j/4A/HL3rBxw4bwQfHa/++Lnw8/+/EPw+X/939WNrZCEXfDhvXhZz/9iXgnZ8y6NCkbDr/U6sz55z9FW2G7jX+XtGLBebVOnYVj9cUnVcRHYSTm6hRp2k0KNCnQpECTAnNQoFDnglbHNd8enwPLyzUYPlTaoMNXHh4WaHmc8SxC4BCtChymCcTKlSvDQu15lXe2HK6Bvgb4Rx11VDheZwiOOVYrC9rHeoLOGBwtu0vaNNL59je/Gdbfe1c4fNWRtvT+sKO1H1ZaeCTdBRc+PzxfS98nnXKqTVBY9WA1JG6L0koBgk97oLA50NwrYYN7RoICAYFBmy8v2yIE7IC0devvu8e0bKPaL9vdFScawHJeAYNQcRE7LWHHfmLSvf7668Oll/7M8L34pS8NZ599tvBrb63wnHLKKeG1f/Zn4bTTHxUOWnqQrdAglDEcrL7kkv+RBnBYgv2ccN6Tn6yyl8Lll19mZykQapSJCRUTJEyJVRGd6fC6cNsCm3+aFGhS4EFPAe+zdmDZtnvGvs12IZQt83UW4WCdb1gqZQqmX9t0eqVsiGezxINgXDIt4gndUi5ce81vw49++EP5tGpwfH549nOeI347YwewBxh0v/kt4j+P1irnaPjWN74ZhnbuNBxxgEza/Dh3EfOhj7JBKfO9735Xqwyr7YzYmzTBOeGEkzSsbgnDGqg/5jGPCX/y2tdqdaQ3rFl9W/i2tnH26NKLK3/9q3DpT34iWdAR/ug1rw5PffpTdUh7IkzoMo1TH/nI8Jd/+ZfhBS98cTjjiU/QOYUR45deLhU0nr0Qr9+wbkP4jmQBq8hPfOITw6v/+I+Np6MYQva84Q1vCOee/4xwos5hbNCEwmSEyoPS5cc/+pFNqg7WubJXvvJVNuH56U9/aqs1tt1WtEcZZOkiH1R+/G3eUKbA3nHEsrn02Ds4m1iaFGhSYP+nAHzHf/t/aTRe3pVCTEmTrtKHdjFjG+gqMsTgBg1uvJhgaVwcGb9oWgIa+4su+qwmFovCiLbuIKQY0C8Voz/zSWfaYP/666438BM0yUBQsMTMbQdjWkJnMvDaP/+z8KpX/3G8LUnnBRjQswyPMFxz55rwbmnhGNwzWO/UkvSau+9GRiImFUcrCdp0q01OylfcK/vsZz8nfEPnHdD+X/rTS8MFz/n98gpDPM/h+SdbciPEKbfSQEM3PjoUevvmhdNPP93KTnkRGmgOn/rUp4bHPvaxVh4GCCyVcyCRbVO//MXPzf+cc87WQKEvfO973w533XWnltqvD4+WcHWhGoU9SZM2yaOdS/NkaJp/mhRoUmA/ooCtQWT9+Fpd2vBv//YJUxps0oURP/jBD8PA/EXhec99blisbUnj4huoMGA9GPggNyaxfWlIh5q5POJRj350pllHQaIDxeKr/eI5p51+arjil5eHW265ScqJjWH5soONDxoi8UBuJMrQmpfhF9+2Q8jaJoQ56aSTbVV5WAeTWS1mm8+QlCRHHHmkLrY4LKy+7eZwxx23hxYpPW7SpRBTOgd20NIVdokE2zbhlcgDLrrg7NrJOusm4NBmSiMulqA88DTWVdki2xruk1Jn/fr7VNi2cLrKBt/zG/i4xGORVrs/pLMRbJtiu+qk5APpcEPedzXxgVcffdRR4cUvfolWc76vA9i3hZ//3+XhuIefKnmlW/w6u00pw4q689omW6W2m6ZJgSYFmhTYdQo0PIGA4drWGnHceDVpRQR5mNnA6RdNW9i8eVP46Ec+WJOzY095RDjn7HPC4OCgaecBQBNn+341QeCKVQ7bIWJ6erttZWOS6wOVvolSS6M1bNZBQw5e1xgtjVfy4aEzdpvUeeeeaysnF332P8O///u/hVMfcYquH+yOQIZXaWdRSB/hzTYktIAjOsRIrubNn2fnMdhX7OUmCpMJyoFhkjUjwcUE4nKdm+Ag+uLFB4VHPep0K8/hhx0uIXxb+JG0Z4983ONsCR/NJKsdZpRuJSfRq/m3SYEmBfZPCsBTjCepj18hrf21UirAL1DMjOpmphWHHBa3ekpzD5wpJmBAWTy2H23ZvFH+0zoM3Wf8h4E1fJnVS65/ZbC/VNtFMYNS3kxIaYMiZTbDxKZVW3/YDsRKKWaRcLCiO618MBHoEn/kJiPOYHDTHhOIYW0T0pqptguNWJxlUgqxpdXgtTLxWSmOLv3Rjy0ON+xpPTW86MUvDs+94Lm2Qmz5Ek7OJcDrUUJxJoTtnqtWrbKVCmhgPFE0Y6V3nlaP5ytP8FZ+KI2u1GTsd9ddazR70plnhhOOP84uvLjttlvD97///XDhS16ps3jtBg9dwdM0TQo0KdCkQJMCe0aBhicQVckk8sgHzz7ghjnD9KOB4S8IZ519tu707tdbBnGLjs4Uh0N08BrB16Flb3F0A0eAIQDHtPzdyj3jggM/V/YNDW0JXdJMycMG+7y7gPZq6UEHhyecfYadF2gTGu4Hv0fXFV522c+SfAhUWSJbrH6gtXrda18Xfqo9s9dcfWX4wuc/p7zEHHNOgmtmEWj8TPbKRlChhfMtSbx5weSHQ91otDAunPCHBkyG2HbAKgy3piD4jz7mWNu6wOoEVxKixfvRj34YXq5bm5Zp4sGExA5+G8bmnyYFmhQ4UCjAQB31h0ay4ezzzw3PeuYzTetfmpgOX/ryxboS+orwvve+JyzRAP2Rp50q3mOnnqz48A5WR9G8Y+CJw8M7xcvimwcMztn2hOFQNsa2Y+IXvc2PP86r3QMlhV03Lb6IsgTDddfga9MlGMSYmEaBovcoxOtGtT0K06kJC4fC27hGT4YzGzsHh8Iibcci52vXrw9XXXWlrViPanLAWxVnS2lEGpY3z5d4KXzVUhaPnVI627ZtM37q8sUmC8of13FT9g7xVQ5vM7n4kSYJ27dutu1fbJUd1TapR2rrFFtkr9GKym911fZZZz5JeY/vaHgZLdPNP00KNCnQpECTArtFgYYnEAyeTUxk8iieQXAJQNoVXTlwcRtOvJXpr3Wo7iAJlXFp1pgASNTZ5IE7ynt168iqI1aFG2+8Tsvzt9q5gQXSfo2J2aOZQkB84P3/GH512aU6Z3FEeKcO9S3hnEV2deyqVSvDe/7uPaFLGq82CR4eXuJMxWXS+NtERunFxX9yhc5LtyGNjSrNleFP/uS14a/e+Y7wJR0IX7hgnsKjYMYmrgsvtGe48eMMSGtbl95p2BxuU34598CWKyY+aOy+9rWvhX/+2EeEoTX8zbvfHc4795xw9VVXhd9df538WnTA+vpw4fOfb3TYsnmz+d2qbVHcYvKiF71I/qQrbzc2i8loq/T1P6NttOtp00y7ZzhSZI40tYVbIOD1kQZldTf+/IwWsQWkkeu4DVk5zHPgNnUwtwFKP9UptLQvVSGflJl2AWlwe8tjTzP5Nprg5tOwQNbGUiVG0zQpsDcoYM3PWi7Y1P7Ur7xvHyG+dcEFF4SdOqPQ19MXDl6+LLzxzW/UWw13h5/88Afh9EeeVu7nlhe2/GjAvmrVERo8d+q2oW32Rs0TzzgzDA/qXQkNrrlRiAH9DbrMAcPtd6wKcHCYCYIZ8iBH5ISxT/ANj+OhOc6xXfHL/wt33Ha7nc1atuIwBWaTl65+rYBs1hmJNYYK3DwuCk/ErF69WofA14Sjjz1aKyqj4Q9f+crwcq043K1tpm9505vCNh2y9nNvrDRYfxVuex9IeeTdmwXi7bwfBL/s0BmzceWXyUOntr7uHNoZ3vzGN4V71txpl2285S1vNSXOFVf82tIfkzx5l27W69RqQ5wA8TjfpM5qfDM88QmPiysdwscKLxwq8jQVz3gDvDXWEbZvI8X90DaiS2zIRgaUa0Y8LPnzi3xXHmpikV54EsiEmYksspP2J7+GTJ7mlXjlELwQAMqAh1KfbizYWrnHyMKwiBb/RHDzi3BUd+ynEYPHdrwWufLRdDUp8JCmgM0JGqEAjIM3DdhrSyeb0YDZDG7xBltCV4dtU6e2B3mMYdAZGdDpOlJxF4QWQ0FmLa0SGDo9p5uS2sKZZ59lW4puuumG8MMf/UDaqJbQL+3RPC1lb1m7LlwmgXrrzTfbEvfSJYuFD+FD+jN6SEivmI5Ja69rW8cndN2hbjQZn1SmlFc94ay8Muokzzq3wTKDfootHCH8vm5CefRjHqtJy+Zw1933Cp/8FQ9BTDn5jkbCW6sfHGo+7bRHhpWHr5IWbDx8TYei2Y+8YKA/DOhKQcr2E+X/pht+p/vT79ZBc01KRKyf/PQnJowRXAi3DRvXhw26/5xJEBMezKXaxjTNREQ4jBPjKdq1iRZditOjlZU+xeeGEQbPNnAWwywScOS6VelWfnwbOqEUw81+xvClZTTNJcm6oe6s/vDkUDefwoq0gJbyMrf8WqCvSq6a99iZTdz4s8G78uN2DrDwk7bSNqOHrRSvvcSqEAfndYOXBlEl3TjDuyFMDNvk3x708m1JlNNCEOIEgUZWyTIveJfUVnjEqmmaFNiXFOB1Z85f0Yfo6/CH2K9YKe0wpQODFVZmQ4fardo2fZ9b4oCzQQ5eMnS50bEpu6DhMG195BrU73/v+zp4vDYs1HmqHmnk+3o6w69+/cvwC612Yn7v8Y8N8xYu0GNvdNes/ctqER/p0apBf4eUHupLPbK71GdkhSc+/vEaYHfqLYYbw/e+8x35a7umeM5CHZye0bmMS3VV6madq+jUlqbTTjvd+OjpOrS9fPkhUswM6ZrqS8IwZzS0bfPYI48Mp+rA89atm3R+Yqd4KPxKZckUMuSxJZMprCoccsgh2n6kRzxV8p9LAXT7LTeHASmY5otHzhd//YXe97n80p/aTXbzdQakX0qj63Wo/K47V1u/nyc+vGPHNp2jWK+JxU5NtNiW2hKuu+qKcNftt9pq8IwmIz5BgLSsEPeKBl2iBxdZsDpNnZgSQuG7YyJPVkH3czOD7NavxEvfrZqE6of6r01tmZ+opHalLXjy5x8tDG7cIp6sRhamJUdZAIOHt6nOGzfQrvKjH5S/lAh8Pf15mOOXVLCxCi+4E9GmycRRPqhX4GkXFk/+NmEo+1hgJleRI9W/GNr826RAfQpYs6PpJT+H9skp9oFgGMvPaWxQJig0QRQcBhm1Dgxko9YGDbyNKxlMauA+IYEg1hF26MzApz79nzp0rDu7FV8IbJ8rby2cf/5T9ZDcCeFJZ50VzjznvPCTH3wvfFhX9W3cuNkO4/Fo0iWXXBLWrLlbZw50wPB5F+oxoXkmgGAA0ZhYztysILDKoc9sAIwmyfJr4HFFgwE0Amv+goXh9a9/gzR5t5omyyIywcjKGSsZjVWb4cUfbduFL7gwfOAD7w+XXnppePvb3hbO18FpHoPjkPR3v/s9y8tTnnK+hOHxJsy+863vmN8ZZzwpvOMd7zBG1iY6MAnizvXPfubT4de/+lW4RkvtZzzpSUZTItwuLeBHPvJRg4O+MMApMeITdSiRw9qUzctnCSR/ygOGMp1EEpXbqQao5HkklQ1WvJbxE2s1GkYYdi9jPC6Cgz3TsGbbWiGbwXy1iHBowbjTbcM29x+EBBOfmLCEltJp0zaJ6Rm9L6KBR7doOKlUp/TNfNHgmPhRTkWmfFYUCbkoguZOswnRpMDeogD9zYx1J9zijZli4rbb7ghf/u+v6BXkKeOHF//3l8MmvWjf1d2rG+tOFA+g6cJrIwpWgCf0XgID9Vf90avD3/71u8LVv7kyvENXpD5HKxkLFszXwPrW8F//9QVbHWW19tnPucDiM2DnQU+2haL5v/jLX9YWz8sjP9GKBdsx4WvgOfOcc8I55z05/OC73wr/+vGP69G77XZZBJdfwO94xwZz3nlPEQ96mrYa7QhHHvkwPSz3MvHEfwjf+N9vSgHUFZ72tKfaNqOb9TbOZ3X9NisC4DAuIxpAG3RIlJErYiek/BnQI3eveNUfht9ec21YrQPQb3j9G8PLXv5SraIsD3dqkvDJT35KeEaV18PDk5X+yMhY+N73f6CzHtu12nJkeL/ep2AVAz7NllkeM/3kv38icBbisssuC4/QllH4JalyIxO3SN115522aoM6gjX2JVopv+C5F9hKCbDgeqgasU1RRdQymZ+55VNp1tBMhgf95I9SsEUTi25NjpkUT+gGQejMJCIyaIAbNVnfMfCKO65IRxwmp7L+AYTJazqM8kCafLdIgFAOOgJb14Bju5+56YvIBuRf1tFoHriJj0SL/TWm1/zbpECTAtUUaGgCQQdDyHCIzjqlOqLdyKTh26TOK9DJ8IfZssyuj/hTR92ycV34j3//eHWq2dfhK1fZla5LD1oa3v3uvw1bt2wN10hb9LEP/ZMeTeu0g8t09/kLl9h2o6c94+lhRPtbe6QN45YSzJgEU5nJq9OjQcLMTOvRJN31zTWoGCY601qtYOXAtlApn9ww8rgnPDG8+KUvCf/6sQ8bnAt0you7pDilUhSyDPg5n/CaP3lN2Lh5Q7hYwvorX/nv8BUd4mZVoGSHH9vCeZoYvfVtfxG6tSXgG9/8hpbjrxU3ag3Pff7zwqN0FeK49gNPCpZbRTZpK9QXv/gFDR7Wh29/73vhiWedKe16zDO3qPDLm6c96znhqU97mk1qokCMTM/hEMoIxBpjXLbiy7YGu5FF9WWTCdmsGFF/kaGylB/D4i1Q2gdNdIUziLdBORLEODR1ntE+lzb8GxPZN/bcBiFlZVD6LaoL4nSwIqHaU+vTJm3t0R4fDJ3SQnZ0StAzIJEYm1I9s9qkFinNl/LOYEECbkITDCYkTdOkwL6igLd7a/EawKP9hKeot4bvfucb9kvzwivRz3v+hToncLb1P/gaN85Fo7bM6EbmAt3UtF7XmH7hcxdpReAH+v1EE48OdYl4NmHVUceE97z3vXqtmeuwx7VNVAoQJt7CNa7zEf8tfpM3J51yWni6zmTM1yFltl7CX3/200vDv//bv4i3aeCvPs8ZAo3IwrMuuDD8pRQhrRooUpaSBlwvf9Wrwl33rAlf//r/hkv+5+Lw1Uu+AptQmaWoEf9+xCMfFW763XUaVKr8Kgd9cWxCB7bVp9nu1KaVAG5TOuvsc8Lb9fo2D9ldffWvdS7kKtuyNTkeD2oftvLI8BZdL7vyyCPCzZpkfFurJJjH69rXc5/yFOOtfHdIflzwvOeGr3/jf8Pae+6y826vfMUrrBwcFOel7G9+4+v2A97NMcedGJ6ua2jjDXrItocu0zDlDYRRZXGYHjZvnBiSGL9Vc5Bflwbs7fp1yr8FGbtzhw3Q+7U1j50KYzrj0yL52LhhFF+he8UVMVS+XaLgz0RBmdHPVvvIr9qqFvANlZ8PQvHpOWnVysq0TTaYUMbJOnDUOduuhNLwxVTj3yRbqXfT3aTAQ5ICccQ3Z9HV6TIGwKCRJfZjjjkmPO0Zv6+rBxdIW4MGaUKaJAkU9TtWAU497bSwQw8bsfUnaqnVocVMuE6PQf60VgB4PwIBx2B9ma5v/Yd//EdpsP43XPWb34TNeum6U3DLtc/2D17yUj2WdG68IUSdmzxwv/jgzkFpv47ScnqnbYFiaxMatoN1beGznv08TUI6wrIVyy0/3CryrGc/2wTYUg4rS5CZhklxXvqyl0mTttVuLTnq6GNsjywDZvYlP/P3n2eDa+4XH9GEg0OEHI5+29veEU7Q6gkrDiyZc4MID+NxC8gLX/hCmxyQBgPaJ0tTR/lOfeTpYbsOVGNgbhs3bbZD1S99xau073ettF+L7YEjViEWL1osekUmaFcQSnvIoJ63LR77+CcYk2NAwiDD6yatRnifmwrDdZ/M1gQCLsnEEJsJlv7anmkmhhyKtDTlCxdmcsjh9WjH26J4BwReywSNf9WGlNPUU3c1ZP4LTNMZU0cItKmeulqmwra1d4d1d90RpnQjV4e2NLV2t4eBJYvCcg0sOvVA36iKZNvbQKAfKbKVq/GU8zlpfjcpsHsUULOzBkjbo59yxep5T36KvanAiiJ9Ct5Ie+2fN6B3Es4Ij9NtbKaMEDwa+7O0GrBet7edJn5qk4CMB/yp3pvhwPA3NEBevfpO66t9fT06k/WIcOELX6RrWE8KI7p2FV4Ljz366KPDM3R9tQ0CyZgyhZv+C78+8qijLF3ODMAf3/ve9wn3N8Iv9PjlRq2MEAHt/Bl69PKFwj+g/KJEihOLSb0N0R3e/bd/Fx6pN3B+oEPNPIiHOeigJeHlr3ilVkgWhEukbDlMbwhNSgZwDe0zNGHZrkfoTtAVr6YQEm9nMvGCC18QjhJf/5JWZ2/SCsaUlC1sL+LRz+crjOuzS6LbNr0J9LjHP14PgY5r9eQ5Jh/sEgrxrS7xxlVHHBFeLt7+O73dw7s8rIYvXLwkPPd5zzNYVnUw0B+SsC2SOFQbfB7alZVTBvnQ+xP5p+SQig5d4KRMaVVVUs7IiIR9olu7JoJb198TNq29V7Jd17ArqKStcAMHLQ/LjzgmcClxFoNYsxvbFusgpFptwITxEEYENGZkI25tGFC9oUBUPuRHPVOf9i6UMk6bpd1zrgZZTj+zLkGh+IEbD0vBUzFv+Xjq8bv5t0mBhzIFWq6+8ZbqHpJQg47mhtk9nSpqweKEAgaLHwNclsmZxTPwJh5CkHDg6cTA4W+2kMK06dTWwTU4ZKJBHDozj7Lx42AgmiBu6GCCgiE+Brxd9uDStM48xGsPhVXhsK74qBwMAIHCj7xwgwnxJ7UVIMLBL9DsxXQZAMMq7YEiJcPtImiyoAJ3jxs5SJ6fuCfnEcaFa6duXSKMA4IcAuQ+ddKZ0uoHt4V0CgdIxrQiwtYtF0plOnVw+4luNMnyyiFJyo6BPkZD4XPaQ28GBU5/p4lF4I8yYxojnPyMZPZHOFRe85W/tINoCNkaMSFtIAcwSa+EVkYDGCsoCHApfdPiCDdlRcffrrMZ3doLzeCBMra0dwuzBIxgo4GdWw70GRk3/vjmDbRIje2/teVntSMNtPQub9hx353hjuuuDK26PrJbUoLlbDtfozIN6A76w45/eOhadHAYKUlbqi1WtDFlWusSmtQiYJREPp00TdzCmveaNU49fPjzq6kbYa8Xh4T3ZthsuCytsoqRr2pTFLfIz2MVhcV2N3uZPP7+ZNN6N27aoluGNhhvgudNW1uzIZW1s1ieuC9cFFD/pmfo5iLxN+vH9Gf1eVYBjevYZFm8VDwRJQgw0BQbvki/9NVe2pSCbFAND/Vb37rFD7nmFD94DKulDJQw8FXwgUuNsqoH4s/galz9Hzf8pUsDdgZX3Ho0ocPJGB6N46II8POzgbfiYWJe24wHwseYGBDORAHewEFu2+ZKvhSXAvDoJxkxfqa0bbsLcOrbnEODPiiJSJ/H4vq0DRaeNyblgaIbbbqVH2hGeUnXV8NRJkG7TvFkpx8yhHJCJ8KgKfkmn9jUEzicP2NH/1g+K2iDfwxdDjbWG+lE47j9u8huBIZ4wPEr4jdpuo6vkovaVB0mnqEz7NZGWTXyX6sURu2quy6l2bFtQ9hw9x02geiY0c4Arf7Dm8dbOsKQlDzLTnh4OORo3Y4lTlzL+fPpKxGt1ln+MmDOEVm5snZPPVnDUZ+xlQPVNRMGJpqsLHGt8IS2utGurNepica6jm1GhLJE6ZMow2h37V09oUNtpbdbtto9Z3MwSpK/+kX6GsaMzk4nIPLGWetsMMSpF17PP5/ObDgc1nG5XdRG8rD+Xc92XEXhs4Wl8HsGF3ltxEf9wBNpO5EfeTpp28dvrjTnCne8jcKV4bO2vKvxPP6D1W54AuEFcAK4jb83yNgvvWKzCq0Jj53X8UW74gcOGD74GYAwaI2NoJIOcaKgiLHZkhT9Ip583gyXmE2LtrLgjkyhujHFvEd8zp9SnF5G9+ObSQh5RRi5gVHF/FbnJaabtSIHzmzSpjwYS4eyZ2FYuD1mWrYEpNpJGfkpkmnfwS8IkUA0RSNTsttJpiZGbeLAREfQZCKmb/qjmAcGR6xKWA7MnSUlcLvZRTaTIjSEHR3dEvIDtnWLw9ZsxWIy0d6miZtwQxtyQj7ypqZcAopxFL91OvRIy7jmmivDoATVQs0I2imcmHynGgkTIl0AHKYHFoblx50U+pYdGoblV9IkgrbRGlVS8qGIBYknmWlOICIxiuhU5OekKwp7yE8gMgLECbvaq4wPLHBbsJpjXGmL4ZGOtNH0O/KFyCNo93wDEvmZTQriZ9bHaOfyAFCJWFeRh3nhXWhA6BARlhVQ8ouCBUP/ZVAGv4vo4VnEw2RxxV+YtDBZYMIO/zb+IjdlAyrGYHKUxcHPCuSh5DmGe9lIgQG9lYV4Wdm93cX4QDkO3NF4Og7jcTzc7Soe7J4Fdr34KWgRmyH9NG7qTuOm7kZggAeOn5cxxZGm6/gqlE8ho9thqKk4iVB9qz6mVd1Tisi2H3H00Ct2PrF9Rxi6+bdhbGir0h8P3Ry01mCecdyYLrYYZFvp/MXhmNMfEyb6l5qCsTbF1EflyM7XIXaQsdRflFsoKWNZESKtapyTkgtR4bhTSjVta1XeaB7KrfUvmxxmbaJSrqyc8o9tEQWAViH0TXtjgmmKMU0mkGu0ZdpwSW15Wn2B9s8Puqa0TUvh/TyfZgqDu154Pf98/NlwOKzjcruojeRh/bue7biKwmcLS+H3DC6OlyI+ajHrWw/SCUTGMdPiHxDuBrcw1Za1qBHGQ7rOmmBmMZ7b6i1ViPINyL4VpzTFQBMmwA9G4Y0lQ5iFxjzALVJ/mE71t4HLKx5qTPNQcadRnK0QrxCX/NFeMIAlnmusyCtlTMuV4qU0RaYGhrwK0KFxu2E4j0nT8DC3iceKkVGNP2LCvBjLWY4paeE4iIimzW4kEaP1SRCDA4O1eop1IDZpZQQ3+SznSR+8SM4gg0nGqFaMpPsJY7I7xYA5p9LT269bTrps4DGpFSq0OrzT4fQCZ12j/KIZEnUlkCS00C7psa0+efVY2sqP3Lq8N7SovfBQ1Hbtvd2gB66WKU89By8PI8rvtPZps+u8gwma6NA0TQrsMwowgpZhIkzPgU0xoa7iZvKzG84IB07f0WRxq74jHmBiaLRLXLNUjpVhdy/lwWD17V7R5RgqMat4iuUFGPhGpd9wHgKeCK6IOYdHfdzOm0l54KYyMCdSBV5oMoOf+2dY+VQ4A7eKSWkU45RlQDk+0I4rxqzw8OhfSbeCOYPMezykv1ltwFS2gOKBLNGWNfHxGa28b159W+jeuS30i0m3aMW+FWY9pTauJoNiSbvcwjDnFHULV9AEolFjSavD0Fy4cYyD0Z2s1CNvtOLEav7w6JAmD6yQZStSguWiDYurv8SN7nJDq06+HK6Jg+QDUOBGlo1rF8FIx7CtuHUzkdBKe0eHbgFUCi6/fBJRjbT51aTAQ4cCuz2BqEeiTGbmgmNPpYNG8SBXnT4dI1Z3ewd1u4I8wlW+Z3fVxi+AB+VcaA0mBYruWfGn4AXJFqaZCFuPYgfF/KOejdZG6TEA50rdSW0BmNBqw5TOafAyNgNp3RqpAThaQjFkDRDiaoKEQ5kBu+BWqWxPKhHSBPnWQEIDfQwPQ5FWaWIkDGmCMqKtB53a4tXbNz/0ahtDl5gwoBw016wjRVTsFiwPA0p86V8USK0aTHSqgXVp4kD5yD//7HphoVzY3xV2TAyGtbffEI7US72d3QMqrwY0rejLWHxumiYF9h0FnBd6u+M78r+Yh7L/HmUpxdgoIjLiqVfieH7Nh2D9TOmSgNLbY4+vxKt1ZREK0qiGTRCnAVXxIkxlEpAC4q6DIwVrAKRBTCnWA97NTUrTUqVzGQWVjmywSyyk5W3RpGDb3atDx9D2sFDby5AjE1znKthWXYsrp+RPp64BZvuoFE0mJ+ZuOVSnpJH4dpRFnH/r0lXvtHImClyiMqKzLKNjw1rhjlvumPgCp/9mdqdHILuYWNrZJAqr/HLhyqTSHG7dKWUYCrFenbnrr9o63JxEHPDdoFnAWSjQ8ASiLFy8l9ZBWhicebqGyzRA+OWBc99o7GA5/DBux6/K3znzluGtF7+CqXFXPYHmZWwc065B5khUGBmNH4weLcqEbi8piQnOsCcY7RFaeCYYiomGaYpvEdpWVDQqp1wsA1dMMdXIhw0uDJ6Rvpi4aihue5DgUXoT0hKN6SDbDl2z2N3bZy/FdutmDu1xyNJh/3dtMyBt9j+36v2HGVRZMuDr0j7uDsXtIL+aRJS0H7rFXjLXBEbfCJ5+zS5GS+NhcOPasOCQh9nqg70FwqCkEeJZas0/TQrcfxRI2zzuOfmXZ6Wg/ca1AAdQE68afFf8864GwWx1MR+30e+C7Nbl4XPhLOZCc8VqPLwor43HPvAgoUdJk4dIl2ib7JBc6WibCSO6MXFyx9awWHy3S3ubpnTeYVIrELwB0dreI/kiGSBdFbcZdXf2mAJJn3Ma2yanCUqXzs0wKZjRdihWGXh1fXREr5Bry1I8iyd5Jg1TfJsKRRaoK1MHxg7O8Mv9C686prLLQQDqHPSPaa3s+fY9LiQYlTwN3eN2zogtTsDE2ykjleqgbno3KXDAUkBbyWtZswshwtxdkXIpLWo7DgLNfD3I0eubpKK3e6a45K7nneXRhGUZxh3q7Fm4JwlWQtNv/GyQjCMzcatSHqo2nsO7XRvDQ2rjZlkTQFGOKvGKXV5GQiNzhGnZuRB8soxEZim6o5YXHLcpjehRJw4fckMJ3pTd4GRzwJoVB/ayEoc6pq7jrSTUOem58Q/yUslPPM+g1NgPynREGptyWRUFHCw0EIODbePbR00AdOue+16dVeCAJgcj2dZEvaJvAhocsU1KAyRhxSSH5eUObYvq1fmKaW7nQrJIiLXooOWEJhGtuu2DO8g5osd999Pa0jSxdTCEJWMSXF3Khw5uKko5f0qp3K4VxwyWCBSpHL1m/5vFmx3ISpUHoaSpAZP3NbfT8Iq7Ns1Kfith7pemY32ngmiXXI7HbSJXUtslVAcEsNVXVpJ4RgiCQOFIFadN5c5696lug6CwECcsH6kbgLlMdWeNCTgOj1tJ3n0asikPioa6Rng9+bRv1YXfjQDHn1GqbIGqElZBXJiPQs9KHHc5mSq8AXK6r0Ptmb27+IqqNM0nuTLc9fKb+edLA6/wdpsvme/jj+okeKMUT8LTodWBoR2DeoBQuZrU4X5NHnRlovFkCRGNqlHwoKxixUKTCPHodvFoSSG6iX4KU1TLv7nJBR6CUIPrsG1Q2hCrG7mGhgbDiA7yc0Da0gcSgSaZwEUbbCey1QfxffnutjG+q9jkD7lleVEmSdOkAshJTwq5HZu1VVeH9/v1JhUXqSiWnY/w+rDFFvKpkLxJ6W8o8wDl74osqlc/ZdBddBTlqwhFvgRp26UcFTxpqTJMRZ1TdNp7JioWK/gy3EVJpH6VTFeiZq5Zgmpgyx4pbvfMEO0WPsexn9jtVTPvLNPeULxD4M1MP2/S8BhGU4c5qOllDchxeXgMm1UslZNxHHRQTKwQ3JWqIRkeDbNwC8rcwESn+n3mtu98jee+9ZnvOIY76RCEV5fLko95qDirv8Gb5ScHUg2XBiZZK8d1hstgN/O08w7i9iXbrqSzAtxAoa1EBHPoDEPN6HIisymhDQ2Ewzgm4eKcEV912WCoMM5o3JaX4/XVCuGOkwAghcNwR9EDg0cjVZrU7VoT+g3qnvDssFpv/0Do0nkJ3v3goSv2zcI6TdDYqgLlKunF3I7Qv3BxGNT991ooF5ygtOwwoonIRHtXGFD77FU7aNf+2x7RYnREt3IMjeidiL4wUeJINTdrcJRJmcFYUSptlXZr27i8YBHK/mYxEh9Fz2gCXb0eUgBj+mp35V9tUwAAQABJREFUWsxPvYvdRuRKHXhd5PEizPKm3C6SAPdz24KyNBIwOYtKVg0R4woSZKJZOU9F+HLorNtVmkwB4v3Ti1pgkAAt+FHE6I6FdY2nTvzUFDDPN4ht9WqVhTszpgzwD+zG2pLnKY1pbTH1AJuPDhP/slIgywsFYyWwxnjdK7P18wtNqmNa2YmbBRjlcOcAo6ZbceVfRlFDDwab5dByQnn6WkBRGcoxogNM3u/SoCL5CKdT5gwMeu+JKcJfhDOv/CosJ7kqnxes5MraZ+VTZM3ardWF4sCnCsrRZR1YrVNbkuDkbGXq4rzNkK5eHx4J3XbznlaaO3rChLzHOGAvSN2LJaWOlFd6K4jH5HoWLg+t4tMlCaBYZ6p5rTLwmGqb3g6a0RWwTBD4lXQb4MTIVt20xbZbXcOqPFL29izPFIP8WhOUHTc3qQ6UftrOrcxeNXzkjJXXkAgfuDMYozNuO1ckjHKXaaOJU1eLtuDKTAyOhEFtoyppe24PMkyrLH7NcqdkFasXGM8C5cBA0uhCJpqP/c3/iS2/Gkcexr89DXAXmQpdIsCsMinLZ8x5DqGyE2khf8HFs03qCzmwMr2qMkNZvOQxIBetCjr9KIarxgV8EVykYwUb9VyUv3J/snIVYargqJdWGSLLWlE6ZZgDxNHuQiMtjxFdNDSGSrXoP0t1eVNLIAQgNSRI/eg0OJ0JWHz8CwZCqlVjFPk0ar6F0zsE6ZNHjSXNsA/TViNks+UFnBj7K3ehMIwgBlf+k+Erf8tRTlPYzF0Ak8KX3cLv9Mw35jJMHUcKj9tKDtPU/h1WD9iWxJ5N5CMHoHmIiaseGYJXBE6jGa2Tib3oHemgvxIYvAMyLGExrLMSrdJQcUaCd0Q4rMb1vJ3SWHXoRVuuwVVhtO91m67ak7anryuMKF6b9sVOS+s1IWY9rC1aQmKThXY1hmkJJ/biDvNWBMSxSQlolHZsDCqVWmFUFVkJ1YxUyYItaA+17bzCCtOw1B3JJmSNkJ98KUIaP3VHXLv+1/pvLHAV7jKmLKz8nXNYHiz/ann0ZcFjY9z2KBFVNfFcKDvMgWJTSsoPJWzApn5obSkrflmQ++Q6KXhRvRqeiK3S/jI6J1GVZi0PTsPNrYqoroXqdlWGL8DvYV7XfM8mH5QhkMdos+BzvBSRshKPXBqdiJeLS7eM/Ato4SeJHAxo/B0H3GWTLzwBBXHL8JnD8pV4GhWFK9/OAYn0SYD3wFlIX6dpijfvB1nKDU15ArYOnWg3VeUTT0RukDat2BQr0ChPO5snGYTlBAUL20FHdQEHF/vaVdriu+PSEA3pJfExrXx3iFe3ii+3iAdPip1O6uDxwPyBsEMXYLT092pLk85LKF2u8h3Xw4STOkvBGT0u9uAaYS7LaNFVsHFwqizRnpXXonqwTO3jP9AR2jH5mZKs5QrlMV2DPjBvgckup2uemN7vrYr0BzyR3FU1Uy5N2gc9bjlQjiJ6zAZXFJbia8TNZLeCR/VibZLRRgN8qZEE6sBU0qwDkHk3AlcEAy1TehfRliSK4s6eowM/tL1AEaVSq1Fn7draiNwMX/Mmz29iJDUmGJsiin+YYdlTNRQrADuPSN+kk68gS7sAFlwYD88+7TuG8Jc0DSwCAlRUWIdxUHJXMPKpSkNxisqQoai2HP8cEeL2o+qoVk6Pl6TJ7UmYKGR1f7uWesd0uMzuvYYojQw0ckntu0/VvwZW8WgDxBEDkpZqdFCrJtZ0dK+4Vic6dLahrVV3LPXoIJ4mF9s2rAu9ukWKO7onVI+tmkCMq57GJbDGNEHgzvuS3ofo6+iy62PH1AZndAiuTxVnt+AoKSaVsc1AVOHIBJPdSy8fltrzbRC6FDGUKHjjgNrj5OFi1XkFgimaPJw3ZPxTXO72eI3aDAwaiesH4FO8RfFqS5DGKHYXdKFiwP3Ul7qi3dAHcWO7GPWy+9bKtIgeVuWXEdgs5xdl5lWBLKqbSmjmUl7ypjDNAvxlL2XE47hdhRNPT2a2xpEPUxzzAj8IHUcVcuetWRoA1oHLRYufhrg6xCYD1V71v1S2OHnI0i+ANBab1Xnk0bWJ4tNIfdXwgoL08EonCxFEw7acUs94W25VhjxUJHGGnKKJ5xISw+Wv8uTzYvkHqTcCwTDlGNPAmQ1F27icQ5OFHeK9o5r1TYsPd+jHFlkmFa094sWCu0uPtI7outelB8WHScc0aZjSCgMryxxe9vK0Ky5rxDaBTMrRKD/LEO2WRdkpr9uzIUEhaq0E2shwNmJU5/3m6VHdefPnW5NgDESwQGM7QB6pbDRm6z6E6Ssv90nf84BdzzhMGl4EX+QXc53GLHLXtgegLF3KEYuiYjKpdM4X8VibymhThHlX/YrKUISjEThr00WRG/Tz+G43kmaDqPdLsHYeHsqblChOKLdT2Fq/2Oh8pup4sFPY6K5txikM6dRtg96vaMcCio+eRbfFswYOe8yMYMxd9vAA2Y6rDBqZagJRcWbxwQYLKTL5MlRgwFv5yrtc41LtTxoxEnFJV7dQW+ps9ZmYGg/bxZw5ZNaifaMaD6s8mlwgWAq2nFXjfoC+VCQOX7eyr0nGXrDWhIis28N4UFZCBW1UaWYkTI9oHxP3yqsNDcqvE+2PBvqIv0nhGtNS8TQTDpWXsw/DYuYsH89oO9S0BN2KHq1qsKSs7U0w7rR+XLNlZ0oyZg1d8/VUzMeVLyvCbPVKjVGHeRPLnveN35WwNK/5MI9bC5Mx+awQHu590eOZXUmqypsPj1fPXYMvRzQ+a2BqUtlPPdS9erRKxuvK2gMKseyXblOgZPTVvEnpWgmDbzqaWSolNrhKtAJXEf5iv9rI1Je1VvKSDeBqS0C9VuI67qjMqPjj8jD3NeyKS3RKaeFFxc1giOc4sGtAazzAW+gJqjlNPJybYcjS8/Qrkcnc3BP0mN+CvFQQRVcBSFEZGqEvCLMaLKdSgN7qj4kAZ8uIwcOF5De/nSqmKQyOROUWVw0b7p0I26S0apdCZ1S8ekTXq8KDkTlTahxT0gRpQyoLv1qFaNV12uLR2m66ceM6096TAdI2/qv02U5nuwPEoPmXvv1Bm6ytg3Lx9qrD03K+VZiuaGHvQVgbUPKcwZA8oszIYq6cXbhwkbbldou0lEa1KdrKaSazzA1ZFVRjPB81AXU8yvkswuWr7ApzuAKwAsyCstsXk6AsYhyrxHqhXPF6/ApcLFM+lbTkEdbzU4n5wLk8L243mpMieG8/jeLYn+Ha5xdNILISOSMrauQGkm8jHk8RCMo3GQenU+UNPp6eh1m6OVDD6b0RwCwtjzObXVTZjfqleIlTr5EU4Uvj1nPnmTdwKSMBL/y+VXv8KX5Jd3EPbtkeRnQ7BS91Es7haQLt5og88eslvK/9raLbdPZOEx3l0ZgReRdDtpUVNDUqA/9adUgPe0JL3ZyP4FYQhFoJQcUkQcvhbFeaUvlZXZgSfezKQbUkjsUMbd0UFmzaFA5ZucroQguzyYsGR5aG0o+CKwZPaluV0GsiE2+J8rp0e1+TKt/GHsh85NPOf6fNLddl9zXZ7vf0aCPd2k63aMFC42RqsmqlFePfsS1W/AHO081DU3/4IO0+b/L8MR8eM1PjW54MpCFpeu6f5zfmn/JaB7SEjPWaD7jSuA5WnEZtPIfP2/n4+e88PN+NwBTFcz/q1k3qdj+qxd5FoMxlz4qjHL3sqITtiStRyO8JGotLlZJ3yjclpUubtg1xoQXbb6rKJEDoaXVLTLlHdmwLO7kRSbKmRwNnVncnhcfwqV3Az0uaOYxLicUNTFPcuCe8KIp0lEL81hAZv5enwQuxrTqQLwvO1vJI23/EejAY3kSRFLLJlrJn5eLtiDjpEX2kzGMSsWzFIXpDok+0i2W0silCFX1VoFjeB0PJdjUPnnNNHPdz06icdbg95TH7Obmqst9etI3BIVyIGXNAWZE3+d6gcDqVMygHd4KXwfMzWwES5ulV4smF2jhnHJ95Z0wuB1L8ScZqjHeENKDWrybNFDx159KoipfC5dy1rAUAUURZhumallxMGMU9W5Xuu+duuwubyQPcV0No2LdVgDX0rKje6NPk3C/aEdD96sMpD0nZ6rkt1xkcMF5+bL5JzRbP9To1VC6J+WI6dGc4bvyku2IFWMvfE4qjL2m3pqTtQqMleScBLgcarGmtOgi+1Coc4NfPXvXNJlQ8sHWrHpbr1t7bBRrs2SRNiFmgYSJBnkxrrExBOyYOEzpfIYIqTQ7ARvoLrMAUehbAZRVREDKXV3G6c8Xa++Feh41gTqmyK/Eawf1ggbF6oc3QnmnrapjpNou6Na6AtN94ecAHGjeJ071kC2iOBmH9P4nhzkIen1aUA8ou5yNLqwisXK9ZRomDotMHh5bVFFeC3+Im8ZKgGmc5L+DSL9XCl/NQE6soxzVAhR5p3gBI008jwMWK6tFgvI6yMqbx6uc5hdo3brI5ob37rD6wQouxLVEKIIyyw4/bqFT4qSYBwzt2hN9dd23Yum1z6OrqlOJGyhtkD5otce0W8WWKDU+W9kcTC7a3aGWD1V+hYeJlC89MKOS2rS9GZFZ9BSAT/8Ytuu4HrXGnNunwc3+Lm+HAjXH4+FX9d7YwhwQmNZYfKa9iHsl/7JJ8p9t4xrSVdt3a+8LBBy/TzYH9kt0qj9GI8hVL+jSd+99dXa766cWS1g/3kEbwNYrLce4729vZXCnubbi50tsfwmuvCdmFXNcSlIbUSGMCppEG1Ri+gjlGw6UoykWjfo0kUogrx+jAU7RfGg5lQtnIwNKuXvbULUbr167VgWk91CatES+1okWP6fDXU6yuhzwztO8MNA1L3eQr/43frpg0vrvR4Jg7EwzUHw/ccdeHsWdj3PrmsLXuGEewSYTon2wB2/3k8GQJJptQgQccBqHcqVwc1BdkmNBNGTdd/9twzHEnaWl5sQ66cZ0g5RKQ/YAHdzTtmqyM6/aPrq44oQBrkbEsFgXk/Fr2pHHmcFXqtiZgtzy8PuaKXNvPC2JkBCmmVgW+IVwV8P3G5e2HDJerPPWctSRzUc0jN4zQI5hdTHMb5lXBFX2Uy5IEFuXC9JAqhrG2WYpTFDdBXddJvDRu6k4j1fNPYeq5G4oLUBFRHOlsSGYL8/h17d2LTB/nRxvwdkAdcX5nQmcRuE6bF5btdWXng9Sj5UNnFIyZToetW7aF22++KQxu32pyB29uWLJzY3woDS4z0XRBf+DTcGs5FcTRQ0jG+z26ik8DakERIOiYJym/ZqLSCDlo3F7hzp+AcXeZPEQn3QLj5SXI4zkOp4GHuT/5T01dOAGV42Ru4lXJb6Ea15nEtZpEHLR0aVigsxGUik2NBmt/9/4fL+tcmBuXScX0rcYP3appVx2efjWCL4Vvuh/sFNDTL42ZIp7ZaHNoFC6fE4tX0DZr8NV45DHtv9/OFNDC84rz+nX3hEHdXNShfaclbe1p1y0Y8D7TymfFhGTpTVeOg+DUnX7X8wcG4+FuR9/G/6bxeOSOcyscmrNbK7R1aEoHnplEMBXilqk2SR0OW0sWabuWlsX1za0eOoZn7IqJRKsC0Wq1s19JmjBYNKGkZQxd8Tt0m9P48GC44fprwpKDl4eVh6/S/d392reqiQTRWNJgIiGtGNMIBOIU+3o5kN3Xly1NN17OJuSBTwF4ofFDOpoMPDRz2re7GTg1YorYVzqAiTgENQe+IjzErec/W952K44NCrPcFg36ZkuwGXa/UKC2HYnnSSEzrpvr4HVMIDDAOazbbRodjI4O22r3Wq14TykOtyvZqrE0Wy3i3zOy4bc2jlD7hIcy6WBFCl+bPOBj5yfGbHst+FHKswoxLd4bVyNaQ7sOZHOeYNrOrCkdyYi5zlOmRDO+n7XB1A2Mf2NjvIz2UfDH4QuCyrgIAy6OoZA+maHty5dJxEZdO85kiQPWsQNXetZsaTiqpt2kwIOZAruwAjGH9LJSNgJTnxy1nXrP8NVPaf8IgR4wGZjq2NiYlkXv1aM6W+yVzinOBdiyqGjEfwbBNlSAeckj41PEd1N2WxT8K2EOg12Gm8Wdws/mrsGl/LCy0KntQtwcNaYXPtlDWpI2DCGDjobrGTk0Pa9bNzDpjvFO/SY1gZqUimuqXUInG5kx5G8FlmV0yqI4sHEYuqYoopu2Pgkvs+QJCb977r0nbNu6LcyfvzAsXrJEKxJLQr8ep4NWdhmIkVAvRnCTkyY1IyMjobdXb1Rk25lmK2czbG4K2KA7a5dzQx8IEMX9a/dKtjdx7V4OZovlvNvtyIB2L88VHJUUUz5S8W26GqGA0xMa4p7QZRSsQAwMDNh3hbZMIoL43mjYKj65efu6sHPnVt2QNxhKuhKb1WGtE8SLA6RwYZUBPC1aBm7VCgLyxFYQhKPExEIdHt1OG+8/KLRVMovb8ia1dWqMPIh3c2MTk4RWKcKQZzO6fa913oApb+KWU2G1FehYUvIf8yvE+p83Xkb8vVxe/hTW4RwG2eG4Hd7D3N/j+7fDSXp4UNnmTB9Kv3HdzrRWOwa6uniNu7cc7rjLHk1HkwL7IQVaNm8bLODytT2zzaR/dQkrHSj6g0jdsBpIXzClahPn7NV+DlcBZijMby6Tz0c9+CK4Rv3q4cz75/Hlv+vBz6BtZ78SGpkMCJasLZe6cm8qbFy/PmzSLRYdnaKdBszg5cAah9PQ+lS4KW6G03EfqQ2sM3xlS8wyUrVC25Sh5d1eBvd32/H5ty/j+reSKTNxYPGnLfDY0KQmDjs2bbUJQ7fef+iR9gnbHieSwJiSwBoZ3K6yTofeLg3idevNtJbahzV5GBWSydYuXSUocabD5Ai1EokJljkVAqcEPQUX74rXt1JF2wVT58fKDTRboG1NK1euDPN1j3e7toRNCwGCjHMmCFImD719vaa1owzUEUnx4nVjpkLjxuBng6Ju92MDKfbzIkB96n9kdCKMaVJKkVrrnIFo0yAib7wvpf5xD3nqIzI1TKcKIHHgBRWfiLMoTZWiOsE6X8Vxq/GCiX4D52JVEEVAXAFkNVF9Snvj5WPaaJLVgqIt+pFRVhBNSy1/tlZEXFl4kqd8PuI39CWGG/VNEcF9cGPKD40mhHF81GUFh3JZRXgiJJH40meZz8Gvy6nJiTFw9M9FNRFB0r9lsVqVbgoR3dW5qA0v+1CeHDATBpRQaMIntYo9Kr7Wo1uCOsRvY3lFM20t2rplY7jrzjvDoM46sELMaw+8ddAifkpc/mmILx6oClQalpRWi+GJ8XE31TcMWPy1o02ryUqrSwTuUYW3S0MzMz5sr0trM5N46vzQoQdETVMv/JPK46jeghhVnBHh7ps3Xw+HLhDf9nSF14pGHaudZGX0+nLbgIDL0dO/3a6Fiwg9HNvlmPsRJ3VDBGJVWlzE6luwaCwcukbi9enV6oOXrZA9EGV2ht8mSTHaPvzrPWT2JKO8zggNaDkaJc54m/z8imHrS1RTEoVI8SC52kmuTopTt1ZVHPSA+nrhqwr3gObowZC49Lm1pqF6ro0mHxG3IHI+jQIQw2ZNJ62ffMTCNA8MT2PCKrvmA2k/tW09WzRxGNy2SQ/3sNwbmTelpsNWGF1KLARx7eDFKRXFtH/Vt52BAuFutwtjeRYyO61Kh8ePx4KGtm8PHRpoLOjt12pEa+jWUjq/ns6u0CMB1Dpfg7S+bpV7qyYbQxJAE6G7t0806AhDGrwPilAlCZIpIeSFbdoe5fIDo7B26IOGiytcEXytSq8k7Re3grRoCxOHptfde1e4b81qTSQWhmOPPTYsXn6ormGSFizbXjWprVWlUpdpyYxBWjr1aevlrNhFVKiEPqRcByIpCspU4FWu5iIh6gPdMpAc3pVSvyJ3io84cUiThyzKUaMp5HEVfcdBng2kbNLEQNwyIy0zmw51SFd9lr7JTTzwOBzwkji8YiIB3tnzlJYVaEtPcXwwWeYBVlyFygZjHHrGGPzFGH+IDhscA0n/tsOwmYCqTs+QWtzKH/eL+a7kowLRqMsxNQrfKByacAb8vLkgphaGpLhh22i7eC7l4+Y+rh9dffuttsLN1dcDbPHUqgLac2jsdIC/wk/Jq9U4dIpMVnUqGtg1SwrUhRctWm3oUdrzBNNT0kRb58rG9Zhch16eXrh4SZi3YKm2o0pDry2kI1qVGGsbC13i+926mjwIbkw3PbV16Qpu8XwmGZYiZCZNI1akuXzM0JY8n+5XZNeHq8Xn8WeLQ6zqmB5LLVsBPkHYqTOLLRtbwyFSUnVKxsU3iRpVQjnOvWUbAedAli8Zda0o0L9s5GHfaiUqrm1FQ9b6EMXryeKVI83hABiTphN9duUvdeamkXbhsPXtXSpEfTQHWMgubGE6wEr+ICsOjMYbPQ0+HjKbCTu2aSl5y2ZNJErazqP9obsydm2wjJ4u4Knboxf55cOAaajLqx+Oj47rxezJsEiThx5dh8l1gJ3artQt5trFUja4pLHq69ZL1BrY79T3hLZwTUlLxT7ZPv10fs/OhMzoRToYlw8I7DpYZY68pPnG7T+W3Sf1cmqX0uYufx4B2qTrXoclXJeu2BBWHnGktjgttZWHHTt0Va7OQ/RLc9Riy0EMSBoqqZOoaTcpcEBTgEFmB9cq22BCEwVpoe1uNb6zgaqGF+qwgmH2IG91R2mXNTRktU/UmeEELrb9bfQP/bCoL8YpA9p9QlEcYOLQ1xwaukZ+S3qeJ41fo8aYfTfGgwnUz0zZ4R7CgK65AkJ6ezKJKCPeE0eOHJTNFko0cB/nATcxznkLelW8GfG1neH2224Na+5aHYZ37tBh33kKWxKGhnaGkZ0joU3yBlnEz/g79ZkZ562EUX8owLSeoS2lmiRKVvVpK9KAZoXdov2Mbrab5MyFePv8BYtCt1YepqREImNdWuGl3XDbEzKvVfaUfhPaPjo+PCqlkW4x8kRlM4nB8LeSG/OqymM+vxGiFi71vz/dTNoGRePuzT1aiVhuSSXkvD+T3gu4Y39i5aeSZ1Ry/GMbGmdVqA396ANZilY/6nreD/dCRnYLxWxtYbcQNiOVKbBfTiBgWnOZRmDmwrEvwznYxo+JBLctwfh3agvP+vXrbIDcoUH2pAa+tqcplzFn5hXv2LUr39WuPLx/u+3Q/u0CBH/3c5jUz8PytsPizwC/pMlDT2evJgi9mjC0hQGdM+jo0gE6RLyED/ttWaWYkeaqRZqzPg3021T2klYDwhhCpy0s6erWY0WlsEUCcSTLVwsrF9qLa2lkMy22G/CDtvk2wdL+pk2bw6JFi3Tl3sE2ibjttlvCmjV3huOPPzGs0kSir79PGjqtlrC9qrvPJnCRWXqpmnaTAsUUyLe3YqjGffc2vsZTnh2S1YNObdUoiXdx0YF6mr3Nog6t/+JF0ki3S6PdYXvls9vktMXQRiOCZwDKLw5ANJgUvjhkMc8YUsjzMygfsWQoGLCkhofKMCkKBj6Md/AzhYDsuNUCT6CVb9sGmeTEZwflBMpTksqgSUnFiZQhAdEDapAl1AhbMod1mcSALoZAxqxefUu45eabww6tBHdKIbN8xcHKuB5DG9xmyhraGoelW8VT4duuSffCeFs0Xi98Fi6lTIdgF4o3z+/UNtHJMfHykfI5tD69i4ByaEKKmpb2Sd302iO7y2516uzsEQ5ITzsSm5/Uuz6iZYvaldWe8pPVoslDJFzekCeXPal7Nrh82N77Jn/QPubTJkai54YN6628i3QGL4Y9ONpJvXJztpKJQzSs5sdJhM0XmByq5/KIrXqtfkwqZLRLwtuHvfOkOreAhooKzRoxUSlQBEly9OvU0C7yfpVwgHMRKoGZq9F81UQ8oD32ywnEgVwj1sgluDhgvGnjetuLSv9lX7/Zc7XzXSCOM1uipO48ikbCDIaem5m6cejc+vGSb6cmRd3aStQpLVQH+6R1nmFamqppTSC4kWlmZiJMa+lb6+9iTXGIMa2VCLRdnUKyVFueZjjwPM5eXbZKiNmpn8e0ESYMZchTnDzg7z9nGDA6Vh+YRCxbtiys3yyaK63rdPUrk7eTTj5FqyO9dmtJtyY9DBlQohoD9cI27SYFHuIUYEBHT6MP0luNj6kPsxbRoz45PbbTtsTMaL9huzTbnT0aMKIUUd/mFePyNhXrYWCa28Q41XC+2pD6kiOhVV6yQUBksjCKjB8of8a7dI208sItcMY1GCzJ5fwk4lRIxufgBcwp4jQichpg4G+kN5sxmNkA9koYeWWdZ0byZFiXQ+jiCg3obxBvu/POW5RCix5EbNcq7HzJl5KuBlcd6RwCg11WA6Ave/jjJKQ6Q5EmwiA4U9BIKdQr92LxykVaSW5TOjNa8YCXt9p1rxpcagA9rklGe2e3hpvCPTNqcdtFjNYOrUDzHoUmH5Pj03YeboIZBbyfcxZZ8tOzEI48+cA1dVfnnOqrwOXD9sY3efVbEVnMwrBliSvCWXnfILnSpdX1/n7t033QGitFzF02caZF2BWwkqu0Hc7GzIwNqc0MqzZ17kVbs9o5KK43nkRlgXh/kybBK3C3ylt/shDROXLsKPNRwFLPdEUmt7FdOJxnglAMtrvNQ3+AzcN7WNN2CjQnEE6JB9hGaxUPY0qIiYEPsnWGtx640k5CoKQOYY/67GE+6VSNmCK4vF/+2/EW+bsfwrZTy9swnw4taXdqMIGSDAE2rfMJ02KwM6w+aC9uaTpOHkpyc5iPkXuLzi20Tuo30WYrEYu1HK6QsI0DrRIu06a2qrADS7dOkbkmkG1JXGW4devWsERaoWXLDraJQ5eE4ObNm8JVv7kinHDiw0OX0pns4TE7CTnVDyhdWFFuXz3C3TRNCjyUKIB4n5AkYbDEmSQm+BwgZxjeqX4+smFdWHfHzWGntN1jkxocapAxsFAT9qMeFnqWLA4TgpnSYEMsUBrnGL/Sg+tTMt5nr76Y699xoIN/XHnU+NMGxWDicDA32o3qR/9nKw23AjGBYIDdIV7A9abtrDhqoMvKI1p45SpOMuBBWtGg74M/bn8SV7PBUjZgqhmM1C/D/RESeS0DKGpGOmLKqNVbJgi33nqbFFO6FaibRzMnw0IpTtpFoC1aiWXFhckTxraCiq6xXOZV9w+H5kXIME/bPBd394RurTjBw7lxqUU2PH1CZx2mtbTEIBN+bvKMiYTS0zEMo1i7ZF2HlElsdSJPk/BZy4PC5YDmzB+sfNnYzv09c/nv3fX3eHtsW9u0P5Zvzt2NjY2K3hs1eetRO+uO5VFC5D2/0rPH6e8hAuhP7lUVcWJMXeuHfN6sdy423Hl7GNm2Udeld6lfdISlupBk+bHHBxUuqydxAUWmZ2RV1lCOYj0CSh9WDriyHQZhWMiRu5G99OMpbUUesdsWcbPixuSXNsNFKLyZxRtQHZqoWv/mnCOFKuOTU4YpR8wtaWB2JdcxxkPpb3s6CPKCF/mpNVhwYZhHrGM3GqdRuDrJzOldhL/Ib05EAqgXL++f/54NN52mTQ1+5/YduhFjU3wkTdzVBKXasd005O16NkTWDYoBSWNXTAqfuh2H+2E31NUE1KHO26LtQ3aYT6wFDdM025N07qFFHV8ST4JePx2oG9N5iREdqBsb0f5dCaJ2MQGE3jwJdfgKWsVDta+2Q+7NO4dt7zX3kxvjgRmI2fHjBiaM55fMet0w+IepbNN5kwUtA2HFimXh3nvXiWG16hrDneE3V16hicWKcPwJJ9lha6E1NgMux+e4LJHmn4cEBZBn3puo/5o2kPW1Gv8GqNNonBo4z1ADaThIDQ4PSOxZYSSIJ9Tn1I00ANQAVAK8TVc1t6tPr7/5xrDx1htDp/bBd0o7iH5wemgobFy3Pgxt3RyOfezjQ9dBS9T/EfbSYyr/6JvRm89lfIBAPOqiVaNLSB4VA8LD1hplB637kPoxfXlCAx9u/LG4SoP8sEKBtj2OJ6hUBnLt9toyygWu4OzRikkvlzhoYKRAG7TYtkgloNSFQQZeQzvQP8u+rNQUKc9npWsauQG38WClT76YDDBAYjLFKsTda1aHNavv1EHmUU2UlH8N6A8/9DDBzYS1995n/A/Kk3HisxLDTXMM3oCxsmZt3MoIwTPTIZr2aSV5ua6F7WLCoIFcGxMInWPYrIHysFY/OnQgmhXcPh3Q7tGWVSaZ05potJaUBvmcptY1qBPeVg2ybTuq8JNKPMcBTVUW0rWmkbkJl38RHfHH1Atzf4cz4OSPhydellb6Xc+dx2kH2VFYqaxs59u+bYtNpg5edrjVE3iK0quHf1/4e36oA9rRjOQx9rheIl/zu+vDlvVr1a/HQz/Kv5khKQJmwp0bN9oDhStPeYQmEbp+XW2P7U1x8N9YrqFdbG+xuhn/0FMZYTC450sAWZ8e1FkenZdRn57UTgS2ebNiRt5LgrGVNGsq0F350I+23dtLf+61ft1pN5JpNwMDCnCrwF72rAkZBZIm31hBHgJQD8gKhFfOQ4C+DRcRRo3AK6mTbti4QftQYfQ8EocwqKChM+dNnll5J8jDpd/E8XpI46fuFD7v3h04S1OI6MQtGrDHA8+wBf0opAk+youWA6akzUSaVJS0BG5uxR3RneQ7NBBYqqXxww5ZYdcEskS+UHtoxzt19SAHBaV5EJ8xZg+zMSGquNV0FCsSo2EgYbRXnsjf1i1bxD0Wh2UHL9MjQJuM6YxIW7lNTPO+e+8OXdov3CNNm+1doCzUma1kFNWMAJqmSYG9RAHvr3sJ3V5DA3ua0gTdRLv4V6f6bYu2Ndxz/bVh8O67wjz15S76o7pIh/pze2tnmNBZpZ16a2Bk65bQc9Bi8SJ1OyFiGNmoYSBg4IrHgNkuUxASBmglriXduj1slzJmfHQoThpsYMxEgQcsNRhRovF4RFQ4UAIFyagkKgMTDd6PGdwxaLy5R6uQvf0aBA/0hz4NPtCYm15C6ZNr8DGZgc9EvpMrCeE5r735SfrwMNNikyfRggc6N2rLzGbJlCmdSejQ4JztsJz5mtGB5y2bt5iGljzDB4nLqgurMi26oCLf5lK+7+n1q8wrFy8KvaL71NBo0HJH2KaLP9bzbpEmE12afLF1raTtS1wGYvwWBZFoPT0jZZImES3a9kL9G04RCRmhKor0xRahrK4MJn6bPFGZ8ybv799uO3z67W63gcGN8XLaR6N/MoWVVzgrX7FtRTnPAHmzts729i2MW8iytNL0G03q/oIjS0Ze5dWUexrEj0mxuebaq8Ow2tRSKfNoI92qgkkpACbVdtQEwvo1d4WDjloVejWBsK1cBXVUL8+xDaonClekP5mgR8Y+OaRzPDulgBhWn2TiwDlG0Me3mlBOKg8czFfmkfsoJ5lIR/KqV4r/cDPcdo0TtkthCA/pVvsc0Da+efPmacylMmm1Y4a90MJA3VNXlgn+Kq2mqVDgAZlAVJKf3UVl3b8sd/b0922oGrwKvFkDWJaa6Qh0WpqxdQW4D0ypwQbszK+oDGmYu912+Hrf9fzz8WaFoxjq1GgIbFVFka2u5R+1eeroGhCwrQkhiEaqbQb9pd58mO7U/fsT4Z6779Uh86Gw4rBVGqB0aFVioQYlLWGbmArwkxlDhnPESVhkCOQTOvMPJoV2cUADAvamDg0NS1s5GQa3D2oVoj8cvHSpHp+7L/RKQ4EWc6s0pmNjw+GYY48LA/OlNZXApZw2kHECNO0mBR5ACsS2vW8zgOaOLSe26qB+265JxNrbbgw777srLJCEaR3XewAa/ZU0KJ/XLcWB9rgzIGDr4fDgjrBQGuwWvesCT2AflPGOBvic7YfX+IKVB5sQCN+oFC87tm/Tg5Fbbd8/PIQX79XVy/3U+AF9NyOTDbjNrf1Thk8DEH2zCspghG0nmPFRvVOg/r9tcKuuOh3QI5TzxDvmaRuKViUUgXwziWnVKAp+lpo4OE599r7beS42ZRrVLUurb7tVmlptHRNfjHxwxh6QG9ADmqtXr7ZMMGHo1+oBq7AMyIaHRyI/Fse1gvFXODG0Lzf48b1Mtzct0soM7/aM7twWNolnbrjv3tAq/t4lTW8bW1ZV36QDmmmtTrF1KW4hgV6R/xvNRUhOs01DQxQ8Sg7OXTEQWvDyQBx6HvL5c3+P5995OA/Hrgfj/ins7G5yR641AaNQMvjwRsYUE1NN6qifSV11u01X6A4M9Fk787xZhAf4T1bdksHKiPoKw4+xbTvCvTfeECYlB5f2qF+oL7Tp6t5J9TFOPVDWcbWHGZWLs4usy8EXqK9GDe2JtPkZLxNSFHRD2oWwY8c2/bS1W7dzcRgfuct1xBjS8mRs7KBw2jshdhAchJkBb2U7uLZYaoVshH6tctGnFyxYqIcMdesiTENlhycpitHAcTTtSIEH9QSi0UqiQezvhs4wKia/fsMGYy52s0GlzZeLt6dMxuO7DeLUnX7X809hUrf30TRejTsDQqCUtIw+06FOrnIyeHCGQbFtqZdVCnXgyU7tkZatXQV2K4f0nerXJa3UbAqbNmwN7dIM9utqvPmHHxo6xbDYUw3/toORSg/GluaDPCMst2tP9q9+9Rsxjh26XnAgnHvuWWHp0ngb09r71oVDDjkkLFm6WAOSHUTRzoxxMfzRcNVVV4ZHnPZYYzQwNy/3AdAMrZzNPw8sBWI/2H94GtsEWjgcrX7GUHFw3dqwY+3dYZ5GFZ0ahHd2SdCr/3I8aUqDRx6e4u2XNvVTBL+kuQaKwqHwdiYR0gA2YujTrNpy4cJWDSy2b99qypcJLl7QoEZobTAf+z70VAKZKZIZ+AE7o/Tjtqio9YzxWJ3QwINBoAbZbHcc3DGkLU3bNPjW9ad63Z4VChuzKI3q1DzV+9cm/1OUW1uPdmrS8NurfxOGNEGbP6/PVlI4W9Cnt3WWLF5sryOTRx7JnNAE72tf/UbYJvp19/SHUx9xSjhi1SopaoZFMQZikW7Y3jaxGQTLChM7B8N1t9wc1mrSMClFS6suw+BiDK7oZhAGXJe00VzBzVYmBn3yEpGY6PBjIKhVCOHi4c9JKc7g3ZwLjD/Bqv2QixkO2mRLEXx7nWFjPK/ub5764995OA9328vIt+PyMGyPn/rVuKEX+bdWENsybcdkhcoMDvbot7Z2qx2pfubPt0s8GsZfk+D942G1jtxVXZW0ErfujltV15rw68r1vkldsau5wWS7ZDP9Qldnqemp7nXOxUaViu39G20+1UOdz2GyajQacVYJpd2gJqbDukp9wiZe6vOatLTZy+dxdYD2BZXFQRSPphLp73WV1iOwbvDnm1UTph8TUiLyAvugdjl068aweQPzdbWxzghRIIjBLzYzR/GQtwvPQKRUKVcCd+DLQMPZjMOnMHk/seU9qoc8vjQtdxfBFPk5/Fx2Pm7+2+Pn/adb4+1Bdj2QSi29C7zFGKXtUVWDpNHPTGtJbdN9Opyk2bUmE2yt8X2DRvNsNl1cA/lWXWH6ni/stCOZvzo7MfmlYY7NQslsZhKnlaHsD4Y00AMKbPa7jkqyoxXkUbd2TQS61Pv14oMYA4ehtCqhAw1TYrSlFm5iEqxOZnZJcNj1jtzxp8OODDyEKiDitpaGwvYd2vY11B9apDngUJVrHYhP1tgi1S5mMantTl26AWqHzkt8+qL/0v5cDhgKl5D9/Mprwmte8eJw/HHHhf+fvTf9sSzJDvtu5st9r72qa+llenpmKK4iaVqwBRmiIFikDUq2DMOg+MGAvhnUV5mLCf4JMkhKICWQEmAbgkQZhg2IoiFbXABSNCnO2t3T+1L7Xrnvmf79TryT7+bN+7Kyqqunl8moehlxY9/OiXNORJy4e+8eW8wPq/OoN9xY4ZVUJBQeK/P+xbVrV6s//ZM/rL785a9UFy9dpJUsdIxsPFgHgWHZYkv/Krk5Np+/HlDqHaMO8GoHXHZhIHHAjtK3EhJ2vz8Zvx5eh0f9y4zqwWLGPZj2YJyMW7cPpqOMXL3rEVvczXg+LrbJ7echVG/urCxVa1evVjPrW9UERKEvILu4b0hcGGedRyFR8bkWmnl45R3JN+cZ+XmniXzAc67xQHDApDsVO8R1J1Khg/1ijwfRsLVUzaN29B4XgCUw4pgIdRHkYueyBnz1/mzWf6+JlB+jSYWD/Ov2R5RJ+eELzhSHlzdh0G5keyl7iV2PE7xZIzHoPS3kChHHsuKlXpFV5BDW3p/iu/d5iKOsI5aexmOd4rXSN/rSZxDfSmm/+fWvc4ToRnUFoYp3EOxPd1NO8L7NAnV+yO7ELEzPBvj0H/yjX6/eefv96srlKxwP+bB67Y23qp/+6Z+uzp+doz8cD9cjx4C21H6WqIDnLsdB7rN7u7K+zbsPaNaDURkDv6ui2/sWnC6tBoY5uoba1iGOKuELjwirOYB67o6BcJoem6I9C9ydmCfGrrs+MX7UwLWPjnIekci/AW6BYaP9+KVdQo2+32Q4dpqYB91vL/pqwi8j1Oz6/Kl5tzqjBOa6MzUqaizK8Z8NsYzcfdnZZmf73k2IVY/E0Q+lkbG7YlrHNhp/sEXm+rEZd358y2VU+oX7Sxs3P6yGuHw/x72VUevEfZa1Yd7zQCAwTJyO91mYe5OM+QawDFlOG/g5X4kePeEw4vBXuj3bVvxszM7OKu9/LAch/xCYckexPLqH0IG8Sz6ms6PsSyzhIPrKjMMXfwO6YV1n+Q7PcJbxL/mUZdqIsBLQIO6mrbPrsTz/AOHibOw0dmizA+Ocj/nGnJExLMY65Qh/9yz63z0t7Q7zJ2M5uYoRcAIZ4ShzjwmLexskvMAWXfgJEABAmZKZUruXT923+GfsfnH2pzjSV4Hyx0c9ajxzonroWEJqAcdPG1ch9pdBPFu4d9DisCsS5UjAINo6OpwxjiMEfI/iP+yPhWYMBmASfeYTMAvDbP/OXDhfnblyuRpEusXVvahv4N1uzfd6BEcQHvTvv/6d360W2Qr91V/7ter7f+gHWPzWq3ff+7D6rX/6z9C+dD9eY11hK9/jTGc5yuS5abVnyPh4tvMRL4P/hz/94+q1b34tLsQNwAgpTYsG2h/8CjrpVuLY+lz2gMtHLiGfywYeoVHO8x21pEAreKdhHbiZQB3nsEd7IFq30dCyi+al3aEx4uAmoipcJdrUelQWZBkMF2SIJn90ajAELOjDIyxTAU8s9sDZKgv79asfVG+9/q3qw/ffjfdyFH96LEH86a9HQByhAd0oBY05mv6ahlaWCOTdFQ7QbpVeDCsM4diGarevcufj4b07UV+JRI9QBSbopm3mevTvPSwWSeJ4BnkG8yCBTb8sQfS88+1vVn/0+/+OS+rXOI5Bf9OUUEiBNHiOY56bqLtWODI+zjiQ06//xj+p/r8/+TPGgBejkbr+2j/8R9XJ02eqX/3VX+OIqUwLF+TZcXGHPNakbjuyL6zMGoVMnz9bnbh4vhrjYc6JGX7g5gkegRuLecADoWjBUQPOoMeZwPMd5sQQ8wGkjQrXYRicwXiRehXJPLcvmE8wi41x2N8DlvzRTL0NHy2ng6klS2Pcw9aNcVJjShfqNtYWR3KWmMPucjNfnnUjyfVpjXQyEOnWe7XGkcBBmAUfex1kHd5hLDdGJxD28ZbHgMyg2hTL3QNV1A5zR4grNswrSo9GSdMIQ4XeYYSLt92A3zrrrzv9H7zzVvX227yKzvwVzgOu6TfhLCgi67TXRzgi7z2PblP9rv+63mH14nZHo+RBPYMZJ454yHXeei1Th3t3b1e32FVdZqfNUxMeUfT+pI37OOdQvdafVnfn7//cz//yYZXbQ8SHRaqFtcVv+jlwZfBqCZ/A2cyvLWlbnDa/trRtfs20ze9M0/TvPcIirwYQMDljoRQgAhKUtFUcxbkOAzEfBG7m9VHstol9wK8HS30BoZ6mn9t69gtr+pfFFGQiYhHFCoQwEAqbPBfbUfJEP3nGUc1KPgyn3MG9mwGIkQ4Lkm8/cHkBggQVtzAQY+wKjLBgeYmLzQSPLO5prFIDU9ENL/phFwLC5Rpb7f/L//rPYQjWq69+7WscSfoPcaFqhDwfoHLyKsTJj/7oj7BoclyBbU0lEF4+lKGYQWJqnVfZThWpPeAi3K2r16o1Lnb5qqrHGMI4qNSjOR9K4PHfz3oP+KLvVk0qW29Pjnl5UKwe0u7O+PVQ/fb/YjrVo4S7Le2BSC0ebena/BJ+Myztepb68T9Utt55/33OP6+GsgHPsQMQwGWnWvIVauBpiOMH20jxNvDbBlbOoPJxAHsdwlYtKe5XCLMdmAgZgh0uQ68iQZ9Ha40XgV3IJdQXkE56jLFccOzBWb1+dbf1ze+0sw2979LnB/17aTOfXpr9uE9iewUJ6jr3tGSM1OJUtMKUXOmRwGbamrTLV/+/7mqWMksKsZmXPSV6ljh69O1vfA2G6tXqBv3jBXLLtOy5E3P0153QfnT69CkUQ9yOu2dqlPrtf/Gvqv/7d/8tOG0KXLiG4ORe9eccz/zgvfdQZX2jev7yc9XlyxeDeVA1psKXEMAEVVjqGvhc3I1Qx5erdxnzDkTmGPfGvJzqHbMxVJX6G+Ihzg7Ep+EdVbh6xEmtVtgrwNIjdnJWYCDW47RDbXFq6ZZ+/d8Sta9X5qGdpeV875voGQaUsiibMfQdozlUG3v6wHUxRpk/MqtHnyXPrnLRH/wZAhY3l+er+9evBlyqRn2AsdtireNFJh79Y7yB5QHhmfnB7Zlq5gr3Ei9eiYvx1mgQmHeNl5kVT+j2mOHSEtomUZXuXLt5k3szrL0+duhcc0xkWv2lyfHyu83d5tcv7n5/ezvhq+TtmGTZ1keVx4uLaJpiN0ZVw8Mcx7M8f/ZVKZtv/n03mTit9t3U4KO0tT4RjxL/SeMIRM4zka9SqnW3gLk8nRPWRdEJLLL+JE1BcAdr0PRvfmeKfv5FUF8Us23ARLltzfrIQjJQTSGN4oUHvgHFwGIyF5AVbH0PIhGTGRjkqIQLp+eqR9l12OAxpFXc7j3ETobSDUEZP9gJ0vAXPKTu8ZAc4DszM13dhvj/93/8R6FWUNWySgtFFl6odiys/zqITgmEuxDLMAkyFEpYducZPeLzKkQ1wOJ7/a23q0c3blWXv/BKdeXLXwoGRqlMkVUS6dgc98An1AMfNz4TSykv3mSHbpPz7+4urHPecJCFdh3CcAGY2QGGh5B6b234SrX+O9XIzGxoUpGYHJ+Y5Xjheki7tzkOsYZEcgl4U9PKGpeXtyGwxItRlgQL+GJHwQMO8aR2k5n4TnV3lm35Cij8VqK8BEG8vnayOnnqNPdAIJTpo0D8T1kx0FE3OQ6YJ3+3rr5fvf/Wmwg+bgTxqWTfaMpnRinTXRz759yZM9Uimms26VffhfCcuEyDdXb9GSLdBozfq69+k/Rcfuace6TvrkW2SXxo/Dpel2BiSOOY0TBMgwKgXe5U5B0Gj3qp2lcBDGfXgoEYhIEYYIcZDqfaob/WwOkLEpTUy7xiZbQRXWPZTZN1aAurx63H012Pn9/aWVy2sx6vnt+zdscuFZkuoTgl7qucPFWmCX4fZ12yX7I9zfYKZ5w+i7OHm8DfMooOJnzDg7H0aOYyY7wAs+wxNeF9O9Zoxr7DmghzuoKmxLE5VKMy/tscZ9ze2WAtXYNB4LgfbV1ZUSEBGhNd+1mXA26YpyFEsAzmmcfmPkkaKI/tSQvYP+Kbhw/uxo7RWbSYTbPTZtvrTANTibjZq59/+5iB+LjHOCjj2oxignmmUwlR6B0m6N79OyB1yd8e19sE6I+zmnVkkki1Xl4zvB5Wdx8lnsDm+Ug1ceCEmOBHf6i1QS0t2ztj1RQERaj+ExI5OzuwzYIDoqHDQs+zOwc8VcQyB/NFP66D6FwA1OoUEjHcoQc9QBtCxgXCnQwQgYTJFY47/Td/+29V//gf/2aoanRHSI0l20hJv/97v7f6u3/3v8ctwcKCA/fhpappdh6GQRZeoJyG+RhE+id7MAQhBN8TuxHbEDvvfPvV6iTb+WMsBNZQ0urYHPfAZ7UH6vigH07yWMIgcCAh6gXYNWx4+tCks9JlHnYgJOI4tWAPsbENXG0Br/fee7canZuvxriIvAqhsuVjUBAaW6j8dIfBi78SpV6W9kS1ZhDVkZpyxrr4+f1JERsSO/aNRJBGwoNGit7Y2XwQ7Tp77iy7ADP4WN9SZ8OfFj9Y3jZ9+86bb1RLHJmaheBXffUCR6k6CGG8NzLBroBqaH1ES0biPjsM4l8vNvvo1k/+5N+AmFupfu/f/SF9txHHyTYYO6WrP/ETP1l93/d/b0iNk5BL5sGyc15oi4ddvYJyoqxBhDFr1GWIPnD8ZBIGqJN9IrM4yE5FHFsCHy9BmM6DU5f4bYnHiU/mJS+yzHLM/jBjPE3O0X7p+vk38z5qvGa6J/m2rl4aV9jlcZ9HXBh2t9t+KlRomSFPkudR49q+bGP22f601Mo+BU7XoE1W3XFlpB3GbdbuJe67uOPvKYAO8WQ2djma5tGmG7fvoKlpvjp18XKsqSvcj1ldd331QVxnSjmF4d2aYXesZC7tixAIcIqAeW2dUoi3v17fmS/Lzz4SrwSMI+wVNjZQh3yTnb516JBTZ84FvO2B9cc3ZN+Zhj9hKccMxBN22EePXhCdSJI5GsCiNqC8EOeFRCfux20CeQDIdVMvt+7OOB/Vz/T+8viSZIDHjeyINYiFXQDSM4abLMiT3nvwMiKLzeYmCx5xlpGQrZB+VUIe2xO63qMQ+cqnbZWMYwGKlkU34jIOecpceKdCBPX9P/B91U//nf+u+oM//EMYhOXq1MkXqx/+kR+p/tpf+cvxIrW7C0rgyCykJg9YfLfYxvQOho8hFUYIoRrbJEPUZQcJqeoKBznTu76+Wk2AbPAWVx6bz2EPuMC0L7yf/cYKoy6a2i76LuRJnAf80nZNuoUrL5VvMO/n2TXwCM06cx+aI441hIQSQF+CWIIlgCgBFiE4hHNVQK5y9nnz/kNyRHopPFHeCESFMCZxJSwqcLC/y+XT8nYLFYs6ZD0+qTGxXOuQ9bC/YvMTP4UQy5xxv3VzuzpzFjW26Jo3njhJ5NDtSrvzCYzpGRuI712Iu1FVWYLT7BvfpvDOgztCkGQIRtYqCbjbDMYsZU9OTtH/hECz+Zjcz/7s/1B9z1e+h8cy/xStdvc4djSKFqbvr/7qj/949LdHTRz77Ntsp5WVqDJsiAcdbIdqdQMfQ3QOs8vkju869fC42iT1mkSCPQRO3fX4C0znGkzDPAzLEm1wp2oHKlRhDknCZH9Gf+GT/aydJuP0+36cf4Yf1c66HDX+YfHMK+AK2NgFZhYRYnlcb5zjuEwSRs9dptK3h+VzWFjW1z5LRle/ZAqzL/Xzl99lECifubLMzuIi82AE9wAwHEoTGHduxQPnal9ix9755pyiHGfeOjsUH773AW7aCJPgcTuTqMWMYP4byyOIruPh4V9lhAU+dFOfT8rYD83y895Rh/Z4DOsBxyrV3HSG3YgRXxSnsoAAQ2Z7yxzNPPL7k2rPx1XuwP35pRilp2lgW5o2v2blC3Jr+h78PkpepvpOxDusjMPCvFwYEBPgEQx9AJVnfIWWh4/uo4/7HWXyz1RWnRP3YK8WH8OVkQXQ1gBVf9uT6dPOfPp9H8VfBJbG+KCi+EdhMBWEcYFB1Y7DVMojRV68M80GUrUVFpotgHaHxVmE46U7F2mTiaSUVsYH/W3e0e0EDoDglF7uQLe4w+FZYvMeYTFTh7saHjYg/se4GD3BWew1FnsvdMUORJd4so8e3rtfji9RJ1URsknPa6swOkpQWACVtvmY1gBqEH/gL/+VapKLiI4o8tNs8rH9OeoBF0h3sw4zXgRtmjZc0eZ3IB0e4s3HmaPkZR5t8YQbf0rSPcqXzINx6wxEptc/iBKaOYgWude++lVep72J5JtjhRxl2j30fskAAEAASURBVFUizw4hf4BYpI3A4ghAuwMDsdORiSC9ihPQ3OOrx4ODEr4eTwSO+FkXCZgsm0pbdJgou9u/9bakO20jpzvtut8+dxBrvTL2hdXyafo3vy3HqouZpJr8DiEHn+fYiTiFGlXJJ/0HeVTvSKa7jNAtka8YcAuC88/+4PdCteYg6lO9WzAPPor7OeC0SS4x+0LvMlrk3HU4d/YMnQEupNwgTuntUe6U+cq2ght3gIYg4kc5WjTPfbxltDUFdu3OixwH6+24BxFKfqi7iLbEnRfGK4hG203qGH3SSzjOwDiMIqGGooz7QxtKpO0b4qlcb9c0xJEIswyNdrqb3+mfdoZra/SPOdR1h2f3T6ZJOwRZLfHqaXRn/Kb/035bv6gnGewwSc5fvFhduvxC7Ex4BLBo9HMa2ZNPZsx7L3/c5uEdHf0UhPldD9+fu7tq2zz2+KB69Wtf5Ujew3jY1jgqQWDbgDFTPTPakVxXiTsATAvnbDeVH6OvX9wDpUwHltGMMs1Hhje+dXfHOXFms5/zO23Tpztt/TT1b93177ZwUtCo/vEyvTM74IE8jW9rZIDGoBvO8fDsFIyfMVKwkWOWfWzQ582A4T97Jgf0s1fzUmPgJoxErxfXlNh5TvQ7ZZzQmrQPc0fE7p96/Gaao8TL9FG6deC/aNHzsgJiwDFIzQVlFaZhG4lmRALxKN2SIBFFxU/GIYgMV1aSluzwM0+QQSxkxDVvfoa7ozDJ+UyZBwvbRILnOWCR2D2OKUk0hYQzqtJFdiyUkzAXZzlDPMbdB18HF9ndBbEuojUrpCfE6cBUqHp3gsV4Ag0UQQSRr/+PzXEPfNZ6IDXvyEwk3NoGcW8yFhKRoSUN1PXeWx9Ud+7eiV3DFe4yDHOkBtIB2JM4EP78UsUjRIvEYqzBQF7AK/kSMRZo4QU/ASdgkfJIGojiWYKSbWpbR5r+zW9rpmn6N79LIyTgCuUPexRHNb3rJmFxgguzGedpkUSHC8qT3CNZ4tXncST+FrULc2Z/T/G+wznetLF0/Rc5qhQv93J/zL7fZEfHnR7vdVn3OE6CeuyhzQ5HM9A0Bw7zbRyFKabTzqMl2X7nhnMg8Gv0CRnHgBecLtOyy3jLJFBIHLnyqJsa7XIsDY94+IjXlXDHLgT5OT7WLU3beBlW7/umO9PW/dOvmbbu/510Wzfn+jZSL5UF+Eq4Gqp67c3eerJaZXptf8Kta5zjlmHNPuj1k3Njvnr99ddReb4Qa+cmx4hVhe6IBPns2FA112tfFdet5ehqMzLdfwoFCGbiuS47vobwFbGernWRNP5YZ029TeHR/dNrU/Fofmfcpn9+p53x0rYVamvyxMG1ax9UlziyNYUWsqRL+qXL9J8H+zvCQBwY2BjvMugfVyceKPPjKuix+RZQqkdzAfG83yIXjXzwxy0+e+OjAlK9jH5uJ3XTtPkZp59/M6xfPP0zrG6rY9q2xiVnqqN80v2QHXZlXJB8iRQsQ78gyfBoEyugEjwchOBgQRxQZKTtasguglKObJoPQW27LQyiGoZZmED7B/f3FL7FYjfvwzQsqC52joX3UTx+RC6x7e7COs5Z3UkW0TGYDuvn5Wlfop2/z4uuVGUTZDxIGWqlsE4b1NOFcu7MqTgTKRJJCYT9dWyOe+BJeqCJvwJDOPE+RmOZ/mSqNWrx0eiX8OucthrCqVJMXy2+eeNqdfPa+0bkGCGhwJNHDOOlaL69g6Q2F5kIL1MrAQ8cAOh2hF+SGMekgRhiJ0CoIyzKBtAJC+lkRCp1IvaRjHXPNminyTbltwikX7z0N27mkflm+vyOfKOeEknFKCwCpdFv29UdtCJJdPtuhNWpVSmzOmhn30SI40E6MvThyzvvv0feEOrs+rh7K0HnZWkf4VLj1RiMhve3zp8/H8zECsdR1iEGl5a6Gm/Ix+zdiV3foK+p9TyXwCU0VZftT+GLBGgyFFYj+2EDvG07ZQFi1MCLHvOgqUEUq6FHJmGDyllPRWXi7YIfHeXCUNhl9p0M5lFN1iH73nTR/9g5ZhmnnmczTnRvzLUyB+pxPy63Yyg353olYe9dAFWFP4AhPHfhsg2hb+gtO/cjGGHV9jp2Hq8Tbpt9Eowg8Rxz6+IL2e++821OSDxkFwG4ZuyHEZ55Z4OKxdrdiTeuZBBZNx0z6qkFK8v4Wnc85F4J9zJ9jDNttuxkEqMPStIS/wnaWh9Dsmg1xmmbB3V/E0ZdsdM/M8tvbY3xnKf2QfSE9AmubRDazVvXqguM5eTM6ejnvTRHAnDz/OyZ7wgD8WnuliYgfex1BUA8jy+yvYt2H/VyD3PjcBfJEDP9mRWfk7ctw72wAhMRZc+vkaDuX3cbrf59mDvDApGRTtpfBCPp7UkuCXn/QYIH8xDICO8BEFmMD/FdcEVGIcUQJ7lKks5DUOZlGboDsHG74I1x3ncQgmWdC5mrnANWu8tW9LO7jMgEwc3dbHlQycuGHGtComda66XGiPW1+dBpvwjT4eI3x0NR16/fiHo4bp7hVg+8JQ9AcJ27xMNykTGVtm3PbkjJ7Ngc98Az7AHnZneOCgd+ppRSpQEBUxAM+ViSsGicEYgMdyiuX7tWffDBB9USqhchOwAqCVvjy0AIu5xpJ2MZh0HPyQvjEEzCivsRUooyEMGIS1RITAVAotEJht1jhMKSLxgPAK+xeJsLlSjV9u/RjPkmIZEp2nB/v3jpb9qoI3ZbfvV4pRzbaT1pP20MLMX3TR5582Lz2XPlIcoS95C/hWohvXmQm2sFiPTUuQswBpeq+4yFalS3d9ZhUiiFTn7Ea9nnz18ER+1yQfdBdYo6LLObMMRO6vjEOA/JTQez+Iid1NiJdXwdM8eCMRRfe5TJO3oyk/7cmfAX2rHcvSVuMhCFMQCn88/HuGQcirSZLqAObG4E8yDzKBvqvFARhS2C7ooyS586Qw4a+zYY2K5tjMeNRT1OPUfLybCmO/Osx/943LSctliV2IWJcdtlfblenTh1lqNk48jP7JgS/qR1MO9si+Nl36VQYK9cCs845q/CkA8/eB+VqrfQkrQYa5sA61zwkn6wek4umM4Btx0U1mHJBDGQAdeZX8zUbh1MF/cbgWtis/6ilc1jVKXx0bQCzeVveBzyZ6+MWv1zHJvJSlv3t7PMM/u+Nw9Ml/6ZR35HPBGPjRQCu/BoPNtpNmscI3Qn4vzFDnedeISxW7dIa8TPoXnsS9TZ5rZOaPpFR4IUNPvCmERHMfvSNPOoZdCMVws61HnUdIfFOxjG5IklsRQdQFOrRWgKYSIBPvjSD/SF7weImOd55TAu5MSlN6AQBPLMzCF9XkCmV1ICY9oZ0vzW/zA/NR9p4jgSbS1V6CGxsp3PIsIUMZ/g3aHU3T0oacBL+IuLTBy9oS1uKl1XGAlDRFr8K6+Uln6z+7xEOI32EfVpq4FkcxPVqzAiLmDqq44tWBAgcphAih478u2GKS5GTyBpW2dRvH+PR3MYsQkW2ZNnkBJSAV+YJQGPMPFIFIQSPANlKJnx9goEFVskL73wSjVz8hKVd2tfKQvOZmfjdWw+2z3gPJNMcjk9bHwP4ooGXux2Q3mnpBHGvD+KaSujma4tTkAXc1M4DEkwi6Oae1aW12Cip5zqATPQHEgeIfdglIW1BSSTSkgfAAerECVbav1Bmi2TUcqxc2AMvNOA5jM7yB2HdTISU6qKiVsP1Sj3nUZ2N3m5mPzp0LicuYYaT6TjSxAZ6E0gG3cqSAthrBafYY4HTk5xwZRLw2qEGeBik5h1H4jRnqhH2tRAgcWRTCAeYlLmPpPfaWdg49sRs+wYuSi0no89TgjhrhdqrrnPToSqnn24zXtajoVZto0XHVxKjczpG/pXYcjwxHQ1feG56v3r16pxiLLoZVTohpAKHLjAJeozPLR58vwFNNjR57wL4TsVD+8/gKDbrmZmZ6pzp8/HXYlFiEc13JX3S5gXDl9IeAozIRHqTwbCexNKskMVrOMfbe/icasa9e3eZ3EyYZB78w8/wqKd+Dk3ylsHtEmsG+2L3AjN/kubOPSRpqwXpi2/vXkcoSVejEU3/mPdArXGioXVKzM89v504+199xmvWnh/J3PYOcdcid01YNC+kG9emF/i0v0UMCAj5oyplRvx9ucazewukgq60rjuqQZ5h7kyOesbRV5ctpxSb/ttY3UptIXd830VVP2u8HjaJnANO8p4wLibH8UPePOeeef88NX4GGPcsdvu/UWgEl1g1SjCg7GK+zSUvQs8bzKn5pl7vtFkRtZ1kwV0kPswMpNjvEMyzvprcJShXev+GGOTYtLbeRPftYgFfqxPFwdEjKP8sXHd/q3lZ0p9Y+6E2zK7NdiLTl/KFlPmEPe5tmnk7evvc9fnRZj0ScaWvhOJ1taKgglcPQSwz7b5rt+B+GjD151Fh2Ti9AqpedhORuYai7HIemeDbW2IUNHD3sQ8JK+PI0hg06R9WBltcdJPO92CXbqbdikrMImldhkCnPZLty449qqhX+9X4sR3t4wMc0dhHMZBCYvSSyVtSk00QSAFDgQZ+w+AVro5xLmmEydQz4rGJ5kMH6lyR2iOc4zTPFAnE+EW7hSIYHdop7qBZEg1rpY1wCKt+tkBGBbQVVykunjlCnkDUiJ4C+41w69jc9wDn5oecFEMzW8SJyz0MtZLHJ+QWfA8tkcVdG9trQEDj9B//qC6hdR8hfPQPoA5BN7a5LE0GYgh1TDmXO+urwEB+sXCXIjqEKIAM4Mw26PA9SjljgCjgxCga7wKv6OWM3YBz55EvzpScokEj9usckdsibIWH8FcoORglheVxyBis8hmp4oTkmDU7meedbx+5ezz7+K2qB/rgA+7iY9Onz5d1oZu3Xtp2usvZhu03+nfMxcuVNMch1rmOGzQKTBwgzBZFrXCmH549Wp14bmLIfGdh0BUMHLxuQvVI4RYHlVZ4LiSx5ROnTqJ1Hk9dl49sukdMfPJvgw8SrkyEV64FtfKSIzujBZmkh0VcaNGIsmalz6WgCpTwbxiNsTcKG2LXSv8tcNbzBvfB8exbczqflFOd8z1T5Nx8vtx9pPGf1x+Rw6nyvbdA+7KnGJOqFyg9EkthyR26Umde+E67F3anfXf5MHTNc7oz7CzDjVrCvqW3SDgdnGBF92vfVjN83r8JqqTd/CT4QhBYPZd2GUcSt5RBGWWsl1j3UUY5tcBrr35NA7DMYQwcYd5srlqvtvVydkT8T6E82OTtXaFdXSNNVi4lpGeYa6dOHk6BAZx2sCm1Ey2J+1a0D5nhqe9L7D2keFp14Ke0lnmsjCiEMR+9TL8GAy+l+NBqXbfnkG8uOf+LDuOGYinHL2yJBbQLaiyZFTchDJZBG63+crcccIAbMwkL6494vK0OxFDkQXxJXa7iO8pq/TYZAJLm6n7t7kTmZs2w9Nu80vCPeOknf52jH7pn+60M89mePqbT4ZZNyVh/vT38Slt/XPBK3EdDIh+JCHGnZudC3uZo03eRfF8qIvhJV5eJXN2hx5VS/hfQHonir52/WrkK1HjxSklJ3aneav15C98+QvVSc4jx2Az+I52e2/bimNz3AMfTw84749kBAf+OYfFSaqP9IGxmROzSLZ5E4ALtQvAwJtvfZvL0bfj/o8vFg+PoFIZwmBlGUYaQsF44q6Y8eST0usgcCVYRIRAQuzXCKse+YOAmACGxi2bstZ5VKoDMXHi5CwqEYE3mIh14qxCXEhwDBM2zENni8DoPPVc5kXYYbQXDXhHqtHcbL9wqVu7DQ7b4rX121HjZdost7XQjFSzFWTcYPfAtxpUs7q/rjau20AHSkOb9PG4JrRKCKPGOW72whderl771je5m8UOAlHtNwnysvqAv65+gCKIs9Xs1CRntW9Ev/g45tyJFzhKe7d6tPAAnPcw3rg5cWo2dm8XIDC3qF9emrdtpQqlXz3GprBGfOrure48CmW87IvE+/Zl/jKf/DZu4mvnSzNNveySRgap4Pm2vNJPW2OazKP47P+bdU3b0Lb45tM0bfGacdq/6c/oUudocUf2OOcRXK2wlk2hKbCMuDlE5F5WtJ9K5gwB9mS8ym5RqSe7CxCzYyg0GOY1aI0vXt9/eK96++23Yt7RKwjRgHmO926i6bDEKrDjxXqH3BMCpdl8dHfpSryQvccOpITkFMzmODNuEEGA7zaFVi8Snrv4XDV24hQCN+8S8k4M80ZNiMPEGwKGnaseMR7hsdiRAzBQxs6659hoN3rC4Bhj7Xo8v5smx/Bx8ZrpWgttieRjtaswTh7xvPz8CzDuqHh1rgZVQD33RuxA4s+cRysDkR38mWvNJ1bhGlIBqydIBxPhShrGOEwdJv+yBCsTzG1rdx9kNEJTRTfms7AEjqOYjJd2W5oMS9s4dXd+p1/a6X/QLnXLeNrpPhi3lNUW7oLjpS9/ecHPhUeElCbnslIVd34m0U4ywY6COw6PHrFVC0IzzcmTJzmmNIcu7iU0YTyKM94XldqR9zUQgQ/9mZcX3XwAaxtELRqz3Fde+XL10iuvOLw9U3f3fI9dxz3wKemBQlr6IKK7DV7enJocRxrOUT+kGm+//Ub17rtvo71nIYjbCzyOuMpRB49eSnSoYrncPZKQhZKVluGf/6U2tMLpJy5x3ADE6BhwcQJGfYwFdZvdjG2O0/h28gmO0kxwJn+LR5q8G6BSgylUjEpYL62ukx6VuUpjyWeDndtd4ngEoonmEk8Iq7oT/pud/izj1fNqlvO4b7tOIv3mjevcvRqJC8+H1Tvzi9GzUyFW7OhLL70Mw7VevfPuW6EVprTfnucf+Eom0aNnoqXnEIpcu3GtunrtQyTT04H7xiZG2GV6WC0s8oI2R1jckZiDsJQQUigjnnOcs61ZD22FLzITY+wAK4SJY02UWe/7ujvb12aXfGkQprShuPM7AvhTr0cz74yb+fv9JO7Mu56veWgyrHyVv23x6uFP4jZ/Jfq+5THP7pDHxQbVALJnev0Rgxmf6VfmvFGt0zowLSypkUsRuHdi3uLhwavX32f9Q1gA4znB6+EKyjbYUXKOOGNUImI9/GXbcAYjgWfXT4D3EI5HEXm0kHk4C8MxwlGpbebDOvcBplgrT5w+GUKGLYUECAGE53iZnHXXI8UV+hoGSLvpiQzWWPOngL3W6sg+ty71Ou2L9IzjHbXMZh2oPLiwHNNT0HKXuyTnLrj7N3Yw6ufAp/P3f+4XfrnZjpw0Tf/mdzOew55D3wxrpm37bqZpfmeafv4Z3s8+arrD4mVYtrO0uPvlxIewTFPAWimQQNcNYuH0FcNlnnOXU3Wiqq3kk+BKE0iyvnU7w7Szzf3C018uO009vX5+7/nRH2n2/EQcmHq8tjgZ7mLmz7op+fKX3/oZL22PaLBPUE0jffO9h5WV5VgUjaP0TG0oEyDZu/fuxnENN9LPojPdLfpbIAAfRPJCoNJVz6Nu8b1J2hHyevmLr1Tf8xe+j4vwShkMRwJkU4incdyPzeerBxxeXy1XM8kewmtpYhvctPp14aEtrCXbfV7NNM3vfZFrH3FOGnBV77/aeDyS5NGWBaTQ3/rW16q33nqDYw0yFaNIxqfZdXCnbiGEHqoJ9fEoYUEcBoVKN2Az2eNssjgQt3hPMOgAEN7zmIQwOYW640nChpR2QlR4fGkComKcI0tbECKb/AA0Opg01FciwzLEj95X4iPgb9R7TjD3iUma7a5/Gye/086u6Pfdz9909bC+7pgYRwB+okiwbUKA+5K3Ao4h30oIY/qSh0dLwmmnZLb0aVxCFXeSxyx4zMvRi4vsEHEUyUuv5u04hTY7iPrVtWWOVYwFvpPwX+XOl8oiplA4MQ6xKjPj41gb7Ay5s6piCYlY8atCF4Uztjnxa7qtrkyG/mX3I0dmf38ZL/ssbf32m2zg4XH7pU9/7XSbf93d9t30a8Y3vM0cNV5b2r1eoq7UMJg9x9q1zP48wXE9mWkhTCpB0NAu0mw+gt4odrmrYI7CJ1oeUfyh2nKjfPDe29U3vv7nPBZ4i7Rb1UmYQ9/78KV0dx4tXgGbGgk92qgNsNlppdpRBKVqWzq29xU74IETIzAKwOMo+XR44XwQxgXWHrgeKQI3djesBNc5mCTSQ7wd0RX8lfaTGW22vR3mr+2o92m607ZCpsvvtPXX9Pvu599MU4+3z029bX3d1MP3/MGPAa94rNIXQ+CsCR+fleHXYAmyrWlLjM/M39YdiEQO2YrHNTTDD3Zv5rDfzvj7fZ9th/Yr42nLbObnBNibTN05VSzA2wliKMAXRDVwqBo/t/zXOJO4yGIM884aqZQmYgYwNuv2Ub4dw6Zp+mWb0j/tTJffbXbTr2w5lzINa4bv84veEYgeE4/w3MrWLv1J/0a/ljCRjka/jJvt0t8yvFgtgyDSe4gURj+RlHcgPHvsWd/bt25Hehc/pW8+DqO6xbXuMQoRoAuxC6vjfhbtJl/84her5567RL4iW3wtgDDHNOZCmRARdvzn89UDMYdsUi6wLc2rz8OW4JizkUVjUWqLG/FaymqW0fzunxchzFNfV9/m7PMUd37ee+ctGIfXkSDzKBk7ER5ZUkrproPMwwiErRJNy/CXBKNHHVQ0IHXjTqooLbSsMf/dC/R40hSazU5DiE5CTOwg7dxGgDLAbsMYhBKsORLQFeqBC6KDVxnlE4BTSZiBahxioxoB9jh+uIXfGg/OGWh4gWXxbMEL2d5+3/38M13azXjpr22Yxj5It991N196PdbQiiDM1UizSD8/8FGq5yCi/Ef/WZR2jmu3ZEJLQFSFnRnNMOqqn3/pi9XUzElUcL5Z3bh2PY40ycgNQ4Sq5Q6syb2Lu9Vzly9xcRWlEeBDVVJfR6h18uSpao6d2EHqscIYlSNKCF6YA/5kNEIhBYVm/yRetn66DZf4rZvsF+0M22tPNKAeW/fR+u4o8bKe9RLqZae7Hp7uXE/8Pixexn8au6xezPNgEKWwHXn/8oAqxOcquwNDo+WCceQvB4Hxjn7MEbvKCaJFHu4suA6pclzfdWDsnVffqN5//+0QePjC+wwKQVwTFZgZR3jNsZFJl3kw2+g74ZpYfseo4pBx8Eii5U3D/J/g9fJR0u3CAHP2jTtOMJqul8yrTaTwcLFomaRFQxxF5L7h4AjpKcOXrceAbQVyMhQy0RZU7+u6u20sqdbeXNStOSxeidH/r+WZ3l/dpH/dT3cznn6SAxlfLVp3792uJsGvE1O+Ql/wZAgbo/dN8dk1rQzEZ7c537ma5/TKCV5AjEVMADCwC+BqHWHWwHhzBAYkroaDDYC6aBgxWkQEGAXU/Sbz3u978KttErf5NVNmnLQzvP6tO7/TNt5h7semockZp5lP+ltGIvCMk7ZhmuZ39pfp3FlQwuYFz2kIIc94K+ETcEWFSmY8srSCHvtFzlSbRpyhVHN29iQ61B/F9r2swK4XHhhUF0dfnHwZxuHcc1eCoKIWkbYsjOZN1C5Cj4/jP8c98GnsAQUa7DosPFqAUFmrvoWE8sMP3mM6Q5wz10+emqsmOY5y/y4vsDPvRzxGIW4THsRvkP05z0PjmIEKRAK+IBCAAcnaXSThagc6z1lurz3vLqFmVPWfEDqeud4E7jwWqArkIS7jQuNWO7wXsBN8hBJOCBGY+mGI5FHw5ypScaXqyDOjPvWuFR9kner+TffTxGtL0+aXZRl2NGOfgXtopzjkLo/xTbAbMMulU2i0IEbcQc12SbgVY/7iJb/8w88hQDJ16rR3G05Ul6/crt7lrLvKIVYQhKhuWq1PXmK9fp2jFefPMWQcbeLIpu/dPHjAZeopjrbMoHkOjTJL3IGQ4FToomprdyLEqXnPwfomExm16OK9Ztvr3013tsv0mvp3xtUv3SVW/i390h5W4vRPm3m02/V6tMfo+baVf5T0+2eIgwdU5VCyG7ANjC5xpGz29DlB0s6JQjOda1kwIMwP69ARlmTmmSNeinZn8dvffo2jaXdjN92dw7NnTjPmO7Gz7vgFE1KmTuQRuxjmoGYoKmQMAoQ2t5jiG/0hMDxoJuTl5bNT49U4ihY2ZBQQjgrX4hMrPLiNVjAAubPDcUd3NDyCOAiTsEWewLACvGHmV9yL4nscHOAOpm3J/qu7o/F9/hw1Xp/ke9798tE/tn8cpMcYNcrFSDleNNuxuMURxcvP01529GgdsB4xHpPTpz/4u4qByEn5TIYlgNlJUCZ7mQ4AsN9iATnNAOyNgPsQyqC2cANJ3i7IXDWjBSmYRftkikn7TCrbnkk9/7rb2Pndz27GKfEKcPVLk/72me78rruzpvWw9Duq7Ti75R4aQlj4lJ6qdWK4MxrSGS9ujY9PVvfvc1Gay1si0tCPTfVP8+L0KqoPH7KoquIQPEkYSJKt1QuoS7x0+XIcg0L9EtWxDeAINS/h7pm6u31se3GPXcc98An0AMSJc3eZew2vvfotCJVHcVZZ+nSEdxcmkYT7ENkm9w00cVQmFndIjsB9eJK+SNJ0Qm6I5LrT3S181YROs2Be4GLkBHEHPGcN8erFzoWFh2hVmic9Z6g5+z/pERoqxAEn8uHirrsRMB5x7oG8JIyUjAqrMhAiVaAv6lb/I97Yq189oOHuF6/p3/w2m7qf7jYTgqG2gIafD8uVo6xK7ofjCJGamTxqKd6pN7F0ux1smf4St3RtLBkC+77DhdTzCDlmYQZucd/hPpp2HjKeauQZGhgL+/69R2heOoU2JlVdkxbmY2FhBQaBC+0wILuTO3GOPu+YuQMhTrV/vSArjjWsXx80mhqfbXHNL/u0hJc+Tf/MpzmumVf657fx2/wyn7Qz/4yb/trm5a8trB6vn7tel75xDMgh7EYqR18oly5QqLUWhPlKqYeibQjPmFuMlUdqVZccvUU+kKURvo5Gs5s3blbvvf9OvCbtUSXvAJ7nWK50yV121odYs9xtlyHsMIalL4oQzTmEB/nX+wA39bG8AXYCpzlyeA7NTiOsqzvcUerAXKyzO//w/t1qjTszCu6GWXsnOf6oVqaBAeY3u48KTnc67GKCGwaGi6DBst016VAn21JGv9shfvcZh6Z/8ztzqPsf1d2WttSsMWAZcZ9tnNISsRTNi4cZx+7crs5f4MQCeMxxDjpxX7rP3kfrOxB28rM0TwuET5vuo9b9SOUCFPZS8PBMEL+cNm7de/5w1x9YeXudl4vRjLG57rnSrWoZiZ/AZhmFr49UXR5if78fqR6U2TZebX7Nfsk4aWd4/Vt3fqdtvKa7fJe4ujM87f1p2uNlurqddXoS2/ReUPf1VVUOKiUbHZlgd9UtVDRFwDys4x4fmwj1hjPTPj/PpU4ugE1Ml3PAV154EQZiDkQ4XI1y0Uymw+1XsYH5KVApuxmOY934lT8Qo9jj2Bz3wKesB6TBPf/84fvvxq6oC/4OBOEE5+O9ZHvj5rVQ9AAUBSHjuwOKxFNC6RQPjKeec/0DHoTrbhyEIu4STANjMxDDHZhyzz+rWeb6tQ8gWh8GwyJsqQ7Z8/bC3xjExZYL7BAMjty7+QHPykOLvBThJXCtUd3jftgTPIFH/Otm/1cJaYtnSN0/Ydf86v71/DNOvbwncYciDfpO7XCqxFVK66Vlpf5nznDcQ0FTF4fYrL1z1Hst7+KXbiPL+DgO+EOkjNH/L778pepFPr3Y6js3m5xbX0DLj8ddZMhO8Q6Fxp0OmQQv1aoGW7XYno+XUbAOErTiU3d3ZSQkPsWF5nFUk32Xtmmzf82/tLU0Jv0z7/wuccStpdz9/iV2m1/mk3bG0U5T8i7zQL96WMY5ip35PC5u5p9VMF0wEXioKGAJTWgPrr7LuwIw0PT7IHftBjhKOARzqe2LqvZD2aUqx4A8mnT16lWYD5hFYMUxPHPmFO7B6tatW/AgMB3kv4EgcwgmHRALxgOOPapbKBnaLgPh3HOKOfdII20zDjN/2h1FCP7t9eVgBu5zAf/WTcpkR3+CI00yISpN2EYAsTPM6QvSbCNYjbdheL+lg/IGcYVHubP3het4Zi47o9t50ScNP9M0/Zvf3eQH4mWfHyV+PU4waJnpoXa3w6JlUHkwR/bpPcZlDNrjJI8EirmM9Vk3BRMfoRWfh8bmkJXhzGlbGi+g9MKztSVOmUSJ3EQqApPfTmJ+HE/a2QKZslW1toKGJe44+HjLJpK2DhKfQbcjmS4bLJDsR6C6VWRsaQVAzWvHfcGGyYle97YuH83Uy6H87me9rOIuAYb3wjJ+2tZEd/lJSIRPYKTST+U78+oWti9NyT/L6OUVWT32j/GDeKHoAqgQGCCrYaQubrXHg0pEWFtlBwLke/b8eaRys+w0nKumOQsaOw/E3wGZulMxza6Dx5iU9BQjhqN9kC8OdpQXBRJqcxz/cJa/JY1/M33P59j1+e2Bw0b7sLBn3SPOVAmKmKfCbk5QKiG+0bhBevXq+9VN3jWRqNzl2NIOjMAkR1RU7SkxsLjIZVsI/0n0mEuEeIxJIn99jcu1EAZKL8Vh7jxIP5acSwm2V+JgBq1OZ+ZmqwGOKi3cv1Pdv36tunfrZrXGkYdxwobGy9EG4U3lA6YTDYorra3/lKxEfsB3HDMkRO59Zw8+9eiZAp+mONwYz12VUu9e3Hp63ZokIuq4N+Ol3cuhuDJt07/5LUOwybpgH8sviWPEWe5CKODwYnTRi1/apGQ6TKwD3Xbi161qNxDLeMaRWPSD/6PjU/Hb3dmM+w62Rw1cC1y29c7XGFJljeOqCtf5+zfRVHe/uvrh1WAWZDJtVzANjL/3NnwvIo1hMgSOk4NWRi5De3a9b3TX+7eEWXmrX/BtL2XPz6Y5x6KUiGeskq6fXz28xDEP01DT7Eo+S977/c29mG7E/DyiHcX0iRs5Ms/l+VTYYf8NhUReOmG7enjjAy4lw1AD1wPMEzgJXhMHfvgNQ5COTzCuwO4qry++/vq3mU8ILDkmbXtNf5pdJnf4rgLz3nGQqZyAORzigcYNBZvcg1qDVnG8Yk5QB9+nimlDxcUhQqevRyNlqObU3MWu4sr9+WqN9ypuX30vVD0Por1tgl2HQfKVGfC4jnMG9GBH87OlUYo+5TPaTduF/y6zbM/XTc6Rup/upr/fj4Ppeh5t6Ztzrh4n51s9jzZ3qb/t1cUYALSeUhBu7rEL4SvVwk4ao+X8S7/Pij1kB2nsuLTTHR7dP0rY+5puHn3DGwFt+Ruln38j+YHPtnRtftsgU8+QDgBU8MNMZTlgFxHUiLl9LJgwoUdoj4i9EPlWjDTh5+JLDnbV6qNql98Gi+PW8jy/Rbhx1KbtsE1H3OH4wSwAjJEGVnt7gHOlnKdfoq8967dDvoOU52Ofvux4SA/vtblIvfc+u44ydj3fUn+/c3wzrHyDFA4UVvcwfP93yasgbMNikchMqbnR8Q2feB16L0z/kleGl23aUjfzyp9Jgkjoln1wDM2nXi/bzU4P27MhjeJYUaxdIKNlpC/mq+RjgHEf5QLT+YuXqu/58ldYLEFyElnmRhzH+RFHmUZBrIMeG9gzxqCM8j98rVPWq97rxZ0+ae9ldOz4HPWAqNLzxOKSsgr2wV1953G3M7rhbV2Tc6we1uZXD9cdGt3kdWEIpK8kOrYsB1wzBKIZxr7+3nvV6699I9R0biL4EKYk/E5zdn5lZZ2jLotoLDvFufex6vV33q2+9Y1vxBsBX/rSl6of+qHv785/cCfywiLBtCDfZCichHjVuxTuQNy5+W5159uvVmu8JbG5isQbIta3I7api0RDh0uYEhv+QhptbVhsBzgfre1RQbAocIoEHeJng77fgijZIChesBY4H2PEr5pmTL/zZxRbZB+LE9Lkd9r6B17pxqv7Z5pi9/LY77//KwUcavXSeKq9w1qwDQH44O4tLrGjWZ9+AjF1EwY51nV3LRrhnOyZfR94N77t06g/6w87rCNjU1ya9igLBJ9SbojH2bmRELRcgBgdG5/jHZzr7E4sxtGnQfEtxNAwhKLrpzsdQbjRBAlW83aNTHyf9RpU3Nww4nvjRxqRN8bm9kYm3bbRNbLEL3k7VsYs7QvSlDjZ3ohPX0YM0+4NSSmvjHOb2zJznHUZR1tTpPTmfZhprtP1OZXpzMFVaMDjSLi2yXoLDlphpht7Q/SHDy5OscZNoMY4dtxgNqOvVolDOqFshXFb53juN3mbZZ4dJFWSb21Ji3CEkIvyc7On2Xm4iZAT1cgQ/2xfVL/zb/+feBhymOOKP/ZjP1pd4mFBaRkNLCItBnopHxUkAadbwPY6c3SU9nu5/p1vf6t6/7VXqy12qziJxAV+5o3MqnCNEoQBNDPJSKRwwHw6A9yHYEeTrRPayM7mLjsOzKN17kRsQ3/tsAMSQolG15Zx3Bu8qKMMjaYRNb7182eKJkzXx63ubsI0SfdMb+z212EvQsNRDn2mJ32B091UZ+/q6jxq/O9Ws6fOMB8Lw54xD9qW5+8g3ByM+8n4gIa/e4zaAxxEFzqmeSCU4lOmo39z4rkGOmwSCaogHOD+whYXAjfRjOAr0ltswQ/6+JJaeWAafI/YxTknr1PYvMsEJiMRmAssW9Wx20FE0aX4LX4tw1Cf4BncQ4Lp027npE/bWEdxG6/OHGSanl2QfFt+9mmajF+Pl351W3f+Mm1/297VZDnd8QQt6aN0RUZCBDeM3uVJmIYTaBa5+NylkLwpqVFXeZrUKBN6y6mHagz3myxvv+/x13EPfFp7IBjjwFcQAB4FAibgoZV8xOXGd995q3qThX9i0nsHPCp28yZYaoCXYucCbh7w4rTH9lTf+du//dvVv/q//nV1AcUBYxAIr7/+RvXBBx9Wf/u//qlQ6zpKHB9CKzgJvCZqhagRQ3QgLJfYhX3I2wMPkWZDXqCJZBoiA8kkDMQwBMMIlOIIUk21O3UgZDhzWG1LeCiJBKYlPmQwtkCbvlq7Sc7iU/9Z5yhP/ImjjivzWzuN4emffvm9F68lr2bc/E57L216dO16fRpBh36Kezv0jevEIpqq1Mw0wy7EszbWu3QPeI/dB997WEHoMjMjIdfF8SxMI+DRV175SvX8Cy+yG/GQezH3OYpxG1v1n4wHXTzsukZm3lHRLxge+lLNg0c12Y85ToelM27p32Jn2v1puuPNPHG96KUpsXrfvTnSHs/4xjEfzcEyjzLW0Sclg9pf+lkivZu1u0sd2uYs97X2QU42eOeAXqX+xO3GEwakNHaAE4CkesTu+oNHd6u7bAad4LFA1z/vH/m6/IXzFzgO9yCOnsWjdMDBP/yHv1F9A6GAr5Evc1rijW+/Vf3MT/+3xD0HPHNcLfuLukS5MR8oz7oC1wscU3rIHYt5di/nRsfjftMutM8YjMkovxHqNOKRX4UCwrK2x63cweB7ENvdBmfZOjtYG7QTxBDCD3q31j/9nTl+aWfM/NYOQ3bp53c/d4lc/u6lrXviPso4N5LEp1WJNzboe3dy79+7x92QOfqBxzDx438wTtpPW0Zbud8Jv+8uBoIp67SS29+K0SoDlgvSkNKT7j938OK8KceSNtlhWAVA13itcwc92rtcBuogIhiEg4Y/jx0GZN9mXCZojBwZYFz8nJBYATAWq75lpQfxGBl2cvuRoPanDenIoT/eGEfwLGWH44hu4x7OQJTym0Dmt//a0mfczDe/I43phLAjm9KvJTqojsU2Fi0QkluEbsteef5y9fLLr3Acidem2VFQCwL4NI4rGacALb0OghWgRbgSU5814D1ylx1H/Nz2QHPObnPEwDPq3mcAgwVx7kXpW3dvVu/yyNg8BGAHwm5y8gRH/FD1COypXUep5Ycffgg8bHKx9nT1L//l/179y9/+Vwi+J7kjsVr9vZ/9exAhS9X/9Eu/WH3plZer7/nSK12VrpSiFFrmHZQTIhS+xa8odKzG0SZ0+vkvVKsPKRcgnALU4xVamIhRmAaPOcQuBDYAivYlmAbqLxMzCBGyDVwve2YfGF2lripwEY8M7shkdPEtZSUOyf7wO90Ofn73iycGaouT8c2jbtK/XkY9/Gnde8fP7FJw06NHj6rpObQiPW2Gh6QT/0VfYs9wJMW7F+JDj6dpbFsQt+5YQBR67PP8xecQmn2F93IeciTmgzjetMbOxDjHaXzNuMO42ZdKvxW/0atkpE9/k31pjBwDy86+rdtNd8bP3PN7L14GYO/5kbem+R2eNf96nAyzPVlG+vn9OJNl7Y8nzeA6zVzFtlplR4LdQmB0mLVqlL4bRoWx76LEe0QQJsx+4ICdB2DuIXcqH3Lc0O9R1L1OMA73Ydp9rO00d1u8syKz51HddU5I/NZv/bPq//39fx/Hmnxf4ld+5Veq3/zNf1L9g//5V6pf+sWfiztQQcRbH9ql0FWG0ia6q7TK/BDcT166WHVGmRcP56sJArxfMexPuIZZ8C2TYX6DlOtdjQEEAQPsHGoPIozYgdlc5c7PMjtcG7RjB5hX2WHQEI/vzhi7HIfs/+zjPX97lorrX4+T7v1jUeLql/k0w5/22/LyJ8wtsGuzCFyfODMVQs/CXLSVS4d8ys0zZyCedec/2/6D0w1ptVIyJhU/h0j5tfcU3JoN1AnA7DCxvcuwePdGtTZ/l8UPlaC7G6giDPB1oxkXM51VUwDbYJIE8IszwzhpzV/kIBCSooN6UcJV2brjvQmQsgBjHYzTNElw1/1botWDu27zKvklsKSdkevfTffjvvvlEcCfNehW1Lza8qv7626fN7ahDYh6fqol3OUimQyZRNBLL3+xunTpMvcdym7CDhIx8HAsbAJvlpV1knnQ1HcmwuP4z3EPfAZ7wEu5u+CqEe8JoLTh1odXg9C7hdR4HZw2jsajXR5TmIJpWGQhE5Ke417Qo0cP4py7l2PffPPN6t/8m9+J88uIDpE4P6x+/dd/g5hqVtqqfv/3/6D64ksvhUBxx6M3wO+Q1EUQiuJDO87nqjgaigS7g1rkYaRtHXZsh2BQRiAyRyE2RiByZHaGJC6olwwEHA940qM07BQiuVwBTy6SZhHbAxYp05ZZKeX1cIGlJlwn0dCOVw7GAwGZfA8/pFu7mUfikIzTDE9/7cebgqczntWQ+PbMtMIix2iFYymTM3mEKWM+Gzv7yXGQcVC7ksIUcaVj6HFTd7KGBkYRxHCDTy2/1O3kyTNoajpdXb78YvXmG6+FqliP4e7AJJpn3EeLNcB+3d/GfjXPscvwej/rl9/1/s76Z5q0M+5Rys5y6/maT3veZa3KNFneQdsJWjf756kh7iN4XMhjzHJqsX4CTx6xHmRNUyg5yvomfDkXQrjJ9yZw/UDGYJmHAIG7LaT+68D0GEzEOHcQNjgpMQYcq778+nV2GMneBwp/67f+afV7v/f7PCR4AsZirXrjjTerX/yFX4LhuFVdv3Gj+qM//uPqv/wv/gaPEK4yCWUeWDulYfhtC9vshjhPfKBwjaNWo+zue0S4ChXB7ipyz8bjwsSRYZF5cOchbAQEHktE5RrHlWQeEApQzzXK2SJvsAbt3yOe6h23N+77PFs+ckz2xu0Tg+mDlZOWs37CmEJMmbqpubPdbxhGmKt2c3DetMf7ZHxbtTB9MlX5+EsNYp5iXIREac4vp+wgADEMwFYwCNswDesPbldLaMFYZ7ehw8I1wvElZGOwDAA1QKW0IGB+COKTjHLLN9ZQka74wAAcsgiDBMhADChVYALBj7NtJ9FrFNgXJpdnfZsmAaLp3/w+GM/W9Qj3Zni/7/RP23J053faWX5+p02zIm4yPumfdt1fv/TPcjLfvrb9xU8pXcENXkxHQgOz8KVXvlw9/+JLoTmk5F3iimw956vUU/895EIh5WIo50shppqLR986HAcc90D2AJOwPp/S+xO1nePgp02OpLzx9W9Ut29eQ1AhDkL6j3RfBkAc5CJ/DyUD57g07XGj+/c9ulQuS0v8bSH1j5eMIfTVWvbeu+9DLEjTD3MufyYICS9q+oZDLPvgydT8M6BQhchb5LMKbhP2Rk6crKBuIDAhTiBAPWo1TP95hEmp9QA7hxIXHX5DnaJpZh3CYoELnoscX1oBd7pjG4BvG0GZyAww4rpi6jDchPWMo90WryCWEivTZpr81k6Tfn7X/TO8Xkb6HcWOtSB6lHWEcZSgv8vFywk0xeVcq9tHybMZJ9OLjwujUGKIB2VYxIsSgF6wzvAO69MA73MY5hwY4Flh7z2cPnOBNyum0ax1rXrttdfi3QLfFyldVXC8hC+rZLMafb/r/Zn93Naf9bBs08FMLdfyD5pMnyH5nXb677e7bSoLUAS11a0+L42Ua9++vLyc48/XERnzEDQCR4ompVW8OwmBFmHeIVDRwDKvjN+fR4KtYAzifIdx2WI3Dko0NGPJfKrm+DxwrTYt3z8y73WIfN/y8K6RJnvkm9/8OmPMjgIvU58ERreUtglfe3GkTaybbeAoFQzDprQFeY7yllIH/LCFpsk112HmTKhbJrW7G3GZOmAaoQVHh3eZN7vUbY15N48Gr0WOf29SuI9PQg1F++yDHMt6vzomTZPx9G/GjW/TdBvaHNP8ruebfuZX9/dbUy+j+Bz9r/kJSzIPmgXe93jIrqxKK6IsaUr84y5nVjpifrr/PJaB2Ou0PgN4lObt5dGN3Pw+Sh71OM30zW/jtvnFAsdCpETFg0Nqo3AvYgjo2OaY0uI9NISgdWJ4me12/CArCQf8hB4NDIHgLUDKhrgjsQvwenFR7lxAkxcQuMoc8JohsA2AuNhtyjTgdqtvkIXRbUnjWUodwVh3J1vdj2y6pluX/MRum+zWQpNhadf9IkItTjOsnibjpp11yzjayhEyj7p/3S/99WsbI/2Lsf7+EgP0UFrsGVGeuweXrrxYvfjyK9W5Cxe6wCdxURCcC7DEyX5ViAVBWYbArERAqYrGuh1ep4h2/Oe7vQe6IOhcyfmS8zq/7aK6+7Aua4vX5pd59A8TpynNGuLSK5eXb37I42u8icLREqrK/BanwDCjkUUCZUstcQMz1e3bd0I9o4yDD0hdvnyl+js/8zPV//bP/wUamRbIj6MHwNI2x6L+8n/6n1Q/9Td/qoAleYqn1MQzTNpShrCnARsoSRF+wX2Qm2hdGg+JqThQgYm66GUulGhLcHTYhRhESrnDbsUSMLwIgzPPborMg0eiVCupCdztetQdB/3skxwDv+um2V/94kUDSFiP34x7WFi9zKO7a43IRHgloSF+mue9jBUEWxMQbNYn61SvSyY9qm3aenrz9FvGQbw6PCretKcZq24VfXF80EuyjCujSVFWFAZxZKx64aUvojHqVPXG668h9f4QRsOjdK6V3b1+mb+Wpvarb7axGe58s5718Kx7vT3NdI/7bqat519P65qS5TfT1OMdbKyw0DP2q8S6cCg14nibn7DgPQTheIrjSAoYVyC0B7hg7E7F/CJHqtkF6qhylSPUKHcNot2zFR5f2oaucBfS3SKl3K7TjoPHFX/iJ38idgH+j//zd6tVLkx7Cd5w7zv99b/+n1c//MN/EVhWEOBKDk1EecwKyqGO9jnOIPSxJXTX5C08njQ6wEvUMVMoG2GBOw20YwDhgDsQPiK3g0IGYXgNXLHoPVIYmk3pJepd8AFuy+nOkaP0cY67vdp3vAzEZH7la//f+jj2y2d/iqf7SprJ8hzvh+z6njp1ImgQHxr2fliZN/vnytOV9p1J1fkff/4Xf/mworJznUpNk2FN/+Z3M17zuxn/cd/N9M1v07f5uQA5zWUI3E1wd2EQlYLrD7kUdvWdauXh3Wpoc5UHjVZAj+44GF+EETnGghjMgYAhceqFMQcdQFaH8i6aSODD+XW/YS42WRi32ZJXu88QWn6GuMg7zAI+Cbc/wLsCS5wvjodbut0bwAtQ95/IgpyRe78St/ddwqwzLoAyzVHcbWkyXdrN/PSPsO68z3jpX//OtEe3rb8ZM3IgnILQbFdVvXDlxep7f/CHqxPqMY9mlngOmMiumyzs+CwDGXNDYI6FEuZBgsv50jZnjl7P45jfTT3ghf2iQceZVUzOnyedS5ku89Fu88vww8MABIDjFufTV3g4bEQ8Bb4T97lTKlE/NTUNuOxUj7gPsaqueGDgIgz43ByvT6O1ZRR1nl/6yperH/zBH4AOAOZY7Canxqq/+Bd/sPpb/9XfJN40OxkyJa4KBacKZAFzAXTWP8AubEl+NS4Jot4Jcydhh2+JHqhPGIuJagR1sYNcyBTrLiDlfgRzMw+hsYw7zkbDoATsC6cwQtHrltGF27Y+qfulO+3sS+30s37pTjvjNb/TX7strM2vnqbnjlLNpecV7t63uM7jH1NTU0FsGNH8j15GLes+zsxPW+JG7VoyEHtVsTrxo+8Zi+LWth4FH/tuxGkkqu4uzXNHQol1vHMR9SWvpzT1djbXFLOsh2cRPT8r3W4yTtr1WG1+Jbx/fvX0Mk5lUXJ8D/6EmwI7Jdh7fDJmmwz2OMo/zp57jnsps6xNMtUwc9APHtN9xO4D3SpVEtJ85dmFRdutZngV2rcfFhaX4pz93NwMF6PP857RbDXNHZdp4PaHfugHeczsImUhSCXl6dOnYR7+WvXjP/6fMeZlh0mm1X6WYRR2tymQUWbciz+eZdyp75ZwzDxxZ6JofGP+COvA9TBw3YGpkc5ZZfiXYIQe+s4IzM26uAjBhHjACRSwHaX1+jfHIO1S7OHhxtGYpvQ6OTtBu37h6P5J/7pfutvC2vwy/pPawojMlDCtuuygkaRP8af2T5rdJxZ/4NHSqv3c12SnSTA3TYY1/ZvfzXjN72b8x3030ze/Td/0s5Hb7HuPMEAyDwMbK1yOflQt3LrKQgvjwDb5CIslYjaOGLm0ueAxCRlLCXxBKCXZcR7R/gDItrlMrXrYXZmEoTEWQbbgkci4nRfStZkpDtir/CxYD7KlDJAzZwhQibdZXbt2o7p97Q4SA84HU771TmmE7WgaAb9pkkBv+vtdDzuKuy1Npks74+S3drgBAE1y2nv+4durS3NsusENq4B/8aTPCnVCOSKxCsT4XPUf/cd/CcTK1mgAXSl7m3ERCMUZUX4iDxgGgTbLdite7Utu2yvVivpTWIY3KnP8edwDez3g/FN3+gYLgPMl544Rnmb+tKVp88sKHB6mrH+7eufrX63uvPMG4gzwBcdN1sEbmwg7NhV2gH88Z73hQ2DAhS/GSqxs0zAfdfPyo1pSVOM6BJ7yITEfo1I67eNhiwvz1QZHpBJugrgIGKwtfYELgFv6J6XGgqLEp0u764nHO9l3QGtLpxrzroTHHkCry6iA5X1b8C5sjsSqP424k9T+UyJq3sVbfz+78Wruul8zTv3beB5BTdNMV4+bcdJui5thj7ddVy24Vrjb1YxiGtebztgkiiFe5lz7dOBX+/RZmjquFi9KRI56L2XP9Orn/PeXQxDrof3njj71Ev+/+fo3OGP/KkfWlIiLs8XLvTz2sn0KR+ajnT+zafqHX60f6+HN+H5rmnGKb8+/Pi794pY0++mljJv5actA2JFDSO3tT4/9Xbh8uXqOO3wSlQMy6ZxS8KSED9OCcKpv/skfV+to5/JItCcalOJvAGteolby7x2UZRhvmZEZjiUpHGD6xC4AVnyPIsRkkCLuCPCtIG2VHS4fgZP2cKycD7Hj5Lj6rzt+tiP+hS3jQBMYc48jdowjPiHtMGPuZWq1Mtk+9hu4p8GjhJZLXHFQMg/Ujn5nH0Z/62reujFNd/pFYPdPxk2/vW/yoCXhvefHVz93pteux6n7PzM3dVtjrC5ceK56/vkX9/obzEYRzxa2n1mdWzJiNfnuMDEfY3sQQETt6jpaleavv1cNrMxXkzAW6kgfBEglRje5MFYI1mAhGE/uMjCfBVovDbqdv8FitwVS9/z96MRM1RmfrkbGZ5BuxGPFAABAAElEQVSkTQBQdCsAZLodzxySp3qzWYXpbBZFt/RwyaFffsGHmmarO9ff4pXWhQDgYS4SkigmVXN0BG7D6iaQf80jQoUbHEncpJ3R3C7MXOphdbdx/U6/tPWPx40I0/Ti9L4joPHnowMljxfRn0pgvvDyFwPIlXK5RaqxHskkiPBKbfRXRkN3iFBAYC5yIWXr7jxk/T96/aIax3++S3sg50/adXjJLsmw/H7WtnA5zPw+gQayu8KDiz+EiITEOnPfOp3mAuz0xGgcPVqF2FiBYFzlt4a2MncoPCctcaLAhNsUMA7DyEC4nMnjCzIRp06egKhBtSrn8z2j7z2jOH4QSLbbIqiWELuEH5Gpk0eodlVwryYZYZCwdaBUXmOQHQf3JDzOsTUIgIM+JWI9A+6/6MvIEzcJiEHMAtOG2a9pW4N0Rzo9MM04+tXjiS9yfOr+xmtLq7+mXkbx6eWT3x/Jpm32c2hkgoHwLPzHYbLt4lgFLMVEr+BMu1cy1QrjSNsHXvw2nuP23MVLHKP7sFpC5TmhdEgvXbvLCEFSPzZqs79zrOr59vys9+GmF/fweIYexgjVS4o2PyY7y5Xgl+bwIb8LV67we4HdJmAVmB3hKJ9vcvj6gj3TmYTZmJ6tHjx8BLPAGoyfl4Gsk0vg2TOnWR8VTKIABmZjmTmjZi21N1FKjIvr4vb9O8Tj6C40jI/D+YCkvynqoLBAlb7xPgMCzi1OaXgEyrdJfIVamsbxVs2ydRri8YoOJy1ih1Oah0kh0+97LSvMoTilAQ7xzoyALpMeDARpHe+AfdJo0x0mj7lk1zVhLsdJO8O10z8869+RYfr27Hr6ZtqMlXHyWzvho+731G6a4A6fdyFWV1dCiYu9+lkz0MVlMOie1rr3wg8Gt3VoW8cfTPmsfUrdmboxEW2Kcrg0tiEmCrsLQ1yI9rjS0u2r1cj2KloDmNxMdIlKrwMqwY7Vi0zsGXcelAzIUKgDeYjdBB9nmZo7Ve1M8aIgkoLBYTT+ADzG3VJCHpg1Sg2/qAm7FKoxUy1acO3GpahAtpcvVSdmRrksdyueml8H8JEpAOSWa33K6MRICaDkEbXDDkkUhIEAaCz/mWLL3Udyia+I72eZotEXxOcz2khwxC121x1WBNB35lgSRDkktE3FF6RAeCCzWOCJ2c1IO+pH2pKTmRJuPJFG+Yz4hkc/1fx0KpnoSQYLoWL2nhNlz7UgGeKRZYyPeRaNViX3XinmVoxMhHXLo0vRH45ZjFvGOraPe+BoPdCGB4+W8tnHcr5LYM6hD34YokC101ss8kz5QCVCxSP0wj96ADEA3PpCrZdg3TV1N2INaeSj+QUQCFJPYGQAAmYbvxUIC7+VNkt4KO303ZRTvHIr0bEE0bEB3goGHZgtcA+cITjxIUcrEDDvbq34wrzEIFTIuxdKHxGz8FOqKb4QoK20TJD/iCiS8PY0cXVqrFNkYniYgkX2g3KGlRh78N5NsWdFppmfvrjDby9GKW9/dpTc89grt5Gul8NRXCbuZVAks1w85VjQ+Qvn45KsmL0+7zJ2ryZHKacXx7zsF3/iRQUs/nzbodSl5Fz62zErae3+jBFDwZ8YbolNiGMmFWsghgTujLkD5RyyvuW4Bq6SsMwD4rnjXy6TZxzLzhbqKu6yG28YafhrSMx/PhyHkipWJsIMKbHKeBFqXY0UYdolTTgiLAL3+5NHVNfcya6MTZS6d37fUnwo0YjCwV5bzD/62SDLpk84mnTh7IVguMZhDiEmgAryA8borMhDqb0t9P7JKXYn7ty6BYPPHl1UT/jwOOUu7wvcjb61FeNo0lIroWrNvWq5CCOxsCgzV2DNN5DMd4tjRSuESYcMw0woIHD3Y0qBA4IBHw/c9A6GtXLQXWjtA+qimnvvZsTr8VbVcZXhYYxJEMI8YhhdeYCtF+LDds7oHxZ9kcfLxQrGc1zKXCvz0nhlrHRpin/CQOlPEtVMZB+DpX+3MOvTMFFO17sX2nM1oj+bT/rOPlhHG9YD3oW4AMNdhJulpyzEGn/MtbCYj2S4P1w6dv/g1PLs9nsOVC2kO8AObK+ZdXfGbfPLsMPsfukO+rO80I4AMhYdLx4JhHK6EuysYgAHU3ntXrVw7YNq49aNahauWFDdQS+dwK40LJgOgGoMP4n7dSj97SHOp3l3YeYkasvOVqPTXHrhTJ9b/F6OdpgDRQVxHuCCl51WOg7FFcUExOgrCBeAAtYwxCNs6sRZzgryLP30aV59fQAyuFWtLgPYLJiDLprkaY7bHEOwxGEQu9ILEYFanmJdlTOxHfw2xT8ksAj7xV0TGSRVspmR/kobPV+sR9TcoOiviGJAaQrMjMhXZDGwTRlWJMqy/0BCaLBSajgE19JtZqR1nAoSKEjcosOQPgC+lErehXiwsCAiQEC64o65Uo0o0PO0yFFg+lZ5NfXBvWvV+SsXiVNKVOphKealHMwHeTS2bIf5YB9Ypghd6ZoI058m51NJEV7Hf457oG8PCPbOGadzb473opc53/t+nCvnX1u8w8Ja41MrCbQRGINTz79cvfP6q9U4zIE6+j3jvMncX1+ajxdpT546Xd2+cyfwD+f5kFpuxWvsZzjHrlBgkbPUqxAQkoDuvHqePTTsgCM9vrWOLnPhyR0KL2JOsTPhcQh1z28olKGPfNNBxiRgG1zhnoN4SZwVTIOdSQlBjIjEwDVKO8VQ0cc4xXfitOhrQwj3n7RM6Z8SnyBMF+4tQ4IHEwxMuHp/2saoWyqRSh6WYb01hu2Z4rX3GU3ofkWacDci7cVuOjLnenzd9kXPuCe9xrgtcq/lBOMWxKWUOsbY3WrS1vB66j9B8HbxpLu7MneF0C8Zl/6OEqOM8O2OVxCB0eVIrld5tZqjwTKbu8PjqDlnPAZ89Zz8ZErA2+Jmmck4uovtTtkOD30M8GKx5dom30yKS9t8F2MP66Z/mC/GUYmJcWIV4dteKfUkjLU9qkdZJZ010BARU/wMCxY1fA03NEss8fyrkR0yxBTEox2REjvWWwpT5SmiLvyJwfqsiTgk88Vx6zw+gZrVOVThosVKJrwcFyNP2mn943E+EzKgHgEreW+F1qtp1Kc+5F0XlRC4PIYqZRj+FbQumdcgMOc9CE8yLHHcaRMmzrP2Vy5d4cVx7kgsPETQyRi5+8E/H5yTydmQKaG/vXCtkZmY4wi29fUS/zL3F+xX180UFGyjmh5qyYpGWMBm4WyCKbD+phHyI47xHBD6QYbIns45JZ5xPPyO8cQ2PGHVeiRMR49GPPOwm5LWiM+9P+YQZUT5xR1e/Clh3a+STbcu++O1xk/Pp7UpT6rEfnx07z7M3ql4+Dazszq2VxPdUJyfur/SWp8r49wM1OvsYIVxDQliEi56+eb1avH2rWocIB2CcpYB2GFL3YWxXIIGkADKJTj/XaTbHbb0Zk+cq4bn4OS55LfDk/E+XCYpDsRRQHeEowfr7qfpUl8E5a5EZw57BKngVHXv7h0khffQ67wSgCOQDwB0wp1nkt0CU6sKPkKWoFZqBLYZRq2a9UsGUXDpsjoRJ2rLHxGT7oxXuq2WLgJF1EZk16TbNHdZlCJmngNdLQwGm6fGseiOho4wIghWkj3gTVecowUb2qtbthNb6af+9rXnK0dx78LZKel8cPXDau2lV6rRqdMBYLZuwP20WFdMY3H4kYc9UzcFYdV9ijuqe9D72Oe4Bz47PQAMxXECCIHzz12qrn/wfrWJmkVhKo5DOMnBbR5ZkpF+4YUXgxD37oPMxQMehnrEHYcxCBzfA5id5iE5GIKHqLV28XbB85e7d7rX0OfuK8a+peLPdO5KeF/CMkyXC3w8zikuAndYFSEzw+xk0Mrewum3JuE10hihZpK4qHmFM/PMtHq2pW+mq3/3y7seR3c937q7Ge+jfHuB1R0BX7Gdg0iMbhAnN/rjo5RRT1vGrPjsx54UWbDzXvQdhHPiXXH9APdXdnlv5O7771SbizyCx1G6NbiHMRhMqV3xOVOmmKh7hznCCsaaO+A9QhaNkGRHoYVYtU97Y9GsjfXRWAcJYtbCwPiuTy41riUlTa41e7blE5Tf5pLusrPQKyv9XdSivO40pFQEaCZkjcQOQp8YQzAUwgbEReRqzVS84IXoU2fOcEn6HEzEDGrHvUSLQJK6ZDvrc9Y6hSFj+3hoYqw6d/Fi9eD+HWgRNBHCdLn2h5AMuPbo0ml2HmQyhbAJ5szi0nJcqr6PVqbpmelgMpxLquz1aFyWbTnW2Xo4/oZ5H0aYlplwR0NcIFzLRJhui52mfXNFuI5xLdX2b45dlpPh+qef8fr5G6bJuM14hmVeuusm/dOuh7W5jxqvLe3T+q0jdJlHGDM+iSKJbt85pXqz72lz/vjTdX7u53/hly0mB6VfkYeFHxZ2lLyftMxmeUqY7PBQt4pDJGIcJ8MgCG0I4H5061q1dPWtagwkxxNFcUEpttIBFJmCTbjmbSTsW4Oc9Z05Xc1euFzNXH6pGuG88AB3HdAxCI+hbibi8XOcG3DS2oxmXVsj4WldZWRCZSIZezZRzQknWSxUk7eC2jOPF3iUUIlEnEdkZ8UJB8gHYb9JnTYhzs1rFKTcAWHxQajIp2vjjiNHdhjpI1zMRDz+RNrYGs7vQCiZj6i4sAxscBfJD9/WwBAlhyFUMG9MWF33nocLhEiYenpJKy6hU5Y7CYH8aXeHy+gSORswSaq6G2FsJojTQTIywdGlSZiCXfpjjDgzSHDc9g1Ghb4gW4x1wsG3SN1j1wWxG2JTC+IS8R2b4x54mh4ILUzMzaPCd5bRFr/N77D4GdZmSzQ57/03xgVJJ/yNG9dDs5JHFgAzwEUZJ5eVuTQp0zDJ0Ql3G9xVUII5xe7FAxY0FzWlkUovZQo0MgTCT/6y7sKSYRIXEiGqRvanOwipSG3VhH8r2TPN715IcRme5ejzuPj19CVur8yjps3ymvHTv17Gx+22t8SVEm1KkGfRqqOmLMeZP2I6rTDhVZxP/DfbtmeLHhnXIoIpOLVbTOQdo4jHBuvIbhDq7BKz3s5ffa/68BtfraZgLOJeITjbo1Abm6wTCOjiiBIT0Z18/njKiTGNF5OwC9Mg4jb/sm7hsOBE4mlHLUr7S3BvXpElq5J7AMVFxhG7zS7MD8FtcfSr+dNM6kFpeFtyyZ01ES+ZhC0XaNe22EnBE8ZolaNAw6jgPXXufHX5pZeqkzAPowgnxzjZIGOV65D9nn1fKlv+WoZVKIQ6cD0+Vj1Eg5rHkso9pVKO6+c6MDiPpibphw6XmO/D+A9B/J+jTOeygoB868N5lMy+DH/mr21c55s/mQh3Fq2bzITvSRhfJiTrbk2bsHLwu7Sn/rcZpx7Wz20a+0PzNOlLyt5f25X5tPV/L+azdQVEUXYc56RBJ9DMqSKJPUOY857/n1rzqWIgHLz6r1+vNQfZLdYi2eqmcELY8S5kgPWaR4JAapOb6DRHSuGdB88GcvuBC9Nw7QDeNhenx3isZ/r8pWr6xVeqEY4s7UK4IxYBB7AQgvhcnNWNTGFBqDq+jzPNuvaLL5oWKwmQcvuDEMci7i22+iZn5kJqMQhSUNq3idRhlFtUMhE+ThfQJESRRVg4OxIL/BOpCWuBhLT5KFu+pJOpMAE/mameu/etvzjRaOYRR5Z0xVgRBjKXHBkxEBNd0u0XdykEEn337FgYYMLYSQD/hERmjN2dM2hVuvLCF6oXv/BKdeHS89UMuz7bLEaeEdxG1e0EbWUPqBqn7bP0z5jjBwIdQ8I1zEu33nJXy1a8yQECj7GhYjJVXtQszE3Xn8bIeB11bKJhx3+Oe6DWA0dhIOq4LN21LPach83Dw8L2Mqg7wIWAfsx/YcCz0HfvozDC889y1+7qRXyFFby3ABOxBjM+e4LXabnHcOPGzSD8T3Icydds1dQk0SFukHjwpWrrVF9w053EhAyDxIUmH2mUuaini8CWP+YFZLaEFK8sy6+6u5kg8gkkYMj+/PaH2Ve98Lq7nmc//35xjhK/nvYwt7WLMWX8ZPj8nkXlrsR4vW02o9eSw3I8GNbsE/FjaLfDNk93qKObsGNBwQo6Hny+NehKioZD4m3cu1vd+NY3qjHu3swgTRpECDQCw7rtWftgEjrVHC9Yv/Tyl6qXv/jl6sJzV6pTp89zfAMtYEwZ52IceWPddamN9crqRn1Yl/DbZUGieAwMAg5FT65BoQVI76ioUiNW1Vgfy4y3jf66icMd3ySRcSEBdmQQdkStfZvOE7xpos/wLHmYr+VQN44GxevSMH2qZT159lx15aUvsHN0FhWt0zANqC2GcVA7UfRzKXTfPMwytM017lVSRGgv446Kig7ucPzQgwZFMAADRru9CyGdoGIE+2F27gQvyd8j7u3qBDsICgiETXcSPJJk3YVRfzIF7jq4uygsC8fCbX7LRBhHI42iSeFA9mN48qf5nf5pG96EkSdL43gVk+nq+aW7WU76m7Lu7mYV1pP619M+iVvaKl7yJtGmOBiYHuX+iSbmY8xjZ+Wn13zqGIijdFVzgPMylmRqQTC4BCTI5wHO9c1f/6DanL9X8YwRmg1ATDARHsXZhttbAwmvD45Uk6fQl3zhUjVy6ky1w7Zi6DV26EBkbr2KG8plP4GYn9jkCCPbrGv/9hWAMr6TXiQwhAQh1LDRFqUp07PcvxgZRPrAZSkI6Q6SHV+dcKdhEKQg0hqE4fC1WeQDIBeQmUiFeroYUGPyptoCb1bESeoPP8O15YjT6PLMYjc0bNNCh1AeEieQzBDMwDDlhspFEni0yt53XHxkc8v6x5nHovVBIJmB6L/w3EUegnsBxuEFJCQXA7kOqc6R3xS7LydOIyHhktkg2iDcfZgl30k6fxr1gowIjM1utULjRlBBOeIrt9THhawwBw6P/WbNOQKFpohA6jbVxmE3x6aJbIx2bI57oK0HjspAtKVt+jXnYT38sLB6vHR70VHwLUIVmYTB0AO/gDac5XU0JoH7QGTAr7t/wLESRgkDCD2JCwkCCY5NjkL4MNXc3Gz4qc3F3QVhJN8jkLiQGMnjTNZBwiPrbF6mMTx3I7KeaWfco9j1OOk2n3T3swPYa/Gy7Hraujvz0c/2Nk09/FmF1fNplpnlhcY5cKoE9hwM37DHglyY8CtI7SBRVs/3ce4sJ+K5DukQT9IH3qGLsuwP3RojRFh5SHB7fr66/9Yb1c7du9UUDwC62z+OoCeOLbmGTJ1Ce94r1Utf/BICsXPBAHU4FjwxyU77ydOc7z8LM3E2NALFukfhEsS+iC5ud9USm1uFWPNZl+UwOsxpdzo6zEXlt85t1wCNRFo0wr/dNdDvUnXjFEGS9wFLviUdAd15pX/pV9dF3zFxBz8uRps3MFDKZY2hDsOxDsNAU7d1jhef4J2FL7zyZY4E8v4T4zWGUFLVpsPcZfQFePs8f1mOZdcNVcPY76x5toH2TrN7IIN/m752fU24VwWzfWaaZZgE4fvU6VPhfoAgQHg8depkMADuLMgwyBhoZlhz3V2QsajDsWHCctbT+An35p9MhPHqcyjj9/x7bdVPk/HTLr79//bilXHqfR+eV8bTbsJXlpZx8vtp7bZ82srstiDqswGDrSYux4CWRNHOUfMqX09bm4833cDi0or13GfaOiAjHBZmnMeFZz5tdjNt8zvTHPRX/uAxGglmyUUWMgBuEAJ7mwtD999+tepsLnM5mktAQJYPsuyiIm2RiJtIA+bOXapOIgmJnQb2IjdFzJjcKfUitm6B2LIdUC/1hVRA75o5WLdaYNfZRBTmmJMkJg3xtCk2bNujqkSBfXt3sbrx3rvV9be/Xe1AFJwCiXjHQ2miuyRzSHN2IbAf7HopEonCGjqe10G+5gUito8GQGz2T2hViMWnIGVLs9wwOrqVkhmzXdAGgbwgPTjnChKhPhLxuxL4RF8dneR4xCj3EsbR4MARJ48agcx9QXUWIv8EDFCckUbrywiI1KNYEjH+xHjRp9iWVTSxrFUztGuTS0a3v/XNahAmcJaL1MOOsXFgshZG0CBz6kJ1/oUr1ejsTOy4bHMZdHMZCQxmgpceB5CcUhlWFiR2tMmmOUtSYhoR+SMibPpl2LF93AP1HthgjsW2vkDxBOYw/HBYWL8iDqRR4MEkBzrKDyLHy4orKwvVa69+HdWa14C3rWrMY3/wEvFIlDsTwJSLl+ecb968WSSREAeT3IHQP+9BZD08+qAUUv8kQMRrCT/pTuIipZgSHv40TSLFtsRPILUN+d21TVP381uTfulOu+dfxijrluHaGuOlne7w4E8u/HX/ujvTZfzD7Ga6fnGzzHq4KlIlhl27ZCBeevnl6iwPgoG06EjEKVKMjnm3LfW0T+tW+BI9o2AG4tiydiEeV7gns4tAaBSpdYe3QgaHGVMu2d596+1q6ea1ag7cOsq9m12YiC120uep4jrxpr7vL/HQ3DmO2Xj8VREQxGfU1/EpK49TcRAc72dIxNnJUKnIAszJPHdz1ApkP9he/3W4bzFMOZuLD1kX2IiGWVXRyNA4j+5xRIgT/rFOR++4CEY53WNSeDoX5QNM55yTOSg0gn1Z5qjj4YmFuI83NlBNwliP4jcFnTDK+rly/z475UsI9TgGhP8qCe9z1+GlL7xcvfTK97DLXh6S9V0EXmDhBARF0X8hhTvCLdRYHkliL9kOK1yk11V1+9bN6mtf/XP6CNWuMheEBfNERJkuPKrT587Gunv16tVIL24Qzt118LVqhQPChrDqsSaZfVUG+y2DUIfX5tw0nT+FCRnfKmr0dz6WOVnGK/21e2GHuzNuPa290S99PX49jv71+pd66VvKL67+f+vx+8dqz6tebjMtWBOYRjAKnn0Z5nqU+2eCtXM8+7CZ5tPy/bliIOIiE8DhMRYBeYQHWFZufFDNv/8muw9o/+igihAGgSvG6CkeqjbQDjF98flqFubBw06S1x0QtQCrEVjL5WKHGDeD3IVAygBYJb4b5iiTzMlUjydoCeiaWAe6eSYiM0hphQC6vYNWFCSJ7331z6pbb7xRzYL4xgFyazg+OVud5fhPhwvY69Mj5EUbacwqAoZ1zp/6fP02W5AbpHdLWaBfh8HYAAlToVgUPActUREonWrJOMWDLyCjkLRwrGiE3+AGmhqQZviAzKCIhjY8GDtRjXP0aGx6CvV07OrwEuYkr2q64zDOK7PDMAMiv5CC2labTB+WFy7tA+qQ/UAFtrbX4mjUCaSoK9c+rO699Vo1tUOZUj72PUTQboetV7bGO1wuG+WCWDBaHHnapF0DMAyzZ89UEyfmqg22yMeRsMZCYV+WomM4o7uti2W7gh2b4x54TA98WhmIglcKXhJ2xYk7wPnwiIQAl1vv3alee+1b1fy9B6G2kUkPXim7CBJsszDhJ4CXGzduxNlnL17LKPhirfjiPsSSRjgVltyNkMCQkTA8FzxxVR3HGd+wJEgSzjOO9t6vi2T3vrthltuMn351/4N+MlUlbTNe+rfZ+tVNW9p6+OPcmf5x8bJv6vG856e//beBMOks5+mV5NOpgbcKqZ/EWj3l07udPkFdsz4socxjZ3W52mGc712/Wa1z3E0VwOPjCI0GuRcDY7EOIToEET0GQT+C1i/v2K2Dpxeo+9zl56vhl783jttssQbH8SvWWuvv+hcEcSkw5qyirFBugu2dPAn7LebnCjrz1Qjk0TsfP9ugXoPL81UHBpk9aNYM7s3JXLDeDCAcXGAHmyu/sY7Hrhzd5TJuX/pTdekoAibnq0bi2fnuDsgYTM849w28f+JF5/CHhpggrINwbpDfFsoD7n/ICQc0Ju7SdtfXe9Sx8/zz1Q/+6I9xsuEMvIKCq+FY52gOx7ooKBgIC3z8ehPdYuUwGTvqC4Dbb/bDO++8Xb3/1pvddtgW4E26gDaqaMU7EBqPMuER/goBZCS8E+EOpfPTfPW3H9ytcJci5615pTsy6/5p+hlPk7hAN1SCVqQ3fv1X929zp5+2eRZzdAbC+FnHZhvSP+1u5h/Jassr+6Q9Y5g3+mwIhlSm012rIATppzLiOertqT9J3yPwv59k9Z6sbKdtmbp2eOHS15FYdDjGNATbHzsPIislH8gCZlCjNnv2OaTdvD2tViakBsH1dQHA3GIRTrCN8UxwfraDmoxDKS/bDRIIoAaB/v/svXdzJEmS6JcoDdlAazly1e3uqXc00ow043eg8Q9+2Gc046ORfPdO7O1bvTM7szM9onVDAwWU4u/nkVGVKBREi1kxU9GNyszQ4RHh4e7h4YGakDrMHiiGfi82QEhDkGQLpNViAW+jwuMgfYbVlfryUrGwzpYph787V7g0CtOzAyX5pFf2NwC5D8nES5oGcBhunzWCCYHZKLc0A6kTVwbqCAnmPjrUTRiPJZkyLFnJTDQ63EAJbLyuwvir994v7n74fUzdQlRI4IOEtP4iwh5Q7yEKmwue4tSkLkiZCicTdDw1JRcTjzrGNi2wb7G7YDkDylx0yx51iuMdCB/a4mE2+9AL/trkd9zrFvtP9uhHWamCg9bol5LHEZasDiGaujfvFbfZRm6spoOlVs+eHPeiL7lreZ27OQT+OiGgGETnL3/MN23Ka7Kxwa7rXYQlq1xG9dkfPim++hLDEnu7TFMEDeyoOP+2kfRKNK2jj/sM9QjniYyBDMUNrMdIiKjiJNMgsSHhodqDO4vijkyImVderPOC6ndIfHlGDYlTddVFNqevhme/an45n1zW9NPwnG81/bRfLifHqeZbfa+GV9Pk92/q6Xk+iQxv/RVvKjXWhn+DNUAiUhf4bAqmb1QfMpTw60NIPmesHG0+LzoQ8y0YmLYImItPjxk/mtf20G6HutU5m7eAWe+e4ayrB9aZe5I6txDSIYH31vE2gi13nd3B1/qXKsExJIJR8F1ClnRUXnUkMgy5TksiHvXijQ3GFmAYgvObWCjc//rz4tnvfoGhDQVfHPAlYZf865y9WLv7oOiyA9BkfVvxEj7zDBXbND5bMgrs4kdplCnRrRqQcYZUMu5RYDcdkoG6oxK4/6LYefq8GCGk6tsHtL/F7kyHidJ1N4S5tDCknuTrLoXSuzrMO/ZZwtkm351Xl3XUtIw6mS9BL8SPO/wrxU9/+nfFvdt3ik8+/aT4AoZG14s5bR8Oi6dPnhb37t9DXWy5OKTejmPn65MnT0J10fjOZYUCqjBpVtab6J0nChbyvDLetDMsE/Z5Xhmn+i4hJY2Q3Ymw7HnGszrnJukyTE4nqsY3dPo755H98/N0Tid9jPc2nf2SqJUkbNFgxQ67bBsIOu3ypErO2JdW+gt1fxYG4m13xAS2TDX6WDUmdRQ9ZNyH6G1DZTZABv0RDAKnoJTmNJkcy1pYggQOM3IQpTHE6Tgl/8n5TAMVfOQcCDeZ/KVH8n6z31wmRUbpIh8KVNeamodE5ABLKS9/+cvi8NmTos9N2otM7BXGltL/QxBZY6VWLLF1uw0iuEJ+i+vIZIZIRth/WViG4QApDhrqcSKNdCHCUkQN4nuRnRiJdgvucJt2daLb/gHWXHrcUrsG49HGvvdDEJB6p6Jdt7YXWCxcCDrAc2VtgyvavVuD6cEBiGAkJGKYfC4YsfWMCMZvd1VaIFeRbYN32x3WmQiT6egbB7+akk1G6iq6nNv7W8UhZS5T505dyRHIDeawwWJR6xCJBWABs0tuE4dkiYXtmDg1diiUKp1wlFEB+4mg+cccAn9pELgM3pTY8OCoqoMxoRngId1lfqtLvsC87TB3fvq3f4u068NQgXiGVNKFaxi7kkcQG4+LW7dvI51cD4bC9BIIT/CXsVCH2p2IvOPgRVNBQMJEqM4kwWFdq/U1vQu3DEb2n8VsZJinOgcmzF6RPqcde/KS8zR/w/Mz+yccnvyFSTXvHDflZ3kZp5+Ml8s7GT/7fvPPUK2hGNc0axg3DSOFv6KkXeT4DbhY7+gvrflcR+20y65zBwl/u81OOIc+RzASqlaFkAu4a860C7E9AhcvcI6tyzjoseYuclFai53pWuh3K9YRtrSFOku4u3+uxwhJ+YCnOxRxxoiyB+QH+o91wfqM12F2xly741A/464LE7s8YtdZxhY24ohxX2fdWn7n/YJTzErNyIOyydNdFe9xcqx4XtC6xLixPobjmCr4aSFKoRvxWcO6Xc56fP08DHp097jB/fkmZ/SgJUi/f7CLIMv+4ewHFe1++bj4w9b/Uyzffae4+oMfFsvXb6Vzlw4x/oSCjJNr94XOCgoj4RbxSeO8Dj/95UZQS2J9vMrcfPe994qvvkI4gFpTF/qnB6N1hPGVZxy6vsFt1SPafIQ2gm095vkIK20KBzzvtMkt187VI/rX3XxvqNZ5JiqVF59TP6zXJdyqAc4V/3SAOgkG+c7MRjXuee/VOZfzm8RPcEnw0TfP28yhpfJz/Fn4o5p/jveneqZeTGPAmh6GkRyEPaiCy0DUJ8Tmn6pKr1QOQuhU+Vmpzgsz/kXhOc+z4p3lf1G6HJ6foK54ZU6lpy/8hQpQGclFI8yTqpfPYDdKDcQDVomtUtFGH2l8w7sEZoAkkJ5j0qz5Z5R8UKssYuYjkcUngxLIJ4XEW2Br4lG4AykmK4tFzfMKIO3ei8fFl7/4RTF4hPQfImCJGB7IOmZbWZvPHg7fYnt5FUSqpH3vxU4xaB2C/JdBwJxRoO7yu0MQogV4b0NMHJCFjRlAdOgfMz1e+PSb996Rhy7V3uRswQFIGsTSQarZos4hEZNWIS4xIUK8swI1MJgUdx88d6AaRJPvDnWMg2PqhLrTYMEAg9eAp6Vlh5f8U+RbR6pT1NeKpQcfFvsg9RHIrMmOhBLVA2yN91jY+sDERcdtavNta0ELhkErGE0kV1fZaWotaTkiGhnF2A+WM3bnzIVxnPnLdx4CzotYyBgvGYedXtgc2idG1ym4XRR+KsEMj+k8AjNRbIzyEqekw5qZcCOE+ajuuZZvPvjeleLBux/GLmQPYqKrmiO7FUpSlXK/Q1x3GFRn2IXJ2ILA2NnZR5K5HpLKATjK3dGB0mC24BvM86GXS0GkKM20fhKFEnB8nIJJtf4nYRgtoMXiwwmuEASBt/CbQNe3/FV9prTZxzt/Jl2Sfc0xv0vwWEf9sksfE/8TgTnSjKfxTsZN+HRG1FNeJ9MZrMEK6UR30ev0a71/wKWoHxe1za9g3sCt7aWihtR4JMHHTnpY3FL8Qn+YUGiCHYO4TjVL8BNC1mtSW2PieLhUaHXPywCX79yL28qPEU4dMz4WwLVa6LLvNTgSfcyYaXKH0RLnZhQA7XFztvcerKJWW2PXKx9idli67FiG/Z/+8c1Yc5Vhfznqa73cBXAsxU427463zFy0HMcIqRZYm+pc+NqqoW5EuBk3qPwRDMwB6yOnA8mRfFi3yDLWe7mSgAAeqkrFektYMLrG8r80QwzbVEMvbfV0pOpbO8yDtTBv3CleQKwvsbvRBk5PnjxCIIawCrWlI9bj3U8/Lg4xevLOP/xD0VY1hbUPgIYKtDSHvXOhc0BacVyeL3ntjLlQhmsh0p2T23fuFzdh2o6OD4BVr+iqVSDDB0Bb9MeNjU2MjnS4N4mL5lDBkmnwDIUXTa4iANzhzEmTMAnYXXYjQnULZkxmJASN1oUwu9DFO83bsoJAdTzug5DyW+hCe8i4OaaIqm/86lF+hRc/5hfllO+2Obcz5UEaO6Za1ol3c5pRH70rZVHMGJ7OkbNchrnxq+nPip/iTYemFld9VbMPYbdMAnm3aNNgE4t5f0A4C2Nah8P0LrIRaoIgV1TyEIBCWzl5vMBQHC6zDMvOOFIbJOUTZVic+fOIkksYTsJSfSKasXix3mGhk29mFF4pTqQ54+ebEV2cUdg35+1gwjlgywGpFaOFoYgUIhK1liYSuSFbqwJ0BMJVcu1ZgjqXuYgoJGJDpUc8zQI47QL5CWTT8y8Pqul409+zu2CWrznrcphIlC1ZTNbtcajxi5//rDgGIa+zSDS4q6JN+7xh9mB/sdiF8blx93bRa+ygD3mESdQN2lMvnm7vI5XgIrxliekaksc2OwXUn10YkaH/tN8tonBiRumxgFIH4Zj+k4CJT/ACSNnbr81bAoNcSMev270kPkYPtUV9G5R1zEB34fEshBf2tYkDSwFTQAVCOhrFnfkjFMBnUYeIRHubXOq3sXiFTw7wBfOHXWoXiGMO0YEg1T9lJYtFoLPM4XIImCZ1bxK3wQJbdWZ9ys30PBVr7jGHQEDgL3O4JGJxXEGotYSzSpwW+BH8h6d/uhoEzyK64p6h0gaIK4kXMC7uYuKVQ6zektpg/rrT0GOuPWcnQj30x+AlLbsgNYi5KkGpOkiLxc5p7qIfxAVlKvGNdwNKNwuHpvg5RnoKZ1PF07pFG5LfyZgzvirlTXIhrxmSvSg7sqj2bHq3zJSV3xNiQ/8sfc31ys8ZtXl9L/sx1jfhwALPbnBvcw8inbWNjjxinXPX96iDYIfd9TZCpDYMYp1nHOJVaKPqJ0SK5EYyH5n7h2qZd3SN7YvOw4uS2KGWVFzgLFuL9aO2ziV2EPKKadCBiXMJQ0ygKyBS4t/qYGFIi3ik3WA8OI5kQGVGxiSJReACv6fX8jfB1eCIYhr0YyVm7Zt0CR2ELYIpLzAbojKkOdR91r96axnGl50w6qiEHRqdi0cxo0oerqOwHlGgfai5b88zOgask3krXPSZpeP2oYyZZwHyuR3XS9cz70i5gprJ+tpy8fzx49hdWUNtd5e5sLS8garUetAcNeiLDhzCLmq3D3/+r8Ut1HuvvPsBtpVhuGB6Lu9oBPWpuvw5HmuOZ/7SPKEdzFfPp+hWVjb4NT1xaKMaBw3maYeLy6ScPNR+yBmOl9xufbj1AvgdU2cYCuAuo6cKsWu+d1RpiEUXBD4wjG+3UsIR+ZSzXP9CfJnepTVyA0g6fqVuuT3VXcLpLGOeOl4jX5+6/J2+0rd5S2xP8p2eq5N0uQ2mSWMici3fc71y7m/jSa2CbhKiXkOgDkwNfHv4eA8PYF5w9xd90GVu1xjnLYzRtLBY1mQujjAQ4FivM6c98yMdFoNeMNAUGe80xxn5FBCWMQkrg+k/31LcNN/5lbMnsf8u615lFF82zz97vJAXMOAX0M1UbYXr15CSwFDU4MJBPiJgt0sPNl9waJA7BOgIOXU7IwAf3TrdDLs7uRjATkYn7Vty47zL/GLAUmfr+/wlEgJ0KTc2rhXHIIZVLhzpENbbO+DA05ViG8S1jyWkjZu3uan0BZJDdiK0ssCiscuCfxtJiZaIFkDunt0qhgzVQMIgViZzMBAwFMwznMwE8Kn8yVgpsTFMvdI6nHD/kIPXSP0lDAZmSr2G+B2+QDLz4J2QRsbFe4TrbF+ohllGbqwBr+DctVjGQoEu188tbK7zxINZIkVkI+wXOUKdCIB/1v21CzafuZtD4FsKgTyX8pqi6gJKhXEWonu4h5BiDyIEqTLz3fMR9x/cZ4rVihs3bxa/+SUHsrF0d3SE6Ufm3S5qNUpi2xBanq1ywc7TXWzpLLysS3j2ZOzq4p5Dst+sp3FyPtPhOX31mePo53t25pG/p9+n41TDc5jPXI+q32XfVQWVkHcV8jdWMQgHCd4F70UQzuDhZdWA6IPui5fFgbsPrAHNNrcdc/9Aa3UtzkzUkGrCLVI0uJF0dlAc0g5cyerpk/Yq5Y6boUWpxNG8tmZXA9fi0VglH/HtADJCnCtHIBFCmK8rCHHsb2sbDAp+r+MCpZO/S0km8GkVu9zwMDCznsNgoFFb9sjLnQWXAk17NFgnW/xpFVBGQDJWKb2MTWIgYIWor+2LXXHhGd8JtqbRxRrJuN4D5h0Ys2XvTfEQNxT4nXt34zxEF0ptHfO0GlipAetlYLHHDvlwr15ssmtR29otrryX+zH15OvA46w0Yzo+w1ng4yQMhU180rYmh9+3UYcesoPvuZImbV7E8Mq1tfexrIgaMnTTFxyEV82pRwMHpHctV2h3DGC1AiY8nO8WFf0bb1Hc1A99z0iadnmOVOdEHnfT86watxqW88zpZn1X88/hPqt5Jv+T8zvHrcbLZecwn2flX41z1nsP+MkHyWzDp8MICEnHpjCFNoPr9uxTmzndpx+OEOgc1bYSo8A8jMsIV7g7gnMtC/xxGCbNQwqU/BkzYfQvlJoewTBn0igNCJKU/aM1T+ev48Txchn3rWAgkjTJAeBQBQC+CAsA52Q/eskWPJPbTgI+xEEtiJ7bfvZ1EJ9r994jwF0JWI1AGBl4gtLJZzre/dTxPqIX7Py36sjf+ulEdB4J0yrUXS7cWUWSNECis3xzo1hiMVhg63jn4VdI/bvFEtL1fW6f7LAzsYKU/oDzCgdKDzDJpqUo9lpQdwrbRdEWmyh32mSngLfUrLLcGD68OzH8kwBwx0bivI3U6/hwJ8pXF9cDzLGAQVg0QET7mE494OClnPHSrTswLOrHklk5YhMk02808jV+cr2czP6J3HRKSCzHLolJHWOAMDy08Z1aGlHnP3MI/MVDYNZi9U1XWhQnEaXqUXrn3hWED3s7u8E4JLUGhQZgWfDBOoKMf/ynfwpp8Eskl9uoQmwilNnTqgtCDFUimggcQD+xO1hj1zLN1vNbEvO3EsXvPN8zXKrPYFKY7zlefmZpo4ja+NPxchHVvHJaw6rvxvFbhJKlmsaZ+E+/R6g/J1wu64TnJT48GBydIoKTWHZnFel8Hcn5AiqqQczh10B67EFlpfUDTuuOkB4PUGXZ28H6DmtBk52mkbsSCM6WMa3dZO1YYIcAzoBw+gpJpqowYmm+Yp0MVCod6IuexHHtcw0Uv9Y0kU390mWueJxwl+nxEwlmfgj7BH/LoX4wuTsPH2IggwP9qu7CENVhHgYIzFyLjjiL02bNW2AtWiFsGQmuKjuuq9GL5CH5m0nbWf2SyzQsWgXcaS1n/a4XXdVNIMBXWOeOgIc77m1MqNeXEEYC/84HH0BwY1xgb7toMS/WSStzwYUQNEB4lXCaBtfM1l/Os1xmy8hkbH+lmkd/xhDCp4ZVxDoE6SFCR9V747I94IkOAcwnRhFgHn5w52YIDvZgIo6hnbahMw5Qd1IQ21AFi/HFf4oQghf1sXBLcaowDdqCfg0aQhhHfc0zvfs0fvVZndNkOg73PTOXOY1+OX7OW7/ssl9ug+l0ubzT7+Hjz9jlPMYel3wRInH7BkWGqhzw8ZJAdTnU2JBWpSKlH3IA+tEho+aI505HjPMRGh/dF9zZQx/sKxxmPnsZXUdBgeOMnQvPwskguwuR1BqdR2nQSTpFi/kpfeKF6NnjwtZ8KxiIYBiizYk4FUX4z05qoXtZx3JDd/+4WEZC46EUhdVt2PU+yHbzqy9iEK7feQCwAQfSlCE7EckJ3hLKADVo1fAy5wTyMuKpR0nXXhTtVLqxR9np8ow1kP41tz5FYOiYWgXs4RX1a97u+YItbBdqpAOqC7E9utjkwrkrSAxBCrGNydajG9dWJhHStom8HEjp/6RYY4GJnEtpYql4xFgU5yHFUeoCBvEqShgFLRoRkUHd4vD20vEe23AcNsO2tLp6y+hiStRrOjeDyx46H3Ljqpz5cmLS0gZlT04287WVvut8t3o+k6xE37mbQ2AOgVkQcAF1NzHPLxffFkR/B5WUfXYhNO+oi4Va/MHcVgo2hMh4/4PvEYIKDWYfX2D57NNP/lA8f4Z0mPNK7kgE0Z0ojsjjvJ+8kBsnv1sny/Xbd5/5+7y8DBMz5Hxy3Op3bm8mQHKcs5+BZcbB1bz0TPVzjTjpUjmvh/2yAMunl3fKOLR4Zy8Y3JZ2jFTNGaCmK8bz7ALUB5XxG8ZBpoL4g8Fu0ecMS597Ew7B4ap2rnAzdIc7empY7VvgW1yZlJRKPOqDhcNWqwKbIOrD/hD7Wk784jnpH9fAaDPPUJGVcH4Nl+CZ8vVdCXgfJvWYXZa4h4FxtYg60RFS9RqEU5Nd6v3BHmpcq8U+kv8OgreWTBJpXf9lIsLxIFf+nXb2qeP/xJgg7er9d1D32Qee1IP1VbUpTaKPYFAABusxc4bbn5uoennhW+caqkJcUpsKcfWl/IAHvJifb9OVzbKdZYHj3KlaLPdG8fTHEoKBA3Zu+szdRZl8iNLD54+hhz4vRl3WcZjTRQSAa501zOB6ydyIXZResctB8n1U15zPdQhU9iIIzQWPi0svYyJoyt8UVMg/+1M4+/TvsnM6F2manI/PaTcdZnzd6XQn007nleLPmtNv0IkWCYycOTWFsCMsajKusHPDzoPq3h5cZ04jwJXGVW1Qlb4RFjQBWepQw20350AHL1FD2+SMrCqM7Ewsr1/HIuZ6zGutmamCrqZTcsAhv1ebFcyFFcjxzn9+KxiI3FqRa26/zaZb4MRWitaVaxC+e5h5gxgHgnEjsbOYGAcc/tv+6mHoRK4iWahhhQhsEJ0aMRygwjqkLiW6mfTC+dB95dBJr/lm+eq3eXOl6kJuNw+HyeqFo2xR6xLYulbq4jakF5AEwhMzsfArifLAmdKl0Gd1wppvjI80eZlJ41pOT5r87Tgz1gBJVxdk2SC/BaRYMhIO6rhkCCZnda2B1boe28bNYhc90QaLUrvNRW4m5i8dRJyUNy74FV4yAhjXDUSW58F0NqlplpfaPR0+/55DYA6BBAHnikSBi3meW4GBIIi0ga+JR8PUCXfx0rSg3woRkGFyWFXrPKrLdIp777zHrcLXi88+/bT4/LNPih3ObrXY1cgHIM3feRzpXRxFSJdwOV5+mkfGB9PJcxn6z3qv+l0mbTW+7zrLzu/VPKpxp/2n459V/5wuxw+CQmxLP9UgWhswBzIRde/kkYjDApELVd+zaeUOURAWroLsBEnoCW/72EPFi6Qdsm70IBZf7iCEYqd+kQO0HZiJJnrW6vqHQA3CI1rLmqccSCe+TWtCkD58+BTFp3/GKaOO4eOloW/iqnDqwhDsv6TOjB2tKHUQXg1Zcxro9EsLDRmvNfWbYCa6nI07QqUrGIjUkMmYKSvpI8O5WkfVl/T3z/IbHmJlV3+FP1s4Qu3ZhmvZTAMEWiCzf1qqh2l0hB2PkC5DDMqUpTMsvEl8E48s37JLvXBWpvKTEYM5DR3KnIQ8RfVQmuKQ8w9b0kHsVi3RVQv9LgyC4wYSEaBqsOR733ufdX+5ePjwS0zFfokAlrGlGoLtMOPXcBm2Gc45i8xIVPs9h/l0pOnOSp/T5XyMm/2m0/mdG2Ac85x2uZxpf+fUtKuWk8NO5+n8BdfSD+4mNpiPTZh9mQeP4GooR8uUWsv0z9Y6h/vMd2un4YLIkziOpwb1aCMr8ILGAbtFx1jL7L54CnmI8Rno2kVosbq7jVijjA4DVyicljKSvk3MfoTkKl/qubC3f3gKWrMAMMtvVgnnxTsvzLwuCp9VXkongJWE2JkyEXBpAkfJOJKY473N4slnHxft7UfYsYa2hnmIiQ3gBiyAGDTDtGkTrpzr4SHK27ffo4NEkeRDByWTiHyLSPwnxEK6Y+kn3TTTfdk2KRVxkMgl6uxUD4DZIlFv4kopWKzDf8ZcvEY9IiVtin+msHppcERcvg2z7rYqco0M/CKzSzlgBBO2icm3IRIIlRGGIOdAhlpb4V8Dy05BJEBE7APjNWzGL12/QRGTel+qqFeJZF/4VzbDV924VVWPsWeKM/+dQ+B1IeC9CT31rcsF57x5fl6Y5V8Unut4XrzzwnL66vOy8bW8Zlxtw7sYL6I/PVkMXYTS9FMaq2652+/iF0MkZHc4n/Xx738DwfEQnEUcCI5EyBKjJMyq9XqVd+tj3fKfaXO7TviVWK8aVi0n+5tfNY8cJ4enp+1LiCT7z46Xfc9/TucxHTvBmtVM2FE/LQktA8MNbIYuo3Lb5GJNLTTFBakQFT1VkewVO4ZquhIm3M9nSRipEa11P4VKsICsfZi6hpLpu0OgbjWEuOfsWtdvIlBbJj1rCQTxUAFctJ11xPwVwoHbvWg0iJBUJL8ZQvGa6nLKswy7xCOPkzzuDtjl2nv0NepBnH2wqUFsUTfWfedkj3p59lEV5gOeazCzy1fWqRRjToIr6pL60PThys/y68xHXqelBczIZGaRkpdfAsM/3SQwfZbe8cFPTJf88cZP134LqBRStk9JdqKPnH8wm0RR9e3gxbO4JPAYy0teDtvRCIqVdnyYAlPpu2RbQ6J968MfxoFxbyF/8vWT4ne/+R3mnB/DRGhYhTERdBclAf+kzjbdoEq9poPKb+dD/tPrzHdHYgm8/MxZVr8zjpgOy3HScwKz7H9W/NShOdTn6TZN52GsPHZ9Tw4YKRRmImkGvwkDsAr6WYeW6nhiAXVx+yD6SQpQOpS40q3JUpJDzJntE14ZQXELtfawzMRchf2Ig/qeWRnyvagRBJi/BjfBewi7ppVK5rvzX/pWtcWAAuPafqS4S7mF/YNuOcTOjz8LKLNSnBfvvDDzuih8VnkpHdszNjw250RocG4CkYHuHRBy0ztspx9++VGxAPLpYK3HEwEuaEOlM2zhoREUQFSi37j2TnGF698bANzDQ4E8KagGk6EDX1NZOj6tN+HnT3TAjAE1jnDOS0ZMwUDYI+StXW2LkoGwKOY27mR3ZVwVAylCIxLDx1TJpWFm/dIgcYF/FRfrDgNXXckeTEQf3UlNCR5j8clFxJumXYzqSCQ8VI1oCPhz2BrVB60H0LGpOB55MXiV8s+Na1NsvHnnYqIcvDKofArAMpy3uZtD4I0gUGUgLsroIrx2UXjO/7x454Xl9NXnZePLQCiJ9W4HL57qgBPzwVJmexAZTm81ZpLpVlUbwL/q5fP0TJmWmz7hltxP//ARetVbsVORzbyKD04vrtWanv1uG6p/xsztyv7hF5N/EjYdL3/ntPnbZ3Y5TIFJFZFkf+OdfNcnIyDfZ7tqmukYE7iwtml1iOzcb10Dry4D8PYA07msEJ4z8y4ID0KDeEs0B1xZ3yRS7A8ZCf/MxNN1Xoccu9LEVl1Jmy/qt3sAOIgJkT5MxNrtu9wndJ38JThY/1wDYweecHe3HQOIsx0D+IzdCVSbA054jqNe+DKBQ4KxlxEOuO25odU98o6D4LRrgR3xPrsAMlktjYbAQAwgyBoc/K/xdMEer4V5TbJu/tmtl3BQDREr/dr62a7uwl0NLSPmNSqnytXI32/2TP0xLpdKTlTMCGMsBPEywvwudNAu97/sepM3O1oLaBYobFXy7U21jsv+AoYQ6O8hOzlXbj8oVviz/0O9jfDdrW2EA78uvvzik3R4nTYGwc54s9wE2NwiAXAWtHIcYpQAqT5nvtNhVX9zyN/V9+w3/TwZ5zJzWlxjr+eeN4fZLpdVDa2O4fAnmxYM+RCiro8QoAVorrDrx8mF2IlIzIU7E6jbM6fDyWzwMgwC1JFIYFl1GZAa8yLNacc5fcBZFXoSOphaB1xRMcUC1yLz+goGd+rsOBrHi5Sl18QSdBz5a7V0At9U+OzfPxkDkYHq8xQwy7rlOLOreraviHPCQKgHKisBMCRifYhIORjUff4FOn5fFgu723B7dg6n2wUxCFA9/4RguIlxkMyPrnKZ0rKARjd0xBaeF8uM3BoVC4Crq0MpE6uv2wZQYUh1woKsGXOKxnHjMKErKY4BLFLPBVnfcMCTsOxMOvk6+Z7jTJ5O8ss4BqQMRLSYEmLbjlKsjwUKZOHNGQlhGOxr+JV5lxXK/f66MJpZ01wHq+PYIpJ/FmmtxnUEqc3dHAJvCwI9xrpENUjhwiwvGu8XhecCzot3XlhOX31eOv6CahkJ2R2iT+7u7iKqkmIlXZ5rWvCI+2ZgGCQisrqMBIsLktLzF88fFb/82T8XLzgj5UFtGRGJwUvXpdqA8t20OX313eDxjkJZ1xyvIYH/FAAAQABJREFUGuZ71T+/56fhusm35aW2n/SvxvFdyFzsJvmejpvxpc8Ba1gTqeHNG7cxmoGpVNVnjrhRGEatT5hGQjRNqnBs5D0NlN+EoE7SZC72I49EViCqIkx1iLRu0BaHMG2SQRnwEyqqxD8EZ/ZgKpZRAV678y5WlzAHWlcgxHhw3JuAhzsUQCXyza04r105zmWfGQ7G9z3yZg1S9SPqkQLSu2AP4jUaxY5KZZzaxhixrg2G4zKdS5Mu48zelD5nueQPrKnnJBIphFdZ5Kx0b8Nvuk5RnFJuGQIbyjgZssvQe/41uw4vOcvBzdOMhY4Ev7upzNVgOvGT3tmFDqrDPGxwj8ciB8SxIUou4oLEkBKNIXBc/P5XPys++v3vaJ9jyHMjlmxtco182g8XA2B63Pid/U6824PC1FynnrP8zotjvb7pOV0dw9YvFK97MLgwbVdvrBcbV9YQwCKY5Y9DNeyk8cdOkRcjtpjPqurJCTicGzJ65KEQN+YAc8EZLd2lmpw4WsjEuSPwrvekSLKqkUPqUIsfcGZ2GeHA8q37RU1zvpGmnMfWj+9L9defYgdiuvOmgUlNw+V4+fus5+l4dEcgSBAlgNQKAjaCQnovYhNt+LUwwrzd86fF4aMvMM68iXmsLmOe+Pxz1yL+wRUucHvmEWP+UEQJcJtrWKxgO3d5FRvYbOkFYBm0eXpYTydTPMvBnL4u/+uJfLusEQjNH/L3QqbS3wEXExb7wLrgFuPpyOBFqVAgLb4dPSpZ6iJsXDk+fXeQxa9vEe28n3Rq3/wYqIG0jZ1SBiGRJ3C1fGOUVSgf1N/0DPo31Ie19OzSWKJVFFJOoxwU8HQqCbc0ZnJNxlHmL3MIvBYEgoEoVZjM4CycZthpfKXvxF0UnmOeF+91w3LeZz21RZ4YAE1hurBx9mqZy43y5BZ9MKe9jddnCKd5dUFWlSHhG76ZjTWk3jsvvyj+7V/+lTMVu8FAZHWms8o/zz+nzW33md9NdxkGohrfNPk7P/XTTb7BIeUCfdI/xRljmPHL2fjV9cb/ZzrhyZ94bRmp4Xvvfa+4dhWVUHwUirEVDMEHw0ARA9o+VJK89xIp/FEcjh11OViJRb4+9xEY3zWyqc46+HeA5aS8ZrkEWA27VFPbIagirncQDejQA60sLV0pWhwGvnLnnbQzL5NoPUhXg9AMN84wfUaukXH+fv1nrBu2MYRX1jVI4shQ3B9lUWf9o0iB4l+E5VFonakvfsaKID38u+xp0Nh1IX52Ai3lFD6pLtZDFSBXdF1+8kqVdFF2vIzfwv9NfiQPdblGPlXvwvoJzMJ2sYNO/DHC08XdZ2xGsLNIZTTRLrOpudC4CyMqiHYBoYOVm8XGnXuodWM9ClPAiaaiLczrOn82fQEil1tIik8//pjdiN9xySBjMGBiQwVs2eAgeV+vreanipQ55af4JJVDHaK89EzvtonIFVeNk72znxC7HANhytyenMvp5yTfSdj0+uDQrBcrxf333inuvstN7ZxdYuLyp8gYepSkGkIYcbP56BijB+Bed92GzGkOnBULzOkRKuTuOjRpax9hwXGJl2x61BKGUKglWODL/0XJR+b0PqV32Y3gQA9C8geom99mcwlGg4QJFpUxO2nGqbeFg0NJ5ddzswCVc3rdsJze53l5nIgXHwBKYAF6t9iCG47vhCj0D/1HOqkH87CLCdfD50/YRkKdCSQcG3N0hlzakM4IfVMgcwxEnTicjIqt3GUvVcKyU40JFdu5uSJ0Xt4+yjjJXmRTGMSNT/Ri6kQ+omYmzcAva03N8bEXI4R45Gv88OZZY1DpjIFv6XwzjmlL33P637TJJZjlr7OfZf4RwfLTd3C4vpezdXqSlDWp1DOVcLl+zTA4u1ZlbvFIsScty6ns/VSPXJscMn/OIfD6EJjegbjcmHaqnB6HmTjKtZkVJ4f5vCi8Gves+BPyaxJ7Vr6xiDGtYlGBaOihIuLNtB6izvVO0mxUZRC4BNohvrgWDVJpDXCWpBS4DPwE3Vn84mf/Vvz+d78KM6ThIUyILIErvhSvmF68ksogEflMXIKhRLMoL1R4IkIiuK2rMZKggvdQ2K/AjXRBiPCMnOLpW0pnuRYYofE+SVsHv3rWS0t1gYmJKow8uhYXMeFvVesciJSeXmCxrrtrLWTEzXgKL2/rVvrY4lLPgA07toG+AVicuaNcb3xexMrVTfSW33n/g2RRr4RjqqI1sBDraxm8qzvtp5Jn1roBh3uPsJzXPdgNQyLeStzqHRbL/UPgTDtSlcw1GDpB5W3P7g65Fkmw24eSm336vLV2jbsMPizq3EQ+5MLAPu3zSlHXW9c/22z5NQl91z0ZDcN4rW5KE+uNna0/ywmNiUuVko1Ib9Gz08GT7/PezOCEKxsszE84a6dnCsjJxtEi2ekWpBqmjBz7usgF2IZ0OdZ3fMrudtAEiUDLJBcdlcJ+wR0qLtobwFAeKjTlMjvN+aoa00Jlxf6O/rVjLEP1LzoaNXrGJn26erVYfOfHxcoaRmVU46afU4pUn1Q1fOhw63eMKd3/9n//F85EPGWTyrxgWGM8uFPEUKC+cR+FA47ECiWCCYjSowbWIqaIX7Y8tV5f0lhIuJQKXRD8iF+eRk+1ECypb5Wlm0gLRrpIbn3iK3lM8k2+4zhmXcbLODGepfA2SslzOkExEozC4pk4zE97wj6jR/1jHgi/CHEecU70wf0Pi7sPuOGd3VjnmbActzp1avmtGJkauUMkjQoO1nBOjx3hA6yRHexhfay7WzR7BwGzAEnAF/VG0pgOSMT8q3FgPsYRE93zEkcgLncjZBKvvPshVtiga9mxsM/tDOEqHnfuKgCOHQ/aocDdMNv6LXBpEiTw20mC241Vnb46hwQ6Z2zNaZVpjU6rYSP6kAE/7MLZIU3EgjO6kgBJ9SE6ylPyi05Y9dRAusfPvsRUHIeN0K9sXuGw9fqNYrG9iGooEhg63KHtRBHwYQrV1zwmnDiOAavqQPG7dA6wPBFTfceJotZGy61ImCOyysknz7KMicfst0nJs8NP+1ZTJPgaJ21zTWJP6jjx+9O8JcSQfv80Jc5LmUPguwCBWPTK6S9R6YFZL9tsyEDwL8+5HgtSSacnsAShA0Zw4cFH5iAWLM5PHUDEtmPRVNIGQiwXeRc+sagEq3hTHD6mKGYCmwRRN+KFS+sAJBApwcUpE6tw0uFvCoMDD5fxLM9qxzrOM7VvKml8EjMSm56/KN60vKT/tDWpGSjRN6qW/3wfCqRI45O1BjjGRZysN6oaaDnJOzagKjiCsMGlfe8UV69hjpF1JrtM1IQqUfaMJ2UtqPvPh3BvcGiyTV+t9LFAOCw2YCi0SjTafV6MXn7FmRZ2KiBEJCq1+KJu9YB3u8PbhyWALMvs0JJG5RdZ8+az4hlp1t/9ftFBncpxoASbGqc/2jaBt77J2TNpPc4+b/6clHNRXgJcsOfROhU/BU95nvF5Ku4pjzLhydqdijX2mMAoJcyQFPbANX8SmPo9zQ+nTZAQ/OBDqFoWxIf509jJ0fYL+upF0edwtJaVtPCzJKPLOIPKid1BZwmLOH9cSgvh4jkY74i4wn0VnWvsOqxeZzwRHpWwnDzfeeJtfRwjZtM7Qo2uyx0cEp4xHqiLA5F8HfIWM2AMSlep4qSAttq2EmgzHxUQpEFmLPIKgS1lOGf94z/1ge6zcoJEDysXzo80TuNT7+QVn2UzqLqYw4BITB1ta57v7vGUYRbIe8yOiEqBZVEyR+7m1ICFu6B960quEuIKXm6hOnT37j00WrhiAMZNl3dL46P6Y54axCmLlWJf4GBEk8MSTewCdG70izUPT++9KAaYcJWh6INfFR7ISGq+2bmteqPaI94ZYRMYAcxnNHZoWx98fvTyUfEctamr7/+QHUasjMl4gI8EI8miaTGi7TTxHJkY9i1hIGjJJZwN9k/rIG1OojfZslnCrNXh5nOucN9B4tMFqNrXRh8QaZrTxRSekPA2Sw9r9Y924P64nRWb0wWXpi1ruYmLOzpYJ2nAWNTg5oKRcBiWXKcSmMiK3BzbnrpPNdE7Roj84biTsl9OQ+Rwyd86zd0cAnMIzCHwzUMgJPUuqiAuF5s6hK1EgJZAAr+BvtKaoiU2FkM/RGl8RXzeQ7Lmk4AaB38PN5+wHb8bt+BqpjpZEErEiGanJapNa16hT01adyXCL5ocBVCCC7rO7/znd8KREcuFECl/uPBOWN0oEjWmS/kSW4LeANtGbeN1/K2/9WBnwLr5Eb/EixWWuhI2xtGReSlppR3pUClRAz7gf9LUWNTTRZiJmJJxkOhaYj25eedOsY7pxc7iYuz4RGGX+UnVslm4EiaUGTX2gk92DTDwj7kXTDuiDnHERWcHWy+xVLhNi7HqRBf22cVQNz76syzT9KECxcvh0UHx4os/Ftfopw478kMl1PzT2kuGgKlzVcwiQFbmNX9kCAChbBu3CqwITn2XxiOjCgA6dIwWsHT8OO6gT2KniUPQ3u1xvLtT7O9sM7/243wMe0T0qUS8YxHpdRDu7A7Qd3FgnvEWRCUU6RK7Dprx9dA8llESI0oZMZT4TVUsKxoP/Ai3PvsQsEcHO+w8YFKeceau35AbrcUbzirnhrsY3sMRftBSjpkyN9pRtpc4RE3tDDj4Q5jp49s0tiXlG3OG75jDpEvEf4ofExyqPcHQPM24DPOVv1SS2cdHlKGgI/mTgvc0Z2mDdBzOeiSoCH+zNE+l/LSU91GI6zEeEepu1JU4NRiF69evF9cQBmxcv1osca5WozzWP13wFlmd/knVKuuagq1PwI5ihWWrxaTduMYpbO7iQtXpmB2JAy72VNjdQ9Wpx05UnJ0guX1gC8xDylZY6qOVt+7OZvHys0+La+98UNRhbqJQLa/JgNjoKWfVvhUMxGRhmWrh1KcD0wOBcdMm73W2hxexXe4lOouYhNt9uRnItH+4FVysl3po7o4ViMmIViALjFtjDh630AaHcHQHW0X3KV3ApGl64yU6qkuqOIH4F9QpC+sVPO10/lxEU33T4HMgOK6dZOHi04FbDvxxG2b04Dhs/jKHwBwCcwiI80s88paAkQiAhLOCiGdxVK86zkWwoCZ1I/DfGD3lhb7iJeLVoVax9dlHRffxl1wAhlAGFZ0Gd9z0ghhAgAJ+VALPmiqWjLa4uMmo6CwrcjU74hGjxJoWTjr8Y2GN1c5MEo6V2BDJJsGN6RKchFVEDZiRUpxbvmed6AzPDFYJfI1bCBed9wNZ4bKEeCpxVcMhESJEGtfbOhE36u5aADMi4FhnGoj9l1EXuX7jBjd8XwsVh443BsOwESPytbyLXGojsVL10ot5QLBF2RKQWNcZ1Ve4NXlULK1javsWZyWwjiVjd/Ai3VjdgyCSwUlKabxTZ6WWdkUdYdruwXbx5ONfF7c/+AFmz++Qp6H2XwmXAEgJFRqQ4XdR/b9T4Xle0GjAG1027ja+JsEEGi6xzksQqejGD7jD44gzDXvsNsg0LCLYrMPcq1LWgaY0bhg/YXw5L0ae76QDzaXPeBhiFKbeXi4WoVeWrt3ljPTVYgFBqAdqPb+kBsZ4/FvHMcOe553zB/oIAvXrTzj/wH0iS8vsVWHiuqFlSxowGiHFZsxYtoPActneCuts1ioR4jSOd51zJ+ZkfFV/0hzLPqovmqac4r6RWEpNX8IEHl7iknEbpgZh9o88gZHOloVqpHn4BSzCMc8bvBvuvCZbihCmMGOWWPaN88Qj684HBSPO4Y1r14pr7OosYcFucQkrnzDxll0tX9ynq/qFR3iO38oX4Wrc+KEiqJZK17rjyIGINjsI7Ws3OPoC84BwYO/ZEy5S3i66nIcKMQ9A9qytdbZ1nmexb5dg+LovHxdbnK1a/95PUFNcFTURsWQTolCrABNIGwXCt4KBsEmXcWgiBQKMzqXxYa4O4NS43XkR3a/mCoeluQei//IJl8/AxcFUyDC06By33JwsSr0cJA04bbd+XUz0RccJfcPDYhdEvI1Epon1ghUOvjWuXMcyLB2hOVNdgnu8OtATS5HUrahSHveUQcT0P+LaW2nYMhHfkouJZiEXuItjpAxmDv4L8j472FIvW/LZucxD5hCYQ+ANICDOLBGRerohqZMICWQlAaDkTaKUP/z0Nrroi6QscrwTEGcGkI6+/OjXxYZUAjG7HAqsL7o9j9QsqAYWVXeHkc41sPbTQxJ+AB4egVvdNQ6hihnGfzCnBeCCQNEzlU7dErHrZ/hGpYzpl4/ySTyDyqIJlSCgroTnHYNxmjKtC63tNaFpVVVKeJm645GqpA9llJknQoO8ydc4Lsqx68IC3kDQtMTFbTdv3ijWuKtA4qLJX5vd7FAZC0CToKyy1T/bRY0qwbYjfaoeFdUmP4ksN2VcYxqYcbRv6gi7VlZWubfnVkgvt1DtrXH3h5fONdyNl6EgL4mOflw21kYd6qDYefhJcWUZlV7uCVANI4+DBGPhZAUCYpV6zV+FgHMkxkh+13PsGEFl34U6CXCXCewd7kGob7FztBkS4z4XwcHSYkmJ26JRQpI+ceyp5+5YHMKYkpRxSt+gI6iVrR6GYJrLi6FC0+Gm4iZ/C9AoI4zHuCMYjHgMuUQoWg1nil8nHeOZUrY//6TY//rL4kYbRhUVqkPqWa+hEB7ziBg2FGalw+Wzmis9ZN73oZ1ittDIdHeMwNDlZ2p8fGU4BLDSx9BdStsZ/0yX4BVzV7+SIaDVtIuwqMs4o/F3olnwd5xSz7RDA36j4FS20Iypk3Ae+al2GeUaEJHSw/mhmlIPotD5646DAoElYKsgQOZBhkQVUHckdKl8ICHMSlXOCBj/kCGlpRqMPVP9KTzaRVpeqDMMGlH1q6nKyLZD62q7uLp+s+jtbSEgf1bscx5mCIOQnG1jXlPxGsKcGnh2ibl+jJri8y//WFx//3swmN77Y/657/Mz1eg7xkAIMIEew41ucfGi8xg87kw0sK/tzdUFHHlPBmLzZWzxHjNJR13OrcOF1tyWA+BNgN3EnnLTbSg7Dp1R/7X47qFb1t/ZL3a3n2K9ggmKutTiKtaceDZgLBbUZ0WK47hwT8M6OIDtGic9vRW/f6qfPpPeusQiHfB5vfKdBA7eGNTlpM1+0SoB/5rOfIahn3tyyFrW3M0h8NcMgbc1ht9WPidg6dolPgokJYYCT7nQuVD5brCLL4S0h38jOt/i1Ng5iK19iBbOPux89knR3N4qbrW06DQsuhA0h6x4R+xMeH9MG+tO9999UKyjW19jZ+IYXfsdJKwvXzwvdvdQMeX7GGmnhSqxD/WmILDxsIrWAwwqRmhIzLqwWrVU7VRHcLgLoiuBsf0T7xlXHf+ETmSZEnFCcORne3yJNUBCw/LI1x0TpaoNCIKMx13ItWqTdqvTOY8EC9caEkL8SOatrV8tbtzhziFVlTDNalNaCJoWVTEq8VrGpakW1uZVndCQzOM3GhvsYHq3DWYHcxEwguCoXUHwhe574+q94vjxQySSCNPijgAhBuFDe8PqC8zdMpfOKdl8+fXD4ub73PlDGySs7AHLy6Iuyw3YWNbcjSEg7BOh6ls5ImOcTUanZzMHHILvM/4PUDHpIdSUidCqpFb+2/yFiiCUq4y240YieABX7Q3GHoo+dhrw3oLuqKOaVF/FPD1mQzvQIww4xqO0iGM60Ub2ccwl86Fqwbjbh74n7jfGjTTTCKHA9icwkazNi95Yz2HqpvP6eFAcktjyVlHzvvPB95POP3Ntj7Z4s/0OjNAepmSPOOjvuLEAGR+FtVFMzNNoEoBKuxae4XCsakxGtlQGIe06pLR5nlpnp727HYEX+ciMROweRmMYp0w641qu8cJynHnbNuOQf5ox4gy/+IdWSoxn2uy8likwfcAKvHTr5j0Yh5vFGjRf3XMQ/KmKmM85ZAMU5pXnd9TR+p7pLN25fNJFm6iD58difhOcLiO2P93poG+bnIW42oGRuBGq+4fcidbd3ow56khTbV+La3QN6k7HxSL5vdx8WuyzA7F2m/HRFAJCkz9gU3WXtsJ0cQNTtrPizfKrViK/v268dHo953L2M663J9jOFz8Hp8233ZKBb+pApg4eJuSAA9Z9/g63OCeBjmHPq9+Z1MuYgF0CiboQOCAclL47kCLHNANiEh+xSKoI5VXijUVuBFy/VnRYPFrL6JmFWVhTMECZJEpwal7uYTZVx2RiSBAxo+Vq4Ou920QnzJ6Xw6E7p2WAJpyyB3tsU65CycxfWEgi8mlDTDyqKkzcUiVP3/PfhRlVIgAS6sht4hAP2t1vs0i1UTurusuOm2qa+fscAm8CgT4r80X3QFx2XJ4X77ywXP8cx2eeeznsrOcsnJnzqaYRZ4qLxJU6Je46JdFKDsWbljliAYpdU+drxHDBdYEEb4EDHn/6x+Llb39Z3MYqjOcn+vwdQoFvIgrfZaG7iSrMNUxGrmwgvAEHKil1wa2zMnoR3SHb74cQJ7uoashU7PDUColnJqQ2ZAJc3puk0ab9CNysCqo3ZLfwk7CgqtQTwoC/sCLCYm9yD3eKvzsl/AIOtk0MSDpVp8RhpscSLXcwkI56qZUhXLxLiIZGq7WSoiSxBTXRjLqVMCC+Ellve+a8aXEFSf/3f/iToo1tfV0bxqHT0bqV7Zg4y9SV4E8fZ/4aW3Iqx/aZ/1KilB+/tMugaCNB5eqSIkVLIeSOd0MaufX15xCwW0WHHfgmwibXIXM1jX9brGvXseCyfOs9LpVbpAaSG/5ZDhEdQCebVZbz3X4EsRvQsi+AqVJ5xlrcAwDNccAY34dh6HvZG7rsis7gvdl5I15YOXLoS3Pwx3yRcR0yvpx/jrNRAxaDuaQGhGpKi5ytaSwiIF26EQx79OJ4HNgXpLT8yMHeSzr6wajz5e5C0CCmYTx39w+LnY9+VXQ/+g3CVOYr63SPuu0z77b4PmJc3EcV5vqte0Wd3a1j5oPMe11Glbp6YH+XubwNI7HtvN7ehtZK67z3HlgDaQ/PTcQOGB+2U//6CKaDceXQCjUj5rSqVz2q5u6azJCUUhPaK+az8yoGrbBmbJKX/6yDZxsUYEi/RSTCVNOTHqsxwaWERgg5QsWRGKqyg1HAd6qBAS3y8yZ3DfTcffBu8cH7fxP5iDM67ET4rDpL0Vmdi52xp1OklNk3goFLoOYI4scnf5E6/IQJdR9o/vWg2Hv8NRcJfh0mYr35uoYAvA4jEYIXEm2jeq+ltWsf/rhoYHnNFsfZtBJGic6liMuacZ21uMzymwWQbzrerMVwVj2qDATwSMBNcB4zELHMCPAYmWlSOKnCugEH/445nHQIBz3ELFqBDqIcsQNaiZODKl3u4dTkm8md9HbtOW/7qxVdFo8B2/MLSgKYzCtXOFCzvoH0BqkTjIODOw66wLX6PnbUgRD83h4DYd4HLMIvOfvhQJMwj8UPqUQn3m2ZE8aYFzsR2QHbk8dY+og+ty3AZXkF9bByEl12LFgaSYNIk1DrcnOml6sAALYGUQ1zQReR8T8huIvrN48xh8DbgsDrMhCvMv6t62Xi5zg+Y05MNTKHV73FT9NuVrxZDIR4KExFUl5Iu1h4sBdadDdVreC26tUVVDa5ARiJ5Ag78Zuff1Y8e/hF0UZQcRX1l7DGwtz1np0dVBtatx4UD37yd5gTbLIjoRTVBTct8hIc1sv1X1wkKnLHVHOkXXDXHlZHnqPnu8/BQaVnHiitsxi2SXOM6dIBB4W1QOTiD9JAXoMkEJPcHoRW4WMEngUlQzCgpirBHyhF/C1eAdfyEjsW+lPnBjrdTf5pTckdCNUZGh3UgHiK4xa9TRaiYYPnEZd1bb54RiQu8MIKjlZu9ilskTuFPvzb/wTev0Y9xbWqLSUiI0lEKZb6vboTQvZrTuszv6fcjOF6BulkIXzQCL7SihXNDzgbrcZOukTFgMOxm3/8CH3qpzARMEjA37UtrEoRb5t1q8kdSTd/9PfFwuI6cCJf8o6SLdA/i5m7KQiwO4U5XceO/T2EsOtCTHchqg959rQOSV+tQuS6t6OTxgh6xE/oCXsS2jF6/Yi5FKo9jOkm5zubnGdYXLuCxR4MvKj1AEMh/TCo8W5y/kyrc413TASTICWqOB1G2bL2X3AYt9eNW+hbqCnJ5Dqvvnr4WXHw5cPiGiox3mDtOdEeFPUueR1APzxgjHc4W9Fzv4S51GfsWKYS/zzOnWLSHM4x5+/x0VGxCT2yDTPRZedlHzW6nncfEO6uQw+BQB//paPtGGd1xl6NuaaK+Ii/PnkNaacqkUPUcqCyAnLC0fGatCxsnt+p7NhJIezY864wD8aJHU6A45mBteXlok2+S6i6eznj9tNHIcGXkfPA9C67LceYxr314feLD3/0EzZ1UNWiTk2tc+LEG9OCgQi41I8dVHZSxA8Ixlv2lQzSytJCCCzKcJktXwmTyYl3Pr3RPky70tYDrjLYfvQQOnY3zqTV2N2Vfh0SdoQK1HF9sVh//0fFyp13SQ+OY7wlQpm8ywxPskZRrW/vj1IygenAAX06kgOyMZBKfwPjQpVAgMlSQQCOgdhc46A0lgqWr8IlO7AZyEcM7h4LY4/FaoQVp6bnJFgEHbYeuolFCEpYSZjbXUvMmAG7F32kaYN9Dm1vPi4GLGqjq3eLRc31ISWIG6+tHn95kMSC4kh5i64P8/Nia6vYQcohpxyTinavMPjaqHPFwKPItMRcomDSHkPs7wEXJ4wTx782W/LBhdsgXPlIH2f82tIeUohDGAf/4iIV6isj4WK7scE17ERqXJa7OaOcufccAnMIXB4Czt2QLos7QaJHEPBd1JIanv2C0Njb2YuFs84hymWsgkjQ73OIb50Fuwk+XPAAIQtUWE+BAl+/drO4zsJ7RNgB0sKRFlxYCEP9h/mtyo8SQgmdAQQBryxyLYQSHRb0Aqsmd4sHkE/74OBd1CKOONzbZafYi5a2VHeCaNmAEAt6CPwxRJXKrYMFCQ4QiDhP05MDylbVQAncWOhDG9VdbrcgzCQmwDtt7SdCVjSwfKKec5NnB2apDSGxAsHgDsjwmN1cCC7ts0uYJystC8UO9tvrXN70wXtcCHfzNoROp2hBmCgSEpfpxrgxeyTvtFbl93Ofp7G17Uwu584zmLRJRoaow62jF6IexxKb9HZjaa249sH3i60/onaGHrXElASjJenapOsjOBqCm+stPlg/xs7XyufYf/4SY1PjqX1UeA43N0M/fYB6kheKNaAjlgLASu1lqvnPXHBsJtVrDinTAx6ZZhBi/ZG/NqrSMAtLawjsOLBbZ4yropRVCyX6nLvuCErThDoS+Tq3dInxI0/XWYj42kvmEoz6Njsgh6zpzoMr5N1mvGsudETYGoPXPEdHEPjQNqEeRF437z8o2qjmHVBmT39HFeNQtKHikaNMVnfgTq7696zjdeZDG0HrHXZM7j2oodp0iGBgp9iFRnEn5ogxpjBxQJvWX5Rz2nx67h0AI+Zvl7YcutPBGLWNnumQ9lDAK0vLZ8zzZXb7nPd9dzogjj3gbLWaMD4dVdmdzwhAFslnEYZEnDTqocYuMwc8uuTtbuMRwlIJpca1teJH3/8bYM95EpgJG5raK/6iUOeghOYJl2fQCc9TH6Yih5ku0bGEkxWop+JMZZk2K5frzi9zmr8mOyxLqFrJED1/+AfOM+2xu+V9FIwq6T/SaI3NiweLG4haEHKkWuS8IndH32n3etKP0/n8pfn04WCj+XYulRNR5gGfD7jJ6bLq4Q9o7PcYCET2Bk8ShVyFRaCxzkE/7PAuMTCHbLEPu5h3hYkYotOnxGbIToWL5zHcufC0U0TQISFj6ighs9NHXP5RHG0Vz9EJfsHAXNngjoqbMBMcbDqB5B35irx4vC23u7ePJdqnMbZFGtbTXYhldJGDYw5gXb40J8wREoQDmCP1pN190Jm39Q7YXTK71ExuxGTRPZRZUy2B/P1++vR5WDdYgoKIefkWYXLJ6s2jzSHw3YCA87b8iwb7oaTLCc1iuoOU/TmSyA104V2UWD6R/KNaBOG+iw36DnjzGotUnUXeFe54AaJG3Cd6ZSFbvX6Dy8nWkHZBfHPu4QAJ2RLMhzesDsAfsSYyyZ3nFimRoxyzh65Cg0zECepwryDYWUPXul7cjotBR6iaasbw89/9plhH39cyu6QFG3OItFmscDnbEpZKDihHpqUHh9EB78kUxI4D36pyNiEesq32OkTFgoe72YVYUGUrcDokHHCoswbsPX8RuOp4H0LnxeNiCTx/FcKuj2TV81seWD4Gv26w89yk7l7MRpOibZloF8ZKEyvUvF54ymZc5JI02jzJ9VTkYGT0FY5RcrymqKx7eVVUPc2QI8ukjsEycbB9nTspniMl72HyNUkjSyku/TSCCOzT7vqyvQPJcpnqnqrhd8vDm4V3Hv0RAh1thmNUlGCs2/SNzIOCyAZCR+dY190ud6joUpdSDwjXZD4dR1jcqTPua55vQOWkzli2zyQX7FF7Eionfp0DsWM2guiVloD8C9Ok5OtoUfNBeugI5vflEy7Z/eJh5LFIVK069aBrjrA62SdvmYkl1vhjCuqh5tiBqLdyrvmas99gfo3U+0caP+JQcZP5EtajKIfJEDTBkDm2wJxwvqmy6Jh0fvtmu+vggw3ooRsIVk2jYLcHc76NFbfaf1drAmaH+hKT29Ipnp3F9x48CEtSB+AFNT7EKcEcWC71dty6w5BVtUUfKim1oOn6wJzsRFNBSC+Chw5ebBYvMNc/gK4ZcQalD0G9RKKrzmUI7FUYHm/zbrQQaICHZJXMRHhGZjycTnGZpYXp8vMkxZ/CLvEbOM9sqLn1tY815mNLfNiz1gBRBm/Esjxg5/sA/DviZnn73X9N4LvOLvHzT38PHAUGY46HxhO0wnXAGZcrwLzWIJRxZ3m6siWzGYgU5eTvLKZilt/JVLO/LpvOra6AyFQ2uRHZOzcmf/ucVYYH4CYOSJQJAya8O+kEf03Tq+FKaOWHzyg8dVQkZxDU0PuscZ9EQ/vJLIDq7Ha5btzdCXcZtHnuNpy3QzJdigY7FQ7WNgUyBymYy0B66Ab32Obbf8Yt2V8Wo9v3isUb98I6Qh8OuU85aiCyvFFDqpHr7tM68d/X0ju9ECm1mClJgGcJfCopELl89eRFsc2eeoeJMmAyeOGIFzwtschFtRz5lFs2n9zPdw5oD0fucUGR24ILTKghuzFqJUQulB8Vo/yL3Siud3dn5NmLLRgxrH+Qvk/+Aw64L754Uby7fJ/sGNj8uWhlc42vv114ca3mMeYQGEOAeSee8S8j9XHYK7zMwlWzkl8UzzrMxpljrDDJVpwx5ZJOdvLMZSl0CUf8wDsSt5GW9DAHzXUImE1UJTou4yzoSOSaCkzBWRIGIo8ueGiA3rNUJTaWikN2BroQGzVVK67e4bnKQgwOgmDHsig4EmGimCz+J9zVF49ApCqMiD/JBogMCxih9KxFvUMILW937nATbgc1jdYR0tg66gcdbmqlLh3WxgFrwBH1X2PX9/r994oDlsAjiDEPmy5gIMNd4nFflk2N9ZcfIeFOhG1yEdaaik1s8Dze4l4Ldl8WadvWo68R/HLLNGvCwSb3KxDHW7q9lHQB4vvR//ufkc5yQPGd+0XrJ/9IBnEUFvxuq5O5SNeJWPjL222FyGUcKLx045fsEfWefFQ+x+tsmaak/peBE62VlEC/G6HS8g3uCUBXfe8AazqJCHQtsR+GrG2ue+xbp/MlpEtEDHkGcUh7gO13wjlgXGsh0jxr45CxX0LNGd394hg1aPTPD55+VYwgypcYk26kS7yH0I3I7iygCEwi1Pwaa0VfhgE1Z++baqOe5LmGBmO4CeEK9RrQBsBj8KaxI2mcHXmFIw7jLTq29MpjhhoHLmt4MzGHrIc7nDeEIakxviWg3XVTq8IxoUpglzZ6lHtYXy0OIcq77A7sMxZkzot1GPnVDVrAjCeN1pdy7ZxfaQeSscK7O4sKCGWytU5mATIzIxiMMFJABSVeJR/aq51i8Qid/BXuUWDSujMgIbxI2DH0xk309Rfvv1u8hKL20ssGBHHGz3aL75NvZhvFkRQcJWtFDQlXPbPDjc3HL3eLGgzENQQiIwTCLx+9KNZDuIpwBBqkRqOkPbygb/Ds8+Lxf37K9SoIRJjTTc44uQvSQ1CgJSzNPWukIXb5BKAuAyR9nfFLfR0HFUcVw/kwK7Oh58Z+CYBSeDp+ozxGAq+ezcqHxofeSA7MFq/fLWpPsM7E+bQOeK1F+4dYxmvAFO4jBJexCE2aKNiSyDtlfnkGIuryV/4z3RGzmyNkSuiceDsdexLLML4kjPnzIpXa4iqdAaD7V9k298IebDbvs0PBFuXQ7V5s9A5YFOVZ60i53MrEE4kd5s/6HBb8+jO2DXeL1dvvcIKewajUq0QQjoeTZZ+sWw6vxhGZi5wcVk6aTXQMv/r6Mb4s3NSjzeLNFC6ubaxDDHgZXhp31TxOlnL6yzJC7WjMQMg8sLCQf0ze00nO9XGQLoXd5GaxxW4J1Y8txz4HKq37TcykLS2qm5eySQ8ndUKE52Y+D5xDYA6BmRDIzIOBsfbwzGvdOCyQzEKxus6ewztI/Z5xQBhJVR0rczWIgR624I3iLoLMQx3iY5F7ctqoWYw4MDmEIFnhErLFa1cDZ0pc1kkgoSHRE7g6JnSa1Zp1HakeQ67iksiX3UilmN7kLDHjwmj9uhCyClqIxLZ8Uu9ohHQI9QOs5A0hUnrsiMiQuMAfU4R4UWIkWTAp8Qd5SehkIFh61CuQmXhG8ojEFgUxs4iUeOvpY/A557SwwvJ8axMBUbPY4JzbPhePqobhQWkh093Cfj9nN1ZhdG68/72wuR5ZUWaCdWp3wvSW/E27Snnla+yY8y6BlSTWEBeoxVg/9aTD/Cbhgtb+oGeobkpsjauip8utvRb0LXFwlo5poREQETRaZ2Snbv/R56j1PeJAOgxXEK7qnQNTmWigFipKjNMFBHsN4H1l4yY3RMM4aOSE9VDVJK0quYOXGctY86qgox9ST1Q98zshswId1zil8+s3Mf1ZdIv97V3qjaAAhkXhgMx7GCQgvYK6JvTKMgZhZJR6qD2tQP9cu3uvaHFoW+0NzxCk8xWTIgOHhOpxiVVQ/etQtm3QvGswDgoM+XNUHUPE6lrMrx5qU6oshcoWzEFTzRCAt4zAgokXZyiafA+AXzBwNEnB6bi5lGH50VLeQyBg5iAfmfcIsC/EBeAVmROFD885y7SxwXlV6vrM3UV25NqLDd6fhdUo5SN9z5N+xQ3vmL268aMfF1fu3acPnc/2lTWgXB7y62/LjdsVGdrnZeaWl8uJso0g7ZfqEaSkzKAVopcU1B5uK5CJWpIUyDso7SLySfU3LDszt3/n7huBQJ0J5b8aF7UgNiha3DGxipR/hL6jV80fw8F6ILsHM7EPwd0e7qKrZ0/RX+5UIHnyevGnbJttPPgACxf3GORsLGG1KXLOPTkeHDTDycHDP9/8F73PLyMguEgHglz9xx//AWsmOyHBwEpXWC5YW8GaBtuFxolJZ95UKQa9eVzgnOwTFSa3+ZGoeeiJyVitygXZRHCe2Jp0u359o3j0+AmMCIs+CKYP8aE1lodM1h9+730q6ESwiXmiXqaEeZw5BL5ZCGSk+82W8vZyr9Y3v4tB8t+JksQRMAoegLzCoeBifSXOFxh3iJmhHvrwLkAjVtYGO5pNTZNCEGnt5MbwHkQAkkGkXx6AjFWK/JSaSnBEgScKY4o7wcOJx/xjWYbQ0RnWhNDvsdD3EMw0UKlYAk+ov12njgslzqRm1BeGAnQ0grHwoqs+klP3L83dMxq5nKh7ID/xSsItsfj6TvkN6m7bY2PlACKJw6ovsGxiPvffeRfmABULdkZu3rmP6kcXy0v7xdU7D1CVgn0AvyvVU5L31a//WOw+Pyje//t/wDofB5AjhwQD80oC2be/UFPC2MWqMQHv2F/eSRfScWBLh6OexmVl7JjDhgErYAvuHXAmRctZEnUAJdJU85/ZoRHr2/kTYAMOjqURa58gWaDfDyE8X3JvxpDzQkt1VeDS2E3WudAwgJldgF5oIHxcQnrvHQ0NmO4FxzljLv2RmXOBsZvGCv0ya8K8Bmjzzr3z0EtxG/feLzo3nR2UQHk9VNRcex3/NQhpJdQ1VJnCNBST5P4DNAJC88AGk4qqWe2YU5GJPxOnf8Yz+voeFihJzjUSqHGRFv92n3JUwaFsJn3xkvMX0jaeWXJPU1olrE+R3pvdNbLgnRfGFf7mOy7ZPhF+ONsrfWFdo00w+6peN/n2Qj4CwSF7xaOvHharV6Hf1q4WmwguO/TNldVlDns/Q4C5jiGc1WIf5qpPvtJWo72j4rOf/by4ubtf3P3hj1A/M3/6lnylkbRkZw04SRX1eBs/Y8YhMgtgpz7gO7U2lcIGQzinc1wUqNiYKwr6aMk0gZ1nIAbuelpXcGiTQ/OAgb50dzbXt8wfb9S3xqBNOc9/3wgC1UkhbJUoyHGGCSwG/AJbkc0WFhJWNoo2ErRjDictIF1fOOC2QEzlqQepHeWRuxEM5i4Hd7Y45KI1jM7NO8zPcsGNWp7dd7O61UkiT/2SA1tffvmIvNi+h6FZYPdBqyJXr97nUqOlmGAx6ciknGuXgokLjrsNXdpVh6OvMRBj14MAayoj4mg+u9aTYpzcDnzNNK7C2CyjDvCEsw+iy9jVAEl8+unnxd07t7jBXVOIxp67OQTmEHhTCFx2TQiVFBdMZvQAnFZvu9KwMDHfs0Uj1ZxiMeLRZ9XShKuC09DVJq74KJb3PH2d4GYzhSRm1SkkoUYFT3kIU9HKEsxCHRw64jxCD+kpWyFIATlvEIQcd0t4UNtDkeJicEyDA6Fh8hIipA61vkA+oRdOnuJQ8VDkz9N3mRdNy0adjRNtGHGIGwt9ENE379zjXgsuwENKusHts1p9evQMyWy8a2mPeqKGsoUqUxcBTpv2Hmyi4gqT0Vq18eQIfMS7lq+P5EZeuvn8RlwGv2jUcnUSDmN/3vrU95C7kWS5GqwXCnRCf51dFG3OqwcuxZhgEi1JGX3HfoWZc0JLVcJKHab9Z18VO19/gSrMDuaCNZCqSi4HfhkzQ1X7INhXrrAjt36DG8LX2HFYZSxqyERoKkG3Y8yZ7+if+ImxqUcmil8X1FW6Jc0r8oRWqckhU7bqwQ0EoaoXhqN4a+N5CG6qiCrV3DXBz2pqelV6w4Gc1alSwpO/ud7j+W2muCCxzYz0kCcwE9QDRuoI1eUBh7tboQ5J2apCIqj0DJOEukYPNKzi2PWsAyx+zHPz0WWmIc9pcYDzPXCZ89k/I0JfDAfJDG4dK5LLMAnbWxDaMMlagTzGhK1noda5ALJH/65dW8W82mLxlDOlza2dogYNtL/JWVgYizoqYXCQZGrezCNal9zbntXma39FC6LJ0Wo+kw/osIwRVtTcYWB3x7tejjFAsQLHtuCuTyAfaEL6vMVB8nTvj3nnevNaurfdgpzvd/p5YlLQg4LdDoyl0tWTiakeYqMDguEW0sY6p9wPVzHhxun+zefsTOww8JmUDOIWXN8RB623uBnwGgth8w6Hq8sco59LbB/v5eSTUPc1DRp/E4JhnIcE/+NPPsVSEtaMkAxGKJKydSbI7du3UyLiOZFsh/lY78s4Y7lQd5k0DRgIp8uQNmjpwPrpyuqmjwt+ZT7Mswkjdf/uXQ5PP+UeDg+ms41KY548f1l8+tkXxU9/8iPqyMShDHDH3M0hMIfAW4CA8zex8SczC/zGhB4v+ky8pHpB/Ozvqh8YgDAmfZK8oQ/MP5c4F7J0hDihHP3CZSIpf5/zTNvxCdeZ3rq6APZRD9r54itURVFlAs92VsChLPgdFnLMlrMowmpACLTaTS5WWua8hNJiFkvqFkRPYJ0JrhJ3ibemcVh8216Ilh64qo057h54rw9V1UStYwHzj1tIbdtXuZiNS5m64K2VO7eLNkTHIgdVF1H56O90UQFZL5ZRHaXwgBjV8NXW0KYxZM6BxKsGlciY/POba4Yuo88ICfyLD33irvnLR1+ixkJ7TGcYBJpk0THwQ2QN0YtZLLdMiJ/6JuWuKks17/j4Nv843hkXAR3Gw4A7pHa//AzmAXOZdK668ALuiB2HAczCmowD1nua3JWA7dWgDRhUDoOAr6Nieg2ezL23A8hY661zyTA7HpzT0gyJqI4XP8ZjROrA/veMjD1si52D8g1B89hO//iepJrU1zJzOwKnEKRaHCkivk/HEiBEcwNCl4Pdh18/KerM4UVuSLacY3YZVe1yR1NCv8HOiIYQNjxM7o5CpQyzs32zXCqfsqNQ60UsflC+jnl9yLeHwr0Yr4cK2d7uYbF8404wDQMEFivc/7DAPL5z+25xiHCWG76K1bu3YQa5d8M8ZYDC0ZdlG0uPt/QQ4lH5yM+3tHuZvKWLokn6I8hhb4YORr385VNMuX6FtSnaDp2mgEQVT8efYgvP3cQOmNkIS5669HbGzmju1BT1zX8vm9+peFHbCVDOqsmpdGdFnOH/JmlnZDeeEDnMQW4zxq3wIzyjcWnLzK1fzGStcMlcm8vlDunU451nXKqC2TBSe7BZ60O7X39drKzfLZroGSvODxOH5GUbYsBbCBMu5Zx+cz2MY7FPHj8r/vDJ53GpywCThnLr7g7evXsLKybLMUjywvzKsKEMJQJHXAYzdP+RVbCPPnIcjrLZ1MwJGnXNFTvnafkOWrfbNtbXiutXN4o/fPoZSCuVgzCx+PXvPyru3LtdXGfxJjbxaWSUwY+QiE9hwsvczSHwFiGQ50cg1hmDOoe/TpGz0qZFbpKbcU7Fi2Hu2J+4U3EImuU3SZHekvggvYNWxu50Wgjm3H7rlFZh4qdELp0x980hL6TldPThX0zbyEMypJy7xj/HxYFEw8nAuY/+QDHggO/+4+eoLsGqQP2sYBZ72HKbnkOg7GJKjAxQpVJyfoR518W11bB844HLs4j13LTpqiR/Sqb85Suom0BIt6wUxPXAC7HUF4eIQWMBSTOL7RqGNq5fg0jEDyLnKkwGYnwIHQhwyk8W/8DTNp8/4SLcJB/jY7oCb+E7ukr4UZ5MQawfFiwJyG6yyFpz5S+++BxjgU858AuRQVjg5dhK0pwoh9a51VjiSliQ0hpHHGHkeBkPCbP+lrvoPtpsv7OIFwfPn3BKd4fDqenciOHuei1dQy2ZO1BWNd0uwy0jpi4/0DOOTvi5ekmoC9PoGgOm3Ok5ORXhgs9qet8ty8vhwvGwHtXSDXFk6p3OFxlejQf2MNCE/EXyiDH5mUXMe+bIJNI9kcYf6nHE7lf35RYXw3kGw128K9C/0C/gkxZE+iGq4Gp29Lloa4AKpbthUWdhepGzfVbW/7lQ+qeOitbGrTuome9z1gKRLue63Hlw10VcIXNxzLMFA7gAAziizMb1xeIK1rBCkhl9Sl9G/kCUl2gbP1XcelH1LhVuh+ii/mkORh9Ztv6U7T/veQADFgvszB4xLre//KxYgM4EJQVj4Xkyd2OAYNxXtrhCW1QFm2RtbuEcJ/MdiAyNb+iZpr6d6JQsXR6klW8vP1lYWGMSoO+HSbYag3HvxRN0DtHppffYnYtr7LdePC1u3n1AhugPx9CoIGfiODR1UUTOn6eDWBWCX//2o+IFVo1a2D0eeqgLq0ZXUBG6dQvLCbiq5Oh0LhHlzB+lFX0WxC5qUWxE0B6WGrcCrdN0m8/MJQVYXxOpLqBrIy18cP9e8dEfPkVFqkeeDHI4iH0Opv/yN78t/tf/5X9WHy9mTqQwfUo6c/BHpvOfOQT+iiBQXeT/VNWuMg65zKhHObfy1A68I6evC8ohvToHs1nQRF2WCX3wFxe8GTUWVadvIj8r2LLM6PQjzJ3inXgSsAwE2j67D8ecv2iz6A0QzAyQGg4WDlnkETC4wGsdCknKMQUccA6t0+MQuDsSEs/abz/HiV4orYxRtsMv8Fx7FUaEHYdAQDZBWPC3CNGhQMU6evi1Rhwv+0o4EQwuvUjGsBHhPAiuIkgQn6JNwoKUugQdVGbx6o+ySbYvagLjEwdFBl2sS20VT7/6Ii4O8ybqBm0KZgMCa4iKDfb2OOO3Uqxyn4drlkId25PWIWEQmX6ncHAaGQKCnRvOwqhVUIdg824BGdU+42yNXan67feKwdoN4Ohoh3ADVgr54p1f543MpOZI7RmBGOCNGAFm3t6Om8Yt9t9EEJDLsPTkMp0RYm7OHFm9cDYgqoqAk4FiCn/LUVxGOvsRczoG4qQszSLvwDzEHS3Ar81OzRDtCch55tQi78wY5pQXyR1Bb3j2aZkzSRA4ciIXu1z3SkwFDEreW1euoFrILoJxkMx3mBu+djgw7XmQGoLfGnUZsfvWp97O404ccnfndSIKCU3OcksgNY9c7Na37RhDY/RL862r6koa6FEtq+EBMMbiLpbidh59wbhkZ5ZB5lnVOJRvG4iyD2JavXqT3RcsizLX7UFzy/2ex8ufhYHIhb9t2P1l50evRCdYSzvjpJPgdvuowe1/9RWkE+gTKpHwEqYBKk2LdKw3H+6gqza65cFAeHSlVowN/odLnZu/TubvoN3B1ODDh19SfLrwrSVCw+zgne99yKEgrCww4SYXs5nP6XqezPXkl4jCHYhjBqO8uTPEy1Zsm252zVLY9K/1jbYFJ8HwxeMG0rtbN68Xv//kM3YntdssU1QUn/zx8+KnP/5xcQs1gIQz8Hy1qk8XP/+eQ2AOgctAIOYZ882JN2vS6Z39WZTFCeKfWU7fJHGfFTrDzzLLrGLRBH8qqVUY4+FtcWSX3YYa35xZLXaQTCqt9GKpY/CKDEVI/0kTRPqMImZ7RaPKILEe/2iThzpL6johL/w4ksGBWOtpRSuLu+/8c9H2QHUwFDwTvTMFn6nP2XV6PV+rJYpNa4eHooEgjMJAQx+YGt15zFk5cHjcT4C9eBkIGSYJpQMIogFqYWscou+wAyz1myW5sStHe3RVaIXHd+AniG8Y2oOdl3HwfAlBWFgO4wxjG6tK7TvvFiPvelINLIZHGoGmi6EyhhqEbADRkUFYwC79nrXz+VbAa6f5l4pKWebB4teYSk1B43iVNDlpfpYxz3+UvNK4+YEvNIcKrSJBvwJ9xPsRtBFXY4d2wyGEcW0V5TBgGWccNMwQhb5SySfrRTuc0+ncKPmYFX0oTpG5qHO/Rb1YC3Sm6VmtYkV/ABcPKttr4iKdPFVqTwmcCowiwtv8KZvsI8aSmMUD0NaGcxgDmNn9p0+KXQ6AN2EqNNajcQR3axsYlhjK9FC/+tJ6sXrzQZzFSVipzHg8KNL3pRmIPwfRH1VMs+ltgvhPmpeS8gz6ScGnfWJrCW9vTlygI+tYbVqmIwf73aKLlL2OXd46PevWeB99wCbmS2PRrsAnz+mEiiitMlAd3L//+JNiCwbEBTVudcWvA/f8fSwZuUWXbmC1liZ8dWertJLkQWqWzpjc2gcfsgBVqnL5jMtqMKYZ1FgE4AzIj370w+IhepC7B5iUY/Htg32fcWDyt7/7uLj+P/1TSClijbt8KfOYcwh8ayAQmKWCE/40DaNUywSfZBw0XW6uV9Ka9iulCf8SQ6b3VxTLUa6SThdrJbxXbt0o+lxM5zua0ahqwjSwfethxgK95Q4HQbUK1WFVr7M7oZ506PNLkLwS3kvISSbAw5o0PYgG4VCySbSKFuFvmC4R6YLK/Wg9IQghPlwhoD/CJ9FPhgkfHngouHxFqJDw8s6uK2sPnDDdufms2OSOggYqS56LdzfE26fD4hSHLhc4V9KnUt6kvXLtdnEF4x411Je8YyPOO5TtndSgbM/E41v9Jjhdq5X0armowZXTs+4AAEAASURBVNol7LwlWQtLK7fuF5y6jfGiJRzHkBPH3f88RlL/m1MaK47wFJb8jO9cc10vOY4YLm8NsA4K8/evmmkMlkRhEJTiKNUunbU1nWGZDjF9xM2RznkOyct0kU+Zqol0/8a794oRu3lqGairbyyZhQGq3R5YbmHlzV0IJj6qiuxKAPOwfHROWdUg21mtY+xoEEGmT4Y56N/cECcrUInDxvqlJqPyRd34DnPSoYdoCRXy250ACkl3g6j+Yz5v01kZ/0rIB0PPNwIBzzDtwDQMvn4Yl14uooDlfkmdya0lKm819+4NtRZbWAJbuv0Ouy/XwT3QitHnjGnynuYDLs1AvM1mfpfyUmYQXepP1TmYKi6WnRjFvBEUNyayPdfCYkd/iws/uNE6TGwxWTSR6DmIkFsxINUa1uUJIELK24+eCbD/t3d2i3//j/+AuEd2xJyoYZfdrb7vv/+D4sYNkBkj38E/PZEqVbzU65D9r556vahHScgHA8EktG62OJ+vuCgz65Jd2GInByfz3du3inv37hU//+Vv0+IvFCjn5z//RfGD998r7t2+EYAIpFxCRCQb0oSc4fw5h8BfIQSmkfdfUhPEG4FoeGQ8Yv1izSTM6Sy+UpQgRkxEggEJMySCoUwswtL7IgfaUzUIrehgIERsLZiClmfEKLjBn9nEwsc26KInG2O1Rw0Cot9XzS4me/oWCSK5hMuoKVWxTMVHamN65gboZ78ZNySUti2IEsvFU/EzC33okZtHZEI9DLR9+pVpeSR/H/FR+TGSLtaVk6ERFBmPk5OnsEmJjD3kJuQ9DvtuPfm66GMNcMQdBctcrNeEEEMbHGIYfC7ThfDpiGRDDqmuwjys3n0HKSWqW1jFcc3qs3ipdTqugUWMP6zgt99Fc+m/EdTYgB1+z8YMkPZKlKp+U+e8iBJ0VZRQtEvwkUuMsSl80gzJvaP0WKI0TawUHr968eJfjCU936LTApTjL88Ky9FZ0xie4cGsjjFX+hPbuRwwKCsX75Eokp/7o+4Cw54pwfjMBcIUNJuYieaySmvjDoTmW51HMmBJ8ZAC+O8Y1XKjHLlFKha4yEU1+VGdsqx5SiJuIB/bH4fiiZMZCVsZFuUY77HrRr19hrElDlqpikU1TZnaYSHxrQ//osNKD6Od5aiDSau43+/sbKMjgNJ4JjzjtyNohPBkcLRfbHPWYef5I86jHhQbqF3Voc3Emgteske8IRbUPFciA9Foc8ElB8FrHhD37INjIBcIbM276maaca1Wthr5Mu9npa36x2RILb9MlqfiVPMycDzQTsU86TGd7mToN/M1HsCn2nvSw45yUNo94hLfai2GM3Z4+7B5xyw0ngdog5RqcJQjkLu2j52sbs+HYzz2AYb/VK11OmS5xa8/fVh89XyLy0+0lEFJXMa2xq1N//A3H8Zi6gUxSQJivSZ1m7ylIs77NW4f84VdbmaSo3XqDYPx8agRQ5ZJ5cSJcXheRoaRmRPUCa2tcRoTeWhm8Yff+6D46JNPik0uZ9IWu7GeYdHkt+yw3EQCaT8r4cs3VIeUZjwLJgWLHP8cY2JSg/nbXysE8rjJzzdpx3l5TMKYAKEYf0FJjP1pN8ljEvK2cWa11BNVqAQkwiJ5jH8r4VG7E4kn9Z35BhNgcizS8yfmBNuaPvJ0D3S8ZqvGO6EmjFqWG5eh8ZncJRZ0IpZJI8m4uDIHszZCbsaJuDkllMXYXxHe+KNMlyiPyNEgq+4dF0b027ytaXxl3B8F88O6YGMlIUC3AZVYb3mTKFP9QlSo9FYmYXTEBaebT7Fw8zU30W4XK6wvSsvF3gMJjZBQJiLiCLOVx7VOcYTakrfXLt1/H8s0K0FkWi/r1MoNTzW1klHPsTdxvu3OrohdIxa6YxiHdj3sGcX6ri7YiEONoWMvxDJgBF7ALEEn+jm98usIINexpy/Jjb2yx1t85nU6qjYj31R1R6H1q9a+jPwalXMup7xIPGlm8htP4jKAMVyO8PKZktRlzjJcI+X5P1HNyPJkgeahT5Ti+zg4vchYL8ROwzggRS7nb/IltS+VKGNU5ATFSYfocp2TL/4xkKQKEbug0h7zmbjGy3FkoBhtIYeQ2dGkATpzzOWtoodAYN+5HfeOWAhxUQPzvgrV4a2mAmZpxAPO1Kr1cvXuh0XtGudh29ayxKG5fvikBsZL/Mx3ICaw+LO+2Ue1oGh9Okjw4KfuSX6+eyj7N9CxrXNcvqnVJoZ1GnBENG6MqEjEO4R7uVBoau8JdpP/63/7V6RDcOzuQBBXjvrDv/lxcQezgvnSOPPzfZZ1BEq40AVRQr4yI/xQDPXwmQ9BREUvzGYcoWwN36mBwkQrAe/cv43a1YfF//fP/1L01G8GYRjn33/2H8UPYC7u3uZiKx2TRGC6RZfqlrz9nTMPE1jM3+YQ+FNBIC3Jb7c0sUPCEafzTWFT/jM9p+K85ucrZ33JBEqxs8tJkvpK6asnuLcUuYyXA71DF5r1INYUCQ4kk0fsSO8+xyz27gvuIMJseP+Q3Qalu6QgH53ycVHviN2FPtSGt/t6Keq1m/fiYtOFRXTQx+tOJJnC8Jb+3XO2WhZR8qsFszU63sPgh0SgpGhiHrUGlujMy8LosvHePrwvKvmi8Fep0Xn4YXZYLj0/gevk9VWKPjfudJaT78lbZDD1GRNoKuccJdTSqGz+jklb/cYjjxmnWZIVpPiRJpgAaBwCwywD6u2HXDzc3XqB8QPuzOruMYP73DtCYuiwYDyYsLUQMEBT6ocK5zHMQ4fD0lfuvIfJ6RtsJnJ3RqXO1feKd7x+axmIRFxPN/cv+BuRRfCVULbRYVK4jI0wSwbR7AGXngQx+rue/HeWxLaVyN4Z4wgjpVt7Sj/U63V7XpT17//+M25yfoyFJw4aSdDjv4jlkb//278lXzhbdyTMD/9YlF4TTNbbsxXH6Bs3GKTeHultteavs5pv6qxfHabo7376N8Uvf/WrYvvgCMsLbGPCVL3EAsv/+X/9l+L/+N//NywheKBKSQSw4ByG+pBebT93cwh8ExD4c+GbP1e53wQM53meDYFscepEjAo+dbkQ2cUqUgqPXBTci0i6pJxF20NNCQLjcJvLuJBQes9QjYPRdfBjxCOPAX8LMAxKJT0grZIDS0aoKbU59Lt88y5WaTj8K2EsLq7U4UTdvssfrsWxHmPis73EQWp2ZrhauQ9we4dIiJHhNdj9B3wu2XP3HYVAunOm2vgYNBUPBQKSgcxqxkm6IwNaCjowiRN4x0rnEdbkjrY3ix6XPB7DNKhuqGqc99qoo+KpbvNQirowhDmAQTBGj0zrWFBb45LLJS8pZjexR4GWGpbgKjU56/WNGIj54nUWWF/DP4+dKkLBrwdxzFEXCHIYCLaU65hfXYDolxg2avRBTsvTBUQmQpOt7lg83dwufvGrX5cIzcXAMxDD4sP3v1/cwaKRWKy64/CmfTqAafAqeUQuMBBsl3uImmd2b4I0baZqVm5o3OQ2yA8/eK/453/7Oapei3H7tVZQNPP68R8+Kf7+xz9k+jBtKFs4BbOVKzF/ziEwh8AcAn9FEMgoPmGytEgkXK3Qx4aA4eLpPQ2Ei3u1roLJ6763Xu9sYUt/C3v53C2E6cbFUE9SHs6Oc7k9K6bU6IemRn12uWDUC087V9a46O56sYTp0QIigwXIhYfYEMEIt4IQSlX6K4LoN1vVBRcp4NjmAsGd51xoBnz6HBD2jIhQn7s5BKSKnDbSJidHRJ7tlf1EmAatdGoxaYQhg4GMA3P60L+9naLBBY9Nzje0UDnUZGzSYmEegwcGSBekjVSTl5bsISDgFmEusLxadDC/3N64hlqdt24rlH41luDVYs/7/JuDgCNJ50jK4wf9fi2FDJFidEH6Te6HWL3OIWE6fyiCUifQQcX/dAAop9UPrpN8fv7ff1FswkS4LeWN0J4NaDHC/od//PuijVUjV5+8A2Hxb8ZAmFdSYdKuumcQhm7dmjHOJub38HjVHxJ7kFpTanLj/+N/+ofi11hferHL5KF9sdNB+H/9l39HlenDYrFF+/gO+FCyh/ysw9zNIfA2IDAfS28DivM8piGQd4EzLlYiqOUWXf5NTxAi+NtlP/EAbBX0DtgFxurK3m5xuPUyLuAacFHUAsY3vNt4ld3betzn4PmGSB5qSENwqmfqjjhvNmC3ViahvbpRLF3h1mwu8KxjPUiz4tq2DwMfJmYNijqmykw347v7LVxlsFiTGhtXi8bmRtGlD1yTG6uc5EcPXUeUufuOQkA6KHYWyvb7LXWShoTz2unpF7E8q8Sc7sE09HY3Odfwkmm+x/mlw9hBbIEb2jAYDc/GRj4SkYn+W1DtkIF2BBmkAkuxuIwp3HWsp90sWggFsDgR1ixNJw7xz9SXHZszD1GT/o1dRn5mVH2PjANKVvl8dyrd+dH/f/besr2uLEvQ3GLZlmVmEpg5GDIiqSISIrO4C7q7qunDzM/o+Q3z9IeZ7oF+qqd7umqaCjILkzMyOBxmZmaULda879r3SFeybCsctsNwtn11zz24z9p7rb14PdFHzR5gyz6lbPBTQt0EwZm+cDGmp57UgvWhlnzblhrXzgCVClclI+gd8IBoIday43pXFwLEdlyfWGAQSWXo+5FeV3auSMsWL4zzhbFPfjCwtj8IEDDttb4I0q8CRH4z387n5O97/Y0+FVfGNf7RlUupOmvd5s+Zw7sQC/HxFt4v7/eljh4/mU6eOp1WtC3JwUX2oxKAWpgNA1HCJ/VePSmPlxAYHwIRiDr+oTvuvROe3Wn/8I3E0wngzj3vM3zD2ze+yLW3363cc78QUIDwE/OLb7WIgxVfoQiPlrSyP6aD9J5A3QHcRvtuXU/9V89ibaBqL9Wja9jfyLXGNliING4BF6FlQqEkalBwn3BTQrzoR2jox1XWzH8trTPwi56PiwMZloi7G8JX2po7kQSj8mKjA9Dv922fzuuGBDaCWMPkqWle5+rUheuYVp1JVCxGtebSHY1VvGzPEAQK5YACpvy8LkYqdf0f1oXAywyQsB6S5GCAOKXu61fTLSyIplk2LbDZ0VQI1JrkAPwORSmcfw04rMVhkLmntcGileGqhNv7ZKxhTXPnpQaygNXiujREIUhTL0fAv32hDyojgmnSjDGBlkXhCZxYLi4TANIXOEWXI4evmkvQXUcCNMPMSUiXHtZbVUm1TgsD6VI1N9cQaN3L9TWYHBrZH+IFAsm27TvTCRjpximtwXT3oYWawkT6yiuvpElco0ChVuTBjq2Ln4uUFggWPhYoceMLtwAN05ubRb8RUBrR5HztjdfSEYrjnTt/PiwTunZdu3EzffDJZ2kxQlITCGQhFS0jNSCFaJFR1r6JgMrbZSshUEKghMDjAQHpcSE8uC2tJxI3awelg9AtNZL93Wgkb9xAYLiauq5fo+BoV2ruJzMdyqLJXJfT2CKISDRp4W5UYS56YXDNxqLVQYt2LalvLbI3jYrdTS3TcJVlzamhCp6KKpVbFSVVpp/SUBrPCILsdtmGISC01Z85bnqL1AHPVpi3WAlZb8yr73ZeeQKSw9eWG083BMTnEP7BvQaY/6zxh/cTR+VTyFrZf+smAgNJDq5eS/1dV1ND71WAgvKU4/XgorGlIHMoBJxD3m9AD4zI1GQl6eyqZKHMRvjH1mnTU1PrVHhJUv9TUyNR2yGUBj6T6ReWB+7jNzJJ/rg9gak5YQGC2z227cEywF/OayoUjB0x94WeCWlSi4MuOhJ8cjHhUMlIMxkvX7pEfvNWLFEEtXEL1ha08SmdPX8pffDhx2FGtS6DjLUM/eZNm4h/aOc8Tdjc5wE3rQ/mYa5VgOBfdfzDg3qURaKExQDWlAWzZ6RXX9qc/sdf/JB1TngBHwKqt+7YzbtuTKuXL+NdEboUmOiArl+XqMY4ffp0FGsmuy1bCYFnDwJPA818FkYtNJas7PXEkslkDFZ8n29evRoxDYP4PddgUSAmN7SRDaQIVaMZQkbQYJYK6DysSmgjtWr3olTpxue5gUDopilT0iSCokNogLmoIdFG5H8PaqlyyXVDyhkrkSsPd8qKGNeb/MvvslVDIK9F7nHdYV1iDXc9zMwjbmTANcBXfVG5/dRCwHGPsYdHEWd0Taob7IYhgWEjdXI/FsOb8HI9xCsNEM8wiLJXN3CLYTZqq+B6uZvh9KsVnNa/Q3uiDoqU04s6LfXEKU0Bpye1TkNoaAnlAFoFnmneJ+ZjRlyuVBjhnnQnY3Sla1rP7OIE2mMlQDzLi1pBTkIKrAycZNsWdRAYfN10lBKsp2AVQwuFfPTRx+k8pq1XXn+N9KZLwwKhtn3X7l3p1OlTqR4TdA/ZH2KyIKWuXr2CeAFmhxr5EDcfrBARiOLC5YeXUWhx4hYt8Kf4cV/fLKL63gIK3ZEkyuvXrErvkdL15NmLuXYGb3aDCt4fY4XoaFucmlksFWTOnz2XPvjow3T86NH0R//0j9LMGTNG9WAEwUftLn+UELgvCDzL9Oy+AFZeFBBw3oTFlG8DJ/uoaDx44XzqJdvKTYIme/F/hstgDRhK5PbB0gCNhb6Fuyjk3GuzOlH3BH2hYTIQGghkSLUoV+pgMKZNn5UmT51K4b3JWGaboNU5yHJQgYFeZIqN2soN+QnuH9WVPSLxZf3JlF3VVtmqISDvFUPiYudY+hFs/JRZE3rhJuK3a3HZngEIVMaZSeCW8ak1uByaPakb62EPgdAD4HWdVgZjlMAuXZMsTjeExSAwUiGErZA5uE+/x7A61DQSpE+cbAsxS1P4NGLtCtdD+B4Vx+Kp6lxdlepwWbJcQKBwCCaFi7nPAfeZjzxmwjg9YQHCyT+2yXBFqzo4fNrwhmdUzstnj/N7+MCENkbdekJXPP4nDQsOVaDKg5z7HlIjcI7pADWKQcaFp7GpOf3q7z9I2/bsTevWrktfe/UraQHF1D7Ztp2lBWJFDj7XDgPrOtrbUvtSSsLzz0JBzBhm8YODjV13TgyCBNk9im12KqrYmJr88xwmMLti+ozqQtXLj9OxYr4NM2bcxIVt9vRppKRdS6ran8ZNfV491oUtwGDTxnVp/txZ6d1fvZe2frYF68PFNAOTXiMB6WUrIfBwIVA9n8c8qYpm5iNjzr3t+Jjr7+PnA0T1+3j603OJVKygRYUL5JjRG029PDhM4As45NHwPpkW+i1RzJZbGc0htJBX0Upe08p85SQCAhQdeq7rQz1uSnktkMqbHMPryJyESOG6EY9EeKjBPUlmogEXpaYp01I9Lg21uDLosuTCIK2UDis4aKXwuqDLdtku8ql88UNWxI7x5R9OcAnxp+c8DS2PR34btxXGIvtNBRATes+AT4YJwxmKrhAaAFDOjsPGbfPhaYDek/oODBhjLS4454Nniemdfzvm95rjecjzWVoOAiHEjwBJphdFFiXdDm8iOPSeO5R6um/ieo7tAAuBjkW1uCrW4Z6UBQhiVrEq9IDTujSKn2xkgZSYpHpiYifhHtdITEONeN3UEm7cwf6D+76PcRY2hQdmc2zHXCyQPPbkYx41TkdBwnN873u1cQWIYQat6uri4VW7hp8QhKZyYOTaDLpR51d+FMR35Nzxzrozjt3ruvHv9pjvLSjMqG6ODGGGMQ46SqUEEodkyrmm3mqY3JquE2b/wZZdZCU6SnG4Ben4xatpkIA4rQCprzuC6F57YWOaVqlEPYhVopbMGxNqxVBWujPm5/AtnKyDvIdheUNDPax1+Huys4+Z6TF+cdAga1yKArlAUK/mT751cWd32ioPzD/yAhu7i/1MdqR10fTF5zYSML41nT5/GSmaHMc82NoQf/oXP8BUX59OnTrDbyV1tW5Tg0hUbjv89VTOq+G3KzceOQTuwiRU08zx+nWv48U1E52zdmWi5xb3Lr9HIDCyZkHPcJ3s7u6GMSTPPy4/ReXbgK8c9ajGMh5kzeWZY9WHOTfixFC4xHjjilRTA43EheEGFofus2fTEFaHKXGcTHM8L4JzY/HXLQlia7Akud0hgQRaN6WuJjSQTbgnkdq6CfeFRlyUGqD5dQ26J7ncc419qPQjvvjjSjC8BFWOsatyGjtgSPIZIwc9f/gaT37CWzHGvobbfeTTv3WrhxCRZsCM4zAvG2wZg1XgkucV28OvL4gqS6ubIxCr+qGEWLbHAwKVmAIHbQAG5lY3Fj/wydSnjeBMePQwXHeiyaFQGH4T5kMkKWAOMcZDSow0apKT4AC3wwsXUt+5s2kAvG6s7bUwOc/yGj7it9cgPvTYJ7Crl/ohN+qnhlu281CcnoSFoQF3wzqUAPWN1ARTQxwTbvSc8lfB4OdewDe6M07zT3Edz45f2ZrouXEK3/dqxf3vdd5DP34bEj70Jz55D4hJIPGy6/6oUG/dcxoJmBlCzOzBJ/bAgQO4LsEsgwBDMNK6PHV2tqW1q5dHoRDSUWcBhBtNaKJoj43m2fmKHNtQ6UvlaCRsFRkqxFHimjVU+Rr9adWwOdZOWSdzEG2+R9+pcsOJfHFPgwFnzpqdNmzanE79/U+5b21ka1JqN0akjv40N6uZg0BAHHL8gw4AxdtM5EHlOSUEnkwI3EWOeTJf6EvstTTj1i0KsqFFtAhnbw+ZjljEjafyu0L6Ml2r7ieuA3n1HtkZjIdWAv7V1mhJSKkXC+nV08dSN3FaDWSwm6SSB62kSs1MrRQcUMhwnRlWFCDgIsKiWk+Kxikts1LTpGZ2Qe+wPlB1k8t8NqyvdJcXkBpniuw9R9p4+0aOunXvM0af/+T8ihTgviEwctvvW1T27bp5M9UTQ1iHMqoRRVQD4GymmGusW5Xzn5y3LHt6NwjIwA/0DqRrVGk3Vbz43ddHNXHiJ5tIPlN7B3ez4F3ke2RoaP3gpFiNaQGLAoIACtyu82fS9TPH0xB0g7xmqamOgGk5kLgGSwHfZkQyRsGUyj6/gXnW2NyaZk+ZnZqxGjYQ56oLItqBEBrC5QgmUDri/4L2RCfG/Lk75o4+OvrXmBuN+fmlCBAFoO1L9faYvpU/x0DAiRoMueIx2/5bMH8+i1dj6tV3rhaLA8caWMhccHQlqkdz0o8mZebsuUzKvMAVKQGVC0KxNOY59/rpBItxQ2CJ/rjDCUx/NLP1E6NALF9YGVyx7KeLnt9e4CLmBd4jj3/scOfnbnrwiXx2oXPl6tT60dZ0CUlfGKhB0uoQAYUsti4M1sKYglYuZznxPT73I8sLSgg8MRAohYcvNlRjGcV+FDLXyfIWmukGi3X2Y2W1yJPUb4SYQOXygyV5scVGcZgdxT7poulQDYa+fvpo6jp7PNVRTbZFzWUtWfZIdmECiNpBoh2gnf1yCdJx3JKacF2oVxspc4HwUAvD47EQGHiCAoMP9TunvuaebNtT+OCyVUHAdSgLDrhvAON+kpRcuXItLNkNJgVhLemDqWttmTQsPDg38vpVdaNy8wmEgLiJkA1e3LzVnW6QBakeF6GGBq0AifT5FFNsklW+M9ZUzwNrpch7EXkZRRyvnziUbl08SyKE3tSs+6G4iWAxAM2Qf+rnfGMZhhqnkP2sJTWD1xYgNCtaHYkOMk6Ly7SQEnRjQokgHZGQcP2dexZXPbQ/X4oAUbxNNdAlviFJFQfL73EgoE8mLLqMP0fN4z21lcqgTiQDi5GQB5i4lFnzKJp3hAcWtzo0VFu2bEuXMJ+9+sLzxEqsSS3NLDROvgk0J2msRVXnugixEsUtXAT9OQRCOJnzQqqrEggocvApBIhaGHl7l4UILxSZxnmAhybQfNZl07Z+8FH6bMeudAOfQrMwiZkuleKbsBm0yIqLpwt95WWEYdlKCDwICBRzavS9Johgoy96YL9K4eGBgTJuJJ26QW2dS1eu8Ftai0sp9ESarFJCelIIHKhv4ncQSZnT6q5UCI9f9VSENrPSpSP7Us+5k6Rh7UnNmoilWdDzPmh4L+6mQ/W4ImFVmNyCW1JFcKjF79kUrBD4sEi4fsoGFX2QORmms/Qh9mMBVqWTGabqTpXbrg2CRv3cZbTQV0ijWYcCqh9LUJ2Z/1hXGma0BqDEdz/CdHzcL+H55EBA3hPvDWKOzsIjdWNVrK8fTL2OO0R06hQ0/8yNe451kHtxELoAk9Z76Vw6f2AXaVi70lTcumvkQZhcKgEGEfZvyqmB043UZGim7kpD68xUqyKgkXSr8GyEUWfX78p9My5LNfIcjY0KDxbbX8KfLyRAPCjEyQznl/D2T9gjnUdOnwz3PJGcVE5uFw616/VR3wGEkArGCkJAMfsG8cvbv/9AOnb4MGlc29KrL7+Y1q9amSZjFrt3k8kvnpvPPn7iZDpx8lQWGjS5QUxBu6jHUKfGzN9cYzcOHTkSrlQsueEPXFNJSbhy5crUSn7iujuYBu/UrwKRuzAH7j16LP3dz95Nh/kWda3+2ciiOgDy14fVgcoZACesFMCjjr4GbLx5BuGdHlPuLyHw2EBAGvl5FCzl1H5wQydtk+YoKFzEJfLK9RupCWZSLbUChO5L9bqLDj+ygL57/GQGJWio53C4hh8RB9Z1IV05djj1XjyXJoeGElaGSwilpHosggFayCZi3BpbZqcm/J4bppD8AaZDoQHuFiYDF076Fwoa6RvP04UzesAz/K78iufZn6J3dqVsFQgIK+EI7FW6nTt/Id0kzqWJHb0ArIFFZBJuLI61c6FsTw8ExAjTv3cRl3Dp4mV4CN2XFBpxX4I3MYaSyQHqjDPuo/Z5jnEHt9Ktc6fTtROH06T+rtQ4mFOymo2rF4XAIFnPauC7mqbOTi2k4De5QY1JXVQG6GpYERyci/J1YXTg2gJvhxUFVXvyseKMRzc2n7sSdWZecwert+/W5Xudd8eFsQpod7v/s3LMKaSfngHUfmz1/LaZNrXORcVjHHIRMU5Bv70Bg/OY6Pro1mAV2LVzZ7px5WpaTFXCyQvuLUAYiD12al66dDn99//xF+kmpncdQ82spE9uLQii7+AAz3PcdaEyxer7H3xIwVSYee5V23uLIm9LUnt7e+47iGKfJ9pcyP388pe/TD/8hx+nHp5rDMgAdj2RX0HKxTl0bXzbt6xByIvDAObDcUjBRB9fnldCIEOAuTWRaXsv+jeR4xN70sjAxPkT6dzIJeXWOBCoZhZv4Q9/6syZ1IPgMEBZZt2XLOy0YN78bPXk+hjLMUxFzqDHQemc50QcGPfo7U/dx/en3vOnyPcOGeWgdKlnCMsxQc+1aCSnzF4AozE9DcB0GMgLQY2bROBlRVDQXVSXBpvuUAogLg/OgdjtTblz5RR/5I7krfKv4FDJhNXHgNSr17rS2XPnQyjrY58KqD7GedHCBQGranyt3i4B+YRCQF4Bbv3UmbMIjbfgo3ARxH2wHl6iaRrVm4lFCNzhvNsauF6gez4M13H5ROo6cSDVGCfFJYonfSDkQD1VHUjg0jRzbmqeNjPVtEwPC1cNigBRNPPBng2PJM8iItPGPtUzMqXwaD4nixpjz/T4w21Qo7I9yRCYRIYNzee3EAicPgPUhtBNyEnohFawUMaIaalLEfvf/MpX0je/+maaM2vmhF/daRoT15WJH2vXrE4vvfxy+sV77yvFcNBsBZr5PJynuDfP/cBCAjI6yQ1obuL0b37j62n2rFkw/WYg8frPN/nVDmzevDl1836/omDe9ZvdmANZhkG6CE7iWfHs6A8LLATCPih4mDVlGOvtZNlKCDwlEKisOSJr2R4gBGQUzyA8XCW+agg6U1+HixIKkVbqKExpwe0AeAvysI5KIAP+mQ6OMPdqEzkGDcIkm65dPJ/6L5xKk7A31JDrvQ8a2k/pYhmLKbMXpobpxK1Rs8E87z5fKwNXV4ZWB83cfJRZXGwFGY15kHfF/lF/om+j9jzzP7RKx/gBiVOnTuEHfwtZzTg6fNkphjGTVOEtWn/K9tRBwHG/QSG3U6fPEC86SLAyylcER4Onpy6aj0ABpun6V0Guilie4RBCPIiWGR++cF06fTTV3SQOE8ZriMDoHqwKA1gYGmfMTpNmz0+N0+aEFbHX/dylEECChnCrGpDXT8b2ka/8wKr9scPfNt7iS8DrUoDI0H9i/5odIDIMVS8tTCQMASABwX1M+kJ4mIm57J233krPb1wPcmByL2buPd7eKToiEuRprVnvjTdeT9t27UmXblyPAm4mHMhkeOSGoTVD6OjDKtCIJH8TRF23cnlau24NWh9M7iJgseqNXDbuVtFfrQkGLs6dNy9977vfSatwhfr7H/80HTh8LAK4FaB4+7hHRnr9lBUnsllyzpw5WcjixSb46HH7U+4sIVBC4OmGQEFzpDcnT55M3aT1JMcb6VShJrhiLpo/L00ynqzSMp3MFNNdY+lhkGmUJkO9N9P1i2dSi0pvXBZ60UL2kPO9oWVGmjyX4pczoFEEVZokIv/nnt7WO0rThwkXN/CUaloejES+Lg6q9CnbXSEghLTu3yDz0olTpwmm7UmTJ7uI9qe+nv7UvmxpJOa4603Kg08sBM5fuJSu45oo49QHr6BrYhMpXHWxlsOPgrgqOkW2oomPFbzLGD+UbmF16Lt8ifpbxjDhhghuk+0gTcaS2DIHYWRKK54a0AvuHwqAClqLznJqGa0D0bl55VlVjxzeF8eK8+zQqJPc8UhaKUA8EjA/2IfEJKuaOy5uKqB0WWrAfchDZgGIvMJhdRhIyzva0m9899upYxGF5NCARdVSRd4JTrz8OP/mJbEftdqcObPS629+Jf3FD/+WxZT9HFZgKVr0g75pYaijX92Y7JspfvLa669GKrwB+iFiuhhOtCaFFgTP1zXKxV07w+rlnWk+wsSPfvFuev/jz9LV6+RMR7Dy3bRGiKgKHSK7186YPgMNIjvzSxXdLb9LCJQQKCEwCgLSDWnGBXziL144H8HKvT29rv+hhJkx825WXClPpof+DXKLIkWmtLfreuq71cXeunBv6B3CbQKXpeb5i1MdGsp+/KENDYs7QLfUVUquQh0kHfO+3pTtaPRReqiSxBbH4+p8VfjoxJH8x0vLNhYCNenUydNYma7B5NWHsKhA2IRv2bRWgqcroBx7Vfn7yYZAD2l6jxw9Dn+CizV8gQZC+Zi5sxHmCaCOgWfsxx3+6p1ccwVPkGbcG+tQCPRiTezHbWnyDKq+KzxgWbRGlffXR6Rh2JVa3gScDQFFWFawMwR/D+RnZyjnYz62OK/ogrTiUTdctHJXxn1wNZUBODaJ6d3avY7HPe70yDH3vvuT7taLp/eYvnEMwvBklqEeQkhQWlaI6Itof8xvLCS9xCfMwPT67bffSc9v2EDmpabQxAdc/TPBGZeN5ZVp6hixGSY2vl9/8fl09ODBtJ24itpKdWe72E+/jIXQCpIXuv7UT+zDW19/K61ZtYq+wtizog5RuCVX+oyZUTVw0cuq33nuhSBQvRcBxDZ96tT0mwhIm3jPd8nI9MHHn8baqtWjj4BqY0EM1u6l4J4Lua/uGxULcKGkywuvB8pWQuBuEJCJixk0+qTqaVuhZxOhiaNvkud69b7CHa96X2yPpZnVz7/t5HLHvSEwekz9ZVDt7oOH06WbMBiNUA5Sqw7196VZixelWdNhCjhneC7EePhLuuQcgdbELVFm8MPD0s6eG7g49JBvHjo4iPvSYAOuUDMWpGbclqh0yXWcyLGwLEjjvC7/8W/cO+/0V/HxQT5XtUrRuCpfEDtyX4tj5XdhYVLAcpwPHD6SuqgVVI+fbf+g1qZBXH3npun4wkf6w4kumiVoHwsIgEIZTaowIgRtcUstALhz5uKldPj4yXBtriPjWT1BRQ1wxnPnzs2JWJgXIfwHHoJM1nThOm+db8+9yLo0hEtjP3hdJzPBOYO4JDYgNLTOXZIaps7MCWeYP7VmWQvFLncJ5ByLlRlhM09yO0fi2Y9LwwJx5+6M6no1FXpIva+icw/pCU/RbWW+eR2LjcwmluE0/rn1bA/iV1fPZK4hl/gGXHu+9fa3Untbe2W6s7QEkPkDMz1RxqZibBsBHvgTlROZE9MmN6fXn9+YDu/enm6BFFZSNBOSKGb/tAA0cF4v1VU7ly5ILz+3PvsUFndTzTbcqreHd47aqO6z2yPCDUGN/F6+ZFFaNG9OWrpoQfrpz3+ZNE2aH90MUAbJ+f4GGkpYTIfLgdxY1NXxWQKmbCUE7g0BZ7ef0c0ZOdyYZw+7PfwnPOw3eNzuP3pMFQGuXO9Kh06cTddgLprQhzRB5xQK5s0hMxIJJByDPA5eK+WT7kmZvDr/84jkRhWn5w6hTGmkwBRRWah8cK0kq5NVZhsIntZtKV/rBTQ1k5lw5993+JvpIbUg7tLK+XI7cBwbs/RdxPJw8vz5yB6olamZjEsDpN6cvwBGUtU0I1O2JwsCju0IbvqLVpEqBpHoZdKPHDtJzEtvmkJmpH5iSK00P3P+XASI2WNIfGYYAqu9ELSU39H1IiKU+gjA7id2Bpwe4HgNVqwmgqYbJrUGZ5Ef7mVew8XDFofiyOhvzhpud9oePuFL2sjU7kt6ePnYLwYB0WESVoVpU1uQamtJOYY5nCIok0jz984730t/+Ad/mArhQUvFg27FPZevWJFWIKzgGBWCSRRWEjn0JYQwDxrYzcO/+sYbaRHxBw+2iVoj09i3tIjcG6+9kv7lH/9Reom6F/UQDDNAZT9hFmzTyILSYyFSjaQPto/l3UoIlBB4/CFwO0WQKT956gyuCZez6yfayO6bt0hcMTktXDg/Xin4kdterqBLUunMuGghDnZG5oPPABrKbJ4gQx6CSBPB0rdbmrxPSZmE3MNojq/uKmqljxw7nq7pvoSA2N/XSyXqW8QXNpJ9aWG4Bxfj+DD6Ud7zwUNAdIuA5OFbVxSH8Ca6C4lrFgs8jNVJDDN7o0loenu606JFC0nbCz4WqMccca7c1tgVVixPNCgaJM9UJA7kuJmwdGQaMHz9OLcaPvYEbZQxEE/QYI3tqnMw9OVq1lnY+nt70isvPJe+8eYbqR3zuhPelKWZr3+wM1YhweYzJlMJ9Zvf/Gbac/I/pVv4E8ZCqXSPya8BoaaXAi2rOzvSpnXrFNa5KC59MH/GSPHeeoh4DB+zdOG89Ee/99tp45pV6ecfvJ8OHjoY9ShqLRkPlo829KsXGMtAPJgulncpIXA3CIy7MN3tgvLYI4AA9AuKcAtN9O69+6g8jcVgSkvqg5aZfWkBGsrpU6cgVBhweTtB0+4wzHCGhhJGFaKUlRhsNzXjD42Ge7A7srsEWYTRkAaN2Cy4Q4Vpuf0JjwAEz9AjrllTaN+BSD9uQbGI2WPMl61fjWa6KdyEXR3GGepnCEpP1qtmDLwdc4wVHYLZN4nL3n370wWKxw1SCbpwF5xC5enFeDDIRAQVCAGAnxUXpozbwCKQlm9x1G0CK2t02+a3eCsXkq+RkuST/fs0tUcqQATz+DRB70t4lzCfMR1tBWoM4eM/ZVJzevvtt9PLL7+UWthm5oYmpV5Jm4whUTuCax7UBDaNqoyP0rfCxNKlS0Pb/9P33osAIvum0UNf4UmYgl9/5eU0lcDmyLVtWrSH1Hxu4aI0FLnaa9MLm9anRUsXp5/98hdp25ataRr+rMaN6Go1GiIFRB9S58rblhAoIfCYQsDFvqCOmT7JFxzDN/r4iRPBJPSioIGApVYYymXLFofmOtMPryuuza83HiXxrtaE0LWhvnkyeeGpctybnZV6VbxgGY0FuVgo7QC39c7j3S8/qfx7NwgUY3onIb2A7dHjp7A0nU61FiFFaGxAwzRl8qTUtnTZMPyHGce7PbA89hhCoFoxCL4hCBh3ef1Wd9p38ACVpxEYG4x5MZ60Py3oWJpa8eoo5oZzSA8Prsp4GHQiY6SbOXFMxmvrUfVp4eB8qm+lHooRToXXKDyj81X+fTow+pEKEI/hzHriuyRqrFu7msrSL6UVKzor2n8nvHM0L4SVaf9A37UgyCKWCObv1159Oe3at5e4g4sgFRWhyaPdfet6WrdubVq9akVo61wuH3ZTSxQLh5o/TYsAac6M6ek33nknre5YnuYRIxEVuyEYxXvYp6cDpR82dMv7jweB6nk03vFy35MDgXDBRLkgbd134CCpp2/hxzwlEkIM4eIwY9psMrTMChoTtAaaNj7tKPaO0Ly8h0Sw3G/A1K1kagltJZaMPoST+hAeCoanjMd6GLMmMvnFuiWcsdIjLOzesz/dIgtPU6yZNbgwdZO5cFmaNQNGkrFRlitx/GGMxsO+5wju5Sfxu8IXnSWz2hk+4l0tgdMxL8C/dpSNUdQxBIXM23htgeUKkoUMEejq5NCNmjnVRJbJm/A+NXz64T36Ue4Ocf+ahrH9yL150v9+7krU1S88UYQKIFddONHrqi4pNysQKGBXLE2KCC8+tzmOSg5d0OKcmOGViypfhTZm9N77+1X0w6uL7fkUhrNA3Z/9f/+NvboyDaW5BHi//dY301S0OUNo2XJ1xYe/MAZOx7IuwchaPN2pNlF/omg1owK42SuOF4AtTiq/SwiMA4FizheHxv52/3hLxnjnFfe427fT8n6vvdt9y2PVELDCfXY2UO9w7uKVtBcBAo9Iqkb3hFZRxmI1dWyaqYNjsSn5hrhCpkQNposdxEfym2kQ9/dH0GO1lNyAzHMNU6amWQuXpBunpJM1qbF1Rmi/vVs+135J0aGV7Crb/UEgQAf4haljGi1AbHqPvF4ePXY07T90hOOk3URYGCD+wSw8ne1LY5z7HWeH0OQkoZmr3Kf8euwhkLG5qpuOPZ9bMPb79h9K126Q8r2hGSsEGbcImF9MwHwHNT9suZibk8aPf1HFMg/yL3aw7XRwJg2B/zXMn6kz56Shawu47w0yPzanlpkEYrM/Jlvc5en689AtEAH+YUr6dAHvcXsbhYmiSRwfddOUt5E4h08+/DTtw7ewiawGr732alq6hCA0Ftc6K1brR/iwW2D4MJrH0+4lsjxI4ephv155/xICJQQeAgRgMi04qf+7VGrfwYPpAikeG0xPjRZxAAXI1NaWKCqWmQfpGRpGSE0mObp1VvEKEuGCDMF5hAtMEGYvqE/T5s1Pk5upQN1LHZ/GyRSOs9KxS7LxZZlOem+3qmk7P8v2RSDAILkeWXDU4dixe1fqwp3FjIY1CAuO80xqBS0wCw8tKhHjhhKW9thT/nliIUD8ozL8pctXiW3aH/guZmplMnC+DVdsE9Po5jSWba3oAPKrVxisAr0VIuoQFOqoTD+9fWVqvtHFvWvTpKmtyA9kRht7sycWgKM7Pq4AMZ6mqwKv0Vff49ew5aGA8j3OLw/fDwQcmfFG59ED3dSurZMmpa+RbenkieMstq1YRzZWFk6k9EhQeD/veB/XjHn9kQBpD4w5WLl9uDuNf+g+OlBeUkKghMCTBgEtBK5/XTAAO3bsCn1Hdmkiwx3xXEuXLM5FxaBmxlEN17CRu+C6oMb8qfyM13ffMFkpfmixIHCzYfocCkrhX01chEWmFB10Oc3ne3LZHjQEFARq1Rhz44tk1zp85Ei4/lrjb2iIIHlEtiWkA59ODSWFtxqEDQd2osVOH3R/y/s9KAiM2COOHTsWqe8bmyeFm5EI20KShFW4WmtZzJ4SDLp4yowQE4cVBcPdgQZwoNgP+4MVA9yl8vSkZitYM8O8XgvEqBZ3Y8+TrxYYV4AY9a7lj8ceAqO1505O29hJm/c+zL9K9kry69asxMy/Ki1YMC/NhghHaXhQ0DSvdYGQD7MX+d66T1U3+zbSSp3eCCzKrRICJQQCAggARbKJYyfOoAQhqBa3xwG0kf19FOdEQ72ajG4KDab6hNpVAW6EwATTWTnqGRaZQjrIp+cdZGqRsYCR9Q4IDwoQ5HyI395p5G5xgWeV7YFAQMjqcpJhffDAgXT54gXGaDqMpCvUAO62TWnNasaZM/sZe93Wwg7kGI4MjDvL9oRBQD7gFlm2jG2ycGAtMU1aGwbxU1y/diVFA2flicG+jN7gH3hq8oPhsRclq1rGUCdGnleppjFO9RIFiOEYmqprnpZNQkcq0Kg2sfjiY1qhE6nePWxhqN75jG/nQBwkVhjYbMmpBOegXSpaTDWOD0GwXEfyIsLf6jEoTr7nNyMzSsItlq9xBvGe93oAJ/BY/YP/8e//TsDAO9aLtfgW16Jxs/VjIvZV9SeNIGyEjvAN5pj+xh6T/68RiWlxrhuxM8PJWVuZuRl+Hq9q1Va04ryRwzxgTIv5ffvuMWc9nJ+FAGifR+ZNfj+7pGZjQBcw4FXoUCo6EY665RwY2RPz6eF0tbxrBQIZ3s6sPGlisRgDnYnSTGnwqHOd8GPa7XvGnPAE/BRaxbsWs1Utfp6/2Z0ktHicN6zZ9xrnv384U2TwmFriGlxQCvizcc/mHYo2KPMAnP0XGdkC9zLO3ewZIBnEwXStu4fK01gJfFpfDz7xi9LypTk9tnnko4/RL0anMkB+Se5GhtAnyHhWncA5Xh/74hW4F/ukjnF9FUXz6qcGnyv0PPMcvmmmXeKOYzP2PQO0HMnjxAm0gla6XU3j/T1eM0A9Q55ZZkpznqJvO7Mn3eztT1t2HkiXbqFua+5jPJle/T2pbUlHWt62NG4Hg0TzDnl+5nvFofJPQEAA+RmBTLHHw8Xe2OeA+h8EKaxsKvo8RxwM5aLIM3yVdxi/FfOgQKv8W8Fe1zTStGNFiGSPQ9R/QjgX14w1cq4dPHoy7dy9D9xuQkDE7YjYh0l1g+m5DWuiHgs3cdYFevon1mT24KAY/6J78WL85rugQgUPk9+Id+Jd420s2nvba9y+57ZTnoAdGT/o6L1e517Hn4B3fSRdHJnYeeIpvdYhPFy/eTOdoyry9WvXCNppoHr0rDRrWisEK0/4WHUeSA/HkuEHctMJ3USCXsyTFmpDFC32SZ0rTfNgILoxEbSr164Dm4tkbOpOk1smp1mz50QKPeLYovWTd72hcm4FJWO/RKl4Xj5z5G/1/rxdvWfkvOGtexwePu8hbOh3HZQVolUHsenqupUuXLqUrlLUyLkyk0D06TNmQGA9TaIlFfZTERYrAqR3cc8IpPlRtocLgbvMm7scGt0nB67q5KrN0ec9Vb986fzRRUg/814W/fr6+tSHL/IlaOWVa1cjqHXGjJlpzpxZxCawVMMEWuwpC9P3CRBxxzYMdzCGfTKqsgmXr11JO/fuRfOh7zKBtQgP9Tx33arlaQpWCJtMSjQ5iDHtdvwrzh05MVNKrq1cfqdrPHz7E0bu80RtVeCeGX9hnQXDq9dupDNnz6UeXMRaoP9zps9MM4k1sdynbrHhX36fqb8zba2w/44V41gzVB9jfeb85XTk5DnGmZS6MJHWASAnU9q4YV1qYHzzmGToGyRbtvEgkHF49JGRGVvBtHALchxNV3zuwrl06epVCic2kuVqJl4KM8jYiAWOdKr17Pt8Ez4/YYTvYg3UBcmbOJ6MoxaGIa1HCCeKkNt37Und8BT1pFxVfTEEfi9ZOIvPvBhzhc7oRLzGyPvFPX3Rkdfz123rbXE4ZKE4Y+yf4oyx+5+83yNq8UrfJyLVP3mv+Wh7HBJrsbCwAG3fvSd98NHH6fr1G0w+JGGEBosPPbdxY3rj9VeZ3BIuJ+rTM7HuBvFB3l2riYLDZ1u3pd2796Zuqn5qyrfo3NSpU8nc9I3U2bYMszKIDnHRuKzfanWTjy7AXL3/SdtWc9GH/4J54Hdv35M+/eyzSB3prOiFqOpG8SbZrV6inkVegz1CC8EhW2metHcu+/tsQkDGeRSVA6fDJQj8rodJvEnxrr/5679Nx8iMU4+GUE1iDcqDxVQDfvXllykOOZ/8blgxwRWzqo261wRBGpSWCwcwd9ZY3Q2uohbpfAjNYw3+Krv37EvnSe/YhE+0zIj7W1qnpLa2NtmNsW8wwaeWpwFG6DWAVw3Mfxm6HTt2pJ//4t3USwBCLXRe+LYw7i88/3xau251amqAocxE7/4AyPCGlpulI1YP5pvrrbfcvWdvunrlSmok9aZKrYE+CsctWhRB8goet83V++vBs3cVsHV4o1U2rBt1FeXpX/3wr9PZ8+fAuwzdRoT0ZYsXp1defCnNnon70H02BXpTpoZV0DnGf/E7xzI48pnDUom7b//+6J94HXjPnFuxYgVKy8lh7R/u+3325Vm6LNK4FkJD8V1Ic/cDiOIe93Ptk35N4b5UwEAz+T/85Kfpw08+pRbCurRh03NpEpO0v6cv/ejH/5B+8Dd/m6ZihdgMYyhFe1Ymrub7q9evp//yX/8b2RCupBdefBEt+6w0idzoF/FH/e//48/T9T//q/Q//6t/jjAxpQKbivAgcVBjz5dwfhpg5sir9fjxz3+RPmaubN68iUq3C1IzC5tE8Ze//GX60z/7r6l1yuS0ekVHsDCxwLHoBRnm2sBZYfJUQORJpwRl/8eDgLgK5la1PG91MZChw8sxvfvu+xR8/Hl6/Y3X0/r1m0D1wXSdgOY9e3anP/mP/yH9xve/l9auXo017jbdV9V9774Z9DmE79wbhQa3xJ2rPOvDjz/G+ECVaCwd0hoLU65crn90zspz97uXR8eFAAB2jCVPwTzyfezk6fRn0LVmCp++873vQ+8mpR7SaZ49dSr94Ic/pIjf0fRtiqNOJjHH/TZTdYeYybONZWEog9ZeunIN5dVW4loaQ0AcJHi6D620tLcFOpsrhvNU+1y2u0AAgI5pwjgGump/F5aHf/jpL9KvPvgwfes730nLO5cjnPenS1jad+/Ymfb+p/+M2/M/SkusAD2BVvBYIwOkpwduZjHJEBYRKLJ2EcWcrktMPF2NPtnyKTzHZbaw9tNRK83PpGjc5o2bhp/qLfI7DO8qN+4AAay2eQIU33c4r9w9AQg4abN2I1OdM2fPMmG3pJdefjWtXb8RLVYr2vSGNJXA4iXL2mKxeu+jT6KAzbMCfyHjlNt34FC6ACL/2rfeTvMXLkpmQ6hH2zRj1pw0d8GCdIKqoFu2bg/E11+VVWeYIGDXnsBoPDmnoIxJ59B4bt2+A8bpK2nFqtW4ck0NDWxL67S0rL0j3bjZlX72i1+lru4w7IdmNnM94q/wyDCpiFlPzsuXPX2mIRCxAC7uIMGp0+fS+1hq65uaoY/LUvOUKUEXVC688eabaTEpFn/6858z9zEZfK4VXtwY4QTFmD3EOBw+eixXnwVpgt+gDxYUO0fqVpvBj/wJy8i6tWuI5SqxKwBzP3+ChGdBTXLeh2Xns207cBe7mhYz1jNnzgyL0hRSf3d2dqavf/3rWKZ3p4NUCpY+3k9zLXadOXjkRBQL0+1NVyQZx91794XbrC7GfvqxgLRCczuweudRRpwc9Vznz8gcup/+PMvXHDt5Jm1hvFupd7JkcVtqJjVyMylPF8xflL751tuhLHuP9O8V/v9zg8rrgvdict3oupk+3bYz+IshFA31KigYTN3I94H3Kgbk1foY8yFc2toY89lzZme9pGPOpxBEPndHnrEL7l+N84wBaqKvWwgRCgQSoMaGpjQZTbIaY11wnLSes0yiSTXT0+fOpR3kI355w9rQhBTPydePomDFoSf+27dqItDaOhGTICK1Ijj/enBfamTfIszI5xG+Ptu2LS1H475k/rzQxOsGWwQqPfFAqHoB4VHfQDAXPt5TYJoMMasDPjJKBk/Pnj07zcMicfzkybQLd68Xn1tfgZm0bmRRezpnSxWgntLNZ0V5MDJ8I3NWIjkAbfSzFXcWM6QsQVAwBbRpU+UopJ2N+CvXYjWYSl71BpQwLvz30woc2Xdgf/ro40/SKqwZq8gY10HRsEng3nbcWrT61fCMwC66uhCFRgf0OjK70Z+nkQbdDyw/9zUA37muOHf4+MlwIZoxA9/zJcuyUBiwhfaxPrZOmxYaZWO8ZpqXAABAAElEQVTAvkh7/8OPqOdxKK1ds5osO2vS0sULUzPKqt37DkQWHuMTwy2NcV68YFGahT++sxNRg7lXzJYv0oNn79rMyDvWvjvuueD0z7Gu91DpewnuSq5xyOXGKnOUk4BzS8s0+IGRuMnPCzXnlVm06htqESC60l/+5Q8QUCbh9bE+rVy1Mi2Chzh++iyKuov0K1sqXFsb6xvTyhUrETLMthbkxh5VraqftyfP1vnDAkS1xDXugiZW3aGNe/4dzn2adxcwLISI+RQKmkklwmMQy/nz5rHo5cwAKtNbW6emhYsWpisEyr73wcdpZeQXbxmWfL2XJrmntS3GVClhuX71CgHCs+QTYAyYjmgHli5Zko4ePkxxn570q/c/TL/7G9/HV1HrjgSHxp8gPE8JcEStGVilphP7cerkKap3zwlmpUaJiTkzc/r0OGZF1F++9z4pcjvCXzMAUiF3GQcDOk8JVB7v1xDe/nPs7kj/PDiBdsfrJ3Dtk3ZKhlgBGLOmEOCKinkvVWG3U3dh5qy50MX5aSpMRh8MAZIyOICwAPJfINHC5g24e0bTKeHzNc+P8eJ7wfz56WZ3d3oXl4qPPtue5vN73tw5lYrEnClzg6XTvq1bs4bUns1osQnelniX7f4gAOxk1nsR0H7x7nsETQ+l2fMWsjYuANY5L49jJD6cOX06tUAPFy1eErTQAPfP27zP0rb29NGWbemXv3ovXIldhxcuWkwmnuMIgnW40aCkYZwnIzA+v2lDamluZJyNkWB+ufxqoRDT7+P5n7e/T8P5BVaaIlX+RbDtoajshQsX0iwsiW1aFklEcOvmrbAEmTyhBzeiU7itrVu3Ks6fCBzQKYyyTGktzNnZyAKJS1wNgudBLIyHTp5I03CLXLJkKc/pA+dJiMAxi74pQCxYMCdtWLsKYRKEZ27GnGB/Od4TGQUF7bI9UAhIePwYD1EHQ9zR0ZHOnz7DPvJJgyy1TnSONzKJFyNA6IOpxLx3/z4QIA+Hk/dpnsCi6jSyCs1Ey3ScIj6TmkBokLcOYq25ej7mRBmIxSD9kaMn0pnz59kvs1EwHg90yL70m/lWzc4VTKkXz51l7JlDgzArLrcQYitjziETUw4mr007cbOQMHsdU6lsTxAECtyu/n6Cuv9Quuri/eGHn6CFbA0t4NLFS8m9D/dmECTMmxrpawS79uEfr+90bjKUfj5fK9ClFaEcrUTWeoJ7R44fTx99SvICGAy4iIxfnNza0pI2bVwPs8Fz0JSOpcvS+rJNDAI5bqsGt6Qj6fTZ82n2XOoEkXFPVxaJmWOtJtjMOUdYF5airTbuKwjdxB5x21lqoc3sM4mAeMfVuIsPPv403SBYvxaLrzE2phCdP3duWo+gmMdZZrR4bDm+twH1HjtEFVHT5foGgsL7H32Et8VMsi7Vp0UkQRg0MQprXBP8kDLa5UskLKgcu8et73jYmBV5B9M9T8IVTdffJniIpilTwenetIPMS0cpHteAm7Rp5PtRBmjhfP554lInUYGcWJnAbe5RWhjvCObbDpQCxG0g+WI7igUlCwNDadXy5UzY3nQNf/8GzKWNEC3stRDKmjCN61e7FJP9FoJ7uhAkCuvF2IXqi/Xq8bnaJV9kb+T9V6/oTKfRPAiPpgIunKB70zJgcgsLxOw5c9KnaJD6EcjMmPBUNgitb7Zm5YrUhU/wDT766aqebZCwoYHt7GwHHrfQlC5I29DUXrtxMzRzTyU8ypd6SiEgMzaaIVPDfxKr22nSeOqmVwuNnD9nHmmWmPvQxjqEiCa0w8cPHyX19ew0F0bEe4AV9wUjr9L5aSb3asEdSrrSD6fTQNxFA8ymroNmAwomiOc0IbzfIHuM1op6aJTyQkHj76sDz/BFDHXqxo3lPaw+C3FTVcm2kPg3BQZbA/A1jfUt1sGrpPlciWuZ8W9fhKGbO2cmY9qQeigE2E/F7wbcl3STrWNO9bHu5MxPKHDQil8nfW9ei7IAmWfKMzxgn/PVC8wOLGf90iLw2fZt6eJVeB9ci1zL5uG2XQcShesLgpup2k+RcW0+aZpnz0Cov8+Gqm2YsmjVaMHDQwumAqFJGuoZX+NfdEOsR2nbz7Md8wGEiZskTqhnnqmoYEqOJVH32aNn47IIoq7Whj2tjOujGk7hV1ggXGzmzJ5OZoGF6RTmtAaOiUQij8bcWTNnpOm4rjQjfQ8x09//4P2Qgp/2BUpNkyvxurVrgzm+gNZd5G0E8dUGuZwsR/C6dPlSaKj24Jd89ly2QjyqcXykz1ELBjwWLJgfrkyHSDM3Ca1ZIyZgNTRStUULFqZpWGxspnY1ADELm+6RLSpbCYEnDQKkKSYm7Oe/fBd8X5Euk5Gtk2xHpu6sQ9vfgDZal6HBvoF05PARMiF1Qisp66YlwJRNBcdyr9eWEFdOdlMeQTeHSWT9scKsRxUkdGkwnXK/Lizsq+P55xBs/t3/+X+nP/mT/5De+9X79NEMLpIvzwDzFPTLdk8ICC4Zyo8+3kIGvhusezPTzZ7utHDxIjTHCg5SOqzQrAPHTpyg7sdsLNCL86hlUN/zGeOdoBvUZKxICiE1xjtwL2sROH6FYKI3wMEDB9O/+Tf/Nv3J//P/pvfe/yBdI0vg2LTh492/3FcNAXCVtcjhcm26StDyR59+El4Yly9dJtZgeYyvqVVVkPnppfbTmdOn0iZiQC1AO9EG2mYcdED90MRErR6wWGnuvDkIDPaFonIcsT8KD+7Tbc14Q6vJ/4C0sv/b//F/pT//wQ/wdjgayl7Tuxb4HTcu/9wRApEml/GEKN/jA+DHChrF7zve/Sk+4BLDNAtkKV4TCAFHtWNMW7+ZiPruty1vT2dJTyrhSoN1ZPUgCBCNSAtpSxcRoHfyxLG0uGN12r5Xv//ukJidwLo95eUuI0j+WzztcfxWt1f0WSQcQcQCIdU6icg9aAdadWPC/3U/WTIGWaz9ZAGMYxQUMoXrlSuXKCw3N23dtotFXloh5bDSZD/3MSPR4wwV+zYCj6KvvD79Z3yhdvmTz6phEW2HkTpEzIxp73DWJJgzHJmikF5be1u4c80lJ/4nWz4jI1O3XhVB7ABr5Kw3b33ZHg0ExPcQhhnH8ejno+nFE/QUJr7uC5kGZEZjL+4sp86cC//oq+B6++L5gSYGMQ+C5/W4N14mTqqX6wx0dp6L8sI+KHDQmILWVOPayPZgMBIgCrhYa1wDW1o8LeQJxxA022DKxv661AB9VnjxXz+DOgBTc5WKxdsPnUh/+tc/Sv/m3/379POf/TTe4QmC/MPtqmTOT6XFz2L9gklz0FwXuxAWt2zfmpa1LUnnzx0H/s3EdjWAQ/ilMzywlNDDWqzSp1N7ezvpWwmc98beS86Qew3197KuGlxvNRBjY/iOD8cq641rjafbj8koYubPms71vfxyTqDAo5BcHc9pYH55om5Mfc3UKWA9+Xjf7vSf/uIv0//6b/9d+gUB2CzTcXyAeTJA7ZGy3RkClmlThKgFf1jJ04EDh1m/JqfWmYuAd13qXEywPOuaXMIAfBF+S+nEOdy7Ye6XtbXlGzvMzBeZeFvBNziWfjgSH/krW4XbgmdynWTJZB6J37MmN6XmGooDooCwBd/AczzfJdLvQZUTHDsG/fl7lAP/+5/8x/Tv//RP0/EzZ0LgiAv5EzwJ981PLPaW30IgQ7eExQODgJMsmEK+9fnUJ29ZxzLyDfewUJ4hA0QzJ7A8yTBz3KwEN27cwG9vSphXd+DfLm6FxoRJ++S1ETRj3Y4WDINEAVi4K2IZ0AjpvrB27TpStp7CnAwqc9AAJwAYpuwVaBzPUXSmk+89ZKo6T85ozxHpReqM0iPPi4c9tn/sLz0OwgccgqmBkNp94MArB4FavmIFv+vTaYiac0SXjoAaJ7S168Z0M6xWEsYdO3aGFqcajfNT4lHlnxICjx0EFLRCyOVb1yHrnixYuJjCbecj3mA2Vtk6CseZlUlCKA6okV6ydAkuTCRb4F8wGOIR/3NzQ5wqfo/9Hn3APij4tZLpyesivsrMS9JlTs20JTawSBCLBBOqC0QX8RG91Apo0h2C5xfMzdinlb8zBIS6zHlQbGicmZcY3DQDV5Xz58+ike6A2YTWB9CFO7EuWCeu4b7Uvqw9bhLzwC3h7RijZIlhDzrKfh8SbXgyFDviu57ntVJ7KQQFNM9eHJYFT+eTL69soLquwxugByFFi5TZEz3Bc+LZd55go575LP8o4NkNrmxBybVixSq8By5EXaNWXAblfYS/8Se6Cx44fCgsTVPgf8SnyHQmAIF1/K7wDXeGaX6i52e8zeOlO5Su0NV46nMDZznXTGueGWusLotM025cplXumhlypFXuP7Kj3KqCQClAVAHjc21Kc5jw1dOrQuKYlExcJmtIApwxk4AeqxweOnQoUsd5UT2Tu5/FyOqLBnCdOnWSINr29AmpBbVCSB8zjax+wufq4Zdwsn0d6W+4BwgjEFbTdEBLuAz/RlMAU9CFqdMsDS7MInKYs3n/lTDTLuqSb32RPyJPtC2ewn3U/wZBiL2P858CLnzz7i6K9rsQEt3OCy2mV0z309CM6rZlalebvte2VrOS4OZ0HZ9shapPCfrsJpOVDVI4TEBjR/nnS4eA837s50vv1JfdAeiAPu+6sxw9fgIXofNpDSk2jxHg2NHeTnKJeqrS90A/oRks7FamPgiTYZxYE4y810EaUCKoi7QJY+4pXWE7f9x/l8ZpKml0k+ExGb/ES+6dPaOkVNwdhjOqXWPtHOi+lVYsW5L+6T/5g/Tqa68HjSoEmSeDBt0FHg/6EPRMmEjnQlEWoBxIn36yJRKHqDDTHXPZ0mUwcmiJgbuLnco13UgcgwWLiIOhORIhgrCPwed3hcmM8fYMDrDteeM1mUgFT63WzhfX5QEkSLe9r8uL1+otgL2Xce5Lz63fkP7lP/tnafN60mV7Dh9dYMZ/AgfLVoGAEMqKwaMIi9euXU/T4X1OHD8Gjq8Kbwzx12Z63iskRtBFsL2tPQZC10GL/YnZwlzaqQdH0FB/++GAn7HN+RbrKOPoWjqdJAmF25LzyzsyczjHatWOJ2MdAiV7sTC2UJfi17/33fTHv/+7pPKdVlFy8MR4Vjx57CPL30BA/CjbfUDAhcdPdT5y51oQMicoE/8WxGg30f//kSqLx48fTydOnGRBvBlBPAVjod/tc889n06CcNOY9JZ733vgYNx87KLoNH6SWryj2Arqq22MVoHZJXwif/aL99KfYy7uhknYj9+/5+uXaG5u33USJuzlnZ3pAGng1hIv4TnnLhDo5j0CswvGId/68f2bRy7mB38yXHzXTMgUroxr2Epcw7/HjHqSeWJauxsEd9lqwz8YogsozWd+6OCBtIxUt7cQNPcfOJTnobCDcMaPxxcQZc+eaQiwkFcIpxrejz/6JFnESfyXvVu5cnngRj1xDrUwfmopz144ly5gnXj3vV+l/0pu9wMEU2sVUBOd6aMAFb+qPxnImR7n7fH+BpMBne6HgRBvBsQhThyCQ5HlsE+DvbiUIkC88fKL6X/6l3+cVne2gbcwKXye5jTb48Frovukb8G8haJEGlefThAof+zYcdJpLoGe70urVq2KINY8ajKKdamXzHMHDh1IF7A0/wlr5oefbknXu27g2gqDD42MJQQBQKEkrybFmDt8I9v2MwRAmEr94WdOU4BQMYV1m9+Orm5tbofAKEfKGNfxefvrX0t//Ad/kJaS1te6Ajw55pnfccFEgfBMnpdhZFa1Tymgu5QYltOnTkTCmLlz5gZTruAg3phR8CR1jcT9n/7kZ+mHP/ybdBZlwlCMNd4Z3KpPPMsDPQzNOwkQefyda2At14jbFic025K4rdThP5+t+7M9bUJB19dHHA7xEv/8D38vfeMrr0aNGR+erVQ+PL8Te5wJw/0oNzIE6v71v/7X/8tEgFEM0ETOffbOkcjkjwvQ5StXI1PO3/7DT2AKt6WZ+Po/t2lzMIWNaNkXk9u6yJMsYZtKkJemvHom9/TprekoKezW49pjNgHb8LQVM4JQxu7H7o8agDxPstAQQUv0HpoQEn8v2vKT+Ld+8MEH6e/+4Ue46ZxJ7W3taNOXh3AgwYlCarGAo8kAHpPJv/4RjMbm555L5wi29hltSwmuEyjCg/b4zk07yVI2ZtzUfjiM9v4clhctCT/58U9INbc7isZt2LgpgjUnE+RpYPUADJMwVG1q4KdCqcWQLLZ0ihTBq8neJMHLT+OJcTLnl+2RQWC8OTjevkfWocfxQUzQQbSMKgjOU+35Zz/7RXr51dfSzp27yMazMK1Y3gHT1hfMJB7toYT54P33w9VoDSk2j5GI4sMPP2LOn4zsOaZ6bsQqUbRMDfxVYEJxJC/97s0t/76BpWMnuKQVr3AVFC+zfzXCA9nzjMV666tvpu999y0CuHmWuFxFdwqaV441kK0A2HHIJE9mjl/s/xH0zZSajQiHp6nx8JXXseKoXIJDdD7UEzh/lPHdf/Bg+uo3vpZcK7Zu28747I4Co02k2pwMzatFeFBwVAi4XYCsDG/Vl+Ny/XoX2YB2IYhkl9E6BBp9RhUy/CeTOQ+r71tf+3p6i2c30UctI/rxe31NnMtLSGOdIGUbAwFhUhkTtg4eORqZtl79ymvpE1wUV69cldpxQTR42blh5itrqvzqvffCCmXClAP7D6Tt8EqncG1znWvFfawJYaOAt08ocC0W/3GGIeYa5znfVMxuB7dPX7qKtUN3cWIzOOS3adJjm5iW9etWp9/87rfTms6OPDmcro6xPEh8u+1Nh7/yj/JvQGDcsPdi0EoY3RkCuueo8c2mTaotInWfQ1P2yZatMHi7CR5qSJ2dK9Irr7ycpuFr63kXLl9M+w7sSxs3bwr/P32BFRqEt+46e/bsSd/51rfSX/7Fn0NID6V1q1cEIgRrqHYZ9HOhe1xbXjQyw5wXjiw86JJwCBeFDymYpxAwFX/H559/PlL5WWHWwkI7dmwPN4a5L7yANv5WFJUTvrMoMqcJ+iim7TXr1qfP0Gy88PzGNAU/RU3k9aqYHuPmO4QfL4TJbTN+mELOGIe8QO6KNJUKT69+5Q0EBCpzM3cuoYXznbU42BSm9L9ugWnqbG9Pu/fuSW+/9Vb6u7/7W2B7PK3saINAcyKD8HhDJF7nqfhTLFjib0kz7z2k0gcZCL93IDTMwH3TBV1r22uvvgoMZUPAE84yS8p1XCAsKPbVr341kk10LGtDsL6UDhzcn/7qhz9I06leu37dOrK5rcYVcmbMe6vdiisqX9Rejjcu9sHW1NhEjZVJ6fpNXUZlLKRd5mwhUw+a0SUUu/z+O99KG9asjLi2ulrYTe8JE2srGJrxnhEnPKN/hJ+wF86ue0egTwfJovVr73wvvf/eu1FMbCoMYh+xBma6UtHkeO/cvZuEGbPDXU2BctPGDdSMOBS+9O+jdOrs7EwvbN5MLYEFZOxpiAxezhlToev6YnEwdScFXmbw18Q46w7aA/10/RzE0qHwwGWpB4+A5cs702+//WtpZXt7zEFuFRnw7D+YzZneNN+t/DsWAgjaDLaCnbjhOHyAkD+PIroKgQpqa8AfDwpCP+L4Zda3S5cupldefCmUZktRqp6HN9h5cA9eCX9O8dQZ6UWUhis7OkNR5pzqJ6Ld8XVOjdcCD30A54jbM6UvA8fi2Z4fGYPowSDCi/GXr7/+avoGAuNsFLjWqvQZcY+84SV5Z94q/44DgceXGx2ns4/TLhFFwtLX2w8zty999tnW0Khbt+D5l19KcymSMwmfTpeaARBpEKm7A2TYvZeUpAQGSyBdPM02IEKsQoDYgQtLD8HW7RDKT/AXXd7ZEcQxBJXQymch4nGe1foVSkhcwK2y/Slw2bV7T7pJnENbezvMwNcgDq0RmIj8FNlVmilh39HeEQLUpk0bYbIbA8nra9BMEdS2mX0/f/fd9Ou/+VssAr1RtfYFStQXJeldRB7fphClsImmC0FpD25Yn5DK8MzZs2kGObFfePHltGj+XIrpNYWbl5YpVrnUDqz+HuFAbd2SxcwVNGL1wFQ9z2oIsvNIgWI2Garee/8jgg6XMtc8Kvwr2pPHFyhlz55JCJABBzp44dKVoG/feOvttBfaaSzC7FkzwHmZd2oycA5SdNrHHG+lKNQ8io0NgjtqimfOmJlefunltGbtGlz9zmDp3Z3eg2FZhlXypRdfCNe+wr9ZDXdoHEcxHBAL8ENKOg06NIOg7dNUuK5VOCBTjwG91u0xreT33/l2WjxvdggPBWNaLSxUbz+Tw1m8NGtTbpkQS/8LuAs3lWqzcWHRWmTV4RWsgwp5QwOZEZTZ0xJ7+vyZ9OYbbwb90gJQjyJlHQKiKX5VPB06fDj96X/5bwRhz0ibKe63fh2pP6GbJqIorBG5J1VKFAZ6xoxpMdY3UPBBQhl/hEXck/p7e9Kbr7yYvvvtt9M8lHz2WxbX9cSxzW+T7z1aKMlvW/7NvLmwcn3TpnOGmIZjuOB+57vfSduwKKzEqjiLgGbjDOrJdKZ7oIDdt29fCA7GwpiZSfjOgXd6c/6cKKx79NDh9O6776ef/OTnae3q1emlF16kBszsGB+F07EiRIGL8kqOnGM4k+eqXwS1+WZtRHDsxyVxJjEO32HMX6CInGOsgq/BDT+26u28Z/hQ5Wf5VYFAKUDc51QYgADdgNn/0Y9+jB/6/jQfifuNN99McwiINpOQi2Evk7WxFjMcDKETegZStX55h6yySVCgtR9cGK0PMR0C1tG+LG3fviOt37Ah/egf/o7A4ktpIQglQng/GdGRWX6fHX+Il2UijkAEldYc/Td/8/cUYLpFloUlITxNZ7FmZSHrninxPA9fSBgFmWaFq4PAUY1je9vS8IF0ldelYSnmz/5fDJLN4Wz4zu7YuRPN/KrQ3BeE4yG+1n3f2gUJehYuRbe6u9Jf//XfEt9yIFzY3kSrOhPGSZ/QIQTMPrU1mvJlnhhvCevkSuC91gnnQCNUrr+vJ9yaFpD+dztZmNYQG/J3f/PXzJWL1ByhSA9T5HGGyX0Ds7zwqYHAzt27IonE9GnTI2j2K6+/BnNJ9hsqxloDog+8McHEoYMH00qUKZMp8tYDs9cIbgQjB1JNxgK5YtXK1NbWnk7hS30Awfw//9l/SV9/84306isvBWcTgjR4M16TCTE5wZQpk4P5aYBmqZm09spzz72Y3oHBmI61b4C6EMof3ksrhYxv2cZCAGBGy7B2mRJewu3y9evEP5xMr7z2GvT9APEI02M9kKmrD1ckLuSCkyQRkd7NQdAYQniwBoj3MDZM98wli5dSeHVhukgdjgMHDqaf/PTnaS8W+19/553I6hT67cpQZ/rHA4IAG7BrAVdZTgRUHtzHPGvBTemtt7+NK9UrJO+AsZVQD7fx58zw4XJjGALCWqZdfNJ19jP4l3m43ZrBSrx8CU8DcasP61CRfbHrVld4GzyHhUHYG4NUiHwqVFu4duOGjakTnuAsirY9WKZMKvL1r30N3Nx0B4zOXbI/8iGOoMrcBvqkzDKAUsB5ubytLX3nO2+nVZ0dMb+yNYK5wTVFy+7Rxf3yd9ASb1C2URAYgdqo3eWPe0FAk+iPf/ZLMomcTN/85rfSV7/+zTSHwCvmalgcZJRdDDWvWlE1tNBwxGvQqJw6c5oMBddC06a2TTOuGnsLrRw+fIjFtAkT4IKIn5AIcqsgokEQ4wn36t2Xd1xrigWhDIoyq8Z3IfAvYqacioDUi3uB0r7mTs+ToIiSwmYmLgiLFi/KwdRgsIREM6MMtnERunh9SlGadevXEIx+msXoUNYmfXmvOqEnS1QVln72i19GutrvYcZXeJgzbx7vntPJuUA2oJ0bZk6Ah++9ktiGw4epDYL1JlzdmAtheuf4ZtzgjuIWZharBQsX4U/6QVgooIQT6ld5UgmBRw0B19+b3T2kbt2SNsAgnDhxgviGqaR6XJ5pHDRBOijDp1tT981bxDthWYNeyGzqkx4LlngAoZXlM73qsvb29K1vfzu9ihvUu7/6VVg8FcRV0Awrx4dflmvpiDRHgWQeCh8tgz0UNWsld/zv/vavp9//nd9MU6BdFrW0MrL9tqkIGk4GkXeVf6shUGHY3SV9F2xaiJqJfZgH868lesXKlcQyNDPeWvBpAFcFkko1Le9TprbEWDvOChFNaK21Cg0gUOrXrmvLKy+9kt555/sR2/D3P/5pzClvFfdzIxq/QttNBr9JjXgEYEmC0b3RdZ3Mh9PTH/zeb6fvfPOraTJ0thbNdL4638HxlmGsblkoqUyE6gPldsDKMbp48TJjvDfiFY8ePZJUEMyfTzYt/INC+EZgb0IZcGA/2SgRElWiBg/gOs8x178GFIrOHOE/icrwuq2J2/JNf/XXPyS+4pgMw7hQz2OUrV+eMHVySygasmUzkVVrXfoXf/RP09rOjohzMoVwI/dyTSUNV1hHzNClMCRtcQYUsyDoSPHDm5ctIFAKEPc5Ea6TM/ggGUFexAVlLsygxM36D/VOSD4uPPrcZYk4m+5FEOs+9OBfqznWzBKa2WPic/2iRVQbxry2F//21Zjod+4kCIgcyi52IqBmQmb6ffb4UVyWMewIi8Et3vHlV18OopBzLufUbTUwCH5kFDRpG1BlU4O0ehUZhoCLWiaJR4X+xxtvJKVeD1mHumAqDLr6kHS3ZnuQ2AOcuEfcZXi7sutL/Iq+8fzrN66n/ZhsZXA0v/exGCogKRQ4J2rQjmUNB4WzgIdzQph1dpKVhuvVtDXqDqeFgk8vTJhzRQ3LAbR6L774fGjlTpLpROtPbsKk+FR2lV8lBB4ZBMToAi99aN7evW9/KBBWgMPbtm1Na3BPmDKlBRqXaaGLvZ/du3aFr7zxT1ojxAnpYD1MpXjgJ5Z+aK6LvUGZMqezcXPYiWVuEAux5xc4OPa11TIGkwq++d3R1pb+2T/5w/QKWlFdoKTjWiiGGUnO1221bBODgLC/Rha5LVu24Ya0NjIwqRCSIVRgkLarNJHenTxxAp/4iyhMjDXRyqMQCWPv+PE4x0GBJJhLBm4A2jiVlNavEoitEuXKtaucJdvp2WMb8RVcqzuxmZbWrVqZ/jnj/PyG9bkfzB4ZSVtULuYWIdrw7IJ6xneevmNv/sz/zsuteFYTrtwKCDOoMm7w+/O4CEVAuvjLmMoX6VEgf9PR0RkJQbiMY4yvH4475qZOLvA9XOHYtxo6sXTZskjpDMqPO9IxGJxb4Ox0AuMVVpu4329+/530e7/z6xF/qULPeRb8WdxJGpKpVYw1fSq+vWe+X+x55sd7LAAYrzz41d9jTyp/jwMBMKceqbWR1acOaboJR8zJmOmaUn1qwm3JgiQ1ak8QJPRdBz04UpemTmpFAzIv7d29j4USwsX1QzX4vZMRYFJzYxBbmcJWNC21EFgXXFObgV249TwZkzgymrjg8/6i+nAuZwh1PfNN/+YhYOWc83cj1hyWarREc6n3MCnyw9fIIOAtAL8AiAbSAjRIS2Ga98BYrCFo8gzpHY9h3rSpKVTLwUZotmLnY/BHwhNDB3PEFkPIewMPXdzqeTkZl0bg5NtbO8QF0IVSGaCOuTUZ94p2AvyMd+jmHYVZWCsgiOY3X7MKt69D+9LUaS2ppbUlffzZtnhrhU0JpPDwW8E2KGIFJk/GLHoMBvAeXXCsQtPqnH7Gm3OqaM4/555Vpw1KNm2i+7phJD7Ysj2tWL02Cmt2wfit7uhIDTCUqhHUYtbUN6WrFBI7ffJ4WrV6ZaqBNgxBQ4dgIgeY98aSDUkbwIVG8GUSvxvBLxkP8c1MOzXskyX0Y78ya+kYiXH+4lnSb74XzmxNX9m0Kv2r3/vNtKadmDP2xYexteWMaXmN1Jrsp2xjIFAZ/ExXskAnqPcTON1FQoxFS5aFZnpdx/I0Hdcz6VFUGmfcdNvci2Vi1tQZae6U1tSE4OeaIKWMqsIVcMcaKjHlf4MH2BgiRq62ztogzgfGmjH1SG5cGLUfMg3uXLIofe2F59O/+N3fSSsWL4Ti8mjxl+d7D91eqv/lJ8Tj4p7e30/ZRkMgj3ltutHdHVkE1yGYHQd3u3Fd7uxsR1AEt+FbxOHa5oZ0hixLN25cS2tWrlIiZxzAR24STDpjoKdZtjSK0xx1bIcYLVKr1nGeHEV4ozEY4/Gs0gEFElsT82T5wpnpd7//Vvq1N15JU5vhzrw/4x6KO+7PA2LtzRyaf7mea+lufMc8cODF+3ICBFyr/wCVst0PBKaQVm4hfujHSFkWk9ZJKQnyG643/PDYzr+Z7GznCZ/w79tAJc4L+H2eCh/A2M9ImLVgHT7tYpS1AF4gKPDTLZ+ide+OyWthJTbup7uP5BrfQ0KwjIBety0OJbMssvpR22TLMMnwCAaMfWonTFu6lnSNe9HWh9sOfqpBWHhnNVLr169NB/F1bmmdQqEhXLzwtwyrDLD128xY3u9xacLA1kLWqcVYng4dOhTvKSEqLA2eETCAeAoj51LARyII07UKQmsxLfOoC8vIdgE8vLVxIDfJk36WdLjrcQkxz/oN5orH8jLuecA5elH+KSHwaCGQmXqFejTOzMPjuB6ePX8prUYjbdKJ9rb2NAt3EhA3Pn41EDi7c9dOcKaFWJ8F4fZoxdqw1lY00VoftFzq/imuSCO0zHXDxJi5afmK5fClmQ5k+nH7e9s3Ez5YZ+b3/9E/qgRo5vMCX8YgDZgU/26/U7knYMwYSHfyGpCrjH+Cy+nqNatJpnGV9e5ceg63S2P+9BHJGuc6MvFcxopwPNY9hbNMC6Vb0EE0KUELWU/jGdzfWBn3KdgdPHQQK+ysiB907jimYxu7Q6m0nnX1d3/rt5IViotW0OfoeEklC7B8vm8ArLVuO65qJkrpaO+M4OnlKAYMcLeJ02bZMvvVrh3bI4FMdm1iznBtHs/MD2ilKiwReS5geYIPuEW2rHMoDBfhrnv7KI/ucnHcwqu/97u/hcvbi7GWOoc8NjJN4pd7Kp+RreIeo+9c/hoLgceH2xrbs8f8t8RuIz51x08cg2m7QVpWpVk6DQKIFBInNWoyfC5+gRTsVxO3kDR0CxfOT7tYKGNSc47MoT67Zh0xrdyePbsrjHht2oMG2gU4VGqPMVx0PVDjrelwBTELWlJkim15IYAYuOgLl/gAF94rXHn49vrlnctTF4F3+kBL/P0Iyz6CoKIaLURJ4Wr9OlP8HUyXWZxktGN5B862WGxi68v+YzVWNDAshBvQzBhM2IVZvwFmxz5mAgksgFEID/Q/4mH4jsWNl9dHe8H8BenI4cOxj7Oz8ME1rVT51H1uBy4bFmgSBocJXnciavEQdkESgV/ZSgg8WghI65x34DjWWJl1kx9EQgQsEUePHU0bN20A/7U9ZpxtIGasl2DpvXv2hZtiM+4QNmlE8REvqumH9KZwhzyDIC2zYXG6eDL0NrMEcZtRf+yP99JV0uBdXSXKdn8QcL0DmHGxY6n2VmXGedxvTbO7A1e1xSh8dC9TKCgUSSqFDh48EO5F7e3tmW5X6OIwbeTejq/0Uc1x+MzzLOfJCRRUq1dbkI6kJVpZxzbOk846to6zLlN9ZPwp24ODgDhkGvadO3ZE4bgeLE4K8WvWrWFKuB4zGVyXGYebrH2HsUpZFDbGl2M5/hP+h/H1I5/kZcX4e39Tn5vSXFfHJViSJtqcMwZzF7j9+PAFE32Dx/88R7hs9wEB6VVHR1tqIejrCD7/ErlatF7xHURP5MgMoVVTgwgGYzgUCPE8vrbHQIoLFy9izs0aFgOJdMd5Hk2NPqHGEayFAH9IIbW+PjQ3mtwe4wauxwIhohrk29XVRaDb9Yh1CEGC/QpVmUmuwMTFIeAiY1ALwzwHhnl+5P6W8fA6CYBajClYKMwNvn379sh6JXHaRXYG3X/ULXiez5bojLRgT0Z+PuIt11atI+0wNQaVm77Ogkj1aFVDcJBgIgAVZtVizujr7UIrITX+Q+vF1SvXEFTNf65rCO/J+764eXM6Q3E+4yr0AX+flJY9WLIUXIN4C4riM/zuXy5MhrtRbjylEGDCKTxUGAjn9DksrloWXyJeRzdEcWDJosWcoyDNuXwamuqjErE+0BugewPMc5mHcCvgeHYvUITOH4Enfognzn/r6KxetQoFxrRsmeT5Tv3xmjTCjzSjYDDGO6/cNzEI6Jbkmii8FcV+9X6u22BK7tMnT6RXXiC2xPkQA4LFCIWbGutdzIUN0HSzYclwFjTPcc2fvOa5Pz4oXxQGTmORZZLhCrM8OqjmWiaV/zQfkj/eQ1pZrA0KLWV7cBBwqT124gQWpvOkW9+cdu3cQSrlxZH8wCGxOSQqDg9hMdKLQmWXykKTJYRgqFAZHwUIBUW+dXmCDqhUuIVl0XVzEwoHrfmO50Sa5/nxGeK6c6FsDxYCJUTvE57iRiMIYN0CmbtuUroWbkpB+CCG2QKRtWdOYImc+4bwCTZV6VSEjy1bPiNNoRUXpX9ZWz2HwMEVy9vTju3kUSYTTzfpYPfsPxBIUN3diSJS9TUPdZt3MKWb+L1g3lzMmW2xqOfFGs2UiAwMaiAOfoRTHGNfIzCQaKix37hpUzpDytYLBFPXoVH0uohz4Ji5v69jdTBF3Pr1GzGd7opgPRcvyYoBUqObe/18Oa3QjEksn3tucwibBlXHQsmgNzYRJ4Pg6NzQFBwmXOHDdmG1WopLmNVx9+0jABVYKIxqyXKpFsYS7K3Mo5UrV4XW7/ipM8BRJyZT7EFER716AY/Re0edUv4oIfCFIcD8YnUZDCtESu+R9GAaNRym4pq0F6FfummVeRn/rHghwxF08TO01SuJfWjFiikPKN54PNxZ/C62K/RD1yXpyEUULmfOniFn/NpgHUUPXafGzv7itaQ7WiFsBR0qjpXf9wEBFzCaVOUCWfjOUtfBWh17SNk7Z/ZMUrcu4ljFnY3xMu7tKJl6pI8G0kdDmMx0rxAeKusD93aMvLe00jmj5WId1odWGMosuFSPtH3JH+TDWD+8v2NeCotC4ou1gjH3Lq63n7L2dHR2BpyNZ3kO3M5VpBk/lHssapGG2eQGKkebiUVwpmhJLHgixyasD3yHnMl4O+YqVa1A7+BLM4ynmugYBm/h/fjYZ7/L9mAhUAoQXwCe6kYkYjJpx8hj3SBigCxmGYpsIWpUYgGU6VO6rggVRAM1whiviewUx6iEeiuYwiCSEFEXzRUg5GEkdpnqRVRp1N9/QGZwnM8XeIUHeyl9E9HVRpn7uaO9IzPMWCFkmF0cIiaiomXIWvfKYgGsZI5tSykKNRdLxC40inIhuocNDmXT84zWVrKztKVtW7eFu9P1GzfSYdwhZKrVYMloxEoTf2Syv9wWxItVTNK1hpgFNWC6WmTiiDZMWDlPILTuiznC2dmc67uQzg7LhWlsd6Ctu0VwWgPwCFoIrNXWboSwHjlyOLKKzMdH9NPPtoQCGFEuZwdzXKIJDwgpf0tSmiFS/n3AEGA+Q8LyLONbpuAa9O3AwcMERa9Op3A/lCkQF0KZwETklJjT59BiapFdvlytMswFwoETvcCL4jtbeUeYS2nLfmKjlkAn55NswZaFb/AJ3BqviZcFTXa7ZC7Gg9LE9knvdSVTGOB/2k6V8Wm4V84g3mAXbmurVixPLWbVq4yptMssc7q4dna2E9M2leuyFTboXyhJ8pppBqZQtrh2+oG+X2SOXEG5tAm3UEdXC24wiJXuul204XlQoa3lOBeQub9vYSsDH65gwP08gvtB4kBXYvk7eeI4a1UT7moLSY0rHeDDeFlAzrpQ10iasIrzHBMXIHmkAqf9dmzkd6QLIVi4pjPA+/fvhXasiAxKrofOn4m2Arervyd6bXnevSEwPnW993XlGTKo/Nffv2M5DO32reQIR5vG5BcJJHT1aMvUgbEz7wfatbUQSvapQV5NSrnGpqZYXEWyCJIVQfh0tC0J5nDf3v0RT3CcmIDT5FkuCGAQzM+DSY9gxCTbFtizjy4kK5d3xFOP4uJltdHQFrLHrAx+AFFo3dW8OxEtIOT2ZLTyz+Ga89m27ZGiz3fVBOpCoebqJdLDnYMJV4O4tL0tvffRR6lXy4OEhU9Uu2QzN3tVfIp9j+47D1F0iiJK08Jn15iFCCzlXV14Q8ikwBE/nSr5A3wsguN8cq6ofenqusmiexg4NiB0QHydR2hkVnR2hGZ3OwFqL730EgT3EIHV57K1i1dVazPSClj4XbYSAg8YAhWaJCoyk2NO78FypiWxbVl72vbZZ2icSbdKFWiLhNU3Qg05mSQr0NCdaKoXp8XEiJlysy7oxAiNkDaElY5zIbHgBppsaIWBuEdgYr7y+qs8D3zx0Rzn/11bQUvvelJ58J4QiPGDRku4ruLnvm37LoKn1+JmdCasBauxokeqVGl+rI1ULKYW0pmzp3HRXRPrgPRfxUimf1mRMsJcjjCaVqfeunVrmksRzoXz57LOGO1Fw3oPMWXMR+hangejZ0E55vccznueIAwV7OTudxGvNHkydT4opGuM04uszVNxNXYNdvwKgWPr1s8iRmJmJWlCE+u51d+r17ywwiM8isNheeSggmI3acuNIbTVIHTcTyvH/X6gdu9rAvfufVp5xlgIIBujRVHHm7Mq3aS64nF8PRtJxepOGb8IDAKJRghhlroVLnTJsSiOuY234zdopdUcEKi7DtUYCRjajG+oGpwZmP5nzZpLYTmDrjXNk8OY+4oUIujj0sIkqYsB726/puCi8NJLL4Sfaz9B0IXGr4BH9veXyahBwDCrikyxDC+Vqds7wlytS0MIViw83revtw9N48LU3obQhoCxceNz6QIMxInT+sSi2VKQCJD4J380nX8ZLUytLnAVePCVNhB4f/XqldCiCQ8FyIAHc8J5kbVsaN1cSb3WjrMwzqHQnulrdXkbKlwvuJ/XTkbrs3HjJqr6HqeOyIw0HRe4jzjPaxFHK0R3BB7MIPYHkL4MsJTPfAohMGo+gc9Mu5hhN6nd8glzcc3a9ek6MVGXLp4nC906GAz10dBDcMBrxYmDh/andRwzEFqcKejDHb/BFwNj9aOfT9zU4iVLU99TCNvH/ZXgFRlB6DMDum/fAbLGdYef+zZccNegJJtJbSPjWaRvOSNXDXRsS7jwLl6Ea5NrmDehFWvD6G9pf64bZAHWk8R8vfLyy7FuSBvz0/kb23Gb+FNSuBFYPIitatch3bW7sP7rlqQF/PDhwxTp64oK0vIv4rbwt1ij1aRP4nL8AsJF8AjgfnyD+8NrHvdzO8adb2+gcmAb8Y4mnVlAQbp+7ut+yUvZHg8IBH/yeHTlyeqFi54acc22phtUEHCy12py1W0JhOAg3zDFIEo2y4Egqs64xoVTbcwaXKBOnDiF7/rZMNWaicnF07YJLXwfWvlTMMdrcXfajUtP182uuLfILKMdz3lsQAdTQNftl8KNHsZmXOhj8ThK9gWJif2VcR4rTLiGhKnaY8CseVJTuDzs2buPKrEEBYcrAjDnvgZWricV7sEDB0mD2xTw37lzdwhWErZMuvLCkkHz5SwlofUIame/c69mz6ZyNPPlIOZ7tSzCQUEhXN4qcBkWInDhyEJoZrLWEVh66fIltHdngaWamsrA83or0PJZxOcELiKmTjyMf/F1gvC9l/3QRSD3YPTfyh3KrxICXxACY3AMtbR8wMnTZ9I5svFYFHE3sQ8LYRh1T5RuSifjm3m/h+JSirXtbW3Rj2AkKnPX+VtNNwr6YYBlDwGWR48fjWw/4lPZHj0EZNylU/1kONqKUqezs5Nc/12RqnzTRv3W++D7nB+MOWvA1StXomCoAe9eZ4vCgIyzLp45a2FmJtU4F+PfiBX70KHDaSauUW3LCMCnhRgK/SziD2Nn+eehQUBhz/Fw6TGwWcXnMnB2B1mYlnd04ro2JdYzFawKBJ5oderFuBcuQcDXdc1rizEt1rqCH4g5wpwQ369cuRyJZtavWx0u0dbNGoAfKtvjAwG5rbLdBwREAhFE/0+l6c0w++fOnUezfCkzwiCAgoOIwGG+8yLothkovNZy7otJ5zp/wbz0CT79QzDJ+vBLbNXUzMDMv466CJ99+lkgqYut/qUiX2htoMmel1nCTKDz9n280AO4JIgLvfcd3PYzk3cwSG4rLl76HbggBEwq8AjGQHNopQkfm/s3b1wf73fk6OGAcSGMAQbiH9qjyqWZrNav2wgDsh/m+gpuP5lhDsqVSRV3q9w07vzo/mQy6/OyxsV+Kz++9OIL4f97hYXUUTMzRfiDAxO/fXe7rLAZwqTmYP4tIKWrGSx27d7NdZmQq4EzkG3OjFZgAiFHiG1vb+e6urT/0JEQMvK45H7EjfU58FO2EgIPAALORYVgm3MtGtOrn0JRW3FnaWM+MluZ8/vT66+Sk51tpnmFLtZGAootn25Jz1HLpIV4HzWY4kD+ZHwofkdqSIiEtFVLxWHcIyeR0WnFig7uyj15fsGsBi2saLZzp8q/DwUCrFuuSXtR6FyGBm9G0/zRxx+xZi0LdzRHJNY1xlQ3FS1GKn7WrFodLkiZ5kH7KiTJ9dTxDkGCbZlLBYvr16+m3btxkyGTVxOWJwUXr/H6oHFxg8pNnAsP5WWfpZuKyyMfRoX1OLsoq9j8BHfEdhQDZlq8gmJLb4PcHA8VVimdv3AJniVXpdYNOeL32J/j+PI4u8YV65547XxRWNxH+npjRZ1H3i0rXTleITHev2xfLgRKAeK+4S8iaQGA0WNCL563MC1ZsDgd3HcI5KCyJUhRSyXE+jpSkBL3EH7+ElD81+usngmSyDb7eYMKmXth9k6BbFadDv9B9PeEDpOmc1Pq7rqVzp85TwASBZh27E09MIyDEliFjaCSChF+smtKLOj8etRNAiNjGu9Gx1wI7J7++5ev30jncDWqw8WrBriYhcmXNzOtMGzAF9qYEQUrLTP6zC7CFWfDylVpy8efwoz4Nl6Qp+wUsjY9v3F12o2L19y584FzQ9q3/2A8LzMxnicxkuComfwSlpN4/6xBc5xyz1NqJ6vSlClTklaT+sbmSOMrTEJg4N0DJsKg8gntDK/e2ER6yw1rcVU6nC5CsEcYLIXYlNavWp4unj+F9q8ntbWtSNtxeevtxZfcuWIHCnjEd6mtBSBlewAQEMsDu1jZ8z8oETvOEOx68NiRSNOp0NsyuSl1LFlAgCXsADRThYnMwn7w1qq0z5GuuAZtdY6P0koLjWRiZ+0kz1DBokYay5zVpm9RmGrb3p1UtqbCMdl4FB5gcfio5bRyu59SY/kAhviutxiEYMngbcOdZRHZlpqIUzhHfMMLKNVcB4P+MG5OksvXbqRtKMFeeO75NIPg6TrWi0aYxohtgfbrF19PkpFM+1A2hXIFSywCxBGURQN93WlVx9Loj/Mhf1RKeX8/zpOYjTEn89Zdu18eHBcCYnLmKcJNLLh2sLWy/h4/TZZErEzGuuzatg2L0LK0kMyLxqQ45hGbwvdWFKO6GXZwHHSOdaqomRXrfIUXcLyDL6hvZsxzdrY9Ch7wDlNw0XXtzErYyliP2+dy56OGQMHTPOrnPgXPAxtEFt5EK0ALLjdWUT6Ilq371k0QhSBqUwy66MVHQpq172Ha4zoZQCX6zs6ONG1qK+bfrSCK95X5xiQM1zwb3/e2tqXp008+IbXrcjIZXEsnjp+M5xZS/mMJTF5D2MAXpDm4LCxauJCAq13xzlm7lAm9xL74hOap8rvY1sXr1MnTYdlxXZCOxYd7b8Ct6+qVq/hYno9A871kYrl5i3S6QeR8etGqt4t9j/47+s9K20y8h0Fhu2Gq+vt7g+AWMCi+s8YuwyY0NEDTt+hsXxYuYrp8KJJ4vk04zyOocMGC+VEJdNWqFen48eOkwz0f13muLZ/9eMAjOlT+eSogkDPxwPhB0woFxl40iGodp8+YES5Kz1H7xnou0i3zwDsLe6lv8+knW9O6desja8//z957sOlxXAe6NTkgZxI5g8gAcxQlK1mJsixZXnnX9/F97v0h99/cu2tL1upKK1mBpExKzBkEQEQiECACkTGYhMG+76mumQ+RiMSA0wX0dH8dqqtPrlOnThXvc3QUKlmQeSKPSJQRTGXqQRIpmCzADGWQP7zwpQDlPfcR2IDp1OmzhNoeBI+r0xbnpMyYmRbMnxPppPMIKDqNL3NR1F7mSKxGdivHIRc2nSVFNxaHC/KO845C6K3u7yN1KyMcS5cuYQFNUvwGxhtBVSO/ERq373gErvKh/G02yM2ka3XitOnXP969i/SsG6KjeF5PH9cdVXcdK1OPryGk1nl6mUetI9tCgd9GHq8a3YmTcTvPGaHhQoR1Gb0QqDsQt4AbQ1KCvVBmGnArVy7H49ufPiKcxqE3PSLZe4yhh4DU665AjN65Q3U87G9jgVWuHxHv39PbF5Uas16MybVMLDx06ABKdzBCWN54++0Go9AWjGzl6BY+6+YfVYPHNlKF7TGl6wYWgdlOxobjhHjF0vZ0prJnMRsGGgTle31aYSOcZrHS8kKGMN/im/VyCTMV0nk6XqYKXI6h/Mabr7NfTjaWY2kXIQ2NxfeXCXqN5+/WseEVrtFgaFoHNKKgNGe2XjqFc9lapB02YWIJfxDf3cXEMldfdeXPXlK6GtYm/mOiOLc+/tijTGjbFbGp9zH57G0mKwbcopb8p8mwjjq0owEi9eGtQqDw7hCC0K5uH+vimORg/QYmWJKOugsZt37NynCYSK8wf4iK3bt3pyOMVKxeswq+0ONp+AN/ofvCC+4j6wtUzmHwgqMT70LbdpjvZ4VjkyfYKVGORP3RCluS+edWv69+/toQ0KCcMH4Cxv0E0k1/kFaT8KETz3NgC1ltcW7ch4wYaxS6cFxOSy62+Ae+1QdFJ+hsKzKxjR7Kvv17CRE+nB5+yBC4HCIbldZ/7hAEGnhHngI/ahrZ6egxEx7sDDxu3bwlFm40e9og+PU+sa0jYMcOozHaYlHZrIOihsqhOqLrCp+Le52ug8yZfBOH6YOEwk2aZIrf/Nwd+tC62luAQN2BuGngwUlos/Ma+rIWP7sRmEsWuQDcpuhIxPCqRiGM4XUZISazcmxRoBZjeNGihQhc4v62u2Aci+XQk4/7YUSV5ByMQfMhL2EUwqHcI6R0dXjfbCZRuS+IUn5XP+/mTr7PoEnzGYFoQRA58arROIhRGc4Xr6XwcLM4AqNwWctEvI+2b0uHWZyITw6Ya6iYi9q0cadOniI7U3+azeTkt4mltjNnqXajxlYOzChg+T4VrXnxzVRip1MaCQUainOk4xDfId2ghJ3rMMBHrSVWvPdcf3h3okPKNT3AenMXzJ+fZmJQbUWhu9q58D5ylNXOK3gIk1ANBTi+oC41BG4JAoY2KIuohE2RtGP3HlZMZ47XnLl0dulIMOLmeiaSnYaG92hXvvXWO5E33sUzs6GQ+b/IgSwrcp3SrfzfwZypo0eOMhK7J0I8jY32fJYbHAS1l32t4m4JtdfxsOsYmVrVRU9d50N9uHjxQnRYlkvRpUTGf8zIuSk51+AQE6+x2CVyS51YZL64K50IR2H5j9y7EJN0pyPXZs2YQYsyvV1H0+pbbgkC8pAl81LwN7927NgJvhIdxkkxKrRx43qcYRj+0VFEv8HX/QMD4fSTJqaS6l6HnzrMrej6zM/iuNJ98LGdxY9Jyaw+X4FTMN6usKjLqIRALV1vEi0xgasSdlZRHLrrUJTH8Kjt278fQThSucxSShiDeNs0jhWediQmMSy7mPAUPcZmHWJoIhSt6U+7CY96hIljHxG2Mp7Vqzu6uvG07wmh64TDyt4u1Y+affA93+naEOPxOBni5QJwfX29oUCEyYjiGGl2CJqqc2Wu+Hnzld96iAAAQABJREFU52FgN4dH07s0QrKBMZRmMbF4IXMK3iMOc+XK1ZGh6ACZX0ZtgQxymrsLwOOBMIQMxbBzlb9ppAOloC3wyfshMp0MxMjL0qXL0pvvMDeETpaKWA+sqV/5H3NO9tDJnDBhQuqCVjZvNtwpwyz2AcE4Vf+pIXAbIKBsy7SqsdhLx2ETNOeCcHbuzxD3/gAjhRBzpmd5AGvEju0hss9toKM7VNG/9BwhTiHXLu7lRugnz+o4kd+nTpqclixeHB1rZYnhUhcX2+VWl9sJgYtlUiJ9+cHIujRn9hzmXb2fHljGSuKE5DYxn0HHhrLJzuQ777xHSs7ZaQbhTQM4O3InsjIs0YPFtOSpoBPfY3jUIcIwd+3azejDg6E3wgl3Oz+orusKEID3KvYTDx6CynSOULIdO3elRfCdqVm1XUySMmhHkM1/dg4PElp4BIefobS9pF5X56nXS8k15l/WL//6TyeCK1ubklndrm7zel1GJwTqDsRN4iXSy9FzVkHFEFylp1yFcR4rKb/z7vvR65Y1Li3BkDCFzBedCfbcHCsrHyJF5/5PDjCZuhWPniswp9SHp90UaO1MMt6HF2cF2SvMv3xOxrQFw6/wYPjHpa+987+v8HqVvjGPyoB1DF0P9vZH5hQClqLzlL1P2QNVYBF7DAk/ToHi4kHLli9PW7d9lM4QV6mi8aJ1KnTWMfnS5e7bCO+ZQFjTJiZfWdBJcQ+13DUh1Cgoc6OM3mASKEibMY3FkJh8v53QNe+TLhppQjg0woSLEcamMF5FR/Uoo1B7SQHcQniIwttJpN7vJG07bHakHLHavmNXeIcMEAmYKMhLjzcaVf+pIXArEMjGQwgiZIArBe/dvw8jY0naSurWhYsW0umdwATYfsRc5mv5dxPhD1OmTk1z5s4Jz7T0b9xz4YFC//K5o296MeUb5aE0vYZ5E4ZHKvKKDMzGhmpNYVSX2w2BghNxlPFkPPyWNI2RAVNM95BmfC3yOK4xcqCs1mx0rZ6PP94dc9UcmR/geTP5iNdSp/vzTIz3WfFo2k4lvZ2SSXQWFy5cGHX5TaN6/p8NvMeLHb+Ml9CeoYflsYOHPiU97xEiLZaEDbKMLEzdZEGz46/TU3sF7EW2yNl0KKdMnkYFOL7AdeC3opth+rHjWG1y7LHjJ5nzeCCyLGo7yO9udRmdEKg7EDeJFwWb20hRTNr7Nk3nw2kvE1gPHapCbmCaQeYvyERX2mSmcxjW998/m3zJc9Mbb7wZnpsshPMIRVt7c3qIUYgPPvwgOhPHWKHRzkSO+RWNWWkqeLMSHWnZ3TyS+W2PimLGjKmsC7Eivf766wEPz4cyqYyGIlRir9DBUPB4gMwsLlYziKD5EGWl7WuIl3GWrjExn8l6EyeNJ7f4x2nFqpVM1t4Si1ZpQ/BmYKm362JsfZEwuRQnEW6BpHX/6KMPxsTCQwhlcWln1KKhdRE8KsE7BCz6BvqA5QzWHmFlXzKaGMrlYwNMyHaRuQnk4naexFtvvRn3nO45w4jYAVavFhd2I+xZua9LDYHbAQFDi7IzRZ7bvHU7I1/jwuDfu29vekTPcXQc6CBUPH361KlYTOzBBx+KrHXB51xzHsPldK8DIHcSlK87duT1X9YQZ9/GMG/mmPwdI8YGN8aVxqu341vHdh3CN0bOkc+GGh079lnI3bXrN8QaEEuXLMFzPD0WjrPDqLPDrITvMvI8jhHReYRYnmMStZNtzemvPGrEt50GO386VJz3cuzk6Vg/5NFHH4owmZjzFbRQ4/VOUqKhsSYyyAk8GB1Xd/DCN0kpP5nELv2s/+DIoqNCJgIZJOTIG+xAOPrwIXrp4YceQlfnUXPxepntU9lE0pTXDAfXMTqFdT6WLF7Eubvn+LuTsP0y1V1z4c1iU24qJY5RWDCAim4eqezMPLR1O/H+3FMMyNIDzz37iz0v4T2GyVxReC9xpJ8cwLOM5z3PccAbAIOtWEa2Eer/DKE9kwwIxp1qRDc2JXvefOvdKLkTNfxmGnYBL5QqvoV2+s+FhfRQ7t+3n/S2zPVQyfBRjUokjkO5WF/CO9kbIwtL+X5DvAYI4xGwPjeEInKi1kayQGwD3pOn4vGg3j3RufIe6uDdd6eImUuwQ1PEv8VOjeFX7YwgvMewbfHE9AMTheqlMFHIFlpy3oSL6e3Z6+TCI/GNAUeEuYrZFWDPnu1JJzHU7jO0AG/vCHZETDSh/lND4LZBQNnUA81tw8BfziJhHzAXzHlJs2bNwBggOQQUKI26BsAWEk24qNjcGH04VxmlmI3whx3iRtrPdK+8ZDSWEApDHJYuXZwmkArZDrUy8G5x+G0D3j1WkZ0IZdQHrDvTDR5ck+P06VORXe48huEQjh292GJGee9CY+uQ/dlYHAC/yDK+2ZGIRlxn3Yg+QK57ffeu3am7u5tMhYuQj3kSvfdLR3W50xDQ4ZQ7BfLXEUaRdu7ahW5ZSef/3cikNYn5Dc5X0PkVYd3oXlcZlyZmktbVRB868NDUofeK7VP0mLgcMJKCF5m16cPNH6aNzGvs7uoK/EsvdRm9EKg7ELeAm4tkmD9iG4qVklezAvMuJhKeYP0DrbVGIal3uTCSKWC9Zqz/OSajOQoxZeoUQqDeCw8PbBf36l3u6u5EMbOwHNlNjC/eTwziaXIxj1oWs2EhABT2GMQDQ2n6jOkxymLK2kG/HUVRYCAchIv7iIOmQ1XOnWPexHLWhDh+8kSER6jA4j7ut4OxhDkBerqce+Kqt9t37gyPhoLt0i7WLaD8lh4tQtNKPHZUxs7PmjWro/Pjd/hdZqFwK99eYGIHdQA6UZHqiZvOxNM2wqE01PTcmqUrJlMzUdH5D65IvXnLZjq0c8nM9HE6ceo0NFUPC98SEuuHrwoBSDcmyhrfbpz7JzhC1pCuM1YbhmYH+qXvFjq2Z9NmsvE8QOy0yQPkA0cSnd8jrduxHqb9kAnKyNzpPhgrWx8mxGFJtMMRzCHCXjRS6vLFQEDZZYYkZdT2bduYu7c4kjU4ej6TuHUNSj3OGn8tjCIY4tTW2p4WsBaA2bnEuXWE17nSf0UHeM7nVWqmbt2xYydz21YyYXc8o9a505Btynz8xXzxGHwL+Cn/YLGwMVzENncWO1jn42iEqjlK4CiFERbqpVMsKud6TCtXrQ5zqNg54rUcF30WjgH4XcdZOwlodpBARvpYungx0QY5mqPw/RjEwD3xyXUH4mbRFMZx9bDhMfx2YSSZyOL6Bf2sB/Ehy7gP4FZzkpHMFgYzCvZ8bA7voVgHYdULeN1YJMd8RBsdhfh4L5Oxj6dWF/3CyHaxugsw6QPMBTiDIags7R4/MX1IjLElmN13MyTM7II498X/aQRKfrtnAibAyIX12vC2ryGLkJPAP2X9hmZGWQb4GJWDWRzKpr1gXKWhSk3A7zzKZEL3+LSAuSBmWrLzcQ5PpcKthWOmh0Sml22EL02bPi06V6abM0dW3KRr8wsv+N/Qdo2bTfC3HYWYFMrvtYwkOE7z0bYd4NX2ktECeAQMGmDiZESgmProIPTR2dAwc5LaBx9uYqj/ZDpPvW7iv58Ol1mYPoOGensHUz/1bduxC1xwD6t8ZSr9wgFSv/BLCAFpSYmjjHvv/U1pKh1bV4iePWcORuNCMob1hewjoTN035E+2LQ5HWXRzAcYpRjAYBjCA3m+3/Al5CNOBvoMYWw452GAzdAG5YLe6jdJ5zyNbDxzZ89C1mFkwEc51CJ3jL+E4L1rn1QMyGiASA7dluWpI+Pbdn6cesFVN/Nbtm3fnlbRWYQEYhQpYujB2xlGpD4E3yudr4KsV+8FzpFH4hu0hpxTJrmhIoOWHLswEcThw5+S8voBpCPUg5BXirvGgB3HutxBCIBflQQoDJj3oG9cQXwFPGsyl3mMHE7F0ekIoB2B6CzCiy4cZ2dv2eIlER2g43OQkFsdAmYJVIfFCKMdCo+lAXTaGUK4//r6W2nj+vU8Py6IINepPqvLaIVAzYU3iRmJegR4+ZdCTaLXuzK+qzMtmns/MeofprN9MA+CViMR09FZRrHpNFNoDp33HGE5nBjA8DP7gEN4mwk78X4N6CEk62DvADmXJ6YVTijeui3NnreA0JRteWVqmd249ohth+vvSrkCq/NpLQp+vBRulrlz56XxdH40mDWIs/LIBogCRUMkhrbZq4hUOhfULFxbt3pdzP3YY7pAFpzR837BrE4IpGWLFkY40CGUjutuOAphdpdslF+hbdGaO/3n4vfmzoOdityRcD+Rid/LHliZ3vtgCwr3HN9uqku9OsBCvA9vuaMlTNS8Dg8vWbKYrFztaRMjDS0dXek8IxJpCE8uYVBmQpk/fyGTF/eR1WJR2sIq6QM+G3Q6Qr13GgJ1/WMAAvD2EdZ4+ZRc/VOZGL1j5w48xyvCA21InXKsuaWNLC5DjK5+yAjqMiZfdkOnyD14uAl6NhzR9MyDMEAYlh5DrwNYMYrMg4cOR8fkQdaWMPVjMJHmhcakW13uLAQQHRZ9HOLjHToG02fPTfsPHiDEdEKajt7SmNRQbMGjrCNk166Pw7G2aBHZsgxVAdfqMnF9HseZG48Mb+fRhecvOCpFZ/Tdd9P0yRNJNjFZLEcnQnMydGicsTV1uRMQ0IZxswj7w4ePhuHvmlWfHNjPui0r6Cw6Ytgfo1HaLmcYffgIe2cZo4OugxWjDuA5jzZVDjEIRx4PZwH7C+B6EMzu3ncwneoZZP2QlUgKcM0fs62pH+syeiFQS93bjBuZxd62+3X0pj9jcuynDLvLB5639x0TqtGQEcqEkRietlCWxPgiXJsJxVm0ZBlrBGxKp86cQaAaF+yQHitbo0wNj/qMFGl6iI6T+cKFmIwDlilHe1EkTSRDkJk6tm7dGlk7cviNYQqG5ggnDQc7Emx8U3QqgMsAXkpXIZ2MgRJZrjind9LOhsPeXcTKuraC4TqOQhjaE7G0leIbrbCRNlx46dNPD6aDrOZq+JYjLObLl2ZiC3hkgypGs/imfmipldCAB1asJj3upliV21EbO6YWv339urWRHWXqlKmxENMRFIHzUexH1KWGwO2AgPSrInFl9Q4MR+WbY1ym9TQsCYKOTTm3Z/++dIZQTbOqOZnWkTZHGbLjwI6zhsYIzUv7yjUn7LrC8URC85YxF6qM9N6O9td13BgEHA0wdNZsgXYc9iJvnYNmGmnDmqSHc4wsOZfLeHhDmzpYibiPnkLIavDZX8k1OxQKfUfZEXTgOsfDf8aioLt372bexIao78ZaWN99OyAQKqKy4HeCY1PwmrrV8Nj58wlHc34Dvck+eLyJrJF7mNd4kk7EgoWEIMHHrgUR4WpIh7zmBx1HcQy+NVUMTzJ86Tz3vU/I9nwm2M9Ab2s76WizeOxWl9EJgboDcZvxYmiKm2UOQ/imXH3t1VdDgcosThrWMFSQln02EMkohFXHgETqJVxn9py55E8eTO8a365gpr5+hKyTZ6eSpWDe3NmEOX0c3uutW7bF+5rxPjv0O9r5TXGwlrh/Mze44BkAizzhwmNk04jOBrPCxy0vrtdMeNgqhrf3puNM6jKdLlKKb6YO6jM2OlZ2JivM2Z6etHfvvjyXZBTLILt9s11xmwnV75OyMDqDKNthQStdBCxyh0lDLDYQraKeT2yxoRxvvPV2/lbq4xaE9WCaPHlyXN+7F1pB8L/LxHuFcx0CECxT/7lNEOhhAqQpW537sJMYaDOwtLWRrhPjINNqXgvAEKSFixZG+KXhdsY6l1EGs6zZmYhQT4wLDYyIgcZIOXniJNnKNqcnnng0VmPXyTDa5dxtAu0oq0ZplWJkYRwOm4MHDqZpk6ekRRiUjizEiDFyXBmzY8fOWOdj8dIl2SGiYyS2YkRmOdYYG38BnGswvkamPudTmE2uNiC/eBIoBrz704yK7yOrpBPl7UC4Grh8Ld5ilByj5XRPb3oH3bWK8ORm5vX1oJcc+e/F8alTNHQZdBG2TtmDZ1P5msnLNOwbN6wO26ng22cspS1fPBTqN34eBOoOxOdB6AauS/jDxO8xz24k/egRcicfYvjda85QYNQ2C9TwtDH3ASbK5/TAYfhxTzshTHPw3HxIGNOxE6ciTvCCxjK1DpJCbT2jGw4ZdpLR5GM6Emfx5mlEhi8Qph+tJVqGMTyuuytWLt3EKrXhpaTBChc7EBoN4cEAFuGhxFjQyHCOiR2J+5hoPm7cBFb83kyngfsFNGOeCjNDv5bjoTTzh4uomfY1+g6jFySEqCW8d01p48YNad/ePcSHHwkPq6MJbgGPOEbg8rHOmXHjc5GuLazw201M+Py0c+duvLoKbuDnCAbzapxbs3zZ0qizk5WA9zLJ3IV96lJD4HZC4BNCl/REnjlzGoV/gY48ISvG4sGv/IcHm9MBFkzcsWtnmr9wQWplpKIfb7ULjOURiIq2uRl7I/g+jBOIXLn54eZNkY3HCZaycqSXHMU8fTthOyrqAtaGLhnQoozevm07Mrw7nSCd+DomObcjm53L0gT+QFc4PJybNZX5KhMJu431HQivHWDCe8gm5RMODsNcItRFuc+xzpOTzOf6eNeutIFRDefM1Qbk3aEAzQijjvcRLnyaZDBGUsycMQvn5uzImGQYoTza3N6ZdjJnc/+BQ/D2opjDEk4/CMa5d33qb6MFKv2eOx3qr9zhNFR7Fine582eGbq60XypcX93cH+9b607ENcLqeu4T2IvHQhlrQwz+/6ZMN2M9PHuXSM9diSsTOQwvP8UrrASSrUjlO1RwpPeevuttJ/h/kMoZnP4e01v8wWGeB3JmDxpEnHt89IJhK1rQhw+8lkwH9IWER+S/jpa/MXfInziH0pm/fq1eBZPkNHhUMBNeEWeb9rvXvicZ9MAicnWGNF7yGz15+f/nE4cwyPJ6MXpMz2M2jB6gzLKnqwLaRkZqs4Q+sVjxOeySiqdq9FdNJqG0kIWIHQCmZPVnC8SMEDR5vkghnn4jRkuTiQ0w9SnBw+lv/z1FTqRe+ioHk779+4PL05kxZDGqHcyYQZTJk9CMR/Hc9QXIW/Cpi41BG4WAsHH8jKbZd8nrKbOCOiBg2ReWrMqwuRcA8CSvZWJTD3bOe5Pr7z6Ssi3HkKZTFXdROc/Qlug7RiR0JjkWflf+jUbj+FRrmQ/HqPVcxH6ErXXf75ICCiLjzMadJDO4CmSeUxCD8257/4IQ3HEU/nkwp8anTt27iTE9nh64fnnkVOGZtKNJBQtcAsOlfeNxyUE18nT4yNUbSnP+HW1tPoicRwQV8/AvnLwTvBoitVTrMmxbg0JP7jQjv4x9Eib5yxOqw+Y+2A61r+8/Bf4/CPu74kRiyZkgjRjp1NcSh/q9IL3PpyhO7ZvT+vWrk7jOzriM72vyJUv+rvr990YBFr+H8qNPVLffS0IGL4kU7kZt6uhJ/NsITvQggWLQhQaN2icr4a0LKqx2E8P/RNiSt8nxGTn9m2En/Snpx5/JE2bMoVVV3fEisLWF1kPIva9NeJK7b33kdpzIobnIjx7FsOYfP9oLLYrf7ejEN3E/R+i83MkFhiKMCVgpeGgQaGB7ESqXoTRLmCwiSHSfYQkzb5vRnqKUIbDGMwayq5kG0aFggkvlqMyJ0+dJHxpb3g4Fy9amKbhBRu1RXoBKu0o3j6E8YdMiF6wcGEYZApaOxcRmhbK2bUzBpgrcYDsJh+E8NXj+/ijD0cY1BboYeHC+TgKpUNGZaCVDoaeO1mle8fO7QGfKYQ1uWL66KSQUYulumEVBC5V7o4ivPbWe5G2dQry6tGHH4p4djPKaTU0IwMP4xR5480303Pf+w6Tp9tZv2RPhGC6doAycvyEcUqt8E4bBhNhfNB9K+EQn3yyn5CZnekrzzzN2g/joxXSbh5xrdFyxyCgeqKM6JKsV1xBfDPOGx1aG8n0dh9Zt2LugyPgyBzl90sv/SWSZTz+6CPpEJ2N3RihB5D1yvNuRoY7kEe5I4g2QH4FTdGRtFNhmNtiRpoeWL40fvv+kTbkNtV/7ywEQiOBF8OXXqRTcJLOovMeVjLH0J4F2iXv0VmOPGynE/Cdb38dx0GKY52fjlp0M9+xk2gDZYGOT4u6XRuoHaeoGZ10IH7r638TqVytVt4vOK/xfmfxfKu1k7KlLncSAvBgpKF77dXXg7FWrlqbepx8xEuRl6mXyWi7du9kgZZ9dA4uENazJH3tmccRvrNJW9fCugdn0v7/73+kzZvep5e+DoGqKcl8CHrurgOwcOFCVq5+I23dti0988xTrAtApZXgv5PfdSt1h2GhCKKtGzauS//6839PK1auSpMwPi6QfShggyQ6cfxw2rkD2KB8JpGpyAwNq9imkT6ujestAPe3f3whLV62PHXTabjASE4r58+ePRMhXqaSPMTIzG5GcJbMmxtwu5V237FnNbJQvCrR9RvWpzfeeYvwrA/Sw488FgrU0C2vnSfjxZb3NwU8nIxmNq5nnoJWZt9P56OF0ajT0MkHrIL+SayF0dt3DniQDQOv71wmwC2YOy/99a9/Sbv3zCU8YH3qpmNRlxoCtwIBFfyx44wGIn9Mz+lCkU6k1jvpyKoOlbbmNkYdXmONm/vSwxvWxuvOkop4x45drGnzfnrxhT/FXB1TRLoOTguJATQ1DN9rahmM0QcnXc+5777gB9cgkF9CUCgM63LHINBowIHqKMpjFzNduXptTJAewNkVi4iR5MNyiPTcJ0+eSn/77W+meYzAP0giBxdG3czige8yT8sO4lwmzJrG16QYMfIMOs8T4nSAkYsTJ46n537wvair8f1xov7zhUBA96a8u5eO/n7CXrtJob4WPIo7O3zOXehgdGGgbzC9/dZb2DjL0mMbuc528tQZ0rR/zIKP76ff/WYraz/NiM7gTBbXbYvsXDhC0cau+eDK0+tIYz5xAut8wO+uPl6XewcCdQfiDuNKw288PXAng72BZ6WL1JoO+57DuNMrsx8G7cQjt37Nylh85b6Z03LvnnYpWKdMHIfRvCK9ieBduXxZarVHghfHCcWODa5iwRZ7//v37Scz02fpfph0lPcfwrsgXPxnppZZTCB+k07QI489gXBqImzrCBk4dqVjhz5J04mh/QFeS5e2F46mCFSPOTfiAeDx0itvMPH4w/TkYw/HuSyEzFZ1gVCKNWnXb35HGNMRvB4Mu9q5GoUlFLPzFsDpeDw2a1avTq+/8RYred6fJkArPRhbH2GgfbJ3J967zvTIQxtZBXQ1oUkTI/NJKGC+d/KkCTzrQoNktGBCtg6fJtbecHK5o1c+Y3jUDjplx1mhupuMF3WpIXCjENCok+ZysogLYWA452gDhsCs+0zlaSw88onSQka5Q3gYDxOK+d/+6afwrp5I1g6gw6/MW7VyOeEuB2OF+bcZoXCtgCWLl5PxZQ6pnsfFuhL7mLj5la88jcPFjgPcD607cosgZKt7EADhjpQrGe96lffu2xveYg0/F7IcZP2ioAnw7pys9993odMl6X5WIEdMxxofrkjuqOfDzPNyYbkPMBx/+7tdkSxkwaKFsXjqWdaMePXN19M8OorTpkzKaAbfV2rHHfngutJhCASf8WsfdsVZwoHtwOvEs9cenUWOHEEyZPHU8aPpkR/+bYQlcRm9ND5tXLsG/byC0MaDkbjjVRLJdJKJa+myZcxhnBNOhvfRaWbqMlOgdTU3ydN1BwIg3DOl7kDcYVTlHntTeoyh3KPEjv7llb+SgWR8xKJ30Rt3sa9HH3koTWTyLwkLwnPX0mZWIfrooSib0qoVy9O7b78TRvWyJU5OdHJsyOpQsuvWrUmvw6A9CGD1qwp69BYFkMaFw9UXECqd6dmvfCX9/g/Pp+dfeCG8jw5xzpw5NT3z2A8wJhYn4eScEScTtzDCIFyEq173Bx/ckP700it4QFakSROAISMzrkyrgePq1EuX7yTLw7HocI3WDkS29A15w7zi2x555JHw4vz1lVcYAp5IZ7MXmhmXvvqVZ8OTM3XSFGLF6UhBI8aUxqATBpteo4eAx9vEo2796KO0dtWaiEUVVsaWu8DPgw9ujBj0c2SoSqnuQIxePhmdLZM+G4uK/7PPjqZOOrZ6KFswIM3x38TkfTsYznnYtGlThGDOwYi8YO542R9BJe2aRc25PwsXzA3Hwbvvvo+c28d6D3uxRe389qVHkZ0aoMoFUxC76nSYGaPUIdAIny/bsQuKmXFrFanEp06bGuGzbdGZIxEEISmfMNfByfLPfOXJMPzNzORk2xZsQ8Mxp+AQeebJx2MEdNv2HeltRqDeZL5fB/RzGv01jfDKZ5/9Sugw5ZaT5euhpi+eioS69shnx08kwxJXM/fBEKRWzjn6LU4NrDVkdtmypczznB5ZFY0AcC6Lizt2drSxJsR8wtHmpz3w84c6r8jQ9jHz9NTlfdDR17/+dSIppvAbeWHvI7baKfDFY/zm3lh3IG4ObkHm1/Ooi6jpCXZy7D/+/XOx+rLe38kskDNr2vQIObLfbXaKFoblvV+vmgzoKL3KdhajCk8+9UR66S9/xcN3H4uldaR+hDEamCFBQndgvdmz58bKkHeTBy82La4GHYRDhOToWeIeDJKlixam+//5nxjmPkiM/hAeivvwdowLI8FRCk1jjWsNjhAwPIidEkPeD65blTYhmLZs/TA99PDGNMg155e04u1w3YhOOh/zCF/qJJuH7/JfKdQy8svGcCnaVG64xn6klmvcdJ2XiodNg8uOkulW//6Hz8Vq2qcIcXPE6r5ZMwkFCYDx3Xh4iSENY6q8o4LlNJT6kxhcjmAsJL0rAeg4dRD20ot0hUd4yZLlpAImXAx4DGmMcT0MQ347byK+rQEQVl2XsQmBQueZvGImjmwUnKMjQHpZxJybGVu3M9rAxEqox83Fvlq5dpR5Srt27Ur/8n/+Cxl1mDDNM83NGoZkcOHYUQVJTeqcjZyb/a2vk365Nx1iNNV1ImZMnxppqyF3GB5hyM3OffAN8eB1oMVH63LjENCAD8yAR2Wl2d3G44WeM3c+uG6L0WLnZ4k7DX2zKbkS8bIlC9PCOfeLIc7rKspUJK4rtZUmMJr8EEk01uOpjiQgdEK7xo2L0Yc25BFiMOq01YUGPb7hIrFeRyky+DpuvedvudQJcKVv955WeG3Z4kUxt6kDvaH+RfNkByV4/Xj3TtZ9OJG+991vw9cXYjQq9CuIdy/+Dct2NGPpovmxydsHGJE0guK+mdPT1MjQxb2V3slPfT6Ia57+fBh9EXdABnW50xCAN4w6CoNvDkP8a5gcNpcc1zFfgZeLBPsNTQzhKXCdFCsjKfpUnO5XEvtvdosPmXTU2tURaRBdbdnQlldeeY1JyPPSVDolCuiwM3lm9BY6RwBFIyKHQaRYuXvFkkWMtixJU6vOA2MOfLvRkpVAEjZ+nADzGA+kK14+/vCDTMbanI4SRnGBkJ2WjnZGe07gaX81jJcVSxdhqAhPVd0wZDnOvzmIcn2qptx9O/fVB/FRrYQExC8+cz6Tw9c8sJw44lnReXBUyg3IBS3ZAmFjUQkIT8+sX7OaSYptaduO7ZEJQ6LqRyNv2bY9OqEPrHwgTSHmlIcC/ucJPdCrmylOmOQiPEZ+lbP1fmxDIFNFjJBCP/LTAjqq47vHpd///g9k+GLFWgz9to5OJkQnwheYu8XIxP10gMMgpeffbKcWamtl8nQxXqT5UsZ1d6bF8+ek1ciCmXgnTXGsMRP3Q8t57ZfGJ8qT9f52QmCIDp4CJjLmIHd0/IxDrqxEfrzFAnEfMLKksmnp7IrNuHfnLzz5+MPIMcPN9F1kZ094g/itiFLHlSJuZ+L0WEOIzJI5cwgzjbEl5HWIJ0UUJf6UR25wX6SYkuxa2w1W+yW/PbP2UGQ+c8Thj3/4I52FMxgqLamd5CfmjXzj3bfSkmWLCUGeAWiFc+7cq9sLzuxYSgdedZO3ly1akFbxnJ0HS9wDUWS5EKfqP/cIBOoRiCsiSlK/drkVkZaZ60rvsNZcs39jCBdO1ivdxRDvE48/ln77hz9E/Gknuf9379pTDSevjAXTXC/CuHi9B0UxX/srbuTqldp78fO3BpOL6/KX0z2uVXyfCxOtWLEsLXh3fnqVkJ9lzIvoJeZ/L7GbF/B+LF60MG1h8t4KvKQxURlDWTUSMZ7R4JtrdcPYxbWaeBuu2b7PAUTDWzTsjFV9XFr53R+Q6zyP1j6KR/c4oVwrH1jGhNePmA+xIk1HgIc3ys4cdDdiFDZUWB/WELgEAlm+4FeGLHUAxPojvT3pPhaR+8tLf4kRvxkYhZ+RwMCY+b/74Q+iA+w8pCLfLqnyCj8vpvmb49IrVHvVU3f+DVd99Si9UJw7DqE7N02MmBLbzH8rmQDtQqaubzSfdOJOfn2LeWxPPf4oWfIIVePeyyF6MU4v/mzvztcvf+7iO2/k17XeeCP1jLV75W259T1CzDoJr54+c1Z6+eWX0hySHExlfsqhTw+kcYQfP/3kkwEa7Q3lQg4zzp3ARphlnF4ZG7cT343vvBIFXny9/nWrEKjTuF4CQX3/eqrz/up/1Z5ZpMoUV9+GYjTh6vWUK9mEa2SlzJAyptv5gSHClO7Pi6MR4/7qK68yAXl2+tGPnksPMan2IyamHSRN3goMaAU/j9y24iB1aee19nnOxtVhcS04Xela+far7f1I32bHwFWcnaj5/nsfpA+Bz9NPPhGTrxctWkiWlz9H/P/9jP74TMRe6yUJT0kGk++wruuGmx65a+D9Rq5FGsPrgLCdnqvBovG8ebanT2cCIx2oj5gL8Q7ewnko+R8+9z3m3GwgvOnNdOwzOhPQit5FRz1UGDG6Ee5BiKcBEA0Owwys+u+Yg0ARJ4bOSRuOBBpKdJqMKz//xS/IorYSWfQDOhEz0qt/fQ0+fJeO7IT09a99jVWK5xLekkdXtSo/T0Jcr2z9/Jrym65PBvNZVzB5xxyiL/pg4QdclAnISgZ304svvZwO0mn42T/9LK0lSYVpuF/80x9T79mzrFC8MeSussgR31zKXoP0Wtpj5Npt1SPKsevYxjLuxdelxXMHSb38q1//Jj371a+SxOAZ0i93ppf+/EIkf5mCo/K7f/udnLQFHaLucKjB565Y3+dyfeZVqeB6+Pr6dGbN05fi9Xb/rjsQl0A0WCk6BxLftbdLHr3qz8+rJ64b1N/4xuCjzE6ZKXP1sxnmXUWmHReSM5tOO7GoiwghME7+pf98mew7CyKUKb7jqi26wQvXCY/b+s6AhabrtaHnojbmHXcy9tKlS8lCxCJWeNxdnOZ+PGEL5s0O7/tHW7fifWfFVEKeyiSwqLoChTAW5FeQpVcBlnffvnLtr6ygEB2ez4dJzHcAJgtZF8TUtxPJnb+FvO3txLEuXLQwjWMytRO0ndQ6kyxXdqicC2GIXMTMRWOyShUqY1m53j4M39s1SRKWTBr8hRbN5f7nl19m8vPR9N3vfCf1kS3sZUYg+klT/eMf/Sh99dmnoa9pQV92fjUqr+/f7eWt4XaX9l9xT8uun/mt8ktfNAorDQS6m9KnjCj96je/TU89/XRatHBe+oBU0x8QovbEIw/jrPluWk2mwWZoIoOxEZ5BNcgWZUlFQ5+zv13ANZzG+TifR3e36333Yj1Xons58M84KdWtX/nKs7E6+H+++CK2xaT03Pe/R0fxcRYnncxd4BTaUOdER5Mz2YGZ8W/duf7by9PXR0fl3fciVu6NNo/5DkSEcDTgaoQwK5ETAvFyAaQYvFgcWokEq7eGWqot18f5q9QTb+HeYK8GHvN8hAqw93/UHoxKCkQmBjtx0RSnzz//QuRTXrHiARYXOxQrVxvG04rXSKZu/L4rCYpc8+V/G5+Lq7bffyGQq+N8pjpffYPCuuH7Cxyutc+fnesevo9aS0GGRbHaAFR1yfMxoVLnB7Bx3YwJpEE1K4SrpL6McTORcJ7FixaRWvD9iKGeO28OsdlgjsoijKl6SYFNvKM6V3YFFt4TOImbaIT7a24hXqnm2jDJ0KSqikbye/3IvJXzDeRRmnbFvU8Jm1biibuYTL6EmNMJeIz+86WXyGozQErhByIzlQvtObdGnAqLyK1vjfFa/+Ri++oytiFQwgmlBGclwW7MOTqWfv27/0hPPfNMmj51WvrlL/49ncMT/V/+8R+S8smRrRFPdDYsgn8vIeRgp3KOen2HPxtlaZG11ytb8v3iDOq9kuzlpdYV/3hZqbfwuk9a4nw+HHN//XbDaPM6NCm9gPxwsc9n8Ua//fa7serw1559Jn39q3inCXMRb8rhsgd4F8EsQzswkuHu39AnjefylOtG3Ec91nWVreA64/Bi/Ru6Q2Iq9HVRi0Z+jHk8V0q2pGfex7odLzDa9PTTz8TCrL/+9f9PBq0J6R/+/keEqDF/k4QJYlf6sANRwt2E4xVh6c2X4K/wtFgo+C7PX3Ufb5VetMnKPlPWyF/P++9ytF+xbTagLjcFgTHfgShQy1lq+CWRVx4LydCSlVkm1yB6FJKXGmWSSsqTXm/cch2ZmHPd+XquIFdiL99r8Wqe1yPsisoadM2MG2e+4znui949bzLt2SxSp81n8vSf/vSndIZczRsefCi98vobYTTPnjWde8yXaNXWYfuur/ieAo94jublJtqGfEwTBQElf7eea/1VVWNHzpfrV9oHzIRjVUdVX7yDY4OE4v3lFdzHG/I74jjDJibq+Y1eo2i0LF2ymGeb03/8/veRjWgqIT2G7hi720UGEA3mqLYBNlcDUaNRUeCSp3bzMh7SEys8Qtn6TdEQ2+q1Cibcatsb259vtB3REq5W1+Oo4Q91Wo33K6wDxvHTd+SS4ZSvhbeXWYieK4bffUx0m8folaNU50jFuGEd6V7ffZeOBVlVyH4jDar8rU84lBa5z7/ioP4zRiEQ9ABxSIfNZkTj4AVGG4iSIyzuwfTr//lLDIyJ6Sc//hGeSfLFe590BDHlSZKZkuSRGOXiBmlZ/rDOoFXvD/hKhx55Iu+9J1/M5+S5ci1fyPcFAXOrt5fj6sF4h8fWZcRF5uvMf1YXj3DRthSe93isFuFkYgZhsPfAp+lPL7yYvvGNb0bijtdIUPHj537A2h+rAzyCKeMQeAq/EQUxHLqUjb4KTxUezNKTUetzjq4i9zkhVqJYl/LP+y/b8i0+H/SB3s649l7qoaJST7yVuuJ3vDAfx9+gpVzXWP0rvavbAncc/46ECC0dXWk58wt//m//RmKTiemndB46SVCSGSvDr3Qcrgk3gF9wWPDj/aIhF26ocKNeHcazeOf8yDOVnuVMzGfk3nIt8NrwO/N3VXvQkHIm20/5bP33dkAgc+ztqOkerEOCchsRfH5EFj7DtFgMtopWpWflnM9kr23eqwyjJ851Hylb3O+zUU9UL6/kTej7HBUG04Sg9J5cl3nQZTPDS9R4ZmeydQ4tt2Ag2kFYQKae7zN8vGnzh6xEfII0r7OZNPxRfJfpOQuD+53XUxQibj4XnRXaotfJpy/YVtvEPjxN/hYW1Ta80FP1Ilt/pc2mxHn+CEd/RfP8bn5adxxUvxUiChaNFiHg3jh/9/lc9cJqZ/sHWXDuiUcfTk899WT60/PPk+J2Ou1sZdGq/RHLy6P5HRc/esVfhU4KXGyzsFdBCRjbHPRg5hHgE50Tv4OtwMTrcY97X92wDf8IeApTAOoGYD0W5m5+fbSbZzMl2Fxhl+HnHFVxNVwaDo0rXkBn8/vf+056/9330uEjh9Ns0jG+/8EmMmrEZ+Tvicb4YNmGa6sPxiAEKs7PXx40nA9PMPdhD4kKVrI44auvv54GWVX2+9/9DuvSdFc02EB8PCIPyT+eNVpTWSIt6yQIRwHkLulVLBU85e/CJ9EJqd4f5xqulXvc+6DyIvit8FHFV8OVcT1eIINW99O0aF/h07K3yrFcxJlwNd//hPGsGg3S3sBJ9Z1vfystJ5OOa+4M65ZKZBR5WeAWsKSW6nLsC96bQ2Yq58QFT4CPnNq3wiGnvHSlreAoHCbKSauottDN1D1U4Tcq4Fp5r22JY77H9LTD31AaPYb2BY5+sjbDkSNH0t49jE6vXJ2e/9OL4H1ChC05wp+hVmESeGb5INy1CQxrVEflzfo8H6XCS8GPiIpnqr33WKt3D28+U50veFMOSB9eKHW5H3koHwfeOVneX+wg6bkutw8CYzoLk8R1GYEB20GMQz0oQ3j5I4UdRBfefBhDo1EG8bybRN9YgpgbTqgQXd/BtHaF8MPAhAlCUGrkc72ltTXuUY8GZ0SqQ39gKsIgvsl4//De8X6NdplCAb6KVJ9Hjz2dXn3j9bTsgVVp8wfvk/3kVIxE3KhgDKaWQRtKWV5eb6MjH2aFsi0x/0A4hDGdGTOMejo8w4bspQDxi2x/Vb8wcBOOoQiAh50jUzUKs/N6wBBccU18xXMY8OzDgI8nq9qshLqFUUzq4v6nnng80pm+R7zunLnz0g4yV60lbMfbSm1RZTwqrEvL8tkCPwVrY2lnCNcvNuvEIDAJ40iaaYBHwIh7PFc6O1HHJe/wmhAPuuBa0Am/Cy4yPKQhYCG83AunuMc/WazHXhLhlMUOZ/wSJCrJoabkit4PbdiQ3nz9rbR6/bpYAfzY8ZN55VfaeaXvv/RcVF7/GdMQ2LNnH4vEDRA+OZB27tqd/unvfsCih10jfABNFp7JPIT8AmJDdISl2+CmoFscAjBzP3nhnZvkGi4uROeiVUXW+nzIYfbhMGAfDKxVWUmEggzP+B5DOAsfhdGBwGyGZ8Ipglxpphfjmjt5bRXb6pMjPF4MjfINpf6xthfefWS1275zV1rM+jGv/PWVtB65sY71G2Lxr0g9rvwuslOpivwN3GQZJmRDNrETN6EvkJshF5WNsZ1noj16V9x6TyUz/e2ZS0RmJb+zzFRuhvHKfcM6BPzbOVGPKD+9HrikMa6fY1GHqIlQF8Pn4sIY/CMOipzfuWNH6iYt89nT51LP6dPpJz/6IelXu0KHZJ0i/HKHUPoQGYVPyr6AsPBuPxEVLjCXbQb53GNwy7PW4XoiOrnOZ9SUx2OvGstUkR2XsmprNTJmm93Er2me3Yt3/qAvL9bwtq3Q10UvqH/cNATGdAdCqJ3Ea3+SFaJPEwJ0GmY56dbTR6x4f8wt0Psvcw3E6s9ZmMkwrrCpslNJhZe4oCBTevmVVwyG2ewgeC9soywNQm/zHIao57tJy9oNk44nXeskloJ3MbGJDBtOIWVajDbQUVA4utCa8YdhMto262JzQZ63mNDmAi02QS+C8f+WIhjix3X+GcQ4OHHyZDpx/Hg6zgqhp8+ei05JT8+5gM3g4EB0JFT6LiCkQHDhKGGlYtErHsxcKZKLXksD9Tj5nKMvLjAlnG23sHCicwudhlYVPBN/O4njH8ciQ8bZmqbWlbwnESYxacLEKkSHJ9UC4MUS3RGFEm3Ta/LwIw8y/P5XclqvTocPHkin+YaJeEovLqFKOHW5BPM7/K5TwoP1JU6zuNvxM+dY6OocoWOnY8Er4ZU7EghBvis6oVV7VJgKrrzuxeX12+oYZQEGAkFBJ3wUtr5bWHjOlbfFfUdHR8Cim3zcTp6fCDwmEj4ivqWpy0uGS9RHPY8/9hhhCCwCxDwR4fsZ6V1nQGfGOje2LgvbxjOX11yf+XJDIC8WN2JYw7BBo2bfkR937t7NSrOL0yLm2eQOvQpdwwBJd6E4IoLC4e2WdI7FHT9lrQj55hQy5eTJU6mXFLDKlV5C6+Sb89wjz0h5PqkTRpniQXiqPa/xEUb/xfCXT93kFzvcGieQNV0DDIyQtXYc4CEW4HT1bL9h4qTJafK4TvhoXJo2bRqZ7ljXgGdrYyPLosOkgO4HJzotTMv7yIMPBtAlhSYWBcxasWBLjNlBQ2ayjsTJk6eRmerX0+kox2d7emLr6+0PmV9k5SD6dRD5R3VR1Cdi33qGi9d8TVXErUap7RBfuaBrMSBj/o06pJ2tDdnJvEGNYnXsJHTrBHTHBGTmZHBvZ/OSqssrxtS+0Pu+/ftY22FWLCC3fs3aNG/2fYzos4QcqIhcL0AFyPPPEyMOrz5GIY+xFtMpbChDqk/hxBTfnj/T08/6MNgG2grwso63MP6B/XlsFm2BbPg3ILhAvyCHve9VrZo8xhKX+KMzQL2ojhXX8nA3v6dPGk+Y7oRIHDJl8hTwf6neLy+p9zcDgStZGzdTz73xDEpHL7rhIMcRZr//0wvpk08OIHCaID6IDoJrY9/RNS4mnU5nMSSJUm+zhplCKQum1jiXRxVyD/hKRrqsoCDUG68wlYH0stg5UUF63NvfF4rzHAL1+Jme9OnRY1zvC+NUTpmEwfxVJqnNnzubpeUv8F4NbQx0JSkcrdHnkvPjmDw8hYmMZ1jl2omz/XgGLQoF21b2cXL4j4oemNAuBXA/bergOz/ctj39+T9fSr19/fG9Zu/pQvhqyHe0dSJ0p0TWo1DS3G8HwN6/8HDv+RDiCHCNihA8vDOLhtyxkPUVGhoMSgGaEHARNtEhQcj0nOtJvRjpejqPAJceDIwzp89mxcP9y1h86FvPPhV4cz0IO1jxnQil5jY9JML9Qlo0bwFK4hW+kwXT+J2Ne14rCBtg4Q8NpnyB5/ltnZ+SZeYPhEEdOnyEb2kmDrQzNjs1CqvJk6eGYPKbW6ARzwkT6aq1bcT7JQ3ZIbANlvxu/vIOix1ShaneV2+RPvx2YeJ+YLAfQ6uHOQx96RQreh4kK0pf3864LmwM0/rWN/4mLZk9izoCrFFPVuacQDtrXE2ZNI6VraezAuxn4LWTeoFLtMC/uS0+nb1NcaH+M0YhIP3LScEb/AmjjZ9n+npiQcsTyNGROPhMO0OMdCFRgvYEm0aevLHpwy3pJRa97IWvW1qRKZVjoAOHQXfHODK8TI/1buwkK0d0JIRs4VlHD3Q2yFPykE3SmHCfTU1e5LEyHpkincszHg/055GNfn5rCHnejFF61pUre/fuDyNnAHk0xPbghnXpKbLM2AHhdWO45I/vAVZtHW0YgafTVBb2m8JCn8JZh5FIRlwpKDOclGX8PwRc/0j6bDuara3oVfVDZ2tkhBOv3VM15rtTJ7rFjl0bRr661vvs7EkvGd+5Y5A7KRUqwLPvUGfo2CudRg1TOyLKM3FsGOsAjjfnfPXyDadP9bBuxdFYO6mP9SzUzVOnTE3f/ObfpIUs1qlctq6iy4POqld+mXbl+xq/qfFb+9H7k8ZNTJ+dPZnum4/d4Y3wgiM2KkX1gqMCcjnZ5VM/vYpXXn09vUdo7Hng3VHZTRrxHWRH7Bg3Oc2eyh68t9NxF/9GNQRvg3vnLKqjbEMho3iVeKaEToeupDkdl/I0LB04zjyuXZVxrq4U171kgjtDR2bPvr3hnBggeUg79PUU61asX7c6xhrDQoCIlC3SU11uHAJjqgORQ0qaECD96X/97o/ptTffSrPuvy8tX7QszWRZ9XF4pCbgzW2D0OwohNBToNGrddizFUaR+fSCtSPwkHGhJJWZjYR/NTQYa458CkbQwJMR+iB8ib5/8AIGOx0HhN0pPDafHfuMNK070rsfMLeBeOP/+l9+QqaTySFUrb/Qu/sent/3yUHSlR5Ni5cuS5/gIde4LaUYrOV32QsP2x4dDLSv33sYwf/LX/2aXN+H0rKly9OipUtZtXhiGk9944FNdBS4LxvIhhYp7LPHXL2uEFDJW6/KVxnA6djKexv36p7YuHEQGGQhrhGQ4ZI7E0N0HhgFweuvd0OltIV1L16kk+Nq3t/+2jPRBt+jJ9+CvyyQ04+iePed9+LYzojtt6Mo/K+IMxWijaYe/53FM/rr3/42vcPozkzSwq5ctTrNINf9pK5uvBoTolOVO0vttGGksxDCkAY1NTNKBS0JY40x22hxn1saPy/6o6AWJrbDtRxUatKKnU2NII04aeUMeD4FbTifYceuXekDDLRznP+Xf/wJk95Yado3VPAQJ37WOeCxbc8e1gw5kO5fuCjtPXYUgd+F4McguCJAeKguYxYC8kApcQQ9SVJTpkxJ+5lYO4EUwZve/yAtxgCbPn1a8L8jh9Ja2VoIx9z80bb0i1/+z3QW5b5sydK0aNFivMATkCvdrGKNIYnRIc/Y+dZrHGFHyJVWkkjIK9fiF98T/OI7+aFh6V7Z4V4+UK6Ew4Jz8pLHIXeRnY48OwL9CXJlB4ss/vq3v4tv/OozT/nwGC7IYWDpSHjPuTMxAqpe2uTCnOiFDpwPGTMXg6gHZ9ivf/t7kjS8n0w77qri95MyesJ4vP8hM9sx2tCn4LeD1NEak8rOkKPIoCIjL6714l+i1ba5WTQulZPiWfyWTkWfeGbU/gLOmfCEg+czZApzZH0XMvM9R+3pdPzTT34Y65aELqQO65Eex1Lx2y3y5fETx8JpuInQ3/umT0X3Twx9niHCffz3uA2n1GsfbA18y/FrGLGYNXNmmox8mMQITycdhlY7jHYeqk6DePZVbqocu4jsrlrU1RZQErgNXk6tcVxw7TlxLo49tmOhA/J0DyMhOFX3frwvbd++I/3rz/8demtLG1Yvx5GojZJlQ/n2/Kb67/VCgLAz0TJGSmU1vvH2e3iUX0wPPfoYBvNRDNKDeCv6gpg1qjtRaO0QmR4Re9Gd7BV0DntrOJdRCQVfBwrP4TO1pcP2I4yQwep8AQVU/wA948orohEoofdgzJ2FyCX2c32DYRTqGVO4dmHUTWM119ksFrdly2aEawshOCvSeDxBGvP+7oMDHB7ejUG4Z9++tGrVqnSceHbzsP/f//yzaKfoLULxUiZRqMrFQQHsnUz2q1//NtIzzluwKH1CKrfjCNrz9N69SePb9Rb8/sZNGKn4NVKL91046VXSbA1BIYlVlObvYHJgPYCw7+fbVeZ9eD6yB6G32uewhrOMzPTToRjSS8HW2dmVZt8/J3URc/3Om28w2WsFHvX7EHLgChyJ5jNnz4SS2LFjZ3galz+wMm3d8lF6+MH16cnHH4/3t9Ne25JL1kTiX9EoLOxEvolX5Q9/fCE9RK7zw0eOxmJ9trGZlwjPoA9g4ncLG7+7nNOQamUkxHPZoyqMgIk4ibfkNwf8OTS9rPCQHgwZGIAmTbtqqJT0cq6vN77lLErwHLBypELx286o2TSyTM1gtdAtmzenaXgIF7MeiEO3E4xdRREOUN+hw4fS/n37I9XvkqVL0hno5BwjGj/7h59iCJKGkfdruDWYYxz7u4QHcFiXMQaBykILOtDnmNn4wKeH0//415+nB1auSoc//TQdP/IpnYJFJHGADzE4u6DJXjzAhig5ovoqE29ncm327DlpDysYGzaqEa8R6Qini1QFD9GR6IaP25Fz/tabqcEhb8lDbfCsSj/LsixQ/Gun27BJDYoB3huju9C3o6vyUMhY+MgwKY/dy1PychTq7GCUdQELLjY3D6XNdIr+5f/4r6wlMytfH4N/lYWIhBDb/++//Zzw3jNpzrz56aOtH6VpkyfGqPgccNqCzFXOnzmHTus5m/YhYxy1Xb16TYzaHsMYPYvzJzG6a7hQR6fhRHin1a/KzdCzhJRVNNDeou5wFFcnHfJHIZ1RXeEq/0StBv6kI3FaOojiteDXDqvx933gWzlqsWMgLdkJnj9/Pitov5kefWht+tqzXwm9oG5yU1aPleL3WuQrFx/9+S9/ldY89HDat3cfuuZcWrxwIaFMswn5wwZCB/cBb8PSjp88k97/8CPm1i1ObeDy4MGDEearMa8uUfeJ125w3sGxo05uw6OL4LiTzoW2lREM6sbQOaKdo/hFm3RwaUfFCCJ2Ty9DH+JbXGd9mUfnxXuxIRyJGhwaAI+MfE2YHIup2nE8isPt//qXf6ZDO45BeXDtG0PvcVCXG4LAmBqBkCL1VGxlUdLiyigAAEAASURBVLE5eEYWovDmwxgOyfVrnOHldviuB6LUaDZcJCubvnS2/3QMxUu0KiU95OcRiE6QNqxFutfvppc5k74qLTNAnrCHMIJBWhjFMEyqpQVPGx0Q13JQUTbzW8PTOM329jyEH8amohlD8XlCaLpgxAsM08ZQPIpPAayRqNJevHgJjL+VYbsz6e+f+35ck4mjDTQuK9z4OfzHdjuHgQ+Idh87cZrsC3vSBgSHC9ItQiiokAd51wBwkVmL0lUYe02GNd4xC/G+qLt4fwIUnIk4Wdsgp1IUVr5bAaMprc/Jb1Wo+005DKgNz9eEEEAx7Em4gyNDnR14KxkpUpi0IpB27d6RtiLwzqC4eh2Wju9hrQxHCPBurlqzGqN7IG3atCnNZOTgwY3r/VzgeGWY2MQwogGLIQ27du+OdSVcyXnhoiWhjGK+g52dBngIhyK8hI10cx7hpWnj9wof4eKwvApM2ES8LwfSpPd4PoZThQnnpYsCF/eTWbjHYVgFsoZVG0K5q73LBgMLaQh25h0v//l5SI0OJm0YAHd2NJxbMmXq1DRn/oK0dMWKtGXrluhk/egHPyCsoIv2MrfGjvBwkY7rUkPgEgjAIJBq5IL/2jNPpz/86Xn4YxkZeZaE4bCTzsFZ5kwZHtIMPyvTzuAA6IVfN2zYiJd3Ulq+dFnwg4pe2aLsPcdIn3JVHjqLt7vnnKGK2UgovCOPuFmcA9FcBcwbahjnLxg2lcP/NFC8Vb5pQuYqW+QnR1FLJ9+98iY6Jxw3y0NIpCH45iAOGT2WY7kDoSMh9Bky69vf/Hr611/8kpDffemxxx8J/XiCdUBe2fNmOqfzDdmj3O5CNu/YuTOt37A+LVm6MC1djg6xQ4dcdvQz9Ei/jhAMPYz7AWSo+D12rIc9TiJowPmF4jPPP8z4zjq1wr10AA3onCudAQVqhNsh53LkgKMaLdFJkAYNpRH/bv5Wvop/n3dumwuNPv3kExW9ZPlrG66kN4MAv4R//F63JUuWpMdxsv3ltbdiwvxUIh+OHTtOpsfN8Cc6XtXAfYYgHj+ug6CXxW1XhT2zatUK8JidYPKy9oI6uQ/9LK8bNvgZ8yRKKBLjRcHnJk7w3WjGqB70+Ap0F3QgrP3BSc87Mb6pyRDhzNfu3Yy60J7yWJ4Wz82EEMvj7YRei+sebJXf/OY3aefOXYQqruXdWe9+CdH5hXzS2OpAQJoqJcNS5hAXL2Gr6OxAKFjMNGBpYbRBT0kpesn87VoPErkcBA3Hc/6KO6Fs90Hg5cH4nYWRz5z3ItygATtEXQrAQTohCk1rUYFqtBbm0rjX6LajMY3Y0+9891u0sTuE7nkY8xQenxPHT4RH7wNy+s/EC/2zn/44Vn8N75FKvPqOKwpC6vZ7Qh7Qgl4UufcZThCeORUvQjbiVCdmZi31yKQeu/kO92aEik6BQKFwKm98r7BROOTiDV7k/d4U50f2pQOiMeCxcHGCnV6Ifr0QChuOVTwx2XxCd/rHH/8Yg5m5JRr27I8T2qOg2rFrJ16RT9NGhlafREEoTITNBWB7QY+Hr41iC6WFTCMa4D14MPuAyaxZ98d56cX47Dboo53QDY2SAoOyFxZ5s+Lcfq8FnNkLH98Z4UzsvUuvS4DM+9w463nrifkzfKvv9h7rsUMQI1soXMnR0QoP7Cw4/DyVjsI3UPiT6YA5N+IC548T7nQCb/Ae0vPteffjGN36yd89hyF4f7wj+g7UG8TJe3KJ1pUf9X7MQqCBDqAzZZId8A3r1kRH1QUKPznwCSOBK9Pa9euiozsOedoCr7WhyLds3ZH+/NKfQ7EPwJsREor8MFxUflQuyJPFoEPscG+WKTEPp6L5IqtsjYpfvqIlYWBoaJhlTHnBYbwr85x8nc/LQxbPK9/kL+9XjsiUZoJSzvBqMkp1M3pyMu4fs3+UOcACXzzhs1PSP/7Dj9P/+o/fp9dfew0H3Ny0ZOHC6CiM787OnRb0hh2F//7f/zW8zAox8S2OWwZJFIJzTNlpdhxhL/rUqzo3fIu/pQURmFGbDdpG+GcZqP5E3iGuMo6zTM33VTSgzASXjupKD5aiV3TulOLxJBwz+3cbO98bHcyROmnLGCh+r0X4WMTNM08/laZMm84aUy/EuklLly1NjzzyCE698anbjhf87aiBob2vv/E2z2S4y5PFeFcPaSdYbwc2TBvHItb67fz72sLf8YMTaj6hHnjmr3tQiP7LtFD07Hl43VLa7t73eF0+l6d9GqshnMIF546S2Mk9febU8PMROaJRVpcbhsCY6UBIYBcwRDXGNQJNc2r4kcOboazCeBR+EiAR9HizQshB7OGp17hC/8gQGo5hEXO3s/6LsnO4VeVTiiTuTxlAhddPvbKohG7Hxf3wBtHnzgxClUqoKq4pSCVwQ022bt2GF6c/VhE+ScfB7CVOTJrDPI6/Y9RhEcOxZuyJwoO29VpFBvMbFcYysN8lnIrQ72OmknVUjr5gzPjtM7TdEjCykcCtXMsCQiGhYGejgjgXd/lULtYQAgLhEJ0Cfsj4uW6N5hzDHELCJvIvv4Mj4qrtfOkRGcDIdz6L4VZmSXIVaj0f4xmiXEas7ne+/e00a8rk8tp4aVN7A6KqK4ovS2TXQsllZdca9dnBNGyotbkt7vK7Cgxsk20MWAKXoDU0r3RhGJPnC2x8TrhwqpBQ1Ccc3OxLSivWnevJULKOApuAB9fz5OickcLsW+3gz8mBfvvWbdtjsqqhIsLEbBgq8rlz56Sf/P3fYQDMTu20xbzuMffBl0cZPign6v2YhkDm7QICaReSiSItr1+3Kq1YsSRt3bGL1YnfSe+9/75CIbyBjphNZ9TPuTr9xMVb5CMJvfBDGQHViMz0Dm8rMId5PRsd7cpEeYbmFKlW5EfIUhpVOhA6HKxrhIeyLPVc4dsi6zxnW5SBetHtvmvE9uKcGXd/dihFw8fgH7MuoTSBWYafCwX+7Kf/kA7gkNm8eWt66623kTUD4eV1cvVkstw4wnSu8jZrCppu086h8stiFh6kn66VgLNnxX0emRW/yEp6kGUenc/4/lJAE3ilHvZoq8Cx+Ha0IugAPar8tFygpyu+LWFQ+jAl9Hd1TpnoZFs7r573/kIncfMY+FO+WT4oxZG4dWtWpkULFzASt52sfdvT5i1bOJuiQzGVDqUhs59CCwOEKOo81PEYOjr0G5jFbtFs0p4JZyA6UcdZ1pvFXlBcaDeBc+mM+sVYxlTGtWizY+pzwdMSAHQinuws5PpyyxvxnM9kmWM7pAudbOrHLsKgLTHCVm6s9zcMAZyfFVfd8KP33gN6+k0V9tqb76bf/O73aeWaNWkcHttO4/MwxDsVIsbjwQgKNRlK5jJlmEpFYagC9LyMIqVrJMoAFu+1E1GIP86GMvMiRjIEbE9aolfYyRS9EHQm+hzPafYACdwwpV4meznsuwsvukp4FvG4U6ZMj1SDM6ZPIQ4VBc08CeMLLcpNvdnx3qpNceEqf2RqN9goOkn9eLSdQL13/4G0/IEH+C4zY5BxiKF9YeCQoN+vMihGsUJXeLhpLAcMKpiEd4HWAJbcJo99G9ctKu3ovNAE4TnI0HXABpgJkzyR2vhlYh3xZPWxFx45ROh8OkUM5uZN7wUcZsyYhtEyISbDO+nPNHSTSfUahgnvUjT61oAN+ysV8RbzQrgrC8KW9Codk99BKw9AK92MOggPQ8k6ySJj9hAVUPGcWmc5zvCwE8p7K1oKlEQDUKEARbjk4kGmmmgDf4pwNJ7bjpQeFM8pLKWPmC/COb2mPYSMOHLlyNpmhpnTUF+aS4ieozPG+ZrqdQZDuyp5h/LLa1XA5Ti3I7ehalS1846L77r4ev1rTENAkqnIQ0lyGpl1mOxgx+jMHzt+jCxHnwVd7t/3Sciv+YTQOb/McAN5R7miI6cjYt5zWEIsxgjDGhKT+YlXVEalPOTrNCBhCP9kGVL9LMajNoa8ojyRh+QdZUo5VwyP4CU8z8rhc4Q6On/sOPPiDh86mH5GMoJ5c+dQ8xgtoRuAcQgqDL8Ca3ChLO0FXseOnWQe4WEm3Z6I7RhhTUf4ra5dgQ4peO4ipNTMW+Jefeu8LWWzXmlpwA5D6BF0jnpWuRnoDdA3EBm/w8GCPnVE3+Pcgcidxqw/lJl6oQ2JyvWIe0cY3CtLR8KTe2Mi9VOPrE/f+uY38tt4sXrMUvbxY4z9Cd0MHMQ1+U2Y73AqHTuRnXRHGN0/fOhwzHE6SnbCJUsWM3F6aowqOgLRph0FX5esSzrjsk4s4dmVU83RqOBp4S0v599inJ/ZRpCZKdpZBd+miC64lLcLf3su4x48g/+zvYROaTeQtVDb4SDzOs0C999+9lMme08Pp7Ko1klclxuHwJjpQITxFR2IlpjM/McXX0p/JfXYeIwr1wook6iVWhriGnjhLQOm0TtGbekdcfRCgzBSbSLEFHJZ1GRDcdhDxwI7FubjRV0KYYfH9bS7ZeMZxuScbZPofaeGoHuZzTAbBfJq4vgdUpxsVgONeNpb3ulepsqmOftoP160MhIRrbjyn+g82IngaVtrh0HB8PN//1XaRSzzTEJ3bJuTa/UU+t25g6CAz8f+LsfChp+x5Tdm+FBBPBcv8W3eZGHvcZ78qGDP71DJKwi8zX0IMoSH4UsaEk6wO4cQ0Hj+OmlcVy1fGhPLnSNRFglSABnm4+Qo/7WCq3hl/L34qJyKO4CH3jDfKR5O47l/8c8vp5dffZXh28lhgGt0hK/Se4BDKD7wZfHYks9nr2mcoA255O/3u4fPCGN/u1GfRY+akz/FrZJUOEhsKks36UyaGQJn0ieXWNfhVFq7jsmATz0W80Ts6Oj9KUV4WJuKmzcMw2SEgsudZV9aWPblfL2vIRDcEkreznbwS9DVCF0rU5yHY8YwMza9QFrPA2Q6mjVjZhhx0q8OF0NDi8NGGRtraFYkF0YHPOXaDRZpP9ya8SvLFR4POeUIhEX+zXJFvsny1t++z80iP4VOQNb4DheyasM5cJp1gTqY2PmNr38tbYSXTOE9dkuF45AaSgzgzT9lzaA9OOAcE18rADnC3tdrgpBeFjV9K7308ksxAiU+ss7DwUKnUL1TsjApiZyzAHpiU5bZmfQd4qds4q8UnxeLQ9BOkV3lvtJB9HfgGkOz4N19yFjqUj57j2FqGzduSN/4ypOkdM2j1NZhKffGjzH3J/O08BXKYl5wFywIIdOJGwq4e88+Qp2ej2xHzkHwnDA09FukeqwtJbyzrsw48ZzJEkSt0SHSiAtNVCowIM4jmQagwUwD0J/2DvfJw26et+7QkTzl3ncql8oolHMgHImfwrofX3326bR29Qoq5nU8F/ZL0FK8sv5zAxAYM9KxCAOFiJ7jJ594JG1nVeJnv/osXusZKDQmA586Gd5cRwZkGz1kIUykYojWXMJQaoDXiHQz9ZQF0FohYrP25A5EUGbc1wahR0gSzKSi0x7UAHYikOyYTboUXv5xpMVTMNvWTjw0ppv7xS9+kR556KG0cO7s1Kfh6HV1aLSD52lDsHelNHk4no+Xf84fhQG18ddncttmsZDS+rWrY02IH/7wR/GeIQx3M//owdF7o1fQLZiUdhQB7YhDYWSvCRtHKMKjmF8WLdIwl2kdiTBswI5LrqtMHM4hUtal8tGjodfKmFcNCb0ajsq8+vqb6eH1ayMNpLjwG3xNdO581uF3jAqNEi96bbiIDEu1y1j1BIKTdtOoUFLOOXmaztu2XbvT1772tXQfmSgMJ+vDo+GELDt84qvQSvn+rKzEUx52zTDKbQyYILAwc+J9vtu2K3AjjKJBmAkb7/cGla3v0jMbtBKdCzq1GD6OyvyZjs7DD25Ms0i7Z7FzWjBMQ+hcZXjG4mDeUHWqPORH3l3292rnL7uxPjGmIFBxDORhiEqEpkin8FU26LkgX+hdhv/W0sk/xshEG9nlnvvB96E2wjIJx2xn1FJvdc/Z3uC74BtjJnlcQ6CMCEr3LtRoAgN5TPmReaySOdEGEaCRkp08xUgsk6jlI+vxeY0ci3LMETodM63w0YsvPM/I72lWa18XciluGqN/dOwArqoAc47C+Oek6bOVua6xESPPoKwNWdU+zrUeutITjz2atpG697kf/pBseeMjDl2z3+d6TDKhsQjO3OxEOsoqPkFfOKw0/orMDAdZ1Q5xx//Ur4OFZ5WZGqXiWprxmufEq84j3DsxWqt+0WB1FN3kGqbydBTi10yofeihjdF58B5L1BVHY/kPgLygbgOuHgLYnAWR9SACTk1EPpCNkW392lWEV29J9xEh8a1vfStGyLUTTAZjp8AwYzv+GXdURjHkKRxh2gziGhsjOpkgUVR7l7j0mngx1Nyi/g89ScdQXhZX4r8ce4+8HR0VnKjjyEhoQpVWktS8+OKLsa7WurUroccBZJNuwLrcCgTGTAdCipRYQoFw5GJHCi1J1BGI1lZm7HPc0d4ZBmgbqeSckJqFUNwW9lYIF5lJI49NAZsXl9MTrKe7ek+FFYWuRYbQaSNT5NEHesycGKANMogdkHGshnqO2FvDU0IoImiD6Xha0abBqUO5yU4DFemt9rpFhRyaO97kmetArY2nrjDgqSfq4hw1BxPqGfJac2f2EDocXQSxx8JyuMR357YUAexlBXkLQBE22WBGCPCQd/pN1uBx2UKH0BaVR/EoqPhdsfssRrujFCEwcFMaPpa/n2+IVlMPz3rsP9tRmuhX5bexs0QvrGAnn4q/0ZBsZFhHeM/AkZ0eG6v3wzCmdoyU3BFAgPGe8ShJO0r+y506bueZ/P68ty5T/ma4BvnE9wsDSyMs/D1ML7wzlKkjEuIrOhAdTJB24h+GEDgqWbEKTdsJ8utMUyd0Vfz2F2yPRlmMdAyDxANLaUk5bvwdN9R/aggAATl3pMTILDQZxkYQscZGJrYLGBDD64twLuagYbxZurtb0+QJyF2cLGfpQEib8rYrB8NSQaPKu1KsulCkFFvI173pjwer1I6S/LBcDAbMDgnr9rwjiGdxzoSsQC45uVd+CJkbDCLnB9c0vJHDMVaqAZ2s9wrgAzIAQjmEPGuOdTqcsIrM1GHBOdNGO3qu/FNu5blkpGVlfY/x49rpQBC2y3llqguXqn8t2qqOIOdfceoiHHtG29WtD5ncy4G6UGzleTNSJi0BeertoAOa1EP4rx0WZaKdCNOAqxtM7Sp5NdKK+s3NUvRY/BiDf7L3Xh0ITjDY5T4OA0fyh8iRLISWI0d29Eon3VBZV/z2JkcqxIURCnbudTTGKDgPg6aow3osUW+191gLbYj4KR112k2RAMXKJLXyEDWIM9tp58GskNKWjoxuOrNZT2d97RtEr50Q61df1+XmIXAdVubNVz6qnoROVBJljoBE3IwR6RYZeaCqC8bKEocvQwwgbFwVWIKTyKU2CZR1wSC5bNArKIP8WhVkjjDwi5slXu91K8IpOg28wxg/iV2Baw/8PHF6lgu2YxCvPoyiNy9IWw8Q/2TdYF/q9l/8z9TPO7xSlWhMXC5nrrmXD8va9D6K/RvFfZtKAA++BmvTEF4HFXTlBdBIHWRV5MaCDQCn5wpULILCdvr97UPUxYk4b71mYCgPc6Cny/tKHnfhE96tCFmiXdxritEm3tnCNcyL1ER7Yu9L/J1f3bAffkNuSHlf4756xlPl0JW9rWu4Pq75/iboQWO8CTwJExWgnb9mvm2Q+9sH+0LIqrwyseQ6shdvhCaGuD/WWxAe0k/spYYsqMVJDCxQixmYrM53KTh9n3DSo+vkZxWimwaaHUjHTDIOM9WoRMuXSSflGx35Kd/HDQ2l3NFwqj6sIXAZBBpkjtcgm6YgvEI/yszM000NPQB5A1IOGnZ0sJlU2M1Deoo1DM4hPgwlkjYJd7BOaBaLgxdk40Ca9ZRMoXwwDjr4Bd6QD5wrpZzyXMhd7rcdwUecGxjQqdDCXo9oycTjSAZ8XP0Ly4RXyC0RKMpzUcqnVT/Hwq5gWRkVSAYmjuZYxEPRRRfQD4F/YJXvBWPA1KdikjxxvOrVZramAUwOjUE2dcIAyIpJ1hwLc+Uv1VX1FL0gEjIixK+GqiFn1lGM/WgTdYh3dW0p/lZXlTSh6mkUvgQSnQ8oCLld7gbvyOS6CAE61PBhKQWv8VtcVfzgYKGsr6YahCej6wVsPY/iQiMxesBoRNwuz2oriSdOBKzZ83OYbjzPr8BrtgOUGToH5GveUm0t7MPBFvcHOqOiCF/imjo00jxDh7wRAyLThjZIiCp1YHxMjiDIWj5O1H9uAAJjpwNRASUTqz+k8LwVAlYgZqIqf6t97DTw8iNxv3dyMNwh4RIkyt8rFx9t3OJZq6huL9cueprqGs/H+8sNww+Wg3Lh5vYXCQiqyLVmozbg0vBy7234GS/027mb8/lJnxG+ca/n43epd2TvwwoFBbrg86m85Xq8HvVYF/dk8c6NnvWZq5bG569601UvlPZ6g0aI7Yt28Se+8XIAVHXlNl3t7cN1cHccX7LP31o97ffxnvjl+6p3Nr56BN7Dl3M74qaqnjgzctz4fL65/ltD4FYhMEJfhU6tUfq8lE+lPzsTOnF8KvZxkNuQZQbnvZZPZR6s7s+SRk5pLPnOzA8XX/Eu31mxU7Tp0ieDJ6yf++K48YYxelxgP/L5l5+Jaxl4l8MtcFyeybLbX41bqTufa5S6F+OhUdQHjhrqaayjHDfucwukiUwXI789dTGtFHna+PzYPc6QuvT7G/mj3BE8XhDDA56Xx4eR3QDmzN8V7zfcwmFVvFa2TBPD7+GOqJs/1l+qzSSY77L+GK0I3FZ3xEO5+tL+/LzX83PVy+vdDUCg7m7fALDqW2sI1BCoIVBDoIZADYEaAjUEagiMdQjUHYixTgH199cQqCFQQ6CGQA2BGgI1BGoI1BC4AQjUHYgbANb13Xqrw2G3+vz1tbK+6+5B4HZj+NIQkbv3ZfWbawjc+xCow1huPw5rGXX7YVrXWEPgbkOg7kDcLAaq2MmI5ytBdcTSld9lX8LrGgVoVlA5Nm/4PtqhYRnXqM8JhMb63uulfPfId17nN10Sm+qkKOtyGzbAA2D3HoRisn3BdUPzC6w8Vb7ViWSZXirauORauc99SZXXUGV9WENg9EAAfjUbWMmYo9hUGjiZ0n3Qf8jSLCMK3Td+QNzDiWEZ0HBxRMY0nLzOwyJurN+UzNGMK73kOuurbwtkhx4zil24Bt5Dt+W49itOWG6AecF1gaW/bxzHIxU20lNuQaazUn+9v3kIZLyooyo+Fuf+A8ROjxfXbnEfr2nEReNb1XcF78MyofGG+nhUQaDuQNxGdISQNBNBZAWJfARXrV3GyvebTSfyBATDmU3EkhXYiPC7akWj/YIfahkW/peTXPnKIlQii1UlbBQ/Fv96vaxinYWMQIzL99Sf0ikIHF+l5X7vsMDlxgKbcru/yznvy6nqFNp1qSEwOiGgKMgLI+b2DWeQ40IxMDJDF4mQ7/Pa55Uic4vx8Xn3X+t64atr3VNfu04IhCBDbpP9SqVWMHszMC7yUFzTG7nOBtS3fREQyLYMb8LxeTFu1UjZ8Sfeis1zPW0KO+BaSvJ6KqnvuaMQ+HzJfEdf/2WsPBt2hYkUmR5fuhWFWfYqV4Wr+ZTjWQ3uexw8fsdwbnWOG4VHgUd84iVCIkSOACmF4+E0uOgNRyOEVhgg9yCQcprbquF+u7hnH3gv31zBq/y8dH+eHHaOOPjwsPHEcU7jeund9e8aAqMAApC6a7fk9Vs0JrIRKP2aStU9XHBZQ0unoPBI7Ku7yrUiRy97uD5xVyAwjCvfjnwT1zrHig5QhBfcxbloZQj2UITDz1e6wd+liOucz7ecqfd3HQKB49JRCBSGU8B2ORIhWw/jFPxFZkMvNpz3p7gtuC704fm6jE4IjLk0rncSDUWJmZNfcScDqBAzI2Tm8v1h8FX7GNIvzFc9E4ulICO/DAzkN+QVJ5EVCAc7FJeW+E7uC4PCvZ4KtjAoQm84/BkHkVe8lcXpBLDXlU33WgllGqnI9cypDCtaaVCS8WHAwuKuwMOc2JnO7JyxBoWLUMQ93hSH9Z8aAqMTAkHPmUhzuF0ZbdWPVclJDM3gf854Z9xtvkUNC39kcg/ZKLtobCg/3EIecEtd7j4ECg7zgpXiBucGCwQW41ChFvhlL0ozWgtyPRGYjw/xbOC3wnEJgYuL9Z9RAYFYc0idFnqb9R+qEGztn+g4FByq28U5+I1Rqar1nIpix6KkYB2hgOqmejfqIFB3IG4BJSPeMpVYEysu9rLgiYumZM+aTKFqtIRAVQByHyzEGRbM4beLhFmahgZSLyuknonVlgdT1/hx3MV9jUalj1UyNh66R/6cx/N0jm8rHnOB4mf5OSE4AJew8ONceEhl4y8XS+NKOsfNZ8+0pdNnTnF/c+rmdAihbHdwzz1UKgHZ19dTLVQIIJpYtTWoonQ23fP99o8QtHHMj9zZ9PcFVqA+x+rTvbFqeVdXV5wLY+oeAkXd1LEIgabUx2qxPawWOzhwLvUjF5pZjXhggIUpW1hIE5pvZRRWf4EjjLHoYUgDfsfwGsYHvOFijpikYYQYvqdjQvqvOxF3i6aU1SPKqRiNyvOesz2s/H0m9briOHKrD1wr72NhV55yVeIYqeZ58S5mwxNdfUroikrme59zVC7Si3frk+v3DkNAHIlzHVxnzpyORXn7sYdYFzL1sViueHMB1NxpAL/cj0sAGvA4dzKsTEdhXkA100drazvPtoYEkMLc6jJ6IFB3IG4BFzJA8YK7XPuxY8eqVaQRgpUsjVWutQDdIH87EOFBhmkUouf5nW9lJWNY6gKhKUNszTBNSwcKFYf9ebnNYh1y6igtmL3xLdHEaGY2iM/2nEvHjx+PawxiAxsu8i12sxocTVzJxnEGlUoEWAEfPU72FcJoAAStGMzNrb5No1q4js5SMFX20Ura24fRJDz6MaTEfqYMr+bOQqEdz6hMA1Y854qp1uU3nzqV955RKLe3MyoT12JX/6khMPogAN9fwFh0xdqe/r400GcHeECqp3MAhze3Znqn5U3wvcIh+COInp8hLCp5iTHSFnIkhUE5bdq0MGDCsRACaPR9/pe1RQUvjd8nHpRrSKfAcU9PX+oFxSd7e4Zvi9FX7wNfLhI6rNu4r0J1yLvc0VBfDsVcr8lTpqSudjoRdbn7EKiUm04/2W6AFaPP4QRt4vegK8NDBUPocVcYLwo/T4dhBXiuq8PtePiwVbEufT6OjsRQGj9+QpoCvi/wuzgW46MlrrrcdQjUHYibRgFModCjBAPgIR5AGQ6cHxipMZgiG9UjJ3NIj0ZieGmsA6WqEWgP3dLc2pK6urtSP557Oxn3Mq8Ur0RfXz/wysLCMRfP+10qioCDv5UgVQmFwgk7aHqoWulQedxG+FK3HYgQKHZB7q1S4NHraNXgYDQesGQaqj5FgStcFJqVPA3h6mVpTsWrR8dj4dHZ2Zk7slwHjHWpITAqISC92iF2xGDcuHGpH1qNcD4YYNDQBhNIIANDrjoUQVH6KSfc8kElD5WL8MAwD/mbTf6qyyiAQOBW4Z5SOyMG3d3deJYZnQc/jrrrFAo8iy/pQvxJA+zVgu6rPiR1cI7RCzsQg/0YneMHU3N7F8ZpXUYNBMQXW3t7a+rsQB8x6iCu84ggep9rFvn9/IC4HpTVq3PDHI5zwWNoAt0nb/e39UUdDFTwLFt+pP47SiBQdyBuGhGZlENhcWgYybSpU1IPQ7ROko2S+SAbfxh9pTSj+CJNKxxhr5ofqa31AoZxZzrfD4MN4mnp7EjHT58sj9yze41dYTMV2Di8qQgo2VfcA6IQNA5jDncgAEnIEQ1pznfiberoaCdspy+EVEd7ew6Hyii452CT4TE1RiBsfHjbKjhk4ZlhUtK9lg8ssCqdBuGZ50QQGnD2bMAm4FYeqPc1BEYZBDQSdZZMwLM41NWeOtrao0N89lwPzpcsC/VeuoW1AHPI5mFs+i3KTIncPXW10BkZP348hkt7jOyNss8du80RldXXj6PzoMxuY9RYfIXzRO90dBJ1sFV3ugOvTVVHIjBfkYHnpQPxPIHOpw6kBlfd2IXzKPlydZVsqW6aPGWysRR0JDpSP52As4w0hpOMtnJb4NHRCFyp+dgHo0RQYkRxGL6sI1Xe1l4qjoIgkeruenf3IVB3IG4WB1ByMzG5KrZBMoi0E6s3ZdqUNC1NDckpocssJdtA1ocoPYSlRp88417GsI4m4uC7uroRisyFGLLXjcAsfHWzbbzLz/ldA8wJMWZ13LjugIdNMlRL+JSiCvFjvT97ohAteCP7USTG0Kp8OgjRGWR41PMqHg0RRyaiA1cqugf2Gj2GG02fPi3wa/tlwhhxaACKqJdm9Nj6jHCRVsJoQqB20dnsITRMGrKOshcmdakhMBohoCxsJVQpyJw/jipqZNihkK7bHImDN8ZxPsKTuD8m4cbHyBFs7jySN4LUpX1Gf5EzFnlBOVKXuwsB8SYWlEsh07EgGUdO3TjGWsDRQCseaPZtba2xN849Qlahi2YF3yVFnJp5TvGmbuyt8H3JbfXPuwSBxnkM4lXlJW+34fgbgueb4e02oyzoYLRKG+K5GmGv2JiWo+sqHEsBgxzbkZCGZHgeCf4vDjd/1uXuQqDuQNwk/NVRDsXGBLBWQ5DycF0TTCKBy0QSfBA9f5oQoDFsy5k8VAsvaBiyKRxbCHD33hC4nBthqpts4Ch5zBGIECh+N3BR0GhC+K3+jgOEjYfxx2OVjrDhhqGYPOxVNmDoc9bp5o97zVgQFnwaeDae14xUfgR//bCqBFw4KX3EZ8efLEj93pHRK2knP5RhrNyuTpTK6n0NgVECAWk3z2eSBzgOfs5yL/hYPoAvcKtkFwMyFZMj5Ed2xCBD5JOKxpUkA8gKTykPwtAYJd865psRMk3MgCVlnhv4tmSd57F04IiUYWvKMhOLgMvhZ72joJvOJxfEsbSS6cHa6jIaIBD6B2Spr2POCjiUx9HkwfM5ZI2WiutoMHwPvg3WUPeFRZAPwG+2kcKO4l5poC6jEwJhp47Opo3uVmWGyQIwFCNCLQjePU2PTSbidxlN8L4mPOhxjT8Vv4SCtL64jtIM43h0f/51t87vKt8WgsPf1dPl++MnsAEAsWX4KERyylLjJz0X8GEfxyieVrxX96IiCc8L35HpIqASIKgcMnFc/sS5MLZG7hMOAKeio0yDGc485bW61BAYhRCQRuVeug7Bt5IqroCQg9J0NiS9ltVSlqc8olUpWcf9yg/rkdRLPV6sy2iCAFovmiPKxXPIJ86E8ywcIw168irnlX3DxUqq0ni6nKv3dxcCdgSDR0G4nUFLdA5Ks0Rf8H92HHhaGlEWeCk2cCxvy/1ZVrCv0C7Oa7wDhFFW6hGIm0VIE0wSFC2FyzBuWbWFiqMXnZkgM1PjaxyNCO6Kk1mQNl7/sh+bmrSxXACWWZDwl+Mhf6swvK1IDY49DGh6zKan6stR8odICRk25cOAAx8tPEILB0C+HF9cf8XYhEB0Cvj0IjrdxzlIXlqX8kMWSPMaI2F05GsBMc8N/6v9XwGTe+aP0rtxs+H+tgRFxD4y9gRhNOK6kpHqBv5lSvG5utwbELgEZ8Hfjfxb6KBaJ4rbi6xo1POSRaaEe+Orv+ytrDsQN4nhYAcoXCK3FGIfPobSJXyzLeVbNA8VfrJAvr+RMeLkl/xP/vICj5GPDVjys3HvVe9vFDGe+1KWQiPuAYJwCDXLb+2nYlh9Kb+9/qixAwEJmwJJX1bKuSITpXlvjD2HZR/n/G0NVX0e1mWUQwBciduyKefKsXvRXfbDuOYcl4Y3v/DS356ry+iHgDht3GyxuBz2HlSOgmJPeakuox8CdQfiduNIrlAafm4J9vncu76MN1z65f6+0vZl/PYb/aZLYXWjz9f31xC4FyFQ6P7Svd9Szt2L31W3+fMh0Ihfj8vmk43Hn19TfcfohEAjhkdnC+tWXR8E6g7E9cHp8ruGu9Necqhd4cY/utD5uHH04UqP53uHr4TrmXPV3j6Iiyn5M/9xf109k+Eqv+iDPLoiICKIK7wLNr/MYcjfxJmruhniDp/IisKqykd4yZ5ZFV8ZaePCaxEXyl2jai88CkxiYayqdXE2wFCNR1WfkHfQQP7SYXzHs3GygkbjcNcwhLxWtlEFhroxNQQaIFDRMIItRtcqeaeMq66wlxMiEppj9l4LmVJVU5F5iBGOgx3Kw5e/qeFMfXgnIBC4uaoYHkFQ1grc6L0gX4yr0twqB3RcijDOuEeJJu6zZPNBaSOj2hvqctchIDKGUVEdZAShqsUdGBOBXCq4Fr/SgqWospEq8sMR1my4Gj9zWG/cXuE+H9d/7z4E6g7ETeIgGIAsAlm0ZfLPDJKFYl4oLjPIlV9hNoKK07yhHMoxVbHWYcYqJ+/JfTYJ8vdoEox8Y/kcz6iIipQpd5R93GcF5cQ9DhjD2apuVgFBtfcDs3jNn+vfxo/1eokXrR6pdzUE7iUIyOfSNKQsJRcpOvIJhebdO83arHTyRJYjl3KAd9XlbkPgGlgoPT1xWG5jhrQBvaEnL2m6+sHb3MR12TzjFX/Xi8gBhFFcgkdNflCVgsP/zd57fklyZQd+L31medveYwCM4ZBDUkstKR0d7X7Q0Sf9x/qwR6RWS0nUcAxmALT35W16p9/vRmZ1AdNDTndXAYXpeN1ZGRnmRcR919/77su+/5DiT85zboQt5khkKd/f0JOyo/nfCwIBRzJvOQRyCOQQyCGQQyCHQA6BHAI5BHII5BD4kyCQGxB/Epjyk3II5BDIIZBDIIdADoEcAjkEcgjkEBACuQGR40EOgRwCOQRyCOQQyCGQQyCHQA6BHAJ/MgRyA+JPBlV+Yg6BHAI5BHII5BDIIZBDIIdADoEcArkBcWFwYDJlzKoFVqiYTKZ+Mw3pwjxo/iDfEwSyqdVMKgQ3Aj+mExK/p+fJb5tD4F0gEBVZnBrL/9G0mtoEl09w2g5zvH4XsObn5hDIIZBD4HuBQG5AfC9gz2+aQyCHQA6BHAI5BHII5BDIIZBD4IcJgdyA+GGOW/7UOQRyCOQQyCGQQyCHQA6BHAI5BL4XCOQGxPcC9vymOQRyCOQQyCFwlhAw82n6Oct+875yCOQQyCGQQ+APIfBRLSSXLWKSZZIX+VFiQaNY4wa4DMnFHSJ9BnxisRoWuhliXpUKJY4NYwEc83RL7Pf4kHkKIz4lPkU+qeBSRzTXQXEfvwqc63asm8S10YknRd6vGz4LyyTFMX+y7fnFEtslnq0Yz1iMDjzuG8Rd+D6DFl1Nlmnx8ezSd4kvn413FEbxDnyXWOLH1SX5LayyM+P0OGfkM3PMTywQJJB55hIQK/FOAaesd+/Ax/ex2RnbwstdbI9HrkIppGnxzYHJPn+7HeDw+Bm2aZ8TqJy8e7byte+fwaDAWHFw8vGxs4WR4lV8Ht7Fc8aMoX0VeX/PKLJfnCk7xryG8CyWgJDv9I0GZhQz3BCX4qhAj/FwcS1wI5XTYARu0qc44rN7l7zlELiIEMh4gyQDvko/zIMAa+PfeCw9sA3Oi8fyCv/JQsR1t7mSc6QEv2G0brLtomIDaKDH7mEJWnGBT8/jv5RTkL7kW3SW8a6MfwdVeTPvxSdv7weBwoRpxnAAcSHptnItxjx4k/yMMWYsXV8M9h1wd4Tig+zghNjM+D77uc4d7u73+orHkEGD4TAWoXPc4sNZwa9jDB3VbAXj6Mzt6IqLvRf3kVdn92BrPIgPB/P2PhBwiGjZOGffocNIf+gLBeSTEtBxZyRDToX0cjgcjzjmd7btblEjwx/oVFxhXEfQt8tJDoccBd9GaRDneN5J457qaspEZecYhBkVKmxX6B39w7/cZnpXV7gWF2zZ35Oe8o0/EQIfnQEhXETSjJ2AQGCoCpjK3qiMsTBUmQP5QP6BJ/E9guPJlvw7XWG6JxcEG2tFlDg2CyB2NYQfZ4KNQ84ugtCiuYxUevLj2or2N+J898tI/W3rIQm7PM9gMEy1etUeIEDJ7ryb9+ehJ19++0wK2wJMf8DRPtsaTcrmUrmcRgplSZ1zY6l5jsmco58Ark+fUt3r7XowSGXeNwhbiUCTiQsT4ToM4wC4KRxCuniChp2/YRwDWAZ9KDBUwkPBoN/zajLE00p9PKe8C6VdgTkoDIGHDGqcyuJNWYYlk8tw5cSA4NmdMFrynXneCt8BD8a/osEFnAd9Bl4YeROaK3JneAKOgA9eL55meMOYcK9hf5R6vUEcr4CD5UI5FXk+To4+8j85BC4eBDJcDvqWtsHpPnis0SCejzUK5Bd9lDroSiNjxEfWUoIPTx0QEzIJGpFvDDi3D+sZQE89eKcqC52lkvTAdxn6GEGv8i7puj+SXrlAuoTwVE7C2XPxAPYDeiL5jlIya/ELeJdK5VDdHN/ecJAqNXgaMk0ZV2RMHf+hY+25GHjZWCvz2KYTx9y+hvA1z+n2eykxdoNyIXUYv+DTwTszGR7cl/799l9R+THlufRTQm4pp8G2wB//ym3zdjYQEO4DaK4/6KXGqB5yfzToM3a1kO2SJuSIc5bxlKY5H0Kc6GCOCnSK/HO81bXUORD9qct5GgTqZCejK7JwRfxnW2fvCNoe9TxJvoGcLFZjvwbEWONDHjNp4pUI5/3sKW/vDoGPyoAQ8UQ/WyAP3+H9BYnavV5qwZzaIHtfSQPDax/p22Jz2AfJgjXxC2VOnFWJFf05T7V5caaR6ijWQzwles0yrAZZIRLuknnAJvgeRoNkYJ98MgMDoXkIgUAtCtblpUxw2tN33yRkaUvBPkot3rkJQfeAzVAhwO/SoAORS+zCQ6L0XSrZa8fV9MBx+Hxanp9PVWA8AjZhYgR8ONV3dzw45rgIV5WL6I99fe5lV2UIXGbT7XVSpVJJZY0rLuHMuC9/zrWFkOIOcTfu2wEOx7xbm/ceYfBg3aSjCRxG7M8qzIgvskfG33FGaIl/GlIL4MpMpZbGGABGI7w+pCU3yO4xgYdXAPeAk3Dhd19DDDzbPYCpAs8qwnR2dg62y3MAI/EybzkELiIEMtyW5nGWdLvp6OgoHR4fBw/WEAhDG9zGPg5akS+E0QBKF0LuQwHBKzyeKf7yzmKjlnaah/DvLnwBBQK+Zct8jnLfCa/F4RNKhcoJNCylVFFwxyg7NRwDCxW5U97OEgKOabfXTQeHB2nU76fK0UHwKHm7jijHNxxCjJLftkwuOsaMHUgTkdj4wZjD40YYBZtHh6lbUUYytoETnMC5DC3XuY9j8NwZ+hgi25W5RkCGI5wug1JqVDFeuJ+RKw2MvH0gBKBDx83WbLVTE7rutFvhRB2jPxXLNY5grjvejpk6hHTOdvzDWnSIhxr6k/HTQVsoV9P+8VFqd5GRGH9mimSZHUTevZ0XaQDQT4Vz1Vf6GqeMa1kHHTodLoRw8oVs5Lxpi+unP/Lv94LAR2VAfBtChsb0fhwjzF7tbKcOyqAmQxfEU4ktwvhEdRXlAhxIpFShEwcjFCZX4nfV8yGIqgyp04tr3D+G0WkVB5MD2TPyUvEViUNKxiMFHUwUUC3ncsnog+cFbZxcFyefx5/pg/H8tizyAFHy+/joOL3stFKXc4SJBsSo1w4l1jcKZTmu58+gxZtJzAh1+ily/kylnKrtcjoCliMYuURbivM5AUB6r4x1eGeYuV82TlQYlGHufQSPXkTvXwc+jlHA5hwgo2HieMUjTL59johSodl0UTw2t3fSfmnC6GBoAxgk7jAYo54tFP2QVr4CzFKGZz/ss9cKv8vAtdvpAq5OvN9YYcpBweJ9srSn7LfPwyWTlnnOxjjhjEboTdOTU+OewkRczoTp9Pz8O4fARYIA+OnjgOM9DXB5AjxX+ijhGNBEHnc7/JZWMqSXX0gDRtdUUMKgoAv5jPgu3tdGcygY3dTsthOUiJKRKYTSm70YRdXQCCM+6MtOOQBNVji22+mkhXo9LTXq7Mzbh0BAmMdHBT74IWIBXtUxcsBoNZuMLzydwGwqdD2Zs/mvoRDXOS4ec4j4nDjj2K0CWKiiDIIrR512auGO9pzMAcc1HLcX5Ykff+/hkFOqlEumsZD2Cc4ZBb66ukaWQYWPEXKvy9vZQEAnF05YZGL3sJ1qOLjUjvqkVzhWNqPuY2hcwz4bfr89iPQkbOjYmTotjlQbs+mw3UzH6FWRymQH0vCJwBQBuIM4VGjThX0x0oyrzt2jZjMtzM2lMngzApmMNtrib4w7fU2eKw7kf94JAh+1ARF4gwAZ4wnpgUymMI0UNiIgiCgSlkBUgVRmXxkFUgvX/TUQsYSBUMfqrcPQVBQ7h0epN+6GMihlZCF47uKNgqGCtoHo/CHnVwKZNolpZmYOq73HPfGyg/B9FO7vpfEuEQngHTSeugjaftlcQtJ3iDKUOG7aDq8UxMppfGP48A5lv4GNTNrow1y1igQZpIOtNoSK0utFHPdfllLA7wmIBE7mncj6BdBcM0oNPIz1aj0dHx6mcq2KNyNTCNTTz7pNjYdv98ujxzCqAmlE9DCMVExC+eHNHb+SL0wTFkXwxuGtiDfgi4LQ0HkDOCK2UnPvAHgGAKOPTOfJYCITlCHGH74DJnwXMEajcV293khdlC12phIRmX47M35P41R2cv43h8AFgQC4qnoAg0gFvP3Scq2G+QtxdVDsbGB+hvfs85//baZJapDHdlj0Ezpjv06GS2traR5DXCfQgPPscwB/1pg3Ucm8aPmPXUS6pEoMvBzzJTyWGaed3Czukv95VwhkozO5ih8Bb2BeqSnP8A6P+2lhYT51MPYGwbyBt2NJU380Gp8Nf7bPH4EDgRWeAHbolJqfS7cWF1ITBdHUKB04pryEY8l9/qMv8aVbGYRXO+byIS90vJgyij9bMUT/culvPLmPk7d3hQBjE7ITUJaryLhBNc02FgiuY0i0WhFtktaEtAZEhBRjjBwnd3rEbUecbf4z1KmKbnV1+Xo6hj8MGNseeCMNd4KeOcfzvZ6P8yM0XjKTkXvRQY85Ln1uYEq6hmvezhYCH7EBIcKKgPxBMRO5uyCcP4mbBZJONOQTBFeBcxK1odAKCFlB66uiHDYIz/l7Ti/53EIwpvCUidzBn/QcZ8zLO4DnEEOm8EkAMrUyFvnK0lLa3NpJHaxtz5dQbPGM2eZ38le9PPIPfQreT0U58g8hYOlcRhEh4ng+4YESSypAmXcqCxfOr2lkCRMUhFJ1nGYvq2RnzCI8UPY9YRpDXtT7yfSFhfMg9KQ7z2RI9GFudoY0nZnUxFOo19HnE24B4+jjfMGSva+MjfvyTgUMGBM5/S3T8v2dYB4eN5+LbaMDGlpAjrEFX1T6uW4W5toAVgvgzKCLsUgfJULx4sUJ4wRSRnb03MVYCA/6cq5NpDBhvCyBK9s7O6nb7sQ5hnYVrtlTni888t5zCLwvBEKIg6syyT74urq0EArH7t4euIvCgIGtN1IHYxRegG6mKh4UBgFyqdfTII+sYYwUdSxgUI/xdBdVKqUEvM+RzmQf3EvHkB0ELUFTMlj7NO0JZjTpLP86CwgITXlY8GsG0LliRYyIlfW1tH9A+hFpY2XnRyg7wumkpzqTJRHtdZx9kMkgD4x8M35FHTfw0LKyqIvCSEqStSVUFMNrzfaQ+2o8On9Qx6DGhSij+upctCKOHv9xWkS2jE3k7cMhEPoK8PZbA3FheYnsAbIOdKZV6ugRuhiRh+oKDK7bynBpkC++GSfGWTmoPsaIpnKjgaOVI5zQwfArQLckCcecTLNB1BdC7kUHdsKgMtb24X01K8dej0weIKsjO+DDXzXvYQKBj86AEM+iyVFUXPlmKxBUYSOiOiHafSqOUd0GJIXPgZugJQfE0SIu5TLbZSwELWp0QCY+N1CazevkOJ8QVH7Tj0xMo0FPWJ/tESksevn9wAIDsSU6JyD5HZVD4rl8jnhiKe5M27Q73/UbjQORdwqHFToBKv6UfHkhw3896jFplx++q8diH/tNUVKIyySEWQW4zhJGrKBUyyz0kustyhrhTc7pBWz0IAxQrFGK6SOMCohfr0Od3yrQMfEYgW90J1QL9p1lm3Y3hc2bvmFGvGg8EwdlRMJIRUeA+O7hQRM3VEx8AWAWkSs2Pe6kziIv4Xn1ai3Cs8JII5NDgjVyPGV+4kkXWOgt1WM3ZNsWRhbXOzIxQZ9rHYATY8r75i2HwAWEQGAmf8RhmVpUvpvwD/mBpBTGuamfGNs15gkZvdMpYdWyqHjHpRlvDfKCf5JyijLaw1iQHxMnpf+Mu3jMPkfkROu1UWkMBg6NBO+Ahzi3Ikh48vcCgu3CP5JyzhaOFran3+7VYFT+qfzHhHeOI+1CNgrykLecU8XRpOOpwrjrgJFvRrw16zoGSQ7YZYJ915RRWlTRMcoU/Sg3GWfGFKkKDkwNRk50vLmHVQ2NOk3llGNfhqGX+c7bh0FgigMhfmK8keuMgTSuzFTJD6OB8TG7ouZcJ4SnqcnStzStKCtJtCAG6gNG4RC9APnHtTprNQrDGOSM0D0muOEVkrwyMKKU3pN9tri3HXNMfBM3TzefW8df3t4PAh+dAZEhDEgE8ilQsrB4YBhIbsqMjIuDIFYogiqDbKv8qSSr/JFAw28Y0gQXZUhxCdQTnhb6DabGuVYnVNmTLrIJwqrkmWLukHne9DuqdE72Tbo8ORbn8Oeb6B+Hz+VPPL9g8sM/WC/vnpFlGFEBh+zWRahUg0p4ldgOrzogDYWZS6TP8BbAscMLyL5gOCrkvGjmRciECt1yJz6+KAAO4cN52e/smCdEdSp2nhs8fAjbqRu4S4bkJ/iR8OAjDhUBioaT7yVuhE+Tbb1pYTxwbcBj2uUEV5g6z+vY85u/4UkTMFxvf3GUe7IZTVg4EpOfJ98hGD2QtxwCFxAC8g0/J21CS6d3nRwT2acfaSGwnAtsfkl6/pM+OOwu+w4+LQ2wI/gym/Jz/4VZwcnZc2S8PLty+peT8/bOEJAfCX9AnI3v9Le72Bc8ExkQ8tIT+XiNHxunZCdysrJAWZPx/jjVo9lJk7ELPgsC9Is449AkNUh0QmlWmFvvbytzxT8NBvZneBd34vbZ2LsvjuU8UwifTZuO7aQ3x169RgMhxpz94oRjEzpRSLJMvhutcqdSPRN/QeQTes3oWfp2FEuc4D87y+alahiqz7mPbZSO7IxMx3MOq91bzS2ap3k9TR7ybcMiDuR//l0IfFQGhOjyDZUz8AfMZq9uYNB2cpxQWXCcyTEQDTWQjxd4ji3YXGyddBO/6OrNZYG0oqx4HdfFyZMTT325Oz5Z5xPUPnXCOW+evO7kPtPHzL4nElmXzbS5DZEGwZ7AbfLw03Mm31OlW0aiEBGScd2k22+d/paf036F5IQBfGPrLZec8a4T5ke/Mb7B+PgRMJm8mG8GIKd4NH3qP3gUDkyFqq8zVXQ8P+A9Bf4fXPhmh+dO+3fs7MPv6b43Z+ZbOQQuDgSk3imO/jE0P43b0yef7ovvCa5b0lGeIi39WwxTnzQ+zcmd35wc5adlzBz9Y88yvX/+/X4QCLgC8il8p7//WG+OjtFbHVLK6hO5xAGP2eKc+GZcqdqT8T1ldiaT4m4TvhzH4qb84UKdd0bAY04N26FkTjuO3vM/HwoBwR3yUnjzkT41IN7WppQXehm0OJWzqgbxsY8Yv9NXa2QaZWJIOShPsQ1j/LkqLsi+Pe5HI8MIhUlUp5v3++ae00fz7X8PAh+NASGjsBZ4LM42QTkVWTE2kGyynSH/FAk9I7BUTAWWICPfMioZULaYHIh7SpBJLKEk27WY7eWOwgSJ/fZ37HP/W1oQkddPPm855Ux3fftZsjeNR4dMgQAp0uHtAABAAElEQVTvKuP175tzs33uCGMrLP7TRzPGEUYDcKByXkRjBEnJXCSaDML0rwz+sevkTzwD3QmDaOzIruIajT0O6HE46+Zb2msMt50zmCd3YSMU/yk84Io+e/ZgwEMG5jMFI8tYo/GqafNQdn2m+NgxkfXI59Wr5rHAD7Zjc3rh5Nt9ws82hcWbDY6xc2qMZGflf3MIXBwIBE2J25PP255MvA4c9hy2p+f6LSV5TP7qecF3T3+7Py7Kjrstl8qieG7xmw5ifzyMJ2ctrpv+yL/PFALCXd72hhO+6X4yXCc7YrzZGfsdaz+To469fNL0FueX1UxLs+w5x00pterOmIiE812KureRE06pHciPYZxydo9b5c5MgcCFwAc6zNuZQSCgyaBl9Cfcs88f3IAD05QjB1lZqp7gtsPnZ+ogOOnLceQ6Ze203xHbGhPuUOrG2Nof21P8CQOC41HExQfxfM7J24dB4KMxIFQDi7oekD7gJUgGeoFdKr/GEqI4qEhJfv1w7DyGLN1G5NTaDYSdSK5MKcyuy7zNmWFyIvnof4LPXDfZ9ptP3JuDU0Uye5bgbzyhGM1B7hPlP9mMfqQY2ilVNn5/6B/TtWy+lr1PQ3n+lLBV1P1XMLVLCAmv2BJuCoSMQO3GkHFlwowzApaQgaHsnccvwQmcdhwT5XwvOuCSiRfBbXdyF/oKs42fTpiK/XASn83QpOMVQWrOi1xaH/0Mm/eO5sPxf9p8b59PATZdwVz4OX4+k+9WDMOG3wyu1bx89imBBSywFvSSCJ+SeMX7lIFLwGRyP18zWmyc/PAm7MZoJW/ULfO9vSSeiYcwFWpgeDYbzOgi/5ND4CJBINgN+Gmao+htCWIQNujJXGmTpKtoAm7KH4LbsC3G+y+cNl4BAXhlGdYiLcRcCugp0ldQEF3kUX6hkuktmtDFEN4ft4NW3B9ziSAXO/IraInvvL07BDKOlI2JA+KYOD6mhThvRX4Z8wcdU7V/fss7Y4zdF1d4VfYBA+Cryopsl31FCiz74kjwSre9FultX3HFdF8Wb3Jgh1iZ9jQG5+If55r+4vJ2XsufwBVvlbf3gEAMtPIf6OJEDKeeOhTbGnCu4WSmwslYC29uE/I8wM8vr538U4YqU7OzxJ3sAmlcHS1o3LG2X/aJCkHX7FOn8rrAEm/Lr0iZZssCiWJC1i9/+e0vMDOjfU/O2ztDYKrfvPOFP8QLRFJRRgQVgWxT9hWqPUKI2csglMwlY2vZGRlSTlHu5IhIPfm86Ue0tH0TIzOiyPZOz/CsQOmTZ3FP1rInzY5P953P9zef03tM7x1EDaAkMpnB1OqPiMMUgEIqtr0q3oYOsu+MvfsTOMG0NQ6cdOyZ0+alMgBOyS6bHIhz3Dn9xH779S784x4q4mfdTj/bH/Q9eUafVwPL9/YZgA5PBJz4nRlC2TFf1CfM+nRLWGXfGb6IP7z/CQP12Kn2lp/CyzZx1MR2PA9bUeOavvKWQ+AiQiBwF/QUX22ZwJc+pAb+wSAy+sjo6VvoH+cEMYHjnu8EWL6CBwfayw/4RCoLdOZZ8d/z+cR9g0aNq55uk3NP78q3zwQCwjk+Do2DFPwvRmZ65Fvf/gxsYMPt7JrYw34NCwc1/k7GNdvjGHtcnmz/2T08BoYEHohnCn9OYys7x6PxSG7k7d0hIIAFK5+AavxWx3LcpDkPTD+TTU/9Iy1k6MmxbJRCvk3kZtB3jG42vg5sNpLxACdXxoaPMNkTR/mRYU482uSUt1z3zV7yX/8GBD4qA+LfgMPJIdFJD0UwrlN7pQM/Mh9bMCH3uT35xAkefEubKnkemp4//Q7B5o8L2nzXTEn2ASFqACGTNnTss8sk/Ag2gzzTZsTHCdYhOHg/YaUAiIpBbE/hGd+T9/ccPxe68YBTPHBSVzZLnPfn3aevn030y+AhczViIIxKGGLhkWPbV/aY10xeP9u48AC40KOTP9wFhsDUgHadFFv8PkH+tz+4/OFtJGF6g/s15IO2IKYoVMBvydLrTHOSR1mYQOKK8ye3kYbdnamrHsnbuUIgG4K33uL0uLzthGycvnkknFIolsqdGMVwADLK/A4+zHeI8jiaXesjyHMDHab73Zm37xQCMWR/5I6T4XRIaVNDwXGFzhk8swQyo8FTpPXIEfmGISgO5MP6RwB8hrtzA+ItwAzEEwEnXOYknM65bxjZFD0zVJ56PKZ77Tbwn+8pQwukniJ29D8Vbhcc2X1wSXUKjwn5+lNBHWlHnjL5PdkMoT41LrIQJsxegQ4T8Byb3yHs3RZ4k4unx9lzYVsGFplZhgPh+fL9MK6meOD7Tl7pDQPk/eOfx9Bu4h8v7/ufeMMmHQSMp51dWEjkD5ZD4E+DgAaD/2IRRenmBOG/eX3Q/7fwfkpH0zNVBMN+Z4d8Rv4U1dnYOV0vRkI84UEcN2IYkTpp8FSH0lnezhcCgjs+wPo0vKf7vfvJfs/h9+lhOb2dOa6UrdlZRh8y5um3+7Nrp7tPj3XcZ3Iv+bOfvH33EGCI3oz35PbusznWYfjzLU4Y0VDHChpnRza+E5kZEac358X10478kbdzg0BOOt8GbWB1tjNTek3dsXCrGXR+QN43YosTM8SedjMlimCEkedumspp1jc984f0PXn7CVEKB3Mch1gOWY5hll+scM7em/fF0x6fgBmbvK4C/wcPilPDFkwsXshJeUzYc46DH3DC5vF4Z7aFoPDQf5LhTHZsetzzJ+B1M5q/T/SrHzoKTd4p/8ohkEHgjyN0xkPeDiePvfkQz4y5D/aVHVDBkD9Fkl/swpqYdKjhEGv9TDqIqyZEF6e8/Zb53vOAAHCXt70N7jE83DP4H4N0mkf6KNl+R28ik408sHd6vqiQleXMFEzPnLBkt6LFuWx5L6/O23cHAWF/uk3HwnEeMYcpKJidMW6cOE1L81v5OZ1reHKGJ6qPcDQWjozzxI4MV6b9nL5nvn02EBDGH28LxAMpw2PsNwoe+/wEY2FjABqqLBdKFZAzO1e0dJXDWCnZybIsiuICcBLCG2aUkUkwSKDsIjrRMee4qEq2mBLns9+VFU/SfIJwJg8RPX73wxOMfXpb3tk3cT0DVw31h4vc9YHJgEXz+uwKI4LX8708W1g4V27IeT2OJ+CjMXbS7MabeC3ne8R7ZN7JN9tTmGTC4AR8J918VxuOrI970nx+mZT4wD8VFmHQZ7BHrJQ69WgFvICZOOBqmOKGlbtc2dsVvn3xMYsf+f7+EUR+PM9PrKDJb2taxwHPi7MN2/NAfDzmNQHP2HX6QeOC/E8OgQsBAdA0w/V4GigoEF7UzmhJXhh0wB+xuAiNyDejwo4Xf6uJ864bIG+S37D6HFV3OHFSTMBdkklBB1ChAj/iOHQ44BTpy5uEkc9JQZNekLfzgwDjPAVxNvaO+4S3cWB6zG9FjZ+Mu2b8zUXpCo4tsjcWXJWnOkGe811h2gu8dgx/1bnV5fqYV+N4c+9QUKNHdnhe/H3zPfmZf70LBDJQxhUhvyW4KWQz4pMi2aPMmkh7xylonzHhmPQbC//FtY55Nu7Spl0pM9Uj+uIPH50EjDbH6JXffc7pKWQrmY6m79JjGV/xRNrkWbLes1353w+HQIzDh3fzw+4hmBloK+KCdSiALjoEcqL4bh8dpWcbm6nDaqZGIgIP+dNHYo1YKdVl1jUkVAjNtxWPZVRsRY8qen2URPcrEK3bGUf4LrrqJpVHJAKPX5jmS06aj5UtHq+i6z8VYd6ZZ36+vZ1e7+6xAihgg2mXfbcAEN+sNjmg9MGQd+yqBCgoaJZtHVJ+L97X9+ZWWfjZgwKJe/AtU8nGJS6Lfk89Vrbzu/obD3nqZjxmgXdzPMvlKs/JuIIL+512evjqOcxskMows6FVpBhtcUmc6LsUZ62aeuKMx4CJK2ub8hSVZIALO+PdZbgaINMFceLuwodmRZJg1v7gHG7iXv/w9Wbssh353xwCFwMCgZni8ARFpW+NhpHlOOUs4HIcgj48qT/ox4rUKo3BjzP0j5eZ8g9/uEKxFcgGOnL49KArV2mXh0gnhVItHbXb6cGL52mv00oFaFAniBWCXAVXmhui3Pidt/OFgOMbH0HNZwrxMAwYL8fZpox01eEwDMGHbEVreCg4EafAX7t8HO8sPk5PnFwqsh95++DFi/Ty8DDkj5GnkLUVV7nmvEwUxX0MXpgqk7czggCwjPGlO3Wf09vKS1eYj9F1TCa/pVFloEag+DBduHcawR9w7oixS1VkaugR0DUHNQrFl639g/Tk9evUUQ8rY0TwVaLvLE3yjN4r7+atEDhFSm89/me/c8rAfNFAdpDZUps9BEoHJW/vuJk2QdBWD8YFgoeCLGGA1M1RL91/9jTtHB2mEp5nlcDThkCIQ/mVQorze0OrUnMXtiWtPkbJdGn2089x0YAuc/e9FLISrgZPq9dLr/f20kGnw+8MLiwMincgU5Z3jo/SV8+epKNBL431DCinoexgDjIOPhmDERI0YIKUOFGMFf5Z4yh9XqwG4wJHBsBjgLCSifVQgjYO9jE4j1MbvBmOMRDiHVCNgF97NEiPX79Kz3a2U5/fes4iiuD1HFOBUkjK/DKIZMrVYDiI8zJmyBFhIWj4hHJ0sQCTP00OgXeCQETXuCLDa6nARoUleIYGdha5VbGYHvFo1ix/LMHIi7tw1kevX6bXB7sJjoNykYk2r9RD3R4M0ubhAfyoi2ea4zA0Ixtj6FZeFMbDheMzkxf9M/qajl28krxOns94BJ8Lh0s2vvJA+aZG5kB+yljpkHGcyozXrvLl9Yt01EcuozSifobxYP99xvGA/RoQLcZd/tyHH9uPabbTJkb5MzcgphA5o2/gH/QspU5oSvnl+I34FHE2DhiXPjqEx6dRRK+ZyrQYG8cH/DjudtLDly/QN3ajXKxGhHI3dCmiis1+DyNiH13tKBwHA3gCdiH96sDL23lC4OM2IOQlpzBMIWUozfrkhbrhbhBRLzoI28bzEQjLNdrQepQ1MB6+eJbuP32SWih6htBFXLvNGltAuAexqBzWarW43xDEhtudRCDs9zThTK++KN8aDBoPsmJfyL+QfhrjyWvzLsImvH0web0KRYyp7ePD9KsHX6cXezt43rPr9TDq9ZNpBDOB0Ct4kEowFD0QoSQHw9H/xGkK+CkwT40Th77npmeMD88XXlSeJha1Yox7SKQOwkuhFWFZxl74Nfvd9MWTB+l3jx+k42E3FapEszg31oBAmQHF4nwFqdsl8YP+pp8+uCY8MsAAlClcpt/fM0Ty2+cQeHcIQOfQhqStsOdP8AF/d1UuQPJqpQp/YA//RXUdGX5ssbaAO6GTJjzo1/e/So83Xkc0IuY74KAhpToiFPKpiFLAa/rsC9qDX0PIcX+fI2/fHQSEt+M4wnliE/zyvCnfM0qtkujgeEzZ4TVVnVHwwkcvX6ZfPnyUdts4sEgv5nT2M6502mbcO5w7mKkjvzMDhcMht3TYxf28J5sqQH7n7ewgkBkPb/oLw4DBKSPr1YN6vW7ItWoVfcjG2Ma4xBi7I6NJDTsjRse9Tvrt19A2DgLnGJrCpp4hbvQ5twffGFbQSxjzPnpKgSiHaUw6+PJ2vhDIqzCdgm8oqyBnFyXuAG+VaUutLh4O9mUKIRgNkvIzLGHz/90PNiuHgiGqSE8ZksypD8OScI5hdDt47Ouz9VSbnU1DPPfNVjuIR6ZpN/yPz6lHuhCbzm3Qy2fuYbvbxdo/TgSHIzWrAGNQUdZyAhzxkRngNyfykOWi9jinHhqyHgHzV0lb4Fzf2++9g4PUJLVgdmExjIlen6thChkbEQRu8Y9nuBhN4cczwcyMIm0ToTqG23UwDJy30EGZERKBB74HA6vBOZbp1Qi78x4D9meroocOAwy9pECGUw1caaft3d1UnZ1JtUYjPGcd4G66UzQlL+cLDS/LWw6BHyYEjALoayYyaXoffLQLnrvOTA3lrwTf3NzeikWg1ldXSZEU/zOMD3KBDowe6HF0cXv5cYWPcxzkva46K+fW69xDUR3BuPeIFveIKq8Vq/Di+eApGi/yuIyifpiQ/CE99YnxAMw73UGqVqtpttZIzWY7bTUP0+rifFpEFkwdSCGX4Zk6mXSwRFSqaLraNG1YPAICnFhyngvWhEqljq1npLbMcmxxcSnVceAV2B8MmdNDQQVvxJW8nS0EThsRDFvIxSYpvpYwX5yfC1m3BW1Lo5fX1pB/yNMgap7Dbz9BvepQjBljXcAxqRv3ZLzACR2bPWSwTs190s339/ppZWYmrco/1KtCsNpX3s4DAh+VAQEe0xBWIKZGAPFrGEoW5tJLrGI7LNfTRnuYdvZbMCzC2+xr1EppfkZPmMynz/5qqrE5Ou6kFkj8aNxNr7/8bVopN9I/3L6TrqAEVtEYXQugDFWMq8X0eGcn/eNvvkjVtZV047NP0wa/N2Fu8416+uTWrVRptdIR1+wRdl2amUUIcgOIJVY4ngjNNxTme5xB89nsJv5I0xmEVGRNRarwLYHXRnh9gFobAf6ivUf4+BjiRMiP+unqwkJagLD1Fo2JNESD4HsdfAPlWvrd9ma6v7OR7i6upv944yYwMfd4YkjQf5tzf0l48tdPHqfr9z5Ja5cupy8fvUSRaKVL64vp6vqlVMDYWuM5dhEw15Zn4P/ch2eWkUzumN33HP8KqRB84Iz3rg2q4dHc6h+nZ60DjAPHe5xWEVLLvLeMy3kS4hixCqISg8jN3u0P0z998WVaJez+N7dvpyLCs8IZvovelS7fjzBI/um3X6TC0lL69Mefpxeb+2lzYyvNz1bS7ZvX0ghjtItXZgdcWZuZB1dMfULAwkgvjpF1joORd/2DgMCUn0y/i/CbQgG+AB/VQ3hMeuPL1nGqgLc7THI+gkaePXoa9HX1+rU0szBMv/3dL9MShvP/9nd/n641ZlM5HNYYDPS1D728ODxOv3z+NB0x76iNsV3g+ACltKKRDv3JKhoYD2v1CsYDziHoZp9zutBlqbaQ5pm7VOKZiniAxvCmQsGCD/o1fQyf9zSov/Hj9IGPextgBZwCPBmMMl4pTIEhvFCZu90kxQTFbhdnUULGPXj+Anl3lJYXl9Pdm7X04OGj1N7dSv/93SvpFwvzqUanilzT0doYBYfImF89ep52MAAPhr1YW6ePN3uIHCqwAEiR8e7zbxZ5ewm5qpw6xtDYJ2LRBzdWG7VU47yq2ibpxNZWjDTafFjfH38nsKswzl1ocIwFH441xutlu4nDsUcmRyFtkYb0+NVLfQTpJ599lvpHzfTwN79JNxeW0/+8tJgWiSJVGesS4UGjhx36+c3r/fSvpKkds32ITlXEsVYcdFIFfOswdkYSq3R4bXYhjZGJzWYTfWzEdz/N1WfSDFg3hCGMuGeoDDxjZmlO9QYeXkLP23tD4KMyIKZQEufjwx8Zm1jkPAVD4lZusFKHLG8VD9W11RWMgGFqTI4X8XB0IQ6m4aVlLN2l+fm0DZEcouRutjfTeoN9d26lsnomKx1pBesdW19fT9cxFL7a3Ei7X31NZKMbCucAAXj/ydPU4Pq712/olg+cDo+YAjds6+zJxXWf9rxbCHyJjbuZQhMpTBDqEI9gj32aNrcuraf1+UZq8J4aGnoHrb2uV6cCjNYQClvkJO4SyRnCWI729tP15ZV0a24xzehRQCgodZyAfOvGjfQUZv/o1WvyVpswgA53GKUXzBc4PG6lRdIYlm7eAi6mmHkZoxYSy2f8Dlrca3IfORHNClMDvKZWhxjCoFZggleXVtIcxxcxqPSVGpbSCJXJaRQuzc0Dk2bqYURsIkxrGB1zn38ODMUnU56y0V5ZWUlXr99Mv4Xhtr9+kJrHmBVoXB1gOXiO4tMbpkVwT24cudzgaoyV2HH6WX2GvOUQuCAQCNIRVWESRuCmc8Z2mTf0e9IT2tCD6Z4V+ObDx8+IKPQjxfHO3XupVq+L3ap8XI+iCA/YxfD4l4cP08PdTTQJDHF4yeX1lcwoiPlm0JP0wHkLXP/Z7VvpGJbxams39Vs8A8rlkJQYCBUllfN4wGB734DXlMd497z9qRCQP8cneJIS1n/MRSE17QkTnHsYblsYDyP46AucaQdE41vIwjvrl9PNazfjNjqxIpotn4XXPXi5mX75+FEa14nKYnyuzTbwNs+GoaHDLYqVMNlurlZPd65eSdfQMF+iqGa58+AO/cBqSZ/NDFij6mxF+umf+l75eW+HQMxHYrygoMzPyZaRwU2iAjpFd3COtjk+gr5/+cUXZCQovsrpNk60GqnQZVUCdAmrW7bRI16iD/3z4/vpNd8FaLQ2Kqcb66s4BsAlHA0l+qugW5nhsbqEExP5u4kx+dXmi6B50xVx/+JQcP4Mchg9Rl1sGhnJqfnt4/iuez9KA2IKJGVGTGQF2WV2bSzcHRTZHoKoCrIlPFnzhroReEOQEyeZ5IEiDSMiMjEP4v/lnU9Sm/DaaybQPoK5tUneOeQGOLOSGX4N7wHDWoKp/QUC7AiF+NXBYVqfm0k3UJy3NzfT7tYmFcjKab5eS2XOw/0eoX3oiJY9m1vfbVOYakbhDeD9t1qHpOggi8nlVzkmmzHNVRt4BVRuM0Zc1DAwVWDYSVdRguuEKg/x+Dx6+SwdMwHqiBc65uKGii9WVUyopp91wtV/dede+m+//U1q7u+leyjPM8Dn/oMv09HhVlohKrFs2hcpPRpWkQ/LdYJnKt7PEzaMQOBHxny4L8zoAE/I3sFRVPxwXkeB95nDS1Jhsv0QpjUGJ4QdfpNUwMCcr9TTzz/9jPkPg5ho/ejhV3jUBmkf/CiATxGFAI6ugr4Aw/wZRugBBtgrcGNhfjHduH49vd54ng43t9N8tZ5miWA0MEgi6iA3FM8QiKGknScw8r5zCLwnBERTnMigqurGKM3pbJmZS8PuQerBP50rdfPKjeC5r169IhWwk+7dup4+u3I1lMSYSAv9D+EfHXhJG42jPeqmObzaP/rRZ6kOra2imM5iXIygQSfNekMTCssYCw20D/djpeC8KaYjjPh2e5RmZ8rwm9mgcV8tc064lbcPg0AmQzJDIsHH5lIZHjkmLXh/ey/N4Xy7dedOev3ydTrY3UnXcDr9xa2bRIvmQvFzTqFzy7rwVwNPLWVLeZyu3bycLiMzVtjfkPd2uiigyGUMT2WD/Ne1l+aJOsBEsTeJPCFTN5C1K8jsGXixxoMrmZvWBkbk7QwgEPIY+pS26xj0i2Qn7GI8PGWCc4Go/J1rV9hfSS+ePEkVxvLHOFQ/XWcfaoOph0brW4xHE6Nyn6jS/riXGkSN/hLdYJ7xXPQkIk86EOp9dAjOlQ9Yslf6ruiUpSSkDsaNg73UQo9bBd/0CoTRqD6D7M7b2UHgIzQgxFSFROBVKMlu9/CM7OEl3wUJuyjGFazchWXCqCDcSKU5LFgnSVPRgetNLaqiDK4RKquiyI0wPh5TDWDjYCf9t6/aaZVycj+/fTfCrE4UNkR+CW/J3//0x2kbT0sJj1hjfjatYDjsQFRzKIR6qduE4RR8lkQ1TK+4lSlGy35m2+f4NyMy2AAGgX6jJuHH1ztbqYtHp1QifQsCn6V8aRGl2WoKPCyRkzIhSOY6sL9k5AWmcAm4IJvTs9GzEMq/e/E4PXyS0t+SmnP36s3Q/mHlyPhxuq3B8YtfpMNuG8V4IfKf6zCZFgzoCvnPhrMLwKWAAOGKyb/vwnzIcEUcER6Ohe/8cn875oOYX+3ozDO3QeW/DPPS0DCK5ZjP8IjCYkTUYA14rM7UGOPjQL6DXjv909dfpHsYjT+/TMoG3+EPhQleQrn6+5+AK5xbghk3MKCWa3hd+Z4BV+ZhjMctIjXAvKCBq3CFeWtE5C2HwEWEgB5HqCEisyBrGqPoGcm9urKUfnTjWurhtLmOs2C1Opduo1yWqoXMu4hyUNQYwHAwD3q7dZS+ePk4bcNn+uD9GJ69Bj9dJcWp2ML5EqkOGgkqDERNoZchvGpM5K8GfS6Sb79Nrv3+LukvKCmXLi+nEbxYQjbvXgrKqejDMGi6Po0808ZQBP+cJcXzzrXraRG+No8cuGRkHp42aF9PS7Nz6TJGRhEnTIX5c3B8ZO0wffH4IQ6sVtpjTsOYaHYJnnuLVOAZZGWXtFZxKSbhcqsi5cMLyOWK8hqlswGf1JVzTLSDGDn8sZiWL10BL1BAlW8wdo2JvL0fBBxXZWM49RiHKSSLyCIj7+vLy6l77SqO0Zl05fLVNEMq4V1km05EszvqERKCTqFrS8G/bB6kX72gsqWaFnKtiO5l6uI6TrMeBn9zRPKS+zEYxayBBiAPYVrTHLrJCrRtqebt7j7OOubEcO3NlVX0iWy83+8t86v+GAQ+QgPiDShURVUGVficjLewuIByjNeDUEMFYljC420e7TEe5Ffk6a+trqVLKLqmwddkiDCzGtdr+V7Fa3IZb9ouHuJDGNMOyPvZ6qVUJbSm10sPidddxuBYANGtCtIlPBc589euRX+zMLs+ERCfqwABZmlMEmhmNU+J9c0bnM9WeIzgBEZnZLKmJGWTGKvcsEhEhjAxAnuA8N4mreYQoX3t1u20DgytFlQyVIMBpqFRg/CvIxiarBmx8YwcSPpb3DtI11GY551kjTdQWMrIr2M4rCHIjzBYzFG9trCUhhhVTrCLqAfMgv/RLJOaRY+4+Dto3iUm9fGtMbkOHriWgyUFNWyWeUfUHCZAH6eNrY20cGk1XcFLNkQYalSY5sWMQWytUrpOROEZaVn74Mo2MNbYuEUeZx1YmS88w/mWDb6EB22RXN4jDI1Rv5OukFK3TK5oDYO0wX0NCdsEiZW9RiJY3nIIXAAIZNE6edeEYHkm5xeMDM2i2JXhERrWCqA6tHAbRXJcr0YedJlSq5dXF5n0CkXBX6soGUZzTSy1It4W3uqvv/yaPGmitey9SmrkJWingoEwhhZ1vLj+TB8eAndPX5JH3SGCfJt5FdLiGoprrUL0FLrrEeWoY5gbDT39rHSctw+BwJRPo8zbVDBV8qrwrevI0UX4ZR3+VsRxN4N8WWD8IxUWI6HKuDi5XvfVcbOVvvr6Pkphm3QzzsNBdRtHTB2ZOsbZhHiO9LOOsgq+uIuh8Jw04aXlpbS6vJoWiSyFkUCK0wi8qnFeTecX/cc6PfzWVMnbh0EgovATWldbcbJ6CXm0OjeXatduhHFg+lEB4/4mE9rnoHmmtMc4VMCJqGiIA+EBetbDx48pdc4aS4zMlaW1tISDdQz9jsClmEiPg835gk1k3n1Slgqkrd1ZvQweldLVxbU0N9eJFOMC18xD7+pR6nmOcj5H8MPG+dtXf1QGRCbU4GIguh5+IwN9Sm5ah1gDYhZPSIMQ+Ji4qZVA5E7HLG5gGs5mr4Vnq5kW0xqIqp8Yjy/HVCDLGAuXCdf9w1/8ZdptNSP9aYY+lrG6FXoyQhVgeBVeMBgkep6CboyAUyG2ZKHelgIRjBJEYdWBMuG3boeK5lw0CxHaTiIR8ev8/syitOvNtk4zJJ4aePDW8I4XEfrxnBIyW3oALJ+4gTevxuTEJQww0wP0PsxjJFWBa4WoxS+u3043FlaoisH7Afs1lOgKaTpD4IabIWBTAi5OUi9qlLENpcMwsvzFCvcoj2E3hqaJQDgZs91uRVlcK1ydZ+MJCbuTX42Qa8H81nl+mdgyBmOPcKpVk8zrrOHpRCSxfggTQjEiup1GWiJn03SLnqiEEjRHCLbC2M5gWPxPP/8FkR3Sv2CqcwjXOcZYBufEew0Vhe0AOJQ5VsMYCwOB9xYmelarfArcV6Ty/jJXhW4Dw86WK0MBhvzP9wSBt+FflfQRI70Kc6suaXiX4RUVogNVlP9RsZtm4RvOmcI3ATUNI7UBEgh+I0vWsXJteS39j3/9H1IHvmTetHPVljBOeiiIHehvALO1OMMAXn6EEvHi6CCUU40JJ3vK9+dn8XjCY9KIiKk8h2iGCqU0fnl9OZRO7xdE+T3B8IdzW1xejg18cdosWa5MbTG3IRba5LgRoCrfXfi4XKoMX4vIvjjAmMjJNSL0KstjuZD0stn0H/7yr5hEDU4wGHVk7zqyBCQitRbeisx05ekxTiarcO1iXLoGUZUUWNxPGCPlcECVmVg96ldSnfs7WdcU3A7ptyVkkI472+nnjx35n38XAtMhn8Ug3CWzQjmlblBE3umERbkKJ0CZSQ7+JngQNDhGpltKxcgA/oQsCgSh37p5A1lI5ge0PWaJ6UWNRXQ1J02PGMMxqUtO0m5zfBcDcosiDA1on67QI0qkp+H8xRFhJbYyc2WqOiM5qB6lnmXFr7ydHQTOV/s6u+c8k55kECrzNhXPBqG0Np4N0CuEx9SjPUYI7ZGLP0LhW7yymrrImR7nd0HcAxBSz/PaDEowpDLg3CqSxvSVq3iWrxOyE6h61StojhyGGRI+4x9kEgKw5hwKhGYZS1pl2EcqQWh+ZrDMI1zP+Yek79QgCJVLny2UdwjjPJvQmacChsqowrSBcHYSooTvRPM+QuBgfyctLeFBmsXYwitkudY2QuAVE6aWMTRqpPO0VX55sWrf3ONSWlxaJUyZGR2AcyJwHAcmTtKnDECjrs5kKZPEXOBpqGLMe6tkqDTXgUWkdtF3m7kkC8ClAiM51+Z98YDUiQRY5cE21vDp4RVFQA4wAg7I8bQ++fo65ehggk7gMs1tG+EJP400twXGfMyPAoZWrTJD9YnFYIQsBxFNmISCxPWxYF/gSiZQnUeh0jWkAthQoQs89bzVwUlcOGFkHAN7gJUWzPvNWw6BCwiBOZQMVxLuWs6RctYNaEZx7vwfv81TrqM8WphAXqNn0pISQRvwBjbhBcyZQqkwHZDkFXelMmnRzlEb4JCxkEOb69somjukybioY0JBHMIz5CUDcqu3NndJdamneRweVRwYRdILqzE7k2vxeM/cxmOKrFAu5O39IKAjo4oRIc/U8aW8LQNrFXcrG5qrXoSfaThUOS6PM7+9CE4478E6/wwjPK6U7pD64kjopS7ikDIi5QJyRyIGY9sDJ3ZIZTJ2T30nvNfIGfp0/ZBdJswf44hbWaOMq7IC/hsymd57VO7RYahcydv7QQCS0s5LCzhQ2w8fMkjIa+CuzKxooGMmlNAflPwahUbYK+CGaz+F88uL/R/nUmyGSPz1WaKPqEs6B1wA8thIIqKui1UwwpHX5ferTpNMDyOMoRXRFWV7+8wv3dhINdIfF+YXIrqhcaJRo6PYeTDyIJsGRW4wBig+6M9HZUAIKZFYVVyGNkd485gKIFq0Nr0hbZDzACGyw6TfeqOa1qk2VIPxOUl2j/KazYMm6UjF9LNrl9MdcnctMafQGhMiLaFUFrpO4gFp+dOdeFjgoJOqIyAyjPOYfE69MzWsYQ0JqwlUUK7NB3aCbtKIYPuQ9RH02rkqq6VLTW2Khdjiac/vjwaLrQUcZjGKpHCfoQUjdi2LQwyIOpMbnCNielYB790WFTJ28BI5Afgnt26kqxgewjmqEAG/ASk5Y+EobGA6GghxnO2e3iWYjt6qYwTOLJ4DDZYZxsizIk0IJjDrJHPgZu50i3ru169eO/eoDI/BW2BUwZSOuKdpD8HrGHNzL/dI4dreY2Iz6W5rRByMEFTwiLSpJvX13iF5mZX06eUrpLItISg1OhhfBKXlJk3jMP6ib23AP2Qjubv8Bpc0Ul099YhJgARd0gwKj3NjijBm8dVoTB3jLSIS/O5h7GlU1DietxwCFxECMxi3Qz3GhBdkcyqZ8jmjtDPwQhfuNMXRCbDd43Z4Joucg/8Fg9xUU2kRhd9/8nFoSdoswEssl83OSHGyFPLXVPp5ublDpMP5D9AFRncR/jMkSnGIYdEnT3oIwaziRDJlRu7aR1nRoaQylEmEiwjFi/9MjpPK+yzjvc/keBW1MCDk+Ix9HR7HFMEYQz3NPRS7nfYuFQ2JfKPoGZkfeoI+N5itxoRpSA6kaTFGDeg+PNgUcE0beL6/ev4yHXEdwpSb44TSc6NSicFgmu2ILAKr9czRl/t9pkOcLg0m4Ode6Q/HqSXSkjqk6Pah7wpG3yyTn4uMQQVYz4XMklKReWwfMh46/uQHls4vUsbQ4Q1ewPi63Q8lwZ0aCIyXSMX2IVGEh8+fp6fM/+sxlBorznlRJ3Ddj632IdF+DFH6n4enOM6RDgdf6aODzMzkDrYPH+03PXx0BkT26jAgGMk8VuoO+fjwtbCIRdQj0pSeHm4z2adMHi7pSijH+EhIwVlL+wgX8pPSPt6OQ0qNlpcAH/0MkDZd0nM67CsQFnXewFCLmf4qCEMn/NBNGBoKKSdrm/+pB32g0aFVHtySMBsM1ImCGhdHMLgZlXmuVaK5kNt5N+9gZKaO4FZhvoSSPsZ7rldwA8PhkIlMGg5zC1RP4V1WqZwxhAG0uyzWBCz2KFN6jOE0Ak4BB5iI+cdHTnjjHRX6cH4EPuwCJuHkXzmGJfY0rJzstgYzUoAr1AehNXBzdvTp18WAqsyV6MFA1oj2nHsDNxg+Ii5L6dkG5SJ5VlOarLK0Azw293fxqJTT4irPghKzEPM4eumI+S011g85QFmxnO2dK+vxPs7d0GDqgEMFEKfIx4nYJrqJhw5xn9/xAXb7LCg3z6T+AnM8e8yDAFmiPF6T6JRzULygQU5vE0O4jjdOAytvOQQuIgQa8Dx5bIf0QyxpvNPHyTLWDQ1g6Eqe6WTYIVHIVhsje0S6E4a5GQrSYAHeYUzCEo4l3NQ98vxUJBs4GmbwLJoWJX9pwUe29g+5TuWQimXwjmUURWdSjfA4L60upSeUiO4d4CRi0q2fAnRjWqSeSavHQIrBdi8iHC/8MzlWPOQS/HlrZzfgaoVDo68WkNBxpENMGdxH0WuR9ttE1vW7y4hT9+Moc00OxpkRhsXxYQwLEW21+iFpo3xwuyG3WefhaCMdgi9lIkpj3NZzFKpYhV+XkcPKqT347R5ppSWcdDXHFhwxxcVFBef4baQkbx8GAeePOugtaZtvjbMmtK1TVuXfiKIRwCK0urO9iwwtk/K8xKnQMv+0/z2P6Ug4znCn4UzQqWhaeZX0NOdLuHKHzoENsg+s6jRDSpPusmvLi8haVh0ndalxaQWH3kEq4QCuob9VwCfTpIw+uAjh1Dn6YW+bXz2FAKz542mqaQoIuZEesCU8Ek9fvIzwFvIrvOJOAm6j5FmScxZFsUbEoA4za1y6mnog6KvWQdp98TxybfdR4oytrRKJ0KtxTCpLiQnXdJ06MMEOcfkaUrEEtxqCyDJBMn2pvkRKEvc5QlkuEc1w8q2LK9msZV3FgFCxPkbxXF50dWaOI1h5RKgs/rp1Lk3BWeP+ltw7IAISnj4IuQdRG52Jkmmk85SIkhhFWCBHdaHB++NN/5Ja7gcYFR3ebYtrRzCJWaogdDAq9o/2IiqjIVV14QTepwhhayCEgdLRK1REESAU2tKvRH60FZfYx6lhjKgtDDAi9CQcIYgaPMd5N8HteBqBaD16nD0342GUoGsIFYFVZ65LFeUoFnMDx+5gdDmauxiTu61H4RHboR55j3e6ssjY+/zAZNwlogBA4p8GFf3inyUED57wcYVN4WGE54BIBKMA3Lk3MNNBI1O2OWamUWl05mXqAiT5nwsIgRm8jw2iiE0UxsYS0Ut4nTiuCtFDg8CByD5oXp6LYhm5ztDQGJwfMt/MctgqGmXooQxP7aH36Wm2yEIFz2IbnrkFnR2xr+gcLEpw371xm3lreLzxSkbkDyPDdERclzEnq4XjZwk+ZPUeo4bWipevSL9GQc+Z3V7AUfrwR1JC4SNKyyjxz5Gvjht/HFzS15z3laUnjfFKtccsDgbMZ0npPLLIBFEhE0DLTGQxYmQEoos8sfKOodgy36USESLGe2+viaxB0YwUYdJfqNa3iEyvUNq3qrOF62oooCWcOccsTNqKvPtMMXWOn8ruVSoBxYrFH/7aH2UPU20kUtag2Q5ZBDpHpdMhCvuIVdycUG1mhpWv2jj+GkYB0DGOGZcSY2daYoH5DqZw9xm3PnpTu4KjjOHvoHdcwejvM7dyF9o+QOb2iTIZaf+EUuc1jMyajIPxxO+QynNEOZmT2cJpafaCulOV5zra20KnQp66flLezgwCH5UBoSpYQPGbtjUq6fS1TGEuppZYunURj9VSdTkNQO4XLzfSDLWLayiu5m3OIWjm+J4hSvBosJueH+2kBgLwP3724/QJy7H3MTC6CEDEF4wO5RnjwFUTWiiZrtLoPAhz8WoQygIGigveGH0wDeg5Kxov08cIJqr3f4yCfoCBco+FVspIMQ2fTF2cPv2HfxvRCAYAtfsvVFH2eb9LK8vp1eYW7876BhCpSusSEZut0X6UobW6klWSyhBvg3ycmXI/veYJj2Do9wkn30eYW3P7PzMBbq4xz0rb5LsCO3MVGygAbTDvGJgbdh6YGcs9zXl07sgc1axUlFEvyGskVImQX8RI6zEmK1RcOSSC4zyBBvA78yYYbAJGLijO8FdcGSr8CNFayaPM90J9NjXrfRhhn9WiD9K9S3g5YVJzLIDV0CActXnnYnq5u5+eb29R0nWc/vaTT9JPqX1NHS7ej7QjvaZiBoKyT9RmhyhXLyxN7gvz7RKhmq1SunWuxhycVnhnVMDWSZfq4GldBlYFlB8jPHeuXudJ85ZD4GJCoIr3cQGFbhfHyK36nVTs4kmeK6cmtG9lpSszRB4xqscYwsfwlX3SFYZEKmCjKIWkRcBL5/FaV+HhFZVJXxM+WcVJ0SUK968PHqXfvnyZBlyvBrtKFadlyHC+dBhGeRsF5hAe/4yV3QvjalomzWKhRNSOORD1GVMomXwLLWlABPnTfTic+JY/5e3tENAAtGUyBIDDNi3jarWrLo4efGdEZhfx+LdTlXlzW7uvMfqYV4ZyVykwsR6DcUcln7E0El0k8mT1nOVCPdKdCmWNSCbHU3K3xPmN0nx6sttJ//v9h0S3Mx5aYAL+4riVrgxJW8FgaZIP2gJBnpFyu0dmQIN5ZysNPNVEriwh6pw602DXf3Qve3Z+52McoHinP0pIQEc6Up3KjLOptX+cLuFs7SLjrZp1jCK/j0J/fYZSqhByA1TZhc6a0FzfSdEYi853WISuF009K+KMQ+5WcUQaKSqX6ukQev+nx1+lJ0QVO+gURihugAurlHRdLOI4QH9qo6M1mVS9v7WXZgeVtFJ3JXPm3Vhljf62SaWzeuFJutqUnrn3CbG/05vnJwuBj8yAEFdA2oksmMMatdLNAGVQb5fe2wbCZx6wHO300gE1iDsgmiGwcIMTXbDO8D3Kw+0Sjq0gbBZR9pxM6+TetfVLUcbUHExz+CSuHYyF/+dXv4LKUBLNfed+TjRe+eRHqcI8gR6K9j6lW7eeH6Yb9+6mA4SmoV0nFLogzhIRiHhc/9jhuTdvwuRxQrsPHz9hGyve9+e5VxAIVl3aIbrQxiOAXwFYkpTAOxoxWad0nnXZ2xB3FUGw7PwNDakZFpXB4BjiPfDd9k1Fos8XlDv94slLlAHC0QgRF9C7Ts3mtUvLEHoFo2ucXj1/HFGQBZjB0NQFYHuM995JWIanz7xNcON0v/IY083gUdgPVl7CO0rI3H1HvEsb73+TCXmurltECDrZuctY+973Ll0iLe4o0itmgJUlK4XJpSuXozRrFaPzEE9ZC6S0gtP93/xrpChpuwwRfMsoRz+6R4nXBVI5inhvCc22wA2Vpg7lcw3hWz2mw/0X8OrmLYfARYVAGZqfdd4ZaZBGG6XhIfRcYL9lOq+vXyc6S1UkeMfOq2fpyfaL1IQmalzTJRJxE/66fhuFD6eLUdo5Fvp0oqarwrfYNwdNXLt8OTWhhyGrXlouVOePCkcfPm1efRO+1YLPlElbWSaFwsmeBbyipkZuwYfn4XsqQxm7/U4Y7kUdrvd+rqhgyNULzGmQN0V6pXPI8CqvLM+mrS0MQ7zKDeRFaUyEnnG0etLz/RepAM+0YlKJAMLf/fQvw1uNlI45LHqna0S6K1yjQWn53i4KYh9FcqGyiDMF7zJyylErg1c9ZK5lYI10GUG2dKzV/pTVFqNwvsuiqTe0iSsttvM/fzoElI2I5UjrnUUeb1N85hOco663McIAMA5g6vfVa6aJETkgGtBrH6RnL54l1iFPlQVoG+PxHmXdlyheYJW0OnKyqiz1MYg2HEK/KzjKBjpkiVg4Kf/KIpUROeycCzURHQmt405EuObQq+aJRumsLKBXWODEIiOueO2CvXk7Owh81NA0nGVYy0oRVTzMBSosdWFSu3gmVALXyK3TO7ZDHvoyubhLeLlcgv2zq1eCObnwyRJIucB3gX5KHC/h1domH/3X96lTDvIO1xbTi95+urN2Od1evgGz7LO+xDyCEoZKiG8f4thlgpdzHczrl9nKGFVKZb5O6IsGV5QxKtjOt2VCc5n8VcueOe9Aw8q9Tn46xvtdgVgbPO8BhL8PYV4hbFxksvBco5x+dPMKwpkKVRD6rAoz1znJSYOgAFN/hIfwH1++Sg0qPTXxThwSgficFSlXMDCK/F5bxHxD0LQGrbTPvIoR+2cQ7oeELy1tWkGAHLCSdxlGUP8OwpGhSKiwYFhWee82Xv8a4XaSeWPSmGlmGnuLPDfz4dOrbVY7nWX9hnnSvPh3bwW/aWUlVcAT8zjnwRUnCVZYUGfEmiCH5Ob+H189SMcw3QbX7QDzFWDzo+u3Uh/YrrGOiEbtqMi8Crw2TZ6lQtrYPqtg95jUXoGR9pgQKhOeI+0sbzkELioE5CMrKPUvmeCMbMfxUk3PyZGfX1slA7IG7ndJEyVKQfTuyrWVVJynDCu8o1SbTf/6uy/SCzyZ3VfPY26W+fX/y3WisxIdnal4fMKK1cvD1VjtvWAUj+gdmiJzJappE090a3DM/KnFmC9xTBWX5vEhUVWio6TNOPHzCFrWYZMVrZikjE5MiYsK04v5XJmUcs6L5bqb8MwFFLo2qt4WxuOQFJZdTnEO3DJRVx0qn372aVre28Gp1khPcVA9ffoi/Y60k/ErIvLI5b/99EdpnbFSW+1iBLrK9N/cvkmPpAr36RnHltFeM52OmF+2TXpwHbnkRN0OfLRFJKSNo8r0XJ/JnHhlmzn20c5fsF7MofrApzL6YLqalbTMEni1tRNzPV2LZYfVoKuk7Fr443VnL62SwcCqHOky8wEblNlt4VAcoVf9X1/8Oj3qHKe9189TgYIkN9DFfnb7DroW0UcMPueR/vjajXQXcjYiP6Bq44iMB1sTPW0TOu53MSzRB8zeaGKwbB0fIKcxGEl1dO2lfbIAFpCrNh75TcvH/Q0s3mPr4zMgAmGMDmQTdOZRxra3d9I98tbRkKNKyIDawk6smkV5O8a6fUIqz00E3yIEgKsX7wd1+1HqnANQReErca4e44gyYCU7j+EQpW4H78fR/utIf7pBX39x8xapLzrae+El22Syz6+fPwkL+7/D8x4VDBCyhn81avSKWSkqGjcwenLebeqJcdKwlOZz1JiA6FoMLTz/pnwt6tmDMbsQ2j6wqQNDlqYGFuQ/wqBL5PjLzGcgZo0I07+s0W4uolUxLM2249wTlWUMkXu8+1UjLTCGNozEOvD3nzxO9/daoRj8zec/IRsIZRkDxCpF+xtbzF+hXC7eCcH+XfAAczydKLaPwnODkrROVm7jseyguNcJ3S5i9HWA0fNXG2l4FfgQDSghoJaIxli1q9AizQvBZelKQ6l9FKMCntZj4GGYd49owvNnT1kropKuUcbuUzypReBsdIykjvTV4/vptxs73COln9+5zYQw3tyUL7yqG6R06XFbJQXuu4LHeeNh3v+fJwSuXL6Ufv+7L1lTsRuKXB/vs+l7LYzj//f3X6FAzqa//+RGWseQuMuq1GPwO8p0zr8k9WgzPSaNoUyEoIrxbY5zrFaLNxqKgu+wUBhKiY4Xq7C0BpSLhZ52UUBecF0L580na5eIguC8wBEi/Y7pq0JEeATtHuG8uXXt2il+ImdBa8nbO0NA72+danqL8HWdLEaxy0TUNeqq5Ub66tGT9Iik1zs4436Cs2SBlKYbN29nXmt4/FOMzN89/jrN08dlxlJ8KeNM6+KUY3BTBcNwgdTWJvwRR7ezwyKaP8aRtYsB8fj1RrqOjDLKFGuP4HTq1VpEiFlXAGfN/qsX4RRyzYHILjC8nLd3hgCkG/AzE2GV+SS/f/AwZHyJ9MHuYS8KHByi4D87eI0+UEt/c/fzdG1mhTL4pN6CEwfQ6mNSnF/u7oVj8DLDMIAHWHgGr6yd80WFS76L4E8NvKqhIzUxDDokRrho72MKmYyQx7fu3E3LVI3cRJ87Ik1qOE86FM4DC9cc4pD99Oc/i/dzpJWT8Sc2Ynf+5z0g8FEZEFMWodWsxm9I3YlelkuNagF6zFHEFtivcnsAUlcUVDIwLnH16FkQ1ZKtY5RD8yhLMCwXNzIPNFYqRkitUYnnH/76b8n1IycP5Nbz/JnhecLqCkzD95bp3KAaQReNsI7XZZ7wqgu2DTVGeFArMOkdqSPcMhyXoN5jhN/1Eu7B68D8yQ3GGLB6hqHmAh73ObwFu0w8OyKfsK5XHIIewez1is/wXcf9U0SAG32oIbRLMH24fdT2NhHWCeq3bt9K/ysTG49g6Ht4BVbxCtzCMBs09SVxDWk65sq+ogQqda4woObTDKFw116YBW5RThdv4m36scVQxtb5/Im5J+CKE0DnGQ8nvuut1KthOLaBMGqT6rZHCN45LWPwx2n0wsRQLFyPt8Ko4kHDkMBjqlKjgHVA15dW0n/+G3AQvNl+vcm8ika6gbeuxqRyK9IMyCV1EZ0twrNNmKWKU53nMJTv5GpDsoeUF9bbt4iwtFf4at5yCFxICCzAQ3oo+h2cDCVxFtqfAadnZ+aj6MAmiv3GHlFNFPkSdRrlsTN4qf+HT3+cnswvM9+nwlyxFRwYdSZfEqGENmPhOegp1p2BZuTvXY0JrnPxyjYG+4josAtT7aNIyO8tCTpjCVfzrFWCuN7qTaa6SD9Z/EFqytv7QEC+6XpALoKqLGOY0koB2Ya8rJCm9Ko8S/S1nXb3cMJcYu4hzqAK8kQn2h1kcunzH2McIEvxRq/BY5fhc5b81Gtimd8i44cEignW+PHgs6QlIR/0S7cZzwHpxabbtvfaqY8TrMH1DZ5HO8H0t0NkyAy81ghFIIxII7/O2ztBwBXcpUNnCs4hl3pEi4bA3dTAecbeda3miQzsH5mq3WM+RJe5ToAaXcDFUFeQo//ps8/To61NFlidp9rlIjoW2QXqU6ajMabaErp8R0QmxQG3e+gYPeZJOsm6yXhbznUffa25e4CTlsyNJZya4FOFMR/CaywVrDH5jZYP9zfA8T4/PioDYgqgbLIUDIO2CNI+RnGTKZkb2cDjdXdlLW1oEaPEDuc9bxwTdL58/IiUJY5fvRxCBt3QZMtIXamC6HqEwwgA41eZKzEHg/ocz7QrrYrMht6KMMom3hOK1rFSqmXqxvR3Pd2+eTW1d3YIsaK405flTJ2H0MCgkLdpnPjc30WVHV+lTsqNBswxXrp1CNoJzotEGq6tsUAaBsQxXm+yEcnLL1EykYnVR/vpbqOYruMFN4oRtAk8DWUqnPUouIy8OctXENrXUAKSqQu83MAF93i3PvubVN/YperVAIOqDOHfvXubSk+NGIsyCvsAw87ws+PmyJx1m/Y55S2BK+CGMFkEHps7lIfkpnpFZkmvusL7bpkeAUyKKEG+4wFl5g4fP8OrhgG0voxxZbbmhAnynq4foZIS9es5fw34rpGucY/+XcuBuHzgCtYpAhIvDbuapHGQP5Zu4rG7wtokvR0qZAFfq2RZLcvqIzPgZs++2Ze3oD391AAAQABJREFUHAIXEQJz8BB52QFe6XUUDA1xjetPSGPsgM+Hm6+YXFlPe3gYV8FnpkPHKtENjIyY8Aq9WEFHfqpWaqa0a6ioWGiqT7QNUqKrrIy7n56ysNQ2SusQ3itVHJkaisFvOsUVyrkWUXaMjHZQZo0mLuEssblomZ7tvL0fBORNFumwVOeO6zCgMM6TsuY8tiUKQBzhTPvt44do81UcJExoxvk0CyLIV1eIMKyweJyldWVlOltQIxljGKM5ShgZeqa7zLcb45hSBvVw7j3f2mIuTQelErxg/xHOLhcttMzvZVLeZnHwFBhv5es+PHuelE/7NwU15vm936t+1FcB/ZBlkuSiUQVg2Se11hTlIp7/RSL3P7v3Wdr6+n7q4lDtUVp5j7Fy/qhrGTUYzlvI+lvoOtL1mPktGiXWIBmSxdBlvHQShOEA7UvfTrTfJN372atN5g4y34ndppC3MFTxHJDNsMwK1lTjwsg0a6FppBHHwjJZC9Om3sVVIden+/Lvd4fAR2lAnAbTGgrgF/cfhnCJGvogoBN+65euRI5/AQ/FaxhVx1QTmFuT9KYCFvWPCa8XXA0MC1s7whU1Kyi+VBvE0wwBqMhhIJDPBAfUUIAg+L1N7u1/ffC7yPftQwyG4BWSClFXeXZROVOjnAtxBQW7PJFiIzjdd1UlQu9RFa/PKt6fXRjtVRiui5m50N0qHjqrqRRg8iOiApvbWwheclCJyjw6ZqVHPOpFPAMq+33Os+6zE6FkLA28BsKFmk4RUVAsyCQsDes5T1ln4f978jQdoEWbDjSL97AKY9DIkEFwZlTdcFXmK0xC5ipaxghi8zz+0P1UHzet68GDp5RfHYRQ6hKVmcfTUmWcWuwzNL4FE2zj/ezhPWnhcVlhxd1rzIMYM9Zt4FjEIOwDHxmukamGKW8wyC5C0TJ35uXK2GSS2+Tt/jO4ucm773JOFSE8w4V1nsl7VIHTgMnaG3hv7tzMKjDlOs95IEHe51lBwAprzj17TQGFqzdvoCjAK1EkZuvwBpS/CnTwZPN12ni9lW6jCPzNvTthcMgjpfUxfKECHzbC2SeqEAWf0TaGKKID+DFBBqK7pdSBZh6Q6ujE6BLGh2kqK/NLaQkPp/zKRSnr8B29p1UUVSua6amxMAKkCX+TkuQtfvL2PhCQb66sLKanzHszjWjM5OgWxhvrgmOcZZGjreZu+ucv99MycuLvPv88XTLtFd4p9F0wzgj2wPFFsCoroxw64zQgitumipdTaPE/kbbUTM+IAlsGu4BMrlGc4go5+aMhc1oYy1kcfTBXxto02GKUvf4Uo9X2XTjl4kZ/jn+AvUaERLNAurUOT4105+O5TCQzn1mHxaIwZH8j/77eeJUeP3uYPsGI/OtbtznHKDvpaZoh0KhrP2gQasArCUfqD3TvApNjHIoaAk6Of7C7mQ6Yq6ouUubel0iVW23MpfE8i8XhuI3SsNxT58DrF6/judZ0WubtTCHwURkQyJw/aJesnARzM7e/jvffZe/hT5GmYl5mjUVpZiqX8XagxJF2s8WE6i6lxfos7lUad8izZT+M6woW9K2FVSoDMKFPRTBy3ElnQckbakCAzGOI45jl1veZXNSBGRaZ1LUGoa1wH611vesNhKvPY97oyqc/iueVjdq+KwPCexkSNH/16avX4bGpUVO9D/N3zYpFoitWUzLPWK+3dS9eoMQOENz7SPB5cg9HeJu2iEocvn5FdOVaWoaoXRjItEYjDQU8RPAC2X3UgrdW+DaT6A6P8RDiiVdJuCFTYP7FCONtzFyCBrmS+3iZ5FZOiMqU5bcMqi9wlk2EQBqa7mYKU5cwrekRlbaGImYQwqlmaB4Dol5mvRCeb4tqFOJFC49Kn7Qsw+ZH4NgzhKmTpE1TMjJlZMf61X3hyau4iKCeGOvhH2Og7FF1aUi6hkLuOvC4jEFbwaA1Vcx5Om3mnRwcHbBi+i/ijTOYnOXL533lEDg7CEg3KulbTJY0RVLP8ljP/3wjXSVVsd1skM7XpRpdP+3Cc1vdq6QGEnnE6B5iRKtQFnFE6DUOnsqePorJw1cvIz9+eX0dwwIHBNf24TmmJd2jGIZz3RrwsCp02pVIOK5Caeqq66c8f/4sjIZZ+G/cRbbiRt4+CAIrzG8zsuNion2MxO4RCZl6phvVdHllPm0c7DCOONZwluxi7K0wnyzmtcAPXVdH+aBAdu2PAb/xt6TXrcP0nPmDM2QK1JDDPRxvfXCiz/E5ePTlS+znmjq/Lase1yNPcHtF2qkLoLaYn3iZeWa2qYPog170Y704xC8wBohVshZMfT5A9t0kxdi5nCOqp82hDxjta6EjtJzcTJne3V2MBUrUGzUcqi9hEGow6EiNyCIycGiKEpbHA+bDmAy9RkXDHqXRHWfTei3McpeS6K5srmGISsFilOgWRqbACedK1JDJ+zyP6dcWQpmI8o91tM78vT8qA+Ib0AtEZTE5lLIaHosjJlDX2FaL66HlmqNXREKVSDeaQ9DVyTnf3aF+OHWodw876Ze7X6XrEEZtaS4qLh0yOe/yz9eoYUxID0E3RIhtH++kR3jor1IX+RLW8ZA89yuEzv/+5z8P77wTYSuE6mWargehRl3Bs+9KrZYtXCHsir6deeDp18jA+RsRMm3uycdw/tcsnubCbVWIVAZcRHBTSpuWEXAJwqRKdxq8xOuO+fSSBc+2t/fSXXKY2zCLB/d/n+os7rJ4TS88ggBPA+t5p02iDRpJt2/cCA+RpWB/ikdojYlYbZiJ80rmYQQ1BH2RSIRjURSmKB7zVHaQUZ1HM7QZHpXTnU8AYv620aEoCbe+ALPTIwqzCiZK6UGYmGFy1xSxOhUPzErnrK69+zBdJZrjCqm/fvAg3bx+Ja0RtaipFPHelpfcJfd7B8/rNfZbbnCI0XSd8P9/+qu/ytbLQEAuYnwu41kr4KUtEHmosj7EAalTAypRrKyJKxkOBSc9/fz5dg6BiwABmRm8wwpvX208B/eJJiDwB86zGi2n66QYzJOu6DoOehyX4DlzRi/hA65O/XT7FbnM/XQLpWGpOkORAvkh0TgcG7+DTw1QOj9jbZqXFHfYxcjfh2cM8Gg32L/EfAdLOvaJPqBxQjsaIaQ/QMMl7rFHpFXnjUaNTSPe9MBghrEn//MuEJCf60k21VQed0yEoDpHpUPgrbNsBR7/Oc67O6YDs03hvXR5hkUzidiPGI/XjNOLrR1SUeaY+M5ib0yyNwqu8fd4fyf98sGj9NMaaaxMlN/YxHmF9miS2gB54byWBrJmFgeNCw12NTb5p7Hq/DVXQFeWmn0ga/ePQ52394AAcJOsQ246PwkD3gV2S0QGXKDPyFNhPEMFyqW0rtyWnlmvYQXn14wONK4coX/dpxjLETT312vrOCcJXPgobByT9vTrh/dTiYpKYypaPnn1DKctGSGks9XRn2awKNfhBcrgQyo39lxEEMPFCJcGhfqScwTXMGQd4hhv+540f7s/b+8HgVAF3+/SH95VOrAiHYZHF7FEngre3VmiAOZE1kV62MwAI2ETBfA5cxJGCB0nd83AkNbxkM2A3D0mRu8RiXjNPIAeXq3i7FLawKNxQAnYEbVGhyWYHYSyz4Se//vL++mXT1/ghWaSMYyyhidlnXz21Uo9rRHxmIMIZvk4YdZqOwWUZBncCOEn8xW5zw3BM4BwBwnZlv3V+227vE4VILxHXXKJXRKeRbUh8gEpBhsRjSnBAGpY+nUU/KuLM5gPVMXAY+78jT3Kro4xjLp4iDbwpLdQAowiV3C5m8b0dGMn/Z9f/DY9FMYo3j4KMYp0FUF/k7FZj0lyFHfi2Ij0IHOlTfHZRqhcvozXAUU9y5nMnjUe+Az+mLcbiGG3sQ1rZHvEnxm9GHhD9Wi4zoX5t31eauPwOL3Y2A4jsAJ8SkQFlvC2UZgq9cCjNvDY3NpGyDF5mlr1mxiIh8BsAJMbcb4jvwej/K+/+S1VuZ6T6gRuEsEx6jBPuddrKDW3NWQRxM4hcQK/oWGrOe3Qb5nveXI+47mDnZ8BIPIucgicMQRU2iSrqyiNHbzNPRZmtAjAGF6nV5gQLAtSonSiKa6S7rIKvdR0ssADDjCa/+X+g/RLPodEiSGc8EYPmV60TVqpa/ZYUekQhWULntKFJp0zdAk+scz+Kjy8TNDB0tQvt7fTAZV6ivDuOnzYoha7pF1cwXkBi4p1baY8wGOZ0+bcuPAZQ/l76E7QBHiUqXzgm8GV+eMkZdNwla+ul4TZRipKNxnnWWBMruKYu15qJGIGyBEntJdTi3H/5ctn6b/8/lesDbEdfNjiGTDF1EZ+bhHFGJOWNsLjbYn1Dvy1b9oMzr81eLSLkZoeamrcc9LYXnPMSl96xF0TwIo8zvGbIb1U4yYcL98D2P4sbilNo/grH12A9saNa2l7ZxsbnWwFaFkZLXLMAuUFHLMrjNFVaG6VSlxGlYqkIe5Az//426/Sv6InWamrirFYI7XZId9wcTidDGQl7LLW0Wvm++1S1akCbV/BObCI7NO52McZsY8j4gkZCi5KOGR8EdIYpFZgIg2buYPiqJgZjlieN7D1BHf/LEbjO3+Jjy8CAVJGA3HcLOAFnieUur+3le6N7wbjec1E3o1mVg7wGviflSIl757a/o3yehZmgzFuUnpzg5UXh6ye2CSX8wjFv2CkASIoxYqXrA1QXU0UOk0vWYl5FoG5SAUKdOkozxmPgkJdqTF5EAJwHoGlPU1JQXdMDbzswZc5Edqc/Mke/+z+TgFij3G3k8mDSxBtiYftS7CEhZ0D8gxBvkWKwd0q9Z1hADUU21oJbwC5rutEGgqk7IxGLHhGOYyjLuVbK7NEJZrp5xDskDQk50LUYB646tM+qys/MLqAV3EJ4VDj9oN+EyZiHaMxMLE+OylSrE5bRciga8MMjtLnn9yLqMUAb0OJBebOpe7QKbCYbqWnsoLXpDHHJLCDbZjgj8JzsklN8hdU0jJf9wbjPsd4lnnP+gLpXWXmg4xM92JVcZjfDkqN61rsk7vZgmkWnTDPOGtCVPDedIHJK34/4v3rcM8Fxr+HUVpF4M6T+33Aec6FcREk37vKKrqHu4ekeODZIVQbio55UHnLIXABIQCJg8E4YvD8FnE8DIiyOu/MstdtlICiRjmGRKQFokgWUDw78NGD9jBtYyjsoVjOYJWXSX+p4HFoQ2t9oneuLdDmt2mXHSdRYgioSA5wXMxggJtuqcENp+U+xbTFdrdNpRgqAa0RFRzh9T6CJi+Tk61HzQm/esXftJym3sDiT9vSEac4cdFNy3cekp5aAwGM7nZQLq3QVOV4FedQ0cXgcA4NWJJ4D356RFneHcazT1GOCmsLqaCOwY0OfPiwg6K4x0KieK23D1lDBFy4e+8O/Je5EMyBKVPRkGm3yCGUTgzGHeSN1ZzmZ523xtwIcOglBqYTqMs8m+ZDxjId+by9MwSQi0biMQWCdlaAaxt6dIFe53N2GE9p3uiPkg5vITTOnD+cBMeMcYvI1DYD1UQWzhJRl/ZL0CNT3VkvpIgedpz2uZTRwnHbST+6ehucggcQsV8ivblIzpPzaloYEgfI7B2qF46qVFjj2iXGtwA/GKKvrEznP3BPEGrymjldv/N4f+uCj8yAmCJOBgWtZsPU66Qf/f7B/fBQOE/h+RF1hCmxtErYbUgkIUqJEfYukUayjqdX6/gpwukFTHFEfX898etMDlxAORwTai/AqAac02XyV2fcxSv/Ov2Xgy1y5iEAJv/evXY1UqJMh7GuvwysQ8hdZVmBqlclcvYUYt985G8N3/n8nKZKuXJjiefZJ9/02vXrscqj5VetJGUpUUPGTlpULOg5WkAYj2EET/DGP38NbPBEzSCsb1ZZQ4Mp2CQ6pQ6v1Mk4diow++0F6yY8e/IysapD+qu795jo2AjvQRP4Qv7APgtLuyaGzgwXkbM8nC1SDM4YQFNwv421OBlvnQpI23iwSnrZYHwHbKsAuUbEGI9Ln3QiPV3CcHmBqg8YU1uE458cbDLpjzUhGPMrRCHWqUbhnBBLTJoDGi+HV/UV3ptNQsBlEONnl2+mn9y8HjmfmyhYuMuIalBfGzwK3OV5LEtpqpuhecwLIJa3HAIXFwLipxMs9QTvk363fvVqPKx0V4PGLT5QGUD5eClfQS+/Yf2T16Q6DohI9PEszjkhGj7cgofUUUachL1cacB7WZwMxfCIyOca/GF9ZQGezGq0GN8t0v3Ms7eIRYn0KFe2duX4o2IzFeeYc4aC0ce5s0KaYbTw1mSb+d/3h4D82lWDXQx1z5LoKG+mplkRy/LnQ3hWCz5pRR4nwX/58nn68jkpKkSlik6cRrhgO6YDdPsykX0jtbV6EV5LyifR/8fPmDuDI2WWNNh1FvJs0H8Ph5aFS0yBVbAusL8Nnu1z/hryXLzb29mL+X3OeWRWRUSd3v8tP/Irg1aI0k3AMINeYMpzk8h7A12piZPAdRjmdQgg0yxOMKI64S7ewH/53W8o60qBfOjeVcbr5bl0aIoT6YXFPs5JaPsy6UmL6FK7Zj0g/66yWOTt5WtpnnEsM8aWhLbqoGnoVnhrVCn/znpVbRxqVQrdHFMqXnm8SPGXqWz/yEfsTF//oza7fXlUN4TNSqxLoEJv3l6LXPMuCN4nIuBCX876R/6EDZ1N3hulQ8qIHRMOX8Ij/dMbV9Jf37vNcuvke6L2PkB5/qcvvsCDUmaRnMtpEQVT79t+oZ++ZtJYE6V8jPfYkmROuP7/2XsP58auO9/zIGeAJAjmzGZnBVuSNd4XZua9ra3a2r/21dZWbe1uvan3xvZYY1uy1OrIbuacSRAgMvfzPReXBECQhFrdltzC6QZvvvfEXw5afXKgttEgAKjHqHv7cbK1heO/ZRHhq6KN7BjlVLiPv0IEYK9ISBUWrOoprj+HpBzK1TIRYha8aB/gh8xm/ghGoUq/psznUzPmH/iF6cA8Df0aE51/W3ljJQITCfwAeIUfZ8fNYt4sYip1hsnBMaYFBaT2yrOAOoP/MgmDcIbJUjznFE6RqqWkHrbz+Pu+ir4j3w1JzgQkBzKEIITAr6E1ka2lpBu2jsyOPNEkhBQVi/wc28wKiEzZyfcLWbNXPjWJgaS5OzVh/uHOPZPCsVomUi9JTPc/Xz6jsz1mdniUSEt8B+SaZx4u4YR9TIfKDOwI064qphxi6MoisgCgsjOWP8YgybkUWaQLId/XLOi+9930gFYTGkgIBuVb2IfgV6InzWlJLKVBUxjkGmYtNcw8N9F+vj47NGcRVjqLrweme2Z4zOzDJPyP16+IiFdAe1kzE+mM+Wh2zsxOTpHUE8k02d1PISTLwG3JPs9hOLCnsCYRORJa2qhn1uwBPyLW0TECG5FAGey3Vax5698Y7toPf0h/GC+NtsoAGqdj7NChJK3ZpbJGW3wqmA6xWEArT/5iM589sISlnGIjhXNzLz1uI2f9++uX5hVO8kJKyiX8+eyU+eTODCa2Gezhi1gCkIlY74Ex0SBLGyzcUIBwVchgzR0FJvEBr6XZFqMpnC8dk8K3W8SuinbLW/SAO8rOowminGlN7eCXIidnmYiJyI+wphXKXXmjiuD4RQSEEsJW0RAiGSPXh888wNH62f6O+deF1+ZQeiRw352+jPnt3JyZAMeFYPb3sc4oom2SmbVM5TSifrSQyvVQxjRYYjTNMwVIiGPipOzyivoWwYzRMad6iyZ2H7m2B35RGgjBChWP1FgUSbCRU+DU12MBjRLeKBnYABLiXWxwDnHs8YsDzgwT9g/TI7hjL4SdngkgRQuj9lZIurnhtEnDbSNstw7C369umc3tVfOfxwbNf7133xQmsLvFLv5/Pn0CE3HOIsGoiUme5P4J1O3Seigpm6KBlJG6ZQG2nz96rCqqsvWt4CeA0T12zr7zvxaJN3xjCAnh4ptlGxYtQd8kWYynNHRjb9d4EyUTIzKCoqKIqThHynBGOxJI4w+yazBXEfNoatxEiqBxZtoCtqq/X3xjEEeY2ZFR87//+lNMCox5Qcja3718ajaqBePZInM37xiifwM4nFT5lvwSFCZ3C0ZG2a3TRNqQBB6am1Lvn3fUE27TXbCoqaJ9fUXbAeKTl4t/NGV8FlKYq/WQ6K7A/uHJIREnsiaMrWUSAKp54ocRKtIWD/PGj5laDUno3ckxM1RD9QquO2Mm/Wl9nYSCa2ZgeMD89sFD8yuQ3ia/3z9/BhBlrhxuQyRVkNomcLZXThDkcFyPw1AoS7iOBxgDFTt2dq/7p9sDP78eEAteRRggAmOE9b8DfBVSFwOh3C5JkLzskpfwczrkV8QMQX5CggX/y50HJoJtdDhCIIL1NYiMeTMAUHk8OWuz3s+NDptgNmlWgUtKNoeROw6VRIZhQcvsTwKOfRj/VcLH5oFFKezfw0STi/LN5afbppd1nEBS7sJYl4l43/D25zdK76ZGIvAk0xDkHAaHlP/8Z5MD/kfQ0udzJ5YI9ALLZS9/iBClBCN5AizzMna/nZkhoVjSEobH5TPzFTl1drl3ND0A6vCZUZytA5Gk2c6+Bj8j2caUJQdDGGNe+cqwgsynPEzKMsToNoIpP+9WiNE4Y12UTx+h1AdhamztJBxyAfy7RSX2/R/+H1kJQMjUias4pt3p3rTZ2tg098BnorEk8CrALObh47cRjp7UWN9iLNAe3SFc/sdo2VPMkwTv+L+WF8xLaIQwWvVHWIYEYCQfjIyY6r7fhndO9vaznplYCOZk2ibGUPTT8XHWrG9s2SiGSXBjgvki+uAAbdMgVh9BjjW8gi8a7m55Nz3wi2IgLrvMhRgOUS4pu5Ca1G5JEMkIACoOoto42EHCjH0uHG8IW/4sBGCuoKg6h0SVgLDlmjemJOuEhUMaf4ifwxmLIg9BHSSSjmwDk0z2PgCcwrr2nMOZ47z3anEBg52aGUTyPkj0HJnCSJocog4FiMIi9vEZHJh/iiIEyn8K3D3rVOnpv/vme1PESVwMhACvj9CIh0UkgwBphVCUBEBh8U4Kx9YeOVclqgrAoEg6+QKA/RS/iTwSgm2AdwnVYgL1tJyik9ivJoA9B0CWCMBgj/4+xcExjgjfl+4304+mARBQ2qx8P9J3mU9JRaqQqEo4pHB/LsH/PvvKkVzQGXxsCKmXsk8fgfTi4xNk0u4xJSSq+zjWF2hnUVJPgNsJc+kchmgfwHZYO7VOnD7MJGQqUQLp7XL9FMaiIKQH0tR8UAb0HpCfJGW9EEevMaX7HilNDNXvdDxj/HPjyFtEDKH25zn1hxgrhcV0Roy/GrwuInyf06H77rfsAXdaCukMsI4WllZsVDPFale0FqvZxDlyfn0F5lmaOGAicHWg12eGuEcEItkaMBElhDLCiW00upEcpjGsFdJemioaiQBaP63D+dfz1qy0F7OGAHBGhEwBGIy7NtGWYuTYGTBJzCQUVEMaiD4iQHWZhbcc2HaPCQ6BA0RX9vT1Wj8URefpG8oA6RCCwEgqBdnW+qbZwES2CoGX4xHhyj6ELcK/QkNefGC8aGvLMAHr4I8QgrcBwTtwZgB/CEUF3NtDq390YkaAxcTRAkfEgcPyGcMnAlirJHKDhACX8Ek4XlqHHhgUFWfM9aVuease0KJu6D54BNu3EjCKVJcgrYxPUZBx3cHP9Ps3b9AtoCfAfCyI9UE6QIJINOw9vCfEWBLuwNJOO/jFBPBx6UWZkGLsvIy7fjnw6WJxGcdqn+klqE0M3CszZzGM53wrLvNFBJhJOVHz3RPm3Pj4COZzDvTpsg9vNcrXPvSLYiCaEYQz64VYYky2FOFVFe4rPToGcYt0GDu6Iqq3XsySwkzKKkTd5u4e8ctxBmMuRj1Ra3c7SGixGgTgk5UF83pth6hMOAgjNY8iJQ5j0rPIIlCCuP5kn/kCadlr8ioU8B7zRiCa4Zyl5itBXMu5OIjZztrOqlW39ZHB2i7MC4LQWQDXjuS7vNDwTTk8atEJ8IZiOC9C8BdOcHSmP0IQ86hNTF7RD9bWzQmI2w+SV/zlHiJTDRMtabuYM0/nX5pDGCPZuZaxiUxhoqOoCS8Jiyu/kdFkzHwxNGpWyBsRxAkuhh9JBqbOB2GQL+GYLlQDYa1Qi709KcyCkDDSHda0yAaOfneNV9NVNC+cQuslpUJMBW9gYiA2ASlFP0pPzSD9pCpoCGoAtzgAzYcEBldxJC3H1nfExpnH5jOCw+ZoPyELafufUNEurW/YUL4yVUrI4R7GcxPVuuZBLyHnPh0bI+A5iBYE2AcCHa4QMUa+NRBBEvgoMo3maxik2CP/C1XWqnVR2fNO20FOA7p/uz3ws+gBzVFFUtM2BQEnB0prjgdcyGMLrcSUSTRtE/iI9SF4qOGnkIDJvofdsyTHm6z/KMSocsQkIB6fb66aZ2uLJuEh2+3sAzQIPRCRfTDnaANZI2tIt9cP9szY8AhEZMZEkUKHcuROQdtRA+YGyeejcN2nEJ93Pnl4wUC4eMLd/iw67++pEoKJgp/8BE97iCYok7Ut8gBkSB4IgGLcK0S08xPeOoO/Xw+CJo85AmfOjGRweA6aN7vrNjpfOExiP8DZHlre//7iGTlDyuZ+etg8mJoy0+RxKKDZL/JsFi32a8axB+ZwAjhcBk57U+AnzilMMCJoS0QeE8VHWif97ER0Ab4L7v+e+vlnUldFKtNYu2UQjfjrpSWbq8Wa3MpkjQUpv84p1qIfu43THJG4ekNmClOyPOt8E+ZijP0YuPD8rGSeLb42LzBD7CW31Bd3HyMkS5nRvgGEjQghEcKtYUK9g9Z/Eu1EAgsSP1rKc3xdTjFjKjG2XmnrmU85nK17e+r4kbkoczbBn255Nz3wi2IgNHEup7kmkv45tv4ZJN7KTTD9+JENw3qGtgGLdlToRP4BeIWw6c9jexvDuW8ahNYP0AtC4MZSEaITFc0yIVvPkIinCGeqKAITKWKVw5T8t9ffmi00Fv/Hw8/NzNAAqtk0khaciYkYUcJmPsQ7ysSyli2fJOubWxuYxSiqDhy0C9yoo+opaU5j/Tn1zos0EAIGQgDaVazsKAB5B+Df03fH+OHoPSBzPwSvJPMnLOZTmK0syD+Iw9okACKDCVgMCYOPqEIL2xtmASmhnJiQBZphbJs/H8Mhmz76f158w71J87999Gvz67FJc7cygn8Icbt5r0LwiSCWbbQfjU4VILQPQfDpo0c2uoMl6qUiee+dIvZF/1Sc7SCO1Cu7W+YB31fIQBJ32HBxNexvzyBMAJcQMXmiNoXNOGZs/QlyjTDOEQAoAebMqz0YTcL1pvERicF8PEaToSy5//dfvrK2wv/rb/6DmYCJSIN488wVoK/x5krYjvttiF/NBklrFUo4BsJU9k/X1Ern3/8sUV90S7cHflgPaA3ppyWj/Dti0mU2mkAoIDPFCkSBMtjPsr6CEACWUQYO+vk9w2/q22dPzeP7D81dYEVx99DMlw6NP9pjDgnasMh6/AzzwbszmL8Q+jGHgGL1ZB+BzLbZsZrLlE1YKXmDH7hShXmJ9sZsJKg8YWBl5tAt76gH6oOscVaRVFqCqHWyi/8KvGATAcJAhBCiDZHrZlQBJTARlo9XkOg8BXzG/vz0Oxvl7p++/E/m4zuz5hXZhAsIq4pE3lraOUI4VcGhdsD4yBtS4HuH4KV1zGYUsCKMD4wH2/oSBKSHX5mxDsJchpFav8E2XyawNiiHZqIoSgmIVFnVu1t+dA+MjY5YvK0kjiEEXHlMvYPQBwMEO+hFiBYPJq2fYJAojDJDek5m6r/OPzX/8NlvzMz4sNkvnZgdEsYpweo+63yVqE5zPPf4/mNzzDuzMByrCAkOMXfeZWxrCB3PYDYwUzA1GEwJBxT+vQTdVoA+UXAEDa00X93ybnvgF8VAOF2nSeRMJAsv2BXzPAICWV3BUQtiLYoUvRciPosDtezMN7Nwy6hFc6jZ00zGRKqPEKuYkCABXl/aM+cAtgIJ4ULesPl0ZhopCFGuIXzXiABwqEgSZJwu8c6SBOcYv/u55sU2U1EpFBr0uK6+V7Uk2Z7CPlh1srT8ux3vW99mfRmc7kHaTd4B6i2n5d39XWyO55Ck+9HKkDeDhblLXU+RHFo1JQs2g3QwRr95WPmbO9gwQwHg8kTUJsxsMNf6z3MPYCJ85hiieYV8EWcQ1TkkjDkcqAKsfw+OyT4A/rkicCCxqJ3Tb/iERLBVVgZoERuZjBMpRYBHffTeC4MgQkcMFXjGzpwhJKTfLy0wltIaKUkV+S6ot5Ilrawo82aSVmPTiWYgihRMGbvP8KnZPNgkiznvgAn1oaf4GGJH6tsqZlov9k9wHieJIAjxBOPNOFqEMPa85zyn8L4looLJqNNK7lDna26IgRhBCucDCcrmuIsE3/ts6H7gHfSAwIukkTJH3Mf8pAeYKmdX+YFpUXuBu4AEtL4QAcxrLI3MKWsoB0O+Bzzoxczp/tycmQ75yEi8Z/4IkaGoec8gRAJnRDnDVl5a5XgCAhLTwhzExfr2lslj/iDn3RgSyiRmiHGI2bP9Y+AwaxgBR7e8wx6gnwWeNdaMqs36/HJxDcISnIImVXBdQUv8AK0aAjSyAdroWEGuZcnDxBFwLWC2gXEDEPxj2Mrn0HD/8clLG4Rk9XDLbJ1gwhZLWdysCDxRHHiPCLSxf3JsSvsIADGrjQMr+8DHGL0i8POaLNGYpseQgoPH0HFZk1Arg1Jlu+WtekBjbLuvvqP8VREYhxO0PWkEitbPCYZRSd/kI+n1iGYQWym/UqJVMhZ5cPw6hH/UkzW/efQQ/4hzTBk3zbc7CuNaM09W8cOECRnCB0K02SGU6wlBV7IwjEUEv8fklQFTY/mA/wM0SxTYkUVQp4pJ29kt76cHfoEMxGVHighznebkcyA73BJahqQf5xy4Zd/ACJM0j5SqRJxqIu6gFt0pnJqz5dekUO8jYdqxWd4gO7UfhoF4x8MQi30QywhWzLfzr83i+o4poyZPgKxWIbYP0VAMQiD2gtwU6szObgTGJexBJREpIdmXL8GYzFdULlamc/i3/uuq8AeQ7H37at58xGqMYGY12JMmTwGx2ZHs1Vj8FZiAPAt5e2eTnBF5M5IewuGJbLA4FZdgmAJ0dC9Rp0bph5PDU/PfXr20ydD85EiowWx8u75iUqhBx5ASBQnZ5oE5UQp6ZYqVBiIKw7axss7XPWh4XNtVUeL0oQTu77C07XKIGkV8kKZW1/vJoFrCxOIYtbm0UCnM3GTKFSrlzRF+H1hjEjIyYPZPT4xZJkFVZtwcHJCYcGvPeJVpF4JmmIgSfUqowwv/z5cvzRvMKhQbPwxD8QakuYUvyCzvTeGIrXAURXEHAEM5jYVBitoqNOGnaMxULup9sWNPd/90e+Bn1QNOhmLi+wM30phpigkOsnYEh4usdSX1LJSypohW16M1hOBgb5voPPgBeQNJs7Z3bNY2dszH9+bMfyRqWQ3zJflHbeWQQMNMJEt+fCLIqcK7Vo+20SDj9cD1qhhyiBSFW5YjdhKmAVk4CeQOTQ828mGIzG55hz1Q1wwLHDkMxBBhWYkad3wKjIO4ZLwE1/xoYhUUIgBMy50egTcKZp0gE4VwD/6GhF998b0ZIUDJf/roU9MvphCTzlUicx3sQTAS7W+kb9iMZzB/3dwkYh3SZ6TQJeCk/BxGEn2YxCkTuZzpOY/57Ak4e2joU6ehmLnhZ28FRO+w5b/4V0UQFg6AIzcYk8Hxcbu2lVhOOL2MRj3gBUMiTF3dWcc/smYOMIn2+GJmYXnbbJV3zT8//LW50z9EqOaYeUn+p2e8R7g/hml4kHEV87mMadK5AqzIDJwelyY+iRY/Dq6OcU8MM7l1hBOKvqSkgQx1wzhrVnbLu+iBD4KBcAyR1B3OxLCSWFFbDcWhq7hTF+vzx5EqO0/3YX7jYXIfYyaTAjGdnh6YtBAN3LQ3hQkNHHP4lCyWxCveQfOQOvCiViNhETa35TyEH5N2DJVqnMVTwvFvl4RnZ0T6kMnOCdkwlwCOypraR3zyz+fu4ZAcMgEk8V4I5hzS9B6OT7HhOweo9vNeIVQvDIct1NlpE0eiYjsoYo5uK240qsv7nIdYg7aLJCSAdDYTk+Pm3775BtUgxCsLtqSFjIQhIfMC6l2BmN5DSnCE/aGybycgjGfGB81MiWhJMBayPR4bAoHw+jxtPoExyEBIhwAqBztbENe7NsFPdmwCe+chpPNkqKWdSgpFt+JX4SViyyZjAZBQSnsaZ+vO+7R/MaCXDbmyd7WtV26xJ9T2ppmjY77BFy/O92DSlWRcj3Z2TQ9M5jHJbpJopBKxtBmGGLH+Gj58IAg5d3iCuZcXTQFM2ABjf476lRhNZpioMWH8XwqnBZtZt0q/ZrDV3N/aNPM4TtdwpM8PjxMeeNZUQXySyFZgNAvMjxiRwc4AoGd8dxCtjwo4koKSVn1zUVOdu67ogaaWXndj9/wvuAeUJdrOJy0M9rTc7Kzhj7Ov9cd+B1NJq0hvEzZXfoARTB2evnhBaGjkzfIFQ3ocZ417PIQ4xu9HWs4/z78whwgl/AggApi5KGGlzCmzSKMFHgeA218CT3dg3JVcMU64SB9CiYXlZVOOIYnEdnoC+JMK817FoedfDQY+KKKVRbNPqGSFQZYzZrf8uB5wpgA9rLkhhMVW5xRMJA3jFgGOH5OEcwQ/iCO0BxVpndANiOA/p/+fLy2aV1vb5gRiUOOTBl7mgYXKLKwgHHFg7hdzd0zocMU6yie9Izjnxs0q2qU9/OdiOMJnEv2mD2uBANoN8tIhzIGpQDgTIVTsKRLxCjilH42XWxzs3xlOdZ/pbi97QP3nQADnnHIbKfP4EHj8xcIiuBMCH6Fjln4PQDOIYStAWOxBF/z7S9Y+ERrlTJ+I4DtJjo8dfCB2uXeSl46ne80/++6aNwgCgtALAdZ3tVC1ESDPw37MyJMwiUlLS2XxtazBXPqgpcgjR9RI/GbwNx0gSI0yZCvwiL5kJ6SFZcw5e6B6c3NjIy6b17yneWrPsENx/rpbXXFf8suZTx8EA+EMnKZD43R2B1Gjzs+OtmQhKgJyul5/gskVwfk1iS3dPk53vVPTxn8KDoPQRe+gEOJMcR/+Dv1mFSdqlOIk9CKCUhimA/YXdwhCd5KQCBX7Gtx0mfeFsM0t5/bN3OSg8Q+A9NBkvML+MoudfBUpswc1fQy1PPMdabachFHTIx0RxxxlsajKmo5Mff46k9MicqchnLutuJP5pvtspzTccPnM5RWk/ixSLcgCJgARkHEeRF+FSSI8uwlioqWMk2LAnrD4cwCEFNL1oR7SzJd9pt9LiFxUjju0YRntikIqJtBeRDHLeXx/mkhNA4QxPcLE4BgVNSY69E0NRiQEsXCMeYG16ec7+3uEWkyRgApNkIga2ye2kqqz+ui2ctm2m+50Z83FPfoGP80UFR0qpG8GbckxqtMRmB4pwz3YRki6KmAVJelVmv5YBQmeEKc+iBYhDTOZIItuOklMao5zMKdbIEfZhsYAsLGzY/Ngbtp4BvtsjpEFQgEf8s5D5ogihGXw7Jf5ErCRLKx+ktkdEA0K538YXKfQB1RezE5n/aGWMOm6pdsDN/QA8mGualU48LLxVouH7XxrJiIa72ncR17Ia3CiZorqbUMIXP789V+IPIcmjzmdA67YdwJUib+EbXvZnCKtjGeixIgfI3ll1CwRgnN7r2YiMAmLp4cEoSDXDqGV7xTTCHJKCDNwxgVu+4n6UsHEcLAvY8b4rIIcFMgZIH8qH2ZRcsRWdY6wr348Ml1nwBtr291/mx4QVFGRZFjFnTVRMk/39BDJ8Jgxm5mw0mCGCS0T5kzcVWTMdzADrjFu94aTZizeh6Y1ZP4CgxkkCk+uhIAK+/d0MmS+HBnCvh0z4ArR74Ik3+QZpDH43QVxoO41Ed5bQtBXQ9giRxrISmAyCT3XNm0YWTl0qyjAhZ2+9qj75216wME2Mh5yqBP3HX2YnSm8eZV1p3Esst7IFW+zvxcw6T6CIcxhnTHYnyQxXC+OzhHzemvBbJ5yDQ3iIrAgw/jM9veYKZzqKxLuMq4rvjImT4oQWTXDfGMIussj7T3/sggkPVxTsroqA6vs8o8f3rE42y52WznNS3eWurXV9nYaQvDLZTo0r68W9x3tr169/+//zAfBQDjTwZkYdt+dH0j3Vaw0pD5W4ogdKX79/jojITvy9GDG2vrfRzIl7YSSsKMjsFIzIR3Z5isSUJgJWoOgyzJJo1o6+g7vWdrYMH9cXECShqSL30AaDjkUB4kNme/NhnnBdYUgXIMYzuPsk0gPYjtPBCZWoWwyj3h3Ghu/KMyMlqP+OYUbLlQQ9VO3bm6fxJ1I74XQZc+obKJHMDgDLHYtohr9VaMfFHHoHO5HkU32cjj1QhjXWMQFmIQI2fOUkr4AsPiWjLIra9tIhUhDT0bYTLDHzKBi9vA7OcjBRAkwnNvQuSmki34kVrKdVExvhfw7QDszOzVZb7Xa5i5W9dHtbXWYsFs7raMblGxQjtTPFxbMI/b9Vm2ONI0+EfDKgRnlK7KPiVNVCIwwknKuVtStMnagIa69XFky362vmFqOuYLUtA+mawzJWyqSNoswJq8AoGU0HetkMFd/DBDtq5QXASRTjJDZRLqSzqQts+kwU858ttO7o/7oqKndm37hPaD5pHIJi+yBPeesKZEQWoH1G+tXrtvYNW3fRihNBAsKjqCM1L2EdVWwihoiygpragcHaCzZMXVwHCPlRNlLfHeDxnIbIcyb1/PmzRt80gi7/as79/FDikNk1PA3w8cK4YYf05UauSQwjjaVdMpGhFESK2lBRQYEYL6l8cjDQAxibuEUF6ZcV/uf8nwnMO6nrN/N35Yv3QhR+Y4JKCJ/F+G7M6IchiH+Dxn/PD6BFcK3lrI1kwkkzEdD49bMd5XM44toLf7fb/ZNDAHTI7QXd2fHmXpknWa8hWeUPFDT7xRzt2qy31QZ5xo4/Izr0szaTMXAzG00FWm0+yHdf1Gc+WtfcHHu73Xnp5m/zsrXty/naIZ+LqJlKBL2Pox2Pk/4ekgoNOhVTIt2MOcGX0InSKt+Z2LUpJVpHkuEZczWFmEaFxm7ARi9L+buYv4MDcaax9rJ+lUGEMadYT5dYP0WYAxrvEuCNZEECr4S4Fye7yqc8xBhg1VgFe22CY7ZM/U/VnLReOLqvvOOZjh39cidT1ef/xDPfBAMxOXAXA6nHUYO7ZmLMUXi6lBYPOLIlIX4YGxtGcQhdf7NIvvKUIpEjJCZ50zGHMzA3j5OxKjlpB3Igdw2trfNGQDrHlEDeuKy16xA+G0S/aNoM28mSudmbmwUEyZxyITdRPIVRUNxgLPP90f7hCc7NxlUrYpmJIKSPM+Y8hyaYQhTv9QRF0UtcNulhrj7Fze03XH9F9pebDp5+/sUEWqIvhHzNMaCVgQk1jMAgToD/GswNwmiqgTIvF0gAsr3hG0dQZ388fgUTAFSIhbzCkDDnwiZ3nDSDNPej0EEGIcRI5qwpfSD+LjlrTWzvoCDJM+OE4VI4W9l5nOKCUMFScbo6JitudM2HqAedr+Dxd/U5HdwoOSDp0hOK0g1xVBIlXQOtpJT1xHzwiYqQm3OZDHbJK86Ajh+MjWDqVOMOeIxS8yfAlKVwSEc8ms+MzVAtCbmmo+OTSCBiWC3vXu0a/YOt00PRNb4Z5/zLWnEYGRptzJ9zjC/VKx/Rn0YSa/XcetuH/mOX9W98YPtAXc+ObPlylLjtPQP1yLmhn5xyAsAB8SfskMn0GZaZhizvQzmTBJoyO9pB1j7zZtXphBBMg1xkI4kSTSFz0IerWUfYaWnZ9FC7JpjsNfm7oEZxaS0B42vfB2W9rbMi611CArsoIEzSYQ7m/hZKAz1cGbQhkmuAXMiCDoUHaYKkaHQ0N3yI3qAcbu2cMnOHP4MptNmAxMlJQ30wegViHRYgwh8tThvoycV0CIEwH0Ky+tHk51gPD8iQt3pFqabaGJPD07MK6JtjY6NY0dPrp3yqXmxuGh20ObXwBUhmI0yBOn25gYhxnlHMmLC4HBpnYTtD7EeeDQ7bat6UWNNaMHuixPXtsRe6Byv3vyeD+WqQ0VJA+GsbkEDjXgKX6aAhKxonAYJtVoFd4nB30B4+mRt2ZwxNqTRMgHMkESEegl+8PHQBL70NbMFTt3HzHAFH78eLEI+Hh5nfGv4kW6aF+BRuUvLZFxzaPWYYC2Y8/aTxVrafz/vjOGIv7OxBT0SstnlFXDFCbri1rG19zscfAvnRC3qPXZWN2z1Tvec9n8Z5QNiIDSVnQHUdHCnhAT3l4ue6/x3gYXuEd8MPWb5itGJSVP7t38j/TlaBiQj56dMeoDPHrbsuzhXx9MliNgRIj8Qgx/b9YMs9uvMpzISepk7lSEgPSCtR3N3zBy2mZDF1oNMYeaCSM9GiEgQI+KEp4YvAfGMfdxbgvEII50Rh65IQ59/+omdnlUqJTthd1I67VHlOdVJ0aO3FVe8eMt9grHKSP3XZy+AtUSuAMgrF0OBNu8iZddWGSVnx4bRJpBkj7Cux9gx5kD6eYjhHC0q0p4hmIIv79zDMZjMzDwDV4AqmxwI9N8kkY1AJwASMjyDCKowWBXuiYRTZntjHcdHMlz2px29A31gJZ70T6fdYQf4lnZ2eln9kSYsocophEkQwp+BRNuATTXHh0g1o9R1GN+RCIR+nj7K0S7NlQxtrQLQSmgq4BTNw7v3zCRMRZiGVPB7kKRO4z49ickG4SV9EFAhbMFt1AoYWSXNUgK5Q5w/x377W1sH2ZWqP9QX7s9euOGPpod+3dLtgZt6QKSBLS7Q5MCBp4KcnYMje7NmJ+aHXoQmQuiCe4oZv7m+YT79/DcIESAq8feR0+OA1jphoCvEXR0BBpzhFJ3AXCnJPZ9NTZvK1JT5A8Tk/iEO16yJPNUsQ4DuwdRrPSQxu+wLxtHsJSE613DazSP8yZt+mBav8vTgq7a4sECEtzAOmGg2tHC6C8IZph/6V33XQZEQ6uwvX+MHcULEpajVACmfjZJxhjH5PENQFSfvQ4wxszIZtLZTmbQJDPSYTbRKf/7uCeZuwrPEVELAd1rKmUNga4L7B3oT5JtAS4ugaStHfhzCgI72KPoSjCdwtohgq4AgawKGREUGNRpuMb6NAhh7sfun4x5oEhxAbLlTIchYSgshZm58bMTCjCI4PYrWcZC1XWX8tW7HejJokTBiw4w3Dh79jw/um12+/jvyain8chUTJZk8VYMIFjBtVtbpdCxhRsP4GmLSuHpI8lnC9gYJp9/PO0Jo+OMwEM+x9sgMD6L9IMANMMf6Bv5gK47mbnAeVwuBfZJ42uICDmc21U/+YjYfBgNhkZsAAdGTGE9lJpTTjIqG2R1aV83u4kIhGjsd7B+QDgAoBoKxpkTEGpczrxz8TkXsQ/jtIm33onaTdHmgL8BxHmlyzXy99AaCuIYNP8lx+GKYhaLE6ecQwDkg4QoJT7767hkhzQZxir2L/wN5H5BUJyCKt9FmxEB2WVKuFwlj2ouDF6+EeFbt1RhtmbL1uqotbmlcD428gM6LyG09V3+V0yF6iU5cnGRfL9dxy1b2rL1oBfKnZ9DJThSgIu1VtmWFWfTQNys4FN/DjnFkhIhDqKb30Bpss+C3dw5wkoNogJHwEKoviq4xjF2zEECefnq6uIQp0KK5//AhpgQZU4EASPK+IuYMAk4hInbsEk2htwebWM7LvwSa2jISbhvd8aTmV+re2pamY96jPmpsbtNBvS+YVk03SSabBABKeqqoIskxdCkgqCKEvhgFmUpsIj1RYixFkyj3e8waPgtZpCrf4twp++uapGJoG8L4SShyhHwXqqh6F4jW9aenz0yKefCb+/dwpkZahy2vB6RZLJ6YFMDzCAmtpKj9EF/qf7f9ageHtq6NbXKH2La13mY5oAYhzuQL5ABXPdEt3R7orAecOSU4q+nGPy3Gjop0aM5zyFssA7GwQnhPAJ5CeBaQTo9DaMYQuHhgIJQH5el3T82pb9d8+fCxSfui+A3BAPCtGvBEZg07SCCzq0sEdghYR81JiNEkuVd0cRszJsHlc9bPEfCqj/cqLLOko/vkiFAGaj/7sm2SBrG1XD3TesePO3bXZuNbrn7z6pnG+xv3XVjQeO6t9/ls519u/kpru/SeJEEirC07prBjfQTYOCU5KV94ODmNvwtwnbC+88tr5l//+q3xPJwzs0Q69DHWfQisCviD+RFZyzzpBUlLi/jHBONBq5UeSGbMOcK4bRyp1w62TSkKWYMmQpnJJdwJ43+RR/OvOvQTbVF1E0i/pA10pbXGnGpTOruLBzu+sc1HOjjVfrldHa121bh6VwcfvLFJzW90I60NY7Gxjqmt6CCvNE6s7VEsLGwkRWifQ+id755+b47A68mPFE0QfM86jCBYIIwazABWIPiUPskt4FOKYA2txgzPK3BNhdD6r7bXMVPDLxDn/CO0iQMwIyHwmZ+RPdg/MB89mLMNs6yiJfhdor+5ve36qPmO+hE3OnDOwZkW8rUfiLaPf4gnPwwGwo4MCWhKxOKH4MLy0bF1tTMDwAQFqHH24qil4vLJdsuFGsCGi9jmI+EiZKjMQ0an55D2+tAs6BIEH+84QbJcxTkr0zMnQZo53Ds0+0WSGZG0yMciEaE5hj1tCqClGNf691rMA/a6Z2gdBpjE4TO8KggLGwGoKVfEOSpWmassgugk7fMREvb4lMgRyjhcn5xqhhgIIWqq2WHRbG+4VS9pPL562HBz864kg7EoyZ44nT0i2gXmO1kAsuzxVR/ZsuZgtM4wBwgnMD0iIsIG9qZbmA/4QPLWFQUEkcHBLQWgD9AXx/T516srZJJdhnDg/bQ9hhNk6UyqaI/JQVgH0XKoC3a2dszk2Bj2kvhW4DxnGSfGxA4vdXK3zbVuc+T2QeO29TY1svE6x5aBaDypuSLHaMLZ7jJXlF3VJqjiUTmUyy73hJwQHqSpD+m3EkZye5hRHMFk+DBtC4lZIGHeILbZaUzconzvFG3MBgzX7+afmzzzKcU34uSHUAQmP3NFpl6qgszJNje2rZRO5koHx3I8VSX51eve6POj5qk54jLsfOdAWyn1+5NE0YJ4chkId6vbu6XbA7YHLqQQYjY1wTSViN1vJ5u0Xs68k7xD69JOw5atfche171iIHTgnB1hXVf//U9oLdHaIVE8hMgXERHnhTVyoGh+KvHYPFHx8ovPzD/d+8gM4TMUAD5kCNsYIujCEpoIwecgDIAXZ9sRCJcQxIQyUi9hMlEBvgSou8xjPNynNcqCMnvA3Luf/cpWRCaZgq+2cqqbraRTzYsu0J318/ahhj/15lwIbexx473uDa3vaDxff59lAnRezzdu69f/lpvGJlz7XWBVm2Y01V/vCZAcMIK56hY+XuPTUwhGaB54I4nkWMk4fZ4SwhSfOUTg9G+vXzLHps0sPoEx5swwyebG8W+QH+E8Qpi8D/yIiVtfkfxDSKPFfG7u7prdEowC0pE00m0xmvJdDHNtbXsVZhFzUQhXZFh0reauU0WRlXYes72tdNQft73kHVxvXw9GQRdumTP22db7fuix24b6c+6c1VoRHSMmfQST4ydPnxMxkKiKMAUFaKegiZgIjOA5SXQTrEeZay9idhh87TO/mbtnaSRVfxAmYb2KCe/qJgJIku7iJy8fw7nMiPGhjThA6yAzxjLMIqetQzzTxq5xhX7PAU8mxiZsd9SYP+oTwah2xfZHuwst56BmeA0vUgVpcOOs/6Xizg+CgXCQGI7NjGsJ5CPnZ1CJHWiNtUKlWqLTnRAWEUJGMQlkvy5pv50MYJGhoTHz3fwT8jpwDclVFCJ2QknmsHZuJe0AAEAASURBVLXLEVFHutUtchz0JQcscavjIcK+yua/iDnSxuIyanViTY8M2DB1C2SW3iIfwNzEDBN63IT1Dj4YxT7+WAQlsz+CSn+brIrpdD9MDOEMcbBWaDOJ95wFeVHxOuJ2jtU2tzQvAqdt7jVtda8TeUoL3LlbBEHrO3RchwkXW628KGp++XDItvB+P45JLNIkZl6+yDBSn33UyWhq5CuCRF7O1UpCp9CIc2hyoomoWVE/7EFE8+xwArMmQvO9XFvF9MBnpqdnTT8x4f2YcSmMrfpEdrLKn1Fie7S/j2nXp0gpAQLipGwR2Nc6dmtrD23b1Cq1sWmr++hMEddypNdW5lPu0+7WSk9a7rOD0NAxwDOy4/rQtjBXnj8zn32Jopw+CsOADhH1xaB6raGWlSZMmghfHKd4iBgPToATmHlNIkXZJGb9gRAeeTEyacL2cu/LlVUYUszkmCcz45MwGyBJGNMIatxT1O8aRdnzrpOVdWhw1Gp1FO9e7XAaQiVpCFrcNsSc2wBNK24S1G0afaf/un+7PdDYAxZUcqIJUnCyghnQGXPVaiDsOrJQuGk92YOGl+ldlzDImX0xmIAwJnx7+DJMzRKxjfleQyARB+7mgb9BYMg9NHFbi8/Na+yfJ3GiHhieMFUEERs848O84cHdO9bsbwt4kgXGiOHIw3jvKmwna1Ka5xSEq5NQDCEOMFYSaflVZfCLOEWooyUB336laJU0LRPusyDHnufAXrZ32X33XnvGudx03h60nL/KeAk+8Vl962Irlq0NXKOTG8/bPuYj+kRDrZqG4rbzjdW77sHGd+hDLkx1t3rOrYO7xZbIZPD1WlxZBsZjBgvxWCGyUrIvwnjAAIK7RwmpO0wwjS0EKa9hFqaApyLcjsCpB8DS4dEhM4E57TpJxF5trxk/TEmRATkAB1XAjn4iMYWQSGewrY8SCvhcvhGM99rqmpniOeHrMwQzqp20sIgI0WjjBylJoeps23L9VmTFrTcJf/BPfeS2vXHLaVsa+1DX3dLufOs54T3nnZdX7EzgZHMbuI9bmucSX2qskF7RybEqWH+/dlUuv+4c6DX6Cb0kCLxSov+PlftjoN9qE3R/iEkqnxUFXJm6M2vyS+fmFWM9zloc4HfM+t8m0WwCjcPc2JQpgVyfbC2ZAwnlgAs56IRdaKoQ/qheJHe9aBz7MUn0g5dlFXCCkDPEffF4whzX1zafvbFcrumG20RQug1kqz50pIn0NAfSbEn4qSnhClcanv5F7H4YDIQVETMpNZQgD4EFOem5i1iQQsBCYcRssZPCmR0Cy16QkcKFyiykDwL35C9nADRlsYSAxdErThSdKMDvGOm3MimurG+bcgXiE02bF4YgQzbM6cyQeYVq9RhC7wAzljPMVCSVDgPEwkjMcthqHuCEnCQqUxCpmkfOwWgnhNyUHGUHE6AHmPEICGjBewGwcpbVBFZ1dU4/54/TjItJr0Ndc4seE1JvPGev1U/YlcCruM819bq4zDnng85WTwjYSxKYwsRrD21A4FP8FugvhcETpKAbWFw4r0G5HsEIJXoSFmhL0j6O45w3GjIvVheJ6543O4RaG0A1qfYFIYzPkU4IMewjGeoHuHuIxqAs1PwhbCOxu09ObPhSSY/UH6qefmqcrSrtbCZuOKuGN0JMNUiNtefrL+CUute9dLFVm+rn3W3jq2yfcl1arkx6gHH9synliDOOFkl+KykAWR5O52SXyFKI2L7FsX6ghr+E2gbBlYYJG0v1mK39HQsQt2CkZviAz4dUFSmbNBsnANyD1DHhYolpT1JD4sBi2gUihFiSWZSSDd6/94C+Z67LnotoVwy40xi252hnVGxdW7fqBv2rzwF7Y/dPtweu6QHNKmdBaFGoCF3a5Ym5Xtlqeq09sHvZXnX+OFI59wQ3aK3a9WUnoV178gPrxTdqB3Oi6dkZu2yV0FPhrCXYKQFL9/PAADQLQWBphDUiGcIOWsyd/DFMBnlmIBaGiRlfgKHIeU/Q4FXM7jp+D+RckX27ZI8JhB0x1t45Zi0RzJh2N9YssRFP9loGQgSAu17cGmtr2+90gnO6oZ3u/YI/Lgxy15WWl5KZXdzeuN7cB90P6CZd13n+X/D29jzXtK0TuLZCjedVt4tjHTg1cU9x4rIOOqDoLrfoPre45y/OCY401VVXGEP3m/UHXaHMZRuc+xoqZmsFXW/NVJ88ewphSaASiH9F76vS9nMIMeQr4NhTkgce2E7wg389aBIwCjUbhO9dO8P0yRMn4ShhWBGcvECTX0U4tUZCuS1MPxV5yQN+yZCPpxcfxCpmMPKx4HGEUEemDxO4CkJCBedQ0fhIc6VtGQKhsan1pl3dgJeccaKNeuBi3JqPm3Dz1bfceMYdB92kntQ3bPRI7VOcOWav1G9wziPWco7d8WFbs0hOD/G7pq6dnpfe8WKuuZ/kvfZzAgvs6zPCP5ojQfJ2hNCwb25um/swfj5ohGKFvEgQDFYAgZWFBGnKH5UhilqCXC/SBJ6y8NcV4AChZBQNwyBBal5vrYBCPTjOl8zh7pE5wIFeeMwLzdEfTaKlYq0BN0KYQ20trZDpPo5Gy2ey0GydFHWNysUcaBlA57KsVZgvGg9gimgsOXKr0VqzFt7pRruA7es++D8fBANhpVp1BCCGAHIMwIDE185sZ2Bl8HIuguuiAAg5V7ESb8UNZtyZ2SlMmESQ7QGQhokecHJatCHBUgAqhRcsYVdbxGxkHZOUwjnMBVKUJERfEZu8tdUNQtEFzGuSnqFDM5/MTJqPJqZYFH7UritmAanYMISfj3tOCFta4Jcml8TpLv4PmF6Njo3acIOWm1V7tGBZBPy1E1uTW0q0i3Kxe7HjXOLw0sDHOeXM6+b7tNC1CN2iqzpq3apvlAdidISMn3/8o80iLWMwIYEADo/92Lb6S4TJo3bHELeHaAyCMF4JMilHeG4Dm/1tHNEVFeH3C/MmRnKXvskZ88mdB+a7pTWzqfB6AIrwIOpqJVcDECiigiRHymidwskugfOVgKEIELd+2rEMV52ocdvhAoGLrW0XFdGD2q9vL6QG9WPnfZeIxL1PuStscTds5eTd04uDHwhul8giKSRnZ0Rckr9Iioy352kYUe5bAyGWceo7B1FmON+HOr2CA74YxhJM2XPaHgGAfjozRYSQGXMKdbQCE/ZqcdEkH0zh7CmbTsLUIZntgQDKYj+sEIhy4paWRzPCqmjpA5kEqA1ibty2tttqzJ35oQe6pdsDN/SAFc5wvT73LR+uQ/HZ+iOBDdtGOOK+zYFj7hHrj3kpTZuFMnoRyFhhmkdGx83T50/tnAwAGx2nyrAphYhqhhnTAlpdHyE+P7v32Exg0nKSPTO/X3pq9iAii8CgLPBzEk1GMoA5EzWRtriGz5X8p/rxGQph2xCWmQwES4D1GYEw3Vhdx6QlDcERsYy/FaTYutXr5zaY9zUV2w9OZzh/ucqO4JBT6vdzqCh1F8WlUHSi4by60H7igrirv+vimPfpfr3Kfd0NW8sI6RuUlpo7J3/Iedmeut+qP+3C34uXaUdj6d5X31pGsekm8Cswc2Rg2CYa28H8ZABtRA7TJSUF9JAY7Axc/AaT1mNwxX00rB9NzzJFPOYbYOFfT3ZMLhU0G4f4OOwNmEGEKT3BmNmB0KwQAtaLsKUfTVbiPGl6mQcBvlWi+kGcaHPZPEOPoA/hYBVfCgkLRTMo/LoXnCIGQvPQEtItdW49VBCR1rZee9z6cIfH7cat9ZyjeeeFbr/bd9MGd67oAfeanUv1Y87btWrv0wE3XZlr7c+LIrlSdKo+/i7zLJtlfUNmS/2YdK+srJuPvvg1AkMfVhw4vbMmC/hSbmUPzJtNtEis009m7psxEmrt7R6br5bnzQFq/hombQsIAn41NU30xrDZLpyaFaIyhZHc+vCP6mG8Q3wrTP6pgNqgsYSg30N7odDMfoRyZbXvliLRs9tZ7t1O5KbmBwUjZF3hhVFVMspz9lX0tPbcZ3Xul1I+CAbCHTplIbTkNoSxBQr1yeMYN2mmy/rRLRxr7dS5Rbsg4ZBjSL76kbRvgmAmJiZs4jJMLeE3vWYEojALE7Cyt0bSOb+ZBQGJ+02zUMJM4AxE7snhGVkWc6aI5GxkehK73ABAEJ+GABxrFJUtEmWZoVQw98Ey19qFri8sWomb0r9rkloncBaggJpq7UxTLXzq226Wukjebdp199k3XN5km972hZf3aI+qQ5xWQfRE0YAx2FMyIOyVawBvIYUUhG0fUsQyjuD75SPMeFKcCyAp6gdYE5KUFNxDJN47xO5xq5w1X2XPzWdm1kqdKrJLwswAaMOYoZUAsJ8gVSwjWVc/bRKBaYzEQQHukdTC7QBV23aFVm+b9je3gEXerp1tnrtgKhpeIGDSWPRdH4gtjtakD/OjdYWhnB7HaU95dtEoMWBjA2mzDyO0jS1mEsA5AOEzHCHPA+HrBLDTEUL/5o5wJDszXx+Rgbc2AnGDhoHxV7g7MZkBNFfKM6KM5TWIJT/M5vbOGt+Nkbivx8Y3l8Ge7QiecyeKrw3QdKeNgzxgCNV/9T5p3Ta2tbv/y+4Bdyq588clIuwaYMKBsy28attLPKxp6RStDA6E6CnOe/TwOaGrB8wf//AHhDCYs5BlPYcPleZwkDUmCfE5k1VBBmRyVIbpXkY48+zgyFTRCqegmXpDPkwdc5g29ZoH/gmzx5raZN0FgFkT5K3xQIycQ6gGkGxGgKlVpNQ7ezvms88+w3QFf01pN4Av5/KFu4CR9Yq3gRtuH9iGXPyp318/tv1Vb+vFLe6OPe/0qHOf+1DDO+wuf5q27gucrbtuG882Sqrd847IxT1yCB53XC/PXt1r03Q7ng21tA9pZFuLo/lpPlsBL/eRGKwX2LW9gsnK8BjjivQfk5UAsNSLxFnaeSVtVf6gLLizwPg/J+Jclih3EY01zN850biCCPM+n5wwK2cnZhVzliyapd74gBknr1D1CEEO70K2gxlswBygbZIVQSoVs0yqB7yieWnnJo3UHNbPAaTNdb565GLjq1fcM+oNWTy8TWkV/LnvsHDbPWDbrs/tZHHnnDskV455WHW7OF+vaJtjp0sur9v+aqiD3eU7F3Op/k3NS+HqAPmexsfHze9//wfrFxlhjRUwH/PFA9KVYHmBGTQCNSWZUxK4Q8b3eyw/FvGDQtVoiMVlkggdMVgws6Oj0GoBc8i9G8yHALTCMPRSAMGagdaSs70S83qAEUeYMT76/AvMIdVMiZRvLmqh4MzVUm97/YIEJvZ9nBbT4aPPqDKF0XFv5WO3fa/+ug9io3H8uy+asBo/DZx+cnqWRMgFnM6AagkKQTQXdyFaYMksUBr2ETKkLmOPLv8I+yxzS3aS8J5MfP7C5YaYuBPY6Ck60fLrZZBSzdyZmzVVJv4rAFYZ+/1XOLv60Xosra+bSF8Ux7Ex3o/JDwCsivrV2s1z39L6ikkTdScEsNPCs6Y61MXL953V7tTZbUdzC+z0bTqltrRDLk03uQfuxHeP22wlpdEC6SHzY7I3adbRsNx5+MB4snyIa1axA3KOcZiDaE6wGGdY8GV8Of7y9CnOjinzj48+Mr979T1mTgWzAUMVXl8lrneO6AmHJjOSwfZxwARB5CGgvrRCchwuYoJwSDSFO198DvCQVENqw+YK2rY6o9R84cpRKwi+2m96pOX19bc0d5Lu0XelUh3EYXN+ecECUecLMkcCQdFGL47RURgsZd2eBGkmQZJLMERlYpw/unvHxPf2zNeLL80xc+IpsevFaG2hzYgR4Wl8fAImxQsDgc4J4GhjXKOO397eteOg0LdVq4FwdDAXCIG6+SQ5vKGonrpDM7pbuj3ww3rAgbTuGmAq1ddM+5XTeFb7WsUXhUWkYBMpbKUVMGFnY8fMzkyjxVR+BrJJY32QBMaOTo6aFzjOvsE0wYNvmnLpVJFAB4ETnwBzExCaT4AtaQQNYyQDPSewwTq5V4KE9wyw9qpEapEQSQErQpjNVCBWyuyn8UUS2SBzSu001tWtY7tzjTBZ97k4xH3GOdd4dHW/FY4139HQR80Xmo7a1U2Cs9bSigu06tuRS63PtTuuy9vaXbr1XAWCKwzuHCWh3PrGprW+DFnNEDCTanshDqfHxsy6d8dsbe6a55i4BtAsZIGlHgjPu8Mj5u7EmJlfWzUeNPZz09PmHHy7LzNXukx4SokJreM99lCKoKiUrPtoeZX4MyD8yvyxGgjV1u0qOuTm8WhoWpsbL4jHxtsa9n/IbjvG40Kyf+uL2s2bq+esxUbLuy40Gi3nGw+vYtD6Vbcf3UP6yKcBpfSj9ZGPXhZ/pDihds8KWVAVdBS5jwYwH5waHDHPMG9eAP9pECUcUMRLRVn7x8cfGy9r9U9Pn5hRGJG7OGW/2tw0W0j/FZFRtEcVAWRQYwI9FgK/HiNYkLBNURsljGuCN7ZG7f9c27aG2y/XuWPnonWk39UebnjoA99V+38BxRliAdLWX2vjBQwmAUxKEqZMh4q/LwQjc52FpUUA3zrSbKYbDq4+uOCts5xZxgZzDdUajhGmnwzKHhBbGdOVLaIv7RLjXPPbDyFZJiSZbPvPtc/Etw7cPLOFjeAETrM6z6uBa9qyw88e69wNP7E5jT9JdW66373W+MxN+0I2wkticCaJOLS+ROQkvugTRw5GOca5aX5lCXWyHBhRJhBlwYf9qbKLbhCm9ggJUQI1pRIDSZp+TvSqtRcvyTqaBZDAFLDgy0gIa5gaiCguEY0pRnSVfQjsHDklhnFiFyBQnwhBNtb1clG3jmTzse5rfO66fbdvbtoKYijDNLEkGLdRQrlC8KCSjaNS1RjmQW4LOO2t7e/BDMEo4lwfAaHlYRpXcfBa2CWpHh01gF12FEImSl/tvV4wB5jABfVhHLDLSo4EI+Yjtr3eF4BIEpBfgxkdQGIrJsXaY8JYtc7pdsfNvdE96vbAz6MHNIcVoKEPAcri4oI1e7BZhCUsQGpcYB3I1EnEpfLGLC28xn9h1QSBzRHWmnII5IEdG6ypPeBFDXgqjWkA4kLmMa9WFm1EuCLwVqZ/IjyUsFO5JpR8Sus1ALEjcPu3Wjf6jkq77/2Qcz9mBC2OEUz9wT/hp7f80cc1jNxnpqftWOUUyQ+GQj4vImoF3wrAugrHccY7hxBvBeLRi0Za0uo0Eeh6MANdIay3nKiP0DIJH/hgLrwI8PYxK361jK8dYX2RvaClgDHknes46E7zTeFxPkOLHfbJtoM6qbx1m+yzzf2oL3T205ffb2k3n97vF523i0mTdUGGPB69hOzdIvCHIqYpmmCFsfURhKQMnlOm6hD3Fk9OzfKreZMlNKuPaJc9DNEQVg7y91tjXNfxFy2xTmus6SjChRxaxoXlJbOLebRoEDEAMRiIDcbaD52hPDAqre13atf9+6564IPQQPyYztAEayxVCFqlu49hjrSPKixOLOpTmIECzq76nSMxCeDpPxTtM3EchBZPiaaDL8QIqtkYjjuxAM5bDx5AYEMgVtE0YGO7zOR/RVi6dVT0o3dxDEvhnA2QjBH3+oTkcWU46qHhIYhnSdjF00HsSvvRUrfGejbuX72P5SSM+I4KfJJ1dKsBECZGx8zz5y/IYQDix9zrCKSeBQgcwSxgh2XSRD4YJQRbAG3CJg7EFRymEpjzhFE7/2p61owSh1t+I1HsV2XE9QwksYYJ0AoAYZR+K6PJkBYiirPkEsBAxEUcSaJNrCeE8Jblah85wKX1dZ32m2UgGLd0X6910DzGZyYGsDxGa1KAIdK2jIlFHCZhIsxcYUa8xu73EKlYegSGCGZMpl7/RPxrMZMxHM6CqOeX8Y2Qw/ni/EszfP+hqWGulOddUTJ9n6CaL7CfIV+G5soPKVfa3zztf8iruvd2e6CjHmidc0LzrcW5x2PGkDy/ePkCogMYCFEpAmEgnYRZWDYraysmFY2ZB9MzphcipCKYIwYC+NMHvKkA66I41h7CnBd68wQyiBEVL2O2S3nuw0mXQBe9EJ4+mIYgppI7hBGVZDSCUKNUQNiB2YxA7dXatdbWOb7SrjZw+rbl1fqO9l+6+Wy7d7QTqLSpnkMx3/z6a6522ktXH1d9FZWnH/gVIlrSFtLk8ZkZkydHThXGTwTny5cvcZr2m4/BM3fwiTuFcTis5DD2xTKAEOGya0/iR7GzsWJ2ICwzo+NmjFw750S0yyPky2EOlYDxTIR9pgd4ekyADgkCh4f6sVtHYkwdhBoljLptjK62oP2Zdv3b2bvVl613th63uaV9NX4Uzm83l675TNNpZzY0zwlXsKXw+DECoYyMjJp1BGoPPv4YB+owgsUiYeFjZmMF/8e1ZZPEDPijqTmTwlcUSguTQrLDE0UrDI6MY+HhI+jBFpqFwd6cGenrJ7ACPqhEqJHf6Ck4OIcJdRqaTAKCHbRNmf601YDAq3RcWtvfKR3Q8Qc+0Bs/SAbCLkFWtQtMnS2S/w4GUfeEIdok5d3Y3DAfjQ4TjzxrvfpjTOwcmochzFaGuEfqUpnZiGDMB8tmjVTrk5jiPBoaxfwE3wCA3h6V8fXE8TgumTxEZkiSZP4pPGkfoUs3FleJjR3FPlNKO30dwIYUWrSyHHXbAafbm8Fz7XShVx7spEeoEW2QCZGI1iGcd8MQ+LmjY5NA2yJ74zhb5XZQpSewa00SlraCdKGCbaKyKu8QVWNxw2/uAMRHMIMK8dkSLy3CK3mxcaziGxGBaNA3ikqyxzU/v3UQzCDOyUGpnmFYpLFxzHYuG2KJkjYw9/KO+p4k+y3Auj2QaNcnzec0fjV8NKQyj6AhGCT87vbamrknTQlSrggRQMKMd5U+GOVaBn8HD857NdpQJhLTGedfo8l6AHP6iLkk88sqfYas1fgJTVeGtTpAexGE6Sozx/T1KI6Bb7aWrRo+BTOhukvK07YNaEduLrzR9tnbM2Q3v797tdsDnfWAELcIjhECVnz33XfkgzgFHoaJZpcjSADmCZImQmzenbtjfdBimH8KaWnmlpjDu0S3W9/GsRZqwYMUusT66sE0Ynp00pyRgXqrcmhSmEFFIDAs8cjSOIbRuDc7C5yRtT1rQY61rCdFA+qsdAJwOnvT2xsTXff+dmv/3dW3ldC6rhbtzqsW6mFl/1ZCt9XVVTP34L4FRTVwSwACMAmxGOsZMHNTU2QS95k+tNIjnhTjhJM12uuXaGkVXUshfovyc8C0eAj/uyrzYpl8An5MnkJJcCnMQgzz4I3lNSIByf+h135d/mwyRW5tx9vhWaeVbWGwc6mDv61zrvW4g1f8wFta267H37YNdmZdqbK0/aIbwNeYJY0SPvcVkbeKmDQHEajm0SrGWJM+Or0fXDZ3974ZQugonYG8X0rAAy900gYM4hrWCorGpbDuJQS4vcyPKWiyo9NjhAxFa84rZ23ReGXosH1Mnh98Mcf4qgbt1gKnu+Wd9cCHxUBAUNmJw+SRlOGyOAftFs7lPc6eFoQI1RHsab/++q/m0998jrmJF8Ifl2cm6tlR1oZ7LUMYKwLAYLTXnETISI305E8sktpozvz27l2+D7GI8948UvhTVKx3xsaNF+45DsGZI+qObH0UYm4PadgItp1Kua4QnSrWwo5dEd+dlE7a1cl7rrtHCfEEYFWbOMRxhuhDuzBX00jc5eMRjeAofoDTFGY8Uk/mw9i6IjMawck8j2Roi1Bte4RpTAU+MVM8q9TyYrq+JbpKnPCLv8KfooIpmPxPbDZvtDwVCAH5P3z80WP7XTEK6h+XKXTr2jng76wvbUPdl9+0ZWxE+EhdOjo0bP76/VPzyW/8lkGUc5U1e8Oxz8+8UKbMU6QxfZhbDMNUbaN1+vZo31RPe8343QcGE20bRvAVpmFlHK4nRkfJxpsxCc03sn8rzHAQpm0NbY20D1GYDGUtvxz329t2BUEwv9xz2upd7vamZnevdXvA9oCkChQxsULTl3PRnm7/hznWOlO1fiWYGBjos9rGzc11M/nwDokYyScDkTg5NIImoh9Y6jGv0HwOIpGcYb35YcZzMOLffvfUbOJIq/DP6XTaJiqTD5lApwJVVCQFBbYGcNYUM5Il8INyQAxjh8+Et6GoZcZEMzprQ4dt7ag/2vdSx/VofVx928l3rdCl5WGNw9uWTp8VdtMMUPKwCTROT54/t47xPsZFjF8IxvHx3D1gYBzt86pZIGLPIxyl0R0ZD5rsN2ur5lv8YE4hKGMEL+lhvOWsrVwPYH5rIRBJRDCVCWE2WsZCIGS21tZsYkHhbuEPMZFqf2tzO0S1mjJXigR+raX1/VfvqD9RX0fu8+3GTwKrTkq7Zxufc+F94zl3v92zrfe3u8d9vmlb7ySnD8jTQCCDGozEPmGWk5PDJn9SxHSQtT02aoZ84zhQl0k499TcG5kwU2ScDuL/uMw6/R3maznGzI/z9ETvgEmiWSziD1MhqIK0D/KtiMGQiIiVT+ARpm1V3iXaTTBJ4eBtdK2myrU/6KStjgxSMw0tqZ1B7VZS+/d/qGfFpn0wRRNWk7zjid5w/8VzrFUhoEw/ieAg0s6yOXJAEAkAQrCGxCMMcFKmw0PsLHNIh4eINPTJnYdmgPtrMAeyta3hA5Ag4kAWjlnOfytImw2aC5nmiOCWik4ZMctIUpQkbRy/AuVUsPWnTuLMrb0/gEO2/z/8B2LnPbf99J1Ofg7QFfBHQg4xK63APtqUAAs4SHvKEMUB+i2E4WkBNfIRaucsqsUxNDGPZ++aBADkDKm4mCwcHYjXDeOEWdib1RWykm4TyQlzKKSMYixK9GkMs6VDssRKzT1EqD/XN0QpW1rr645b65aqNhUHaQhx3PzrrK8dRChJlhjFoaEMtpo5a68ZYty9tMMD4ZKg/poL20hLTsmcKlvQxzNzJCYcIcQgzqCo1iswoTV+yuStDKurMGZQVAZDN5sJXc6e6n/NlR0cqCdBqMzQi7a1tlvHznXd0/jTI43HQkuX79HVbun2wPvugdb56nyPuY5pg6P1RYoMUSUfBsFbP5LkKPHhi2ga3iwvmhUSyZGiEfiIOQxMxKkITxjq2ZlZc4cfygSk0yS1xHbaCUbhONPK90yJMA929iwBq+AXNkY+94t5cGie5vWh9aLl1PzT+uqstG9rZ892cteV99u138mTgl+tcNCB72rdzb/W53R82zPOddvJdLSItdERNPvAuTx4VGZlwqnCjUGYhSDjukYG8SdrS0Rf4jzaWUVOOkJyfQpsFfP3KeaufTCWJeDjMfinCN7Q85aZ4PkAg6roTgfg1wkcr9U1+q4YBQsj65XutO6X93XW/iudQn+3wt/ORsqpb+tYtzvu9H3t7mt9n+2wdje2Oec+614SvrIjTn+DBm0IdjERq0S2lDWB5l4VOiEE/cDIWrPceYRnyzAYPkLiK3TvMc7T+wRc8cBUPpy5Y+6OjGOl4CTf1Tzw86zyfFSIiil4oWsbawrN3IsGsofPM9Ywqq3FrWvjtvWe645tq9y2se1iT4fGvK6/PqDzGvrOioCMCNYM2gJxtfsQbSnyGdjoS5r6cLW7ZGN+vrhgXiARKSJ1T/ijSIrzNhFOFEnaeSxgjmGBa/g4+JIxlHLkjsifwUDITAf+lcmtDKsiwgtkVRwfJ0SZgBtVbPxZO03O/9RbLUNqbgEvTTDjUxMmiwNbDifoMCcEEhQi8RyJ35vFJfPX16+I17xLY0AGxGzOHmZNhEgrYSI4KbZ7CQnCKYxIBRvmHEBAyD0ksyf2qxDkESSGKwCUQczI0ph5OX2CWpRhlBSg6WeHtR1wbj73Y/qwcUzcfTnQB5CMiCGSzaWcM3cgbuK0ScRPSFJQJGO7aFGeLy2a+fVlsknnUKvjGKowg/RNZnzK5FDVllCxF5G64PllEWaR5HpBmLHzul1wGGZzB3+QEghxemaaLXbbaGtapSaXM7y57Q4hxDyyy8DZOnCw83Vx+e7uXrcHOuuBRiRt94ETrcUSdRKeMCHFHK8TJOAcojEKQVBGAIPfpGWoTyA0S5g5VjFPOZMpI34L2Aqa9MQIGl3CPhN4IYpP2iHa3SeLb8yzVy9NAZis6GWCXTIplUR6ZWnJhhGNQZjI3w3wKomNNdNsBixcaAI0l8dX2sU3Ws/VF1trczs8vrp+O3lQXaV13cnPhWPu9pqmXtcFLec7xFHUT1pmMXbDCKFijN/OJnlwgJ3yfxBuBTXYcc/CENSAhwXgaQX4qJw5aRgHH1G0TjDvVMhOhfVdwcz1ycIrswrsVSLYAE7aCuARR9B3hKkaYTnM1NSkpd0VglNCKts/dbzqEvWd44drp0VTn7SOVydjct09re/6IcfuvNQz2u+0OHPp6rx239e01bv5XQga9R36WoE+pF0MYYo7NTlmVpYX6CNwF5NN5s1KvqpskUdE0aoxrueEOC+gSSwAD0JELexFkyCc6UUYGWHe7B3tmZfQXC+hDfLgUNFT0iqK6ZRwdh0N/d07swgjoCUQ2HZamtpC3a/tp/o1536nzZ1+40O978MyYdIoCfZS7CDXEZbDKzKpO1hAeu5ckx4CdwzbvS242glNSs73kh9Cjr8sDZOrke8BFWsOlZqQE0b9LCC/eQFAO1NEHoDeIdGHTuCkqyyafB5khjOw7DalXgsDGBdJGBZGSp1MJCzTYive8Ofaidxwj3av3kd9tKJvLfXOuuU+IRmFTBOEFIGfIS19FQC8Rf37J8dNmMR6Q9gdH3kxq4EOPi6dmENJ5OlH5TQIISHIk5DvmzevzT4O6hWCr+9AHOQhCLxI1ssA/KCYLkkWILDPFFUFJu3Tjx9iekA0Bxg6tdEmkrsyhmrD1Xa03gZYuKWV119uJdRVF0lO7Hk+7UWlPjEzTsKcFTNyZxqGyphh5soWNtllHDUJMWFDU+bLOZAlzl5IzfyEcn2zTEQv+q4XjcsOEtZcwGdOsxUrPZ0g9G2RDLyai3Ik/25hGVO3IRzKo6j7xUDAtlEP/Zz6XbZP524vV/vs9me6d3R74F33gCORFiEv37IS8PGQRFA9REjaQUgRC/RCi5SJrEPCMWDBCvkeqqsLBqhjVojEo+RSZWCMF6mzTJ4O8lkcMSuEhk2g6cS8kiAGKQhU+Z4VMSmUZvPRb38L8enAFMEF6FYYetrV0bp5+/Zfvy6b12L7+zpZ02pD87va15Z7LOd0efXHNL19fS/ffbHHZ2WWKzgexvRkDFv2RRi6qbk7lvgsoYWIIqzbJM/QKTi0lgybv6ytmf0YGmxMOddxtvYADz1k5Vb43wr3HIBjzxG++HlfCIHNKIRnHI2uov49XXtqRkdHTRJHe92vIhNnDTUo6S1LJ/2rDzW/vhWHXFxtue/ifONOh5W9aRx0TXVw7unko40VuHnf/a77fh3Lf9MPN6goW2WYujFMuP/9yV/RCO0SMASLDpKp+qPcI80SJoV51vYSOPCciIUxcOTqyR64EMaCzNUKu1wjk600+TJbjJMPSaPYwxjLciGCBqvM2j4jktMk0SyVNFBqRUfD/m7bqp6w7WVMfsyaublH/36ufngMxA/se3fyXzzGIpMxkaQhU0zGf/n9v4LUCMUJhxuGOx7oD0PkRs3LjUUbViyHuU6gUkRaPkiGTEPysJzZW18yUe4/l7NXjGQoOEmHFQWEGVeEcJazsGyHFZlAUvaAXWTo+v7G5Urbr/m+kjrVYIIUX1uxlSOYDCSTcZK8EUUD4C+38B4Af5Q4z7nzojlZxwESOHuKFEnx3Qf7BnB2PCKL6L5ZlaObByYBiYJ4klFMv2TjqLqUkRpE0NocETkji3ZDtowIGUhpz7eRNNBllBaA0HLoNuFagO3e8CO20lAJAcsGU0n/fADK8YlJM/+739loIkqGJ1Ha8CCJ98i6mV9+SZK5CjxmBfMKEgwyV4o7HhjMM/PtyTLaFzGl5+YMs6Y+mMkIyNCjbwAIJWERoNoltv3cg7vUWmGFHaLLHT/HYeyyQVTt2qJnXEDfjvG69sHuhW4PvIce0NzVnFRwBEWxS/WkzAZaiMHhQTQEx5gpYRIK3IkT7cxTPjHLwJA9IrJsFxHiwChUcJrNAEN7WDc5ESDA0qJgFUTI0MAIEX1gLs5wzEYwIZ8qmYpOjI5Y+K6FpXUnc6jrirvGLq9z7w3r6/K+9793tW765s+kcm2a75i2OASYYPkwvn/PXs3bYCQBxkd5G6oRNAhEUYoDNzcwc311tmk2za7x4tMg3kgClCHGT0K5MnhZAqoqjOIIJlFh8ERMMFPmTIytQq7/w+NPLX6t1BkI1UG+a27faeT1c9iLNpX+GZyiyhT758bavE+cd+OH21yUqbPq7SYUlH+SBKU7CB0f4COaw5f0nLXtRVuQJIQz4bnMEskdt4iK1gvOyyMo8CZJFoeZWjSOJQhJV8swEcwOgiKkrDDXL98XTKGSwI1dhHfxOPADS4cy46tcXYIpjmF4mwq+xSnNGXcUnDF5i5d8YI98MAyEBlbDawGDDprgqHPCHfzGMZTqsqlwKCQjB5zMcAYarmIOsdPvw0ylhLRDiAnZhwVK2arffLc4b6JQwmO9/eYf781Zu855EOBrnKeTY0Pm1yC+fsxd4qjkMdaz6tkUqtuzwxPiVu+ZL371SV1oJETaVJO2B53coxeJsL21dHCL3qEwiXqnEpspagnRSc3MyJj56q/fYYdISDYk8FWiJylRT5hFG6FfsizsP755bmL0zWfjM+YzsnIfkCDq2dqK2QQxzOEIOdaTNH1IBuMQEWWkh2gqkRzFzHcrz02EbJU99J3snD1iNi4ka83jZce8TUMhC5rOugij6WTHB83vQsBFGntnvrGxGoexzKAxSE9OFPoXR74D2fYyV9CfgNBIsOeJmG/ICXKOlG02PWD+68ePaG+VMLZrZml/xwLXORBqWlIV2ntOxnIxm6lI3BQOsviUwKSCONUNqo3MAC5r1YL+mruoqZUCwfYdPOyCQ7dv3G3TA92DX3QPuHPkAqBauKLJIwaaq8AGEWvnt0b+cuat+9fpVHeiYivNfJbpwdTklFlaXjGf/PozzCNxfCW4QphIbXcwf+yN3bXZ3V8uYzoaMubXw9MwCYROrpbMS7Sb0lJUkEjKvDAIXIlivhICLoWRWvcg9fwWH6OB/n4itxCRRxJSPq8kXbbuTpOujPXlGnMvuXV2j9levYlTWp9t7m14zNm9ek+b1wF+r9535VXXnOhkXbfjodp9st272j3brioyhXXRrdo4hCZbZkh7wMwUBOYxGqcoYzUEgvnnyRmzh8Dl+fGeWcWPYRqG8lPCt6ZgIJ5uLJuvnryw0XkKaL3FjIQ9+BWimUAtYU3ZisDfM/IuDYNnnPGR0K4+IrKFrRe3VwUXOymX6+Hy7k4I93b95lTssi6Xb2zZUwd3Ur3bBsJ9B5Gtbi2saeV5asrQ7D5/zcM8QtFNzH3BhIvBJuBMPAKTRzjXN2vm0dwjHKGDJAjEngNE+gBz8VHCmJ+wfr/aAUcynl/OPDBDmR47J77DJPoA4qAAo6j04h40DhFll0dwG0LLH0fK+BRh7Bg0SRBto2gJD/BEqkWPtYG8rLBbpcsz7ig0N67dertojx62YyItB1VyGm5f2XSPPfNh/xH980EVZyxZ5uxc+dFSzfHGX2vj9YwIO+m0o0hBMoSbW154g6pMtnacFpULYtLMCTDTeyHwkthbhpCIKL9BDHu/EbJeJtA4yMlnLJoyA1wPMpEVj1qTWpEDVkGCQcycpmYmrYZD9bhS3zZt0H2dlcZW/sh9AVxBaYpCrKJ0wdbwjnVSOyR5Uyoes4mevAB/GxaRHg4Tr10h+eJIIoJI48MghR4kBwO9ZH+lf31IjyY5TtHPISTqcqILk11WOED9PYOfRSSKQ5VGq159+Y+4+xdb6iSgfts/W/mO/tQ/dvGBq/PIRseq10V3a0r0krhmmBC+r1+9QkKSlFk1TqAl+oXwhAA8LwAzFIgRoxwNAxIWusQm5huGoAliulTl3gmcv9Lc52Mu1UCeaq9M3JbxK0li0pEhLrrDOKi1jUVgrPHXeK15v/nJ5rc039k96vaAekBzpHGeXO4L1ookc+5wCGbnuP1+8xzVfHWKkLobknhqagoTpiOISpK9MfdL+DSEgatBpJVjaDkH/RHjzeF3hqRxAKFOD6agcdh0PwRDGOY7gBOmDzhyjtbCZiWGmNDz0v4qitkccMt+Sxo+im2N/ePUpbO/jWvNbf9lT13XHxaMcrF5K9+u5p/zfOv72h1f7efO6l9veMOHOsE9uufHlIbPMTYkAUTynAH+zc+/YuwIosHLKwieAhC4KfDGJIxeBK1CBBwxALMRx59QWYdj3JjCIT6g6FpgHGn7gzJtwkcsyEcS4CNpH+JsM0T5kyOv5p6q7/7qk9Z26m10921t7rTvrt5325svrzf23dvuX86z1jmobrg6l2xfUQX3e1fXb/M6cK47dW4ipFngMnmenpnC52UHp2kSo7Jus5gq+1gMWDKZScLs9jEQPpgKJZ/rQWCQYIxjwpus5wR5IxRMwcuI12AYqpg7+xjYJOa9BcylD3ZgMqembG1lJSFOVdG+rpZ2dW7Tdvumy7arDy6KXkER01nfdU78Av9+MBqIdzV2miiS54J/rOR7GgesP3z1lfmCY6lZ80xwJZZTmNFebPE+xnQlzmQNktjkIHtsvnmN8x5vKJ9JFRdG7Y6qFaZBTtM5pCKWW2XWLSwsmOnpaWsLqtwAVjrSwWzsBIjrNU0T/prO6eQe+yiQxAITkK4Ag3wS+vFlUPjZtdVV8wnq44AWNV89QmJ4CjMwiUT+HgR1kIUehhF4svTaLKO+VNQhugowgHQD5B4EaMgOsoKZgSJcnWK6lD3Omvv/Zc5+WoT4hTaFbwvQNZeOW9H8GEed9KUe4rNNRV9s/Kq9zPyYxVfmf/zpK/teSWYVTnAXJ3lpI+LEuX7EXEkyFxKYwm1j5/0URglXCOx9iWcNMsyjcQiCOP0wq9apkHfo3/Laqk00GEUSWyEpVmO9mwB1vZaN192Kt7vPvdbddnvgp+wBzU3N2Sq+QYpopgh1KyvL5tPPPjG5vVMbtU5mnyIMlBdFJp/Zw2Pzu8M/k1guaH517yEaznsmxz1rCGmeLS+ZHXL3pJFWi1mQSaDyqshpeph8E3YtiIq3xdnq+83M9U/XI+3W709Xm+Yvt62b25XNt149Ata5tzKUNgP43dkZNNnfWAGS/MosA4HJinBmCbv2IHjUc5xHMDNvNnj4HlpY5VpK4XOXxZR4cXmB4BWbphg7I3kcZsIVcClMhczgpiYnbcZxeIuL716tVP2MEFwHpd1dPxfY2q4J6uefQxHd09+XsVGYtvETHZseN8WjAvSQtArYdGCKhk7B+DFj3t7aMHur+BMiIJiemCCB5KypIHTbxsfhe4QAB6z94T7C3uOAHcZPZnOFACPQHGNYfCh5nTUtpuGOUKJFO/+OOkPdqv5uNx/e0Sf+Ll7jiJX/Lqr6fippEQczwd1qRviRCMsuVg7D0zMzVoK8Rz4DOcDqPknICkiMy0hH5JTnJetyBO9hpV2XSlwIawSV7ONJGAQ4aBXhK2XbFJG8h63fNsT0wwfkP7C2mZqGmuialj/+JyJbA/uufugDWSn66aX8oW+k3n5E/ddhIGpIjYIgdRHABzAA+EibglTI+0cmgWO5l4Wew9mxhmQpiXnPDI5t06NjqCDRRIDgraqR1yts6xKMVT+mS4MgiQr9q7b4+SbkA98UcHCqcLkV8VFfzD9w276vaeOV0jwmDlnvPO3eqmGcnJqybbGRu3DcKyNpOZIjGH1TBLGd7iNVRVthTZpQ1xdRwYq5mhgbNQ8e3CfBUhDJHH2CxO2M/gvBdJ7xjp2dbTMxOWpnhr53MVcb9t1z2rYrjdfd/Xb3dc91e+Bd9YA7zxq3re92r+m8bJbldDk1M21eAweUfV5aWsESaSdFMGSIyjY3PY2vUBINZYjY/3lTAe5G5SwFfFVElxIg5aSMwzTOmVARNnzrFkEZBsk+3debstJvAQ3n2856aq3XTcdund1tu3sdmOR+w9m2u6/Tc+633te203q0u0+4oKNfHT6LmJRGCH7R3Lt/z5pqbhFlTo7veQRQeEIQqZDgG0iQP5qaMQ9Hx9H0k4EcU7Uswjsv9vIR8Mr+AT4yBJTwexHOnZwxT4pEwYuTZyBr9rZ2zON792E6+SjziBG4+V+HbWjX/rc/1zw/rh/bzvBb+3o0465mrHX5xJVv01ut5co99TXUel+74wqC1EQihl8pwUYwJQzhG6moWUWiMckHUhnoM1hu3J+cIqhIzITwgzk5g5ZAYBvh3mqW8SWkvkK55zF1KhJhLQjzEUbgtgis6CFMrHwzlYfKi9TRChzEOXZYWtvW7rHGNW0FwW36qN1zH/K5D1cDocldH2BnKeivFtPNxX1KzIP2U2RZHoXAe/NmwXz82y+Np8A74HKJA2FOqgXzZuPU9ILkopjojOEQrAybsNkQfgVUsVLLOt8Uo6BoQ72ZlHn63RNCCaZs+E9F2dFkt0S5ZuhtpQNbY/uKDl5lKe/bvqfrNMGVssisRotNFgCzRB767/9aJgvzhsmMDpmtYyKioE0JYsN/cHRolgEOmeQdTAiwc8Sm9TH2icp5sMd5awbE+pZDm6QHFUx2/GQefQMwuIeqM0z0lDL2jfquTQjDWHjlG9AqUrm2nU6/39y8NvcI4bQUtfdqEUPFeb2CjeZKD47lYgYW5ufN57/9jZMrBDWt6izztaXNNZMaJ2Y1manHBofNAFG+Aqhp9+mPEH4kNaQvCn1Hr1hmM8r7Fp+9tlIb5d6ooPZXTVSfK/1wtYLdM90e+Nn3gOaxa76kLZZKZnZ21jx/8cKcHB9jpkI2dgWe0EIDVohQ7SPCWQpiI4npo0whlSuiAEzeJHT0GuE8KxAcQe4TbFWyTjlSbuF/9PDuHN9CU2ptwOtrl2taU3+L0h6O/C2+fPs32tXt/fWLgKaGE5hJRuJxosu9AWZOojGQ8EShPxUiW2atASIsTY6PmjmYRTnd+rlWQ6stH7tFgngoQpfwZx5fPC9OugnMZpe/f0YOnpAZRYiHcFsGx7a4YLwVhdQvv/WmXd91Oqk6qwv91clgdIq73I5oaPH7xicaca20O6zt/+9f/oWIaHnC+ELwwwwGEKrKx9GD8GAQs7ZJ8KLQYIUxtfMBweHG/rZZQwBXA18KDpxDS8US+Eiivd/Z2jT/4csvrWRR31FblBNEZlPOTGto6I/cVddZiPGuX/wj6/VTPQ7l+mEVLWZxhzetN93j/hpbfwEImBzOJGEiAtBmUaNtrK5ax5wYzEIa+9tEX8qcoVw4w5nv5BxtBIR9EIA4gJ17nO3z589x2lsglClADy5ZJimK3S+ue5vY13Ozd5AwQ1BTATvprYRfROnlzwOCvPLTQrvl5+W63Hve2U8aAIC0iH71raT/WsRx7A/HUSkvvZ63cbeDREQZImpCDGmhcl1k8VI8MiR6QVKQwmgpg/3yGfGbv37yxKxsb6HDBrmj7ckjLfTTr8doL/YOSKwHIlGf2G/pm2qLXbit2ge6S+dv6Q/HIUo93fxr+1ybPm8cE3f/Yv44FVB3MM4QPziLry4tWptsJa6SnW8/vjTi1M9k5uYpEz2GcIXY7Wb8MTQS52TYfWmeMV+kzpUJ0xkSVTFLevUbzJzGMLuIAmzl/6DiAnu3Dhfz1l5Vfzjzu3547UZ8q0rr887Z7t9uD1zfA4quYueZIKXgQb24c++6OdV43b3Hnc96hYjH/j4itiC4WcV0L2qFDphNAj9DCGaySJefQCCuSGjhZ32Rg0dRmk5wqiROi4U7UaiP4UQPYR7xweL5k8NDwoDmIETHrcbX8aWCJQGotKG53KbYbWt93To33tT+noZOaby5g/3277v6YLv72p1r8+QFjHDvv3oPZ+pwxL3nx25d+Au4toyg8gEIz8ovZRctq5KLKeqciELhXZkMK3/On75/YnPiDDLWCfBIAUe5A3BuASKzCLwOpRImRZLOMBYCAWDoKsK+6bExE4Uw1ShYoZdgnT3Qtl6Bhu2PbVvr83zlrYrWQuuvHZ5y+7Jxe4VWoG9cfNW07ahmTj0a23XdY433aL99IVACjMAwoZqVIHJ9Zd2G1xWTqPaKNjrAsuMbhKu7MIZp1nYGx2qNYI4wrlnWdtFHng/ohWHgg8zVkpj97qJpEpMxNTVthQ+iU1Tk/O3Wq7E+7rnWbeM92m+9rmPNVplR0hLdQL0d2q312V/S8QfHQNjBu24O3zCymiCXhX17SGxxJFujcMQ1JOunhA8M46SnyDgxITZkG2UW6Yvl12ZxbZlZS4YIVHEKv1nAVn0fp64q6rQARGEORx9lWM4iVROAnCJ/gqhkSZw1JQVI37a0TnZN7nddnFdevlcJgWRadBdG6JQ2VWlTlMXdj+NajPayps0RETG+W5g3Ozhai7nyKC8CsbvzAARlEGXlg/CRHoI4FL51aWnFEg7DQ2T1Fq1v+8VZzE576LC3LK19dN1xx6+/0scics7N+BhRP1DPyIwpBgPRgyalB2mYF0BJ0EEzv7VmFjdJlgVBFIZ6UVSmPH4Syk4u4sllNv0AQoWdPCTZ4MP7qOJ5p7Q115Xm+evc1e7cdc93z3d74KfogcY56qxJIupACE6PT1i7d5k2CEYqsop8oUqYNJyhzTtFs+dlTSi+/wnHT5ffYCNNngCwehj4O0KAhgRrKEEAgzcviZRnmfkeq41gmXXLO+wB0IAV8Ny2dcbXYTi17zKO0xPj0LfgS0JVhxEkSYsdgpGQTfwRwqUDQl8rnK+P8fYx3uvgk+eMd6kGHuEXQnCVQlsbDQcxZSJXAGZsD+bwodM4Mx9UL2Eu9+cIwVxhmLvtrA3vsNvavuqyj9RPzq9OjLS9/+/nJOMNDZAgpP0UAtkXT5/C7CFQZX3LwsDHOs2zpnPQAkWteYRlAdBdBRrqJUI0hYGvQGsFGcw+6KgIOFWR1hbmX6P1HyOyWtKaQNr+EG5+e1Lh5i7Ve9/Xu2/+8s/y6ofJQIgcry++TrcaHd0raHMuzl3Eqwg8JnOmt8fcn7tjXj75nqgf/397Xxpk13Gd17MP1sFgBwmCAxAEwAUAAZAUF1GLae2iRXmLSptjOZYVx7KT2D/iVMpxXI7/uFyRI1mKy7FdjlyxbMWxK2VJpGyTFElI4gqAO0CCBAmAm0gABAhg9sn3nb7n3r59z3vvzps3WB7uBd70dvqc06e7T+/dc9EZdm4RlshWYoZrCRqmQdxD3MV97oh3bHLUvckld3SIT2N/ppyLADZWFB6q3Y8Cz6sEV2PmnhMgXomCFkjHMw2+pGqJVZOc1v+oKG0lqcpyeqafwQd9Miy1h9uK0KGFQl+/bi2WjefhINNBtwRKoBtpXwIZDWI/4mL8OKM+AZmO43aqN7BfeZirDrju9XUcamSjwEfjeFsCed6/71m3fesWea25C0qlzAqKl1vj/K4vsTA0S6OmNc6X0I1rqSTfujAY4goB76jeAJns37tX9mXPxaHP+SgbyzCjugirCAvx64IMRpHioyOn3TEMpDpxxd0pdIJOYv/vKfiNwW8BzlA8DSW7DLMtQ6vRwKJTxMOjtcozUyDlNzEte5jKyl5J4FyUAGf1eFbsqis3uuN4SfgIrvDko5vDOC+EaWl5nJMXWfTigPThk29j5QGDCNQLHsAd7Ol3K3BT0zLuocYoYX4Pmjfolxf3v4DzWhuhT/DeCuoodYZ2XimDdCIaAXH9alZGll6ycMX0tN5asM36eV6oH8JfMa0FXkoSpO4u86OgCecFjk4j2oUODAiWLV2CiajL3JOPP4mOIZb10b6exiDiBG7gehMHZ/vwNsgJtJ/fBEJ4AABAAElEQVRsP0aYCLQp3Pu+ApMzq3j3P/K5D2WCe+efe2Yv3pdY4dZgJRgXg/tVc5BkR0d/aX4nTZq4yVaJH0BKfQVZgm/bz7cf2qZom1M0y5At13ZZmGLepLBYgCX8Ylx0sz/C832sf9u2bHFHMDF27MhReST1NLbw8qp2bnsew2riKAaRr6MtPIF2cBQKoQ/9hQFsYVuMSVtemjAHfpycO37kiHvjtdfdjm3bZXCiK/TKouRnJHcNq8zWSKB9z0BMUz4s5PqxGvKjD8cS7Chvu2qz+8bf/z83cgK3BWF2ZACz6YsHl+MwF67aROdxDhq5Y7ir/6kXXsTe9xGMoqmwsBe3C+chsN+vH4Wfe3L373/O3YKXUHvkEBFOUrDFBCUui0HFkGz6BSylfp6rwFnDmsdkA5WBYUzPB7nzHELvg2/OhmNGAem+bOgStw97lt+FjvNxhHXhur25aODnoOLzTQMeDn722I+wUnMID81NyJmHLsTrRWMxjgZiEbb4vImlyOPY43jF0FocuiZ+yL0EgwTR/CKvM/0smUsW1UMMJvggFVdPOzEYuhKdlTvv/K4bxyHOhVhS7+hBGcFjV1z+HEC65wDmTcysPXfosHsVK1Ncop0HWfagQZRHC9E48jD+SwdedO++7mZcZ8n9wCgrHKTUSC3LL8tSWI7Vrx7rVVglgXNNApy4WTyw2F288iK3b+8+d8t7340DlaewcolVOigfXtJwANd0vvryQXfJ4BK3Hlv8tq/ZiJXMCXcc2yO4UjGBw7aD8xe6V57DGSIMMDZu2IAZSmxJRQeFq8rcfx+ql+nokbCOnSnZnQ2aFFAoo5mn1bd1iofajNti+Y7IhvWXub9F+zqMs4O9mGgbRueRr0vzocG3sG3th3ufcsuxNXYDLuBYiXZ3Ifa/nzyNhoKaF5M0c8kpJq8Ovvi8+/Fb3omLUDrdCAYnUJl+3kuJztC02gcLZfNtUrmYVnkIB8UWTzP1s2gSZxm6HDhwq9Ek+k0rVqyUS1L2YtvuNTfcgC2GR9C+Ib8xODiFfNyLMw0HsUq/ZtlibEXD+ZdL12CicRR0sAI5ijYOK/0DqNsP7d7plixahAdbl7sR4EVTK60jB4TVd2YkwEH5BfWFCrFWhYgFMomZ8pXoAPJdg/3Yrz6AmY45WB5dgDs4B9CazcMDaxz9vn7qBJ5jP+Lext7/PqxAbLh4NWDnYHsKHreB+To6ycPY6sPDYnzNmEvp5MHv2ws5izkI3awd+R+VWvyLYWbmBkmplb5mcujA9yA4uOqBhr4MA4djmCkcgaKXe5lxa8o8rNDMx41Dc5FGXsn3IrYXvDJ20k2ik7wcN6msv3StbN/hgy+87/2px55wa3Ad7CBu4phCR4CH38p9eVnUSmcsn1rucjTzUF4q8IOF+bpm9UXycvaLz7+AVZh5yGcc9ETnfhC3hcwfxUAB+7Zew1L78yfedCf78ZbIMqwyYBmfg8xTmI0ZwGFA3hrD7Uzrhobk1hg2pPEMS56LzFW2XGcxKlslgbMjAZbV8EdFxk7lJDoJV199NW5seUm2LHF6hbrzIgwWVl28Clse57hjPVi1xMTECA5U9uDGtj5c+TkXemkCq3jd0Es9GCw8u/cZt+Hyy+RtAM7y+m2AOhVydtLcblRr6dKiP/MagwbkJX/8x7zmajbzdQ5undv/3H6834AVB9y0w5nn9Ti3shyDRL5e+uKpo+7wiaPYutbh5o93uoXQt/PQTvQi7xdjFfwQtrpMYSViCKsPaHqw5QXDC+jd+CvyVWw/a8HEuFrtDuuC2j0NpqPRr9XctA6frDZBqOzr8CzT5dhi9hwG93LuBRNkXIVYw7zGGYmOeb3uGM4K7n/zdXdk5BTaTvSx0M+aO446jb4B3wLhlrfXXn3NbcDFCDxEz3OftT7KsfpmRwLtMYCAAuLHMsROrZhS2dgL5WEabIdBgD8IzMKGgsxCiNDYD/pM9u/z4BUP2fHREt5B3IHrNrfsuAZLpE+7fsxyLezDlqWp0+44XsI8ipsijgFmigeop/rc6s457j04GHbdRcuwFotr56goUeAffvBB2ZspnWSw5hUp+EEFEX7IU/BjmuKPs3P8IUb6T/1yJjqcIa7p2OWwNNKuJitwNwZJovQpHxGcP1BEBX0xZhQuxZasR595ys3DasI8DoywJYcHqU+hE8xXJztwzW0vfmuwfet9kM2VOFyMBzVk8HAMhxwPH3zB3XjdNdLoT2GrwhTWxtK8oYJIfuxIhz9yxQ1Q8Y+H8MJfJq3MlpOXyBW4k/ITmkx3/MN5LilrrEAUBz8phViZ4VW92zZf7Z5BWQHjGEz1QB4jaNSwLI8Xpk9hr+4kH72awK0T/QvdTavXuhvxYmofYKgcKeunH30C2+aucHOxfD+CVRvM3fgfGJND8omJXAB9/1N/vzpEbrgi4fNL85JutQvT1Z9KAqUkoKWcOhVlKK0gdPmVr7ihtnQOoet9pMK978O4lW3Nusvk8cW9u/e5ZfOXuY6T424pavrNlw65W7A6gecacXMLOh/Qzcfmdru3+zkpM4zHx4bdKsxeH9z7nHvr6HG3Zes1/gwFWZdqwbaAPPsfK7LftlrkLE4D24e0Ltaok74e5nV5jEfdRYqsr0ZcHgqNfmW2eHoY8hz9IIdO6G7rx3vg+CvEoR/TH/0SoSLU6xxfHrzeUf0jJjFyIgQIpG0FHs5ec2VoPs69bN8Cnblnj+sa5iUT2G6GSzU2Y8XhprVr3VocmJV2BYOMt+b2uKN4MW4Y7cRpnCHrxcvjC7HSv2/3E27r5Ztw7mweViWw+oA2FwvgqQ7M8QLajdxhetQepz3nhgSAFvmE2XaY4c+Ss/ghRti2pNUKolS7D/ftVrHN8v0B8Y/aRraTVi6a5QvCCP19Hynf1hTKvbQ7Wd3X+CBa+Lhyjm6EPPCINUI3hI7/FPL4AFbZB3Augi/OL0UZeA8m0q5dscItwAphTw8mXzvmuJM4PH8aj8gNYyK3E7s8lqK+v/L8AdnuxoHIOPt/LJOgyjemmAfML/7DCFJ+eVlmMld/5V1NQRH9kX4k+pI8rE5ZsN0lzfBj/Avpi9PftmmXim2kzvKXIpD84XI4qogskV115QbchtPvDvFlYOy9nEDHjsvpPBR86LXX3Gs4ONuDUfIkDsX2Q4nwEtcxdAq5+sDXhF/B4zbXXbsDy3Uo1PiksCbF3WCtpldYSEN7PoKnEfoJvUBRhGH17CojEYkCouah/suyIm9GuP76a90L2GvMfY2LMIPOJUkqiqNvH3cHDh7C1i/cLARlP4KrXrEw7bowkzBB2aBBeAK3bPBMyKU4WC66ALOH6M/jCynbdtvXjqms1zaLMrNgQ5qFcASOYv/atm2b5Y2LA9jSxi1ak0g703YKy+3PH3pRrqjsw5rrxNssK5hFYxgO/y3EtYaHMOv6Kh7b2XTlJtxShWsNqawg79p5XeCi8qgkcN5KgFdk8x+3Hm3ZvMU9tvtxub2OK5XD2EJK/dGJ1YgpbGvgSuXzL73kDv/oNQy0x3HLEl60xxmj+dArT+G2Js5QLl02KBMQHFj7wXVrRRPqA7W3lkJrsXke2arZejL0jymHYWqPYWq78zFEn8GrGwMB9PXd1q1b0W6M4oAtzhpiC+wEzkFM4HIJvqQ0gW3AvVCgJ9GevHDwJWxpG/bMI095MPeVl3gxxQT2w29JOow4M4bJG6GIP+zX6a82f41DBB/ATJM0GMY2thZM4A9riz+LavMkYmzNY0JMDhrxjyuAnHRcvHgh3j66wj2OW5coLQ6mRrEKMYjJ2Am8kTSFLYvop+NF8ZdxCcubctBabmJD3e6HXnh8z2Nu4/p1uGZ/PiYHxuTWQvKnPM+I15qRwVD15SRwwQwgcqluwsGDfX04ALtly2b3xNNPysiTN0Vgf457E8+zH3z+BXcUgwjO+AzgAGw/DvlwP+ck9inxBhBWlM1Xb3ZLuBwblcPImXIXd/jVrQCigNXRhKkKNTbLoCLPnD3yP+eGhobc6uUr3b4nnpSrF/tw7mEEy498UfbwSwfwcuxRzMTj4BvucOetVCdw9oEz9cNQFHufetptx0Eo+nOvJOXjZ0+KnMS81nIXY5bzURmHZpmYlAOVI/mmbLpxS8S1269xTz66B9cJ9ss5hkns633zjR+5lw4cwJkPbFFCWpfhQay5mHkZRzkZ5Z3YmFF97InH3CWXrHaDXH1AI8obr9jxmWl+l0lHBVNJ4GxKgGV8CmcU+rBlhQPxK/DQWD9W7PbjqmjesjOK+sAtC/Mwy8zzV1PoYB7BtdiHMZN5Eoeu2RHhebQ3saWSHYtr0Ckdw0OffKRuunX6bMrhbNEOdYylW1vJF/FT3yPL0EHEQ2OYlNu+41r3BC6PkC44dN4YBoocOC7ERSUcUB7FJN0hTMq8gdeK+XAgdgu7+RhA7Nq1y1111ZVuMa4RR0b7sy4cMLI9acMvLMtqP5eTKR175AsHirzKfgxnGdgfOoY6exC3L85HfeZZUU7KDuCa/IXYAn7yrWPu9ZcPucMvPO9GTp6QvtUC+L+CQcWxY2+5DRvXS/+D6ZZ+w7ksgDblrTpEXSNjubSlH2fD2bHjy9Obr7oKW5Eewd7avW4Ih2Vf5Yw7FFgf9u/NhZKbi07wYihCng04jrMAA7AfwMz8GDqHN998g+zN5Z5PKkiZZQduTyogqIQNUxU8lW/25RzALDo0C05s+Ti16SmNAoLAgzBT3NZEEy0Atxi954Z3uL/79rfxSMwWDA660fkdd8twEGoFBlrzcTsKr15bjFuKxnCbxhhWbajs77vnbrkb+vJ1Qx4PBE987IgTN7+QU4blv3zaNSyfVj8zoWGZWYxbxJ9BhzZLRlyJ4XWTpM0rWbegrDz00G73wr69bvXGy91Lx95AY4eXuIculRdT+3EN3eKFi2T14S0MsFbgnA33hb75xhF3+223yUvUw3iJmrJlCmT/dpywkKnKXkngPJcA618PZhlHcIMdrzLuxdaVG95xg7tv5/3ukjW42x+TOG+/dUJeLd56OW5qwqwlr0I+jQ4FXy7uwbLofMS5+56dbj0O5q5cuQLXZmNPJT7WI5kBRS/G16nzXFgG+5ZeMsBkMGX508+rGOrZon601U85uCIUtpwgTwSn/+Ou27bNPblvH9rXp92GK69yr+GmnYUYEK5bvcYN4MDsKQwYeTsTVyWmsE2W5+kOY5Lq1Mm33I7tW2WgiHGG3PgjLxKDqM0zU9roszhuFEfbpzhu7PZ44ubMyr+ybZLFWavxWTTK+GnbxfceKAkO7BYPLsQK42a0kQ+6n1n303jnAZMGeK9lKR7Z3YzVibcwAcv2bxImntvCi9S4bQ39gwcf+KHbsWOrW4i28zQO0vuLEaoV+jL50GqYagWijERFJ/hbBNiA3XzzTe4JLKGNofHiQ0Xz0eBdvHQxbofgyLkPHWU8joYDxXyRmTcPsMBvwi0gfFRsHHsz5bP1SRluzgkY7vP0c+0ZO5cPrXbr11zqHrjvPjzy0i97dgcxgLoI1/QthbkY+5L70XifwhLlALfqYCn62Wf2uffc8k6ZXeJqDZU99+i3/CPKWUCrfJJnNga8s97z34HOzjz3zptudrsffgQzKKcwuOzB1op+PLYHeeCwOGUyBwiGT5zEABUb3rAEv/O+++Xdh9WrV2NFAns+sc1J8EEwnHmtvkoC7S4B7omXx95QYbl17/LL18vNPI/tedwtwEwl39Hh69ScrFmOCYnluJHlosVL8UZPtxuE+8D+5/Ew2eu4LvJqdFQyafkVQmyf5Mb46jMl0Hxn20TX0NPT4+qtX8FdgK1L1+3Y4R5+4EFpJ+ZhdXb4xHHXA926GFtBl2LF9iKco+MkHc9J4By9e+SBH7jrd2x3SwcHoCs9ST7ECYxJOWrIhjQNs9g8NGagzSE4YPeDdj/A4sBmDLs3rseW7jEMCvegPzWAvB3BAAL7xXHGtM8twZtSy5GnKxcPysBhEVYfHt+9R95+2YYdC8TBtlEmG2ejz9DmedKK5LWVJqUy8oWKo1wWLP/jHHatUTz9wzAqEe69S3/EAT8sKAjcOJbfNl99hVuO2fOdd98rncAuzDrj5Tg3hSW4HgwQRrE9ZxTXc3J2edejj8pWJm5nQf8YihK4gdNXo2IWKs80w0/91Y+dVf2pH6Poz/LTMG9m8lHcmZnhycfx/qyrrLhU0lTYvhJTRh3ulhuuc0fxqugLWKFZNTgoT85P4FrbLqxGTGEm4TRm2vvRkeZ93/fdc4+s6KwbWiPnA6TzDRz6cqjSJr3UTrrBT/1jU9OvMrLkrXEUlmYmg3ryyecN45EOYiM+Z9T4wwOByOstuM9+ETo4P8CgirNlnbwLmy9NYytGJ86AjLx13I1jILoMA9CdO3e6eRig3vSO62SGBoJAWrMqGpZTUuMX8ut9bL8yYQpTmZUEykiAtaBYE3z5C8ttjMsqsyEMV395yxsrFbce8XGx97zrXe5pbI98+dBBvFS9CA9yHudjAdArozCxVRQDigXYKjiJOvXQDx9AHbreLYGOHkN9084L6fLzdTWkWLQTdiZpKGK0fUJZqN2C1LDQDOHUP/Sz7KLzEpWi+o+m1+PMO/1Rl6k9M0OcGq8RnMax4Lwftxx1pQO7rZs2yDm6++++ByvWOE+HvD2NW+twnaHrRnmYOoVtbOhkXrRsqXv4+ztdH5i/Hu0rVTC3ezLfujC4wNSLP4gMf+a8/tiexL+UxwSO7tr85sM0ro+j7YaH0bBmcGVxFacvk7XKpdLQeFZ7wTC2n2U+LVP1zSIm8sc44ce8Qc5JHglfrNuomwuRv+++5Rb3wPd/INuZBjBIPHUMbSLOkTqeccIk2gTsi+fizCnq+dM41/Sed92Cy1rm+b4UaLE+x3VaeQ55sOzCZ8Qr4aw0WPEvdL+u38Z33guBpROFgDNXY7j+j6d7pUAlZZjddVrZsav1aYEnXAiFqgtl04mT/pjNwD92CjmBdTGundu961E3jgZrw/r1fv8eFFwHZ9ExiFiJDuHjmDF7+MEH3O0fvU22p6AGQakJJ2DGc8K3DthW6my+8hHzqf5JtDhY3FoPCKNw6keA0O4jQFZsraOfwCkSmKRNv/An8eM/GCDNXzAXv/nu7nu/J1ffrlq63I3hSj7OKnRDLnNw7mE+9jL/45134IaVHveRD35Qtiz4Wx+8ogQl/y+gyQR5vsgvE5P8xBIzksASJI2X+dWIUkRSx8eXqDyA8Jd6gU8UQpadS9Zc7Hbt3o29n+NuHa/whVKcYscHB6rZ+K1YOogDn0+4Pbt2u9s+/GFs+1ouHScmkR8wCcsWTQEo/NGYhYDUg20IHnCFfBrDppEqSyUBkYDfyzyKixAmqbykkmWi8fqidrlqVOY0nJM4ggV6kwNsnhG6//773CW4mWfRokH/SCf8JrGVZQGu2OZq8J3fusOtWbXK3XzjTVL//P1sGW9lbbXSQH7k16DeaBoa0SsN1wBRaTxgXrMrTEJob0AqDRY8kkGpV11LPRohLp6FW4xVhkcf2eVOYyJuEwYUo3iReBjtyDg6lT0A5qz0c48/4V549ll324c+5FYuwy1dSS+SrQfu+RRevFwaM6n01fQFr25yWhJI3d6yj8xHn1UuCBZ3uKNo03LG7ZJF01eapO4AOzllP4oTqouXDKL/9LZ75JFH3RUbN+F9qD4clj8pk2iTmCQYxPbnbgB+9zvfdldfscldi3MyuOKxpWmIE2ylgekk33KhCVrlXuw04VXRRanH2NrXXQ0gkrzVAiMFhIUk+VHbahjvMmbAOAYpCxfMc0uxFeXe792L8w6d7rK1Q9j334OGDK8NY+ntBTwYd/c/3+Xe/a53uq24z5wHAzlD74ubx0PSeg5iJgMIKgT+9KNVnTl/9QwB1R6Yml718tUmkIkGRCa3CHDvP/cd8872H9y/E/v9h9wly1fIo3LzMWvAg3D333uPHK6+/bbbZTaRb0GQprCHPzTFHuBP/bQ3nYbFkGmAyETTL3LOgooEwrAS9lhpMorS8tG5soX8hZKcj+X2wYFF7u5/uksGkJsuWy8rMFyeX4Cy8hQawp333u9+7L3vxSN0m6BMR6CYcC1woOV9Q1M7rXmWG8NVA4i8xCrXdCQwuwMI5UTqPP9AP6AmudWXXORewd3vD6GjwYfhOKjghMwA9Aqvb7z3rrsxJh9xH/3wh3DmCldDcrYa/rE+U/z1TNFH+Qot4MITbI1wNgpX2qXhNEINszQeJIDJknTwT/IZSdWgmqbgCXDUBJwmDa468QKJQZx5uA8rt31Yrb4UW2P7sa2Fq1E8V/j8M3vdg/ff695/662y5XMKcfTMHDt4/IQ1Sdg0mFReE3O2Dc9pi6gYmWiVC4IFTcuMicdtoUXTF7ik3IEi6yvrNPOKK0WXYpJt775n0RY+hYsTNrkFWJnoxbbeRdiSyMm2f/z2nVIOPvyhDwAVr39EwzqLn5UGppMlqRpAZILHoL2VRSlDfEZtbGDQIxrBIeeTODA3hS0yHNlKbtPAsoGsQmBbSa1PCwzheJNH+qG2MYyVjjflkI5fycBjcX0duIL0GXfnP37XLcFjYGsvW4cbQ3D/+EsH3bOoDO//8VvdNXi2nXv7u1FJJvkICkat41x2AB5SwUBaBhFdXNrAp3yII/ij/oluDEIYJ+f0hTzxCsNCO4NF0UZx85i8y1cbwFuBgR9n2LkK1IWVhTHYv4f9/A8/uttdum6tu/iSNXg5FK8v45DwON7GuO0jH8Fs/BoIAPDQBZI+CqQBERbXcDDA1ylFkAEftDKtmo00KXJ+6ucd8jfv571yf60qwhIVfxlNDh58gzaGvOc5GG73ehK3i9x19/dwGHChW4+BAq9o3f/C8+7lFw+7d918i9u+fQdQovxCJkxXmF+eh/pKU/nk6RT91E/dalLmi3AAo96qnMJWZiUBX8m8XmT54krvCWwlGaMCQ0EN66TXl/DLVbZMhqrLMh/bJttIEcSaxhLNtxrG8VDYXZi02fvsPrcJl1isWrHKncB7Aaxb3Th/9JM/dbtbhK2jHDxwi0QnVqPL0gu5qJUGam35hZUzjJjYy9IsC6cTTAYp8SqLh2zLD1kZJiG016IR+yuuGtkcg7PJa/hxAmoCbUc32nCe+Xr8yafdt+5E+4oLJtZdvt51wf85nHF5HVvZfvydN7l3XH+dtDWchOri6Wnkjg4gPDESLUHY4Izp8iXeCAy86qW/bhhwyNi4JK4AzKxbvHKen9Jk/bPKBcGaubXIqs+Uj6xCCmX/hzQJG8JLMw266WYHJpz8SaFgm44renHpzB3f+q47iu1qG3F+aSFWGd984w33NK5xXoFVeQ4eennzGvCjRc3j10QHfNBawzsHxTSAg5yflQbZgwKwzg7oFdwWNX9OLx4/xBthuZgXlqMaQCT5rRVNGoeg1Il/UjFZGielB88xMCsI7prGbUMHcE3pLhzuOYL9/aO4EYTXkPH+co6kOZIhOnm5GbQ8KlCBhUMG6diiBHbO6gDCVw5NoxbxsgOIxot0fvDDFQh2fP0ezQ6s1Iy7XdjG9Qxu1TiOJckuzB4tw7Pz11+zxV2MFyepQ6j4qUN09sjXRs+vpfhFMQU1tt4AgunUrCSHilX9RA7wzLnFM/8nVIQa0ngAkShQ8Mr47AxxVeHgoZdkBvUNlBW+77AAs2zbMMhcv/YySTpv+vK3SoBSkE4yz65LvU/5rAYQ9aRUhTUnAdYe/vj3zA8gWEk5gOjG5MQI3gp4dM9ud+D5/bg7fth1ol5x1fPaHdtw7mEZtrtgEM4VXxxc8wPxbEAtCSjxh7qSP61TGkXaB9ZEr8jVu2A2CtcIZeFmdwDROD3Kb2hSBPw10p8ap8wAgm0qBxFUfh0Y/NHct3+/24MB4o/QmSStxbiMZOtVV7jN2Nok/VAMFtkz1b39eZlSZ9bXm8pfbJKWL/FxSN5dL/11w4CG/IdfPfg8XBQRgefTAEImB1AguNrE7BlHfeXta8Mnh933cYbp4KuvYEIYb4Cgvm/Cew/btmzD5GyfG8WkAB8h5NbgsG6G9rycQpdtpySrAYQtm0a+bT+AoDLRFQh0UwvyyCsbBvvipIASHzhYQFUNEYIKnf/o14dXqTFZgrN8ozLzNQd7calY5TwGIKRwIz471sVqr5R8J7zIjw9Xfxm/aJTAJD39aEfb2fAL49QCJkwJVLWip/7DOCvSjWvaeFiOH+XQDF7KMssJ4AASKl3+6n3WAELjajyfT/W5EhhEoLIOadJf8yiHj7DgjeWDZk8PB1g4EoKywjg9WJbnSHKMjwsSZ9yiKDKYeggt8MpZU96Mcq5hGqFagVBJVGY5CbCC8ce/szuA0L3spBXWKXYQWYdYb3t6saKLzsQEzhFxVppXKLPfOY6bXTjbqRMShJcKFuGib72PdPmL6w18qNFzfFl4Qr6tcPWz4EhT/ZlWfqFMvE9eNupXy1Q8DCdK+SW44zghbBxGdxhOu5dxBhmiDWEziPq2gswTJKMYOFI/9lFn8gNhXyI9TzEfBFE50j7dj3wwtxt9Fl2NUzcMQL7VV2gmSVOU+UmBDpy0WnDhKqAVrii46jydFYh6uMittQIR8lgvPvOH4f7HRwV5rgCPsaIej4/j0DzqNv0wF5nwTFikXxMTmBYdS5xBFLESV1aSfKiWG8VJs1qBiCWH/Cp6VT61JJArtNArOjPPzh91XFdnr2zHQbsWVPAkFitKLcRt7M+Kx8rI/av+oxTQODed5uZjNk2yyYiqHFk2VJHJQIH4OrBED38+cuUbCAI1SaiKVkngApCA1iGafIiKVxz7bSsYkI8klQeVihpCYS8AsbR9ErUN6cVZCP20Y5e51dZKkyWp+mZTAmE+sj3k1nPeL8IVht4ebFcC8VHUdf2qeq2SODfMagDRdD5whspHZiXwBdsXdB29No26jSIWZVEpZWavPKyT5PNMhlNtVFSqpFQSmJYEwjqkEYv6RkMq83yWQNjRPJ/TUfFeTgKyEJ+NG8pFqqDOuASqAUTTItdBQ7ZMWim5poXZMKLqEjUbRjjHAXIdnXZJ1Dku84q99pJArg61V9LO69SoOmt2quhcyFemQdNxXmdGxXwlgVmUQPFQwCwSayfU1lLauaD42knG7ZwWv2pVNVHtnMdV2ioJVBKoJFBJoJJAu0qgrVYg2Klnx2ySNxphDx0/WRWQ3r4/pxBnpK4a1Or8a0cvDtftSymNBHEMF9JrRKserjRujdMDuQEN5KDXloZ8hrzUs4dxRKYGcAijwc3OOGn82PRpzp8dyaUTEWK34oj92VWPu+vWQTJNVxhfZa+4aYbhdDPfLTiGxR/hwnIifMUIk0ghzvCQnOIMw9VPTQ0L6WV+hGp1jinlyryQJcAyFpa5VslCyy7x0a4HpUP8Yb0K/TWO+tWDU9h6aQh5sXA1Clc+LLgQn6qFmdZUxaN0Vc+pOzQVthaMhjMO7Rac+lG3zZT3kLfZtsdtRLP0QhlZOBhOWvHhXQu2rF9YlurFsdo9C74RPoajJStEtbYWFoAiDy3zFk3Lj/D16GRxivyFpFM4A4xhaXgYqbKnEmirAUSaqnPcYhVKVbitZp2Karq4GaeZj3c5t+wDKrmitUUIRRmUwBWm3cqnEigqkEoClQQqCZzzElBdN932IU6Y4on91a3tgtU8aMdRYc+Eael1qyPcKF3N8qp4hQ+j49os3ipeJYEzLYFqAHGmJT5Depbys5SwwjGMCstqJBQmZsnCF8NY7vhKOguGfjPZN1fkeXY0cJFOrdTU928VnvpUqtBKApUEKgmUlwD1kur56bYPMRXFE/vHbmsFNYahu5Ua3ZrSMvmwAC3mDD9bxxdToQMHorDjGMgrr0oC57AEqgHEOZw5lpJp9saeUHlpkq1BhYad76aV3mbSZOWB4Gln4TUjqCpOJYFKArMmAUsPle2412KKOBWHpS/PhIozt/DMoDMfp9UcLMRAs+C25KlkrLzUsMqsJHA+SaA9BhDQdKJzMOjncqkopcTDzwPk99GbGRTUeFWqIVy8naa2jotnHorz8rZiro0xx0eMPgxUu8B4fKKsajwB2hmkWaPaZkI0oG1yaz2CFsQhbsaLJUI2ODDSx9aELfwh22JXgdENOHlsTf2IMaKhdGjqx2MxJs8KkJh8LkY+AhOv0CzGtBoBedkbUYRnImE0owWLsVm4GJ1fGD0ugxIuUPEfQyCJkCi2lL84WuWuJNBQAr5sST1E4WRZ8voyLtUsZ5kfYfijX+iv5PI6Nyu/iiIM16qfw5N5KsrUDOOmnpbSMDREjoZGVlrqDiup+qEd0lQoDpuPTEb14PSVYUVPU2UT+vFF5sKX8huGaT4WoFMPQhRazhRXCgZGAntizfGW8KTyyEEnZxVzfga+XHhNhy9b+iK1cC/lbVLeFeDZyC40MhN8bAAp4z/uoxe+hA+Twzw1Q77S38hDyaNjkVfmTGTIZGZxE9o5wSVRDHlkpStDa0XNQuvbtOyFUAUaER+ef1+nw3i2vShbi1+bjwRjLoLqk4xaPq6nV6iaORyQf8BWPj7rVz7BWn/ZDktbjHwkRIBC4ihcxln72tpkAOEzaAp7Y3yh9ma2VYa2fGGIs1RDfWEIi0QMmdCqgTGO6d+eVuyKK4ZS/+bMTAn5+KSmnVlfumP6SgeddrUGZlxxajde+aFAFzMg+uKU0j2ReKZhsJDDifFJeUimi89ow+PU6ZN4YbbP9fb1iD/9CJenSoL0zX9FmRR5y8eIXCF4ET2Ai1xkqkQjMIVpKjMCkWIitMbIgIo2G8bAT3wJDTUzbIS3MWUwla2SQCwBLTO+vOWL8JkuUwkPQTn2PnbJZkex+Fl+msYitPp4iHxcK1aoPjSubdbTI2GMrtAh9rIx89x6GVk8xwQYL44buxnH8svh0nbBAjQYMbxy6Go5JlEo+To5++cTExg0YLDAtkM6ewjr7sRr5QinP79xtDd8sAwAfLmsREJsrW/xa+VNLb5DfwuX5RfGmS17PICI29RSAssxFxeAYsqKPhmCMMxj4t/QN4OtZSsLXWw3iTGp1RiIetkUhte1yLatf3sMIHLZg+YCpcQX9vwI0SoUrR4txjQ4wo2rTY7d1FEOKt9w+8iFNEgtKYOvDIzXrymbM7SQNaaBlIVNwYfcgif9mBbOCk1MTLg+vF7NGyNefPEl+He5pcuXuZ5e/xqp4BD28SecRhB8RJ5hV68yph1NCEXRG+MvKtwIRQuccXlrhFLhvWmlqxGGKrySwJmXgOgHnbmlrkjsZ56TVlO06qDl1wq608VL+HwcWz+2greZ45CBItjlCkN/fy9eJx9xj+15yh06fNh1YaCwcdMmt2bNJRhAdMhAYnJyHJc19khZYnFqrNHZrOTl4bm2/MqmZyZxy9KYPhxloW3F9GOfmRjnOn9nRgpnl0obDiC8QKnodJzou6ZsdFonbK9Iiyqn2LAVidpKqIjL4raI34IqV/lFSdjR876m4BrzSxmZDQ5EEsem0u/AtE1vd7fDJJEsNZPs4cOH3Gc/+1lZifjq//ia27jxcjcygdgIrJUHZL6oXMrOCcacWbjoV8xXFZoPI57aMApbzyymYXr4wvhqV3OGrNVjuwqrJDArEkjL7qxgP3eQWuk0VXBJli18cVSzXYGCjbWhCRcjq+E22wITNqZqAhmeWGVA+zGFtuTEiRPuD/7gv7m//Mv/5V597VU3iRWJK6640v3Ln/+c+/zn/5Xr6urBQAKrOp2gBbXKjUzT064ZeVu+5bDZcTPcs2E7OzSZkmbztSgFpuFspKPIyYXt08YDCD9s8B1NLijas1aFQghNXa7qlyw4phIuGbckWCENiFemwWEfuNkqrQ2J0u7q6nQsTMQ3Pg6zTmsR0yQoZ4iIYGR8DLxj4xdWII7+6E331a9+ze3ceb9btWo1GgGMLJKP+JUH9atn1mGnXrRphYU0UntqmRaqGQGHsg/tipR+nq2WlnRFX5mVBFouAS3HWufpLqPjWs7IOY6wqG6mpyebSV7Z7TrxFA7zjz/yzF93uksLq9Bwl32vIOR5HLNPvb3d7pvf/Fv3e7/3X7E4PeVuvPFGN3z6tHv4oYfdM8887QYHF7lPffKTbhwNYFdXlxsbm3BTGEhY74qEuM+E3ZfzSi83krXqA8KpXXVDo7hVeOsk0LYDiFREolFZIe0Rq1XoZlIgNa7S5/mBojoo+pC/Ml+xgSg3WDBxU3GbATU8SRysk/vTw6fcaSjl3t4+N29Ov9u3f7978/U33MDAIqwSrId/DwYS2lHNTBkcRER5XoPLytyT2g/l/737f+C+9kdfcQ8/+AC2L70ozPT198vWJjpExpArTTZArfws+dr4axP2ZYDhtWFsnNP3jcubx+Dp2mEZDcnO2WcxI1jZLmgJNCqPZYRDHJbOLhP3/IGZSaUM41LRhu5pSiDS04wNTW4gKUdDuEkOIfOMwtjYKNqQU64X59zmzO1zT+7d744ePeYGFi50m67YgDahW3Q+2wbVy1Pcf56wEJYDlgueneOA4OXDL7s/+/M/Q3sy5r74a7/qfue//I4bHj7tPvcLn3Pf+dZ33N/8zTfdT9x2m5u/YKG0OTwSMSntiZG0yMtMf/MiibDTqbJU0wA5Q15xfQ3lfYZYaEgm5rFhhJkAWPk8E3xtELdtBhCiVJDBNJnPLOxp171OxmsBDCuH+tXL3/SQcj0ghplbXYrKAc1iI0wSHvKpEVShqtubdRKdByzhUly+8e6Gov7vX/4j93+/+Tduw8aNbhP2lv7JH/+xe+utE27x4sVYIv68+/Vf/3ey7YjIeaahr4+NAbcmcbk4/zHtw8NceaAMOtwbb/zIPfXkkzIIWbXqImxjOigZy8NvyolisNPuy4HC1DLtfC7mg0nDzFdPKS13cFoNTkyXMHG6avEc+4flQfGqGcKGcPRnKj0cKRfTTJjqqyRQSwLUfyw/Um5ZQRoUIatMEreWy3x4WIM8BwpXi598/AxvrXgxvMdbrIVWfDuuwVkkEzteBAQ0M6GZjxvizqfN5iVKQz6KBBZzhjqu3MfSMjo6inahG8Vl0v3FX3zd/dmf/k+3ZctWd8ma1e5rX/uqO33qtFu6bKn74hd/1X3hC/9aYCewZZXp6u7mGkaXtPE888xvQm7+w8ABQaNYfSDIsbeOu57uHrd9+w736U992i0aGHCY2XJrh9ZJHA5C9JM2KWmUyqUjlKnHYsmyOY1exE0KFn7lv5E5k7j5slSej9o07fSFaSBNja9mGB7bYx7j8DI4GKcMnPYDmAqFb5yimKP2crfNAKJV2cKCoYVC7NKpnQF2bWQboLDvQ2oQqU5ws8rQRkkFHmCEgF48cMDtfvQRt2f3LrfjuuvcZ37us27n/d93O+/7nvuvv/u77sorrnAf//jHsFIxhlmecffDH/4QM07jstIQYPIVEa0BByErli93Y9Dot956q9uyeYubixs0vvnN/yODkYnJCSxrJzFpaibBot4h70W/kGoIGdmtgYHhpwokil1wloUrRDQ8LFyxn3enwslhUViaPkk2XC5S5agkcB5KgGU87IzESWjU8Yjhp+uWDmQJlYOubznUof6tE0PreB6E9Tys6yUYEwRhnDzG5lxcJeAAgCsF3e7ll19xjz76kNu1a5fbtn27+9zP/4J7EKvO99xzl/vPv/VbOLOwyX3ogx90o2g3jhw94h5/7DG0H52YiCIemv6mJa5m9PX1ykBk7ty5bt26te6v//obkuaFAwvc7sf2uDvuuMP93d//nVuIFfJPYVCxYME8N4Z2SSalUFY4Dmm+TFhyysu4XL5kHdPm5Nt8rJg/cl9sQ5vHb8WMaRJGpWaFWTim6zdbeKfLR7vAX1ADCKvwqNJgWGhnBtMd+oeZ7iuXFvcwJG/H5hyobkvB5OHKukpVapArRRFAjVOQ4SJt4mUcHnZ2OIS2ADM7X/yVL2Km51Nuz2OPu5/7zGfd44/vdrt273Efu/12WUU4dOig+3kcXnv7xLFCMomrA43Cn/zpn7vbPvohDDjG3dx589ylQ3NdP6aTlixZInF4ME7TJDyLIJhnJRvgAmUqSMGUDzEGC3kAdSk36rZMAz/ACnTLoLLQB34FnEEYrY3CI/DKWUmgkgAkYNUbbSdmS0CWWgInBXKzzUeBoMij6MtzBo0+zsNNToxDnrhatQftKiKw089vydJl7jd+/TfcJz7xM+6hhx9x/+Jnf8YdOPCie/CBB90H3v9+wHdjYuo+9ytf/BU3jsFE+HVwexN6/xdddJH7q298w23YsBHB3dJudONQxfHjx90ffulL7utf/0vcvDTurn/Hje6aa7ZiwBApXfJnyDikRXtHHC8GOENuq1yeIdIFMrPNi40/yr8CV5XHmZDABTWAsASqhVMHC4SJi6bChPFzM/JhQJN2i4aF6uw0GtpAYF5NrGwAqHEn3NDQkNu+Y5sbRwefnf3lK1Y493iHe/vtE+jc41D0yDhWjwdk/+nI8AiSpLh86rgE3QlFf9ll6+QwG/e7cm+sP1SNR3+Sg9O9ff24namo4u3G1pJc83523sSlZGb481KphatIM+aN7nplROG9WcRXi3LlX0ngjEkAZTiuD/XKdMiXlu+cPqciij6FC70NsDB4Vuw2H0V+SxPXDm6JTn2I0+LDZ0KeF1tGeZgQr9rZye/irUeYUBtGm9Db2yXtAyeAVl98sbv2uh0CunLlKncx3AcOvCAr12wvuOKwfv3l7pc+/0vyvgMBWT44MdeJlQje4Dd/3lxsn10iA77enmxSiW3Lhz/yETewaJG74zt34CD1g+6Xf/nfuD/F1qmhoSHZOsuzEx04b9FsW2LFK5ZgSd70/jSZlyERM19DgDNk9zKKa3WReMhvaC9CFn1M+MZFs4io8iktgbYaQLAAcVkT65KiSNLiKhb80Y2TDcXjSx0Lff3yl1JIMRYaOoAUlUkRqzWLU8AlVLL9m0rUgjMrk0ZQ09J8GhaahOP2U6ptJpm/5OP+VFllgWy5HDwxMYaQKZi4Yxs26G+59eI//cf/IA2GxovN06Pj0jjwkDX3uep6g6Z2bJR4gZksQLH6VR0OZPCvbDoEQ/bHjqcUAzjQKHz6OFIQYOGz8jUsVIzjr301ykREtzh8gizCFp1ygFvbnYA1sQp/IEPTRyNNwIu7SD+OX7kvPAloye9g2ZIvKWNwszyy/LEOlp2ZDYsr0fmy7zGnf83Or9JPoWApllmtD4TW0GDLexq5oDMBbNbVNIZaBFAdYoZpUjv6vKxZOTjLofC5MGU88DS8pN4GIIk1oZnmF73N2MWosY8VLYaBW/RK5B/Ll2p9Us4yTGLwgG4H+COLU1MT8rZPL9734UCAbpYnfhOTaEMgIG41unrLVW7r1s0RlbyTk1hcoXj44V3u+9/f6VZgMuv2j9/ufuInPuZ++qd+yv3Ye2+V25fuu/derJY/4YaGhmQrlOSUFJJ8gq10WbKspW9D7mxcVr0JykyCOPAJURbswGb4FbxE7oZv0SvClytSKTR1QOqoaZE0RICWTDStYpqVIyFhMWPAW2AWk2XglF+aHSwvNCNkcbmPgtvO2V4DCGSPz2QthppfsVv9M1Mh4gKh/hlkZoths5Dp2+rRCbGVaZRC+Lr2skSNhlCVPLcfdePAmnQEoMBVJn1oEPRBOC4jf/3rX8cBOgwC8NgDhhcJW3w0DsMF3Ml9+8d/0q1dtw6NDPbHduOhHxmYcFnZY+zAlqkOzmCRZ1WsrPVKsG5CpxNoCaU5P2G1DmlVSD4RRkJisuhYxV459IYC1fCMlvpUZiWBJiTAAoii6ss2y2NSP0ujMsp5ibh1y32N+M3EqYGqgbedplbStylYbBUnQCyo8n75VORdisX21VCa1PN8csGfW+ChZ05ceF5l0g8wfvKI/gk+JJp2blN6EpdqfOsf/gHtAl+aTlpBgHHFmisUPPvw6U9/xi1dusQ9++w+95u/+Zu4+nuVuw7n8zZu2CCsLFo0iAfm+mV1fAyPzCGqxwU8QrIwcE34kNj+T9EnCGzKGmHUtAsuDWPuNy4BWhdDNhRD3s/ytfDHfla8EPPM7WUpWHBm81cAjNOkPBcANcAwCas/I/gC8mqrAYTkG8sH8paKJy0SYqFnMWebHjEKfgNhRMI3sbUKbQQcOVNFGvgHqQp8m7X6efxGscM0qFz9ndl+JYB/qfc46yaP8wChKnoOLo4cOeq+/OWvuJOnTvg8CMXBiFjGvvLqLW4Trn89hW1RE+PEyLMjPh9FeQKODQ3By3yW7OJ4ZWDiOK1yh7RD+3TxzyTudGlV8JUELAmwSlrlsFnd6ut4vqI3i8vil34Wv2WUi1ddoQLLcEnHNs92LfKpv8lHGppZLL3faplk1LytLG9xPMstap4B7PxDRtyOygPV/EhH33zghFQHDljzYxvANoUHrp9+eq/70pf+UF6Q1vbIm4zv3CqcgXjf+z4g22hvuvEmXMpxJQ5d73a//du/437xF39R2qPf//3flxv+1q67HFeNb5IHS3lAu5sHuxOKYiR/iLf4mZ5FsFn2sfLGKiMW3CyzJvkZ0xBZzrLo7LTm62rMV+WemQTabwBhyqN8yRVIW3PkMaNcNls0rYJuVX6zgYiWAT1TTXJiDtnzyRQXaKpIZMgBIY2NchVhSpaMqYSpgan8R5KtRsMjo9IojI6NuZWYCfrKV/4IYSNeZpyKgo1/iZeDjm04R3FqZELsE3gPwsuDKxGezsgw8AV7EdKtD0RifbX8Q9gyMIA3wVQgIb6S9jD/vd3OvxCOqM2sL0lTwRQnTZuqQlZmJYHWS0DLn2I2dZwGtsiMaRLtbNBVOsTt7XnNMSOaZuU3arCh01NdOU15GqhqYMin0wIiLqh1yB2aHaMCXrc6khyIHuPZNiYFP/rxfSF+8jYDInIL04033eS+/NWvYtWAgwrER6d/gjo4mVSaizMQy1aucKdHh93qSy91/xbXiP/7X/s1942/+t/un+/6JzeOdukobnKav2DAff4LX3Abrrgc/CA+V0LKJ9QzKdxN70/N5qKx6BLFH+W1FS8CmQ6HWnbzcSwieYiZuEyaM0hDGV5MmmUiVjCmBC6QAYSZdvGMC5Qvv2VKse8AFzHn47IKsjscfvaLl/l4Hr7oZ7cjRbiQXk072MpzVgsyw8/GCPre3fTOm92x48fc0NBat2DhfAweHJaH57j3feCDbgUOwt2AWSA2ADyc1t3b6T700Q/zzDVmk0AD6FKFStT4jYxMAi8GJBw8IJAnIU6PTcpM0Sc+/Vm3fPkqHIQbFNrU+9T5xEF5WGko01hb8SwJxGVEYMhA9KXXzAb+aToDP0kw3B4v8Bi4CB7zZ/KRw1vbEcYVe5H92pGrkEoC56AEwjKt7Fn13taZGiMzy53jYH3N4tCmfChtdeehZuqKiArdcjhrqJcSkYs07UixprKheEbOb1fCIAINxtat29wnPvkZbF1d7+bMmYMtrhNu/vx57mMfu10OTe/YcS3HBxhATOCmpuW4FvwnU1VJzvgbw1ZXbmPix2vCuS1qBG9N8KrWwcHFeGviL9xz+/YhbMzdirbpk5/8FM5CvEfaIteBBontGRs04ND8E2Q1/5SVSYzAllFcNs32wozaLB8xXzNzcxqKA8L8Z/AWJzQfoa5rdupTXZJpna4PVYXibJxZZM87ybAIn8TtDidOjbhJzGhPTXUlm2CgaKR8eyURJ8xSGoWtkIhUhIsrTYzZu83BgqHRjSpn0CQjSEezX0RXFgJK4YKaSOKyuNDe1Qk+MCKYQqPAq/nGochxdAH+aBxwEM514OE4iigpXtq5lhUMEXCQYh5IBk7OKBF/F6anPB3e8w3djlaEZyGmprKbMvRFa3/wsZgXrSzWJq6yh6hryDePM5BFDXh6xwNR+uXx0Mf28yH+L+Pw7aTl83vkFhO6NX9DuMpeSUBrVgfrND+U+yl0tkYw0D92YtjhJn0MdDtTXeuBav8tU87K3nBn4TL9NBG12ZKQSD2a0KypMY3Y7SOK8jNxNPK08Fm62oJDBhXRGwkrpXGMeEXk9CnbJnneumQgAZ3DROGgNCelurDVdWwMK9C4EQnDDPhR9yeXaRAMbQBvXGJnlf+QCzKAoJ02rk5THqlMANKDw9rjI6fd26eGBX7uvDluTn8fbl5CuyXwnKbykiDGch/jNPFBx8YffWzfCBLyifPL0vuTMVCERp1WXA3Lm/m0WvEkDUba8njYJsU+ttsaZ1h0rdgWXNnVNytuTGMS1wOjAOKKF+y4mBx1ixbMwVtVF/YcfHumvlBaS5beuMS0wG1SLvBXbJSEtBHZ8GLkUpzGasjEZWJi510DvH1iAtfw8REkTuIgiCywmz9FLYbZJdSz5Et4SwyBTdUhXOyQANLjYAMAPHTwg4nJJ0Cz4iYeEjfjx4MmyCWS/6MoAq+iNUtUMSzwYRNV5rNollFMVrwy9CqYSgJnXQJs8ctVj7PGqlW/znGWDVmV5diAMwVgwMVUrXgxDN0l2x8tKJzwp51tRYfrlVVkjB3QbPhXpjlU5QQRtzylH9xcjfA4PO+ePeChb/IeEFW6uOHHFY2u7n6sXM9B++XPWfCdIfnYRqUFt4QsfKykHVLHdEybhh8MhXiKcEUfwlu+XiIhtsreWglIe56Ivkzb3lrq5x629hxATEPOZiEoUw+pNK06HNEuASIxsg53gMCInCm9DC4eGGQhsc1AGIOUdIeY1K43JvnOfm1EXcmggdpY05MTeerQlNGDVIJfAGNSSsPNUPEsOX6Qxqc2ljBEJeH9yII1oxLGoN0sgzHQNOCMqKlXSquEfNJIlaWSQB0JsExZxSmdDa4TdyZBaVluBonR6VVtUw+dpLOU4pDan0M1M3nkdQsR22xYOZFjI3GUhcvHNdNQRsnl0aQu5SJMHbc3hWkLw9KIdSwhPLc/+SEGIiCA6xu+HSGCBHIG/BNLs+WwWEKIzfhESGGqDBjxUmnWCq/tb6chj8+GIc7W8WbRsPxqp6Q1ITZN7a20hkY7YGnLAYRUzLBRk3qAP/n6IPlnKsQSOStNpoEvjloCxPNRqhLG2L3bLuw2bKt8LbmVXy70WRFWx2IXhJJT6eWXUsU/UfrFeGdPJnE++BRoGlol+TyemCZDLb8wloSLzp9d3kKalb2SACUQl01bjwhkQ4FZcRtGSgAKfNDfGFTYcGWp5OFiXPnQ+i4rrp3+Mp25+rTqhYYd+wyunB4pu8UmHsilK9IZwfI2iEO5o7y43ZY+Ph2UFUOxCU+BGmK25Gv5NUQ0IwCrPNRqC2NCVtwYpqxbpBcVCrtcFjGafMxAlCa+qF9lwxR5q3zKSaAtBxDFpJfWDsWoM/QpPblRksXS+Cy+48pZkma5GQaLoO0nSqcQROY8Q3XTqDwnaakFq2AFMk14lMVlwpmeTTBRRakkUEmgksAFKYFWKFG/ZYobbf2XtTdnS6RMVZmUxc322eL3zNAtI5Ezw0lFpbEE2mMAkYyAObr0s+A4bCtHsVj1eLjKF8oOmX2IhRJXT76wanxRufavFBhwBa8oYiHce0xaJ7cN9WJtdTImzmpQibzLsRaN4T2OaNIhQpw549kkhuiB6gwKilR4yTPEPPRfmEcRDOUWBicxivzl4xGsCJNELmVY+GI/MlZkLqabvfKbJxxjozxiv3wM77LLUgIJBDx4zgPZOhtD08/OedPCWfldmBJI1ZIUPPzp4B5ynH3ibC7K9gRG8LxtbbLk5Q4FXZUSUPniMgZcgGHraoXxZriCqSG2vilqdF4HGn5MXhGKEMX6G8ajPa7PEl5IqIgsjgq3QdWIa0BZCybJhSEGmcjL5DmCKessO+NcyGoQkGLViFCtWaIoniE25A2v/Qs+FuHU7BCo6QAACMhJREFUmdlK8YF4rZQbaWYcpEwVLEx+zF/sZiTrOlqT36jsS1wTYcxKkVtGi6OaNJmIKLr016LYfotZnq6JLw/iXREgV2SmqJfIIGnHZoKDK1yF+mUUVlFxUhbR+0NfkroPd8ckvRS2nSTAX1TmEjrtaLTHAIKZltQyKUOiSXwDl5Zall9jDTUqcwBCPKPwxJnPYhLVhxhkWm6rU20hsJR1IQ1WRMuPiSjxzSidZSObiagXOWM+s9VOjIm+NnguRDvaOc/SDisNMccWDAhETFPJxTEtNqyGROGoVFlyy+LSeJVZScCXPmmWUTTZOHMgygYah1/ZKfFFK19IaxTtVJpGgRY0jeIRAesH4QK6Hh08Q/+UWGChjg/iEd7HDWBMq7YrQaDyQa86SMhS/JXV59Ykg4kvJlDSbfFhRY1UkoBIcxnKW0RbFITFrzUKKlwLao0MTOYsT+ZX/sv0eRaS2TJYkQkDgrRJ3MBN6DKyy2hm+MVmEg5gEG6BWPgsuABTarXy0PITwrm0FnPQ81GCcpyHTBfQxXRjMC8jAsMW8lLLnabSW9Jt1YTnF5uJV8pHmkQyJzH8H/qLzpCpNzgwmcezOgmI55su9UkC2txokwFElEvIQ5+NmqHetCpdmcofYZ+W06JpIZhtPiyaZf3KpuFs4StLd7bhWi2nZvltxIeEi0JslkIV74KTAMuLV6pox/EPbnZq03n8ycSWwKTySdw0eF2/dDaJiviSr+AnV8ZmiGJYurXTKm068KQmBzJkTggiACaHORKexPPxfeOfxhM4v6bBqJ49RvC2hFX4c8Dk06p85UBSgQhCjSYIZXWE6Egg/XDnEFHCrZQ6RFBwqSfMHI0kLuVPVmSSNTEFLoiXklHk9FDGaVf/tAdFz1ofr38mIaSENJKPXSrhlWmnv/IE3EW5e/LqH1zXJ9goI83f1LSW3RPaoSEsKV+arhBA7YkwwzRQDspTajIxQZp82uBHGupPOiVkJ8MYSZAywXiZXbOkwDbpEJAzPsknea6O0MwY97iBbApT5PwnbAKW8uWDr0I784QbNHJuODSNiSl4AKa8kjRrUZAM4YbtSzhsY7jv35BA8sE6JddqATZAILc4ZiCeTeS/4MCfeqbUI+BVMZBRuSlSIgFpbCZ0cudfCGN98J/CuyF4rUrWF5i+TkkngWtFshC1l197DiBmkEcs/MUqUURYtsi0emDQqHNY5LSOT/lE1EFSPyh8PVohLZk0my5JQol0NItfeW6lWeClBv8FOKsXMQ3GFB9N/Ifek9ZpGhgq0AtOAmmbz5YZzaaUGzT67NBg7b8DjTubaenhMozwYXlO4tOLDbXAxiAJvEbjOwB+jQyA+MIORuj2qBWjJ90BnohH2aDJUi5uoQ/2hBBp+C81E4u6GVp8XM7XnRCG11arW9NAj5Bv3+miZ+zvRw8aXzjCmILw2hGiyUFFDgaATAffQuOnJhMfxvOhHp/aiYljFH5eFjRTzn1Arb/szFMPBeB0hjSVd0GhcPVM8sLwhCexh/BxOBFrOO0aT+yhgx4AjGHVrSbB+Kk7MDUtarIrG6c1FaLHYv5lmyfJUNyAit2MyGDiTz8AyYvbqQfCkeeUefzxIVYiUF5p0q2gavp6m4eTegOAXNoQPUHhcVgDOcZJKXiO2LmOkiC6IvRkOOMRP3/6xeVQw8qYpKqy8yt2eEdEt7ApQ7EphDEwhr8EKSH6Kyys9J7ExAaeuoWN9Z0Vrwem387pgQkVIoCzzb/2GEBI5URhpMmalbh93iXFVLyLmVvwkfiNc10VQiNI4acRkIQHUwx14MvjKyKJ4xbSXowiPnG8GmClvVuKr2wiSnNXBIyVWhHC+xTTReYaM9gYohZF27/IB9QbOgihv68mnrL6q2ljrXwvbAn4aUhfRrrkwcgePPolM6MwuP837HyorKQTkzjYGWe545f3z/v5tYGs9U6i+Hj4SzdDPS8ZHAFCWLr5kabAw56a+WiEkk464bMPXRL/+EDmBWQxDT1jlwGpLQ+paddQmrLFQns9SYDMEIdAsHO2s/Dl0UtwmSkBz28SWdHqiKJAxPJApCAx3kp8RKYm44Vu9bdMwoZfHC8Mq2OnjIien8pL3OrpgzxftIf+MU26fZnP0sQBtAUX4lEakRlG06BcNALwo2cYwJnujGMBqfHHKjeF8kvsIfoEV1gfvZfykxFTkWY+5IvM5WFlBS2XBsQADDREGtXbfLwwdtm2NkUUWKSNIyn8lBLPKDT6BD5JQyiHqFrinBdONwC4EwEsGXwBPas2SrERtfYKb48BBPKEGc8GhYWIs97ZPnAWD//zC2E1MjCpVTJ6jiqExtAOlphSITTENpUfOzT2JY8+DXFI6J5OBVN+a8bxJEP0LbfXpB1RKgsXRZOcjf0sd7P4LVz0mwm+snFFOQcMhAo48E6tirdWtqbhLLu1gFJslaWSQCwBNpK+oezG4GFgwVyZhxMo6M/GA4g0eow45+5w/Tn3dBxWsbaadtWNIW4rbr6iEJMBZREQxDUDUrKNITxobptFEtvgxHFMV+rTyGkvqWzEUtjbGKjZA7IQuHRSVPAQkbgbiypZWMgBWrllHPHMxVFHwIF61TAjyMhZIxI7MUYQIpeNb8Ru1itbZ6yPQatBvQHEVAcu50HDyeQRvhsvo+c/K915iHZzcQDxs+d/onCUDy8jc4/ahMwYjbtJDBW5yMTqjoUsFF4uP8UZHqQ8Kdz1yrh2wBjLUiPJanIaVg9XQDln7eIQt0Vf3EksuMvSaR1LnmIr8bUSV1l5AG5SM7tunHLMWVA2ets3ZoENjvWlsaHnWMwmMD3ThYI8iTrTRUv1VRKoKwEWLP58WelEbzUuanETGrvrok8Dm4vF6GVjxnynpGNLoTNUlkKMyHaX56MY3+LE8ivGhE8KmFpMsMqzVRKAnEXUgbwDaz0qHBSmursOYOmyVAdHPihiMHLmYRu5EHlG8Rvht8Pr9PjMCPVY9GuP9SBMlG3t+f8BzaRVvhdCvzEAAAAASUVORK5CYII=)\n",
    "\n",
    "Source: https://hbctraining.github.io/Intro-to-rnaseq-hpc-salmon/lessons/experimental_planning_considerations.html"
   ]
  },
  {
   "cell_type": "markdown",
   "id": "efa9acb8",
   "metadata": {
    "id": "efa9acb8"
   },
   "source": [
    "For biologically distinct conditions, averaging technical replicates can limit the impact of measurement error, but taking additional biological replicates is often preferable for improving the efficiency of statistical testing."
   ]
  },
  {
   "cell_type": "markdown",
   "id": "40d4b61c",
   "metadata": {
    "id": "40d4b61c"
   },
   "source": [
    "---\n",
    "\n",
    "<a name=\"tend\"></a>\n",
    "\n",
    "## **3.3 Measures of central tendency**"
   ]
  },
  {
   "cell_type": "markdown",
   "id": "1d4eac98",
   "metadata": {
    "id": "1d4eac98"
   },
   "source": [
    "A measure of central tendency is a single value that attempts to describe a set of data by identifying the central position within that set of data. Mean, median, and mode are the three measures of central tendencies.\n",
    "\n",
    "**Mean :** the sum of all measurements divided by the number of observations in the data set.\n",
    "\n",
    "\n",
    "**Median :** the middle value that separates the higher half from the lower half of the data set.\n",
    "\n",
    "\n",
    "**Mode :** the most frequent value in the data set. "
   ]
  },
  {
   "cell_type": "markdown",
   "id": "1c36c88e",
   "metadata": {
    "id": "1c36c88e"
   },
   "source": [
    "Let's read with pandas the file \"synapse_number.csv\". "
   ]
  },
  {
   "cell_type": "code",
   "execution_count": null,
   "id": "bd342055",
   "metadata": {
    "id": "bd342055"
   },
   "outputs": [],
   "source": [
    "import pandas as pd\n",
    "\n",
    "syn_num=pd.read_csv(\"synapse_number.csv\")\n",
    "\n",
    "syn_num"
   ]
  },
  {
   "cell_type": "markdown",
   "id": "e34f1292",
   "metadata": {
    "id": "e34f1292"
   },
   "source": [
    "Now let's take only the measurements from the animal Con1, clean them up and plot their histogram to understand the data."
   ]
  },
  {
   "cell_type": "code",
   "execution_count": null,
   "id": "a3d8417a",
   "metadata": {
    "id": "a3d8417a"
   },
   "outputs": [],
   "source": [
    "Con1=syn_num.loc[:,\"Con1\"].dropna()\n",
    "\n",
    "Con1"
   ]
  },
  {
   "cell_type": "code",
   "execution_count": null,
   "id": "6679dc28",
   "metadata": {
    "id": "6679dc28"
   },
   "outputs": [],
   "source": [
    "import matplotlib.pyplot as plt\n",
    "\n",
    "%matplotlib inline\n",
    "\n",
    "plt.hist(Con1)\n",
    "plt.xlabel('Synapse number')\n",
    "plt.ylabel('Raw count')"
   ]
  },
  {
   "cell_type": "markdown",
   "id": "d45171a7",
   "metadata": {
    "id": "d45171a7"
   },
   "source": [
    "Let's calculate the mean, median and mode for the synapse number in Con1."
   ]
  },
  {
   "cell_type": "code",
   "execution_count": null,
   "id": "e09834c2",
   "metadata": {
    "id": "e09834c2"
   },
   "outputs": [],
   "source": [
    "import statistics as st\n",
    "\n",
    "meanC1=st.mean(Con1)\n",
    "medianC1=st.median(Con1)\n",
    "modeC1=st.mode(Con1)\n",
    "\n",
    "print(meanC1)\n",
    "print(medianC1)\n",
    "print(modeC1)"
   ]
  },
  {
   "cell_type": "markdown",
   "id": "28e222e8",
   "metadata": {
    "id": "28e222e8"
   },
   "source": [
    "Let's overlay the three measures of central tendency on our histogram. What do you observe?"
   ]
  },
  {
   "cell_type": "code",
   "execution_count": null,
   "id": "9e34acb9",
   "metadata": {
    "id": "9e34acb9"
   },
   "outputs": [],
   "source": [
    "plt.hist(Con1)\n",
    "plt.xlabel('Synapse number')\n",
    "plt.ylabel('Raw count')\n",
    "\n",
    "plt.axvline(meanC1, color='k', linestyle='dashed', linewidth=1)\n",
    "plt.axvline(medianC1,color='r',linestyle='dashed', linewidth=1)\n",
    "plt.axvline(modeC1,color='orange',linestyle='dashed', linewidth=1)"
   ]
  },
  {
   "cell_type": "markdown",
   "id": "c3900e84",
   "metadata": {
    "id": "c3900e84"
   },
   "source": [
    "- The median and the mode are the only measures of central tendency that can be used for ordinal data, in which values are ranked relative to each other but are not measured absolutely.\n",
    "\n",
    "- The mode is the only central tendency measure that can be used with nominal data, which have purely qualitative category assignments.\n",
    "\n",
    "- The median is less powerful and less sensitive to outliers as compared to the mean.\n",
    "\n",
    "- For a certain distribution, there exists a situation where mean=median=mode\n"
   ]
  },
  {
   "cell_type": "markdown",
   "id": "c4e314f4",
   "metadata": {
    "id": "c4e314f4"
   },
   "source": [
    "---\n",
    "\n",
    "<a name=\"disp\"></a>\n",
    "\n",
    "## **3.4 Measures of dispersion**"
   ]
  },
  {
   "cell_type": "markdown",
   "id": "oZn8RoDASR6I",
   "metadata": {
    "id": "oZn8RoDASR6I"
   },
   "source": [
    "The measures of central tendency are not adequate to describe data. Two data sets can have the same mean but they can be entirely different. Thus to describe data, one needs to know the extent of variability. This is given by the measures of dispersion. Range, interquartile range, and standard deviation are the three commonly used measures of dispersion."
   ]
  },
  {
   "cell_type": "markdown",
   "id": "7286c733",
   "metadata": {
    "id": "7286c733"
   },
   "source": [
    "**Range :** the difference between the largest and the smallest observation in the data. \n",
    "\n",
    "**Interquartile range :** the difference between the 25th and 75th percentile (also called the first and third quartile). Hence the interquartile range describes the middle 50% of observations.\n",
    "\n",
    "**Standard deviation :** the most commonly used measure of dispersion. It is a measure of spread of data about the mean. SD is the square root of sum of squared deviation from the mean divided by the number of observations."
   ]
  },
  {
   "cell_type": "markdown",
   "id": "cda644d7",
   "metadata": {
    "id": "cda644d7"
   },
   "source": [
    "Let's calculate the three measures of dispersion for our data."
   ]
  },
  {
   "cell_type": "code",
   "execution_count": null,
   "id": "ee4296e1",
   "metadata": {
    "id": "ee4296e1"
   },
   "outputs": [],
   "source": [
    "rangeCon1= max(Con1)-min(Con1)\n",
    "\n",
    "import numpy as np\n",
    "\n",
    "q3=np.percentile(Con1,[75])\n",
    "q1=np.percentile(Con1,[25])\n",
    "iqrCon1=q3-q1\n",
    "\n",
    "stdCon1=np.std(Con1)\n",
    "\n",
    "print(rangeCon1)\n",
    "print(iqrCon1)\n",
    "print(stdCon1)"
   ]
  },
  {
   "cell_type": "markdown",
   "id": "03d3c0ea",
   "metadata": {
    "id": "03d3c0ea"
   },
   "source": [
    "---\n",
    "\n",
    "<a name=\"dist\"></a>\n",
    "\n",
    "## **3.5 Types of distribution**"
   ]
  },
  {
   "cell_type": "markdown",
   "id": "f66b7ab0",
   "metadata": {
    "id": "f66b7ab0"
   },
   "source": [
    "In probability theory and statistics, a probability distribution is the mathematical function that gives the probabilities of occurrence of different possible outcomes for an experiment. It is a mathematical description of a random phenomenon in terms of its sample space and the probabilities of events."
   ]
  },
  {
   "cell_type": "code",
   "execution_count": null,
   "id": "6ded03d4",
   "metadata": {
    "id": "6ded03d4"
   },
   "outputs": [],
   "source": [
    "plt.hist(Con1,density=True)\n",
    "plt.xlabel('Synapse number')\n",
    "plt.ylabel('Probability')"
   ]
  },
  {
   "cell_type": "markdown",
   "id": "0be92c0c",
   "metadata": {
    "id": "0be92c0c"
   },
   "source": [
    "### **Gaussian /normal distribution**"
   ]
  },
  {
   "cell_type": "markdown",
   "id": "a83fe875",
   "metadata": {
    "id": "a83fe875"
   },
   "source": [
    "If data is symmetrically distributed on both sides of mean and form a bell-shaped curve in frequency distribution plot, the distribution of data is called normal or Gaussian. The normal curve describes the ideal distribution of continuous values. Whether our data is normally distributed or not, can be easily checked by applying a distribution test. "
   ]
  },
  {
   "cell_type": "markdown",
   "id": "b045c7eb",
   "metadata": {
    "id": "b045c7eb"
   },
   "source": [
    "![dotdash_final_Optimize_Your_Portfolio_Using_Normal_Distribution_Jan_2021-04-a92fef9458844ea0889ea7db57bc0adb.jpg](data:image/jpeg;base64,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)\n",
    "\n",
    "Source: https://www.investopedia.com/terms/n/normaldistribution.asp"
   ]
  },
  {
   "cell_type": "markdown",
   "id": "2c530a79",
   "metadata": {
    "id": "2c530a79"
   },
   "source": [
    "### **Non-Gaussian (non-normal) distribution**"
   ]
  },
  {
   "cell_type": "markdown",
   "id": "69bb95ab",
   "metadata": {
    "id": "69bb95ab"
   },
   "source": [
    "If the data is skewed on one side, then the distribution is non-normal. "
   ]
  },
  {
   "cell_type": "markdown",
   "id": "d995aa5a",
   "metadata": {
    "id": "d995aa5a"
   },
   "source": [
    "![processes-07-00833-g001.webp](data:image/webp;base64,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)\n",
    "\n",
    "Source:https://www.mdpi.com/2227-9717/7/11/833/htm"
   ]
  },
  {
   "cell_type": "markdown",
   "id": "21a41982",
   "metadata": {
    "id": "21a41982"
   },
   "source": [
    "How do you describe the distribution of the values in Con1?"
   ]
  },
  {
   "cell_type": "code",
   "execution_count": null,
   "id": "8117fcec",
   "metadata": {
    "hide_input": false,
    "id": "8117fcec"
   },
   "outputs": [],
   "source": [
    "plt.hist(Con1,density=True)\n",
    "plt.xlabel('Synapse number')\n",
    "plt.ylabel('Probability')\n",
    "\n",
    "meanCon1=st.mean(Con1)\n",
    "medianCon1=st.median(Con1)\n",
    "modeCon1=st.mode(Con1)\n",
    "\n",
    "plt.axvline(meanC1, color='k', linestyle='dashed', linewidth=1)\n",
    "plt.axvline(medianC1,color='r',linestyle='dashed', linewidth=1)\n",
    "plt.axvline(modeC1,color='orange',linestyle='dashed', linewidth=1)"
   ]
  },
  {
   "cell_type": "markdown",
   "id": "05952564",
   "metadata": {
    "id": "05952564"
   },
   "source": [
    "This is how our plot would look like if the data followed the normal distribution."
   ]
  },
  {
   "cell_type": "code",
   "execution_count": null,
   "id": "521e469a",
   "metadata": {
    "id": "521e469a"
   },
   "outputs": [],
   "source": [
    "import seaborn as sns\n",
    "from scipy.stats import norm\n",
    "\n",
    "mu, std = norm.fit(Con1)\n",
    "x = np.linspace(min(Con1), max(Con1), 100)\n",
    "p = norm.pdf(x, mu, std)\n",
    "\n",
    "\n",
    "sns.distplot(Con1)\n",
    "plt.plot(x,p)\n",
    "\n",
    "plt.xlabel('Synapse number/ROI')\n",
    "plt.ylabel('Probability')"
   ]
  },
  {
   "cell_type": "markdown",
   "id": "6766632d",
   "metadata": {
    "id": "6766632d"
   },
   "source": [
    "How can we check if our data follow the normal distribution?\n",
    "\n",
    "\n",
    "**Shapiro-Wilk test of normality**"
   ]
  },
  {
   "cell_type": "markdown",
   "id": "253997b5",
   "metadata": {
    "id": "253997b5"
   },
   "source": [
    "---\n",
    "\n",
    "<a name=\"hypo\"></a>\n",
    "\n",
    "## **3.6 Hypothesis testing**"
   ]
  },
  {
   "cell_type": "markdown",
   "id": "003a2a4a",
   "metadata": {
    "id": "003a2a4a"
   },
   "source": [
    "The primary object of statistical analysis is to find out whether an observed effect is genuine and is not due to chance. Hence, the analysis usually attaches a test of statistical significance.\n",
    "\n",
    "Hypothesis Testing is a type of statistical analysis in which you put your assumptions about the observed effect to the test. It is used to estimate the relationship between 2 statistical variables.\n",
    "\n",
    "First step in such a test is to state the hzpothesis.\n",
    "**Null hypothesis (H0)**: we make the assumption that no difference exists between the two groups. \n",
    "**Alternative hypothesis (H1)**: states that there is a difference between two groups.\n",
    "\n",
    "Then the **appropriate (based on the data) test** must be decided and the relevant test statistic T is calculated.\n",
    "\n",
    "A **significance level (α)** must be selected.Significance level is a probability threshold below which the null hypothesis will be rejected (the probability of rejecting the null hypothesis when it is true). Commonly we choose a level of 0.05 (5% risk of concluding that a difference exists when there is no actual difference).\n",
    "\n",
    "Test output: **p-value**<br>\n",
    "The p-value is the probability that a given result (or a more significant result) would occur under the null hypothesis. <br>\n",
    "*!!The p-value does not provide the probability that either the null hypothesis or its opposite is correct*\n"
   ]
  },
  {
   "cell_type": "markdown",
   "id": "76d79798",
   "metadata": {
    "id": "76d79798"
   },
   "source": [
    "### **Shapiro-Wilk test of normality** \n",
    "uses the hypothesis testing to determine whether the proposed data follow the normal distribution or not.\n",
    "\n",
    "**H0 :** data is normally distributed<br>\n",
    "**H1 :** data is not normally distributed\n",
    "\n",
    "Thus, if the p value is less than the chosen alpha level, then the null hypothesis is rejected and there is evidence that the data tested are not normally distributed. On the other hand, if the p value is greater than the chosen alpha level, then the null hypothesis (that the data came from a normally distributed population) can not be rejected."
   ]
  },
  {
   "cell_type": "code",
   "execution_count": null,
   "id": "5fc7a12e",
   "metadata": {
    "id": "5fc7a12e"
   },
   "outputs": [],
   "source": [
    "from scipy.stats import shapiro\n",
    "\n",
    "stat, p = shapiro(Con1)\n",
    "print('Statistics=%.3f, p=%.3f' % (stat, p))\n",
    "\n",
    "a=0.05\n",
    "\n",
    "if p > a:  # null hypothesis: data follow the normal distribution\n",
    "    print(\"The null hypothesis cannot be rejected\")\n",
    "else:\n",
    "    print(\"The null hypothesis can be rejected\")"
   ]
  },
  {
   "cell_type": "markdown",
   "id": "f0434306",
   "metadata": {
    "id": "f0434306"
   },
   "source": [
    "---\n",
    "\n",
    "<a name=\"choose\"></a>\n",
    "\n",
    "## **3.7 Choosing the appropriate statistical test**"
   ]
  },
  {
   "cell_type": "markdown",
   "id": "175df420",
   "metadata": {
    "id": "175df420"
   },
   "source": [
    "There are number of tests in biostatistics, but our choice mainly depends on the characteristics of the data and the type of the compared groups. Inappropriate test will lead to invalid conclusions. \n",
    "\n",
    "Statistical tests can be divided into parametric and non-parametric tests. If variables follow the normal distribution, data can be subjected to parametric tests, and for non-Gaussian distribution, we should apply non-parametric tests. \n",
    "\n",
    "!!Statistical test should be decided at the start of the study."
   ]
  },
  {
   "cell_type": "markdown",
   "id": "a4816071",
   "metadata": {
    "id": "a4816071"
   },
   "source": [
    "Here is a quick guide:\n",
    "\n",
    "![IJPharm-44-435-g003.jpg](data:image/jpeg;base64,/9j/4AAQSkZJRgABAQEAZABkAAD/2wBDAAMCAgICAgMCAgIDAwMDBAYEBAQEBAgGBgUGCQgKCgkICQkKDA8MCgsOCwkJDRENDg8QEBEQCgwSExIQEw8QEBD/2wBDAQMDAwQDBAgEBAgQCwkLEBAQEBAQEBAQEBAQEBAQEBAQEBAQEBAQEBAQEBAQEBAQEBAQEBAQEBAQEBAQEBAQEBD/wAARCADgBBsDASIAAhEBAxEB/8QAHQABAAICAwEBAAAAAAAAAAAAAAcIBQYBAwQCCf/EAFUQAAAFBAADBAgEAwUFBgIGCwECAwQFAAYHERITIQgUMZQXGCJBUVjT1RUjVZYWMmEzOEJxgSRIUpGVJSg0Q2KhJnYnRWR0scE1U1RjZnJ1goOGkv/EABoBAQEBAQEBAQAAAAAAAAAAAAABAgMEBQb/xAA9EQABAgIHBgYBAwMEAAcAAAABABECIQMSMUFRYZEEcYGhsfAFExUiwdEyBkLhFGLxFiNS0jNygpKisuL/2gAMAwEAAhEDEQA/AP0GN2ZezcAf3fca/tNh9Kg9mbs3AG/V9xpr/wCU2H0qkrXuGsTc0hMxcQs8goIZd6QS8toDkqHHsQAfbN0DQbH/AErlS0goYDSRuwwBJ0DkqwQGkiEAtOJAGpkOK0v1Zezdr+75jX9psPpUDsy9m/5fMa/tRh9Ksdb2Y7pmkySbrHiDCFTd91dSS86iVJuIHAph0YoCbQj7vEegDUmOZiKZuG7J5ItkFnfGKCZ1ilMrwhs3CAjsdB1HXhXl2XxHZ9so/Noj7ZWgw22EOA4NxC9e1bBtGxx+VSic7CIrLXqkscitEDsy9m3w9X3Gv7TYfSrn1ZOzb8vuNf2mw+lW4srqtmSdpsI+4I5yuunzUkknJDmOn/xAADsQ6D1rtUuS3kZQkErNsSyCgbI0M4ICxg+IE3sf+VekbRREAiITlbfgvOaGlBYwl7bLsVpHqydm75fMaftRh9KuR7MnZuD/AHfMa/tRh9KpFVXSbJGWWOUhChsRMOgAPiI1jGd3W1Is138dcEe6bNQEy6yDpM5EgANiJjAOg6detIqajo5RkAqQwRxCtCCQtM9WXs3fL7jX9psPpU9WXs3e7s+41/abD6VemwcpK39Mvm0fb5CRbXiAj4JFI5ziBtBxIh7RANoRAR6DquJvJkr+OuoCxrNc3G6jxAHpyuSNkEREN8PMPsDG/oAf69BrxjxXZYqGGnhiJhisaEkncAHO8Cxew+F7VDTGgihAiAcvFCABmXYbiQbl5/Vl7N3j6vmNdf8Ayow+lT1Zezd4h2fca/tNh9Ks1amSIW4opR89AYhw2ddwctXhykOm59yex0AiPu141lFbztJBkMivc0WRsCotxWO8TAgKh4k4t64g+HjXoo9soI4BHDGGIe25eePZaejjNHFCXBbtlqXqy9m75fMa/tRh9Knqydm35fca/tRh9Kt6Wm4du1QkF5dom3cmIRFU65QTVE38gFMI6ER92vGvlxPwbRRwi6mGaKjRHvDgii5Siil/xmAR9kv9R6V1NLBDMxDufSa5CjjNxWi+rN2bhHXq+Y1/abD6Vc+rL2bvl8xr+02H0q3ZlcUBJu1GMdNMnLhEoGOkkuU5yAPUBEAHYAOwrhrc1uvZFSGZTbBd8lvjbJuSGVJrx2UB2FPPoi3uE7Jq+VSB3hMp2XLTPVk7N3y+Y1/abD6VPVk7N3y+Y1/abD6VSXSuqwo09WTs3fL5jX9psPpU9WTs3fL5jX9psPpVJdKIo09WTs3fL5jX9psPpU9WTs3fL5jX9psPpVJdKIo09WTs3fL5jX9psPpU9WTs3fL5jX9psPpVJdKIo09WTs3fL5jX9psPpU9WTs3fL5jX9psPpVJdKIo09WTs3fL5jX9psPpU9WTs3fL5jX9psPpVJdKIo09WTs3fL5jX9psPpU9WTs3fL5jX9psPpVJdKIo09WTs3fL5jX9psPpU9WTs3fL5jX9psPpVJdKIo09WTs3fL5jX9psPpU9WTs3fL5jX9psPpVJdKIo09WTs3fL5jX9psPpU9WTs3fL5jX9psPpVJdKIo09WTs3fL5jX9psPpU9WTs3fL5jX9psPpVJdKIo09WTs3fL5jX9psPpU9WTs3fL5jX9psPpVJdKIo09WTs3fL5jX9psPpU9WTs3fL5jX9psPpVJdKIo09WTs3fL5jX9psPpU9WTs3fL5jX9psPpVJdKIo09WTs3fL5jX9psPpU9WTs3fL5jX9psPpVJdKIo09WTs3fL5jX9psPpU9WTs3fL5jX9psPpVJdKIo09WTs3fL5jX9psPpU9WTs3fL5jX9psPpVJdKIo09WTs3fL5jX9psPpU9WTs3fL5jX9psPpVJdKIo09WTs3fL5jX9psPpU9WTs3fL5jX9psPpVJdKIo09WTs3fL5jX9psPpU9WTs3fL5jX9psPpVJdKIoyDsy9m/5fMa/tRh9KuPVm7N+9er5jXp4/8Awmw+lUlBvxD3VHU/ku5W13vbUtSwwnFWDdJdwp+JkbCTj8A0cv8A+f8ApXj2vbqHYRCad/cWDAkksTYATYCV6dm2Sm2yIw0TSDlyAALLSQLSL11F7M3ZtENj2fcaftRh9KufVl7Nvj6vuNf2mw+lWWtLJsZP2+6mptNOAGOdKMnpHTknAksTWw5nQBDqHXpWw/xJAA0byAzTHuzw4Jt1ueXgWOPgUht6MI6HoHwrVHtdBTwiOCIEEA8DYs0uyU9DGYI4S4LYz3iR4LSPVl7Nvj6vuNf2ow+lT1ZezdvXq+Y1/ajD6Vberedot2JZNa5otNmooKRVzO0wTE4eJQNvWw+FelxPwbPkd6mGaXeSHVRFRcpeYQocRjF2PUADqIh4BXQbRRWiIXX42LBoaW+E6G63RaP6snZu8fV9xr+1GH0qerJ2bvl9xr+1GH0q3Mt2WwZNosS4Y4SSA8DUwOSCC4/AnX2h/wAq7HlxwEc+QjH80xbPHP8AYt1XBCKKf/ylEdj/AKVPPorawwtTyqV2ql9y0gezN2bQ8ez7jX9psPpVwPZm7NodPV9xr+1GH0q2de/7Ub3MnaSs03/FDlMYUeYX2NFA2jdehhAdgXx111rrXmnshwUZDryMXKRUi5IgDlBsMkiiCpBMBQNzDDoCbHXF4e7xrlFtuzCGKIRggO7TstDCZO5dRsm0Eww1T7ma62wuZNmsEHZl7Nwhsez7jX9psPpVz6snZu+X3Gv7TYfSrb1roho4rNKck2Ea7ekIKaCzsgCY462UuxDi6jrYeNe964cIMlnDFoLpciZjJIgoBeaYA6F4h6Bsemxrt58DRGEu1rTOgmuJoo4WBDPZhrYo/Hszdm3p/wB33Gv7TYfSoHZm7N++vZ8xr+02H0qx8dlrIstKyEKxxCCryKMmR2n+OohyhOGy9RJoenwEakVncsG8kDQyMqxPJpF4lmibkh1UvjsoDvpv4V5dk8T2bbQ9EThOEwucnAdmLs69e1eG7TsZApQLHlFDEwkXNUlgQQzrS/Vl7N3h6vmNf2mw+lQOzL2bfH1fca/tNh9Kt2/ie3RlhgwnmH4iAbFp3knO/wD+N7/9q8EdftrS1xObWjZVu4kGpONQiahTAA70JQ69RDXUA8PfqvR/VULiERhyWE7SLRvXnGzUxBIhLAOZXY7lrXqydm75fMa/tNh9Knqydm75fMa/tNh9KpLpXoXFRp6snZu+XzGv7TYfSp6snZu+XzGv7TYfSqS6URRp6snZu+XzGv7TYfSp6snZu+XzGv7TYfSqS6URRp6snZu+XzGv7TYfSp6snZu+XzGv7TYfSqS6URRp6snZu+XzGv7TYfSp6snZu+XzGv7TYfSqS6URRp6snZu+XzGv7TYfSp6snZu+XzGv7TYfSqS6URRp6snZu+XzGv7TYfSp6snZu+XzGv7TYfSqS6URRp6snZu+XzGv7TYfSp6snZu+XzGv7TYfSqS6URRp6snZu+XzGv7TYfSp6snZu+XzGv7TYfSqS6URRp6snZu+XzGv7TYfSp6snZu+XzGv7TYfSqS6URRp6snZu+XzGv7TYfSp6snZu+XzGv7TYfSqS6URRn6snZt+X3Gv7TYfSrj1ZOzdv+77jX9qMPpVJQ9OlY24JhOChX0ysXiTZN1HBg3rYEKI63/pXKlpIKGAxxlgA53BaghijiEMNpWjB2ZOzd4+r7jXf/yow+lT1Zezd8vmNdD/APwow+lXLLNDF5jBfIhI0AUbG5J2HP6grzAKBePh94GKO+H31t692wEaDNObmI+OdPCFMmgu6IQwmHXsl4hATdR10CvPReIbNSh4IwzA8InbVjJeqm2DaaAkUkJcEw4zDPZg4nYtQ9WXs3fL5jX9qMPpU9WXs3fL5jX9qMPpVvT6ch41VNKQlGrY6pTnTKquUgnKUNmEAEeoAHUR91dsdKR8w0I/i37d43OGyKoKgoQ3+RgHQ16hSQRRVQZrzGCMCsQWxUf+rL2bth/3fsa69/8A8JsPpU9WXs3b/u/Y1D+n8JsPpV6LnyVcUdd57PtWyPx1wgzK8WMMiRtwAJhDXtFEB93v9/h0r22lkphPxMhITzUlvrRDkWj1J05IKaRw/wD3nQBDqHwrwUfiuy0tKaERFw9oIEpFiQAWvYleuLwzaYKIUxhkWMiCZ2e0Fw9zhYv1Zezd8vmNf8/4TYfSp6svZu8fV8xr+02H0q3YtyW8oyRkyTbEzNwcqSLgHBBTUOI6ApTb0IiPTQV0q3laSDI0kpc0WRqVYUDLmdpgmCoeJBNvXF/Txr1naKMBzEMbbl5RQ0pLAHCw2rT/AFZezd8vuNf2mw+lT1ZezcP+75jX9psPpVvKk/CJkbqLS7MibwBFsYVigCug2PCO/a6denurzku61jt2jolxRpkHynKbKA7Jwrn8OEg70Yf6BVO0UQLGIa94hBQ0hmITp3gtO9WTs3/L7jX9psPpU9WTs37D/u+41/abD6Vbu/uS34t2gyk5pi0cOh0iis4IQ6vXXsgI7Hr8Kxz6/rVj7kbWm5mG4SbrYAiCpdk6AIAbr0EdhoPEd9ArMW00MH5RgTa283b8lqDZ6al/CAmRNlwtO4LWPVk7N2t+r9jX9qMPpU9Wbs26/u+41D//AFRh9KthmMgW+wh1pCOl4p+uVudw3b/iKKQLgUeH+cw6KXi6CbwAa9gXZEMY9i5uGSYRTh8kQxUF3pNcYgAiQphEAPoR1sPGsja6AkisJNum4E7Llf6amAEVUzLZyytWp+rL2bvD1fca/tNh9Knqy9m3evV9xr+1GH0qkFZZQrdRZulzj8PEQpTAHGOugbHp1qLGeWsiyMy9t9niLmyEYVMztEJ1EOUCgbL1Emh2HwGuW1+I0GxxQwUrvFY0Jidp3A7112XYKfbBFFRM0NrxQwtc/uIk8uOayfqydm75fca/tNh9Knqydm7W/V9xr+02H0q3FldEM6ekh1ZJknLcsDrMCuiHVTHWxDhAdjr46rsPc9upypYE86wLImD2WguSAsIf0Jvf/tXp8+i/5C1rb8N64GhpQWqnHhjuzWkerN2bgAf+77jXf/ymw+lXIdmTs3+/s+Y1/abD6VbM2v61n1zKWgymG6skmQxzpkUKOhARASePUwaERKHUADrqtjAwe8atDTQUwrUcQIsliLVmko6SiIFICHDzwxUcerJ2bvl8xr+02H0qerJ2bvl8xr+02H0qkoK5rqsKNPVk7N3y+Y1/abD6VPVk7N3y+Y1/abD6VSXSiKNPVk7N3y+Y1/abD6VPVk7N3y+Y1/abD6VSXSiKNPVk7N3y+Y1/abD6VPVk7N3y+Y1/abD6VSXSiKNPVk7N3y+Y1/abD6VPVk7N3y+Y1/abD6VSXSiKNPVk7N3y+Y1/abD6VPVk7N3y+Y1/abD6VSXSiKNPVk7N3y+Y1/abD6VPVk7N3y+Y1/abD6VSXSiKNPVk7N3y+Y1/abD6VPVk7N3y+Y1/abD6VSXSiL56Vjp+QLEwr+SOOitWyq5h/oUoj/8AlWQ8Q6e+gAHgPWuNNAaSjighLEi1WCIQxAkOFC0FAqKdm1ZqoQDLuY9w8ANeJxMZQv8A+AVgkJl1cNtXHlV5zUUWcV+EQxTdAAwlAqigB8RUMAb+Aa91THelmt71iyRLyWk2LcFOJQGK/KFYuhASH6Dsg78P8q6JDHsA/tRtZSRVWkU2OkYqSJg2YEzgYCmEwDsBENj7x+NfnKfwanijMNHKGGjEMOcQBAOQAJli2C/TUXjNAxjpR7o6Ssf7YSQYgMSWAssfFQtBRtuSj6yoOx4JVCchViOZt0ZoZE6PCT2yKmEA4hMbw8Q9weNYSFhAmnKdtSapyXavLCs6FKDOo9biCm+aZyZYpQT18A9/gPQatYUnBoA0Gg1vVfXCQB6FDdQfpqGKKGOOIWuQAwb2iQBkWhEy9pkr/qaKERCGA5ExOXeIzJhnC8VjCwTUZ51SfK2g1Imk4UjiyLc0sVABE4swEePoHUQ3w7rRmKlsvJ6auyyIBJK1463nCLtQGnJQdqaE3DwCAcWgDqIh7uvu3YUQ3vev9a+dAURAA6DXr2vwX+q2iKmrgA5OQWIE3sm5DTN68Gy+L/02z+TUczvYMWdw0zKReWC0bENux0BYUQo3jm7d09ZJKuFCJAU6phLxAJxANjri9/hUcxt2JWRGXBaEhOubZuNxMLOkXQxZ3guiGOAgYhdcI8QBw9R9/wAfCwAhxeA6CgkAR2JQH/Suu0eFGOCjh2eOpVBhsNhZ2YggykQVmh8VApaSOngrCMiK0WguLRECJsQRNQG7Suq8bbsuDvN44VczM4dZUFG4NlBapFOIAJCgHDsAAf8AUOtLnaWRaORlgvSBIjb6UYVOHQKwFRoKwm2oAEKAl4xH4h/UfdU99A1sOuqCUp+pigP+YV54vAAQGjeIEF4g7gQ1WMw83NtrG5eiHx1ov/DaAiKUJqtWLuJMGDCwyfFVtQKta1uWaa6mrqPiHFxLyhUeUc4t0wARQSEoAI9RER1rdfVzzJpiMvqcQbuwPNSDCEaImSEFRIQCiYoEHrsQEw68etWQFMpvEoCAeAVgrgtRhcjqJdPl1g/CHYPUSEEAKZQAEA4tgOwDY+Gq81L+n6UURo6OkeGQAIn+IgJJecgSAwmV6aL9QUfmikpKNi5JLy/KuAzWkgAl7AoZjlLVcXi0n8cWw9/C7di3BJI7JoZJVdQxeEEgA/DxqF0IjvqP9dBWOxMyhTX7FMYBJCcaswWXO9NGqNHccYSG0VY4aKt1ES9RN79a6VZUhCF8AD/lQC6HYAAf6V1o/wBP1KajpjGPaXIELB3eQdgJC0GxwQVzi/UFajjohAZw1QTE5vmTVcn3GwwyLFwuylKV+mX5tKUpREpSlESlKURKUpREpSlESlKURKUpREpSlESlKURKUpREpSlESlKURKUpREpSlESlKURKUpREpSlESlKURKUrgaIvg3slEw+AVB0FZRchXtek+Nyz0SROSBh/2Y75AKgkmUogf2R3rX/uNTlvdeRy/Ys127dy6RRVcqcpEqhwKKh9b4SgPiOgEdB8K+Zt2wUe2R0cVMfbC8sSZCb5nVe7YttpNkhpIaETiDPgAQT0UJXw0seyZKHsle2ii1Iiu+bO3aTh4RZ2ceESiiQQBY49P5h0ACABqtftaBb3FAWHAOiFK2nJh/KLopgJSAkkBg4AAB6AIaDx99WAf3Ta8a/SjZOejWzxbXLQWckKobfhoojsay2ijoxQD+ghXyofBKOm2iKOvCYQwqgAMAYSxYsZQtYF9aHxykoKAQmCKsXNYxGZaIOJSnE5naLnVesnSVoRU3JW+a0GTVeGjR/DAVZrLorlMAqKctAglSJoRHag9QEBHrrVd1sW9HTUrYltSzYj1tE24pKLJKBxEMKxg0Bg8BDfuHp0qwBilEQ2UKa0A9A/yroPABFTRUtJGCCQWZpAkgGbGbTYSC5jx0wUENFRwEEAzrEzMJhJEnFpLPaVWlrbEGpY0PKoRiffLiucpGSvAHE2Q55hAqf/AAF4SD0DX81YuQiyyczP2/cPEe45SVHkk/AzuXgI8QctVJcViEKmABr/AC+IeFqSl2GtB/kFcG4CgJj6DXXYh4VwpP0vQxCEGIMAAZWhgCZETkS87Su8H6mpBFEapckkTmJggTBkGAIk7WhV/duoKHu6+13TZEZqKhk+5HM10c4lQ/NX4taAwmUKG97EPjXM1ZsPb9h2db7aOS/EbhfME3y/LDmqF6KGATePCAgUADwDVTrGSEdMs05GNeIO2y2+BZBQDkNodDowdB6gNezhDe/fXeDwGAgvEJ2EC4xEm+8EB8lxi8epIYoWhIZnD2mGFhdIO5bEquwK2eF13RHZFtt7LzsjIcmPZpNDHVMy8EzIm2AEDXiIGAelT8waoR7FBk2TOmk3SKmQhziYxSgGgATCIiP+exr1aDx1/rqud+Ajvr417/D/AA7+hhihJBJvZizk+4uSS5M5bl8/bvEP62owIYWVnFgEgwAkM96hyxiy8nAZFuGFKYZCSkXhGJg6CIpk4U9D/nUf2LHMXr6ACKIspKwQnevysIIyTkpy7EyC7hVcAOJh2UNF/wCXWrHoXJb7gWhUJ2PV78c6bXgckHnmJ/MBND7Qh7wDwrKAUoG6FAN/AK+afAYKc0UQpHqBrL3BcMWBJYl3cL6MPjdJQ+YPLatZOwCEwsXEw26aq/aCME7vyOQhmhJ0F5E71yi7jVG8hFm2JuI65ehwKPuEwhv3bqRMNFttzcl4PG0e3Ql0pVYhiFaCUyLffCUAPwgAcQkMIgA+PUalwClAdlDQ15HcjFx6qCDx+2bqvT8tAiqgFMqf/hKAj7Q/0Ct7B4KNgigiijBEJNzfkAAxJJBHG1gyztnjZ22GKCGAisAPyewuXAhAI4Ayckr3Dr306AFeJhJMJNNRVg8QckSUMioZFQDgVQo6MURDwEPeFe3p4V+ihIiDixfnyDCWKeHhXHiFcCPXY142UpHSR10mD9u4M1VFFcqKoHFJQPEhtD7I/wBBo4BYmaAEgkCxe+lK43WkTYCFcdBCvJHyDKTbFdx7pFy3MIgRRFQDkNodDoQ6dBAQ/wBK9nQQqAghwhBhLG1c0pSqiUpSiJSlKIlKUoiUpSiJSlKIlKUoi+B3Wh5weKM8aSyaAbVegmzIHxFVQpBD/kI1vvh/nXyJSiGh6gPxrybZs/8AV7PHQO1YEPvXfZacbNTwUzPVILYsXVcb+tCQtiagrRjkRGIuVxHprgG9FXb8JDf09oolEfjwDXXML26zkr2ZX3ArSF0SDlROGSUZnVMdASaR5JtCBddBEQEB6fENVPq1yW2mcqa85HkOZz3MpTuSAPeNb5Xj/Pr/AA+NeheTjEXjaNcPW6bt4BxboHUAFFQKGzcJd7HQeOvCvzsX6fo4oojBShibCAQAQzCYmHJBuexfoYfH6Uwww0tGSwmQSCWILuxk0IBF4DuFDMJagzF32za13tCuwt62QXXRV9sgrKHAoFMHgbQE8OodK7sds7/Qtcz7HiVvpsZCWfODEkCqgBEuYBUwTBPoAaKbx/pU26D3gH9aaAAANa/oFfRovBYaKMRiMgzmJEuQznIADNeGl8ajpYDBFCCJSMxJyZZkvkyhBhZymQckXjJnuSbiSsFWzEp4tzyOaJU/bAw6HYAPgH9a6r3jLIsNWEs95b3MZuFFn3f3hV3RVHfgAGSJrnnH4G6dfdvdTpwgADoAD31iJO5rXiHSbGXno1o5W/s0V3JCHP8A5AYQEa89J4LQUNAQIoRHEXMUQd3LkMTJ8iLAulH4xTUlNCapMEIAEMJYyhqu4HGYNrKvVuQwTtsW5CG4EWtyXUu8URRKKRSIJFNxEKUBESh7PhvpsOtZ/JL6zYK4P4aUtFigEVGnWjRVZKroLGOAicpG5BKT/D1OYenjvp1npPgOUpi8IgPUBCvrRDjsSAI/1Csf6ebZ/KgjD+0EmF5CEBrZTDggyOK6xeP1qfzIoDVFaQiacRtdsJFxMKvFpW+ymi44taRQBy1bxz2WcpH6lOChg4AEPeGzD08B8BrHqWnBOLGfSSMagVxOXP3SMMVMP9nR70BQBIP8GwIbfDrf+lWY4dfD/lQAAQ0AVv8A07RG0gyIs/8AKBfcAw3uqf1HS164hIm7P/dFEbryRpmqtT7DvNy3PDXQAmnJN7y2KQwh3bo7fYAmdurziETAC63v4e/qFbMT+H7ev6e/FkiKy0HbiItVVWntuFE0eJRxxAAgBuhS7E2/cAjU/CBdbEA2Hv1Xjj5CMl24Pop61eImES85BQFCCIDoQ2A66DXCD9Ow0JaGMVndyCSzEB52gxO4adysX6gipIapgLVWkQA/ts9sgRCzF7TNQFIWlEQWHrfYosUhlrocsW6zrgAVTFVUBTg4h68IAUoa8Oldj9Sz2l73QzyNbryUkHiiLWIZJNTKnUa8Gg7uPQCj49QMAh10O91YUf6h/pQClHwIG/8AKu8f6egMYioyAAwYgEMARY9syQTjeuY/UMcQiFJCSYjEXETFyYTItICqA2GC8MRHtYuKax7Bqo3QbolIkkocTmTKBehRERHevDxH/OozsL8QkpDJNwxf/i3L87JsI66nQTEpf/cQqXNiIfCsSnclurCgCU3Hm7yuZqjwuCfmLF8Uy9epg94B1r6W1bLBTUkDx1WEQA3gQuNz8183ZtqjooKQCFzGznca08XZVssqHZybqBYtzLmn4x4L9+VvBGI8SOUROJHDlVcpRA/UA0Xx10DrvthiQL+/mhYliM0pIy/e3cc/jVEJCMHjETHFwXoJSjoeETCHh08Rq0QkKADoof5UKmXi4hKGw/pXxKP9Mij8tox7S59pmzCTxEBwA7viAvsx/qWKOKOIwH3Age4SdzdC7OZMxGM1EeLgtlzkO9HCUcg3lkpASkILXhMmgUAKJwPw6DjPsR0Ox8R3UvAFeJ7JxkYKP4g/btTOlCoI81QpBVUHwKXY9RH4B1r6YyTCQFb8PeoOu7qiiryVAPy1A8SG14CHwHrX3tgoYdjohQVgSHsDWl7HM5h18TbaeLbKTzWIDATL2AC1hh/le6lcU2AV714lzXHX4V4mkpGv1nDZm/bLrND8twmkqBjJH8eEwAPsj/Qa9of51kERBwUIMJYhc0rgR1XlZyDORSFdg8QcpFOKYnRUA5QOUdCGw94D0EKVg7IxZ166UpWkSlKURKUpREpSlESlKURcVzSlESlKURKUpREpSlESlKURcUrmlESuNB8K5pREpSlESlKURKUpREpSlESlKURKUpREpSlESlKURKUpREpSlESlKURKUpREpSlESlKURKUpREpSlESlKURKUpREpSlESlKURKUpRF8D02NQ+pPOHsxfV+piCpLUbqx0WmPgRQpBMsbXxE4AG/gGqmAQ2Gt1oll2g8iX13MZNgU8bKSSjtATmKYq5FiF4wEA6hoeINCFfJ8QoaanjggoywaKeETMH3OTvX0vD6WioIKSOO1hLEVg7ZkS3Oo7PFWDbmO46Vuiz5G4nc61M8fyTZoDhVITFAxjmVMIcvXF00PuH+tZOTnpiKtqLYWrfP4Wxj4ojtczlp36T0YOJMiiRCCQhQKIbN7tfANjsCOCbYTN3VSduNSKHwijSZgaAH/DwgADr/X316J/ClrT0o8kjyMuyF+3K3coNHfLSVApeEpjF0OxAADQD06eA9d/Ei8N8Qho4vJghhcAACIghgbwxIdr3tX2vUdhipBFSxxRBzFOEETsFUuAwe5pDhibdvu7J2QsRqs5IgeSYuZCVKRMoFOkUNJ+ICJdmHfQQrzOb5yA8tm6pu3iKOzN5ozFiVNuRVRBumIFUOmQADmjvYgAiP8AyCtle4ct98tEOPxSYbniGZGBTNXXJFdAv+FQSgAjvrvh4d7rrUwvapreYwTd3JNTRi6rhq/brgm5SMobZ9HAutD0Dw8AD/Ou8Wx+KRQxQmI3sRExL1QLpMATv3rj/V+GmIUghFolVcAVoosZ3Q7tFrFsXxfbuyrkkIycQuaSYimVomdgLZ2mYf7QqqIAAbANiUCiO9D19weG3chXUe1rteS11pSZoyOFQqLuNBo7buDFEAIdPXLMTfv2O/fqt1DCtoGhFIlRxKLOVHAOxlDvBF7zwDRVOZrxAB6dNf0r5Jha3PwGUhHUrMOlpcyXe5Bw6BR0cqZwMUvEJdaDWvDwrifD/FQQ0VkBH5EhyC0je5Ey8hJl1/r/AAo13htiB/GFwAYXsuYGwQztdai8nbnibUiWENdkXB/h8QR9IFaxgLuAUOHFw93ITlpp9dibp7x1oBr2oXvkOfTsZlEvmjN/NMXDyQOdADpgmUCgQ/D4/wCLYAAhsdB4VsNwYVtifk3kmpJzLMZBsVs6RaO+WkuBS8JRMXQ7EAAOg9Onh41mYjHsRDSsfLt3LtRWNiwiUSKGLwAkAgPEIAUPbHQbHw/pXaDw/wAQjpYhFEYYSRZEbASZYOwBZncrnF4hsENGDDCDFMzhFphMswCXDuzBmWMxTPXHLsphpccmSSWiJRZiR4CBUeeBNdRKXoHUfd/71qUtfF+S6l1XPAzbKNhLWVWbFZqtQUM+MmHt8R97T/8ATr4hsKk+17WYWkxVYR51VSruVXiqixgE5lFDcRhHQB8fh7q1KXwZa0u9lHAyc01by5hWcM27zgbitvfN4NDs2+vXYf0rttmx7fHstHR0ZciEv7iC7SJNpANoNsnXn2Xa9ih2qkpKSEAFm9oIZxW9tgJFmFzLSrDNItpK1YJk1bKqRNtLywlVQTMcVlzDwgCghxE2IhvhEN++vXj6+L+mLpJGT91EbuVkVzuIl9E92OhoB4TIGD+1AB0I8RgHQD0HxDfFsTWs8dSaz4jhynJskY86JzhwJJJa4eDQAIDsoDvY9QrrtrEcFbz80otLzMu6BEzdBSSeCsLZMwaEqfQOHYV5YPDNvo6SAQn2it+4gNYJBpsBiJmV69lL4psNNDSRRh4ohL2gly5My95L2GQncoyiJ6/oez1bsbXepJP7mmkmTEFWqZQNwqmLxeA6AxCCHCAaL11161srla5GeQIKHuWfaSqjRm8l3JxjkSAgUQ4UyJiICYgAID7XFsffWywuIIKFbxbJKXmHDeIf/iLVNy4KcpD8IlAgez0IGxHQa6j41kZLHUTKTclcC716R3JRhoo3AcoFSRHxEmy9Db947D+lWj8J22ChhFYuKsjESJBybZkx42BYpvFdkjpYjDCGNadQAz9sIskwnK9RBbMnf9o2jb92kn2gx8rJgCkT3QBMsC6phE3M/m4+vFoNBoA8eoVuauQJskZkK4SSId0hlTM4tMUyaSVTTADDvWzbUMHjusxEYWtKHk2T9NzJuko3RmbNy6FRugprqqUmuhhHr8N9dV5XuCbUfqSYqSM0VCUc97O1I80gmrxgYxik1rY61s2+g9NVmh8O8S2ei8ujLBiAK5LFgAXIsdyAJCS67R4j4ZtVKY6QWl3qASrAsz2gBntLkLXHgX1NXra8a4vdRAWsSSWepFZk4QUDRTCPgA8QiYA2Gi62AbrHWvdl3PYyGircXYsZK8X796Z73JMAboJjrfAUoAocdfzG2I+/4hJcxjKKl7jC5vxeVZuDMjR6ibZcCJKJiUwBxFEo7EOLYe7YB0rzPcP2y6gYiERdyTJSDIJWT9q4BN0mA/ze2Aa6+/p/yqx+F7cI4o4CZk/uMwTDYbiwaTM6xB4psJo4YaSEWD9okWit/wCQrGEteAtNcZCvaCg72ipCaRkJS3TNUmkkk1ImKhnAgAAZPqXZTDrWvjWcgpjILHILG37lnmr9GSjFHajVFoVMGZiCUA0fxNsRN1H4dACsyjiK2G8AEAid9wC9SfuVzKgZZ2smfjAVTCA7ARDqAAH9NV3XJa71GRdXdbqaq88uxLFoFUUICDconEeYICAD0EdjoREdaAK7QbDt1GBS0kRNVpCImQrEhrzMBzazrlSbdsNK9HRQQis4cwgTqwgH+0ODFKx2WLwguotBzQG33dOffA2H3cvmAPT+mxNUk6DeqwdnWw0s+3GcAzETFbE0c4+Khx6mMP8AmIiP+tZvX9a+7sNDFQbLR0UdohAPAL4u300FPtMdJR/iSW7zX3SlK9a8iUpSiJSlKIlKUoiUpSiJSlKIlKUoi+NbHw3Wp5RuZxaVjycyzMAOSkBFuOt6VOYCFH/QR3/pW2e/oOq0/KtuSV02S9i4dIFX4HSXbkEwF4jJqFNrY9A2AD414fEfM/pKTynrMWa3hngvX4eKI7XRin/CsHexnm+WKi+/7OdOT2PjaIdmK6Sbu5BVxxjxd5KTiBUR8faUE3X+teNHJCklc5r2FrzD2vbQiq3HZeB6Y/Acg/Dr/wCwVNSdoMVLpSvNdRwD8kf3AERMUUiFE3EJgDW+LfTe9a91Yxnii02Tq4nPIVWTufQPUFDByy+IjwaABDYmEfEevhqvztN4LtYpYqXZyBWJO6rCRA24zK/RUXjWymiFFtAJIGpiiJj1hLDdmtNbXLkq2pO1ndy3I0km90LAkeNIyKkLTiJxAJFAHZuHYb4v/fxrFuL1yke2XN8oXI1IwSmTIMmgskzHeIiuCZUxP04QDrrQcQ6HY+Fb9bWHrft2RJKGkpaSXbpCgy7+65wMkxDQgkGg4enT316ksYQTe2Ye003TzucM7TeJiJy8axyGEwAp7OhARN10Ae6utH4bt8QNaOICbCsSQ9VnNpZiWsmy5xeJeHQxAiARFw5qgAh4iWFxaqHttNq6XuWLUMeZiIiQM6mIlqusq2BBQAAyZREQ4xLw+PToNR0yj7IhsdMrou60XlzyE+Q7t88bMwcKoiICImE5hDlAUNBsBDqH9KnhRuismdBVMpk1CiQxRDYCA+IDUdFwRbJDmbknbhLEnEw/hBJI5Wmh8Q4QDet9fGu237BttMXaGMsQHDCFzaxd3EiXfJeTYtt2ShgMAMUAeEli5LAycANMuBZiVrozMhHWnCQ9lXqeKYosBfKKPG3fpMqJtmSDkJkEoE1037gDp4V67byDd88lYDZZ4VF1NC6cyApol0o3R2AdBAeHj9nqGv6arYJ3Ctrzch34r+WjynZlYrN2TsUk1Uil4SAcNCI6DXTeugbAa+3mHredpQSSclMNjwLfuqKzV3yVFUveVQSlDx114eEeo1xh2LxOCliihsBhYVixAIusEgzATchev+t8NioxDEHiLkkwhwTDFabT7iDM3CxYF1e99uoy+Za3AF+MZIkYRrYqJTikBAKC5gAAAVB2IjoRHw/0rx2dfF9v7buNy1nkLjkI9EhmrdeP7o7SWEvUiiRfZEPHXCYdiAhv3VtCmFrS/ACQaCsigZF6o/bu0nHA4RWP4iU4B8NB1AfAPf1r5SwlaQQzqMduZN45eLEcKSTh2J3gKkAQTOCmuglARAOn+e6ydh8U8yvWP4EfmbSDYGZwTJwZAMQoNt8M8swVf3BvYHYVRObsQCSxEyXe1adZ+RLrMwuJ5OXUR8MZFndKs3kb3N42XABEC8ABwmJ7tiIjsQ6B7+Ws3cjCy4CNh7si4NQI4ZF+LaMBd0AH2YvC1ST4Ck2PU2g8BH3DW4I4Wt1KIlY5zMTT1zMJFQcSDp0CrnlAICBCmEugDYfCuJvC1sTL0HpZCXZCZkVguk0d8oi6RS8JeMNddBrp4dA2A1z/AKDxOGgELvEzflEDMk2u8vaLcWWzt/hkVKYgGBL/AIQtKECxmZybrg+K1hjf2QJ+IsRtGvGraXnhdKOjnbgKZ0UgEOMxfEPEptFENj02ADW2Yum7lfuLgh7lmCSqkM/7qm8K3KjzPYARASl6BoR1WTiMcwsM9hXzdy7UPBMDR7YpzF4RIbWzGACh7Xs+IaD+le62LVj7WSfJs1FlRkXyz9c6wgJhUUHYgGgDoGulfT2PYdroqaGkpYybX9xb8QBKyZBL2uvFt23bHSUUVHQ0YD2e0O5jJttYQsG+lHcteN9TMtc0nb04zioW0uJM6K7YFO/KlIJlAMbe0wDWgEvxDx92Ax+Z/wDiFjQ5SN1VCxz6ccgqgmcwmVMPLEpzAJidRDqUQ3763ydwjbE7JycgaTmWZJcu3bVq85aCinuVEmh2cB69dhv3V7BxHaqjlZd13lymtEpwwoqqABCty61rhABA2wAd78fDVfMHhfiEVL5sZcj+4zmTKRYShDAZr2jxLYIKDyYAzj/gHHtaZf3F4oi5yYi7RbEvnIUrebaKuS4CMnK4rgvCvYoUOApSjozZYN834+0IdN6341iWMzkCFtafvJK8VX72SlCRjApmaZeMU3AJgoADsAASgcAIAaDYj1GpNtjEUFbUsjMHlZmUXapmRZhIvOcRoUQ0IJhoNdOnv6BXVF4bgItk1j0piZWbMpMkqggs4KciZycWkwDh6E2YREA6iPvpReF+IGCAUsRcVp14nFZgCZsSA7XB5ALcXinh4jJghDGq4qQsWJJAk4H45mbkyK194N2J33akJcs2xlTrGdSaxQjkgI0KmmHAVMTAJg0bi/M2Aj08K1CDmL8tqyk8gRs81TjX8wdc8WLUDKOwWXEoiKg9QN8ALroG91NEhYcZI3Me6VXrwjs8aaMKUhygQiZhERMUOHfH18d6/pWBisIWjEvWDkrmVct40CmQYuHYnbFWKH9ty9a4x8R1037q1S+E7YaavRkiZY1i4BMIBNryhsJYkzWdn8W2KGiENLCLIXFQMWMRIuYlwAbQy8n8dTJV7/llHofhtvIlSZI8Bf7cqImUHetj7Wg0IiFa29Nf9yTFkRi17qNlHEcEs8IRmn7J09DxmDoBuLmAUCiGg4d6Ea22Wwdaso7l3C0nMppTCnOWbJvBBAqgiAicCa0I9P8AFvW+mumsrJ40iZG4WNykkpNi6Yte5AVouBE1EuogU4aHYAI714dA3vVdItg8Rpw1LYCCwiI/cSTJsmC4wbfsFBFWogHa+EFjUEIte0uTmozgrxulds3a2+sxayd5zj7kPu5plBFqjriUEClDmqdegn3v31lVr+vC2mF7QcxcCEo/gWaSzSSTakSNzFgEClMQNk2AiXQf891ti2HLXUtaLthN1INxhjnUZP0VwTdJGOIiYQOBddd/D3B8K5Rw9a6Vtu7cFeQOEiuk4eO1FgO5cnTOBg4zmAdhsPDXvH41yg8M8TgDVy4DPWLfizNY9Z4ntsDrrH4h4XEfwk9lUP8Ak4Na1qgarY7lYODmsjx17W5E3LcDV6lOMF1XLNFmVPuopkAQNx+JhER6+AeOg8KyGGVjKmu4iQiZqS5HgpD7uogJtf67/wCdZu4bbVTlFLxgm6ruaRjzR7NuKhCoE4zbE470PQfHr4BoA3Xusi1kLOt1vDJrc9YvEo4XENCusYdnOP8AmI/8tV9LZNkp6PahWJMMNaZJNpDBzuJODsvBtW17PS7MYoQBEQAwAEwSSWGAIAN81sdKUr7y+GlKUoiUpSiJSlKIlKUoijL0UX74+s1kryFt/aaDie/PmayV5C2/tNSX4VF+asjT9oq2jZ9lg0/iO+poIdk4dJCoiySKkos5cmIAhzBTSSPwl4g2cxd9N1DaBjJLQcnOk12hii/PmayV5C2/tNc+ii/N9O01kryFt/aa8zC3sw2XdUQ6Nkg952s4BUk6FwN2TV3H6TEU12qjNuiQxOINHTVAR0OwU6aHHxHacsuXUh5I9uXMytS435YuGux21RLFvnJjcCRSaVFwmVQwCVNVVFNM460YeIu6Jlh3/lQymVmBxRfvzNZK8hbf2mgYovwf95nJXkLb+01pZu2RYyUeM+5sK/U7dJPr2wrN/hqB2ycimsdEEuWmuLg4KKEApDppGJs5QESjsA9c12s7ItaMn3V3WZeMNJ20+jGb+GXZt13wFkFOW1XTBuuomqmYeL+RQVA4DBwb0AwAlmv+WbqFTJwbu/hbV6KL9+ZrJXkLb+018hie/fmZyV5C2/tNY/1k7IjULi/j6FuKyXlsRqcy8YTTZIVlWShuBNZEWqqyau1Py+Ap+YBxAolARCvI77TluQR5lnelhXjbD6Jtt3dSTORRZHVkI9sAc4yAt3KpOYGy/lqmTP7YdPHTMds7/KoBJlu1b7Wc9FF+b/vNZK8hbf2mnoov3ex7TWSvIW39prUG/aSgZSTsWUlYa/bPi7mK+eRwvm0Z3OSZpMDOhWccKqy6SZUw4igXlKcegOAlrZrIz3D3mmzkv4DvKEgZVgeVjJ+SZIfhztoQvFzRUQWVM2AUxA4A6KiIgPQNgIBSCHe63LtioJgEX2Z3L1eii/Nf3msleQtv7TXHoov3x9ZrJXkLb+01i4HtL2fOObecOLYuiIgLvcg0t24ZJoimwlFjgIplIBFjLpcwCjyxXSSBTpwiOw3iYPtcWRNx8LcH8E3qxtqamP4fSn3bFsVklICuZAqRwKuK+jKE4QVKkZLZgATgOwCAElr7OOG+fNDIP33I6LavRRfgf7zWSvIW39pp6Kb78PWayV5C2/tNZ7IuSbcxhCIzVw97XO+eIxsexZo810/eKjpJBEmw4jm6+IgAAAiYQABGoVzh2pJS2cUX0vatnXBBX7bTFuurFyqbAVo9u4OJEn4iDg7dwjsBD8pRUQOJQMTx1A90+/5VEJJGf+Ost6k0MUX57+01kryFt/aa4DFF+/M1krX/ANwtv7TWIvK9L4xl2a5q+ga3FOXLEwbqQAs2WLB4mqBTnAzkGZkmgkS8RBERESE6cw/jjLZ7UMEWyrlmL6te5IGRsW22dwzDd8kzE7xssioYizUW7hRM4HMioAAJiCBtAIB7tFg87LVmFyAQLbOX2FtXoov35msleQtv7TT0T374es1kryFt/aawz/tVYojIuCnX7qTSjZ21TXgm67sBiN2XGiRMioAYT85RRwmmRMgH2cBD4bzlp5qibiuxtY85aFy2hOP2SknGs55FsU0g1IJQUOiZussTiLxl4kjiVUoDsSAHWrVOGPK3RkcW9zb7C+fRRfnzNZK8hbf2mnoovzp/3msleQtv7TXbk/NMHi2Yte3X9uXDOSt4uHDOJaQ7dJQ6iySXMEphUUTKTYf4hECBoRMJADdYgvaUscIRV64iLgbTiE4S2jWwq1SCVNKnT5ibYABUUB4k/wAwFQV5XB15mgGsjLuwdSNVTK3vtlkhxRfnv7TWSvIW39poGKL8AP7zWSvIW39prUp/tJ2yrGSbOSZ3vZ85AT8JFSUYDeOUfomfuCFbCIiddsdursQMdNQTgXj1wnAK9cd2p7LfEu6Wc2ndUdbljSD+Ml7idoNQYkdtT8B0iFK4M4VE4iXg4EhAROUo6N0q2h+7AfkIxs3c7OhWwjie/R/3msleQtv7TQMUX58zWSvIW39pryx/aHtMrl4yvm3rhsR01h17hTRuFFAouY1DXOcJC2WWD2OIvGkcSql4g2mG60J/2iLnnM2YgtCItm6rWhrtUlnDgkzHtCkl2aTEx0TkMRRVRHSnAbgPyldCHETQ1QDEQB3b9FMT3IP3vUkeii/PmayV5C2/tNcBii/d/wB5rJXkLb+01lL+ylG2LIRFvpwM1cdwz4rDGwsOmiLlZNICisqJ11UkU0ycZNmUUKGzFANiIBUbt+2VYb5q2UjLDvp4/d3a4spGLIxapuhlEG/OOQQUcFIQmvZ4zHANgIjont1ke6zuYHUshkH7sJ6AlboOKL83/eayV5C2/tNc+ii/fmbyV5C2/tNYd/2k4Zq4kWrLG97ya1utUXVzkYNmio2/zEwVBJx/tIc1UEx4hSa884B7uobz9oZwsi+roe2xa6jt/wBzgY+4yPyEJ3Vwzec3kikbi4hN+SbYCUNbDqPXQuB3v6Ap30HyvP6J793/AHmsleQtv7TXIYov35msleQtv7TWowva7s26lLYZ2hj6+Z2Su6DVuCOj2jRmCndU3AoH5p1XJEUjAJRH21AAQEAAROIErLJ9puypVGARs+3bluWbuIH5m8CxboIPkO5HBN2C/e1kUkhSUECCAqbER9gDeNViefKR0mp3rMLL+ie/fmayV/0+2/tNfXoov35msleQtv7TW3WhcqF32+0uBKImYkHIG2yl2J2bpAxTCUSqJH/qA6ENlMGhKIlEBHO0OCruo09FF+/M1kryFt/aaeii/fmayV5C2/tNSXSiKNPRRfvzNZK8hbf2mnoov35msleQtv7TUl0oijT0UX78zWSvIW39pp6KL9+ZrJXkLb+01JdKIo09FF+/M1kryFt/aaeii/fmayV5C2/tNSXSiKNPRRfvzNZK8hbf2mnoov35msleQtv7TUl0oijT0UX78zWSvIW39pp6KL9+ZrJXkLb+01JdKIo09FF+/M1kryFt/aaeii/fmayV5C2/tNSXSiKNPRRfvzNZK8hbf2mnoov35msleQtv7TUl0oijT0UX78zWSvIW39pp6KL9+ZrJXkLb+01JdKIo09FF+/M1kryFt/aaeii/fmayV5C2/tNSXSiKNPRRfvzNZK8hbf2mnoov35msleQtv7TUl0oijT0UX78zWSvIW39pp6KL9+ZrJXkLb+01JdKIozHFN+fM1kryFt/aaeii/N/3msleQtv7TUkm8Bqu9jDkjJEhkeVfZ9uq2mlu3bIRDJswj4TurdoimkcomM5YKqG1xjsRU8A93jWQZscCeDj7UwzLcifhb96KL8+ZvJX/AE+2/tNPRRfnzNZK8hbf2mtExZ2mntw2JagSVpy11XrOMXsh+HW4ggkK8e3dmbhIf7WukkkkrohylMrxDx6IBtVlYztH2RdM1ZLyIkLqbknmM8t+G9zaFRBSO4SuknnM2qRVI2ykBFTgEd8YiHCNai9r5Pyt6KhyWvWzeii/PmayV5C2/tNPRRfg9PWayVr/APp9t/aa1W3e1jbNzWnD3i0xzfKDW6DIpWy2XbMe8zqyhVDCm3TI6Hg5ZUjic6/KTAA3xCAgNZo3aRslvCSj2RiJ9jOxEo3g3NrqtUjy34g4KBm7dMiahkVOaUeIqhVRS4QMInACG1CCCRf/AIHUjVQF59790isgOJ78D/eayV5C2/tNc+ii/N/3msleQtv7TWn4qzHd9+doa+rMlomagYu34GJWThJdq2K4bO1TuOapzW5lCqlOQqWhKqoTp00PEFffaByDl/EdmX5f8QxbybBFKORt9JqKJ1GImMJXThyRblb2c5Sl4FFf/L/KKAKCZcDj9sqLTDh8gH5W2+ii/B6es1kryFt/aaBii/PmayV5C2/tNZGylsgSV0zk5cTV/FwDtjGhFxD8WZl2jkCKi7ETNhP0HiRLoyqntpqCUQKIbjSD7SD+MvXLpckW5KQ9r2I9ZtWTsybRTiMogiJEeBFdRZVZdRYDJABNcAkA3LU2Sq3uq5P0HygmHGXNb16KL9+ZrJXkLb+009FF+a/vNZK8hbf2msSv2mbKgWk4rkWBuKx3sFFfjysfNt0DOHEfxgTnId0WWTU/MMUgp8fMKYxOIpeIBHXcq9o27bbxHet0QuIL2g56DhDSTMJlkzUaimYBAq4rIujtx4B6nR5nO115RgqGU1QC4Hd32t49FF+fM1kryFt/aaeie/fmayV5C2/tNbfaMtITttR0tJw76KdukCKKtHpkDLpG14HFudRPr4+ycQ6/6Vmw8apDEgrEMVaEEXqNvRRfnzNZK/6fbf2mnoov35msleQtv7TUl0otKNPRRfnzNZK/6fbf2mnoov35msleQtv7TUl0oijT0UX78zWSvIW39prj0UX58zWSv+n239pqTKURRp6KL8+ZrJX/AE+2/tNPRRfvzNZK8hbf2mpLpRFGnoov35msleQtv7TT0UX78zWSvIW39pqS6URRp6KL9+ZrJXkLb+009FF+/M1kryFt/aakulEUaeii/fmayV5C2/tNPRRfvzNZK8hbf2mpLpRFGnoov35msleQtv7TT0UX78zWSvIW39pqS6URRp6KL9+ZrJXkLb+009FF+/M1kryFt/aakulEUaeii/fmayV5C2/tNPRRfvzNZK8hbf2mpLpRFGnoov35msleQtv7TT0UX78zWSvIW39pqS6URRp6KL9+ZrJXkLb+009FF+/M1kryFt/aakulEUZ+ii/fd2mslf8AT7b+01wOKL8317TWSvIW39pqS/8AKok7Rl5Xdj21oK9bblTNGUZcsUE+TkJqg4il3BUFye0URLrmlU4iiUQ4PHWwqXgYkDUqXE4AnRZD0T354es1kryFt/aaeii/PD1msleQtv7TUb3FmTIbDtTMIJnKphjZo5Z2nKNgaJCYZt20XdpK84Q4wApSNk+EB1tbqG667MzdOS+Slm89dM6EdPXjOwVqMWLJj3EzeLYgCwuVVEu8CAuE3BiimYR4wAB9jpS58idG5kFxktEEFt3MP8FSYOKb9+ZrJXkLb+00DFV+D4dprJXkLb+01G2Gu0nJSOI8dKXLGT183/dcQ5lVGMI0aJLnboLGIo5PzFEG6RA2mUPbATGHRQMO63xftBwQrQsPA2Jekzck1HKSpbbSjU2UizaEPyzquSvVUE0Q5myl4lNqCH5fGHWrFDVPFtLehdZEw/fcwvd6KL9+ZrJXkLb+009FN+b/ALzWSvIW39prGNO07jJwS23ip5NnF3I5ex5ZN43Kg3j5BoBhVYvOMwHbraTV0Al4R5Zva8N+eN7Ttqz8fbzi17Ku+Zk7rRdPoaGbtmyT13HIKAUX489dNJFufZRTFZRM5wMGi7HVTvvqm/vuxZv0UX78zWSv+n239pp6Kb9+ZrJXkLb+01r63assIS262i7duqVlrlkpCFQh2jFIHrWRZp8azVwVVUhEja8DCbl6EDCcCDx1ueMsrQWUmcupGxktESFvyR4mXipRIhHTF0QCm4D8o6iZwEhymAyahyCA+PjVAezuz7CEtb32xWMHFF+AH95nJXkLb+009FF++HrM5K/6fbf2mtjyVP3Ba2P7kuO1oMZiYjIt07YR4FEe9OE0jGTT0XqOzAAaDqPuqCsU5InsjpQE7jrtOQ93TSizdS47TmUGDQjZuYQ7yRBFu3K9bqpe2CfOOqURKJTj/jCAvFVGXN/pUyFY58m+1KXoovwfHtNZK8hbf2mnoovz5mslf9Ptv7TWuwvaDtZrDvlkjXhcsktecla0dFHaMgfOnrcxxURbgkKSQNkyJnMCq5yiBQ2ofeq8CnbFsFqWXTlLKvdg/grijbWfR6segdySQekEyRSlTXMChQ1oTEEQHYCTjKO6CbNe3OxDIkG5+VvQrcfRTfnzNZK8hbf2mgYovz5mslf9Ptv7TWJQ7TVjM291/wAaQ1w2hJWak1XkYqWbIndHTdDwtTId0VWTW5qgCmUpDibj6CAV6G/aLs5l+MpX9B3BYj2DhzXAsynkm4rLRxR0ZdEWiy5FNG0UUwNzAMJAEgcRd3v5Rj33mF7vRPfm/wC81kryFt/aaDii/Pf2mslf9Ptv7TUflz1d8/2iMb2Cha1z2lDTsVMyD1jOMmYDIJppJC2VIokosKehFTaYnTUDYcxMNhWWzBP344zhjPGdsZBlrUjLkYzrqRVi2jBZwqZsmgZEAM8brlIACofei9d/5UY+3N+Tv0KgILzsbmzdVtI4ovwenrNZK8hbf2mnoovzfTtNZK8hbf2mtIjsjz+LszS9g3vk1zdVsMbOXut7JSrRmk8huQsRMSqiyQRTMmoQTnIApAfaZtCYPDYYrtJW27m4mJmrHu23i3GwdSdvupRu0BGWRbpc5TlAk4UUSPytKAmuRI+h8N7AMuKtZ5TOhI+Cqxer3YPtZb0UX5v+8zkryFt/aa59FF+B/vNZK8hbf2mtbs/tV2hd4WY/NZd4wkPkAxUYCZlGbcjVy6FMVAbCCa51UziUp9GMmCZ+AeA5g0I67gLtIq3DZNqx95O39yXdMOZhZ8Zg2blCNjmz9wkR270KZEUQKkRMBABOoIDwlOIHENEEO93fK9BMOMudnRlI3oovwf8AeayV5C2/tNceim/PD1msleQtv7TXRYGeIzIzmIXhcfXqhBXEmqtDXA4j0jR71IgCPGIoqqKtimKAiQXSaPF0APaEArGZoyzelgZCxlbFtWfIy7K65pdm/O17nsyZGayoJEFw4S4TAKYKCOtcCZgAeMQKNqlxmo9uQdZv0UX78zWSv+n239pp6KL9+ZrJX/T7b+01iXHaYsls4WeDA3Ea02kv+BuLwBu3/CEnvO5IpiPO7wJQW0mKwIiiBvFToNelr2g4aVn3sZblhXpOxMXNDb7+fjGCLhk1flECqJikC3ezFIYwAZUiBky72JtAIhm1mv8A4+0sd7l7AxRffgHaayV5C2/tNc+ii/fmayV5C2/tNYXs+5XvLJkjfze67RkYhK3rmcxjI7gWfACKZU9IDyHCpxVLsTHMIcA8wOEw6ECzLvwpcDiAdZoCzjAkaFlGvoov35msleQtv7TT0UX78zWSvIW39pqSg8K5qqqNPRRfvzNZK8hbf2mnoov35msleQtv7TUl0oijT0UX78zWSvIW39pp6KL9+ZrJXkLb+01JdKIo09FF+/M1kryFt/aaeii/fmayV5C2/tNSXSiKNPRRfvzNZK8hbf2mnoov35msleQtv7TUl0oi+ai3NmPLhuw9pXhZXdT3JY02WZZNnR+Ui9SMkoi4bCpoeWJ0lT6PodHAu+m6lEvXp/lXJh4fdUvDXKWPm41kohcSmY8lPkIAcdObCttRu4JNOpx2ydvXQHSEpUWibJwsQgcRtiqqYB0XQJ9dhFrPFWYZnE1i9nKYsT8NbWm/iQkbr/EWp2DplHOE1UzNUiqC556oJJgJFEkykET/AJhtBxWv2Fch49OtWE1TLEHiC46qmYngRraqqx+FMmt8IM7RVtrhlkcqFuQzbvjfpHfj/e+dxcfD/Y+3wb4/drfStT7UVp3xbd53jkhG3UnDCWl8fIQxlXaZSvXbWTMKiQgAidMNqJhxGKAe303oaut4DWMmYGDuNuRjcEKxk2yS6TpNF62IsmVZMwHTUADgIAcpgASj4gIAIUERFVv2xA9PgBQzEX9wI1L9Sq1ZHx7nrJ0tcmTLagX1iyze1U7chY5eValknXMepOHpu8NlVUm/EmjykjApxgJxOPL0FaXeOBchXHdEnM2Tgl9bca6xlP2sn+Kz7JzKOH65E+QVwoDlbZBEogQ3OP1E4qcvfW7fvoAdetSTMLGI1d+pK1DEYSDe4OjN0CrxN4sv9xLYEfM7VbvU7IjpBGbScPEU0kVFIkUCJnHZhMQyv5YimVTQDvQhWosMH3nKSjeAsnH9y4ltyQj5KPupg4uVu/hHKa7RVFMI5ok4V5ZgVORTmcpr7BR2XiMIBbbdcbqxGuS96zB7IYYRcGCq43xzmC7rMxhh+5LBCDQsKUh3kvcX4i1WZPUo3hFIGSaaguONUxE985JICAJ+p+m8ewwflFHsu2rjpS1xLcMbe6Eu6Z99bewzJPGdipzOPlj+SIG0AiPu1vpVtPAN1x8a0IyC+Yi3kEH4ChAq1RYzbgx+yomz7j66bubWdctmNEH8rZFzNrhJGrrgiD9IiaqSqJFB9kinAsIkE3s8RQARAB2EOZow1lvMjTJN9IWG5hH0vaDK1oK33sgzM9cct+DlZZc6Sx2yfwIHON0ARHQjw1bzW6e6ucAqFxi/Gzot1jI7uRcc1ouYLRmL0w1d9kwiaQyk1b72OalUU4SCsqgchAE3uDiMHWoEuXDGUb4uXFU4FlKwkc5jW9v3+wfOmaqyTNg6Rdth2kscipVFUVE/YEwgRfqAddW16Vz01v3VbIq+YOj/AGs/tEFwB5t0YMqT292S8qObNyZDzBY5nIN5BlH2EC64KIqQ8dJKSDYiokMYUwVOryh2ACAJkESjrrK76zMnZhyrat7zNvTGMmVmxUmgkud7HPJBd+8KkmJkCpi4Q5KZUxEDLBswiG0g8an/AIQARHXjX10rQiMsurMTvN+apm5x7bgqs5gRvLHmXsHmayM/kuRNLT5gSkBjGrwyIxvtpoiii1b7ACiYOZrYiICcAENeG5MSZolZOYyOe3JdJtd13MJCds6Im0GUmtCNGIt0kTOyLpoiqKvAqomVcCCQODmG99oX0BBScmwmJCFYu5CIMoePdLtiHWZmULwKCkcQ4kxMUeEeEQ2HQaydQS7zB+FSXswbr9qj7zs+ZXf3LfsxD4gTt6MuW4rIlo5mEqzUWBFg7E7wXIgsIc4ofmDoxgHYAQyghW7Kdne/LnwPlTHL9qlFS1xXzJXFDc59pNdL8QTdNxMq3MJ0iqcvXTShN70AhVqh1ugAAVXk3d3/AFChJJc4g6Aj5KqBPdm+4MsJybVfH1wWh/8AC0nFIyF4Xy/n3YPnaZSgDQoSDhJNt7P5h1CgocOEATLrdbQEPnC9cuYal57D6luw9jfif468WlmK5TOFGB0EztQSWMoZuJh6CYpFPaDiTIAbqy/TdcgO6CMgjvH7UeTb+YAPRQXlJpIQGeLMyNbbRG4pRKDlIZe2EJRo2k3LRRVuqLpom6VSTVBI6QAoAqF6KB12GhhPEFrZCyLebe/S2sii3jc2TMtJAg/QUTbNQie6gYFOIAWEFdJjyuL2wN7gEat9d1gWLkBklHX7ZkFcjNupzUkJeOReJJn1riAqpRAB17wrJxMRFQEa3h4ONaxzBomCbdq0RKkiiQPApCFAAKH9ACswGqXwDDiRF1Vis326EdCoGG18r4xunKBLTx2reDLIcgEvGPW8k0bJxzo7RJudJ8VwqVTlAKRTgdAqxhATBwAIBxarjjDWU+z5PtQgbNUvhq9sCKtkzphINWoM5BmZYRMsRyqmYW5u8bAyXMOAEEOX4Va/qXqHwrkOg7pc24cAGGgKd6kH4VFMLsMnYWyRjO0JLF72ano/FbxCVio6QYg6b/8AawGAyaiq6bdQNnLsOaHQdhsQ4R39vg6ZjLabKX5hNa8ZGYuCZuVytbNwosJW3XL1YFCItVlFW3GTlgUiihXJNiXXLUIPSzRrfgTTpLnNCMRmU2osSSAtid5K2E4HFEFdcYJiYAHh3rYAOqyQb8A6VXkCbZ8ySylhlZLUBn04KOMBwORbcx4hGZOk3jyTK9dKNSvnhXjtswOqItkHLgvRdYifCU6gCbY/4jfzDJOumqUoTWmgDLmlKUVSlKURKUpREpSlESlKURKUpREpSlESlKURKUpREpSlESlKURKUpRF8GDpr4hVf8bdmyyHM5f8AcOVsOWjKSUveT6SjH0rEsny52JyJco4KCBzEDYKaIIgIdegbqwW+nwrgNAHhWRKKtezcwfhQhw2b8m+VAGU7Jvh7leJmf4Hm7xsRrAGZtIOIm0I5FnJ80QFd0iqugRdIUTAQP7UU+AdJ7HdRNiXs8ZetZewyTFgtIpG3wvsjpJnINTt25ZE5DMypABgEUzdQD2QEoF9sCVdj/WgaCgDAjEEau/VUxO2RB0DKpCnZ5v0cOYIF3bkivOYyaAnMwMdcR4x8smqzFFYrZ62XTKCxTcAh+cRM4cZRPoa6h7Pt8C9Vyvb+O142Yi7qipthCzd1upSYlGbNBdE6bt44duG5FRB0qKJSG4CcJAOp19i3mw6dae/xrZiJiMRvL8XB+FBKEQXM3Cf2oGxVBZNkO0HfOTrwx24taFl4CIi4lN2+ZruTi3UcmU5wNlVCkPtbfQ5i8Il9rewDau0pZlyZAwldNo2gyI9mXzYndGx1iogudNZNTg4zeyURAggAiIBsQ2IVKGg8aCAe+sm5rvt1QWirHLkAPhYuAeyEpCtH8lBu4Z0ukB1WDpRE6zc3/AcyJzpiIf8ApOYP6jVYMoYJyVes5leEYW0YG1yzEBdcHLfixGrZZWPTakOxVMkoDtuqbkH4VSJ6DYDzAENVbIRCgdegeFP3Vu7QeoSH2hlVyIxBNSlwyl2uMDP1Gze2nEOnFX/fbuYeSSjg6YrIpqC9etm7bgT6iYgqKHAnRMAER1yZwflSfta+rZsC0Losy1ZqzHsYja10XMhIEVl1DFFE7PluXRGqJSAoUQ5qYCJy6TAC7q43T300FWtOWBGv+XCAsXzB0b6WBst3KvrXjnM1bjyCfGRAq0e7WQVWQMHTRjoHOmO9b9kw+NZ7ehrnevdXG99KEu6zDDVAAuX1SlKLSUpSiJSlKIlKUoiUpSiJSlKIlKUoiUpSiJSlKIlKUoiUpSiJSlKIvnXXp7q07Ltjp5JxhdFiKdBnYlyxIbp7Ch0xBM3X3gbhH/Stx8f9abDVZIrAhWEmAgi5VahsK5Xd9l6Xb3JENCZZk5T+MxbFXSMUJhu4TVaI83jFP+zbIJCbi1oTdfEa7LdwZf8AAB2fSqQpVlrSLNPLrcFdI/kPXzFXmD/MAq8TlY4bIBviPTrVoN+8KBv41qIu4uPJg0u7gpCaoAGfPuW9U/wvhzLmFfRxfbjHzydeR1lObSnoGPkWAPWigvzOkFkjrLJt1CdTFOALAIcRBAB0IVvxYXL0HllDOyuLTSYztsEgJW3ImZaKvY5VB0qs3VKs6M3QVKYqogoAHDgMAcPNDrVgh+A0Dr03Qly+D83fqUuIxZ+DfQVOZrsx5MyBYx8Q3YzRiYi/bqlb0u6RZrt1/wAL41OY0j23M2Y6onBITqgnwABFA2PEG9mtK1M5Wxd9qZbuHG5pmUirXcWRORUU+YpLLlSckUbSLPmrJoctUCiJklFEjkAQ6DoAq0Gqa10oCwAF303RQzd7/t+s1VCz8EZRY5cs7J81At0RkLzuK6Jtqi9SOWGQdRhGrVIw8Qc5QeUTjFIDABzj1EA4x3Sx8Q5DRvHKUgtd9wWQ2uC7UpWNeQ/4Y4O+ahHtkR4yum7kEwBRM/ThIfp8KnzXvpoaCJmAuDcJfQQvEXOL9fsrWZ9nebGyHDGzZdm/uZuy5bF3Po7RcuSl6HclbAlrjEPa5QFAN7Aug4ag3I+O7kzgtCJv8BrWZdsRLsJD+Ml3kWqVoVu5TOsDRZuso7V5iZBIBFUUiiBg49a1Vlx91cgPuEKCUQivBB4hLm381TmJxpe2OLtg72kIxmaca5LuySjLdUmWaDuci5FMwcTPmKgmdcpSpqctQxR4QPsSVr7G28kZgyXfc8ysgWasblaz3ztn+INVDNWrJqQVuYqQ4pHVTIZMVE0zH0I8ACbW6uXdVm2lfMYMHe1rRFwRxjgoZnKsknSBjB1AeWoAl2Hx1XogLct60opGCtaAjoaMbBpFnHtSN0Eg+BU0wAof6BSA1SMmbgQfiaRe4lr3fi79VWXOPZ1yFk3IN/y8QwTSaP4e11YdwpJC1K8eRz9Zwq2E6JuehsolAFQANCcBAeg6xVy9m25crNbiUb2BN2gsa2VYyNc3ner6dkFH51kVwTT1IOm6LTiQIBxEBUU3/KUA9u4X/wCFA/yqQmqGGepvWiXLnLkzdFXNvH5lvntA40ve4cRL2vA2pEzDaRcOpVg4MLxykkUOUCCxjiiIp6KYQAw9eNNPQbzGYMMEyfnLGc1cVhxNyWhBMZ0ksSURbOEElV00Ab7QV2JxEUz6EpR1rrqp0EOvjTpurW/GVj83+1gQs7G1uTfSq0XBmScPP7/szs8Q7GNtW+4h4/iniJmzc1tT/AIATrpRRurxBy9ApyTF1opNVq5cKZDk7+xlcsPg2VgUbaZS7Odfz1yNJCUcLOY5VMigKg5WFRHnGHqKgHEygCKRQDdXNEAp08etTfg3CfwVsRMXGfNn6KrUdhrJbXEHZytda2hLKWHORDy4EO+ID3JJFoumqbi4+FTR1ChpMTCO+m61vAfZ3ybgc9vXtblnAaVuR/Jx9/QqkmjwrtlHa6jGQA4qGTAUSCUBInsRTWP7InDVXIENj1poBHdacmKKO8knUMRuLLI/EQXAAaOQd7nkqvWXjC+4fINsP8f4rn8VsWz9Va6mn8UN3ttvmopqAKbJmmucQUMqKZwU7s1EA4xHqIlGQ842veUpdGMrxtO2F7gLaNwrPZBk2dIILigqwcNuNMXB00x4TrEMIcYDoB0Bh6VLwhvpT/Oo7gDDtlb3xDavzmqWsuzFd8ZaLzDjrHM5OJuZlwolOOcgSKdsnjVXh1+JzGoyCKgrlIbQpJt+WdQAMKnURrb7/wAYX49umRkMX4mnLHvFzKpqJXdCXSgnCPG4KF4l5BnziqLqGSKICmLNUd8AAr04wtIP+dN7Hp76Q+1sv4+kMTu96h7CFsXnZ1zZJirjtdZswmLrdT8ZLEcoHbvEHCaIAQpCqCsmoUUzcQHTAPDhE2+kwl1QQ67GgePSoLAMABpJZAYnMk6r6pSlVaSlKURKUpREpSlESlKURfOutRBnu87lipGwscWnKqxL+/p/8OXlEiFMozYoN1HLgUuMBKCpiJcsoiA64xHxAKl/dR7l/GbvITKCkYOXTirjtOWSm4Z4skKqILFKZM6SxAEBFJVJRRM3CICHFsPCsm0YOH3PNW44sW3tJYpDGElj+4o26rTyTcKUA0IsNxRdwy7yZSeI8sRKsio6VUUbKkMAD+WIJmKJgEm9CGsxfacl1oW3MkTGNRjsdXbIN4+Ml/xfmyCYOVASauXTLkgRJFU5i6ErhQwAoQTEDY8OxDbWbr6k2jbIDy27WtpsisV7GW5IrSS0wc6YpgCq67ZDkJF4hNyyEOJhANn0AgOiMOz7lR3Ylo4MuWWtkbHtB/Hr/jLVdc0pJtGKxFWrY7QyIJNx2mmCioLqbAg6TLxezqBqzGxxo89BYsl6ri1jq0u9y6g7XN5/w8N9GwhzbZC7VrN5ja4ynfquweHaJKpNxblIZI6oJkETLEOUTDopyl4jey6e1fcdjJ3LEXRiMil0W3IwTU0XFTwOUXiEqtykVEnCjdL8wDgcBTOmUuwD8zQ8QGPZyvdviRrYR5WENIoZGLdxlAXV5Pcwmu/cADyuLm8rprWuPpxa9qtG7VWOrwgJu5soxj+JIS5ZuxGMQVQVDnRdtJMeI65OEA4OJZPXCYREAN4dKsNX2iK+IA7jV6kkKn9xwBI4E/Cl43aAuC3pK4LYv3Fj1vc0TChcEfGW28NM/i7QVAREqA8lE4KkVMQqhRT4SgYD8Yl2IazIdrV7bMpcVu3dZlv/AIxEWc+vJm3grrCSIsg1D2m7g4tkhbKjsNCBVCDo2hHXXzZD7PGUsxpXNcV4TFvQM89t1K3YiNjHrl4wK3B2m6c95XOiiocHIpESMQE/YT31UERrC3Z2aMs3jMupNCHxtaMcewJuzmkJDOnB0WqrtNMElub3RIDk2mUBKCReWUoa5m+mGLTtn0LaydbgENYPY40k/wArYgz7cBpTGU7fuL1YhG7W8jJRhYq7XThRJsnGGdD3poRBFNdUShwAkYVAIYeIpthWx407QM9fNtNcjSNiRbKxnsUtLlmY650pBVgkmTmct83FJIUlRJ/gRM44TAIGEviPxKYWvRxK4WlIyUhUVcbMnqL8VwVOU6qsZ3VMUiAAcwoK6EQE6Y8PgO61VXs03Jed6NLgu21LAsz/AGOQYz0hZrpfvFzpOWqjfgcInbpFSIHGCoAdRyYDFKAG6cQ6jvEPDn3aucE4YDFhPWxbJD9pCcUaWbdt24y/A7Mv542ZQskWYBw9RUchtqL1oCJSIEV6AAprLcInLxgXrrBwHayuSTtW3slSuIk4+zJu4QtpR6S4AXeoLmenaJrA27uBTtxVKUBHmlUDY/liAAI9zDBmWpiAx/jG+pa2P4Vx9IR778UjnDg7+aBhruiajZREE2vUqYqCCy3FwdAJvp52XZtvpt2d7bxGaUgjTEPdyM+suDhbuxm5Jkz0SlNyuMVOUOtCUA4+m9da2BBW/wDUP/a4nvtwUnUL/k3OdnLFS1lnKTbF8VFKpwriZmLhlUISFjElQS728V2JQMqYBBJMpSHMc4gOilHQCOgGB+0V2hMlwmL8iWgjbLK079goVtK85lPqLtxjXCwoi6ZuO7EUOqVQOWKaiSIgJuIph0G5ozZjKWyGwtyStiUasbgs2db3BFGekMZquqmU6Z0FuD2gIomqoXiLsSiIDo2tDFWTezjk7L0bf9yXI7tiKum5rba2xERzR6u5YMWyTsHCh1XRm6aih1D/APCiUCgAB7X89coPdE0Vj8mHy/BdYSISCMtXnoOa3PITi+MXdli5JO10u73HD268eFO8uZ5KC1U5Z1Dqleu0jrODJ9TEBRMoCIFJ+WXqGswvaauG1bLupLJNkNUZuzbPjbkaJsJ1R8WeRclUTSAqijZI5FTLJgmIcJ/aUDQm98xZOsp1fuLbnx+1epNHE/CuotNwoQTESOsiZMDCAdRABNuoZmOzrka8bixNdE8/t+KUtdBOOu5gwerroyTNssi5ZgkoZBMTiDhsmYSnKUABRQAEf8V/KMgyBInhbZyWA1SF5kO4xst4OvW+7ZFsxsFA3Ge0XzhnLWcndboiDoDrtFV3CLZqxKThADqKrqnTAxhTKHKMI+/W627l25SZAiMa5QsNtbUrcjBxIwqsfMjJN3JW/AKyCpxQRMk4IVQphKBTpiG9KD4VEludjCab2rk+AmbwaJObjmUF7Tct0hVLER7N6d6yRUIJSb4V1leMoCPs60fw1JsRjnJV2ZVtrJ2VP4bjBsyPetIuOgXq7wHLl0VMizpVVZFHlhwJ6KiBD64hEVB8K28LjidwIJHF5FZLsQLubM/C0jJbMtlPk5va4aCD33m2F7jCR7z/AC8t0mhyeVw9d8zi4uL3a176jCK7V1w3PMWvbVq4oReSl1SVyxrcrif5DduMQ4BIVVlO7mECKBsR4CGMToAFU3sNsvrG+QS5nhsy45/h1+4b2+6tt/GTbxdkTkKLprkcJLJIrCJynT0KYkADAP8AMUa0LD/ZoyVZFz4+uO6563Hilsu7udyhmKiwc88quVVEUSmTDw0PGAiGvcJ/Gs0c2rYRPvu+FoydsQ25p817x7Wk44RhoqNxGo6ut9ej2xnsUE2UqDN83bHX5xXAo/mtxIBTCflkOBRMPAIgBDbETtCzbVtccJK4vffxpbMiyjnUPHPheNBTeAJm70XnKKKbPgKcVFlUiCnyzhwiOuKGL/xzkbGeSrRfwrm33UrdeYpS4IpJw4WBuLdWGUT5K5ypcaZxKkoGyFUAmwH2tarc7y7NGQL7Ulr6uRxa7u45m4oeUeWwu4XPBOI2PIoRKOWXFDmKgJllFhVM31xgQOVotAxhBOT5H2u25yqQBE29s5ln4Muu7e1W2NBX1AXRaTRWZst1AndI2teyx2zhJ87TSTEr9FFFdM6ZuqiIphxF0UREig1skj2oZaJnMkOX+PGjezcXO+6TE0ecN3lcTNSLEBs0BsJVDiZQqYlMsTXEQQE2xANGu7st5hvSTvuXcnsKHC7WVuIMo+PcuRQjvw6QBwomKndy80DEE4goCZNnHQplAOId6kOzXI3Tb2b7VuSXYIM8oSxH0cu3Ay5mgEZt0iGWTOUoGMVVDi4AEQENdQ30Sqk3sdXhA5OcFP3gGxxo0+azbHPUxBXFFQeYLGbWgS4415JxDhtM/iKYlaJAqu3c/kJchwCQ8fCTmpiBD6U2HWML6zZlG6pDCE+1tJzatq3jeTBZo7a3Ac7l2xUbLnKg/bESIVMFSiVQEwVWL7Ht8IgADnbV7LplZpFW5cZ4htCNbRD6MdDZ8K3O8mFHKIoCqZZRkkoyICZjjykjqCIn0ZQSho3QTB+fnaGJbQl5SyjW9i6bZPFX6Dx2D2YbNkFEUhFuKHLQUAhg2XmqAcREeImtDZVgcCNHLvwZZP4EXkHVpNxttUwZMyavY7q3LbgLfCeue7XijOJj1HvdEfykjKrLLrcBxTSIQvUSpqG2YgAUd1EUt2vLthF5+Ek8KgncUFdkLaQMSXDxIunEimJyLJrd2D8oB4dCJNiUdiBBASVs3aRVhbZmse5OcXRCwMxbEo7KwVnzrt4lym4bGSWbOnqaZyMuIOESKqAIcZAKAG3qocsXH2Rs6XRd1+/iFtHaqZLtifbPWTldSOdMo5sTnEZriiAueHiBMFeEhFDkOPsB0CQB4p2OHyDh+RK1F7YQcpb2PyFNDbOOS5WdnrUt3EMVJzdmoonuZMt0mTaoqqgKiTZksZnxOlxRAqmlE0Ew5hSipvevXi/tJQOWL2ZW3bcKuSNkbOa3Wi+XX4VQ5rlRudqZHh6GTMkPEYDiG+gB7x6H2N8qWXkK9bvxSrbD5tkAGqzxCcdrtTRb5FAEAcpclFXvJBTKmIom5Q7J/agA9NSsvs239hKftycxfI2/PA0tAlqSac44WYjzAdKOe/Iigitx7UXV2iYC9OH80Oo0efeBlqzFCPaQ85Nucc2ddts9rG677eWZDWZh9u7k7waTbwgO7i7u2Ykjn3djGWVBsc/CcOuypiIHEpOEQETh7Ve1kVwMDbbGymjS85eakrfcx03OgxjmDxiQqixDvSIqifjIomZICIiKgG6gTQ6iWw8eZkwtlHEFisD2nO3OxtW61pArh4u0Yu0l5RBcQTXKgookYOYmP9iYNlEngPHUvMsJZAhbXkWryCx1fjm7p57cF0xFxprIsVFlikKkRqtyV+EiKaRCfmNzipre0/CqwYG6eoiIHBhgkTeZEBjLcz6upksyYuWagUX12WgpbcrxHTcMBfJOygYoiHGmsn0OmbWyiYCG0PtEIPStgD31GHZ+xbK4lsp1bsq8al73KuZFvGMVlVmUMiqIcDFqoqAHOknroIlJ1MOiFDQVJ4VSzrI++q+qUpWVpKUpREpSlESlKURKUpREpSlESlKURKUpREpSlESlKURKUpRF8iHTx8Kh/s9Tc1NOMmhMSz18DC/pNm0ByudXu6BU0OFJPiEeFMNjoodA2NS+IgG6hiNsHLGNLpu97jNras9D3jLGnDoTsq5j1Yt4oikmry+S2XBwmYUgU4R5QgIiHEO9hgD3ucCOLj+VmIOA1xB4MVHWO88XpbrKDtVG33d5zd533eMUxVkJsyBGZGTtwomVRQyapgRKmXh0UBEpCewQ/QlZ592s52PbJRRsSKOLtTvtOxH0Q2mymQTcqNTOEnKTo6JeYiJOWI8SaZgAT+z7IAb02z2bLitWcxRJJXGxkRtCYuCcuJysCiKjx3KJK8YtkwAwAUFVh9kxg0QPERqNM0Y7yDj++Yq5Id7BKv7zzTGysMmudUUip/hCiBk3OibIIikoGycWgEB6j0rYYMIjgOLwjmHXQsXiGBPKIjSSmQO0JNxgXRb9yYsfBedsDHmNDwj00i3dt3qhiIOk3IopCRApiqc06qROUCZx0IaEdEvftXINbfyPbd4WewUmbOhWc2qhal8LqIuWy65UgID9FBBdqsUwgIk5fUggICIGr1332b8j5M/iG87nd2wS45l3CAW3Cu3C8KrGRyx1e4OXJkCqKlXOqoY5u76D2C8swAIm16/uyzmC/wB9fMmKePbeJdVmtraYxUa5cigwVRflcAJle7F5pTE5mzgkQQHgLwCAcVIfyAPHRweNikunUPoHKkNPtLzKdw5CF9YDJlZmL3BkpydWnTC4OQGJHQCg0K2HmG9sCCUVS/zFEBNsQD2se0NLw763hyzj5C0Iu7mq7qFepTPfjEMkgZwKD5PkJg3VFApjACZ1ibIcvEAgG/K27Or+Whc2WxdUq0JHZTfGUaKsxOoo1SGPRbcShTlKHGCiQn0AiAhrr10Gq2t2UllnsaxubGuHraj4yOdMH0ha0GgeQnhWQOhxmFVmmMeGjioJUlVTCI8PMAu+KF24DVp81IW/didHDah1i76zVlG6pHCFwNbSc2ra143kwWaO2twHO5dsVGy5yIP2xEiFTBUolUBMFVi+x7fCIAA2NuyCuaVkYCSgLk7ilDO1XbyPOQ4JypRbqEIidUhgMkAKHIffCoHsdSG6agkmDs+u22JbRl5WyRt7F02yeKv0HjsHsu2bIKIpCLcUOWgoBTBsnNUA4iI8SetDZ4PAAEfdQgMWxJG6TLAMRjBOABwdy7cCFWrs/Pcy5UtqFue8ZZsxLCXtOKuVWc46WO+bJOHrcGh0QRRTFMinKAvFxAJEQPwkOOg2DJt95Lt/tHY5tmHTi/4VfxUu9kSuJdRuKgIi35ipiFbH2KJFNpk5mlBUNxClwFMOyYEx9eOMYOatS5TQzhj+OyMlFu2TlUyyyLt4s4EF0jpFKkcvNAuiHUAdCOw8K82UcZXZdGS7JvmACGctIZrKREwykHKrcxmb4ESqKonTSU41CAj0TMBSm3/OWkRmDCO2YPxtXQMYonxOjvLgsBE9pqQeRtt39LY8LH47u6TQjIea/FuY+24U5bVdyy5IAiiqfQAILKHDmJiYhdm4fZjnP11ZTfqPrSxmxeWynMO4ZZwW5UySzE6ChkhWdx6iJQSSE6Y9CrqK8IkHlDsQCPLF7IL60i2xaxLFxCixteRRcjeaMA2Wn5JsgoB00joLNBTQWHQFO5Bwof2eIoFMbZdjuLBOQL1vyFuKZtvHEHKQ04hI/wAb2+q6QmXbNJXj7odqKOgBQu0z8btUmjGEE+ug0apiAFj8pTO7msmT7uc5Dks72XL0yZesNeTrJDeO42l3SzFoo1lVHYlKk6UTFDhM3RAiaQFIUhg2KgbMYqY9BnDVRbhPHt5Y3XvGJnhhnETJ3I/nYp2zcqmcmK8XOsdJdEyQFTFMTAACRRTj8dE8BlKp+0bhqyH84msctueXJfdKUoqlKUoiUpSiJSlKIlKUoiUpSiJSlKIlKUoiUpSiJSlKIlKUoi+REBEP86gXtqvrlZYFkCWhdUrbkm9mIZglJxbtRs4bgtIoJGEqiYgIdDiAhvqGwqeumw/pUZdoPG05lbHpbSt12ybvPxiJkeN6c5UuW1fIrqBshDDxCVIwB01vWxDxqGERGHBw+5w6AkAtaxUEXTlq95TslxVrxt0yLLIjzvtsSMm3XODto4iSrGkXXMAQOBhTaH0be9rpj762uy87XrC4ksvu9soS7ptYkXOSk/d1wniGLk522zJpPDoL95c+wJ1NgBSgcBOoAjqvYp2X5pPJuUbzaTzIYq7IV2hb8aoYwFYST5BNN+ufROgKC2bDsBOPVToH+LCWp2bcnWQ+jZJqxsC5HhbJh7YB5NuHHFb67NEU1jsid3Pz0lTjzBIJ2wiJQ2PwEyiN5Y8WicDKzBVgGAsDjmGO9nCz9udquWyPKWlD4uxinKr3daR7sRPKzncEWhU3IIKIrGIgsboYehiFPsddADZg64btXTF1uLEg7RxSZzOXoadbLNX02VsjGPItQia5FVioqCdITCbShCCbQF/LHYgXy9nvs2X7ie4rKlbnmIF2jbNivLVcixWWMdZwpJA4TVKB0ihwcsOux2B+gAIe1XOM+zZfVm31ZV0ScrBKtbbkryeuyN11hOcks5BVuCYGSABEoB+ZsQ0PhxVv21munyJYcZLDkQ5y6BzwKlHDuVTZUiJpWQtxSCmbZm3Nvy7DvQOkk3aHCIiisBS81MSnIIGEhB69ShqoduTId3Y1W7QVsmuCReSafcJW0AcvDHMkeVRBqgiiKgjwEK9SPogdA4+gBW6WT2dRZu73WvSalSp3DeT64o4bcuiUizFbrooJgVcWiqHGcBRHoPGAb6D1GunJPZ6l7wzNjy+4ibbN4G30CN7hau1lVnMgm1VK4jwAxym5gkcAJjGOcB676jWGcwg2EAHKQJ4uGC09UEibEkZsZahRazufIcViFvgN9f8APPL2aZIa2UrOmkFfxFZidYkhzxX2CmxYcReLe+ghuu/E/aFyLZGOpO7bytNzPWkwv6ShHc47uFRSRSTVlVEETItVETAo3SFRJPq4IIaHhKIF6yo/wLLu+1EwzUnLNAttvF8xaNEx+eaZKmo2TcgAF4OHuqxyCIm3sC9PeGsO+zZfK3Z3ncRllIIJiTu5aeSXFwt3YG5pkHoFMblcfM5Qa0BBDj6b11rYLkPf/wDkHoSN6hEmF31EeTgcFr165ov9RVVHF0GDM7TMaNrSYyl2Ozg90CBgKnxt1u7IK8ejJpaBPg2BVOYcA2iV7VN4RkTf91o4dbubdxjNrxU+6C5AK4VTSKkdRVoiLbSolKrsSKKJeAaMYREA8z/s6ZHbsLidwz+215RzlZHIMY3dOl0kFmyZEQ7usqVExklB5ZupU1ADp47HXrc9nq/HuIs32Su/gSS2TpeSko0xHKwt24OW6KZSrG5PEAgZI2+Ehumv8gxDKAi8AHi0Eta1i1Ixg3O3B4p6Mtilc/zz2XuVvjLHSd0xtlN0Fp504mO4K8xREHHd2aXIUBwsCJyGEFDok2cpePe9LW7UFp3GN0v3TA0fDQVssbyjn6i+/wATiHCB1BWAglDlmTUTUSMXZuuuvXVaFN9k183ua452Ix3iS7zXak1UM7u+OBVxBPE26aB1ENtlu9pDyyqAiYyGjAPt+2OsBnHEkTL3Rh/ENrXSyWuFqiSDupowaoNjrWtoq7g6zVuBU2yJ1WqZCaKUu1RIXfWtW+0G1g+BImdwLcMVkFgCRYHPBpbyHG9TBkrI9/h2V5rKMFAoQNzqWmpLlZrvzCMaYzcVBEFeQPMVSAdgUUwKY5eERIA8QYy281ZEeI2/j+Cx/Ezt6p202nZwri5VUGDRsrxEb7dizOoq4W5ZjcvkgUNH2poAE0mZTsxa/sX3TYLB0myVn4Z5FIrnIIkRMsiZMDCAe4OL3VAj7syXU/m4nINxYyxJeE4a2m1uykJcKijhiidqZTkPGjtRiooAiU+lEhQKA9PzPYARyCK5kwJHQy1Zab2Q4h31h+HWyodrJC6X1qW7j20Ga8/crOQdGaXJN/hCDVVk47u4ac4iC4quQW2AJlJoSlE/EAa3xO5EzOtnbE8CS0msHFTsRKu5eIfTwc4iqRkCqCbu6CyagpEU4kgBXhVFQePkiQBEOCrvh8ewuPjWDiC+YdNNwrJREpFlg2iTpVUVAM07s2XTImXYEADIcweAFBV4uleazez5kmwJDFUpGTsNNKWYEyzkm7925RKiykVk1ATaKctU6gNipgmmRXh4ygGzp+FahZw+J6FuFihvbuye9WRpSlREpSlESlKURKUpREpSlESlKURKUpREpSlESlKURKUpRFx764HXvrioT7RMtLu53GeMmUi8jo6+LkO0l3DVc6KyjNu1WdGbFUIIGJzRSKQRKIDwcYe+skzAxICMSDkCdJqbP6DQAHdRIbCGNcczbLI1hR6djpwSDlSVZQDRJs0mG3KERI6RKAEUOUQA5Vf7QBDXFoRCtGj+0FlRpYlo5zuWJtkLHu9/HofgzVBcspGNHyxEmrkzsywpOB2omKiQIJ6A46UNw+1bS24cSZaqXOd+lqsoOt0DdVKT7R3aBPZhMmIxFhuosb7Ws1OI7s7RcrkNInZIue9CuYiYgpy+JPkn2AHEDF2BQ9d8do3NNgPLushaMs+dumBlLXRYOUGjpiydt5dyKPAokZdVRNRMSH9sFDFHYDwdBINAJZryAN5b4IVi9rvdbq3VWqEArn31XyazblLHMvc1nXxF2rPzLK1z3VDPGCowjJdNNYqK6LoXa6pEASMomcVeboxBHRAMGh0p72sb1gnlwxX4vZ928GP5O8oeUiYN8xZprNClEEDiq4UK7TMChTcxFRMQDWyhxANSVtzHk79DoghMUTC1wNWbqFbj3eGqb91VaHKOUkJvDkxfVr2JcUjeDeTkmKMdCLJPYvgiDuO7tl1XCv5px0kKoAQDFEQ4A8a9mLe0rcNxxrq6rsuzH6jeOhHMxO2s0RdR9xW8dJLm8lRFwqp3rQbKZQU2wbDZQMA6CxCoS91vfBQTAIm7NnNlZgd7D30KAh1ERqubDOuWoeAx/k2+Ym2P4WyDIMGIRUcg4I/hQf6Booo5UWFN17RiAoAIo8PF0E+uuu292lM1r46tfMk7HWUa3Ze6y227iWjR0R7y1JI7IrpNwdcSFEDgQRRFI2wAR5gb0FEBJYWu3GUuYUcVa1zPwnPkVa/XXdcCOvdUa5sybLY7YW5G2xFtX1w3lOt7fiivDmK1QVUIdQ663D7RiJppKG4S6EwgBdhvYV67UmUMrs8b5OxBckvb6U0wtprPpTMXGuEEZCLWdd2WRBAzkx2yxVOEOPmrFMQR9kBHpgTLDFuNp5TWxC7DdoSw5yV0DCAdQDwrjfXVQTlW3ZfHfZHuyHsle3rdfRVrvlgUhIQzBmUeUc6otmya+25zbNo3NPwnHjED+AxRZSGZB7RMU0t24LQCZNh+MO7k3sK5O0AgPlhSTK2K7BQTiAgAqCtr2RNw9QIGpGKrh/J+Flv9sUmP3CPlXND468aeHWqqWj2lMx5Vk8cQVlxtoQDu7IOcfyy8mzcv0mriOdlbDySpuERMmofegEdgBwHY8AgbFTvbZLHtLmvZG+cYoRNqyq8ca0Xj4CXDLJNleU4coiLkARERA5kkRQUEwFDagcXStMDfyLdVWMxeJcWdtFcHp406eNVNuztkpJyd7urZv3GMMysZUzZOEud+CMtcaqaJFlQbj3hPuxfa5SZxSW4zgboGql+886w9t4APnpjFuHzFaFbSrFkYwJKLGcgnyEjD14NnVIUw9dbHoNZL1X3c7NUZ4hDj8M/VSmPj4Vx069KrveGZsv4ldxjHI7e0pM10xEq5i1ohm5bFjpFmzM6BquCq6neUzETOHOKKI7L/AGYb2G8dn+6MmX1jqGv/ACI7trdyxTKVZs4aOXbizBZPjMmqoq4V5vQyehAE9e0Gh6DVAJfJub/SjyBxs74qUQCuB8eoeNVLke0hnttad3ZLjoaxXcRat+LWgnEHbO0nT9DvxGqaveueJG5wFUmw5KgG0I+x0CsxdXaVyPi+5rmsG8Ii3LhnkW8GtbykUivHt1lZN2doRu5BVVYfy1C8QqkH2if+WQakIMQhI/czZuHbmtRCqSDc78Cx5qzo9fEKAAe4KrHlPtBZcwg2uGFvJC0puZ/g+Que35GPj3LNoZVmKYLNXDdRyqcdc0hwUIqHEGw4Sa2PTP8AaLvuzpq2bBvvIeKbYnLkij3GpMy7VZrGxrIOUQrUElXxRduTKmUADAskHAmJuD/DUwa/+fo6Kd9PsK0Wq46iNRX2e80oZqtGSlwVilnkBMu4F65h3IOI92qhwiC7ZQBHaSiahDgGxENiGx1sYekO0hnptaV3ZKjoaxXcRat+LWinEHbO03T9DvybVNXvXPEjc4GVT2HJUA2hH2OgVZ1hDiH5gDqFG9piwLcZn4KtqPxoOgquUxnnKNhT1/WhdrGz5mStuBjbhYPGywwjFNB0uogcrs7twoAAiKYqCoU4cwnQEwOIBUfX/wBoXIs1b2SsbM7vtqQcp44e3VG3NDW/IR6JEyaIsgUqro/GoJDgKa6SuiCICKY60MeUp2nSZ0ZbhhrRVcwNWbqFc7puuRHQeFVutjIeY3shbeF7Pk7PCejrLa3FKzclCuztBTVMZJo1SapugOBx5ZhUVFcQ9jZU/a4SatHnzot2n71NBHsiHuAmP4NeVO5RdyjEFyqvOFFACqNVOE47HmG/kANcJt1qICEsTKfJ36LnD7oSb5c2bkVbrfWuBDqFVLYdtMl1tLIj0bmsHHMhcVsBcslI3g55jND88zcjVsl3huKyhlElTb5ocBCh0MI9MzY3akuXMaluWbjYlrtblkTzAysmuCsnFNkI5wmidZsVFVIXJFxWTFMeaQAARERNrQmLsLZ8iX0ZWwAmVnMONQrNj1Hxrnx61XPsdGuP/wCl/wDi1u0QmPSVJC6K14+QJu7NdHT4/a4DF0YAHqAGrBX32iM2J4pvDO2OY2zFbZt6RdxzOMkmjo7x0k2di1WeGXKuQhA4yHMDflbEgb5oCOqEWZgHVvtUQkk5Ejn/AArU/wCtPD/KqyO+0Pk6Kk8u3dKI2uSysTu+SozSj3BpKUAWCa4FKuLkE0DAoqQNikYBKbwAQ2OXkMw5hx48tJfJrS03jK+iOGzMkO1coHh5ArRRykisZVc4PEzAkcgqlKgICG+DQ9MmQc4A6hxqg91mfK3RWE0NcBVdmPaFvN1i7BV6qRkMD7J0vGMJdMqKvKQTcNllVBbhzNlEBSDXEJw1vYDWBtrtEZt9F0dnW7omzQtQ85+FPoti1dEfFaGkBZg+TXMsYmwOJRFuKQ7ABHmgI8AbqkRGDAtx7KzWBAixAPAv9FWoHVPfVb7U7QV8XLkt1ab2bx/bbxtcDiMCzJ9N0xmnUemoJSvm7oVBTcCcgcwiabYSCHTnBoRCyFZEwDiqZRGE3L6pSlVVKUpREpSlESlKURKUpREpSlESlKURfI+NcBrxChvAR37qota8j2YYO4M1z2esZsZdRDIL8oy7zH7qXSRRFJuBEheptFU0h4xHSYqFEBMA6DiARyC8VXInmA3NGk+YHz8K9W9/0oP+lU7tnLdyYMx/Y+P7lmoO0pC8pibcRD+9nwC0goFJYyrci/56Yqq8pVBNNHnF/m6nDh1XuL2ub0nUmVs2AexLluFO+2doOpZksqtDPWrlkq5I8QFJY4piHL9tIVFNCmcnEOwOGmwy5kDkSoBjnoAS+gVttj8KdfjVYb37Ul1YeVuSz8lJ2uvcsc4hk4mVRFWNiXSEmqqkms5KqqqZsVEUFhU/NPsCAICG9B1RHazepvbutVtcmOcjS0HbP8Sx8pbEsjHxihAVBFZB2ZZ0uRqKQmTU4xWHjTMIgUBDQwB5jtg50VYgscuZYK0Y9aB0qn832iMgzZ7ix2xvK0pU8tYMlcsXcUNb8g0QaihwcaIc10JXImTV2RZJUnAPAYyYgIAPFtdoiZsu3cbYql8oY4tqXcWMyuJ7cN0pHbs+7nKVNu1SbnfJnWcDwnFRTnAAAQTcHtcABPl8vpVKl44/H2FcHfxrje/AarHY/ajuTMZ7cszG5LXa3LInmBlZNcFZOKboRzhNEyzYqKqQuSLismKY80gAAiIibWhyXY7/AIjEMv8A8Wt2qEwOSpLvJGgn5Am7u10dPj9oCmDRgAeoAakMJJJNjOM5gfKH5Y5Sf4VigERH4apvVVLke0fnttal3ZLjoaxXURal+LWgnEHbO0nT9DvybRNXvXPEjc4CqTYclQDaEfY6BWUvftR3phmUvS2slt7WlJCIjYeRh3jAisW0EZB0o1Ik7FdZbgKkonxnWAwAKex4Cj0oPcAcbOR6FUiqSMLeBY81aDXWuddelVggu1a9SnZq0C3VjfJUm2tZ1csc8s+URZNAUbiQqrR2Kzpcjf8AtCGBcyoFEnH7ACXr5oftTXujeLC3RG28gEuC1pOeiyWvFPGXA5aJAqDQHCyyyTzmAPCCiXAICACKelC1WvyJ0d+hUYmWbat9hWp2A1wGqrRYPaGvS57XnrlG88ZTC8ZbTmXdQbJB2wl4J+RETlaumqqyh1ib2Uyg92HZB0Ud+zmgz1eBrZwPM/h8Pz8oiiEwXkq8CHHFqux7t+Zsv5iYB7Yn9jfv60IZ3ubm7dFRPnyDlT4O/wDKuRH4hVQ4TtV5Sj8IWtmDIT3HzAb/AJBCHhW5kF2LSMWOqoBnb12q5MBkQSRUU5YETNvhJx9dh7Fe19OM2d4wMA9s/JU7bzKOk2svZxVF447R065Cx1mqS7hUh239odMiphUIICHL2OoQREYbwW44aKkN3m3WStcPx1um/wCmqi7CGQ5XITSVer5Bx3eka3UTK0lbSOqiYDCUROk5aKKr93OXpoeeYTAPUpNdavdqjJ1uyWXJ64SZJt+JkcHMI99BRjqZRbOJKVUXI4epJJHOB1ds0iI9AHYrCXx2FX98MJkDbkMVAHBN45nBXyMYeHYU311uqYdo8bpyVmTCd94QnCFmGlsTd0QfEH5MkQCszd1U+BFklDE37hMFea7M9NJm/WOd7OaKAuxw3c78rF0XSjV83dtgO2WL7jpqkEgh/T+tGIExP3ONwJ5t9qD3WWS5kfYV2f6UDr76gK0+zjjOfxlFy03Hd/vOSikna96qKCM4V4qnxGcJPd81IAMYRKmQ4JlD2QDh6VHfZ8u2dC5scZenhAxcwwA27PuSlAhVZyMFburoQANAK6Ca4f8A9qYBSr7iLxpf9NogIihEYsIfp8F+CuFvYiG6f6VSbI18FaWTlDN68+yiJHI8uhji0H71yVui2jUljNzOeacQIQonF854h0GkydfCt97F92WWxG+cG2becZcUTY8x3iCcx79N4iMS9LzkkyqpmMA8pUVkxDew4S78aQCs+5+kt4cc0j9s82/nc8lZ6lKUVSlKURKUpREpSlESlKURKUpRErgde+lV97dINDdmu4CvkO8NhkYbnI8kVuYT8TbcReWACJ9hsOEAHfhqsvMDEgallQHVgdddUDWxGq8RifZ6tmOuC9cU4IY2/cttwr2UZPneLnkEBRTRMHCDldmhvi3oSEU4hKJ/dvWq27mHIz+Ywdd+UYjHrtC+mT6XQOzgXBXsEmEUo4UBFwq5U9o5eEpjAQmyiYuh/mqlpm4M/F26KAEs178g5VsB14U0AjqqhW322kpNG1rxe3tjR1E3bLt44LQjnwHuKKQcq8pBdY/eTAqcBEgqog3T5YHH2zcHtYTPWQcoZa7O7/IcYhbSNiv7mYNWrAG65pLujeZSSK9F1zeUPMOkA8nk9CKb5oiGhtQkjMgbi4+1HDHc++36V2dfAaAHWqn3L2jM6xsDlG/oaJslxB40u08EEWu1dFeSrcDNwEQcAvy26gA4/m5SgG/4Sa67LKZ4yrYN1XbZt3w9qTkjG2cS74s7Jf8AB2yRBcCgds6WeLnT0mOjiuApgJQH8sB0FS4HEPyforVIfItzA6kKxYjquADY7qpL7tZXtBPLhigl7Pu3gsCTvKHk4mDfsWaa7UpRBA4rOFCu0zAoU3MRUTEA1socQDW52rmfLLe8cXRt/tLUcReVI5wu2Sh2zlFeIcIswdcKiqqxgckMXiDYJpCUddDeNahhJ73/AEVDLnyAJ5EKwf8ArQA941AObXF+I9oLDSEDdcbHxCy8wddq5jVl+YKTMTKGMJHKYG2kJip7L+WcROPMAeCo9je3GycxcdkZS98aKwUnNJx5bNQfgNzN2ajrkEdmN3gQMoGwVO2BsGkxH80RDrmH3kAWmXNhqqfaHuHfwrge+gdeu6rfavaCvm5smOrSeTeP7bdtrgcRhbNn0nTKadR6aglB83dCqKbgTkDmESTbCQQ6c4NCIZLstK364k8pnvG6o6XSRvp+2SK3jlm5yKETRARAyjlXSXBwAVLXs6H2jbAC2EvLJ+YHysx+y2126/SsDSlKLSUpSiJSlKIlKUoiUpSiJSlKIlKUoiUpSiJSlKIlKUoiUpSiJSlKIlaTk7GkZkyIYs3Ei6jJGGkEJeIlGhSCuxepb4FSgcBKYBAxymIIaMQ5grdqw9y3Nb9nwzm4bnmWsXGtAAyzp0qCaZdiAAGx94iIAAeIiIAFQtaUC0Bvii+7jnWErlnJzecYxJVO7xEFDqw7JdU6Ypiq7Azpc7gQKY3CTjKmAjvgEQAQ1eL7McuhCW5jeYyWMjjm0pBvIRkR+EcqQODZQFWrZ095wkVRSOBdAVBMwgmQDHHRuKQrWzTjy8J0lrxcpIs5hZuZy2YzMK+iXDpAmuNVBN6ikK5A4g2ZPiANhut52UR6b61R7WbfpYeFyhNx3aqDmnZnBrjZDHv8aibkXwW8+9/h2t6lO/8AduXzf/8AHzN/+rh/w1o3aewbdL11PX7Z0nJuZO6pizWqbaOihXWjCsJATHd7ATcwABUTjsgAUE+oiA9LWe+uOm/jQEiq1xB0b6CGyJ/3AjUv1UAXZ2W3+S2twyOTchpyVyy8W1iGL+Nhu5tIxBu6K6JwtFFluYJ1k0zK8aujgQClBMK8l39mC+MjXA8ui9cwMV3z2z5ez+RH2wLZmik9KUAXTId2opxlEuzAZQwH0ABy9dbFBsB6+6n+tQ4XT5hjqCVQTCXFsjozdAokk8EKvpDFr9teirJXGbV02IokxIY7w6zDugKF4zCVIS/z6EqgD4D8axLzs9XBetxQUtmK/Yu6G9tIvUWJWFthGOnIOm526nfFwcKgoHKVP7KKaBRP7WugAEwPplmwkY+JcJPzLyZlCInQYLrIkEheIeaqQgpohrwFUxQMPQNj0rJB0CqSTbP+VIfaABJgw3KCIjs3zibSzbRu7JozlmWC8bPoWNLEA3erKNg01B67BYxFyJdBAE0UeISF4xN13w17MItsJQeHP444vwW5Ubh/EvwzXN4JQX/J5XN6b3y+LjH/AIte6p33vpQdb1SsQbZu/GU+QUYNVus4YcytEyxi1vlCLi0iTS8NL29KoTcLJopAr3V4lsAE6RtAqmYpjkMQRDZTDoQHQhHF59luVyNDXqtfORm7m7Lzh20CWSZQgt2MayQcc8E0WhnChxExxETiZcREda4QDVWC1rrWGu267fsa3JG7brlUo6IiUBcvHKvEJUkw8R0ACI/0AAERHoFZBqT4/C2HLNbLkXHNeO/LLa37j+ex+8eKtkJ+LcRarhIoCdIqyQpicAHpsANvVaHjXB0/Z9+N8hXNfbObfI2i2tMybWGMxTORu5UVTW0LhXQ8BwIJfiAm2G+EN/Y35bby0FL+Wcu4yDQQWdrLzEe4jTooJ741FEXJE1UwACiOzFDYdQ2AgNdMZkmypi6iWTGTPOmjw6M+VsCCobYKqCRNbjEvB1MUQ4d8XTqFVmiJv/g/ZWTOAQ/tH2PkBRfirsvmxlP2hOfxv+JfwpGTsdy/w3k95/En4O+PfONwcvXBrQ8XjsvhXpJ2fbthyzVr2Xl93b1l3DKry7ti2jRCVaKOFRVcJMpEi5QbpqKCI9UVFC8ZuE4bDhnD/IaVXMsn5l+qpLkk3l+LM+ihZ9ge8I2UuocaZYVtWHvdz32XbqRQvHjZyZIiSq7B1zyd3UORMBEVE1tH9sAAa3S9sV29feL32KJ53Iqxb+PLHncndGVeBwAHAsKymxOqBilPxG3swdd1u3T306aqXNd9WaI7RVhaoKluzzdN6uGz7J+T0Z1eFiJCKge5QXcSN1HjcW6jx0XvCneFwTEQ9gUU/aPpMBENSZjazBx/ju2rC/Eu/wD8OxDWK73yeVz+SkVPmcGx4N8O9bHW/Ea2gdB/pQdaGq5nm3J26lRrMrOX0oLN2ZuPHN0Y/C9dfxJexrx73+G/2G5FJ53bg5vt/wBly+ZsPHfD01XdkfsyReSr5n7xk7rdshloaKYMitGwAtHvI96o7RdlVMYSnHmKFDlinrRR6jvpNgAICO/dXI9aD21QLrMpAdGVJcF77eJc81X+9OzJcWUGNxO8l5NaSE/J2y7taLdRsALJlGN3AlFZbux3Kp1VjCmTYisUmigAEL1EdtufDsu4uK3L8sW9EIK6rdiTwQuHsWL5i+YnFMx0125FkT7A6QGIJFi8IiO+MB1UqdadamGX8/Z1S3vd9Balj2zpWzYNVjPXnJ3PKPXSz95IPTiUoqqDsU0EeIQboFDQESKIgAB1ERETDHBuzNx45uiwP401/El7GvHvf4d/YbkUnnduDm+3/ZcvmbDx3w9NVOgCA9Ap0HxGqC0VYW/yD1ZLmzfixHyVBOVezAlk28Z+8j3saNcScVDsmaQRwLlaOY58d4ksps4AsmY5gKZLRegD7fXp4ZnsxXTel4zd55Byqg/d3DZL+yHLaMgO5NkEHCgGKsgCjhY5Tl67BQ6nEIhoSAGqsJ/SnhWRINdPmGOrqiIiKtfLkzaMoLY4Bv2DloK+LfylCtr0joALYkXy9rnWj5GPIoJ0B7oDwqiSyYj/ADg4Eo7NsmhAC5+ycMStsZBm8hTuQXVxv5232EGudzHIt1BO2UXMKwijwp+13jQEBMOEEw6mERGpVD4+6n9d1TO3Pnb1WQALMuTN0CrzY/ZcncXRlqOMfZMbNLmt2CPbbp8+gRcsZNkLky5eY0I4TOVRNQ48BwX6cRtgYB0GbP2frhZrW3dcDlWQNfMAaQBSanWYyLd+g9UKo4bKNSrJCmgBk0xSTSVT5XAH83XcqW5csDd0SnPW3KoyMcuoqmk5QHiTOZNQyZ9D79HIYN+HSvNJ31asPdkJY0jJijOXEi7XjGvIUNz02wFFY3GBRIXhBQn8whvfTdVy+c+bkq9/A0uWnYKw5JYfY3WlM3se6H113I6uRw8OwBqKai6aRRSAgHMAgXl9B6dBANdNjW3Kdi3zNWhemDcZEvWKZ3HPqrJwb2xVuAh1nYLLqpzZFBYFYGETq8sdr9eDYD+XV4v61zUEohFgG4Czojni78ceZUQMuzzBqsMqQdzS6snFZTemcO0EkOQo0TMzSbCQp+I3EP5XGB9BoR1rp18UfgC4ZqWttxlTJSd0R9mJKlhGrWH/AA9Q6qiBm/eHinPVBdUEjnABTIiTZzDwD01JbS+bYkLyksfs5TmT8SybyL1pyVA5TdcyhUj8Yl4B2KSnQBEQ11ANhWwdN/CkU7cAOAkNEHtkM+duqrhD9le72LXG9uPswoOrYxdNIScMxLbnKdOEEiKkTRdLg5EihikUAAUIkmHQREhhEBLq2A8D5EunDkLamTrmdMLVSn3kqtbLqBUbSBhRlFVkUVHJ1f8AwpzETV4eQBxAQ0pwDqrcDr/nXPQPGtCIgk3u/GU98lCAQ3DhOXMqFLzwXfGRjJQN75SYylqN5xCaQRG2U0phLkrlWSQI+TWBEpAMUC8QNQUFPYCfYiepsAKB4U4qy7Bu8FTMuuaUpVRKUpREpSlESlKURKUpREpSlESlKURfGgHe/eGqjSw8MRtqtcgRsy9Qno/IFwvJt00XZgVNNJyikkZsYBMYFQ0kPtdN8Xh0qS9gPTwrRrpzRj2z5tS25SUkHksgiRw4j4WFfS7lskbfCoskyRVOiQdDoygFAddKywnmG4OEGVxfjYo5gezDNWtE20hbuU1k5SwX70bRevIrvBGkU5KBTRjxPngZ2kUAACnKoiYOWn/w9dWzRiXK5S2A4ZX1Oz1zPMlMpd9Kt41VRhDoEZrphyWPNODdoHQDgKmzioPEpsQELIWvdtt3tDoXDaU4zloxwJgI5aqgoTiKIlMQdfymAQEBKPUBAQEAGsz0ql3c3EHQg80rWgXgjUEclBEn2Yhuss5cN7X2q7veXeRb5vOxccDNGLNHKCozTbNVFFtEAx1BUA6hxU5p+oBoC/d29nm7sm2/cUdk3Lzh+9l2bVoyTiIw7GKYGbuCuE1u4qOFgWVMqmTjOop1IHAXlgI7nTwpvXjSs1nef8o8377yUDPezneN2ZATyBkLK7SRcfwvJ2qoyi7e7i2Kg7An5qQKOFjkUASbNxnUKbpoCa68W92eL5tELanrayvGI3bb9vktRV8vbJ1I+Qi0hAUAWaA7KfnpiAiCpVwDZ1Py9DwhPX+lN799UBrO7fs6qW292fQ0UJqdn64Wi9t3ZBZWkD3xAGkAUmp1mMi3fovVCqLtlGpVkhTQAyaYpJpKp8rll/m67zeCsOSeH2F1pTF7qXQ+uu5HVxuHZ2ANRTUXTSIKQEA5gEC8roPToIBrpsZQEdVp+R8r4/xJHMJfIlzIwzOTfJxrVVVNRQDrnARAukyiIBophE46KUAETCAUmJC+WpEhhPBLRunoLSo8P2ZwPjm6Mf8A8ba/iS9jXiLv8N/sNyKTzu3Bzfb/ALLl8zYeO+Hpqu7InZmi8kXvcd3St2PGX41CxUa0KzbEBePdR71R2i7IqcTAYeYcn5Yk1og9R4um/X7lOwcYlgz33ciUSS45RKFjVFU1DEWeKAIppiYhRBMBAo+0fRfiNe6cvm1rZnYG3JuUFvI3Q5VZxKPJUP3hZNI6yheIpRAmkyGHZhAOmg69KBwA11m8ADVmVes+czq5O51GFzdn68cmQFwQ2WMvuZL8ZhhhmyEHHHi49sAmIoLlRodwuDhwJ0y+0c3CBOIpSE4jCPQp2f8AI81kG2Mk3TmpuMpa8ZJRTROFthNmiQjpECc4hV13GlinIQwifmJjwgUEydRHb5jtB4mg5N/Gu7ieLhEqihJvWEM+esI5Qv8AMV08QRO3bCX/ABAqoXh8TarPtMmWPIXWwstjcKTiVlIgZ1imkmcyLtgBykFZJcC8pTQnJ0KcR0Yo60IDQPIjuRfkSof7u7B8BR2v2e528bqjrny5fkbPqwsU/iWRoi3vwldVN4jyVjOlRcLc0eWI6KmCSYGETcPgAYOE7MN5tXWNEJzMbaQhcWLKFiGSNt93Vct+6nbJg6V7yYDqkTOAcwiaYDo2ybNsJpfX1azC8IywXcpwT8uzcSDRkCKhhM3QEoKqGMUokTABUIHtCGxHQb61j8cZWsDLca+lse3KlMNYt8pGu1E0lE+W4TABMXShSiIaMUQOAcJgEBKIhUAeztiZ8CSqS3TUWcQo+iuzM3jMJ2bikl5uSS1iPEpOHuBBiUgpPUlFDEUMgYxgMmIKmTOnx+0Uxuob2GbbYwyocJqbkc4OS3PJJNkGasfEcqHYJInE2iRy66wGFXiEFVBV5gl0BDp6CpX2NAERGhJJJN5fipgMP89VF2P8PytuX/PZTu+5ouWuWej20WqMRDDFsyN0DHOURROuuooqJlDbOZUegFAADXXJ4qxY2xvashBPJMs0/m5R9MS78zbkd9culTHOIp8RtABBImAcQ+ymWt/99cUM9G4Je+b8WbooIxv2ZXGPbhsiW/j00kxsJlORca0PG8s4snyySiKRlecP9gVLl74fbDXQmuvzH9k61orP9xZqQmDmjbqgnMVKW2q1Ezc67gyXPclPx6LzCIkA5OX1Ns3F7qngfhugdd7CjuxNwI4F33u5Sx2vIPEWaMoWZ4SyVD2uXGcDm07Wy024sURVgwWnmzPQlBBKQFcEtEJopTnaqKAAdTGN7VZq9MFQU7hxvh+1JBW10YhBqSAkGyfNVil2wgKCxQEQ4xAS+1sQ4gMYBHrUoe6uA8Oof+9LXe/4sVEiCLlFrLBMPHXHjt20kCkgcaRbhnExAtt7dKJERK6MrxeJESqlAODxWOO/dWUlMXd6zJBZgi53uLhjDu4OUZi25gSTVQ5VUQ4+IOWZJUomAdG2Bzh03ut/DpXAG4ugVqsSaxt+7VkAANdIaWL7pXAVzUWkpSlESlKURKUpREpSlESlKURcB/8AjWgZtxeGYsePbD/HPwjvTtg6733XvHD3d0kvrg4i74uVw7304t9darfwCtdvO+bXx7C/xDeEn+Hx/emzLnclRX89wqVFIvCmUR6qKEDetBvY6DrUsIa1w295c0uK7Lyt3+LrSmrWB33X8Yj3DDn8vj5XNTEnHw7Di1xb1sN/Go2adnZFBHDzZzdJXCOKY5aPOQY/QSpFI/uYj/a/k9Pb1+Z8P61vtxZIs61rjgbPmZcxZu5VFE4xgg1WcLrAmG1FBKkUwppF6cSp9EDYbHrW09d6qgSOB+EcuMn5s6hG0cA3labGBsdtmR+FhWy7TcR8a0jzNZVRFM3EizcSCa+lWxR6CUqCZjkACmOIb3rV09k655qzneLYDMCcRYyk8Sebxqlvg4dtz99B2Zr3kHCZTNuZxCUvKBQuw2ocA4RskGvAPdWvXrfdrY6t5e67ykxjotuuggo45CiulFlSpJBwplMbqooQPDpvY6CgiJiBvfm41LqMGa7v7UYP+zSL+xMn2T/GnB6SLkUuHvP4dvuHELceTwc383/w/wDNsv8AP4dOvXl/swNcvXZMXM+vBWOLJWs3t5JBNgVXkrISBHqTkRMfhULzEygKQlDYb9sN1OY9NDWBve97Zxzakhet5yf4fDRaZVXbnkKLcogmAoDwJlMcepg8AGgLM10ho3SSszLE/IPUKE7w7MN85FuF5dF7ZgYrvXtny9nihH2wLZmik9IQAXImd2opxlEuzAZQwH0ABy9dd3WwfzpvE0x/E4F9FyDhEE+5/wD6R5rDum98f5Wv5/A/w/rW6Xpe9tY/tN/fN2yB2UJFpA4euit1V+UlsA4hIkUxxDqAjoOgbEegDWMvHLuO7BkLZjbtuhvHObyfEjYMhk1D98cG1ooCQogUPaL7R9F2YA31CgJDAZDmfkqEkiscDowB5MsdknF0rel22VeUDdKENIWc7dKgRzHC9Qdt3KAorJCQFUhIfh6lPxCAD4lOHStTt3s+XdbEZH2BCZgfMcfxkj39rGs2Bm8sRIFucDH8STXAO68YiHCCAKCn7AqaqUAvm2D3wfHZJMxrgTjAmTtCoKiBGgqikChlOHlhs4CAFE3EOjCAaARri9b8tbHVvL3XeUmMdFt1kEFHHIUV4VF1SpJBwplMbqooQPDpvY6CpDJiMeb/AGqZuD3J+hUbXpgu+MjGSgb3ykxlLVQnEJlBE1sppTCXJXKskgV8msCJSAYoF4wagoKfQT7ET1s2NsXymPLlvSQJdaD+GuuZVnUWBo7luGblUpAVKK4KiVVP8sBKHKIJdjsx+msrDZUsu4JF3FQb5+/Xj5pa3nnd4l2dNs/SSBVRNVQEuFMgEMX80wgmIiBQMIjqtvDi8daqwynlqCx+ApFMse2fS0r7pWIlbogYOQiouXlG7Z3OOhZxyBze25WBMyokIHvEE0zmH4AWsvRVKUrERN0QE69lY6FlW7txBuwZSKaRti2cCmVTlm/9XAoQ2v8A1BRFl6UpREpSlESlKURKUpREpSlESlKURKUpREpSlESlKURKUpRFwP8AnUD9pEu75woMsI/w7/HBe/cX9n3rubjuPH/TvHBrfTj4P6VPHvCsNc1r2/eMI4ty6IdrKRrsAKs1cpgch9CAgOvcICACAh1AQAQrJFhwIOhdBJxiCNQy1rJ72w4gIiduZtFLz7BRwrbBHeu8Heg3UExUA/m2KYH3r/DvdVxZ3DeEFgrG3aNQyPccldlzysGeVauJZZWMfJSDpNJVkmwE3d0eWRT2DpJkUAUtiYdn3Y+1MLY6s6cLc0XEyLyXSbmat38zNvpdw2QHXEkio9WVMiQdBsqYlAdda8kR2f8AEkJcLe5I21TJLsnaj9k0NIOjxzJ0ffE4bsTqC1bqjxGHmJpFN7RuvtDvUDQlziDoZjjLRIphhgRqJaFVYamvpxidvkttmC/W9xLZYWt5Jb8ecKtkY5acOzFv3RQwtzgCagiUyiZjkECABgAoAHqyvLXpZd0X5iy1co3fGxbaasNVi+czrl27jzSD4yLkCOHBlFBSMCYCKSgmT8Q1oRCrVJYUxihbSdnpW1wRCU4FyEb98cdJHvXe+dx8fF/b+3w74PdrXStGz92bYfKsZILQUbHJTU9JwKk4u/dOASdsI92CvJ4S8QFNyzKgHCUNifqPvCwxCGqD/wAg+72/ILpEa1Y4gtvcnoo1yjd0xgq67rsiByddiMRIWQSYRWeqq3C/i5IX6TNIzfvSvGIuOdwlIoqCRFE+IAAAOFalfly5NxxcVyQDR3d9uNJXEk/NmZy16OZl6jINiJ8twRQ51AaKFFQwfkK8AjvQBwkEbSNez/iRrATdtrWqeSaXIim3lFJWRdyDp0kn/ZEF05VOuBU/FMAOAJj1JwjWMHsvYUVdOH762JB+/dxbuEcPpC4JF47XYOS8KqB11lzKHJoNFATDy+vBw7GstJr2iD7wW0JGi3BFCIgSJODoz6soYasrxtmWwAytzJF2rSN6MpNeUXmJ54+QdPAhDKJqKIqqmICYKiCnKKAEAQDQANdUFdV6YSSbhlBDJLO+lYGS5Kzu4/xu2rpkkGijgRTIc5jsj/lHORJNNqGtl9sACrJP8RY7lRtr8StpJ2Wz26zWHIquqYjdJZv3dQhiibSoCiPB+YBvj49ax1rYHxbZ0q1mYeDfHWjE1Eo1OQmnz9vGkUDhOVo3crHSagJR4NIkJ7Hs/wAvSrGaxia+z4ZYo5QQCK0CeZd+KgVCVuqysdYazGwyVcs1cF6TEE0nUX0ss4YSiUiAAqmkzObkNhS4uIgoETEOX7fHsd6nbMvfEdgSyc3jk+9Xdyq36lFK97nXCzJaPUnFGZ2x2hz8lQOWPRQxBVAQDRwAAALR2/gDElrzrKehLVOitGKKLRrZSQdLMY1RQBA52bRRUW7UwgJtiimQfaH4jXpTwdi9CyGOOkrYEtvRskWYas++uPy3hXQuwU5nHzB/PET6Ewh7ta6VoRQu7fuB3Bw4HAHVZY1DDezPiWMzxIWq9pS5rjiW9g2nATrmDRvW8GkDIyTU/LcItTpLKmIip/5aigpFTA4dQ4x1odCFc+1U3fW9EZVw8lc1zylsNLLjrrZpP5945XYPBkBbnSM5UVFdZFQvtcpY6hAEuwANBq6t32ZbN/QS1tXhDN5OOXMRQUVNgJVCGAxFCmKIGTOUwAJTlEDAIAICFaqPZ9xIe2J+0XVtOHrG6gTJNLP5Z67fPypjtMFXiqxnJgJr2Q5nsh0DQdKxAwieLF98gAODOugiZuHIuTxElrvaFtiNQ7Kd9W+m5mDNWNqPjpKHl3Z3RhTbnOXmODKCqqAiHtAc4gcuyn2URCoasrFsXNdomJtwbovBnGtsPxipu5XK/RdqqKPljAJnhVu8cJBERBPmcPgGuEoFq381AQ9wwb22pmPSeRki2UZumqpdprInIJTJm/oICIVqtl4Vx1j6XQnLWhniL9vElg03LuWePVAYkWOsRHbhU+wKdQ+hHqAaKA8IAAX95jx+oh8rLnyRRi0fcJ6AqqeJZu+MxXFiC3b0yTd/dHFt3UMiMXOOoxSSOyk02zZRY7Y6YmUAgAImAdiO97AxgH5Vv7L1wWffOU4yNyElcVv3BItYiSG7IxjbEa3YOjIlbO2jmRSA5TkTHmqrtxU2fZTBog1au1MHYvseRh5S17Y7k6gWz5nHqd+cKclJ44BdyXShxA3GqAG2bYh4F0HSvLJ9n7EczcS9zvrVOZd67TfvGpJF2lHvXSY7I4cMSKg1cKgIAPMVSMbZS9egar2HfqS76SQkPEwk4bczNqq4SN8ZVyG9yrPpw2RkpK0pBaNt91b90RrCGhRQaJKgq7RcSCAOgMcwqHMskqnyhDg99S/lfKt9W32SnWUmZmLS6VLdZOTqtVEnjZo4ccoqqyRyCZNUifNMcDAJiCBAH2g8d0unAeKbzmnc/cFsqqOpMiZJMjeSdtG8oVPQEK9QQVKk8AAAAAFyqdOnh0rcX8FESsMvbslFtXUW7bGaLs1UgMiogYvCKYkHoJRDpr4Vm2BmnLkPm9AWjERsD/EuDKruWlbhwjK2yxs3Id1ySV5QVwt5VOVnHL8wrN4xVylINzKnEWpyqEANI8tLSgaIGgEJS7LcA5Z4atO7ZO6LmnZe5rfjJCRczE26fAZc6AHEUyLKGIhvmaEEwKA8Jd7HrWag+z9iaCF4LO2XKxnkapDcb+WePTtmCoaUathcLHFqiIa/LR4C+yHToFbpbVuw1n29GWnbrMWsVENEWDJvzDqcpBIgEITiOImNooAGxER+I1pw0TXtyd+vbLLfjk75mU1SeSc324xfkPJbHLl9Mrhh8rrw0SoScXM0ZMjy6LYUe6HMKCpOBY+gVIfh0AE4ADVZXKt531h/I12Y2s2/riTi5hnaYg8lpRaSXiFZCUUaOnKCroygp7TKGif2ZD9QKHhVnRwpjAbdlLRG2P8AsqamxuN8h3xx+dIi5K5Fbj5nGH5pCm4QECdNa1sK75zEWN7nmJqeuK1W0k8uGKShJMXRjqJOGSSh1E0hSEeWGjqHNxAUDbHx6BrNH7RCCHZnzYANqCtxERVjeSWycuNBJVh7RsvdeDj3LZtg3/dp4+cxvNzAhIT7t+8jHzMyBU3aDpdUy6XGCxgEgG4NkASAUd798z/FEDkSy8TMjZVuyFlLUWuqVJFXidGSkX4GQR6O3b9udBuXYnFFsqUONUvscO6nZLs64hRh56DcW08kELmYBFSi8nNP3zxZl7mwOnCx100g2IgQihSgI7AN1mrqxNYV7N4pOeh1wWgwEkY9ZSLlg+ZFMAFMVJ22UTXIBgAAMAKaNoOLdUSZ545/k2jjRZM+930VpvZnnr4mLSn42+VFzrwFxvYtgZ7KMn8gVkTgMim+OzWWTBymCgpmAT8YgQpjdTbGEbiyBebTsp51uMb3mkJSJveaZRr/APElSuGiRZJMiSKKvHxJlAB4QKUQAAHQBVtbQs62bCgULZs+HSjo1uJzlSIYxjHUOYTKKHOcROooYwiYxziJjCIiIiNaLdXZdwderiaVuGzF10biXK7lGaUy/bsnTkNacHapLFQ5/sl/OAnM/wDVSVd7mbmJ75YrUBELZRPwnLmNFA1wjdczE9pK8lcnXu0e2G+UcW2izuB03bR6iMUg4/sSGAipDH8UlQOn1HRQEwiPSk/u7JkvluamMkXlHmgbAt+bi28RPuo9u0kF41ZY64JonKBvbTDaZtpjv2iiIAIWiNh/HZo+8Io9vj3S/jHNcKfe1/8AbRO3K3N149p7SIUv5fD4b8etdcXhnG0QE5+G26KX8SxTWEk9vHBueybImRRS9o48HCmocOIujDvYiI9azEHhiEP/ABhAyIDE8SpAarE4l9xIIGgI4qtJLzujGzjEl7SmUrjON72PMy10upNws/Zgu3jEnablJhxgkiKZhN+WgCYGDoOxHiryxEpkKOu3Cq717fbRlkU7yOnFpy71jLyySjBVUqyceisqhHH2QqoC3UTOlxFJ1HerPvMM41kCW0m/tVFylaLBxFQ6Sy6p00Gi6AN1UjkE2lQMkUC/mAYff49awsR2ZsMQkpAzTS2nyr21lgWhF3s7IOzRuiCQEkOcuflo8I65JdJ9C+z0DXSIiKJ2v+SfllIQRAAbWLnNpHgq1YfTesLLwbi2KuS54qEv6cuRecctpx8DhUGIrmSaoricTtSKCAGNyTJiblnHezHEdyyDigrXtD4WspXId8PY8ze63PeHU2qEgRuKLUQaEepcDnlgOvzDqGV1sBUH3TUn2dcPJQattoWu5RYGlBmm5E5h6Q8e9ETmFVkoC3GyHaig6bimHtm6dRr127gjFVqzcZckJawoy8Qd4o3fqv3K7hRR2VMjhVdRRQxnKhypJhxrCcwAUNCFARWEW/i4YaLUVjDubvpzVV0cmZNbSLfDSMletwxI5Qm7eFaPlkkptaLaMU3SLMr9yuiPGJ1R2qKwKimkIAYRrKuL6yvGTy2Inbm6LctybvSDimy0rcrF9cUUwdtl1V2yq7Z05VT5ijYpUVlVObpceE2ygIWTe4IxS+YS8c6tMDJzU2e5HSpXjgi5JQxCkF0gsVQFGynCQoAKJia661sdk8D4oTtOSso9pA6jZh0D98d69cOnjl2HDwuVHiqhnBli8BeFUVOMvCXhENBWQWhD2sHzZn1YoWNmbZOSx4PyUU4dtVpZ3a4ybDMrhl5Vt/C0AqkEpIrP3DQoqu/yRXXMZVQN7OHMMYQA+t6AADKSSUvlLOGRLTmr0ue3Y2xomJNDpQ8stHlFd0ksqd+ryjF7wAGIVMEleNL8o+yjsakexMKY4xrcErdVpQjxGZnEUUJOQeSzx+4eFSEwp81RyqoY5g4zBxCPFrQb0AAGi5iw9d98XgtMR1oWbLM3EaVgVw4uKWgnyRNiKiToWRVCyTYRNxA3V5RA9oB4uLYYi/EC2R1Mx2VYWJiisduTA9CoFwZIXjk6bxjDXbk693rM2MH807KzuV8zPIvUpQUkllVElSnOIFN7x6gAAOw6Vm292Xsz7MkF2pyZFuNxej6RYu12RpZY0UuivIkQNGBHibu5ABM/ACgEBbjLsVB67n7DPZ+s/EkFaiaKXf7hte3P4bCVA6qYKNjqguqUEeMSAAqhxBsBMAaDeqyLfs/4kaXCS5kLTMC6T8ZZJn+IOhjUn4iJhdEYCp3Ui/EIjzQSA+xEd7Guxq1g1xJ/+RPMFuC5w2cB0At3jmq6XDkK9GnZSzrchr2mkJSJviaZRr/8SVK4aJFkk00kUVeLiTKADwgUogAAOgrKJx9w3O77QN1yOYbzjFLMlTDAJtrgXQaxApRTZwKhkANy1UzGN1SWA6fsn0UBMYRmW6+y7hC9XE0rcFmrrpXEuDuUZpTL5uydug1pyZqksVDn+yX84Ccz/wBVavbvZWtpxf2RbtyIwSk0Lsm0XzRs0lnySKzJNqgmDd+2IYiDgoKJHMCaoKk0b+ohXOEAw1XmzPgfbZnI4LcUQDSlWJ3gzbco4kZLLktENszZGZ5BcWrLWxDyzJxYlxCxcWwp3QqjxReOOdNN6Aqjxe0VzogCHK8QG2VrzTC47bi7gh5A79hJMkXbZ0coFMukoQDkUEAANCJTAOtB4+AVp9y4CxXdcs8mZeAeprSaaaMkmwmXzBvJEIUClI7QbLJpOQAgATSxDhwez/L0rfGLNpHNEY9i2TbtmyZUkUUyAUiZChoClAOgAABrVaMQN18gubENOwT5L1hXNKVFtKUpREpSlESlKURKUpREpSlEXyYAHpUEdlbfLygEsJf4i9IUuMoBtc7g4y904v8A0915HB7teFTtv3Vo114Yx7eMypccnFyDKWWRBu4kIWZfRDpyiXfCmsqyWSOsQNjoqgmAN9AqM0RzDc3QzhAzB5EfKqXdb64Ec23BEWPdcxA21OZhgo1wtDOxb85weHVGRSAQ6Ds4I8fwOGw0cNh77/yFkXFNy5FxdZ1yXVJRQXFZ7CPO4lO/ScahKc0HZUHkgr4n5IFTFZXSZ1eghVqPQ1jEsZbsMhaLNqxtOTLNRLdqY6BW74AOHPEExDmHHmqCPHxcQnETbHrSWw3jOee3PIzVpNX694oM0JvvJ1FCOiNeLu/sCbhTMnxCIGIBTb0O9gAgBqgC1m4gCENxY6quC+6WRcl9Cosw3J31C5qf2QvDXbEWo6tskolHXndTKWlUHpFwSMqjy37tyLZQp+oqDyyqJ6Lw8Wh1jPN7XtZWSrvsCGu+SbOcq25HM7R43iohHyouwYuVGoAP5XCk6buB4RDqkY/jsasBY+KbHx65fP7ZjXovpIqZXchJSjuSeqpp75aYuXaqivLLseFPi4Q2Og6jXouPHFlXdctt3dccGm8mLRcLOYV0KhymaKKp8CggBRAD7L7jAIdAHWwAaFiQ9k3xIL9HWQ4rGyxsiG6tPeqXxeb76uW2yulMlXFGPbBthjakuaNIR64f3O8kwaCnyjqppGciRmIEUWNpPvfM/wA87JtMvjky6cQ2pPXda6shjk1zRLN9ebubeoSrZ6lyjCsoocUiK+0kdIipkzBvp162X9AOHvwa6LdGymwML0lDTU2mC64GcPjCUe8FPx8aRwMQpiikJeEQ2XQ9a8sdg2yLFmHGQ7DtTv16kjF45B9N3HILKO0jnIpyXDpYXCgk4ky6MYigpgGiAACIVTF+452YkfER0WhgMm3AjqBPN1omE8sPu0BkxO9oOSftrZty02aDuPIuYqJpx8IKrJrEAeE6jdJJMnUB4RWPWn5yaPs0ZsmLKQxzct327ZNqvIp0EOtHpAjLyqIABjC9doAIpNgAQ4OIQFbrrpua8C4hLiG0H8c7KwGYuCafXDLjHkEG4O3SonEiXEACKaZOBMBEAEQJvQb1W4WzZdtWgrLr27HC2VnpJSVkTnWUUM4dHIUplBE5hEPZIQoFDRQAoAAAFIpkASDGzE/EyxtsWYIjC5Fr8hYd5YON6pddSjXtBYhwNZWVItQJBK+VLTupmZUOak+aMHqCo8ZBEoHEUyqgICIe2GhGviTvK+G+TsWYMvF93rIthzEwkzeG6GmY48M6BjIBvxEdctTx0oQd+NWyHBuLP4jG6v4X4ZMZ0tzCoR65KT8TBuLfvIJApywEUhEohw8I+IgI9a989ijH9z35buTZy2UnFzWoVdOJkQWVTUQIqQSKFECGAqhRAR0BwMAbEQ0I1DN60nLlsWExxGisJq7gCBqZHgVpXZJGIHszWH3UUhAIUn4lxa333r3vm7/8znc3j313vdQXYUa7g8K2pm2EIcjDHl7zLmOOUv8APaDiQVRXIHTfKIgILE92kCe7VWSmOz7iebk30k7t14gEqqK8kyYTD5kwkVB/nM6ZoLEbuRN/iFVM/F4G3W6DbkCe3jWoMS0LDnaCwFgRECoA3EvBygIHQCcPTQe6tRRmKM0gtM2ut7G5QBoRRmzG+wj5fgqo31eEmtBZWzfbSK7+Zu1yljPHxEDBxqARQUDKpcQgT2najlTYiACRuQREA6134NQkMMZ2jbGWxtcVn23e9qtI9n+NuI9QXMvEI8AmL3Jy4KAqNRAR4xKIij0AeurDx+IMcRsbZ8OxtoiLGwTApbzcrlbgZmBEyIH1x/mmBNQ4bU4h2YTePWsndFi2rea8I7uWKF24t2STloxUq6qR27ogGKBwFMwCIaOYolNspgEQEBCkJEJlZZwbq7lSJ4hO35cS3MANVslKUqLSUpSiJSlKIlKUoiUpSiJSlKIlKUoiUpSiJSlKIlKUoiUpSiL5HxqvfbmUkkcBOXEO1Scv07ggDNUVVOWRVYJVtwFMb3AI6DdWFrXbzsa18hQgW9eMX+IR/emz3k85RH89uqVZI3EmYo9FEyDreh1odh0rP7gcCDoQVGkRiGVecErS1pZjvi3M4pNj5YnWv4nHTaSoi0kYYA6NGAH6oEbKcQHS/mN0VHe9hHFkOrtjuz3hfJC2TL5f3Bd17QTSWcPLmfrJrtjPzlFHknVFMCCmUCm0QOYH8291cO9MaWXf7yEk7qhzOHttvPxCKdIulmy7VfhEo8KiJimEpiiJTEERIYOhijWLHBuLjY0a4fPaiZrTZFIVqxM6XE6AkU5hVE1+PnEUKceIFAOBwHwEK0ImAlNxoDPW9UzcCwg6kN/hQpkZxmG7Mz5TsbFl5uWz1pa9suGzJSTUQRTA7tyLsiJgAwNllkS8HOAuw9gfcAhHGbboSYYSyJZwReSIy5o9e3JX+FLwnCypSJjKIlKqzfiqudRNVQgkHmLHAok6Jk67s4j2Y8Jo/jZ1bQWduLiSaIybt9Lvnbtx3Y4mbqC4VWMqCqZh2VYDAoGi+17Ia9B+zniReJk4Z/bj6UTmVGh37mTm375647sqCqBTO11zOOWRQoGBPmcHj06jtR+1nxfO11YiC5bDoAdZqAmmS7ufY1uq7LpvO64XI8jd7O1X1tRvA4/C1BXLyY6PSUXI3TFdAQHv5h2PMMf/AAlIEfZtl7ygI3NWMJE801gf4DipxtFy90uZ9w2cGkCpHU57gxjp8QF6pAocnsgYBDiEAuTdWB8UXrLy09clqA4kJxBm3euE3rhAx+6KCo2ULylC8tZIwjwLE0oUB0BtdKwq3ZawY7CXNIWc7er3BHBFSrp5OSDh0+agsVYCLLqLiooIHITRxMJgKHAA8Ps1YSBECR20ueKAtIYg8wTykF6rknLSynB3DhleMugFZWMeRbhV1acm3YiApCQwkeKtytj+OyiVQQN04d1VuFazHaLsJ1IE/NncV47asmoipsUrqTX5yu9eChTxjYN/BYwfGr5lTKQhUy9AKGgCtXsvGlkY7GbNZ8AnHBccq4nJThVUU7y9X1zFR4zDreg9kNFD3AFZcgxRQyLSOYdup4sswyABu6SJ6AblUguRz3ue6sz23MzTdS+rit2zYFGDbpi+k2yDQHC7RBdVRIjXmKruQO5E/wCWCRtBxgFazlmXvCLZZgxnLry6MJG/wXKx8bK3K4nV2ai8qmVQe9OBMoHFyyjyuYoAaAQEOIQC37bs84fZ2E3xmys0jS3mT8ZVmg1euUVmrwVTK89FwRQF0lAOYdGIcBAB0Gg6Vjx7LeDDmljLWYu4WnE2aUq4cTL9Zd93VcF0DLKnWFRRQqgAPMMInEAAoiJelbETRAtIEcgPkPxSJzAQ7lreP1LFV2tCenonMPcIebfMUJbPc22fIt1zkTdpBBgYE1iAIAoUDlKbQ7DYAPurcrKcXvjC87aTzw9yK2n5WZVjiXGwuHv9szizg5+Q2OwUUN3H2OXwctukPGUQ5o7HjnBDBmLG8yS4UrW1IEuBxdJVReODAEou35Cq/CKnCO0vZ4NcAeIFAeteWD7PmJrclmMvFW27IMWuZ1HMFpd6vGx6w7/NbMVFjNW5w4jaMkkUQ4ja1sakJYQjAAHgAJKxzrZu28kn5C0HtG2tGz+YcFrPXUumY9zPURBlMu2YAUIt2qAgCCpQA3EQAEwdRIJiCPAYSjDTTJGZLhxxJZtYQ9+oXQhcDkW8g6uyLY2o3aISJkO4LM3EimQpRSIKZlTtufzB2BvCrh3xjez8jJxiV2Ri7g0M8B+wXbPnDNdsuBBJxkVbqEULspzFEOLQgIgICA1gl+z7iNzcRrmVtQeeo/CWUZlkXRY1V8A8QOlGAK91UX4va5pkhPxAA72ADUhLEPcfkHneqTlcOT/Y0UKXStfWN7vmL7zS8yKnCfxCR3F3TalxcyLjY0xykRZvYk6nL4eokUWBssI8QG5hB0JNq7NFrRUPkrN0gyczCqgXp3YAdTDx0lwDHslN8tVUxOPZxDj1xgXRN8IAAb877PeJX00vMubZc6dvvxR1HlmHxYxy84uLnqx5VgaKKcYAbiMkIiYAN4gA1n4bG1nW7d81fUJFrNZi4OAZI5HzjkODlKUoKC3E/JBThTIUVAIBxAoAI6qwRVBPBun1zWI/dqD3rJbbSlcVFpc0pSiJSlKIlKUoiUpSiJSlKIlKUoiUpSiJSlKIlKUoi48BCtZvm/bax3B/xBdDtRFFRwkzbIoImXXduVT8CSKKRAE6ihzDoCgHxHwARrZvGoG7S2oi6sQ3zLm4bctu7+ZLKnD8lp3hougg5VEfZKQi6iYcY/y8zdR7BiQNSgmCcAToHW2wubo5xdkXZd32TdFky08RY8OnOkaGSkTJl41E0lWbhdMqgF9rlKGIcQARAB0NSXv31HuQ8iWxBOo22W6yT+7plu5XgGCKHeVRMmiY/eRAAHlpB0AVR0GzFL1EwBVVYpjbUZgLE+XbRUTNlqduGGRdzCZty0s+VdELJMnSn9oqmVPvAHRNsiYJBoC8IasPuLZgakto01D7Q+ROg+VezdPEa/OqWxrY6nZJv29TW6zC4pLIDxitLgkAPQbDcxCckq385E/YAeEDa3sfERqUL7x/HsO0NDYht3E2PpGy0LQWloq15t8aKiV5EXXC7dAkkycJuHCaYIfzkASgoJwHYjUFkOf06uOX23XkrKzmS4G38iWtjV4zfGk7ubP3TFZNMgt0ysypmVBQRMBgEQVLw6Kb371W3+HXdfn3D3HJ23MWBOTtzjKsrfjckiwcW+6cu1WzBAiQpoN3T1ukLg6OjJkW5YpjyyaEQCvXE21GwV99nxdSFsmLVvrvaMogyXGQlJ+MXjlRE0o7ORIHoG/L5nGkICob2BAC9azgNf8AJLdJspcXufkA/WSuRaOSoy/IqGuC0YeUkIWYXeIfiAAikRp3dRRMTKkUUKrwnOmIE5ZDj1ATAUOtbjr4ar87LQjm1qWZg2RxjAxjSfO5v10kWPaplO5epsnqaAqAQPbMHLTIG99CAHgGq3eKjLPt3GuA8j40VSNf91TsKjISzdXjkZ4iof8Aaib1TqdwUhOaYwKbBIUw1waCrVcsMQNSeQaasQIAOROlqu6Ih8a07JeSIPFkI0uK4Gr9w3eSjGIIRkQhjgs7XIgmIgcxQ4AMcBMO963oB8KpQazraiuzTO5bj4pNC9IjJzo8dOlEe+swG4+SdJFXxTSMmocDpE0Q3GcRARERqwPbibwzvDDJrcT0WcUrdtvJvnALijyW4ySAKH4wEBJomx2AhrxqCF6pxiA1b4KhLVhgDyf6VhhEPhWPnZhjbsK/uCUUMkyjWyrtwcCiYSJJlExh0HUegD0CqR5/5mIpm/4Hs8Io2/DmsRk+uFtDnFuzj1FJJFIHQcoBBusozF2JlCEE4kTBTqIANd9x2ShEyz+3m9nYwtmAmceTTyTtu3pZ3MpTKaSSajSRVTNHINyKpqgGnCp+YpxdBMJemIyfLrQ58n+luECs0WWhb7V0LXuKPu22oq6onmdxmWaL9tzS8J+UqmBybD3DowdKyvgABX59Kx0Tii3rMZY6i2cQTO2No+1eKIZlTKM4IoFI6OCeg5gt37hQTj1Hk7rCJTN9fwBdsTbTt+SV7ONmylspvABQpyu13pke8ENw/wAyca0BQDEAdc7p4arrHCAS1k+Vr8tVzo3iAJvbmzS10X6P9Qr61VFpVheOOZCHl8RwePLPkZKy556Rja8+9l17lIRlzG7xYv4aikKpHHKEHKymz805AEwjwjzjqKk4j0LXbbrHH1uOrlOUHsxGXJISkreDc7NQzorxII0nMOBvzRVXWEqJya4g31yQ3eJI+JqicIOLnQA/MlefYVrd4Xxb9jJRK0+ouT8almsIzKkmKgncuD8KYD8A6CIiPuD46CqP4+s63LW7PfZ4ybARpGd2vLziGLibTEe+rM3DxVJVqdUfbMgKfTkiPAHuAKn/ALXtqWfcjPGQ3bbcPKJBkCHabkWaS4AiuoIKpfmAPsKcJAMXwNoN71UiFWJv7hCdR9oTI7iRzborC+/pQK/O3IEbMRZbs7PVilWjyYruCQylGos0BIgMamkk8ZtiiHQCC5dLFACh/wCR01qthgZBllO8LOyLdRlP4BzJfUody3dcZGz9syYi3iGq5TAHGkqdFZXlG9g5zAAlGtQwiIPuOrNxd5ZKkGG3PkH0Zp5q+Aj1/lrndV+wG3ZW/mrLtjWOQiNjwqkR3Ni1/wDBRskoioLxs3KHsJBoEDikXQEE/gG6i/J7h/b2RLx7LTAiiaGZpiOloo6ew5TNyIhOAHw0Roqp/m6qMTEBiA28/wATfJGkSbrd2O/JXR2A6rzPF1WzRdyi0WdqIpnUK3REgHWEA2BCicSl2PgHEIB16iHjX5/5ubRMtjbNWSmMZbzI1rTq8VET1wu+8zjF414CA2jQTIl+HpbKTklBQxx4zKHAd6HbomybSu67u0dfVzQDCWm4yHjFY567QIqdmoeAKY6iIiH5ZjDrYk1sAAPdWSWo4o8A/At9qiH3CE2ktxFqufGPHL6PavXMY5jlnKRFFGbkyQrNzCGxTUFIx0xMHgPAcxdh0EQ61rimSoFLKqGIVGr8ZhzBK3CRcCE7sDZNciIkE3FxcziUKOuHWt9fdVObKjIPI1vRcJLQdtSjO0cTW8q8WvdcHEZGCu0OdNwyYgQB5mgHmuTLEH2SEJrqNY7s+RFk5au/DaeYDM7lMtih0LdrMiC6T46ckJQ5iamwVFNMuwA29cPH4l2HQwNSVTcSOURHOFc6wEL5A6mH4KuvO5LgoDIdrY0es3xpO7m0g5ZLJpkFBMrMqZlQUETAYBEFS8Oim9+9VuH+tUAtGXuVK9LFXtVw5kEYj0mNrMWcHMsLhigCQMwKY4iKiYGASEEfEhQ91d+NGU6hb2EsixTbH9vzlxyzL8Qultcj99N3OCiRu/NnaBY0OYfXMMIKrCm2OkHtgBd1kQuIWvbmSBo01omqTk/JutyvuA/Cg6qmdg29D4duOxrgm4K0r8RuS4VI2KyTbcyoSZfuHJlRD8RTL0epAGyDpdUheUA8oNBw3MqGQfhxS9u2f+F9VzSlVVKUpREpSlESlKURK41XNKIlKUoiUpSiJSlKIlKUoiUpSiJSlKIlKUoi+R69KiJrn55LydxMbSwjkC4m9sSriHevmCkMmkZyiBROCZHEgkqYNHDX5fXfSpdHp1/pVYMMRGXpOZyyFkX7asHHHyFKEMnIWq4kHRVOWhs5ViP0Uw6a0ApDoQ673qsBzG2AJ4uB9qEgAZkDkT8KfLDvm3ckWnH3rarpReNkSHFIVEjJKEMQ4kOmchupDlOUxTAPgIDWxh/WqUzWMHFr5mtfBSVr21fVrxlmuZWPjL2mVGbWSlFX5zPnhiJsnCbhcoHIIFFMOWVUwl99Yu0Be3kewMVTasHe6J5O53TFlISzle2ixjZwmmCK3eWRVZVVsKgpoCBSJaIJ+IeENblFOG923Az6OrF7JHLmHH0VenYU9/8AmNfnDYsVCXm+tKwJ48PO2zGZym41swaJD+FlaEiVFO7IpHOf/ZuYJgBMREggIhrQ6qTslY3tfH0pfWQ29rWFkC0rcK1OuwJLjGztkINW6f8AsscskBgQDhDmgkU7YwibxNx7CsGERsIB4EA/PJKprVBb/JHwrnj091chrY1Slm2x/kO2M75DywUpbit6QcminkkoKb+3YwGSSsco0MI8bUT74+JMQFRTiARPqsbi2x47LtxZKk822yjMziWPrScrpSKW+7PlI1cVXBUx6Jr7L0UAAOTqACGxrJBEJiwAJ3ES/lIWMnvI0IHy6vR114Vz7vCoXwDPXPKdlCzbhB44kZ9azm65FnBhVVcOQb+yYwj1OImAOoj1qErNhcfRPZZhs02+dmjmGRtV+uymAkDJy0vOC1UFdFXRwM9UIchtIKgoCfLDRQ4elpP9uKMH9vO2zRSi/wByq1/8K6g9R91c1TA0PY9oRWArrw6LclyXdJNUZV8yV5jufjTMlTPlXpwETOeA2jiorsUz+Ak3Ub25irHnqm4SkgtSPCRuy9oJtNPwRAHL5ueQUAUlVdcZ0wJ7IEEdAHQKtUmIjAga37lKwYEXgngPmS/RbQb3WoI5KgV8qusREavwmWkElcB1xITuwt1FzolIBuLi5nEmIiHDrWuvuqqcnY7R1mTJ1kHxdjd5b1nRbBS3o+bnlYVCAj1UTLLPmCKLBwRMwuRVE65BTOUUyh0AArU4+8paCSm7vvS6pSYeI4FY94mYFdVm7dFPIuE010VnaBVEzCUSCKyiOw6n0PSshy2H8RN0WzC0JxlzMI6FX+fPG8azcSDo/Ai2TMsqbQjohQ2I6D+gVrtoZAaX3FW9cVtwcmvB3JFhKtpMwoERSIYCmTTVIKvNBQ5TbDhTMAcJuISjoBpy9s6KtXN9pWc6tvH0WjdVhTv4/BwCIuCSAJoEURVfHUAoPDcexIodIDiIKDseLQacn3yysc41lsTMG8dNlwTOSAHiWxU1RenJHiqvpMPaW1s3GPtCIANbEMnPbCJ//rasj3SF7c6v2v0j8Kbqml1QGP7De4hkMHEZt313NHoTCsafiPOw/wCGLKqu3ohsXBirckwLK7MB1BDi9sQHV8fWbbdlYw7K+QbXik465ZqYi42SlkuLvT5m4ZOBUbLK/wAyiX5ZOFMwiUnCHCAaqCG3IgcS/KSjyBGBPAfKvrSuA8ArmotBKUpREpSlESlKURKUpREpSlESlKURKUpREpSlESlKURfIa61r19XxbmObZdXfdbs7eOZimU4ppHVUOoooCaSREyAInOdQ5CgAeIiFbCGuvwqNs/NMXyeNHsLmCSWjrck3TRoZ8iZUhmjky5O7LAsmUeQJVgTEFTaIUdcQ6rJe5UM818RGbmi11RFnXjj+67Kf3GKhYUZtNkolIKJpiodIh2blcE1AIAm4FeWYQAdAOh1JYiACPWqzuXWZcMXtZNuq5ZUyTat5vVYsGkvHtiy7BMGqqwOyum/LK4SLyw4xOnv2/wCbqABC2L7fsW3+zdhrIWPBbnyI9uWLjU5FqqJn7vjfcLxgqcB4zN02wKiKI/llBMD6DxrcIEVmIHE5ZXqGQfInLVfoF0oGtDX54tE7zmcXzGUpCNsKJv1veLhse931xPxnWL9OTFNKPBm3jFVBSEnCiDRNUSKJm49dR1m86oRt4W/n2/F4u3xVtFc7BrOXS573JRj5BqkcE4lEhEu4piIlFM/NFRRQROcBAAJWDIOcHO6X2tCF4qubcXP0r58Qbp0qiMLaVsZEuPMd43vCMp+XjcaWy+YunyJFjt3KkUuoddITB7KgmTL7YaH3eAjXfY2GscHP2YThbDcoXZbLkLkAu9TyYRSSxUn/AP8AtSYKAAgmrsAAAAA0Gq6GAiIg3Nzf6XMEGGGIXh+Q+1ecdeFAEPCqD2oVrJTTPB7WERlI4mULrbRUDKPwQt5OOappmFBwhyVDuQT5wnRahwk49iI6TCtYh2UfLP0LAO9inVvR3aAasmzKDFRCObomjFBVbNyFOIppcfMASAIEEeZ0ADCSsQis2YBHEgcn5LRhqgnB34Anm3Nfo8A9aa11qvGBoaLsntA5lsG0GCERbTFK3pBnDs0wRZNF3DdfnGRRLoiXMFMgiBQABEN1ryVrY5yTnHNJc9smDtK1SRIwqkq55BYeKFoVU7torxgLYRcAqJ3CYkNtMA4umgpDHg/T7UZpHLnMK1HjsOm65DVU9joTGGQZ/N0vllyykz2oZv8Aw8+fvOcaHg/w5JVu+YrHMIpCopzT95THjOYgbMOgrSsO2o1ynd8jdGaLeQnLiYYitt8U0u1KodF0bvhgccJw9hbRSDxaAwcRviNSL2gnAA8CCRxkxFyv38gfKvvv3hWn5KyTB4shGtxXC1fuGzyVYxCZGRCmOCztwRFMRA5ihwAY4CYd71vQD4VSeHs6LtPs2YDPa9pQBG9+vYtreCr50aOTmid2XUbNXzxNFVTknX4SaFM4CHAmPsjXqvmLlrZUum1UmtowEK0vCxli2nbMg7fMoZ6pJE5olUUZNUUecQEziglsQEOMQDmbHoIf9yo/7gOYfqsv7K2T/XMK/wAFaavkyMUmrntiBh5SbmrUQZqvWDQEU1FBcgYyREzuFE0xNwEEw7OAAHv30qlud+43Fj/OGVkmEC3c27cDiPjbhuR33qeZvWwkLyI4EypdwS4yl5JAUOc3GZQ4DvQ9WX7bsxKE7SNwoW9Bozatu2s574kyRI5E7kgKODgcA4/zTE4ziH8wl2O9VmEVp5A6sV0EPuEObaEA9V+g4GEQ3rX9PhXPQapeaHsa7YfP935hO3G6LRlniMa/eKcDy349NmkZgoyOIgZrxj7YHS4RUPvYmrD4tseOy5cWSpLNtsozM2jj60nK6Uilvuz5SNXFVwVMeia+y9FAADk6gAhsaz+0xYAHgQ4/lSGFy2ZHEEDSbq9QCGvGn9aijstS8pPdnXHMxNP3D9+7ttio4cuDmUUVPyi7MYw9TD/Ueo1K3x/yrUcPlxGHAssQGvCIsV9UpSotJSlKIlKUoiUpSiJSlKIlKUoiUpSiJSlKIuNdNV53bRq+bqNHjdNwisUSKJKFAxTlHxAQHoIV6NjWmZMyZGY1h2b5eMeS0jMP0omHimQE7xIPFN8KRROIEIAAU5zHMIFKQhjD4Vk4YoF6rQxjjbHxnB7Cx9bdtGd67wMPEoMxW14cfKKXi/1r7Z42x3HXS4viOsK3WtyOwEriYQi0CPVgHWwOuBeYbwDxH3BWkGzBeNnzUFHZix7H2+wuV8nFx8pDz5pVui9U3ym7vmNm50TKCHCQxCqkE/QTF2G9sNlzFJZpvbpsn2mEs9cqMm0eM027ws4TPwKJES4+Ixym6GKAbAeg1cxu/jmEMrd/ei95rBsY8KtbB7MgjQ7h0L1WPGNRFso4FXnCqZLh4BUFX8ziEN8ftePWubtsOyr9Ykir6s+EuNgkcFSNZaPReJFUDwMBFSiAD/WtSsjN0Jdl93dYUgVjESNuzpoVgktJEFaWErNF0ookkIFH2SrdSl49AGxEN1vjWah30i9hmUwzcP4zlg9apLkOs25heJPmkAdk4g6hsA2HhRpA3EA8gyjzzsXkJZ9ppuIxyFqxALwyCjWMVBilxskVAAqiSI62mQwFABAugEChvwrDw+GsR28um6t/FdoRayTsJBNVnBtUDFdAAgCwCQgCCgAYwcfjow9etazYnaZxHft63BYMbe1voy8NLjENWp5pqLiUUKgRU526QH4zlATnT6b9pI/hqt7cXxZjRvMu3V3wqTe3TcEuqpIJFJGm4Cn04ETaSHgMU2j66CA++jktELw/Dsqs3t4fC8sdjPG8RKBOw+P7bYyZXa0gDxtEoJrg6VJwKrcwpANzDk9kx98Qh0Ea7YrG2PIG4nd3wdhW7Hz0hsHco0i0EXbjfjzFilA5/wDUa+HeS8dMrobWQ9v+3G9xPCAdtEKyiBXqxRARASICbmGAQAfAPdWVnJ+DttgaVuKYYxbEiiaZnT1yRBEp1DgQgCc4gACY5ilAPeJgD30sY8EtkvCawbGPCLWwpZkEaHcOheqx4xqItlHAq84VTJcPAKgq/mcQhvj9rx617J224C6GARVzwMdLsgVTXBs/akcJcxMwHTPwHAQ4imADAPiAhsK8Vs5BsS9UnrizL2gZ5KOVFF4pGSSLordQPEigpmHgH+g6r4tnJGPb1WfN7Nvy3p5WMOKb5ONlEHRmpgHQgqCZh4B6D46plxRfdr2BYlkRq8NZVlwdvsHJxVWaRcci0RUOIaExiJlAoiIdNiFddr41x3ZJHiNmWDbsCSSHieFi4tBqDkfioCZQ4x6j47r4tzJ+NbycyDK0Mg23OOIn/wAejGyyDk7TqIfmgmYRT6gIe1rwGsejmDHs9AT0zYuQbKnjQDZRZ2JLhQBq1EpRH/al0ub3cnsjxHEg8IAI6HWqhNpOHJACSwx5r3x+M8cw7GOi4rH9tsmcM7PIRqDeKQTTZOjb2uiQpQBNQeI2zl0bqPXrWUjrbt6JcSD2IgY9mvMLd5kVG7UiR3ivCBeYsJQAVD8IFDZtjoACotie01ZBcgXBYt6zNr2yEO0hV2ci5uJHu8orIIqK8tuKhU+MCcvoIbFQDAOi+FbK2yqVzm17iD8GKBGlsN7k/E+9bA4KOVEeVyuHprl8XHxe/WvfWr2x7PTkpcTgx1IbmVnbWxxj2x3T57ZVh27b7mTNxvlouMQandG2I7VFMoCcdiI9d+NIXGuObbm39zW7YFuRcvKb79IMopBBy62Ox5qpSgdTY/ERr7tfIlgXwu+bWVfMBcC0YpynqcZJIujNj7EOFUEzDwDsB6Drwrvuu9LOsSM/Gr3uyGt6PA4J97lX6TRHjHwDjVEA2Pw3QymUtkugtg2QlDxlvI2bBki4VdN3HMixyJW7JdM4nTVRT4eFM5TCJgMUAEBHYV67lta2ryiFrfu63Yybi3HCKrKRaJuW6ggOw4k1AEo6EAHqFdSV52g4NEJoXXEKGuEDmiAK+SEZACE4zih1/N0T2h4N6Dr4VouUu0jirFJ45rOXjBC6fTzeBXQGXbpmYqKcBlFFwMbaZUk1CKG2HQDp70BgGocDaTzcD6VAb3C4ch2VvqVn2om/XlUrWiU3rpiSMWcFYpAqqzJvhQMfWxSDiHRB9kNj0rqVsOyHFqlsZezoRS2iog2LDHj0RYgiHgmCHDy+H+mtV5ZDJ2N4mcj7Xl8hW0ymZUpFGEc4l26Tp0U38opJCYDqAPu0A7r7d5Jx1H3S3sZ/ftutrkdgB28MtKIJvlgHYgJUBNzDeA+Ae4auSgxCyFvWxbVnxKMBaVvRsJGN98llHNE2yCe/HhTTACh/oFHVtW4/m2VzPLej3ExGpqpMpBVqmdy2TUAAUImqIcZANoNgAhvXWsHJZfxLDzBLdl8oWkxljOwYgwczbZJwLnRRBHlGOBuZpRMeDW/bL06hWQt/IFiXY9kY21b1gJl5DqcqRbx8ki4VZn2IcKxUzCKY7AehteA0e9Gky8EriLFM5Nu7km8Y2nIS0ggZq7fuoVss4cICXhFNRUxBMcgl9kQEda6Vk2llWdHpyKTG04ZsSYSTRkiosEiA8TInyiFWAC/mFKmHAAG2AE6eHSum18iWBfC75tZV82/PrRh+U9TjJJF0ZqfYhwqgmYeAdgPQdeFddt5Mxzd8q9gbSv8Atybk40RB6zjpRByu2EB0PNTTMJidQEOoB1qMSKvbKvfguh9iTFUmtDuZPGVpu1reRI3iFF4VsoaPSJrhTbiJPyihoNATQBoK8z7CWGZVgjGymI7LeM2yQoIt14BodJNMVRVEhSmJoAFURU0HTjHi8etbzSraiwqdpWsk7jH6dtRRHEIgdtGLAySA7FI4AU6aBtbSKJSFAQLoBAC/CvFG41x3C3K7vOGsK3WFwPyiDuWaxaCTxfet8xYpQUPvQeI+6tnpS91Gky1OLxXjGEuZxecJjm2I+4XPHzpdrDt0XivH/NxLFKCg70G9j1ra9VzSpcyNN0pSlVVKUpREpSlESlKURKUpREpSlESlKURKUpREpSlESlKURKUpREpSlESsdFwcPCi7GIiWTEX7g7x2LZuRLvDg+uJVThAONQ2g2Yeo6CsjSiLX7tsayb9YEir7s6EuNimoCpG0tHpPEiqB4GAipTAA/wBa8lwYxxvdkMyty6sfW1MxUaYBZMZCJbuG7UQDQcpJQglJoOnQA6VtdKKrWGmOMexztJ8wsK3Wzhu8/EElkYtAiibrlcnngYC7BTlfl8YdeD2d66V1TOK8ZXLcDa7rjxxa8rOs+Du8m9h267tHgHZOBY5ROXQ9Q0PStspS91LmWszmN8e3PNsrmuSwrdlpeM6spB9FoLuW3Xf5Spyicn+ghWQTtq3kZCSl0YCOI+l00kZF0VqmCzxNMBBMix9bUKUDGAANvQCOvGstSlzKXusfDw0RbsW2hLfimcbGskwRbM2aBUUEEw6AQiZAApQD4AFYeMxrjqGuV3ecPYVtsLgfgPepZtFIJPV9+PMWKUFD70HiPurZ6dNUeb3q3MtZhca46tqYf3BbtgW5FSsoI9+fMopBBw73481QhQMp4j4iNdqdh2QjDxtvI2ZBEi4Zwm7jmRY5EG7JdMwnTVRT4eFM5TCJgMUAEBHYVsO+lN1HZFrd045x9fCzJze9iW9cKscfmM1JSLQdGbn8eJMVCjwD0DqGvCvWradquX7iVc2zFKvXbEItdydmkKqzPYj3YxhDZktmEeAfZ6j0rNUo1yLToDEWKLTUarWpi+0oZRioqq1NHwrZuKB1CctQyYpkDhExPZMIeJeg9K9EDjPHFrO039sY/tuIcpc8E1mEUg3UJzzFFbRiEAQ5gkIJ/wDiEpd70FbTSrmi1WBxjja1XklI2vj62od1M7/El2EUg3Ue7ERHnGIUBU2Ij/NvxGvUSx7MSj4eIStCFKxt5VNaIbBHpAlHKJgJUztycPCkJQEwAJNCACOvGs/quB6DUn3yS1fVKUqolKUoiUpSiJSlKIlKUoiUpSiJSlKIlKUoiUpSiJSlKIuADVdDto1fN1Gjxsm4QWKJFElCgYpyj4gID0EK9FarkbIEBjCzZC9rmUX7jHEJtNunxrLqnOCaSKRenEodQxCFDYdRDwqFr0DkyXRa+JMZWKL1Ww8dWxbK78nLcLREO3aGVDrriFIpRNrY+Nargvs62JhO1oSNbQsDI3JFMjsVrmThUWr52mKgm0Y4cSgF6gGhUH+UK+XGWMl248h3d+YcLHwM09SYkdRE0eUeRx1TaSM+bA2TBMm9AYyKqwEEeo8PtV1457SlgXrIy0BOzlvW1OMbnkbcYxLqcRF1I91W5QLJJG4Djx/8BQNrw2NUO5At+pfKhkHNn25+Ct6XxtjtxdiV/LWHbqlzJABU5o8WgL8oAGgAHAl5gdBEP5vfXRLYpxfPz6l0zuNrWkZtREWx5J3DN1nRkhKJRTFUxBOJeERLretCIV67euY05KT8cDmCU/BnwNOGOle9rp7SIfTpPll7sr7f9ns/scBt+1oNPuDLNyLZFksXY0s6NnZqDj2snKqzE2eLaN0nBlQRIQ6bdwoooPKMIhywIAa9vfSpgO7HVnM4fbdVuDGxbHiyPEY2zINonIs0Y94RCORIDhqkmKaSCgFL7aZCCJSkHYAURAA1Xob2larQYcGlsRKP8PJGQiATZpl/D0xT5Ylb6D8oopgBNE17Ia8K1u28qMXFoPrryPEq4/LCvFWUkE+uVu2TOmIBzUnKnCmq3NsBIqGgN8AEBAMiyytjCQZGk4/JFrumZFWyBnCMw2OkCjnXdiCYD62rsvLDxPsNbrV77v46qXd3f4XEtifF0/HOYaexra0iwdvzyrlq7hm6yKz0/wDM5OQxBAyo+9QQ4h+NdjbGWN2Kybhlj22m6qLtF+Q6USgQxHKKfKSWAQJ0UImIkKbxKXoAgFZQ1zW8SXXt9SfjiyrdoEgsxM6IDhJoJhKCxk98QJ7AQ4hDWwEN1g4bL+J7iayr+3sn2nKNYJMy0osymmyybFMuxEy5iHEEgDQ7E2vAayJWdt9Klzb2/wBus+0gINhKPp9lCMUJOUKkR69SbEK4dFSAQSBVQA4lAKBjAXYjrY68axly41x3ekgxlrxsO3Z59FjxMXMnFoOVmo7AdpHUKIp9QAemuoVjy5qw4rCvrlTy1Zh4iLXI1fPyzzUWzVc/8qaqvHwpnH3AIgI1s0RNxFwRbecgZZnJRrxMFmzxmuVZBZMfAxFCiJTB/UBoZTwUfmsPcWNMdXjIsJe7LBtyafRQgLB1IxSDlZoICAgKRzlEU+oAPsiHgFZELat78SeTQ2/G/iMi2IzePO6J85w3JxcCSh9bOQOM+iiIgHEPxGtCxv2i8ZZMTvBxC3VCpt7Nk1WTxb8WbnL3dMhB72YSm0miYROBTCOh5Y9fEA2+IyNj+4LbXvKBvm35KAagcV5VnKIrM0+D+biWIYSBr37HpR5ZM/A3pMyvBbiLl6f4NtA1rBY42pDjboNgZhECyS7l3fWgS5GuXwa/w61XgY4yxvF2+jakZj622cG3dEfIxjeJQI0TcEOByrFRKXgBQDlA4GANgYAHxrUb87S+IrLxdI5Yj73t64oliqRokaMmWqibh0YQAqBVQOJOPWzCHUQKQw6HVSRDzcRcES1n4KVZyUa9RBds7aLkVQVTENgcihREpgH4gOqrt7tUwHea1+UxFiicmndyTeMbTfy0ggLV3IOoVss4cIiXhFNRUxBMcgl9kQEda6V9ymKcWzjjvc1je136/cixfNdQ7ZU/cyiAg22YgjygEAEE/wCXoHSvLZ2RRu3G45HCI7s3WTeOmiHeOZz2ySigIq8XCGuamQimgAeHj1s2tjpOMcr50yfZdvZBisS2KziLiaIP0SOL7ed5SRUAB9pMIkS8YB7gPr+vvoBMgXNzs+UJYuc+TfwpHm8a46uWbZXHcVhW9KS0XruL97FoLuGuvDlKnKJk/D3CFZEltW6lISUujAR5H0umkjIuitUwWeJpgIJlWPrahSgYwFA29AI68a1pLLNoRsLI3De96WVBx0fLOIsXhbjSUbFMmfhBNZVUqRUnH/Gj7XAPTiNWBvjtDWbZU7j9BSShnFt30aQN/EZphJNkzQbNRX53M0KahDa4d8ZQDe9j4VLZXKsXOI+PpSTDw8Rb0W1hLfimcbHMkwRas2aBUUEEw6AQhCABSgHwAKyHjWuNchWE/tQ99sb3gHFtpEOqeZSk0TMSkIOjHFcDcsAAegjvpXnSynjJa2CXuhka2FLdUWBuSXJMNxZGVE/ACYL8XLEwm6a3vfSrMkuoLAy2sQ3XGqjuHzLbty3g0ibTfwk7bS8C5mFbjjZcjhu3Ok4Ijyj8BRT0baogfm72goAl6brYLPyNYGQkXDiw76t65EWZwTcKQ8mi9KiceoFOKRjcI/0GoxZ1bFsniNBDY1GaGerBcZudYJTnI38faRicgcgyCPGdQ4n/ANmIlxcYqlTT5pg1sCGIbWh2GzW1kfH95SD+JtG+rfnH8UYSv2sbJoOVmhtiGlSJmEUx2Ah7WuoDQTAIvUMiQbm5rZ9UrSm+ZsSPfxr8OyhaTw1uoqLy5G821OaPTT3xnXAD/lAGhARPrWq82Fsv2vnHHzDIFpPG6jZ5sFmybtJwozUDryVuWIgRXhEoiQeocQePiIB7FTK1b/SlKqJSlKIlKUoiUpSiJSlKIvkahHtFxMq0nsaZRaRb6Tj7EuNR5LtmLYzhcjNw0WbHcESIAnPyjKlMIFAR4OMfdWy+la/N/wB2jI/n7c+60HKt+D49mjI/n7c+61ahcEXF7UBIDYgjUMoyzTfVnZ/iLexhh25WF3P39yRL+QdwzgrpCGZNXSblVZyqnsiJhBLgImcQOY5tAHQdQ7cMNEl7JfaJkyRzcrw2RJlyK4JACgrJSaXKPxePEX3D7qtaGVb7Dr6tOR/P2591rn0q338tGR/P2591qiAw2NqLfb/1C0ImIJuIOgMuarTMQ8iVXNmToBuZeexpkVldLMA3xKoIxTQHiIa8eY1MuTXx1U7dlhBzMWJI5Zk2x0n+TJdxcwlU/nIyPpJimP8Ak1SQ6fERrx5GmL4yPba1pO8IZhh497tJ+EVJWqQ71sYpiqNznVkFBImcB6iny1PgcOtbDF5EuyFjmsPF9mHIjZmxRTbt0U31uAVNMoAUpQ/7V8AAACtVYjCRKwC3AAHVg2C5kTHEnWQ4OXVdb1WZtS50eILJjdNiX/G5EZx4CHejsmrOP5qxEx68syZXKfGAaEdh1rSoqDuGVvy3bdXZSCzLtNLsrxlQUADFbN2T1Z4okYd+xtkdijoA9w+8auV6VL79/ZoyP5+3PutAyrfgb/7tOR9f/f7c+60gBhq2SbCbADmwLZKxGsCMeU3Dbp6qrck9tqM7PuU8P3QkmbLc5cUws0hjl3LSb9V2c0c8bE/tFUyp93EFi7ImCQ7MXhHUvdsZMjXsoPk7zSO7IkvAFlSFLzTqgEi05wAAfziPtdPfupG9K99/LTkfz9ufda1DKbu4MtWa4se5ezrlZswdOWro6jGTtkiwHbrprkABPJGDQnSKA9PDfh41BAZWSI5NcrWm+86z/wAKEO0AKGXJO4Jbs3AnNsWGOXMTPOrf0KK5BdtToxoCn/M4Kgm7/JD20wU0IBxgA7JkB/inLd64/Z4xeC7hIS3Zxndjm2kVDqxMGrHmSBiqVuUTprc0UxI1EBUAyYjy+lT16Vb88PVoyNr/AO/2591p6Vb7307NOR/P2591qGAmGpJp34vbrYqImIiHcgPhVnYStoSrdDEi952xk2zD2bJw61xWzCCFy2jGFbAHKcg2539pwkJywSSOJyDtI+hAPFct6ouLOvO1Ia57DynGo4snEEbugYtNCSgmySAcpi/USOon+b0EEw5I8aRh5XTpab0q357+zTkfz9ufda49Kl++/s05H8/bn3WpFRmIEFpgi0XvPg6sEQgIYWEHRuqrLi68sM2XkW+lcqOolotI4/tRm3GSIXT1sMabms0eL+0UUHg/JDZ1NBoB100NCz8qpWvO2a3YyiN3lwIxRBkUhlHpEPxNwPduENCKvdvy+EOu+njV1vSrfgePZpyP5+3PutPSrfe/7tGR/P2591rUUJiLy7BGOc1ij/2xVGXIwnnV5qC8bPW155rxtJW5k217g/heGkWzprZdnqMU49ioiUpWcmsrJLd3EFSpimhyhU40z+yUNmDdMkSkPZPantfIGTn7aMtBG0XsfFy8koCbCOlzuUxU5ixvy0FFUNFKY4l4+ESAIj0qQfSrfgf7tGR/P2591p6Vr72OuzRkfz9ufdaRQxEgyk9+Lv1RgxGLDQgqp9tOGlm5Cs7KstxQGMBybdDqJknpBasmbJ5GgkkqIm0CCCzoFhIJuEg8e/8AEAj8qXlbchKXpkBGTTTttpni33jiTVHgbpNiNG6YuTKD0KiI6EFB9gQMA70NWxNla+9gPq05H8/bn3WnpVvv5acj+ftz7rQQkNZIACy4wmeZbmrE0QY5vxrf9uShGwLoxJbE7l63s8DCryVz3oeWYMJNh35edizpIDHnaNuWZR4RMC6AEiqcsxR3oa0iQf2xH9nvKWIbmSKOW524ZhdnCqE/7Xk36rsx4163TH8xRMqfdxBYuypgkOxLwjq03pVvsf8AdpyP5+3PutcelW/PH1aMj+ftz7rWahIAwDWiyX0qImL5vxnynYqsT8AgfEHa4WuCPbOJbvCSTtwdMDnOolENDh7fiPCoJjB8BHde3tLWtOmur+GcXR6reQXwtKNW7WNRHmrN03rLaKZCaEw8oVQIXx2bQeNWaHKl9j/u05H8/bn3WgZVvzf92jI/n7c+61sgkgykGt/tq/LrMDws1xJ5g/DKvNtqRGQckWYszyfAz7C37Zl2Mk2sGzV2gx0Wq1AgtJBUZFc6CgKAQUkCoirzEjeyHUQyGGLkiLfvrHGO7Gu6y8rQLBq6jWbpGHIhclnNCNh6uzkEQTIYUyInA6TdQTiACBxAanf0rX38tGR/P2591rj0q358tOR/P2591oAX/wAYk/KjOGw/hSXXNRp6Vr9+WjJHn7c+609K1+/LRkjz9ufdaz5Zy1C0pLpUaela/floyR5+3PutPStfvy0ZI8/bn3WnlnLUIpLpUaela/floyR5+3PutPStfvy0ZI8/bn3WnlnLUIpLpUaela/floyR5+3PutPStfvy0ZI8/bn3WnlnLUIpLpUaela/floyR5+3PutPStfvy0ZI8/bn3WnlnLUIpLpUaela/floyR5+3PutPStfvy0ZI8/bn3WnlnLUIpLpUaela/floyR5+3PutPStfvy0ZI8/bn3WnlnLUIpLpUaela/floyR5+3PutPStfvy0ZI8/bn3WnlnLUIpLpUaela/floyR5+3PutPStfvy0ZI8/bn3WnlnLUIpLpUaela/floyR5+3PutPStfvy0ZI8/bn3WnlnLUIpLpUaela/floyR5+3PutPStfvy0ZI8/bn3WnlnLUIpLpUaela/floyR5+3PutPStfvy0ZI8/bn3WnlnLUIpLpUaela/floyR5+3PutPStfvy0ZI8/bn3WnlnLUIpLpUaela/floyR5+3PutPStfvy0ZI8/bn3WnlnLUIpLpUaela/floyR5+3PutPStfvy0ZI8/bn3WnlnLUIpLpUaela/floyR5+3PutPStfvy0ZI8/bn3WnlnLUIpLpUaela/floyR5+3PutPStfvy0ZI8/bn3WnlnLUIpLpUaela/floyR5+3PutPStfvy0ZI8/bn3WnlnLUIpLpUaela/floyR5+3PutPStfvy0ZI8/bn3WnlnLUIpLpUaela/floyR5+3PutPStfvy0ZI8/bn3WnlnLUIpLpUaela/floyR5+3PutPStfvy0ZI8/bn3WnlnLUIpLpUaela/floyR5+3PutPStfvy0ZI8/bn3WnlnLUIpLpUaela/floyR5+3PutPStfvy0ZI8/bn3WnlnLUIpLpUaela/floyR5+3PutPStfvy0ZI8/bn3WnlnLUIpLpUaela/floyR5+3PutPStfvy0ZI8/bn3WnlnLUIpLpUaela/floyR5+3PutPStfvy0ZI8/bn3WnlnLUIpLpUaela/floyR5+3PutPStfvy0ZI8/bn3WnlnLUIpLpUaela/floyR5+3PutPStfvy0ZI8/bn3WnlnLUIpLpUaela/floyR5+3PutPStfvy0ZI8/bn3WnlnLUIpLpUaela/floyR5+3PutPStfvy0ZI8/bn3WnlnLUIpLpUaela/floyR5+3PutPStfvy0ZI8/bn3WnlnLUIpLpUaela/floyR5+3PutPStfvy0ZI8/bn3WnlnLUIpLpUaela/floyR5+3PutPStfvy0ZI8/bn3WnlnLUIpLrio19K1+/LRkjz9ufdaela/floyR5+3PutPLOWoRSQIgHjUPdqe1Z65sYpPbajFpN9bM7E3GEegG1XiTJ4msqkmHvOKZT8Ie8QAPfWYHKt9j09WnI/n7c+61wOVb71r1asj7H/AO32591pUIIiDOCCJ3guFJTBsMljT9pjGUq4jIbH8unek/KOU2wQsMqVR2yATaUVekEdsiJBxCfnAUdhwAAn0WqxT0JFJ9kztFypI1AHauRJl0ZwBfzOclJJAkfi8QEvu14dfjVsPSrfnTfZqyP5+3PutPSrffy05H8/bn3WggMMVYN2QfhaEVWqMCDvYEc3UX4fe300vjNy1h29BTL499NirJS8ytGplT/CGmzAok1cCY3Fr2RIAaER300PXlJDBtx3oVfOzl5ie+I6MRRaXWyudWIbuk1SiYyLOTAUQcgkcB2mukQwD1BPhHYyr6Vb7+WjI/n7c+60DK1+B/u0ZH/6hbn3WhhiiayQAtwDLMPtfN+ZdVxjZS9UJayLtypczm5sZ2ffcmDO6pRumXmsjx/CyfuhKmUgpJuFFkwc8IE/lPsA0etJnpS0LgPnS8MdoEc20yyLZc07dsEhUQMggZuo7eEBMPbS9lRQVA2Ahs+xAd1cP0rX58tOR/P2591rULWdT9o3neF8xnZ0yuq+vZy0cv015O2RRSO3QBAgJAEkBgASFAR4hN18NeFahhIiEUpM07wYTOc3ZQhw2/QvZgzyUCZpyRaF6ZQyhPWY3YXzEExdGs1jNnK6jBdM8sfmqiq0MB1UUiHE6gJHDYJqEEQ66wOVrliZq95hxE5Rjb1TNhS6GJpCGYot4sx000jcluZLjBQQ0IimKqnLDhDoO93IHKt+b36tOR/P2591p6Vb7+WjI/n7c+61gUZENWV+F753OugiaOucQdKvWqq8XQzkrMf9nq6285bdpWlEWgq2LLz0Mo+iY2SUbtgRMuCbluCJzJ84iayimgETl8T1K/ZQYqkhr0nGlwjLxc7dDiRZOmsEMXFrcaSQLKxyR3Tg52x1QOfmCYAOcVBKAgIGNuIZVv3p/wB2nI/n7c+61wGVL8+WnI/n7c+61siKdk3wvL9VyELQiHBuUlVC93L1dheUDHSrNBSAzcSeuVk7j1H5W8QKaYovHTNNVNRVoC3KUEeIoCCYjv2RrLykPZ+SJXIl23fmhu+txzGwRH9y2TahkoIkg2eiq3WMoLt6DlVIAAqwiTlJpCTmGLrpZj0q358tGR/P2591p6Vb7Hx7NOR9+7/b7c+61iCjigADiTXi4AfC2WJ3vzL/AC25Vhv2+JG6sZZmZ86yL3SaQsU8Xv8As6L5CT/gdBto6EiiwKKoJkFT2VRAhD9Sk99lsq340Pg6Uuax5po+UnmacbAvWygLILO3qhWzY5Tl6GJzVSDsOmg3XoHKt+fLTkfr/wDb7c+609Kt+a/u05H8/bn3WtGCsKpZt4QSiEY7sWbdW8xtTFq9rxZOBnDwYsW5d70mk34C/wDsUKh3sg2NdBcE4xuAczXiZiECycfgQtYfuPByw/J4+4954P687j/9VSR6Vb86f92nI/n7c+61wGVb7Dw7NOR/P2591qVIgYiWm14uf7WRCAwFgfm30qt2m1tBopIXpMZYb49uCAyjeYwktLMe8Q4mXVKmsm6FQU0iCJNcG1klB68Aj1Cshbksjf2RsELzFkWzHt2t5XSLZxAsxQipkybAVCSjVM3XgVU2YDCJ9iURAx+g1ZT0rX4A/wB2nI/n7c+61z6Vr8+WjI//AFC3PutIIDAAJSAFowC0S5JxJOry4PyVRrzj5plfF5yES6Yxlsweam0lNrPYpV/HMijCpCm7ct0lURFEjkUznNzCgU4lUEfYrryG0QutveV1hekXeMPcF3WQ0evIC3xYW+9dJyJSnM3VM+ci5W5YppqmLonRMNmEBALeela+w/3acj+ftz7rT0q37r+7Tkfz9ufda1BDFDVMpNfgAObKRe4EYuNSTydejOVs2hcmHbrtm8nUlHQEhHqJPnEU1UWcIkMIbUIkkQ5j6HqIcAgIb4g1uoqwVfR5nLp4JlcFhZLZEtrZb7tmNIg6ZJprEBKOfHTUVTExgOdQpSmT/szDyg3Unela/PlpyP5+3PutPSrfvy0ZH8/bn3WoICInLa94pFOGr3aPpQX2gl5kuXck25bcgLO57qxGVlbaJTiReQdpOHp1UWvUBUVBM4DonUOIBrWrVGGvqcxlFM8lQcqhbES/QfRdi2Wu0fQ8YdgZJdrJHGSWM29rgAEgRFUyxC8JOgiFmfStfmv7tGR/P2591rj0q32H+7Rkf/qFufdazDRGEN8jEn5Woo6xfuwD4koExJcUTAXbj/HFi3bZmWIJiweRbFyhDEQuSz2pGo/+LMQRBMhxTIicFEm6gnMACBxAalLsXzcPKdnCzo2Okm67yBZ/hco3IcBVZPExHmILE8U1A2GyjoeoVtXpVvz5aMj+ftz7rT0q358tGR/P2591rbRF3vzGf2s2SCkulRp6Vr9+WjJHn7c+609K1+/LRkjz9ufdaz5Zy1CqkulRp6Vr9+WjJHn7c+609K1+/LRkjz9ufdaeWctQikulRp6Vr9+WjJHn7c+609K1+/LRkjz9ufdaeWctQikulRp6Vr9+WjJHn7c+609K1+/LRkjz9ufdaeWctQikuuOtRr6Vr9+WjJHn7c+609K1+/LRkfz9ufdaeWctQikin9acQfD4VC3atvI1vY0JabI0mMlfT9K3EQi2i7p4m3V2LxdJFuQ6xxSalXP7BRHYFrnFzMlYQ5U0CJf9aAIbEPfVCbkkYib7LmQMDIGnIxtad1w8fFd+jnUa+JBvZVuozUBJ4mVUOXxqogJif+QA9d9c5dOQryiL+xjim9XASOQ7Em5Ry2cGLoZ9h+CP+6Pyh7xMIAkqAeCpTe4wVohoa3+TIH5mEELh978LNWV2t76U0HjqquQGMcZzXZqa5clzN1bvd2qE65vzmB+LIPTNxWUVTeAPMTImpxACIGBMCl4OHh6V4rQyPNYjiX0/PR4pvcmWsyvCMYCQqYHuU6KDd2zKHTQqqqs1AL8TrDQwkRRQYYXnAcAeysQmsISLD0l9q2XTw3XHh1qiuW4IGBITCjL+JJGRxrbyl1nkIa35GTK4vJwpzmqi/ckVeVs4OlRA+g04JroFWdYZSVu/BbDKdqOu4rSke3dpm/h55NC3VOYoKpixaGI4WMU3GQSlMAlEBEegDUIDVgXY/wAfBVH5CHH/AD0IUmDv/OuQMACABUSYkvy87rnHjO5Li/EEEmvNTJ6K5+1uE/GAb58iuomr0EfyyABvfvQDVdss5PbHzJL5wbs7pcExXMsoaNOzgJN1GqxwcSc6qd2igZsQQ54gIGUAQFgXfjqqJxCHH/HU6IxIiIu5nBXk6D4++uB0HXXhVUMhZLy0STzndNsZSXYxGMo6OloSMQjGSyDzjjiuVE3CiiJlTJHEB/szpnDjHR9AAB58p5yvuLjJTIdi39cT1OFmo1g5i2luMiQLcFVECroLunBRcLqhzhAVG6oABhIHL9lQaAEkC8twdmdUhhWu6ydt6twI/wBab341TTHGSpPE12zNxT00RvYMvka7YeWKqmmUrN9xgu1cipriADAiqjw8WhFVPpuspMX92iIuIYXveFxXRb9sLwSc6EnB23HyqMeuquqso3lWol72LdFAW6YC1ApxAFTKK7DYQThEeIBOTh2KMaxhvBYZsWccVbj3Vx0HpVSm15ZYmH12yGNhfrQP8dnTlpCz4qK/Fu5Gh2KiCySbwvLcAKqn5hzgqvy9AT+UNSW2zG4YdmabyxHz4XbI29Dybg7hzDqRR1XbTmgKThoI8aChTJ8CgBrqUwgBQEACxAwwucAdQCsw+8gC8kcyPhTVrpTWh3VRcxXDli0bNUt+TzA/miXvYs9JKOE2DJs4jHbNoRxtmKSAf7MoU5khBXmKhsgkVA3WtuiY+Xw32OoqYxqqBHcBEMriWIlHM0heoFMm4eIimiimns6PNT4wKCngYTCfZxlj1izNzJHJloTMIhnWduDdXVjND134Vz7/AOoVV82cZW+5eakLdyZJRFtSFxNLbtkkHBIST6RURZGcPVGonIchB4zgBlViqpEK1OHCAn4q1K18uZvu+5IHG58hTUKqpkOatpzJuImL/FVY9vFg8S5pASUbEWATa2RMA1rZAHYVqqSWAufhL7UPfP6KuaIf1p4DsBqqkBe00kvLWajkOXiZR1es8gUls2oyXlZFFsRDawmMgLZLQnDmKqomFQVCFAwDqtexFlPOWXbqgbIkcnSltgnD3IpIOm8RFi/XXj5crREygHTWbpqcI6UBMBTH2uDWwOGYTXAa8PwZ0MgYjcW4uQrmdQ8K4D4bqp+NctZdzqrZ1rsr8/g165sdS5X8lHxrVwd69B4ZoQnKcpqEKgApCooQnCceYUCqE8R4f5O7Sdw3LezOw4a5JV/Yz5GGaNoxpAt4aTdEaorKqPgfOweplVMsPACBwBMnAO1R2FUB5b9AWdDItu1IdtFbSleVmquo1SWdIchY5CmUS4wNyziHUuw6Doem69JaENJAXDrmlKUVSlKURKUpREpSlESlKURKUpREpSlESlKURKUpREpSlESlKURKUpREpSlESlKURKUpREpSlESlKURKUpREpSlESlKURKUpREpSlESlKURKUpREpSlESlKURKUpREpSlESlKURKUpREpSlESlKURKUpREpSlESlKURKUpREpSlESlKURKUpREpSlESlKURKUpREpSlESlKURKUpREpSlESlKURKUpREpSlESlKURKUpREpSlESlKURcf6VhH9owEjcsXeD6O50tCouWzBcyqmkCOODm6T3wCYwJlDiENgGwAQAR3VD1yMofoVseUcfXrj1yMofoVseUcfXr6fpG1WsNVjzArI3ZhnHF8yy05dFuC7fOWzVosoR44RBVJs6B0gBypnKU3LWLxlEQ2GzBvRhAfdPY0se6bvt2/Zy3kXVwWmdc8O/5hyKNecmKaoeyYAOAlHwOBg94BvrVYPXIyh+hWx5Vx9eufXJyh+hWx5Rx9eg8I2qQAEs8Urib3qwC3Z5xGs/WentRYW7hyZ4tEllHhYhZwJ+MVVI0Fe5nOJvaEwpCIm6+NbTcdj2rd7uEf3HBt3zi3JEJWLOqI/7K6BM6YKAADoRAqh+g7Deh1sAEKq+uRlD9Ctjyrj69PXJyh+hWx5Rx9eg8I2oMwEs0MYvvVroO0LetuRmZOGjQQd3C9CRk1hVOodw4BJNIDCJhHQAmkmUChoocPQOo18WjZVtWNGrw9rR3cWbh65kDIAsochV3CplVRKBzDwAZQ5jcJdEARHQBVVPXIyh+hWx5Rx9egdsfJ4f/AFFbHlXH16npG1YDC1K4+eKuSIAPj41rkTYFoQFoKWFGQaScCsk4SVZnUOqCpVzGMtxmOImMJxUOIiYREeIaqz65GUP0O2PKuPr09cjKH6HbHlXH16HwbamYwiaClhBkrDx2AsURtuXBabW2lfwu6Y9vEy6Ksm7VM5aoNgbJJiodUTl0iAF2UQEfEREetYuX7L2Epwz4slaTtRvIrEdOGSc5IJNDuS8PC5BsRcEiuPyy/nAUFOn83Uag31ycofoVseVcfXp65OUP0K2PKuPr1r0na3rNPepWharcpiyXgCGuq1F8bwFsxBLbui4yz10LPZBwZcFO8pOFDIJCRQDnVMlwCAqJETAdgBv5K2a78F4zvmYUnLhgnYu3DUjF33KXesUn7YgiJUXaTZUibpMNmACrFOGjmDWhEBrv65OUP0K2PKOPr09cnKH6FbHlHH16g8I2oABhLPJugV8wO/dr9ZqwUn2f8Tyai7gbbcs3SsieVB3Gyzxg6RcnQTQMZFduqRRApkkUiCRMxSCBA2FbNBWLaNs2oWyYWDbpQfLVSMzU2sVYFREVRVFQRMqY4nMJzHERMJjCIiI1Vb1yMofoVseVcfXp65GUP0K2PKuPr0PhG1EMQG38EEYDEKf4rs74ih28kyaWuuqjKRa0IoDyWeuhQjlQ0o0bCsqYWiI//q0OWUNF0HQNbsxt+Hj7eRtVmxAsW2aFYptzCY4A3KTgAgiIiI+yGuo7qpfrk5Q/QrY8o4+vXHrkZQ/QrY8o4+vQ+D7VYQJ595oIw4Iu/j+FPjTs4YcjLIhMew9pLRcLbbpR7Elj5V41dsllBMJzpO0liuCibmHAfzOoG0PTpXdbHZ8xFZ0q1mbctLubtlKuJtBTv7pThfrtu7LLiB1BAxzpdB2A7HZv5x4qr965OUB/+orY8q5+vT1yMofoVseVcfXoPCdrcymc+8FPMh77zVgpTAGKpd1+ILwL1s+CRdyoPY+ZfMXQOHQFBxpZusRQE1ATJxJb5Y8Iez0rssjBOKMcSiUzZVpFi3SCDxqiKbxwommk6XIuuUqZziQoGVTKboHT3aARCq8euRk/9Ctjyjj69PXIyf8AoVseUcfXqDwfahIAYW3NYhjBt38bf5U+Oezlh5zAw1sltZ20ZW+3XZx5mMy+ZuEmy5uJZAXCKxVlElB6mSOcxB0Gw6BX1I9nLDMi5KspZXdke6t2KzFhIOmbF43QLwIpOmiKpEHJCEACgVZM4AXp4VAPrkZQ/QrY8o4+vXPrk5Q/Q7Y8o4+vWh4RtQmw1VNIDarjlKQhQIUgFKAaAADQAFfe/wClU19cnKH6FbHlXH16euTlD9Ctjyrj69T0fasBqp5kKuVsfhTY/CqaeuRlD9Ctjyjj69PXIyh+hWx5Rx9eno+1YDVWuFcvY/Cmx+FU09cjKH6FbHlHH16euRlD9Ctjyjj69PR9qwGqVwrl7H4U2PwqmnrkZQ/QrY8o4+vT1yMofoVseUcfXp6PtWA1SuFcvY/Cmx+FU09cjKH6FbHlHH16euRlD9Ctjyjj69PR9qwGqVwrl7H4U2PwqmnrkZQ/QrY8o4+vT1yMofoVseUcfXp6PtWA1SuFcvY/Cmx+FU09cjKH6FbHlHH16euRlD9Ctjyjj69PR9qwGqVwrl7H4U2PwqmnrkZQ/QrY8o4+vT1yMofoVseUcfXp6PtWA1SuFcvY/Cmx+FU09cjKH6FbHlHH16euRlD9Ctjyjj69PR9qwGqVwrl7H4U2PwqmnrkZQ/QrY8o4+vT1yMofoVseUcfXp6PtWA1SuFcvY/Cmx+FU09cjKH6FbHlHH16euRlD9Ctjyjj69PR9qwGqVwrl7H4U2PwqmnrkZQ/QrY8o4+vT1yMofoVseUcfXp6PtWA1SuFcvY/Cmx+FU09cjKH6FbHlHH16euRlD9Ctjyjj69PR9qwGqVwrl7H4U2PwqmnrkZQ/QrY8o4+vT1yMofoVseUcfXp6PtWA1SuFcvY/Cmx+FU09cjKH6FbHlHH16euRlD9Ctjyjj69PR9qwGqVwrl7H4U2PwqmnrkZQ/QrY8o4+vT1yMofoVseUcfXp6PtWA1SuFcvY/Cmx+FU09cjKH6FbHlHH16euRlD9Ctjyjj69PR9qwGqVwrl7H4U2PwqmnrkZQ/QrY8o4+vT1yMofoVseUcfXp6PtWA1SuFcvY/Cmx+FU09cjKH6FbHlHH16euRlD9Ctjyjj69PR9qwGqVwrl7H4U2PwqmnrkZQ/QrY8o4+vT1yMofoVseUcfXp6PtWA1SuFcvY/Cmx+FU09cjKH6FbHlHH16euRlD9Ctjyjj69PR9qwGqVwrl7H4U2PwqmnrkZQ/QrY8o4+vT1yMofoVseUcfXp6PtWA1SuFcvY/Cmx+FU09cjKH6FbHlHH16euRlD9Ctjyjj69PR9qwGqVwrl7H4U2PwqmnrkZQ/QrY8o4+vT1yMofoVseUcfXp6PtWA1SuFcvY/Cmx+FU09cjKH6FbHlHH16euRlD9Ctjyjj69PR9qwGqVwrl7H4U2PwqmnrkZQ/QrY8o4+vT1yMofoVseUcfXp6PtWA1SuFcvY/Cmx+FU09cjKH6FbHlHH16euRlD9Ctjyjj69PR9qwGqVwrl7H4U2PwqmnrkZQ/QrY8o4+vT1yMofoVseUcfXp6PtWA1SuFcvY/Cmx+FU09cjKH6FbHlHH16euRlD9Ctjyjj69PR9qwGqVwrl7H4U2PwqmnrkZQ/QrY8o4+vT1yMofoVseUcfXp6PtWA1SuFcvY/Cmx+FU09cjKH6FbHlHH16euRlD9Ctjyjj69PR9qwGqVwrl7H4U2PwqmnrkZQ/QrY8o4+vT1yMofoVseUcfXp6PtWA1SuFcvY/Cmx+FU09cjKH6FbHlHH16euRlD9Ctjyjj69PR9qwGqVwrl7H4U2PwqmnrkZQ/QrY8o4+vT1yMofoVseUcfXp6PtWA1SuFcvY/Cmx+FU09cjKH6FbHlHH16euRlD9Ctjyjj69PR9qwGqVwrl7H4U2PwqmnrkZQ/QrY8o4+vT1yMofoVseUcfXp6PtWA1SuFcvY/Cmx+FU09cjKH6FbHlHH16euRlD9Ctjyjj69PR9qwGqVwrl7H4U2PwqmnrkZQ/QrY8o4+vT1yMofoVseUcfXp6PtWA1SuFcvY/Cmx+FU09cjKH6FbHlHH16euRlD9Ctjyjj69PR9qwGqVwrl7H4U2PwqmnrkZQ/QrY8o4+vT1yMofoVseUcfXp6PtWA1SuFcvY/Cmx+FU09cjKH6FbHlHH16euRlD9Ctjyjj69PR9qwGqVwrl7H4U2PwqmnrkZQ/QrY8o4+vT1yMofoVseUcfXp6PtWA1SuFcvY/Cmx+FU09cjKH6FbHlHH16euRlD9Ctjyjj69PR9qwGqVwrl7H4U2PwqmnrkZQ/QrY8o4+vT1yMofoVseUcfXp6PtWA1SuFcvY/Cmx+FU09cjKH6FbHlHH16euRlD9Ctjyjj69PR9qwGqVwrl7H4U2PwqmnrkZQ/QrY8o4+vT1yMofoVseUcfXp6PtWA1SuFcvY/Cmx+FU09cjKH6FbHlHH16euRlD9Ctjyjj69PR9qwGqVwrl7H4U2PwqmnrkZQ/QrY8o4+vT1yMofoVseUcfXp6PtWA1SuFcvY/Cmx+FU09cjKH6FbHlHH16euRlD9Ctjyjj69PR9qwGqVwrl7H4U2PwqmnrkZQ/QrY8o4+vT1yMofoVseUcfXp6PtWA1SuFcvY/Cmx+FU09cjKH6FbHlHH16euRlD9Ctjyjj69PR9qwGqVwrl7H4U2PwqmnrkZQ/QrY8o4+vT1yMofoVseUcfXp6PtWA1SuFcvY/Cmx+FU09cjKH6FbHlHH16euRlD9Ctjyjj69PR9qwGqVwrl7H4U2PwqmnrkZQ/QrY8o4+vT1yMofoVseUcfXp6PtWA1SuF/9k=)\n",
    "\n",
    "Source: https://www.ncbi.nlm.nih.gov/pmc/articles/PMC3469943/"
   ]
  },
  {
   "cell_type": "markdown",
   "id": "ee45ed33",
   "metadata": {
    "id": "ee45ed33"
   },
   "source": [
    "Let's see if we have a change in the synapse number between control and mutant."
   ]
  },
  {
   "cell_type": "code",
   "execution_count": null,
   "id": "6bad91af",
   "metadata": {
    "id": "6bad91af"
   },
   "outputs": [],
   "source": [
    "meanC2=st.mean(syn_num.loc[:,\"Con2\"].dropna())\n",
    "meanC3=st.mean(syn_num.loc[:,\"Con3\"].dropna())\n",
    "meanC4=st.mean(syn_num.loc[:,\"Con4\"].dropna())\n",
    "meanC5=st.mean(syn_num.loc[:,\"Con5\"].dropna())\n",
    "meanC6=st.mean(syn_num.loc[:,\"Con6\"].dropna())\n",
    "meanM1=st.mean(syn_num.loc[:,\"Mut1\"].dropna())\n",
    "meanM2=st.mean(syn_num.loc[:,\"Mut2\"].dropna())\n",
    "meanM3=st.mean(syn_num.loc[:,\"Mut3\"].dropna())\n",
    "meanM4=st.mean(syn_num.loc[:,\"Mut4\"].dropna())\n",
    "meanM5=st.mean(syn_num.loc[:,\"Mut5\"].dropna())\n",
    "meanM6=st.mean(syn_num.loc[:,\"Mut6\"].dropna())\n",
    "\n",
    "\n",
    "Control=[meanC1,meanC2,meanC3,meanC4,meanC5,meanC6]\n",
    "Mutant=[meanM1,meanM2,meanM3,meanM4,meanM5,meanM6]"
   ]
  },
  {
   "cell_type": "code",
   "execution_count": null,
   "id": "6567428b",
   "metadata": {
    "id": "6567428b"
   },
   "outputs": [],
   "source": [
    "stat, p = shapiro(Control)\n",
    "print('Statistics=%.3f, p=%.3f' % (stat, p))\n",
    "\n",
    "a=0.05\n",
    "\n",
    "if p > a:  # null hypothesis: data follow the normal distribution\n",
    "    print(\"The null hypothesis cannot be rejected\")\n",
    "else:\n",
    "    print(\"The null hypothesis can be rejected\")"
   ]
  },
  {
   "cell_type": "code",
   "execution_count": null,
   "id": "de585591",
   "metadata": {
    "id": "de585591"
   },
   "outputs": [],
   "source": [
    "stat, p = shapiro(Mutant)\n",
    "print('Statistics=%.3f, p=%.3f' % (stat, p))\n",
    "\n",
    "a=0.05\n",
    "\n",
    "if p > a:  # null hypothesis: data follow the normal distribution\n",
    "    print(\"The null hypothesis cannot be rejected\")\n",
    "else:\n",
    "    print(\"The null hypothesis can be rejected\")"
   ]
  },
  {
   "cell_type": "markdown",
   "id": "eb9dd80b",
   "metadata": {
    "id": "eb9dd80b"
   },
   "source": [
    "Which statistical test should we use?\n",
    "\n",
    "All statistical functions included in SciPy can be found [here](https://docs.scipy.org/doc/scipy/reference/stats.html)."
   ]
  },
  {
   "cell_type": "markdown",
   "id": "cebb8fdd",
   "metadata": {
    "id": "cebb8fdd"
   },
   "source": [
    "#### [`scipy.stats.ttest_ind`](https://docs.scipy.org/doc/scipy/reference/generated/scipy.stats.ttest_ind.html)"
   ]
  },
  {
   "cell_type": "code",
   "execution_count": null,
   "id": "50db6eca",
   "metadata": {
    "id": "50db6eca"
   },
   "outputs": [],
   "source": [
    "from scipy import stats\n",
    "\n",
    "stat,p= stats.levene(Control,Mutant)\n",
    "print('Statistics=%.3f, p=%.3f' % (stat, p))\n",
    "\n",
    "a=0.05\n",
    "\n",
    "if p > a:  # null hypothesis: data have equal variance\n",
    "    print(\"The null hypothesis cannot be rejected\")\n",
    "else:\n",
    "    print(\"The null hypothesis can be rejected\")"
   ]
  },
  {
   "cell_type": "code",
   "execution_count": null,
   "id": "531ad11b",
   "metadata": {
    "id": "531ad11b"
   },
   "outputs": [],
   "source": [
    "stat,p=stats.ttest_ind(Control,Mutant)\n",
    "print('Statistics=%.3f, p=%.3f' % (stat, p))\n",
    "\n",
    "a=0.05\n",
    "\n",
    "if p > a:  # null hypothesis: the mean of the two groups is equal\n",
    "    print(\"The null hypothesis cannot be rejected\")\n",
    "else:\n",
    "    print(\"The null hypothesis can be rejected\")"
   ]
  },
  {
   "cell_type": "markdown",
   "id": "ec09a07c",
   "metadata": {
    "id": "ec09a07c"
   },
   "source": [
    "---\n",
    "\n",
    "<a name=\"plot\"></a>\n",
    "\n",
    "## **4. Plotting data**"
   ]
  },
  {
   "cell_type": "markdown",
   "id": "bb451f88",
   "metadata": {
    "id": "bb451f88"
   },
   "source": [
    "Making informative visualizations (sometimes called plots) is one of the most important tasks in data analysis. \n",
    "\n",
    "`matplotlib` is a plotting package designed for creating plots and figures suitable for publication.<br>\n",
    "Over time, matplotlib has spawned a number of add-on toolkits for data visualization that use matplotlib for their underlying plotting. One of these is `seaborn`."
   ]
  },
  {
   "cell_type": "markdown",
   "id": "360e854a",
   "metadata": {
    "id": "360e854a"
   },
   "source": [
    "To output plots in the Jupyter notebook you can execute the following statement in a Jupyter notebook:\n",
    "\n",
    "`%matplotlib inline`"
   ]
  },
  {
   "cell_type": "markdown",
   "id": "bbb6d124",
   "metadata": {
    "id": "bbb6d124"
   },
   "source": [
    "With matplotlib, we use the following import convention."
   ]
  },
  {
   "cell_type": "code",
   "execution_count": null,
   "id": "a48bfd7b",
   "metadata": {
    "id": "a48bfd7b"
   },
   "outputs": [],
   "source": [
    "import matplotlib.pyplot as plt"
   ]
  },
  {
   "cell_type": "markdown",
   "id": "785c2d40",
   "metadata": {
    "id": "785c2d40"
   },
   "source": [
    "Let's try creating a simple plot"
   ]
  },
  {
   "cell_type": "code",
   "execution_count": null,
   "id": "b7c569fc",
   "metadata": {
    "id": "b7c569fc"
   },
   "outputs": [],
   "source": [
    "data = np.arange(10)\n",
    "data"
   ]
  },
  {
   "cell_type": "code",
   "execution_count": null,
   "id": "ae240c1c",
   "metadata": {
    "id": "ae240c1c"
   },
   "outputs": [],
   "source": [
    "plt.plot(data)"
   ]
  },
  {
   "cell_type": "markdown",
   "id": "e75fc7d6",
   "metadata": {
    "id": "e75fc7d6"
   },
   "source": [
    "---\n",
    "\n",
    "<a name=\"fig\"></a>\n",
    "\n",
    "## **4.1 Figures and Subplots**"
   ]
  },
  {
   "cell_type": "markdown",
   "id": "faa8a18e",
   "metadata": {
    "id": "faa8a18e"
   },
   "source": [
    "Plots in matplotlib reside within a 'Figure' object. You can create a new figure with `plt.figure`."
   ]
  },
  {
   "cell_type": "code",
   "execution_count": null,
   "id": "1e4af578",
   "metadata": {
    "id": "1e4af578"
   },
   "outputs": [],
   "source": [
    "fig=plt.figure()"
   ]
  },
  {
   "cell_type": "markdown",
   "id": "538e7930",
   "metadata": {
    "id": "538e7930"
   },
   "source": [
    "`plt.figure` has a number of options; notably, `figsize` will guarantee the figure has a certain size and aspect ratio if saved to disk."
   ]
  },
  {
   "cell_type": "markdown",
   "id": "e54968d0",
   "metadata": {
    "id": "e54968d0"
   },
   "source": [
    "You can’t make a plot with a blank figure. You have to create one or more subplots using `add_subplot`."
   ]
  },
  {
   "cell_type": "code",
   "execution_count": null,
   "id": "306c0a36",
   "metadata": {
    "id": "306c0a36"
   },
   "outputs": [],
   "source": [
    "ax1 = fig.add_subplot(2, 2, 1)"
   ]
  },
  {
   "cell_type": "markdown",
   "id": "12ebe866",
   "metadata": {
    "id": "12ebe866"
   },
   "source": [
    "This means that the figure should be 2 × 2 (so up to four plots in total), and we’re selecting the first of four subplots (numbered from 1). We can create the next two subplots."
   ]
  },
  {
   "cell_type": "code",
   "execution_count": null,
   "id": "bd66e6b7",
   "metadata": {
    "id": "bd66e6b7"
   },
   "outputs": [],
   "source": [
    "fig = plt.figure(figsize=(8,6))\n",
    "ax1 = fig.add_subplot(2, 2, 1)\n",
    "ax2 = fig.add_subplot(2, 2, 2)\n",
    "ax3 = fig.add_subplot(2, 2, 3)"
   ]
  },
  {
   "cell_type": "markdown",
   "id": "53eff888",
   "metadata": {
    "id": "53eff888"
   },
   "source": [
    "These plot axis objects have various methods that create different types of plots, and it is preferred to use the axis methods over the top-level plotting functions like `plt.plot`."
   ]
  },
  {
   "cell_type": "code",
   "execution_count": null,
   "id": "f356babb",
   "metadata": {
    "id": "f356babb"
   },
   "outputs": [],
   "source": [
    "fig = plt.figure(figsize=(8,6))\n",
    "ax1 = fig.add_subplot(2, 2, 1)\n",
    "ax2 = fig.add_subplot(2, 2, 2)\n",
    "ax3 = fig.add_subplot(2, 2, 3)\n",
    "\n",
    "ax1.plot(data)\n",
    "ax2.hist(Con1)\n",
    "ax3.scatter(np.arange(30), np.arange(30) + 3 * np.random.standard_normal(30))"
   ]
  },
  {
   "cell_type": "markdown",
   "id": "b003b671",
   "metadata": {
    "id": "b003b671"
   },
   "source": [
    "---\n",
    "\n",
    "<a name=\"col\"></a>\n",
    "\n",
    "## **4.2 Colors, Markers, and Line Styles**"
   ]
  },
  {
   "cell_type": "markdown",
   "id": "65fe9bf4",
   "metadata": {
    "id": "65fe9bf4"
   },
   "source": [
    "matplotlib’s line `plot` function accepts arrays of x and y coordinates and optional color styling options. <br>For example, to plot x versus y with green dashes, you would execute:"
   ]
  },
  {
   "cell_type": "code",
   "execution_count": null,
   "id": "bfd42da0",
   "metadata": {
    "id": "bfd42da0"
   },
   "outputs": [],
   "source": [
    "fig = plt.figure()\n",
    "ax=fig.add_subplot()\n",
    "ax.plot(data,linestyle=\"--\", color=\"green\")"
   ]
  },
  {
   "cell_type": "markdown",
   "id": "761c56b1",
   "metadata": {
    "id": "761c56b1"
   },
   "source": [
    "You can find all available matplotlib colors [here](https://matplotlib.org/stable/gallery/color/named_colors.html#sphx-glr-gallery-color-named-colors-py).\n",
    "\n",
    "You can find all available matplotlib linestyles [here](https://matplotlib.org/stable/gallery/lines_bars_and_markers/linestyles.html)."
   ]
  },
  {
   "cell_type": "markdown",
   "id": "91903980",
   "metadata": {
    "id": "91903980"
   },
   "source": [
    "Line plots can additionally have markers to highlight the actual data points. Since matplotlib's plot function creates a continuous line plot, interpolating between points, it can occasionally be unclear where the points lie. "
   ]
  },
  {
   "cell_type": "code",
   "execution_count": null,
   "id": "5e6fef7b",
   "metadata": {
    "id": "5e6fef7b"
   },
   "outputs": [],
   "source": [
    "fig = plt.figure()\n",
    "ax=fig.add_subplot()\n",
    "ax.plot(np.random.standard_normal(30).cumsum(), color=\"black\",linestyle=\"dashed\", marker=\"o\")"
   ]
  },
  {
   "cell_type": "markdown",
   "id": "4e79bce6",
   "metadata": {
    "id": "4e79bce6"
   },
   "source": [
    "You can find the available marker styles [here](https://matplotlib.org/stable/gallery/lines_bars_and_markers/marker_reference.html)."
   ]
  },
  {
   "cell_type": "markdown",
   "id": "fe781035",
   "metadata": {
    "id": "fe781035"
   },
   "source": [
    "---\n",
    "\n",
    "<a name=\"ticks\"></a>\n",
    "\n",
    "## **4.3 Ticks, Labels, and Legends**"
   ]
  },
  {
   "cell_type": "markdown",
   "id": "7eedb0c5",
   "metadata": {
    "id": "7eedb0c5"
   },
   "source": [
    "Most kinds of plot decorations can be accessed through methods on matplotlib axes objects. This includes methods like `xlim`, `xticks`, and `xticklabels`. These control the plot range, tick locations, and tick labels, respectively. They can be used in two ways:\n",
    "\n",
    "- Called with no arguments returns the current parameter value (e.g., ax.xlim() returns the current x-axis plotting range)\n",
    "\n",
    "- Called with parameters sets the parameter value (e.g., ax.xlim([0, 10]) sets the x-axis range to 0 to 10)"
   ]
  },
  {
   "cell_type": "code",
   "execution_count": null,
   "id": "97a79255",
   "metadata": {
    "id": "97a79255"
   },
   "outputs": [],
   "source": [
    "fig= plt.figure()\n",
    "ax=fig.add_subplot()\n",
    "\n",
    "ax.plot(np.random.standard_normal(1000).cumsum())"
   ]
  },
  {
   "cell_type": "markdown",
   "id": "c96a033e",
   "metadata": {
    "id": "c96a033e"
   },
   "source": [
    "To change the x-axis ticks, it’s easiest to use `set_xticks` and `set_xticklabels`. The former instructs matplotlib where to place the ticks along the data range; by default these locations will also be the labels. But we can set any other values as the labels using `set_xticklabels`."
   ]
  },
  {
   "cell_type": "code",
   "execution_count": null,
   "id": "b174ad45",
   "metadata": {
    "id": "b174ad45"
   },
   "outputs": [],
   "source": [
    "fig= plt.figure()\n",
    "ax=fig.add_subplot()\n",
    "\n",
    "ax.set_xticks([0, 250, 500, 750, 1000])\n",
    "ax.set_xticklabels([\"one\", \"two\", \"three\", \"four\", \"five\"],rotation=30, fontsize=8)\n",
    "ax.plot(np.random.standard_normal(1000).cumsum())"
   ]
  },
  {
   "cell_type": "markdown",
   "id": "4e3176b7",
   "metadata": {
    "id": "4e3176b7"
   },
   "source": [
    "Lastly, `set_xlabel` gives a name to the x-axis, and `set_title` is the subplot title. "
   ]
  },
  {
   "cell_type": "code",
   "execution_count": null,
   "id": "7c837660",
   "metadata": {
    "id": "7c837660"
   },
   "outputs": [],
   "source": [
    "fig= plt.figure(figsize=(8,6))\n",
    "ax=fig.add_subplot()\n",
    "\n",
    "ax.plot(np.random.standard_normal(1000).cumsum())\n",
    "\n",
    "xticks=ax.set_xticks([0, 250, 500, 750, 1000])\n",
    "xlabels=ax.set_xticklabels([\"one\", \"two\", \"three\", \"four\", \"five\"],rotation=30, fontsize=8)\n",
    "\n",
    "xlabel=ax.set_xlabel(\"Stages\")\n",
    "title=ax.set_title(\"My first matplotlib plot\",fontsize=20)"
   ]
  },
  {
   "cell_type": "markdown",
   "id": "3aff0e84",
   "metadata": {
    "id": "3aff0e84"
   },
   "source": [
    "Modifying the y-axis consists of the same process, substituting `y` for `x` in this example. "
   ]
  },
  {
   "cell_type": "markdown",
   "id": "85aa596c",
   "metadata": {
    "id": "85aa596c"
   },
   "source": [
    "Legends are another critical element for identifying plot elements. There are a couple of ways to add one. The easiest is to pass the `label` argument when adding each piece of the plot.\n",
    "Once you’ve done this, you can call `ax.legend()` to automatically create a legend."
   ]
  },
  {
   "cell_type": "code",
   "execution_count": null,
   "id": "37f43e7f",
   "metadata": {
    "id": "37f43e7f"
   },
   "outputs": [],
   "source": [
    "fig= plt.figure(figsize=(8,6))\n",
    "ax=fig.add_subplot()\n",
    "\n",
    "ax.plot(np.random.standard_normal(1000).cumsum(),color=\"black\", label=\"one\")\n",
    "ax.plot(np.random.standard_normal(1000).cumsum(),color=\"red\", label=\"two\")\n",
    "ax.plot(np.random.standard_normal(1000).cumsum(),color=\"blue\", label=\"three\")\n",
    "ax.legend()\n",
    "\n",
    "xticks=ax.set_xticks([0, 250, 500, 750, 1000])\n",
    "\n",
    "\n",
    "title=ax.set_title(\"My first matplotlib plot\",fontsize=20)\n"
   ]
  },
  {
   "cell_type": "markdown",
   "id": "017f9369",
   "metadata": {
    "id": "017f9369"
   },
   "source": [
    "The `legend` method has several other choices for the location [`loc`](https://matplotlib.org/stable/api/_as_gen/matplotlib.axes.Axes.legend.html) argument. \n",
    "\n",
    "The `loc` legend option tells matplotlib where to place the plot. The default is \"best\", which tries to choose a location that is most out of the way."
   ]
  },
  {
   "cell_type": "markdown",
   "id": "091e17bc",
   "metadata": {
    "id": "091e17bc"
   },
   "source": [
    "---\n",
    "\n",
    "<a name=\"annot\"></a>\n",
    "\n",
    "## **4.4 Annotations and Drawing on a Subplot**"
   ]
  },
  {
   "cell_type": "markdown",
   "id": "ce2de4e5",
   "metadata": {
    "id": "ce2de4e5"
   },
   "source": [
    "In addition to the standard plot types, you may wish to draw your own plot annotations, which could consist of text, arrows, or other shapes. You can add annotations and text using the `text`, `arrow`, and `annotate` functions. text draws text at given coordinates (x, y) on the plot with optional custom styling."
   ]
  },
  {
   "cell_type": "markdown",
   "id": "b31526e0",
   "metadata": {
    "id": "b31526e0"
   },
   "source": [
    "Let's plot the synapse number data."
   ]
  },
  {
   "cell_type": "code",
   "execution_count": null,
   "id": "9eebb957",
   "metadata": {
    "id": "9eebb957"
   },
   "outputs": [],
   "source": [
    "data=[Control,Mutant]\n",
    "\n",
    "fig= plt.figure(figsize=(3,5))\n",
    "ax=fig.add_subplot()\n",
    "\n",
    "bplot=ax.boxplot(data,labels=[\"Control\",\"Mutant\"],patch_artist=True,widths=0.8)\n",
    "\n",
    "#change color of boxplots\n",
    "colors = ['white', 'darkgrey']\n",
    "for patch, colors in zip(bplot['boxes'], colors):\n",
    "    patch.set_facecolor(colors)\n",
    "\n",
    "# changing color of medians\n",
    "for median in bplot['medians']:\n",
    "    median.set(color ='black')\n",
    "    \n",
    "title=ax.set_ylabel(\"Synapse number/ROI\",fontsize=15)\n",
    "ax.set_xticklabels([\"Control\",\"Mutant\"],fontsize=12)    "
   ]
  },
  {
   "cell_type": "markdown",
   "id": "7a832e2c",
   "metadata": {
    "id": "7a832e2c"
   },
   "source": [
    "Now let's say we want to indicate that the two groups have statistically significant different means."
   ]
  },
  {
   "cell_type": "code",
   "execution_count": null,
   "id": "5a5531f6",
   "metadata": {
    "id": "5a5531f6"
   },
   "outputs": [],
   "source": [
    "data=[Control,Mutant]\n",
    "\n",
    "fig= plt.figure(figsize=(3,5))\n",
    "ax=fig.add_subplot()\n",
    "\n",
    "bplot=ax.boxplot(data,labels=[\"Control\",\"Mutant\"],patch_artist=True,widths=0.8)\n",
    "\n",
    "#change color of boxplots\n",
    "colors = ['white', 'darkgrey']\n",
    "for patch, colors in zip(bplot['boxes'], colors):\n",
    "    patch.set_facecolor(colors)\n",
    "\n",
    "# changing color and linewidth of medians\n",
    "for median in bplot['medians']:\n",
    "    median.set(color ='black')\n",
    "    \n",
    "title=ax.set_ylabel(\"Synapse number/ROI\",fontsize=15)\n",
    "ax.set_xticklabels([\"Control\",\"Mutant\"],fontsize=12)\n",
    "\n",
    "#plot a line by indicating the coordinates on the x and y axis, the thickness and the color\n",
    "ax.plot([1,1,2,2], [110,112,112,110], linewidth=1, color='k')\n",
    " \n",
    "#write text by indicating the coordinates on the x and y axis, the font size, color, alignment etc.\n",
    "ax.text(1.5,111,\"**\",ha='center',fontsize=15)\n",
    "ax.text(1.5,109,\"p=0.003\",ha='center',fontsize=10)\n",
    "ax.text(1,st.median(Control),\"n=6\",ha='center',fontsize=10,color=\"black\")\n",
    "ax.text(2,st.median(Mutant),\"n=6\",ha='center',fontsize=10,color=\"black\")"
   ]
  },
  {
   "cell_type": "markdown",
   "id": "f1757998",
   "metadata": {
    "id": "f1757998"
   },
   "source": [
    "Let's use the same data to create a [barplot](https://matplotlib.org/stable/api/_as_gen/matplotlib.pyplot.bar.html) this time."
   ]
  },
  {
   "cell_type": "code",
   "execution_count": null,
   "id": "75403edb",
   "metadata": {
    "id": "75403edb"
   },
   "outputs": [],
   "source": [
    "Categories=[\"Control\",\"Mutant\"]\n",
    "data=[st.mean(Control),st.mean(Mutant)]\n",
    "error=np.std(data)\n",
    "\n",
    "fig= plt.figure(figsize=(2,5))\n",
    "ax=fig.add_subplot()\n",
    "\n",
    "bar=ax.bar(Categories,data,color=[\"white\",\"darkgrey\"],edgecolor=\"black\",yerr=error,capsize=5,width=1)\n",
    "title=ax.set_ylabel(\"Synapse number/ROI\",fontsize=15)\n",
    "ax.set_xticklabels([\"Control\",\"Mutant\"],fontsize=12)\n",
    "ax.set_ylim([0,110])\n",
    "\n",
    "ax.plot([0,0,1,1], [99,101,101,99], linewidth=1, color='k')\n",
    "ax.text(0.5,104,\"**\",ha='center',fontsize=15)\n",
    "ax.text(0.5,102,\"p=0.003\",ha='center',fontsize=10)\n",
    "ax.text(0,0.5,\"n=6\",ha='center',fontsize=10,color=\"black\")\n",
    "ax.text(1,0.5,\"n=6\",ha='center',fontsize=10,color=\"black\")"
   ]
  },
  {
   "cell_type": "markdown",
   "id": "bf940c46",
   "metadata": {
    "id": "bf940c46"
   },
   "source": [
    "---\n",
    "\n",
    "<a name=\"save\"></a>\n",
    "\n",
    "## **4.5 Saving Plots to File**"
   ]
  },
  {
   "cell_type": "markdown",
   "id": "d782c83f",
   "metadata": {
    "id": "d782c83f"
   },
   "source": [
    "You can save the active figure to file using the figure object’s `savefig` instance method, defining the file path and the name, as well as the file type."
   ]
  },
  {
   "cell_type": "code",
   "execution_count": null,
   "id": "99e0614d",
   "metadata": {
    "id": "99e0614d",
    "scrolled": true
   },
   "outputs": [],
   "source": [
    "Categories=[\"Control\",\"Mutant\"]\n",
    "data=[st.mean(Control),st.mean(Mutant)]\n",
    "error=np.std(data)\n",
    "\n",
    "fig= plt.figure(figsize=(3,5))\n",
    "ax=fig.add_subplot()\n",
    "\n",
    "bar=ax.bar(Categories,data,color=[\"white\",\"darkgrey\"],edgecolor=\"black\",yerr=error,capsize=5,width=1)\n",
    "title=ax.set_ylabel(\"Synapse number/ROI\",fontsize=15)\n",
    "ax.set_xticklabels([\"Control\",\"Mutant\"],fontsize=12)\n",
    "ax.set_ylim([0,110])\n",
    "\n",
    "ax.plot([0,0,1,1], [99,101,101,99], linewidth=1, color='k')\n",
    "ax.text(0.5,104,\"**\",ha='center',fontsize=15)\n",
    "ax.text(0.5,102,\"p=0.003\",ha='center',fontsize=10)\n",
    "ax.text(0,0.5,\"n=6\",ha='center',fontsize=10,color=\"black\")\n",
    "ax.text(1,0.5,\"n=6\",ha='center',fontsize=10,color=\"black\")\n",
    "\n",
    "plt.subplots_adjust(left=0.25)\n",
    "\n",
    "plt.savefig(\"targ_dir\"+\"SynNum_bar.png\",facecolor='w',dpi=400)"
   ]
  },
  {
   "cell_type": "markdown",
   "id": "e3b61ec0",
   "metadata": {
    "id": "e3b61ec0"
   },
   "source": [
    "**!!!Careful!!! If you try to save a file/plot with the same name in the same location, python will not notify you another file with the same name exists. It will just overwrite the older file.!!!**"
   ]
  },
  {
   "cell_type": "markdown",
   "id": "b3b6be2b",
   "metadata": {
    "id": "b3b6be2b"
   },
   "source": [
    "\n",
    "---\n",
    "<a name=\"selfstudy\"></a>\n",
    "# **5. Self Study - Pandas**\n"
   ]
  },
  {
   "cell_type": "markdown",
   "id": "df943a67",
   "metadata": {
    "id": "df943a67"
   },
   "source": [
    "**pandas** is a powerful data analysis package. It makes data exploration and manipulation easy. It has several functions to read data from various sources.\n",
    "\n",
    "A really useful data handling tool is the **Pandas DataFrame**. It is a 2-dimensional labeled data structure like any table with rows and columns. The size and values of the dataframe are mutable,i.e., can be modified. It is the most commonly used pandas object. Whether you create a dataframe from scratch or you import data from a file to it, you can easily explore and transform your data.\n",
    "\n",
    "So let's start using pandas!\n"
   ]
  },
  {
   "cell_type": "markdown",
   "id": "840c1b6d",
   "metadata": {
    "id": "840c1b6d"
   },
   "source": [
    "First you need to import the package. It is usually imported with the abbreviation pd."
   ]
  },
  {
   "cell_type": "markdown",
   "id": "2c979023",
   "metadata": {
    "id": "2c979023"
   },
   "source": [
    "To check out all the other possibilities during data handling you can have a look at the documentation  of the [`pandas.DataFrame`](#https://pandas.pydata.org/docs/reference/frame.html) module."
   ]
  },
  {
   "cell_type": "code",
   "execution_count": null,
   "id": "0d8e3f37",
   "metadata": {
    "id": "0d8e3f37"
   },
   "outputs": [],
   "source": [
    "import pandas as pd"
   ]
  },
  {
   "cell_type": "markdown",
   "id": "a2b205a3",
   "metadata": {
    "id": "a2b205a3"
   },
   "source": [
    "---\n",
    "\n",
    "<a name=\"create\"></a>\n",
    "\n",
    "## **5.1 Creating dataframes**"
   ]
  },
  {
   "cell_type": "markdown",
   "id": "85ad0a92",
   "metadata": {
    "id": "85ad0a92"
   },
   "source": [
    "You can also create dataframes using the `pandas.DataFrame()` function. \n",
    "DataFrames can be created in multiple ways. \n",
    "\n",
    "The syntax of creating dataframe is:\n",
    "\n",
    "`pandas.DataFrame(data, index, columns)`\n",
    "\n",
    "where,\n",
    "\n",
    "**data**: It is a dataset from which dataframe is to be created. It can be list, dictionary, scalar value, series, ndarrays, etc.\n",
    "\n",
    "**index**: It is optional, by default the index of the dataframe starts from 0 and ends at the last data value(n-1). It defines the row label explicitly.\n",
    "\n",
    "**columns**: This parameter is used to provide column names in the dataframe. If the column name is not defined by default, it will take a value from 0 to n-1."
   ]
  },
  {
   "cell_type": "markdown",
   "id": "09dd6d7f",
   "metadata": {
    "id": "09dd6d7f"
   },
   "source": [
    "**Method #1: Creating  Dataframe from Lists**"
   ]
  },
  {
   "cell_type": "code",
   "execution_count": null,
   "id": "ef96c437",
   "metadata": {
    "id": "ef96c437"
   },
   "outputs": [],
   "source": [
    "data=[10,20,30,40,50,60]\n",
    "\n",
    "age=pd.DataFrame(data,columns=['Our Ages'])\n",
    "\n",
    "age"
   ]
  },
  {
   "cell_type": "markdown",
   "id": "f27e97d1",
   "metadata": {
    "id": "f27e97d1"
   },
   "source": [
    "**Method #2: Creating Pandas DataFrame from lists of lists**"
   ]
  },
  {
   "cell_type": "code",
   "execution_count": null,
   "id": "02fd9e4e",
   "metadata": {
    "id": "02fd9e4e"
   },
   "outputs": [],
   "source": [
    "data=[['tom',10],['nick',15],['juli',14],['kate']]\n",
    "\n",
    "ages2=pd.DataFrame(data,columns=['NAme','Age'])\n",
    "\n",
    "ages2"
   ]
  },
  {
   "cell_type": "markdown",
   "id": "b0a02dc1",
   "metadata": {
    "id": "b0a02dc1"
   },
   "source": [
    "**Method #3: Creating DataFrame from dict of narray/lists**\n",
    "\n",
    "To create DataFrame from dict of narray/list, all the narray must be of same length. If index is passed then the length index should be equal to the length of arrays. If no index is passed, then by default, index will be range(n) where n is the array length."
   ]
  },
  {
   "cell_type": "code",
   "execution_count": null,
   "id": "d1d2344e",
   "metadata": {
    "id": "d1d2344e"
   },
   "outputs": [],
   "source": [
    "# initialize data of lists.\n",
    "data = {'Name': ['Tom', 'nick', 'krish', 'jack'],\n",
    "        'Age': [20, 21, 19, 18]}\n",
    "  \n",
    "# Create DataFrame\n",
    "df = pd.DataFrame(data)\n",
    "  \n",
    "# Print the output.\n",
    "df"
   ]
  },
  {
   "cell_type": "markdown",
   "id": "6fda8696",
   "metadata": {
    "id": "6fda8696"
   },
   "source": [
    "**Method #4: Creating a DataFrame by proving index label explicitly**"
   ]
  },
  {
   "cell_type": "code",
   "execution_count": null,
   "id": "25f9d21c",
   "metadata": {
    "id": "25f9d21c"
   },
   "outputs": [],
   "source": [
    "# initialize data of lists.\n",
    "data = {'Name': ['Tom', 'Jack', 'nick', 'juli'],\n",
    "        'marks': [99, 98, 95, 90]}\n",
    "  \n",
    "# Creates pandas DataFrame.\n",
    "df = pd.DataFrame(data, index=['rank1',\n",
    "                               'rank2',\n",
    "                               'rank3',\n",
    "                               'rank4'])\n",
    "  \n",
    "# print the data\n",
    "df"
   ]
  },
  {
   "cell_type": "markdown",
   "id": "fe470047",
   "metadata": {
    "id": "fe470047"
   },
   "source": [
    "---\n",
    "\n",
    "<a name=\"read\"></a>\n",
    "\n",
    "## **5.2 Reading data**"
   ]
  },
  {
   "cell_type": "markdown",
   "id": "15e100f3",
   "metadata": {
    "id": "15e100f3"
   },
   "source": [
    "### Tip\n",
    "\n",
    "Before starting the analysis of a dataset create a folder that will serve as import/export location for the particular analysis. It will make your life easier."
   ]
  },
  {
   "cell_type": "markdown",
   "id": "4d472aa2",
   "metadata": {
    "id": "4d472aa2"
   },
   "source": [
    "You can import a file by using the function [`pd.read_[format]()`](https://pandas.pydata.org/docs/reference/api/pandas.read_csv.html). <br>\n",
    "The changes/processing you make on the data in the notebook are not saved in the original file. \n",
    "\n",
    "**pandas** can read data stored in any of the popular formats - CSV, TXT, XLS/XLSX (Excel), sas7bdat (SAS), Stata, Rdata (R) etc."
   ]
  },
  {
   "cell_type": "markdown",
   "id": "caa8084a",
   "metadata": {
    "id": "caa8084a"
   },
   "source": [
    "Let's import the data stored in *dataCon.csv*. To import a file you need to tell python where it is located (file path)."
   ]
  },
  {
   "cell_type": "code",
   "execution_count": null,
   "id": "9249ade2",
   "metadata": {
    "id": "9249ade2"
   },
   "outputs": [],
   "source": [
    "targ_dir=\"C:/Users/Artemis/Desktop/Neuroscience_SA_2022/\"\n",
    "\n",
    "df_Con=pd.read_csv(targ_dir+\"dataCon.csv\")\n",
    "\n",
    "df_Con"
   ]
  },
  {
   "cell_type": "markdown",
   "id": "2b277dbb",
   "metadata": {
    "id": "2b277dbb"
   },
   "source": [
    "What do you notice?"
   ]
  },
  {
   "cell_type": "markdown",
   "id": "e89cf09f",
   "metadata": {
    "id": "e89cf09f"
   },
   "source": [
    "If your raw data file has no headers (column names) you need to tell python that by adding `header = None` after you specify the file path."
   ]
  },
  {
   "cell_type": "code",
   "execution_count": null,
   "id": "c0607f3b",
   "metadata": {
    "id": "c0607f3b"
   },
   "outputs": [],
   "source": [
    "df_Con=pd.read_csv(targ_dir+\"dataCon_noheader.csv\",header=None)\n",
    "df_Con"
   ]
  },
  {
   "cell_type": "markdown",
   "id": "d7dde044",
   "metadata": {
    "id": "d7dde044"
   },
   "source": [
    "If there are no headers you can include column names by using `names=[\"here\",\"comes\",\"the\",\"name\"]`."
   ]
  },
  {
   "cell_type": "code",
   "execution_count": null,
   "id": "c01fcfe6",
   "metadata": {
    "id": "c01fcfe6"
   },
   "outputs": [],
   "source": [
    "df_Con=pd.read_csv(targ_dir+\"dataCon_noheader.csv\",names=[\"Experiment day\",\"Con1\",\"Con2\",\"Con3\",\"Con4\"])\n",
    "\n",
    "df_Con"
   ]
  },
  {
   "cell_type": "markdown",
   "id": "63826a49",
   "metadata": {
    "id": "63826a49"
   },
   "source": [
    "When processing very large files or figuring out the right set of arguments to correctly process a large file, you may want to read only a small piece of a file or iterate through smaller chunks of the file.\n",
    "\n",
    "By specifying `nrows=` and `usecols=[]`, you can fetch specified number of rows and columns. "
   ]
  },
  {
   "cell_type": "code",
   "execution_count": null,
   "id": "d35c0850",
   "metadata": {
    "id": "d35c0850"
   },
   "outputs": [],
   "source": [
    "pd.read_csv(targ_dir+\"dataCon.csv\",nrows=3,usecols=[0,1])"
   ]
  },
  {
   "cell_type": "markdown",
   "id": "338a64e3",
   "metadata": {
    "id": "338a64e3"
   },
   "source": [
    "Suppose you want to skip some rows and want to read data from a certain row on. You can do this with `skiprows=[number or rows to be skipped]`"
   ]
  },
  {
   "cell_type": "code",
   "execution_count": null,
   "id": "cfda1bef",
   "metadata": {
    "id": "cfda1bef"
   },
   "outputs": [],
   "source": [
    "pd.read_csv(targ_dir+\"dataCon.csv\",skiprows=[2,5,7])"
   ]
  },
  {
   "cell_type": "markdown",
   "id": "7a102417",
   "metadata": {
    "id": "7a102417"
   },
   "source": [
    "You can print the column names along with their Data types with `.dtypes`. This is really useful when you are handling big data files."
   ]
  },
  {
   "cell_type": "code",
   "execution_count": null,
   "id": "fa2f5ca2",
   "metadata": {
    "id": "fa2f5ca2"
   },
   "outputs": [],
   "source": [
    "df_Con=pd.read_csv(targ_dir+\"dataCon.csv\")\n",
    "\n",
    "df_Con.dtypes"
   ]
  },
  {
   "cell_type": "markdown",
   "id": "76bb0f44",
   "metadata": {
    "id": "76bb0f44"
   },
   "source": [
    "Use `.head()` and `.tail()` to view the top and bottom rows of the frame respectively."
   ]
  },
  {
   "cell_type": "code",
   "execution_count": null,
   "id": "43d69c56",
   "metadata": {
    "id": "43d69c56"
   },
   "outputs": [],
   "source": [
    "df_Con.tail()"
   ]
  },
  {
   "cell_type": "markdown",
   "id": "22ccf47b",
   "metadata": {
    "id": "22ccf47b"
   },
   "source": [
    "Display the row and column names with `.index` and `.columns` respectively."
   ]
  },
  {
   "cell_type": "code",
   "execution_count": null,
   "id": "61a53e22",
   "metadata": {
    "id": "61a53e22"
   },
   "outputs": [],
   "source": [
    "df_Con.index"
   ]
  },
  {
   "cell_type": "code",
   "execution_count": null,
   "id": "9e1c833b",
   "metadata": {
    "id": "9e1c833b"
   },
   "outputs": [],
   "source": [
    "df_Con.columns"
   ]
  },
  {
   "cell_type": "markdown",
   "id": "80dc8506",
   "metadata": {
    "id": "80dc8506"
   },
   "source": [
    "You can look at a quick statistic summary of your data with `.describe()`\n"
   ]
  },
  {
   "cell_type": "code",
   "execution_count": null,
   "id": "ee8df353",
   "metadata": {
    "id": "ee8df353"
   },
   "outputs": [],
   "source": [
    "df_Con.describe()"
   ]
  },
  {
   "cell_type": "markdown",
   "id": "35c440de",
   "metadata": {
    "id": "35c440de"
   },
   "source": [
    "You can break down your data based on labels with `.loc[]` by specifying the number of rows and columns it should display. "
   ]
  },
  {
   "cell_type": "code",
   "execution_count": null,
   "id": "6584393b",
   "metadata": {
    "id": "6584393b"
   },
   "outputs": [],
   "source": [
    "Con1=df_Con.loc[:,\"Con1\"]\n",
    "Con1"
   ]
  },
  {
   "cell_type": "markdown",
   "id": "5ae28e82",
   "metadata": {
    "id": "5ae28e82"
   },
   "source": [
    "To flip your data you can use `.transpose()`. This is important as some analysis methods might need the data in the transposed format."
   ]
  },
  {
   "cell_type": "code",
   "execution_count": null,
   "id": "e43161ec",
   "metadata": {
    "id": "e43161ec"
   },
   "outputs": [],
   "source": [
    "Con_tran=df_Con.transpose()\n",
    "Con_tran"
   ]
  },
  {
   "cell_type": "markdown",
   "id": "c8c34f10",
   "metadata": {
    "id": "c8c34f10"
   },
   "source": [
    "---\n",
    "\n",
    "<a name=\"clean\"></a>\n",
    "\n",
    "## **5.3 Data cleaning**"
   ]
  },
  {
   "cell_type": "markdown",
   "id": "9daa2f22",
   "metadata": {
    "id": "9daa2f22"
   },
   "source": [
    "During the course of doing data analysis and modeling, a significant amount of time is spent on data preparation: loading, cleaning, transforming, and rearranging. Such tasks are often reported to take up 80% or more of an analyst's time. Sometimes the way that data is stored in files or databases is not in the right format for a particular task. \n",
    "\n",
    "**pandas**, along with the built-in Python language features, provides you with a high-level, flexible, and fast set of tools to enable you to manipulate data into the right form."
   ]
  },
  {
   "cell_type": "markdown",
   "id": "aacf824f",
   "metadata": {
    "id": "aacf824f"
   },
   "source": [
    "<a name=\"miss\"></a>\n",
    "\n",
    "### Missing data"
   ]
  },
  {
   "cell_type": "markdown",
   "id": "1e8e81a9",
   "metadata": {
    "id": "1e8e81a9"
   },
   "source": [
    "Missing data, or missing values, occur when no data value is stored for the variable in an observation. Missing data are a common occurrence and can have a significant effect on the conclusions that can be drawn from the data.\n",
    "\n",
    "When using **pandas** all of the descriptive statistics on objects exclude missing data by default.\n",
    "\n",
    "For data with float64 dtype, **pandas** uses the floating-point value NaN (Not a Number) to represent missing data.\n",
    "We call this a sentinel value: when present, it indicates a missing (or null) value"
   ]
  },
  {
   "cell_type": "code",
   "execution_count": null,
   "id": "1b9b48e0",
   "metadata": {
    "id": "1b9b48e0"
   },
   "outputs": [],
   "source": [
    "df_Con"
   ]
  },
  {
   "cell_type": "markdown",
   "id": "8f9144b7",
   "metadata": {
    "id": "8f9144b7"
   },
   "source": [
    "Missing data reduces the representativeness of the sample and can therefore distort inferences about the population.Generally speaking, there are three main approaches to handle missing data: (1) Imputation—where values are filled in the place of missing data, (2) omission—where samples with invalid data are discarded from further analysis and (3) analysis—by directly applying methods unaffected by the missing values. \n",
    "\n",
    "`.dropna()` can be helpful to filter out missing data. On a dataframe, it returns the dataframe with only the nonnull data and index values. "
   ]
  },
  {
   "cell_type": "code",
   "execution_count": null,
   "id": "86b13d67",
   "metadata": {
    "id": "86b13d67"
   },
   "outputs": [],
   "source": [
    "df_Con.dropna()"
   ]
  },
  {
   "cell_type": "markdown",
   "id": "af861002",
   "metadata": {
    "id": "af861002"
   },
   "source": [
    "By passing the argument `how=\"all\"` you can drop only rows that are all NaN."
   ]
  },
  {
   "cell_type": "code",
   "execution_count": null,
   "id": "c29fb800",
   "metadata": {
    "id": "c29fb800"
   },
   "outputs": [],
   "source": [
    "df_Con.dropna(how=\"all\")"
   ]
  },
  {
   "cell_type": "markdown",
   "id": "d5600def",
   "metadata": {
    "id": "d5600def"
   },
   "source": [
    "To drop columns in the same way, you can pass `axis=\"columns\"`."
   ]
  },
  {
   "cell_type": "code",
   "execution_count": null,
   "id": "905d8472",
   "metadata": {
    "id": "905d8472"
   },
   "outputs": [],
   "source": [
    "df_Con['Con5']=np.nan\n",
    "df_Con"
   ]
  },
  {
   "cell_type": "code",
   "execution_count": null,
   "id": "e42a965b",
   "metadata": {
    "id": "e42a965b"
   },
   "outputs": [],
   "source": [
    "df_Con=df_Con.dropna(axis=\"columns\",how='all')\n",
    "df_Con"
   ]
  },
  {
   "cell_type": "markdown",
   "id": "487f27c4",
   "metadata": {
    "id": "487f27c4"
   },
   "source": [
    "Suppose you want to keep only rows containing at most a certain number of missing observations. You can indicate this with the `thresh` argument."
   ]
  },
  {
   "cell_type": "code",
   "execution_count": null,
   "id": "66f53a97",
   "metadata": {
    "id": "66f53a97"
   },
   "outputs": [],
   "source": [
    "df_Con.dropna(thresh=4)"
   ]
  },
  {
   "cell_type": "markdown",
   "id": "9f1ecf7d",
   "metadata": {
    "id": "9f1ecf7d"
   },
   "source": [
    "Rather than filtering out missing data (and potentially discarding other data along with it), you may want to fill in the “holes” in any number of ways. To do so you can use the function `.fillna()` either by passing a constant as an argument or by using the median or mean statistics."
   ]
  },
  {
   "cell_type": "code",
   "execution_count": null,
   "id": "a56db452",
   "metadata": {
    "id": "a56db452"
   },
   "outputs": [],
   "source": [
    "df_Con.fillna(0)"
   ]
  },
  {
   "cell_type": "markdown",
   "id": "d3d882b6",
   "metadata": {
    "id": "d3d882b6"
   },
   "source": [
    "<a name=\"dup\"></a>\n",
    "\n",
    "### Duplicates"
   ]
  },
  {
   "cell_type": "markdown",
   "id": "9e7748e9",
   "metadata": {
    "id": "9e7748e9"
   },
   "source": [
    "Duplicate rows may be found in a DataFrame for any number of reasons.\n",
    "\n",
    "The DataFrame method `.duplicated()` returns a Boolean Series indicating whether each row is a duplicate (its column values are exactly equal to those in an earlier row) or not"
   ]
  },
  {
   "cell_type": "code",
   "execution_count": null,
   "id": "6bb3eb3c",
   "metadata": {
    "id": "6bb3eb3c"
   },
   "outputs": [],
   "source": [
    "data = pd.DataFrame({\"k1\": [\"one\", \"two\",] * 3 + [\"two\"],\"k2\": [1, 1, 2, 3, 3, 4, 4,]})\n",
    "data"
   ]
  },
  {
   "cell_type": "markdown",
   "id": "db44e559",
   "metadata": {
    "id": "db44e559"
   },
   "source": [
    "`.drop_duplicates()` returns a DataFrame with rows where the duplicated array filtered out."
   ]
  },
  {
   "cell_type": "code",
   "execution_count": null,
   "id": "f884b53c",
   "metadata": {
    "id": "f884b53c"
   },
   "outputs": [],
   "source": [
    "data.duplicated()"
   ]
  },
  {
   "cell_type": "code",
   "execution_count": null,
   "id": "4335af25",
   "metadata": {
    "id": "4335af25"
   },
   "outputs": [],
   "source": [
    "data.drop_duplicates(keep='last')"
   ]
  },
  {
   "cell_type": "markdown",
   "id": "8f1ea6c4",
   "metadata": {
    "id": "8f1ea6c4"
   },
   "source": [
    "`.duplicated()` and `.drop_duplicates()` by default keep the first observed value combination. Passing `keep=\"last\"` will return the last one."
   ]
  },
  {
   "cell_type": "markdown",
   "id": "7f9de9c6",
   "metadata": {
    "id": "7f9de9c6"
   },
   "source": [
    "<a name=\"replace\"></a>\n",
    "\n",
    "### Replacing data"
   ]
  },
  {
   "cell_type": "markdown",
   "id": "e6b168b9",
   "metadata": {
    "id": "e6b168b9"
   },
   "source": [
    "pandas `.map()` function is used to substitute each value in a Series with another value, that may be derived from a function, a dict or a Series. Since DataFrame columns are series, you can use `.map()` to update the column and assign it back to the DataFrame."
   ]
  },
  {
   "cell_type": "code",
   "execution_count": null,
   "id": "82d89a5f",
   "metadata": {
    "id": "82d89a5f"
   },
   "outputs": [],
   "source": [
    "data=pd.DataFrame({\"x\":[34,54,23,45,76]})\n",
    "data"
   ]
  },
  {
   "cell_type": "code",
   "execution_count": null,
   "id": "51837b14",
   "metadata": {
    "id": "51837b14"
   },
   "outputs": [],
   "source": [
    "def log(x):\n",
    "    return np.log(x)\n",
    "\n",
    "data[\"x\"].map(log)"
   ]
  },
  {
   "cell_type": "markdown",
   "id": "29fb2c01",
   "metadata": {
    "id": "29fb2c01"
   },
   "source": [
    "Filling in missing data with the `fillna` method is a special case of more general value replacement. As you've already seen, `map` can be used to modify a subset of values in an object, but `.replace()` provides a simpler and more flexible way to do so."
   ]
  },
  {
   "cell_type": "code",
   "execution_count": null,
   "id": "e32ec6c9",
   "metadata": {
    "id": "e32ec6c9"
   },
   "outputs": [],
   "source": [
    "data = pd.Series([1., -999., 2., -999., -1000., 3.])\n",
    "data"
   ]
  },
  {
   "cell_type": "markdown",
   "id": "045cf799",
   "metadata": {
    "id": "045cf799"
   },
   "source": [
    "The -999 values might be sentinel values for missing data. To replace these with NA values, we can use `.replace()`, producing a new Series."
   ]
  },
  {
   "cell_type": "code",
   "execution_count": null,
   "id": "ce446fca",
   "metadata": {
    "id": "ce446fca"
   },
   "outputs": [],
   "source": [
    "data.replace(-999, np.nan)\n"
   ]
  },
  {
   "cell_type": "markdown",
   "id": "4df8c4ef",
   "metadata": {
    "id": "4df8c4ef"
   },
   "source": [
    "---\n",
    "\n",
    "<a name=\"wrang\"></a>\n",
    "\n",
    "## **5.4 Data Wrangling**"
   ]
  },
  {
   "cell_type": "markdown",
   "id": "64206626",
   "metadata": {
    "id": "64206626"
   },
   "source": [
    "Data may be spread across a number of files or databases, or be arranged in a form that is not convenient to analyze. \n",
    "\n",
    "Data contained in pandas objects can be combined in a number of ways:\n",
    "\n",
    "**`pandas.merge` :**\n",
    "Connect rows in DataFrames based on one or more keys. \n",
    "\n",
    "**`pandas.concat`:**\n",
    "Concatenate or \"stack\" objects together along an axis.\n",
    "\n",
    "**`combine_first`:**\n",
    "Splice together overlapping data to fill in missing values in one object with values from another."
   ]
  },
  {
   "cell_type": "markdown",
   "id": "5a5a9331",
   "metadata": {
    "id": "5a5a9331"
   },
   "source": [
    "Let's see some examples.<br>\n",
    "**`pandas.merge`**"
   ]
  },
  {
   "cell_type": "code",
   "execution_count": null,
   "id": "3e0da2b5",
   "metadata": {
    "id": "3e0da2b5"
   },
   "outputs": [],
   "source": [
    "df1 = pd.DataFrame({\"key\": [\"b\", \"b\", \"a\", \"c\", \"a\", \"a\", \"b\"],\"data1\": pd.Series(range(7), dtype=\"Int64\")})\n",
    "\n",
    "df2 = pd.DataFrame({\"key\": [\"a\", \"b\", \"d\"],\"data2\": pd.Series(range(3), dtype=\"Int64\")})"
   ]
  },
  {
   "cell_type": "code",
   "execution_count": null,
   "id": "f9cc0373",
   "metadata": {
    "id": "f9cc0373"
   },
   "outputs": [],
   "source": [
    "df1"
   ]
  },
  {
   "cell_type": "code",
   "execution_count": null,
   "id": "d26fb981",
   "metadata": {
    "id": "d26fb981"
   },
   "outputs": [],
   "source": [
    "df2"
   ]
  },
  {
   "cell_type": "code",
   "execution_count": null,
   "id": "04d11474",
   "metadata": {
    "id": "04d11474"
   },
   "outputs": [],
   "source": [
    "pd.merge(df1, df2)"
   ]
  },
  {
   "cell_type": "markdown",
   "id": "aaf8af06",
   "metadata": {
    "id": "aaf8af06"
   },
   "source": [
    "Note that I didn’t specify which column to join on. If that information is not specified, `pandas.merge` uses the overlapping column names as the keys. It’s a good practice to specify explicitly, though:"
   ]
  },
  {
   "cell_type": "code",
   "execution_count": null,
   "id": "4a3b84dd",
   "metadata": {
    "id": "4a3b84dd"
   },
   "outputs": [],
   "source": [
    "pd.merge(df1, df2, on=\"key\")"
   ]
  },
  {
   "cell_type": "markdown",
   "id": "a8f5a8bb",
   "metadata": {
    "id": "a8f5a8bb"
   },
   "source": [
    "You may notice that the \"c\" and \"d\" values and associated data are missing from the result. By default, `pandas.merge` does an \"inner\" join; the keys in the result are the intersection, or the common set found in both tables. "
   ]
  },
  {
   "cell_type": "code",
   "execution_count": null,
   "id": "3ddfd002",
   "metadata": {
    "id": "3ddfd002"
   },
   "outputs": [],
   "source": [
    "pd.merge(df1, df2, how=\"outer\")"
   ]
  },
  {
   "cell_type": "markdown",
   "id": "3cb8367f",
   "metadata": {
    "id": "3cb8367f"
   },
   "source": [
    "**`pandas.concat`**"
   ]
  },
  {
   "cell_type": "code",
   "execution_count": null,
   "id": "298f693d",
   "metadata": {
    "id": "298f693d"
   },
   "outputs": [],
   "source": [
    "s1 = pd.Series([0, 1], index=[\"a\", \"b\"], dtype=\"Int64\")\n",
    "\n",
    "s2 = pd.Series([2, 3, 4], index=[\"c\", \"d\", \"e\"], dtype=\"Int64\")\n",
    "\n",
    "s3 = pd.Series([5, 6], index=[\"f\", \"g\"], dtype=\"Int64\")"
   ]
  },
  {
   "cell_type": "code",
   "execution_count": null,
   "id": "810b7d41",
   "metadata": {
    "id": "810b7d41"
   },
   "outputs": [],
   "source": [
    "s1"
   ]
  },
  {
   "cell_type": "code",
   "execution_count": null,
   "id": "1456105c",
   "metadata": {
    "id": "1456105c"
   },
   "outputs": [],
   "source": [
    "s2"
   ]
  },
  {
   "cell_type": "code",
   "execution_count": null,
   "id": "69838c2b",
   "metadata": {
    "id": "69838c2b"
   },
   "outputs": [],
   "source": [
    "s3"
   ]
  },
  {
   "cell_type": "code",
   "execution_count": null,
   "id": "6b986f6a",
   "metadata": {
    "id": "6b986f6a"
   },
   "outputs": [],
   "source": [
    "pd.concat([s1,s2,s3])"
   ]
  },
  {
   "cell_type": "markdown",
   "id": "6b8c38c7",
   "metadata": {
    "id": "6b8c38c7"
   },
   "source": [
    "By default, `pandas.concat` works along axis=\"index\", producing another Series. If you pass axis=\"columns\", the result will instead be a DataFrame:"
   ]
  },
  {
   "cell_type": "code",
   "execution_count": null,
   "id": "348c12b0",
   "metadata": {
    "id": "348c12b0"
   },
   "outputs": [],
   "source": [
    "pd.concat([s1, s2, s3], axis=\"columns\")"
   ]
  },
  {
   "cell_type": "markdown",
   "id": "3657eb6f",
   "metadata": {
    "id": "3657eb6f"
   },
   "source": [
    "**`combine.first`**\n",
    "There is another data combination situation that can’t be expressed as either a merge or concatenation operation. You may have two datasets with indexes that overlap in full or in part."
   ]
  },
  {
   "cell_type": "code",
   "execution_count": null,
   "id": "1482c4a8",
   "metadata": {
    "id": "1482c4a8"
   },
   "outputs": [],
   "source": [
    "a = pd.Series([np.nan, 2.5, 0.0, 3.5, 4.5, np.nan],index=[\"f\", \"e\", \"d\", \"c\", \"b\", \"a\"])\n",
    "\n",
    "b = pd.Series([0., np.nan, 2., np.nan, np.nan, 5.],index=[\"a\", \"b\", \"c\", \"d\", \"e\", \"f\"])"
   ]
  },
  {
   "cell_type": "code",
   "execution_count": null,
   "id": "dd62e5f0",
   "metadata": {
    "id": "dd62e5f0"
   },
   "outputs": [],
   "source": [
    "a"
   ]
  },
  {
   "cell_type": "code",
   "execution_count": null,
   "id": "3b4aecff",
   "metadata": {
    "id": "3b4aecff"
   },
   "outputs": [],
   "source": [
    "b"
   ]
  },
  {
   "cell_type": "code",
   "execution_count": null,
   "id": "0c79e2ce",
   "metadata": {
    "id": "0c79e2ce"
   },
   "outputs": [],
   "source": [
    "a.combine_first(b)"
   ]
  },
  {
   "cell_type": "markdown",
   "id": "147d4ece",
   "metadata": {
    "id": "147d4ece"
   },
   "source": [
    "With DataFrames,`combine_first` does the same thing column by column, so you can think of it as “patching” missing data in the calling object with data from the object you pass:"
   ]
  },
  {
   "cell_type": "code",
   "execution_count": null,
   "id": "34cf7c44",
   "metadata": {
    "id": "34cf7c44"
   },
   "outputs": [],
   "source": [
    "df1 = pd.DataFrame({\"a\": [1., np.nan, 5., np.nan],\"b\": [np.nan, 2., np.nan, 6.],\"c\": range(2, 18, 4)})\n",
    "\n",
    "df2 = pd.DataFrame({\"a\": [5., 4., np.nan, 3., 7.],\"b\": [np.nan, 3., 4., 6., 8.]})"
   ]
  },
  {
   "cell_type": "code",
   "execution_count": null,
   "id": "82dc6e63",
   "metadata": {
    "id": "82dc6e63"
   },
   "outputs": [],
   "source": [
    "df1"
   ]
  },
  {
   "cell_type": "code",
   "execution_count": null,
   "id": "c50311d7",
   "metadata": {
    "id": "c50311d7"
   },
   "outputs": [],
   "source": [
    "df2"
   ]
  },
  {
   "cell_type": "code",
   "execution_count": null,
   "id": "4ec77c01",
   "metadata": {
    "id": "4ec77c01"
   },
   "outputs": [],
   "source": [
    "df1.combine_first(df2)"
   ]
  },
  {
   "cell_type": "markdown",
   "id": "f6ccaf23",
   "metadata": {
    "id": "f6ccaf23"
   },
   "source": [
    "---\n",
    "\n",
    "<a name=\"expo\"></a>\n",
    "\n",
    "## **5.5 Exporting data**"
   ]
  },
  {
   "cell_type": "markdown",
   "id": "bb5e0b10",
   "metadata": {
    "id": "bb5e0b10"
   },
   "source": [
    "You can export your data to a file by using the function [`pd.DataFrame.to_[format]()`](https://pandas.pydata.org/docs/reference/api/pandas.DataFrame.to_csv.html). <br>\n",
    "\n",
    "\n",
    "pandas can store data in any of the popular formats - CSV, TXT, XLS/XLSX (Excel), sas7bdat (SAS), Stata, Rdata (R) etc."
   ]
  },
  {
   "cell_type": "markdown",
   "id": "0a886809",
   "metadata": {
    "id": "0a886809"
   },
   "source": [
    "Let's create the complete dataset by merging the two files \"dataCon\" and \"dataMut\"."
   ]
  },
  {
   "cell_type": "code",
   "execution_count": null,
   "id": "9dfa1269",
   "metadata": {
    "hide_input": false,
    "id": "9dfa1269"
   },
   "outputs": [],
   "source": [
    "import pandas as pd\n",
    "targ_dir = \"C:/Users/Artemis/Desktop/Neuroscience_SA_2022/\"\n",
    "\n",
    "df_Con=pd.read_csv(targ_dir+\"dataCon.csv\")\n",
    "df_Mut=pd.read_csv(targ_dir+\"dataMut.csv\")\n",
    "\n",
    "df_whole=pd.merge(df_Con,df_Mut, on=\"Experiment day\")\n",
    "df_whole"
   ]
  },
  {
   "cell_type": "markdown",
   "id": "f2ce0b33",
   "metadata": {
    "id": "f2ce0b33"
   },
   "source": [
    "Let's export the dataframe we created above as a .csv file."
   ]
  },
  {
   "cell_type": "code",
   "execution_count": null,
   "id": "15604e45",
   "metadata": {
    "id": "15604e45"
   },
   "outputs": [],
   "source": [
    "df_whole.to_csv(targ_dir+\"whole_data.csv\")"
   ]
  },
  {
   "cell_type": "code",
   "execution_count": null,
   "id": "5bc15817",
   "metadata": {
    "id": "5bc15817"
   },
   "outputs": [],
   "source": [
    "df1 = pd.DataFrame({\"key\": [\"b\", \"b\", \"a\", \"c\", \"a\", \"a\", \"b\"],\"data1\": pd.Series(range(7), dtype=\"Int64\")})\n",
    "\n",
    "df2 = pd.DataFrame({\"key\": [\"a\", \"b\", \"d\"],\"data2\": pd.Series(range(3), dtype=\"Int64\")})"
   ]
  },
  {
   "cell_type": "markdown",
   "id": "jdz6lsgu4pnb",
   "metadata": {
    "id": "jdz6lsgu4pnb"
   },
   "source": [
    "---\n",
    "**Content Creator: Artemis Koumoundourou - artemis@trendinafrica.org**\n",
    "\n",
    "This notebook includes modified parts/was inspired from:\n",
    "\n",
    "\n",
    "* TReND Python course 2022 by Burak Gur and Crane Chen\n",
    "* \"Python for Data Analysis, 3rd Edition\" by Wes McKinney\n",
    "\n"
   ]
  },
  {
   "cell_type": "code",
   "execution_count": null,
   "id": "XH8dbtdZ-3lS",
   "metadata": {
    "id": "XH8dbtdZ-3lS"
   },
   "outputs": [],
   "source": []
  }
 ],
 "metadata": {
  "colab": {
   "provenance": []
  },
  "kernelspec": {
   "display_name": "Python 3 (ipykernel)",
   "language": "python",
   "name": "python3"
  },
  "language_info": {
   "codemirror_mode": {
    "name": "ipython",
    "version": 3
   },
   "file_extension": ".py",
   "mimetype": "text/x-python",
   "name": "python",
   "nbconvert_exporter": "python",
   "pygments_lexer": "ipython3",
   "version": "3.9.12"
  }
 },
 "nbformat": 4,
 "nbformat_minor": 5
}
