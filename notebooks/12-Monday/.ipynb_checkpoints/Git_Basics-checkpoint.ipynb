{
 "cells": [
  {
   "cell_type": "markdown",
   "metadata": {
    "id": "RFl7zdhDAans"
   },
   "source": [
    "<a target=\"_blank\" href=\"https://colab.research.google.com/github/trendinafrica/Comp_Neuro-ML_course/blob/main/notebooks/12-Monday/Git_Basics.ipynb\">\n",
    "  <img src=\"https://colab.research.google.com/assets/colab-badge.svg\" alt=\"Open In Colab\"/>\n",
    "</a>\n",
    "\n",
    "<img align=\"left\" width=\"300\" src=\"https://drive.google.com/uc?id=1xhBJo9KKicDMw6HuOCZiRclX5DJb2g_J\">\n",
    "\n",
    "# **GitHub Basics**\n",
    "# TReND Course in Computational neuroscience and machine learning basics\n",
    "\n"
   ]
  },
  {
   "cell_type": "markdown",
   "metadata": {
    "id": "mqx0qM0aBonh"
   },
   "source": [
    "---\n",
    "# **Learning objectives**:\n",
    "* Understanding why GitHub is useful, in different contexts.\n",
    "* Understanding basic git concepts such as creating repositories, commiting, cloning, branches, merging\n",
    "* Using the GitHub Desktop \n",
    "* Being able to clone or fork a repository from GitHub\n",
    "\n",
    "\n"
   ]
  },
  {
   "cell_type": "markdown",
   "metadata": {
    "id": "b38llSDi8fW-"
   },
   "source": [
    "# **Content:**\n",
    "1. [What is GitHub](#what)\n",
    "2. [Using GitHub alone](#git-alone)\n",
    "  1. [Repositories](#repo)\n",
    "  2. [Commits](#commits)\n",
    "  3. [Branches](#branches)\n",
    "  4. [Merging](#merging)\n",
    "  5. [GitHub Desktop](#desktop)\n",
    "  6. [Cloning](#cloning)\n",
    "  7. [Pushing](#push)\n",
    "  8. [Pulling](#pull)\n",
    "3. [Using GitHub to use/collaborate on someone else's code/package](#git-copy)\n",
    "  1. [Forking](#fork)\n",
    "4. [Key concepts so far](#key)\n"
   ]
  },
  {
   "cell_type": "markdown",
   "metadata": {
    "id": "4ZyibRT5FpQ_"
   },
   "source": [
    "# What is GitHub? <a name=\"what\"></a>\n",
    "\n",
    "### Question for all: \n",
    "- Who has ever heard GitHub?\n",
    "- Who is using GitHub actively?\n",
    "- What is GitHub and why do you use it? From simple and broad reasons to more detailed once."
   ]
  },
  {
   "cell_type": "markdown",
   "metadata": {
    "id": "stxtgRwEEOm5"
   },
   "source": [
    "---\n",
    "# Using GitHub alone (version control and code sharing) <a name=\"git-alone\"></a>\n",
    "\n",
    "\n",
    "### Question time: Who codes alone? How do you keep track of your code?\n",
    "\n",
    "\n"
   ]
  },
  {
   "cell_type": "markdown",
   "metadata": {
    "id": "Q0I4HRM8Fgqg"
   },
   "source": [
    "GitHub is a platform to **version control** your code."
   ]
  },
  {
   "cell_type": "markdown",
   "metadata": {
    "id": "gdBamiUZHB2a"
   },
   "source": [
    "## **Repositories**: Projects in GitHub. <a name=\"repo\"></a>\n",
    "\n",
    "- Material in GitHub are organized into projects which are called ```repositories```\n",
    "\n",
    "- Repositories have **names**\n",
    "- They have also **descriptions** (like a Readme file)\n",
    "- Can be **public** or **private**"
   ]
  },
  {
   "cell_type": "markdown",
   "metadata": {
    "id": "CGHTI6HEHol_"
   },
   "source": [
    "Let's create a repository in GitHub!\n",
    "- Go to https://github.com/, log in with your account.\n",
    "- Create a repository by clicking the ```+``` on the upper right and selecting \"New repository\".\n",
    "- Tick the \"Add a README file\" box to add a README."
   ]
  },
  {
   "cell_type": "markdown",
   "metadata": {
    "id": "VWxGkiejK4wX"
   },
   "source": [
    "## **Commits**: Updating your project while tracking the progress. <a name=\"commits\"></a>\n",
    "\n",
    "- ```Commit``` enables you to save the changes in a project.\n",
    "  \n",
    "  When you update something in your project (add a file, change some text or code within a file, deleting a file) a ```commit``` enables you to save your changes.\n",
    "\n",
    "- Each commit has an associated ```commit message```\n",
    "  *   You'll write these. A good commit message should describe **why** something is done.\n",
    "  * Important for you to understand why you did a certain change. Also if you're collaborating, your collaborators will have easier time to figure out why a change was made.\n",
    "\n",
    "\n"
   ]
  },
  {
   "cell_type": "markdown",
   "metadata": {
    "id": "6gajALBQMkyI"
   },
   "source": [
    "Let's make our first commit. \n",
    "- Go to your repository and change the Readme file.\n",
    "- Commit the changes with a commit message."
   ]
  },
  {
   "cell_type": "markdown",
   "metadata": {
    "id": "z0NywiaBHuE_"
   },
   "source": [
    "\n",
    "## **Branches**: You can have different versions of the same project. <a name=\"branches\"></a>"
   ]
  },
  {
   "cell_type": "markdown",
   "metadata": {
    "id": "87sfUHIxJFsL"
   },
   "source": [
    "Branches are parallel versions of code that are under the same project. But why would we have parallel versions of our code?\n",
    "\n",
    "Confusing? Let's think of how a car is built.\n",
    "\n",
    "\n",
    "- Branches are very useful to **create/develop features** in a programming project.\n",
    "\n",
    "- Branches are useful to **develop and test stuff** without changing your main code.\n",
    "\n"
   ]
  },
  {
   "cell_type": "markdown",
   "metadata": {
    "id": "fTYlAwoSNJDh"
   },
   "source": [
    "You can name branches as you wish (for a car: engine, lights, etc.).\n",
    "\n",
    "Your main code is created in a default branch called ```main``` (previously called ```master```). Check it out! "
   ]
  },
  {
   "cell_type": "markdown",
   "metadata": {
    "id": "CdY0Aepm9C7n"
   },
   "source": [
    "### Create a new branch\n",
    "1. Go to your repository\n",
    "2. Select the branch button on upper left (it will be showing ```main```)\n",
    "3. Create a new branch called ```new feature```\n",
    "4. Change back to ```main``` branch"
   ]
  },
  {
   "cell_type": "markdown",
   "metadata": {
    "id": "vgImq92mOOpe"
   },
   "source": [
    "## **Merging**: Integrating the features or developed material from branches. <a name=\"merging\"></a>\n",
    "\n",
    "Now time to make some changes on our new ```new feature``` branch and integrate these changes to our ```main``` branch.\n",
    "\n",
    "1. Make sure you're on the ```new feature``` branch\n",
    "2. Make some changes in the README file and commit them to the ```new feature``` branch\n",
    "3. Go to ```pull requests```\n",
    "4. You'll see that it informs you that you made some changes on the ```new feature``` branch and asks if you want to compare and pull request. Click on that.\n",
    "5. Create the pull request\n",
    "6. Merge\n",
    "7. Delete your ```new feature``` branch since we're done with our feature.\n"
   ]
  },
  {
   "cell_type": "markdown",
   "metadata": {
    "id": "U0CCsJTvzKhT"
   },
   "source": [
    "## **GitHub Desktop**: Using GitHub on your local machine <a name=\"desktop\"></a>\n",
    "\n",
    "So far our repository is on Github and not directly on our local machine. \n",
    "\n",
    "---\n",
    "### ```local``` vs ```remote``` repositories\n",
    "- Repositories that are on Github or hosted anywhere on a server (mostly in Internet) are called ```remote``` repositories. \n",
    "- ```remote``` repositories have URLs which indicate where they're stored.\n",
    "\n",
    "Repositories that are on your local machine are called ```local``` repositories.\n",
    "\n",
    "---\n",
    "\n"
   ]
  },
  {
   "cell_type": "markdown",
   "metadata": {
    "id": "QPC0zZljWvY0"
   },
   "source": [
    "There are several ways of using GitHub on your local machine, most common ways are:\n",
    "- Using the terminal\n",
    "- Using the GUI (GitHub Desktop)\n",
    "\n",
    "We'll use the GUI to make it simple.\n",
    "\n",
    "1. Download GitHub Desktop: https://desktop.github.com/\n",
    "2. Log in"
   ]
  },
  {
   "cell_type": "markdown",
   "metadata": {
    "id": "OBHDjp2Wxozz"
   },
   "source": [
    "<a name=\"cloning\"></a>\n",
    "## **Cloning**: Copying a ```remote``` repository from GitHub to your local machine to directly work on the original ```remote``` repository. \n",
    "\n",
    "Cloning is simply copying any public (or accesible) ```remote``` repository from Github. It can be your own repository or one of your collaborator's. \n",
    "\n",
    "- After cloning you're working on the original repository **directly**. The changes you'll be making will directly affect it.\n",
    "\n",
    "\n",
    "\n"
   ]
  },
  {
   "cell_type": "markdown",
   "metadata": {
    "id": "6E7Xvo4tRKJ8"
   },
   "source": [
    "**Cloning your own repositories:**\n",
    "- You bought a new machine? You can just copy your repository from remote to local machine using the cloning option. Since it is yours, you can then just keep on managing your repository in your new computer.\n",
    "\n",
    "**Cloning your collaborator's repositories:**\n",
    "- You'll start a collaboration on a project and your collaborator already created a Github repository? Just clone the ```remote``` repository and start working on your project on your local machine.\n"
   ]
  },
  {
   "cell_type": "markdown",
   "metadata": {
    "id": "TuKVZ10h6_1P"
   },
   "source": [
    "Let's clone our new repository from \n",
    "\n",
    "1. Go to the repository you just created in Github\n",
    "2. To clone, go to the green code button and click on \"Open with GitHub Desktop\"\n",
    "3. Choose a local path for it and clone"
   ]
  },
  {
   "cell_type": "markdown",
   "metadata": {
    "id": "1cGt5TzOXyKp"
   },
   "source": [
    "### Bonus: Creating a repository using existing code in your local machine.\n",
    "Let's say you have your code on your local machine, you already structured it in a folder and now want to use GitHub.\n",
    "\n",
    "1. ```Create a repository``` for the existing code using GitHub Desktop\n",
    "2. ```publish``` the repository to your GitHub account to create a ```remote``` of your repository.\n",
    "\n",
    "After doing this, your collaborators (or anyone using Github if your repository is public) can access your code."
   ]
  },
  {
   "cell_type": "markdown",
   "metadata": {
    "id": "kHFKoDu-3aDg"
   },
   "source": [
    "## **Pushing**: updating your ```remote``` repository from your ```local``` repository <a name=\"push\"></a>\n",
    "\n",
    "1. Open your repository in your local machine\n",
    "2. Make a change and ```commit``` in local machine using GitHub Desktop\n",
    "3. ```push``` the repository to the ```remote```\n",
    "\n"
   ]
  },
  {
   "cell_type": "markdown",
   "metadata": {
    "id": "r7eDvibX6O2D"
   },
   "source": [
    "## **Pulling**: updating the ```local``` repository from the ```remote``` <a name=\"pull\"></a>\n",
    "\n",
    "\n",
    "1. Go to github.com and open the previous repository that you just pushed from ```local```\n",
    "2. Make a change and ```commit``` there\n",
    "3. Go to the GitHub Desktop in local machine and ```pull``` the repository from the GitHub server\n",
    "\n"
   ]
  },
  {
   "cell_type": "markdown",
   "metadata": {
    "id": "AWXTa2SCEcbM"
   },
   "source": [
    "# Using GitHub to use/collaborate on someone else's code/package <a name=\"git-copy\"></a>\n",
    "\n",
    "GitHub is a great way of **working together on coding projects**."
   ]
  },
  {
   "cell_type": "markdown",
   "metadata": {
    "id": "6QSJRxX0QWJC"
   },
   "source": [
    "## Forking: A way for working on repositories without changing the original repository <a name=\"fork\"></a>\n",
    "\n",
    "A ```fork``` is a copy of a repository and it is independent of the original repository (root):\n",
    "- You can play with the repository without affecting the original repository.\n",
    "- Good way of working on repositories that you otherwise don't have access to. For example if you want to develop NumPy:\n",
    "  1. Go to the NumPy repository (https://github.com/numpy/numpy.git)\n",
    "  2. Fork it (https://github.com/your-username/numpy.git)\n",
    "  3. Clone it to your local machine\n",
    "  4. Work on NumPy and change however you want\n"
   ]
  },
  {
   "cell_type": "markdown",
   "metadata": {
    "id": "BMplkaV-eu22"
   },
   "source": [
    "### Collaboration using forking: pull requests and merging.\n",
    "\n",
    "After you work on your forked repository and found new cool ways to improve the original package you can ask for the owners of the original repository to integrate your changes:\n",
    "\n",
    "- ```fork``` a repository\n",
    "- Update the code, develop new cool features. \n",
    "- Create a ```pull request``` to merge your changes with the original repository.\n",
    "- if the owners find it suitable, they'll approve your ```pull request``` and your changes will be merged into the original repository."
   ]
  },
  {
   "cell_type": "markdown",
   "metadata": {
    "id": "Cq0mr0czIKUl"
   },
   "source": [
    "# GitHub key concepts so far: <a name=\"key\"></a>\n",
    "\n",
    "| Concept | Description |\n",
    "| ----------- | ----------- |\n",
    "| ```repository``` | A single project in GitHub.|\n",
    "| ```commit``` | A saved change in your project timeline. | \n",
    "| ```branch``` | A parallel version of your project. | \n",
    "| ```main``` | The default branch name of the main version of your project. | \n",
    "| ```merge``` | Merging one branch onto another by comparing changes.| \n",
    "| ```pull request``` | Request for merging the changes you did in a branch onto another branch (this includes merging branches in a forked repository onto the original repository) |\n",
    "| ```local``` | A repository that exists on your local machine.|\n",
    "| ```remote``` | A repository that is hosted on a server (like GitHub servers).|\n",
    "| ```push``` | Update your ```remote``` repository using the ```local``` repository| \n",
    "| ```pull``` | Update your ```local``` repository using the ```remote``` repository on Github servers | \n",
    "| ```clone``` | Copy a repository directly to your local machine from a ```remote```. Changes will affect the original remote repository.| \n",
    "| ```fork``` | Make a remote copy of an original repository (like a duplication). Then if you make changes, it will only affect the copied repository (fork) meaning that it will NOT affect the original remote repository.| "
   ]
  }
 ],
 "metadata": {
  "colab": {
   "provenance": [],
   "toc_visible": true
  },
  "kernelspec": {
   "display_name": "Python 3 (ipykernel)",
   "language": "python",
   "name": "python3"
  },
  "language_info": {
   "codemirror_mode": {
    "name": "ipython",
    "version": 3
   },
   "file_extension": ".py",
   "mimetype": "text/x-python",
   "name": "python",
   "nbconvert_exporter": "python",
   "pygments_lexer": "ipython3",
   "version": "3.9.12"
  }
 },
 "nbformat": 4,
 "nbformat_minor": 1
}
