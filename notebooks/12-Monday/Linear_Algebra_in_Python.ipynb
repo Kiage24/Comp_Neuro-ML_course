{
 "cells": [
  {
   "cell_type": "markdown",
   "metadata": {
    "id": "k02gg8z5Uk0v"
   },
   "source": [
    "<img align=\"left\" width=\"300\" src=\"https://drive.google.com/uc?id=1xhBJo9KKicDMw6HuOCZiRclX5DJb2g_J\">\n",
    "\n",
    "# **Linear Algebra in Python**\n",
    "# TReND Course in Computational neuroscience and machine learning basics\n",
    "\n",
    "\n"
   ]
  },
  {
   "cell_type": "markdown",
   "metadata": {
    "id": "G2-w9JhXVUtF"
   },
   "source": [
    "---\n",
    "## **Learning objectives**:\n",
    "* Getting a sense of some of the basic linear algebra concepts like vectors, matrices and their simple properties and operations \n",
    "* Using the Python package NumPy, being able to implement the basic linear algebra operations\n",
    "\n",
    "## **Content:**\n",
    "1. [Why learn linear algebra?](#why)\n",
    "2. [Vectors in Python](#vectors)\n",
    "3. [Matrices in Python](#matrices)\n",
    "4. [Resources](#resources)\n"
   ]
  },
  {
   "cell_type": "markdown",
   "metadata": {
    "id": "qWdm046r42TL"
   },
   "source": [
    "---\n",
    "#**Section 1.** Why learn linear algebra? <a name=\"why\"></a>\n",
    "\n",
    "Linear algebra is a powerful tool that is **used in many fields**:\n",
    "- Maths, physics\n",
    "- **Machine learning**\n",
    "- **Neurosciences**\n",
    "- Biology \n",
    "- Medicine\n",
    "- Chemistry\n",
    "- Economics\n",
    "- Engineering\n",
    "- ...\n",
    "\n",
    "\n",
    "Linear algebra **enables us to work with data**.\n",
    "- Data analysis (representation, operations, ...) including high dimensional data\n",
    "- Solving systems of linear equations\n",
    "- Optimization\n",
    "\n"
   ]
  },
  {
   "cell_type": "markdown",
   "metadata": {
    "id": "WPukBJLTDQZP"
   },
   "source": [
    "---\n",
    "# **Section 2. Vectors in Python** <a name=\"vectors\"></a>\n",
    "Vector is one of the most fundamental object of linear algebra.\n",
    "\n"
   ]
  },
  {
   "cell_type": "markdown",
   "metadata": {
    "id": "Zq0ZCxWnK7G4"
   },
   "source": [
    "A very general definition: \n",
    "**Vectors are ordered lists of numbers.** But how does this relate with data?\n",
    "\n",
    "Example: We measured the heights of 3 people (in centimeters), and recorded the following numbers: 158, 175, 190. We can represent this data in a vector:\n",
    "\n",
    "$\\mathbf{heights} = \\begin{bmatrix} 158 \\\\ 175 \\\\ 190 \\end{bmatrix}$"
   ]
  },
  {
   "cell_type": "markdown",
   "metadata": {
    "id": "nqPTM9aG20KT"
   },
   "source": [
    "**Vectors can also be viewed from a geometric perspective:**\n",
    "\n",
    "- Arrows starting from the origin at a coordinate system.\n",
    "- The ordered set of numbers define where the arrow is pointing at.\n"
   ]
  },
  {
   "cell_type": "markdown",
   "metadata": {
    "id": "qfkkCpSs68MW"
   },
   "source": [
    "Let's visualize a vector of our choice geometrically:\n",
    "\n",
    "$\\mathbf{vector} = \\begin{bmatrix} x_1 \\\\ x_2 \\end{bmatrix}$\n",
    "\n",
    "Change $x_1$ and $x_2$ and see how the arrow changes:"
   ]
  },
  {
   "cell_type": "code",
   "execution_count": null,
   "metadata": {
    "cellView": "form",
    "colab": {
     "base_uri": "https://localhost:8080/",
     "height": 534,
     "referenced_widgets": [
      "a2a0c2a44c8b43dc8b5201a92905e4ae",
      "ddb79f357b8b4f22aa6b01f4182a0af5",
      "436c5af8e6df4dac850906ce8b444e68",
      "b2914850acf443e6a5af42bbb3a88e1a",
      "83878f54965e4fa0aa7fdb222e82d349",
      "082d5bc19c954d4c85b8130079cb1b22",
      "569417677fde4efea8c8797de9aa09e6",
      "7230cc4fe97245d7ba296dfd95843c30",
      "bd782d7e49ce4d48839eba8c3cac9809",
      "d9027d7695e34dbdbde6dd053a2c23f5"
     ]
    },
    "id": "fyBUDGzW37o9",
    "outputId": "05a9ab73-c7bf-43fc-c1b5-5b2f8e60edb5"
   },
   "outputs": [
    {
     "data": {
      "application/vnd.jupyter.widget-view+json": {
       "model_id": "a2a0c2a44c8b43dc8b5201a92905e4ae",
       "version_major": 2,
       "version_minor": 0
      },
      "text/plain": [
       "interactive(children=(FloatSlider(value=1.0, description='x1', max=10.0, min=-10.0, step=0.5), FloatSlider(val…"
      ]
     },
     "metadata": {},
     "output_type": "display_data"
    }
   ],
   "source": [
    "#@title Run this for visualizing our vector.\n",
    "import numpy as np\n",
    "import matplotlib.pyplot as plt\n",
    "import ipywidgets as widgets  # interactive display\n",
    "from ipywidgets import fixed\n",
    "%config InlineBackend.figure_format = 'retina'\n",
    "\n",
    "def plot_arrow(x):\n",
    "  fig, ax = plt.subplots(figsize=(5, 5))\n",
    "\n",
    "  origin = np.array([0, 0]) # origin point\n",
    "\n",
    "  plt.quiver(*origin, x[0], x[1], color='k',scale=20)\n",
    "  plt.xlim([-10,10])\n",
    "  plt.ylim([-10,10])\n",
    "  plt.xlabel('$x_1$')\n",
    "  plt.ylabel('$x_2$')\n",
    "\n",
    "\n",
    "  plt.show()\n",
    "\n",
    "@widgets.interact(x1 = widgets.FloatSlider(value=1.0, min=-10, max=10, step=0.5), x2 = widgets.FloatSlider(value=1.0, min=-10, max=10, step=0.5))\n",
    "def plot_linear_combination(x1, x2):\n",
    "  x = np.array([x1, x2])\n",
    "  plot_arrow(x)\n",
    "\n"
   ]
  },
  {
   "cell_type": "markdown",
   "metadata": {
    "id": "B6ZqLk7SLu7z"
   },
   "source": [
    "### 2.1 Our first vector\n",
    "\n",
    "To work with vectors in Python, we'll use the package **NumPy**.\n",
    "\n",
    "Before using NumPy in our code, we need to import it:"
   ]
  },
  {
   "cell_type": "code",
   "execution_count": null,
   "metadata": {
    "id": "Hey7sGJ4TjnV"
   },
   "outputs": [],
   "source": [
    "# Import the required package\n"
   ]
  },
  {
   "cell_type": "code",
   "execution_count": null,
   "metadata": {
    "cellView": "form",
    "id": "Jld_6RumOBUp"
   },
   "outputs": [],
   "source": [
    "#@title Double click here for the solution\n",
    "import numpy as np"
   ]
  },
  {
   "cell_type": "markdown",
   "metadata": {
    "id": "6pl1qL3VMV5w"
   },
   "source": [
    "Now that we imported numpy let's create the following vector:\n",
    "\n",
    "$\\mathbf{x} = \\begin{bmatrix} 3 \\\\ 5 \\\\ 2 \\end{bmatrix}$\n",
    "\n",
    "- In NumPy vectors are represented as **arrays**:\n",
    "\n",
    "```x = np.array([3,5,2])```\n",
    "\n"
   ]
  },
  {
   "cell_type": "markdown",
   "metadata": {
    "id": "9-TxQoq4Q-M3"
   },
   "source": [
    "create the following vector using NumPy:\n",
    "\n",
    "$\\mathbf{x} = \\begin{bmatrix} 1 \\\\ 2 \\\\ 2 \\\\ 4 \\end{bmatrix}$"
   ]
  },
  {
   "cell_type": "code",
   "execution_count": null,
   "metadata": {
    "id": "BmgjICduMTyu"
   },
   "outputs": [],
   "source": [
    "# Your answer goes here"
   ]
  },
  {
   "cell_type": "code",
   "execution_count": null,
   "metadata": {
    "cellView": "form",
    "id": "quo2BtbrRJM4"
   },
   "outputs": [],
   "source": [
    "#@title Double click here for the solution\n",
    "x = np.array([1,2,2,4])"
   ]
  },
  {
   "cell_type": "markdown",
   "metadata": {
    "id": "O9e4EvoxSjEC"
   },
   "source": [
    "You just created your first vector using NumPy, congrats!"
   ]
  },
  {
   "cell_type": "markdown",
   "metadata": {
    "id": "EbP8b3oWRuDg"
   },
   "source": [
    "### 2.2 Simple properties of a vector\n",
    "\n",
    "As data have different properties, we can check our vector's properties to get a sense of our data. "
   ]
  },
  {
   "cell_type": "markdown",
   "metadata": {
    "id": "lxvlsPsNS7-t"
   },
   "source": [
    "#### Dimensionality\n",
    "\n",
    "The dimensions of a vector reflects **the number of elements in the vector**. \n",
    "\n",
    "What does this mean in terms of our data?? Let's figure it out:"
   ]
  },
  {
   "cell_type": "markdown",
   "metadata": {
    "id": "0RmL15nzUoJb"
   },
   "source": [
    "We have two datasets:\n",
    "- ```heights```: we measured the heights of people walking on the street and put it inside a vector. \n",
    "- ```spikes```: we measured the activities of different neurons (spikes) in the brain of a mouse and put it inside a vector.\n",
    "\n",
    "but we forgot how many people and neurons we measured..."
   ]
  },
  {
   "cell_type": "code",
   "execution_count": null,
   "metadata": {
    "id": "8l2KTXnsS_9M"
   },
   "outputs": [],
   "source": [
    "#@title run this first to generate data\n",
    "heights = np.random.randint(120,200,150)\n",
    "spikes = np.random.randint(0,50,2000)"
   ]
  },
  {
   "cell_type": "markdown",
   "metadata": {
    "id": "mbmkSeUKTUWG"
   },
   "source": [
    "We can check the dimension of our vector $\\mathbf{x} = \\begin{bmatrix} 1 \\\\ 2 \\\\ 2 \\\\ 4 \\end{bmatrix}$ in the following way:\n",
    "\n",
    "```x.shape```"
   ]
  },
  {
   "cell_type": "code",
   "execution_count": null,
   "metadata": {
    "colab": {
     "base_uri": "https://localhost:8080/"
    },
    "id": "GnWWe3b3Vn3V",
    "outputId": "b0e1e72b-365f-4538-fca2-a49142d805d0"
   },
   "outputs": [
    {
     "data": {
      "text/plain": [
       "(4,)"
      ]
     },
     "execution_count": 8,
     "metadata": {},
     "output_type": "execute_result"
    }
   ],
   "source": [
    "x = np.array([1,2,2,4])\n",
    "x.shape"
   ]
  },
  {
   "cell_type": "markdown",
   "metadata": {
    "id": "Sz2GivY2WEhY"
   },
   "source": [
    "**Your turn:** Find out how many people and neurons were measured. Our data is in the vectors named ```heights``` and ```spikes```."
   ]
  },
  {
   "cell_type": "code",
   "execution_count": null,
   "metadata": {
    "id": "h9cwzDOrWM7Z"
   },
   "outputs": [],
   "source": [
    "# Your answer goes here"
   ]
  },
  {
   "cell_type": "code",
   "execution_count": null,
   "metadata": {
    "id": "hGc-FWT2Txqf"
   },
   "outputs": [],
   "source": [
    "#@title Double click here for the solution\n",
    "n_people = heights.shape\n",
    "n_neurons = spikes.shape"
   ]
  },
  {
   "cell_type": "markdown",
   "metadata": {
    "id": "FcQOLV_acC3u"
   },
   "source": [
    "#### Length (norm) of a vector\n",
    "\n",
    "Measuring the length of a vector is important to know in linear algebra. Length is also called the **norm** of a vector. \n",
    "\n",
    "There are several ways of computing the length of a vector, the **Euclidiean norm** (a.k.a. $L_2$ norm) is a common way in machine learning or comp. neuro. applications:\n",
    "\n",
    "\\begin{equation}\n",
    "||\\mathbf{x}|| = \\sqrt{\\sum_{i=1}^N \\mathbf{x}_i^2}\n",
    "\\end{equation}\n",
    "\n",
    "\n"
   ]
  },
  {
   "cell_type": "markdown",
   "metadata": {
    "id": "22UxtpiNycFC"
   },
   "source": [
    "In Python, we can compute the norm using:\n",
    "\n",
    "```np.linalg.norm()```"
   ]
  },
  {
   "cell_type": "markdown",
   "metadata": {
    "id": "Q9uHery0ymnS"
   },
   "source": [
    "Compute the L2 norm of $\\mathbf{x} = \\begin{bmatrix}  2 \\\\ 4 \\end{bmatrix}$"
   ]
  },
  {
   "cell_type": "code",
   "execution_count": null,
   "metadata": {
    "id": "RigtspIvzLce"
   },
   "outputs": [],
   "source": [
    "# Your answer goes here"
   ]
  },
  {
   "cell_type": "code",
   "execution_count": null,
   "metadata": {
    "cellView": "form",
    "id": "rBiFT-x_zLY8"
   },
   "outputs": [],
   "source": [
    "#@title Double click here for the solution\n",
    "x=np.array([2,4])\n",
    "np.linalg.norm(x)"
   ]
  },
  {
   "cell_type": "markdown",
   "metadata": {
    "id": "vYOjCY7PzkoQ"
   },
   "source": [
    "**Tip:** you can calculate different norms of the vectors by providing a different second argument to the ```np.linalg.norm()``` function:\n",
    "\n",
    "- **Euclediean** $L_2$ norm: ```np.linalg.norm(x,2)```\n",
    "- **Manhattan** $L_1$ norm: ```np.linalg.norm(x,1)```\n",
    "- **Infinity** norm: ```np.linalg.norm(x, np.inf)```\n",
    "\n",
    "as you may have noticed in the exercise above, the default behavior of ```np.linalg.norm()``` (default: if we don't give any second argument) is the Euclediean $L_2$ norm."
   ]
  },
  {
   "cell_type": "markdown",
   "metadata": {
    "id": "HD14ca78YASk"
   },
   "source": [
    "### 2.3 Simple operations with vectors\n",
    "\n",
    "We can do many operations using vectors, that's one of the powerful aspects of using linear algebra. Some simple ones include:\n",
    "- Vector-vector addition\n",
    "- Vector-scalar multiplication\n",
    "- Vector-vector multiplication (dot product)\n"
   ]
  },
  {
   "cell_type": "markdown",
   "metadata": {
    "id": "xRbyNBPdaokE"
   },
   "source": [
    "#### Vector-vector addition\n",
    "\n",
    "Like we do it with numbers, we can also add vectors to other vectors. Here we are adding the pairs of elements of each vector and creating a new vector with the sum in the corresponding location. So if we add vector $\\mathbf{x}$ to vector $\\mathbf{y}$:\n",
    "\n",
    " $$\\mathbf{x} + \\mathbf{y} = \\begin{bmatrix}\n",
    "           \\mathbf{x}_{1} + \\mathbf{y}_1 \\\\ \\mathbf{x}_{2} + \\mathbf{y}_2\\\\ \\vdots \\\\ \\mathbf{x}_{N} + \\mathbf{y}_N \n",
    "\\end{bmatrix}$$"
   ]
  },
  {
   "cell_type": "markdown",
   "metadata": {
    "id": "7wCf3_D4bYHi"
   },
   "source": [
    "Let's do this in python. We simply use ```+``` to add vectors.\n",
    "\n",
    "Add the following vector $\\mathbf{x} = \\begin{bmatrix} 1 \\\\ 2 \\\\ 2 \\\\ 4 \\end{bmatrix}$ to this $\\mathbf{y} = \\begin{bmatrix} 5 \\\\ 2 \\\\ 3 \\\\ 1 \\end{bmatrix}$ and assign the result to a new vector $\\mathbf{z}$."
   ]
  },
  {
   "cell_type": "code",
   "execution_count": null,
   "metadata": {
    "id": "DYf6BQjXbku8"
   },
   "outputs": [],
   "source": [
    "# Your answer goes here"
   ]
  },
  {
   "cell_type": "code",
   "execution_count": null,
   "metadata": {
    "cellView": "form",
    "id": "hYBOJwDbbkBs"
   },
   "outputs": [],
   "source": [
    "#@title Double click here for the solution\n",
    "x = np.array([1,2,2,4])\n",
    "y = np.array([5,2,3,1])\n",
    "z = x + y\n",
    "print(z)"
   ]
  },
  {
   "cell_type": "markdown",
   "metadata": {
    "id": "uOhZgPJ7ZFFb"
   },
   "source": [
    "#### Vector-scalar multiplication\n",
    "Multiplying a vector with a scalar leads to each of the vector's elements being multiplied individually with the scalar.\n",
    "\n",
    "So if we multiply the vector $\\mathbf{x}$ with the scalar $a$:\n",
    "$$ a\\mathbf{x} = \\begin{bmatrix}\n",
    "    a\\mathbf{x}_1 \\\\ a\\mathbf{x}_2 \\\\ \\vdots \\\\ a\\mathbf{x}_N\n",
    "\\end{bmatrix}$$"
   ]
  },
  {
   "cell_type": "markdown",
   "metadata": {
    "id": "H5uiw5goZzCX"
   },
   "source": [
    "Let's do this in python. We simply use ```*``` to multiply a scalar with a vector.\n",
    "\n",
    "Multiply the following vector $\\mathbf{x} = \\begin{bmatrix} 1 \\\\ 2 \\\\ 2 \\\\ 4 \\end{bmatrix}$ with the scalar $5$ and assign it to a new vector named $\\mathbf{y}$."
   ]
  },
  {
   "cell_type": "code",
   "execution_count": null,
   "metadata": {
    "id": "o5p6SwP7ZYRw"
   },
   "outputs": [],
   "source": [
    "# Your answer goes here"
   ]
  },
  {
   "cell_type": "code",
   "execution_count": null,
   "metadata": {
    "id": "4_btE3uzaJlM"
   },
   "outputs": [],
   "source": [
    "#@title Double click here for the solution\n",
    "x = np.array([1,2,2,4])\n",
    "y = x*5\n",
    "print(y)"
   ]
  },
  {
   "cell_type": "markdown",
   "metadata": {
    "id": "1Sa1ZuUXpODn"
   },
   "source": [
    "#### Linear combination of vectors\n",
    "\n",
    "When we apply scalar multiplication and vector addition to several vectors, we get a **linear combination**.\n",
    "\n",
    "$$\\mathbf{u} = c_1\\mathbf{v}^1 + c_2\\mathbf{v}^2 + ... + c_n\\mathbf{v}^N $$.\n",
    "\n",
    "Linear combinations are fundamental in linear algebra and used in every aspect of linear algebra."
   ]
  },
  {
   "cell_type": "markdown",
   "metadata": {
    "id": "S_oUOZf1odNS"
   },
   "source": [
    "#### Vector-vector multiplication: the dot product\n",
    "\n",
    "Dot product is a way of multiplying vectors which consists of computing the element-wise multiplication and summing the results. We ultimately get a scalar value.\n",
    "\n",
    "Let's do the dot product of $\\mathbf{x} = \\begin{bmatrix}5\\\\ 1\\\\\\end{bmatrix}$ and $\\mathbf{y} = \\begin{bmatrix}3\\\\ 2\\\\\\end{bmatrix}$, then:\n",
    "\n",
    "\\begin{equation}\n",
    "\\mathbf{x} \\cdot \\mathbf{y} = 5*3 + 1*2 = 16\\text{.}\n",
    "\\end{equation}\n",
    "\n"
   ]
  },
  {
   "cell_type": "markdown",
   "metadata": {
    "id": "51s6pjBStjTB"
   },
   "source": [
    "In Python we use the following notation to compute the dot product:\n",
    "- ```np.dot(x,y)``` \n",
    "- or alternatively and shortly: ```x@y```"
   ]
  },
  {
   "cell_type": "markdown",
   "metadata": {
    "id": "S8ACRoGMsjkO"
   },
   "source": [
    "Let's use dot product to compute my groceries bill:\n",
    "\n",
    "I stored the costs of each item here:\n",
    "```item_costs```\n",
    "\n",
    "and stored the number of products I bought from each item:\n",
    "```n_items```\n"
   ]
  },
  {
   "cell_type": "code",
   "execution_count": null,
   "metadata": {
    "cellView": "form",
    "id": "dY0JWUlIsyke"
   },
   "outputs": [],
   "source": [
    "#@title run this first to generate data\n",
    "item_costs = np.array([100,65,44.5,32,85,67])\n",
    "n_items = np.array([1,5,2,3,8,6])"
   ]
  },
  {
   "cell_type": "code",
   "execution_count": null,
   "metadata": {
    "id": "kokh9NBBuBnP"
   },
   "outputs": [],
   "source": [
    "#Your answer here"
   ]
  },
  {
   "cell_type": "code",
   "execution_count": null,
   "metadata": {
    "cellView": "form",
    "id": "aUt6rJMhuG5N"
   },
   "outputs": [],
   "source": [
    "#@title Double click here for the solution\n",
    "\n",
    "# using np.dot\n",
    "print(np.dot(item_costs,n_items))\n",
    "# using @\n",
    "print(item_costs@n_items)"
   ]
  },
  {
   "cell_type": "markdown",
   "metadata": {
    "id": "x4FVzTcac7gz"
   },
   "source": [
    "---\n",
    "# Section 3. Matrices in Python <a name=\"matrices\"></a>\n",
    "\n",
    "In vectors we represented a single variable with many instances (heights of people, cost of items, spikes of neurons etc.). \n",
    "\n",
    "With matrices, we can represent many instances of multiple variables.\n",
    "\n",
    "This means **matrices are ordered collection of vectors**:\n",
    "\n",
    "$\\mathbf{v_1} = \\begin{bmatrix} 158 \\\\ 175 \\\\ 190 \\end{bmatrix}$: vector representing heights of 3 people.\n",
    "\n",
    "$\\mathbf{v_2} = \\begin{bmatrix} 30 \\\\ 22 \\\\ 48 \\end{bmatrix}$: vector representing age of these 3 people.\n",
    "\n",
    "We can represent our data by putting these vectors together in a matrix:\n",
    "\n",
    "\\begin{equation}M = \n",
    "\\begin{bmatrix}\n",
    "158 & 30 \\\\\n",
    "175 & 22 \\\\\n",
    "190 & 48\n",
    "\\end{bmatrix}\n",
    "\\end{equation}\n",
    "\n",
    "\n",
    "$M$ is a **3x2 matrix**. A generalized way of writing is $m$ x $n$ where $m$ is the number of columns and $n$ is the number of rows."
   ]
  },
  {
   "cell_type": "markdown",
   "metadata": {
    "id": "MPySctod9wpB"
   },
   "source": [
    "## Matrix representation"
   ]
  },
  {
   "cell_type": "markdown",
   "metadata": {
    "id": "aBrrQIHsHHx6"
   },
   "source": [
    "Please create the above matrix in Python:"
   ]
  },
  {
   "cell_type": "code",
   "execution_count": null,
   "metadata": {
    "id": "qSxa1Do9HNpZ"
   },
   "outputs": [],
   "source": [
    "#Your code goes here"
   ]
  },
  {
   "cell_type": "code",
   "execution_count": null,
   "metadata": {
    "cellView": "form",
    "id": "-T5rUDWpHOCc"
   },
   "outputs": [],
   "source": [
    "#@title Double-click here for the solution\n",
    "M = np.array([[158, 30],  # 1st row\n",
    "              [175, 22],\n",
    "              [190, 48]]) # 2nd row\n",
    "print(M)"
   ]
  },
  {
   "cell_type": "markdown",
   "metadata": {
    "id": "H8AMeswwHiak"
   },
   "source": [
    "What are the dimensions of M:"
   ]
  },
  {
   "cell_type": "code",
   "execution_count": null,
   "metadata": {
    "id": "R-lGxdlZHkhV"
   },
   "outputs": [],
   "source": [
    "#Your code goes here"
   ]
  },
  {
   "cell_type": "code",
   "execution_count": null,
   "metadata": {
    "cellView": "form",
    "id": "HwrUgCdBHkrf"
   },
   "outputs": [],
   "source": [
    "#@title Double-click here for the solution\n",
    "print(M.shape)"
   ]
  },
  {
   "cell_type": "markdown",
   "metadata": {
    "id": "-lXO0rHm91pt"
   },
   "source": [
    "## Simple matrix operations"
   ]
  },
  {
   "cell_type": "markdown",
   "metadata": {
    "id": "RuJkCS6gHzaL"
   },
   "source": [
    "### Matrix-matrix addition\n",
    "Similar to the vector-vector addition, we can add two matrices in an element-wise fashion in two ways. Given two matrices $A$ and $B$:\n",
    "- using ```A + B``` \n",
    "- using ```np.add(A,B)``` \n",
    "\n",
    "Let's see an example:\n",
    "\n",
    "\\begin{equation}A = \n",
    "\\begin{bmatrix}\n",
    "1 & 2 \\\\\n",
    "3 & 4 \n",
    "\\end{bmatrix} B = \n",
    "\\begin{bmatrix}\n",
    "2 & 1 \\\\\n",
    "-5 & 0 \n",
    "\\end{bmatrix}\n",
    "\\end{equation}\n",
    "\n",
    "\n",
    "\\begin{equation}\n",
    "A+B=\n",
    "\\begin{bmatrix}\n",
    "1+2 & 2+1 \\\\\n",
    "3+(-5) & 0+4 \n",
    "\\end{bmatrix}\n",
    "=\n",
    "\\begin{bmatrix}\n",
    "3 & 3 \\\\\n",
    "-2 & 4 \n",
    "\\end{bmatrix}\n",
    "\\end{equation}"
   ]
  },
  {
   "cell_type": "code",
   "execution_count": null,
   "metadata": {
    "id": "5JtwyJeMIdgl"
   },
   "outputs": [],
   "source": [
    "# Define the matrices\n",
    "A = np.array([[1,2],\n",
    "              [3,4]])\n",
    "B = np.array([[2,1],\n",
    "              [-5,0]])"
   ]
  },
  {
   "cell_type": "code",
   "execution_count": null,
   "metadata": {
    "colab": {
     "base_uri": "https://localhost:8080/"
    },
    "id": "4Ir_Nn8qIpDp",
    "outputId": "f1ff877d-1b73-461d-e2f3-427d4ddecbfc"
   },
   "outputs": [
    {
     "data": {
      "text/plain": [
       "array([[ 3,  3],\n",
       "       [-2,  4]])"
      ]
     },
     "execution_count": 6,
     "metadata": {},
     "output_type": "execute_result"
    }
   ],
   "source": [
    "A+B"
   ]
  },
  {
   "cell_type": "code",
   "execution_count": null,
   "metadata": {
    "colab": {
     "base_uri": "https://localhost:8080/"
    },
    "id": "gvRrPj3dIp1J",
    "outputId": "daf1cac1-a739-4c45-d350-f46b784423d1"
   },
   "outputs": [
    {
     "data": {
      "text/plain": [
       "array([[ 3,  3],\n",
       "       [-2,  4]])"
      ]
     },
     "execution_count": 7,
     "metadata": {},
     "output_type": "execute_result"
    }
   ],
   "source": [
    "np.add(A,B)"
   ]
  },
  {
   "cell_type": "markdown",
   "metadata": {
    "id": "_V6wUbEDJivH"
   },
   "source": [
    "### Matrix-scalar multiplication\n",
    "\n",
    "Same as vector-scalar multiplication, we can do an element-wise multiplication. We can multiply the above matrix $A$ with a scalar $k$:\n",
    "\n",
    "\\begin{equation}kA = \n",
    "\\begin{bmatrix}\n",
    "1 x k & 2 x k \\\\\n",
    "3 x k & 4 x k \n",
    "\\end{bmatrix}\n",
    "\\end{equation}\n",
    "\n",
    "This can be done in Python:\n",
    "- using ```k * A``` \n",
    "- using ```np.multiply(k,A)``` \n"
   ]
  },
  {
   "cell_type": "markdown",
   "metadata": {
    "id": "lhvAyPK1Kn8k"
   },
   "source": [
    "Let's say $k=2$:"
   ]
  },
  {
   "cell_type": "code",
   "execution_count": null,
   "metadata": {
    "colab": {
     "base_uri": "https://localhost:8080/"
    },
    "id": "b2D7bX6PKVYi",
    "outputId": "1cf7b770-e928-46c7-cc65-2fee7ae98d13"
   },
   "outputs": [
    {
     "data": {
      "text/plain": [
       "array([[2, 4],\n",
       "       [6, 8]])"
      ]
     },
     "execution_count": 8,
     "metadata": {},
     "output_type": "execute_result"
    }
   ],
   "source": [
    "k = 2\n",
    "k * A"
   ]
  },
  {
   "cell_type": "code",
   "execution_count": null,
   "metadata": {
    "colab": {
     "base_uri": "https://localhost:8080/"
    },
    "id": "tXxu_LHJKl2I",
    "outputId": "d10fae66-7b39-44be-9912-181363077c07"
   },
   "outputs": [
    {
     "data": {
      "text/plain": [
       "array([[2, 4],\n",
       "       [6, 8]])"
      ]
     },
     "execution_count": 9,
     "metadata": {},
     "output_type": "execute_result"
    }
   ],
   "source": [
    "k = 2\n",
    "np.multiply(k,A)"
   ]
  },
  {
   "cell_type": "markdown",
   "metadata": {
    "id": "4c4m9zp895DC"
   },
   "source": [
    "## Matrix multiplication"
   ]
  },
  {
   "cell_type": "markdown",
   "metadata": {
    "id": "tEkAKuJC97Do"
   },
   "source": [
    "### Matrix-vector multiplication\n",
    "We can multiply matrix with a vector or matrix with another matrix again using the dot product operator in Python. If we have a matrix $A$ and a vector $x$:\n",
    "\n",
    "\\begin{equation}A = \n",
    "\\begin{bmatrix}\n",
    "1 & 2 \\\\\n",
    "3 & 4 \n",
    "\\end{bmatrix} x = \n",
    "\\begin{bmatrix}\n",
    "2 \\\\ 1 \\\\\n",
    "\\end{bmatrix}\n",
    "\\end{equation}\n",
    "\n",
    "\n",
    "\n",
    "\\begin{equation}\n",
    "A  \\cdot x= 2 \\begin{bmatrix} 1 \\\\ 3 \\end{bmatrix} + 1 \\begin{bmatrix} 2 \\\\ 4  \\end{bmatrix} = \\begin{bmatrix} 4 \\\\ 10 \\end{bmatrix}\n",
    "\\end{equation}\n",
    "\n",
    "\n",
    "- ```np.dot(A,X)``` \n",
    "- or alternatively and shortly: ```A@X```"
   ]
  },
  {
   "cell_type": "code",
   "execution_count": null,
   "metadata": {
    "id": "0CEn1_7uOugM"
   },
   "outputs": [],
   "source": [
    "# Define the matrices\n",
    "A = np.array([[1,2],\n",
    "              [3,4]])\n",
    "x = np.array([2,1])\n"
   ]
  },
  {
   "cell_type": "code",
   "execution_count": null,
   "metadata": {
    "colab": {
     "base_uri": "https://localhost:8080/"
    },
    "id": "oWFKMEPlOzfO",
    "outputId": "17b11ac9-beba-423d-9570-7793b355ae66"
   },
   "outputs": [
    {
     "data": {
      "text/plain": [
       "array([ 4, 10])"
      ]
     },
     "execution_count": 11,
     "metadata": {},
     "output_type": "execute_result"
    }
   ],
   "source": [
    "np.dot(A,x)"
   ]
  },
  {
   "cell_type": "code",
   "execution_count": null,
   "metadata": {
    "colab": {
     "base_uri": "https://localhost:8080/"
    },
    "id": "ZZ_YmLEhc_le",
    "outputId": "c93fee82-d8d5-47cb-dc13-c72a908ae16d"
   },
   "outputs": [
    {
     "data": {
      "text/plain": [
       "array([ 4, 10])"
      ]
     },
     "execution_count": 12,
     "metadata": {},
     "output_type": "execute_result"
    }
   ],
   "source": [
    "A@x"
   ]
  },
  {
   "cell_type": "markdown",
   "metadata": {
    "id": "jpqkSTtuPiUr"
   },
   "source": [
    "### Matrix-matrix multiplication: dot product"
   ]
  },
  {
   "cell_type": "markdown",
   "metadata": {
    "id": "E4O8VCLYPqAq"
   },
   "source": [
    "We can also use the dot product to multiply two matrices. Given matrices $A$ and $B$ to perform a dot product we need:\n",
    "- \\# of columns in A must be equal to # of rows in B."
   ]
  },
  {
   "cell_type": "code",
   "execution_count": null,
   "metadata": {
    "id": "fQt61YyhPkAi"
   },
   "outputs": [],
   "source": [
    "# Define the matrices\n",
    "A = np.array([[1,2],\n",
    "              [3,4]])\n",
    "B = np.array([[2,1],\n",
    "              [-5,0]])"
   ]
  },
  {
   "cell_type": "code",
   "execution_count": null,
   "metadata": {
    "colab": {
     "base_uri": "https://localhost:8080/"
    },
    "id": "Pq-pm4X_QfEF",
    "outputId": "1f0824a7-8c4e-4164-bffe-4255798a39a3"
   },
   "outputs": [
    {
     "data": {
      "text/plain": [
       "array([[ -8,   1],\n",
       "       [-14,   3]])"
      ]
     },
     "execution_count": 14,
     "metadata": {},
     "output_type": "execute_result"
    }
   ],
   "source": [
    "np.dot(A,B)"
   ]
  },
  {
   "cell_type": "code",
   "execution_count": null,
   "metadata": {
    "colab": {
     "base_uri": "https://localhost:8080/"
    },
    "id": "bZhU0jkDQfGr",
    "outputId": "e8ef1e0a-771f-444f-df17-c406a53f9a60"
   },
   "outputs": [
    {
     "data": {
      "text/plain": [
       "array([[ -8,   1],\n",
       "       [-14,   3]])"
      ]
     },
     "execution_count": 15,
     "metadata": {},
     "output_type": "execute_result"
    }
   ],
   "source": [
    "A@B"
   ]
  },
  {
   "cell_type": "markdown",
   "metadata": {
    "id": "KR26N-5wRH6v"
   },
   "source": [
    "**Be careful:** Dot product is not an element-wise multiplication of the matrices! To do an element-wise multiplication of $A$ and $B$ (a.k.a. the Hadamard product denoted by $A⊙B$) we use ```np.multiply(A,B)``` or ```A*B```."
   ]
  },
  {
   "cell_type": "markdown",
   "metadata": {
    "id": "uYiFniF1Qo-o"
   },
   "source": [
    "## Other important matrix properties"
   ]
  },
  {
   "cell_type": "markdown",
   "metadata": {
    "id": "gph-zDIeQ4Yy"
   },
   "source": [
    "### Transpose of a matrix\n",
    "\n",
    "Transposing a matrix is a common operation in linear algebra. It is switching the columns by the rows.\n",
    "\n",
    "\\begin{equation}A = \n",
    "\\begin{bmatrix}\n",
    "1 & 2 \\\\\n",
    "3 & 4 \\\\\n",
    "5 & 6\n",
    "\\end{bmatrix} A^T = \n",
    "\\begin{bmatrix}\n",
    "1 & 3 & 5\\\\\n",
    "2 & 4 & 6 \n",
    "\\end{bmatrix}\n",
    "\\end{equation}\n",
    "\n",
    "In python we transpose a matrix $A$ by:\n",
    "- ```A.T```\n",
    "- ```np.transpose(A)```"
   ]
  },
  {
   "cell_type": "markdown",
   "metadata": {
    "id": "VjSnqOEwdk2q"
   },
   "source": [
    "### Diagonal matrices\n",
    "\n",
    "A square matrix is called ***diagonal*** when all non-diagonal elements are equal to zero.\n",
    "\n",
    "\\begin{equation}A = \n",
    "\\begin{bmatrix}\n",
    "4 & 0 & 0\\\\\n",
    "0 & 3 & 0\\\\\n",
    "0 & 0 & 1\n",
    "\\end{bmatrix}\n",
    "\\end{equation}\n",
    "\n",
    "In Python we can get the diagonal elements of a diagonal matrix using ```np.diag(A)```"
   ]
  },
  {
   "cell_type": "code",
   "execution_count": null,
   "metadata": {
    "colab": {
     "base_uri": "https://localhost:8080/"
    },
    "id": "xQlQFugDePjd",
    "outputId": "10452453-9134-4dd3-cedd-05554f261763"
   },
   "outputs": [
    {
     "name": "stdout",
     "output_type": "stream",
     "text": [
      "[4 3 1]\n"
     ]
    }
   ],
   "source": [
    "A = np.array([[4,0,0],\n",
    "              [0,3,0],\n",
    "              [0,0,1]])\n",
    "print(np.diag(A))"
   ]
  },
  {
   "cell_type": "markdown",
   "metadata": {
    "id": "P7MRuVUtee3d"
   },
   "source": [
    "### Identity matrix\n",
    "\n",
    "A diagonal matrix is called ***identity matrix*** when all diagonal elements are equal to $1$.\n",
    "\n",
    "In Python we can easily build identity matrices of desired shape using:\n",
    "- ```np.eye(n)``` where $n$ is the number of rows/columns"
   ]
  },
  {
   "cell_type": "code",
   "execution_count": null,
   "metadata": {
    "colab": {
     "base_uri": "https://localhost:8080/"
    },
    "id": "SJmaA8jlfGie",
    "outputId": "9a666f5b-664b-4dbd-89cd-c21b80f5b831"
   },
   "outputs": [
    {
     "data": {
      "text/plain": [
       "array([[1., 0., 0.],\n",
       "       [0., 1., 0.],\n",
       "       [0., 0., 1.]])"
      ]
     },
     "execution_count": 14,
     "metadata": {},
     "output_type": "execute_result"
    }
   ],
   "source": [
    "np.eye(3)"
   ]
  },
  {
   "cell_type": "markdown",
   "metadata": {
    "id": "G-rgqIuvQtEm"
   },
   "source": [
    "### Inverse of a matrix\n",
    "\n",
    "In some operations, we'll be needing to find the inverse of a given matrix. For example:\n",
    "\n",
    "$A = BC$\n",
    "\n",
    "we know the matrices $A$ and $B$ and want to solve for $C$. \n",
    "\n",
    "we can invert $B$ to $B^{-1}$ and compute the dot product: $A \\cdot B^{-1}$.\n",
    "\n"
   ]
  },
  {
   "cell_type": "markdown",
   "metadata": {
    "id": "21bnCvp2b5Mo"
   },
   "source": [
    "We invert the matrix $B$ in Python using:\n",
    "\n",
    "- ```B_i = np.linalg.inv(B)```\n",
    "- ```B.I```"
   ]
  },
  {
   "cell_type": "code",
   "execution_count": null,
   "metadata": {
    "colab": {
     "base_uri": "https://localhost:8080/"
    },
    "id": "OTHWVzugcGuz",
    "outputId": "6b8cf5b6-7dbd-4ee6-bc3f-49ae203947c5"
   },
   "outputs": [
    {
     "name": "stdout",
     "output_type": "stream",
     "text": [
      "B: \n",
      "[[1 2]\n",
      " [3 4]]\n",
      "B inverted:\n",
      "[[-2.   1. ]\n",
      " [ 1.5 -0.5]]\n"
     ]
    }
   ],
   "source": [
    "B = np.array([[1,2],\n",
    "              [3,4]])\n",
    "\n",
    "print(f'B: \\n{B}')\n",
    "print(f'B inverted:\\n{np.linalg.inv(B)}')"
   ]
  },
  {
   "cell_type": "markdown",
   "metadata": {
    "id": "dh6j6U-McRwj"
   },
   "source": [
    "**Be careful**: Not all matrices are invertible! We say *singular* to the matrices that are noninvertible.\n",
    "\n",
    "Let's try this:\n",
    "\\begin{bmatrix}\n",
    "3 & 1 \\\\\n",
    "6 & 2  \n",
    "\\end{bmatrix}"
   ]
  },
  {
   "cell_type": "code",
   "execution_count": null,
   "metadata": {
    "colab": {
     "base_uri": "https://localhost:8080/",
     "height": 381
    },
    "id": "hHD4BknrcaEg",
    "outputId": "9485fc5d-eb2a-4e30-d397-fcc2e3825945"
   },
   "outputs": [
    {
     "name": "stdout",
     "output_type": "stream",
     "text": [
      "[[3 1]\n",
      " [6 2]]\n"
     ]
    },
    {
     "ename": "LinAlgError",
     "evalue": "ignored",
     "output_type": "error",
     "traceback": [
      "\u001b[0;31m---------------------------------------------------------------------------\u001b[0m",
      "\u001b[0;31mLinAlgError\u001b[0m                               Traceback (most recent call last)",
      "\u001b[0;32m<ipython-input-31-317c643064cf>\u001b[0m in \u001b[0;36m<cell line: 3>\u001b[0;34m()\u001b[0m\n\u001b[1;32m      1\u001b[0m \u001b[0mB\u001b[0m \u001b[0;34m=\u001b[0m \u001b[0mnp\u001b[0m\u001b[0;34m.\u001b[0m\u001b[0marray\u001b[0m\u001b[0;34m(\u001b[0m\u001b[0;34m[\u001b[0m\u001b[0;34m[\u001b[0m\u001b[0;36m3\u001b[0m\u001b[0;34m,\u001b[0m \u001b[0;36m1\u001b[0m\u001b[0;34m]\u001b[0m\u001b[0;34m,\u001b[0m \u001b[0;34m[\u001b[0m\u001b[0;36m6\u001b[0m\u001b[0;34m,\u001b[0m \u001b[0;36m2\u001b[0m\u001b[0;34m]\u001b[0m\u001b[0;34m]\u001b[0m\u001b[0;34m)\u001b[0m\u001b[0;34m\u001b[0m\u001b[0;34m\u001b[0m\u001b[0m\n\u001b[1;32m      2\u001b[0m \u001b[0mprint\u001b[0m\u001b[0;34m(\u001b[0m\u001b[0mB\u001b[0m\u001b[0;34m)\u001b[0m\u001b[0;34m\u001b[0m\u001b[0;34m\u001b[0m\u001b[0m\n\u001b[0;32m----> 3\u001b[0;31m \u001b[0mprint\u001b[0m\u001b[0;34m(\u001b[0m\u001b[0mnp\u001b[0m\u001b[0;34m.\u001b[0m\u001b[0mlinalg\u001b[0m\u001b[0;34m.\u001b[0m\u001b[0minv\u001b[0m\u001b[0;34m(\u001b[0m\u001b[0mB\u001b[0m\u001b[0;34m)\u001b[0m \u001b[0;34m)\u001b[0m\u001b[0;34m\u001b[0m\u001b[0;34m\u001b[0m\u001b[0m\n\u001b[0m",
      "\u001b[0;32m/usr/local/lib/python3.10/dist-packages/numpy/core/overrides.py\u001b[0m in \u001b[0;36minv\u001b[0;34m(*args, **kwargs)\u001b[0m\n",
      "\u001b[0;32m/usr/local/lib/python3.10/dist-packages/numpy/linalg/linalg.py\u001b[0m in \u001b[0;36minv\u001b[0;34m(a)\u001b[0m\n\u001b[1;32m    543\u001b[0m     \u001b[0msignature\u001b[0m \u001b[0;34m=\u001b[0m \u001b[0;34m'D->D'\u001b[0m \u001b[0;32mif\u001b[0m \u001b[0misComplexType\u001b[0m\u001b[0;34m(\u001b[0m\u001b[0mt\u001b[0m\u001b[0;34m)\u001b[0m \u001b[0;32melse\u001b[0m \u001b[0;34m'd->d'\u001b[0m\u001b[0;34m\u001b[0m\u001b[0;34m\u001b[0m\u001b[0m\n\u001b[1;32m    544\u001b[0m     \u001b[0mextobj\u001b[0m \u001b[0;34m=\u001b[0m \u001b[0mget_linalg_error_extobj\u001b[0m\u001b[0;34m(\u001b[0m\u001b[0m_raise_linalgerror_singular\u001b[0m\u001b[0;34m)\u001b[0m\u001b[0;34m\u001b[0m\u001b[0;34m\u001b[0m\u001b[0m\n\u001b[0;32m--> 545\u001b[0;31m     \u001b[0mainv\u001b[0m \u001b[0;34m=\u001b[0m \u001b[0m_umath_linalg\u001b[0m\u001b[0;34m.\u001b[0m\u001b[0minv\u001b[0m\u001b[0;34m(\u001b[0m\u001b[0ma\u001b[0m\u001b[0;34m,\u001b[0m \u001b[0msignature\u001b[0m\u001b[0;34m=\u001b[0m\u001b[0msignature\u001b[0m\u001b[0;34m,\u001b[0m \u001b[0mextobj\u001b[0m\u001b[0;34m=\u001b[0m\u001b[0mextobj\u001b[0m\u001b[0;34m)\u001b[0m\u001b[0;34m\u001b[0m\u001b[0;34m\u001b[0m\u001b[0m\n\u001b[0m\u001b[1;32m    546\u001b[0m     \u001b[0;32mreturn\u001b[0m \u001b[0mwrap\u001b[0m\u001b[0;34m(\u001b[0m\u001b[0mainv\u001b[0m\u001b[0;34m.\u001b[0m\u001b[0mastype\u001b[0m\u001b[0;34m(\u001b[0m\u001b[0mresult_t\u001b[0m\u001b[0;34m,\u001b[0m \u001b[0mcopy\u001b[0m\u001b[0;34m=\u001b[0m\u001b[0;32mFalse\u001b[0m\u001b[0;34m)\u001b[0m\u001b[0;34m)\u001b[0m\u001b[0;34m\u001b[0m\u001b[0;34m\u001b[0m\u001b[0m\n\u001b[1;32m    547\u001b[0m \u001b[0;34m\u001b[0m\u001b[0m\n",
      "\u001b[0;32m/usr/local/lib/python3.10/dist-packages/numpy/linalg/linalg.py\u001b[0m in \u001b[0;36m_raise_linalgerror_singular\u001b[0;34m(err, flag)\u001b[0m\n\u001b[1;32m     86\u001b[0m \u001b[0;34m\u001b[0m\u001b[0m\n\u001b[1;32m     87\u001b[0m \u001b[0;32mdef\u001b[0m \u001b[0m_raise_linalgerror_singular\u001b[0m\u001b[0;34m(\u001b[0m\u001b[0merr\u001b[0m\u001b[0;34m,\u001b[0m \u001b[0mflag\u001b[0m\u001b[0;34m)\u001b[0m\u001b[0;34m:\u001b[0m\u001b[0;34m\u001b[0m\u001b[0;34m\u001b[0m\u001b[0m\n\u001b[0;32m---> 88\u001b[0;31m     \u001b[0;32mraise\u001b[0m \u001b[0mLinAlgError\u001b[0m\u001b[0;34m(\u001b[0m\u001b[0;34m\"Singular matrix\"\u001b[0m\u001b[0;34m)\u001b[0m\u001b[0;34m\u001b[0m\u001b[0;34m\u001b[0m\u001b[0m\n\u001b[0m\u001b[1;32m     89\u001b[0m \u001b[0;34m\u001b[0m\u001b[0m\n\u001b[1;32m     90\u001b[0m \u001b[0;32mdef\u001b[0m \u001b[0m_raise_linalgerror_nonposdef\u001b[0m\u001b[0;34m(\u001b[0m\u001b[0merr\u001b[0m\u001b[0;34m,\u001b[0m \u001b[0mflag\u001b[0m\u001b[0;34m)\u001b[0m\u001b[0;34m:\u001b[0m\u001b[0;34m\u001b[0m\u001b[0;34m\u001b[0m\u001b[0m\n",
      "\u001b[0;31mLinAlgError\u001b[0m: Singular matrix"
     ]
    }
   ],
   "source": [
    "B = np.array([[3, 1], [6, 2]])\n",
    "print(B)\n",
    "print(np.linalg.inv(B) )"
   ]
  },
  {
   "cell_type": "markdown",
   "metadata": {
    "id": "EAZpjnSIfp9A"
   },
   "source": [
    "As you saw, we get an error trying to invert a singular matrix."
   ]
  },
  {
   "cell_type": "markdown",
   "metadata": {
    "id": "lAOAsTIogrUU"
   },
   "source": [
    "### Determinant\n",
    "\n",
    "Determinant is a very important property of a matrix. Determinant is a single value and you can learn a lot by it. \n",
    "\n",
    "Determinant can tell you if a matrix is singular or not. If \n",
    "- $det(A=0)$, $A$ is singular (noninvertible)\n",
    "\n",
    "In python we use ```np.linalg.det(A)```"
   ]
  },
  {
   "cell_type": "code",
   "execution_count": null,
   "metadata": {
    "colab": {
     "base_uri": "https://localhost:8080/"
    },
    "id": "92MVMSv9h9At",
    "outputId": "33b6b918-710f-4bab-ae22-e1aebfb15d1e"
   },
   "outputs": [
    {
     "name": "stdout",
     "output_type": "stream",
     "text": [
      "determinant of A: 0.0\n"
     ]
    }
   ],
   "source": [
    "print(f'determinant of A: {np.linalg.det(B)}')\n"
   ]
  },
  {
   "cell_type": "code",
   "execution_count": null,
   "metadata": {
    "colab": {
     "base_uri": "https://localhost:8080/",
     "height": 398
    },
    "id": "Kx01mfm_ht8-",
    "outputId": "a64e308d-527a-4c46-b968-ccb159ee1261"
   },
   "outputs": [
    {
     "name": "stdout",
     "output_type": "stream",
     "text": [
      "[[3 1]\n",
      " [6 2]]\n"
     ]
    },
    {
     "ename": "LinAlgError",
     "evalue": "ignored",
     "output_type": "error",
     "traceback": [
      "\u001b[0;31m---------------------------------------------------------------------------\u001b[0m",
      "\u001b[0;31mLinAlgError\u001b[0m                               Traceback (most recent call last)",
      "\u001b[0;32m<ipython-input-32-bbd307d19d77>\u001b[0m in \u001b[0;36m<cell line: 3>\u001b[0;34m()\u001b[0m\n\u001b[1;32m      1\u001b[0m \u001b[0mB\u001b[0m \u001b[0;34m=\u001b[0m \u001b[0mnp\u001b[0m\u001b[0;34m.\u001b[0m\u001b[0marray\u001b[0m\u001b[0;34m(\u001b[0m\u001b[0;34m[\u001b[0m\u001b[0;34m[\u001b[0m\u001b[0;36m3\u001b[0m\u001b[0;34m,\u001b[0m \u001b[0;36m1\u001b[0m\u001b[0;34m]\u001b[0m\u001b[0;34m,\u001b[0m \u001b[0;34m[\u001b[0m\u001b[0;36m6\u001b[0m\u001b[0;34m,\u001b[0m \u001b[0;36m2\u001b[0m\u001b[0;34m]\u001b[0m\u001b[0;34m]\u001b[0m\u001b[0;34m)\u001b[0m\u001b[0;34m\u001b[0m\u001b[0;34m\u001b[0m\u001b[0m\n\u001b[1;32m      2\u001b[0m \u001b[0mprint\u001b[0m\u001b[0;34m(\u001b[0m\u001b[0mB\u001b[0m\u001b[0;34m)\u001b[0m\u001b[0;34m\u001b[0m\u001b[0;34m\u001b[0m\u001b[0m\n\u001b[0;32m----> 3\u001b[0;31m \u001b[0mprint\u001b[0m\u001b[0;34m(\u001b[0m\u001b[0mnp\u001b[0m\u001b[0;34m.\u001b[0m\u001b[0mlinalg\u001b[0m\u001b[0;34m.\u001b[0m\u001b[0minv\u001b[0m\u001b[0;34m(\u001b[0m\u001b[0mB\u001b[0m\u001b[0;34m)\u001b[0m \u001b[0;34m)\u001b[0m\u001b[0;34m\u001b[0m\u001b[0;34m\u001b[0m\u001b[0m\n\u001b[0m\u001b[1;32m      4\u001b[0m \u001b[0;34m\u001b[0m\u001b[0m\n",
      "\u001b[0;32m/usr/local/lib/python3.10/dist-packages/numpy/core/overrides.py\u001b[0m in \u001b[0;36minv\u001b[0;34m(*args, **kwargs)\u001b[0m\n",
      "\u001b[0;32m/usr/local/lib/python3.10/dist-packages/numpy/linalg/linalg.py\u001b[0m in \u001b[0;36minv\u001b[0;34m(a)\u001b[0m\n\u001b[1;32m    543\u001b[0m     \u001b[0msignature\u001b[0m \u001b[0;34m=\u001b[0m \u001b[0;34m'D->D'\u001b[0m \u001b[0;32mif\u001b[0m \u001b[0misComplexType\u001b[0m\u001b[0;34m(\u001b[0m\u001b[0mt\u001b[0m\u001b[0;34m)\u001b[0m \u001b[0;32melse\u001b[0m \u001b[0;34m'd->d'\u001b[0m\u001b[0;34m\u001b[0m\u001b[0;34m\u001b[0m\u001b[0m\n\u001b[1;32m    544\u001b[0m     \u001b[0mextobj\u001b[0m \u001b[0;34m=\u001b[0m \u001b[0mget_linalg_error_extobj\u001b[0m\u001b[0;34m(\u001b[0m\u001b[0m_raise_linalgerror_singular\u001b[0m\u001b[0;34m)\u001b[0m\u001b[0;34m\u001b[0m\u001b[0;34m\u001b[0m\u001b[0m\n\u001b[0;32m--> 545\u001b[0;31m     \u001b[0mainv\u001b[0m \u001b[0;34m=\u001b[0m \u001b[0m_umath_linalg\u001b[0m\u001b[0;34m.\u001b[0m\u001b[0minv\u001b[0m\u001b[0;34m(\u001b[0m\u001b[0ma\u001b[0m\u001b[0;34m,\u001b[0m \u001b[0msignature\u001b[0m\u001b[0;34m=\u001b[0m\u001b[0msignature\u001b[0m\u001b[0;34m,\u001b[0m \u001b[0mextobj\u001b[0m\u001b[0;34m=\u001b[0m\u001b[0mextobj\u001b[0m\u001b[0;34m)\u001b[0m\u001b[0;34m\u001b[0m\u001b[0;34m\u001b[0m\u001b[0m\n\u001b[0m\u001b[1;32m    546\u001b[0m     \u001b[0;32mreturn\u001b[0m \u001b[0mwrap\u001b[0m\u001b[0;34m(\u001b[0m\u001b[0mainv\u001b[0m\u001b[0;34m.\u001b[0m\u001b[0mastype\u001b[0m\u001b[0;34m(\u001b[0m\u001b[0mresult_t\u001b[0m\u001b[0;34m,\u001b[0m \u001b[0mcopy\u001b[0m\u001b[0;34m=\u001b[0m\u001b[0;32mFalse\u001b[0m\u001b[0;34m)\u001b[0m\u001b[0;34m)\u001b[0m\u001b[0;34m\u001b[0m\u001b[0;34m\u001b[0m\u001b[0m\n\u001b[1;32m    547\u001b[0m \u001b[0;34m\u001b[0m\u001b[0m\n",
      "\u001b[0;32m/usr/local/lib/python3.10/dist-packages/numpy/linalg/linalg.py\u001b[0m in \u001b[0;36m_raise_linalgerror_singular\u001b[0;34m(err, flag)\u001b[0m\n\u001b[1;32m     86\u001b[0m \u001b[0;34m\u001b[0m\u001b[0m\n\u001b[1;32m     87\u001b[0m \u001b[0;32mdef\u001b[0m \u001b[0m_raise_linalgerror_singular\u001b[0m\u001b[0;34m(\u001b[0m\u001b[0merr\u001b[0m\u001b[0;34m,\u001b[0m \u001b[0mflag\u001b[0m\u001b[0;34m)\u001b[0m\u001b[0;34m:\u001b[0m\u001b[0;34m\u001b[0m\u001b[0;34m\u001b[0m\u001b[0m\n\u001b[0;32m---> 88\u001b[0;31m     \u001b[0;32mraise\u001b[0m \u001b[0mLinAlgError\u001b[0m\u001b[0;34m(\u001b[0m\u001b[0;34m\"Singular matrix\"\u001b[0m\u001b[0;34m)\u001b[0m\u001b[0;34m\u001b[0m\u001b[0;34m\u001b[0m\u001b[0m\n\u001b[0m\u001b[1;32m     89\u001b[0m \u001b[0;34m\u001b[0m\u001b[0m\n\u001b[1;32m     90\u001b[0m \u001b[0;32mdef\u001b[0m \u001b[0m_raise_linalgerror_nonposdef\u001b[0m\u001b[0;34m(\u001b[0m\u001b[0merr\u001b[0m\u001b[0;34m,\u001b[0m \u001b[0mflag\u001b[0m\u001b[0;34m)\u001b[0m\u001b[0;34m:\u001b[0m\u001b[0;34m\u001b[0m\u001b[0;34m\u001b[0m\u001b[0m\n",
      "\u001b[0;31mLinAlgError\u001b[0m: Singular matrix"
     ]
    }
   ],
   "source": [
    "B = np.array([[3, 1], [6, 2]])\n",
    "print(B)\n",
    "print(np.linalg.inv(B) )\n",
    "\n"
   ]
  },
  {
   "cell_type": "markdown",
   "metadata": {
    "id": "zx9WjKPCmXYt"
   },
   "source": [
    "---\n",
    "# Section 4. Resources <a name=\"resources\"></a>"
   ]
  },
  {
   "cell_type": "markdown",
   "metadata": {
    "id": "sRXRWSBTmbvs"
   },
   "source": [
    "## Cheat sheet\n",
    "\n",
    "A nice cheat sheet for the course from Data Camp:\n",
    "\n",
    "[Data Camp SciPy Cheat Sheet](https://res.cloudinary.com/dyd911kmh/image/upload/v1676303474/Marketing/Blog/SciPy_Cheat_Sheet.pdf)"
   ]
  },
  {
   "cell_type": "markdown",
   "metadata": {
    "id": "FA7WLX8pmjeC"
   },
   "source": [
    "## Getting help"
   ]
  },
  {
   "cell_type": "markdown",
   "metadata": {
    "id": "zT00thiDoH5T"
   },
   "source": [
    "NumPy linear algebra documentation:\n",
    "https://numpy.org/doc/stable/reference/routines.linalg.html"
   ]
  },
  {
   "cell_type": "markdown",
   "metadata": {
    "id": "bsWZnvZfZPW-"
   },
   "source": [
    "---\n",
    "# Congrats! That's it for this tutorial. \n",
    "\n",
    "**Content Creator:** **Burak Gür**\n",
    "\n",
    "Some parts inspired/modified from the amazing tutorials of:\n",
    "- Neuromatch Academy tutorials [W0D3 Linear Algebra](https://compneuro.neuromatch.io/tutorials/W0D3_LinearAlgebra/student/W0D3_Tutorial1.html) by **Ella Batty**\n",
    "- [Introduction to linear algebra for applied machine learning with Python](https://pabloinsente.github.io/intro-linear-algebra#diagonal-matrix) by **Pablo Caceres**"
   ]
  },
  {
   "cell_type": "markdown",
   "metadata": {
    "id": "T9uDFOdZX9HP"
   },
   "source": [
    "---\n",
    "# About the author (feel free to contact)\n",
    "\n",
    "## Burak Gür\n",
    "- Post-doctoral researcher in the [lab of Marion Silies](https://ncl-idn.biologie.uni-mainz.de/), JGU Mainz / Germany on visual neuroscience.\n",
    "- Organizer at the computational neuroscience and deep learning school [Neuromatch Academy](https://academy.neuromatch.io/about/mission).\n",
    "- Links:\n",
    "[twitter](https://twitter.com/burakgur_), [Google Scholar](https://scholar.google.com/citations?user=8B2egmgAAAAJ&hl=en), [linkedin](https://www.linkedin.com/in/burak-gur-605701a2/?originalSubdomain=de)\n",
    "- Feel free to contact me: bguer@uni-mainz.de"
   ]
  }
 ],
 "metadata": {
  "colab": {
   "provenance": [],
   "toc_visible": true
  },
  "kernelspec": {
   "display_name": "Python 3 (ipykernel)",
   "language": "python",
   "name": "python3"
  },
  "language_info": {
   "codemirror_mode": {
    "name": "ipython",
    "version": 3
   },
   "file_extension": ".py",
   "mimetype": "text/x-python",
   "name": "python",
   "nbconvert_exporter": "python",
   "pygments_lexer": "ipython3",
   "version": "3.10.9"
  },
  "widgets": {
   "application/vnd.jupyter.widget-state+json": {
    "082d5bc19c954d4c85b8130079cb1b22": {
     "model_module": "@jupyter-widgets/base",
     "model_module_version": "1.2.0",
     "model_name": "LayoutModel",
     "state": {
      "_model_module": "@jupyter-widgets/base",
      "_model_module_version": "1.2.0",
      "_model_name": "LayoutModel",
      "_view_count": null,
      "_view_module": "@jupyter-widgets/base",
      "_view_module_version": "1.2.0",
      "_view_name": "LayoutView",
      "align_content": null,
      "align_items": null,
      "align_self": null,
      "border": null,
      "bottom": null,
      "display": null,
      "flex": null,
      "flex_flow": null,
      "grid_area": null,
      "grid_auto_columns": null,
      "grid_auto_flow": null,
      "grid_auto_rows": null,
      "grid_column": null,
      "grid_gap": null,
      "grid_row": null,
      "grid_template_areas": null,
      "grid_template_columns": null,
      "grid_template_rows": null,
      "height": null,
      "justify_content": null,
      "justify_items": null,
      "left": null,
      "margin": null,
      "max_height": null,
      "max_width": null,
      "min_height": null,
      "min_width": null,
      "object_fit": null,
      "object_position": null,
      "order": null,
      "overflow": null,
      "overflow_x": null,
      "overflow_y": null,
      "padding": null,
      "right": null,
      "top": null,
      "visibility": null,
      "width": null
     }
    },
    "436c5af8e6df4dac850906ce8b444e68": {
     "model_module": "@jupyter-widgets/controls",
     "model_module_version": "1.5.0",
     "model_name": "FloatSliderModel",
     "state": {
      "_dom_classes": [],
      "_model_module": "@jupyter-widgets/controls",
      "_model_module_version": "1.5.0",
      "_model_name": "FloatSliderModel",
      "_view_count": null,
      "_view_module": "@jupyter-widgets/controls",
      "_view_module_version": "1.5.0",
      "_view_name": "FloatSliderView",
      "continuous_update": true,
      "description": "x2",
      "description_tooltip": null,
      "disabled": false,
      "layout": "IPY_MODEL_7230cc4fe97245d7ba296dfd95843c30",
      "max": 10,
      "min": -10,
      "orientation": "horizontal",
      "readout": true,
      "readout_format": ".2f",
      "step": 0.5,
      "style": "IPY_MODEL_bd782d7e49ce4d48839eba8c3cac9809",
      "value": 1
     }
    },
    "569417677fde4efea8c8797de9aa09e6": {
     "model_module": "@jupyter-widgets/controls",
     "model_module_version": "1.5.0",
     "model_name": "SliderStyleModel",
     "state": {
      "_model_module": "@jupyter-widgets/controls",
      "_model_module_version": "1.5.0",
      "_model_name": "SliderStyleModel",
      "_view_count": null,
      "_view_module": "@jupyter-widgets/base",
      "_view_module_version": "1.2.0",
      "_view_name": "StyleView",
      "description_width": "",
      "handle_color": null
     }
    },
    "7230cc4fe97245d7ba296dfd95843c30": {
     "model_module": "@jupyter-widgets/base",
     "model_module_version": "1.2.0",
     "model_name": "LayoutModel",
     "state": {
      "_model_module": "@jupyter-widgets/base",
      "_model_module_version": "1.2.0",
      "_model_name": "LayoutModel",
      "_view_count": null,
      "_view_module": "@jupyter-widgets/base",
      "_view_module_version": "1.2.0",
      "_view_name": "LayoutView",
      "align_content": null,
      "align_items": null,
      "align_self": null,
      "border": null,
      "bottom": null,
      "display": null,
      "flex": null,
      "flex_flow": null,
      "grid_area": null,
      "grid_auto_columns": null,
      "grid_auto_flow": null,
      "grid_auto_rows": null,
      "grid_column": null,
      "grid_gap": null,
      "grid_row": null,
      "grid_template_areas": null,
      "grid_template_columns": null,
      "grid_template_rows": null,
      "height": null,
      "justify_content": null,
      "justify_items": null,
      "left": null,
      "margin": null,
      "max_height": null,
      "max_width": null,
      "min_height": null,
      "min_width": null,
      "object_fit": null,
      "object_position": null,
      "order": null,
      "overflow": null,
      "overflow_x": null,
      "overflow_y": null,
      "padding": null,
      "right": null,
      "top": null,
      "visibility": null,
      "width": null
     }
    },
    "83878f54965e4fa0aa7fdb222e82d349": {
     "model_module": "@jupyter-widgets/base",
     "model_module_version": "1.2.0",
     "model_name": "LayoutModel",
     "state": {
      "_model_module": "@jupyter-widgets/base",
      "_model_module_version": "1.2.0",
      "_model_name": "LayoutModel",
      "_view_count": null,
      "_view_module": "@jupyter-widgets/base",
      "_view_module_version": "1.2.0",
      "_view_name": "LayoutView",
      "align_content": null,
      "align_items": null,
      "align_self": null,
      "border": null,
      "bottom": null,
      "display": null,
      "flex": null,
      "flex_flow": null,
      "grid_area": null,
      "grid_auto_columns": null,
      "grid_auto_flow": null,
      "grid_auto_rows": null,
      "grid_column": null,
      "grid_gap": null,
      "grid_row": null,
      "grid_template_areas": null,
      "grid_template_columns": null,
      "grid_template_rows": null,
      "height": null,
      "justify_content": null,
      "justify_items": null,
      "left": null,
      "margin": null,
      "max_height": null,
      "max_width": null,
      "min_height": null,
      "min_width": null,
      "object_fit": null,
      "object_position": null,
      "order": null,
      "overflow": null,
      "overflow_x": null,
      "overflow_y": null,
      "padding": null,
      "right": null,
      "top": null,
      "visibility": null,
      "width": null
     }
    },
    "a2a0c2a44c8b43dc8b5201a92905e4ae": {
     "model_module": "@jupyter-widgets/controls",
     "model_module_version": "1.5.0",
     "model_name": "VBoxModel",
     "state": {
      "_dom_classes": [
       "widget-interact"
      ],
      "_model_module": "@jupyter-widgets/controls",
      "_model_module_version": "1.5.0",
      "_model_name": "VBoxModel",
      "_view_count": null,
      "_view_module": "@jupyter-widgets/controls",
      "_view_module_version": "1.5.0",
      "_view_name": "VBoxView",
      "box_style": "",
      "children": [
       "IPY_MODEL_ddb79f357b8b4f22aa6b01f4182a0af5",
       "IPY_MODEL_436c5af8e6df4dac850906ce8b444e68",
       "IPY_MODEL_b2914850acf443e6a5af42bbb3a88e1a"
      ],
      "layout": "IPY_MODEL_83878f54965e4fa0aa7fdb222e82d349"
     }
    },
    "b2914850acf443e6a5af42bbb3a88e1a": {
     "model_module": "@jupyter-widgets/output",
     "model_module_version": "1.0.0",
     "model_name": "OutputModel",
     "state": {
      "_dom_classes": [],
      "_model_module": "@jupyter-widgets/output",
      "_model_module_version": "1.0.0",
      "_model_name": "OutputModel",
      "_view_count": null,
      "_view_module": "@jupyter-widgets/output",
      "_view_module_version": "1.0.0",
      "_view_name": "OutputView",
      "layout": "IPY_MODEL_d9027d7695e34dbdbde6dd053a2c23f5",
      "msg_id": "",
      "outputs": [
       {
        "data": {
         "image/png": "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\n",
         "text/plain": "<Figure size 500x500 with 1 Axes>"
        },
        "metadata": {
         "image/png": {
          "height": 453,
          "width": 494
         }
        },
        "output_type": "display_data"
       }
      ]
     }
    },
    "bd782d7e49ce4d48839eba8c3cac9809": {
     "model_module": "@jupyter-widgets/controls",
     "model_module_version": "1.5.0",
     "model_name": "SliderStyleModel",
     "state": {
      "_model_module": "@jupyter-widgets/controls",
      "_model_module_version": "1.5.0",
      "_model_name": "SliderStyleModel",
      "_view_count": null,
      "_view_module": "@jupyter-widgets/base",
      "_view_module_version": "1.2.0",
      "_view_name": "StyleView",
      "description_width": "",
      "handle_color": null
     }
    },
    "d9027d7695e34dbdbde6dd053a2c23f5": {
     "model_module": "@jupyter-widgets/base",
     "model_module_version": "1.2.0",
     "model_name": "LayoutModel",
     "state": {
      "_model_module": "@jupyter-widgets/base",
      "_model_module_version": "1.2.0",
      "_model_name": "LayoutModel",
      "_view_count": null,
      "_view_module": "@jupyter-widgets/base",
      "_view_module_version": "1.2.0",
      "_view_name": "LayoutView",
      "align_content": null,
      "align_items": null,
      "align_self": null,
      "border": null,
      "bottom": null,
      "display": null,
      "flex": null,
      "flex_flow": null,
      "grid_area": null,
      "grid_auto_columns": null,
      "grid_auto_flow": null,
      "grid_auto_rows": null,
      "grid_column": null,
      "grid_gap": null,
      "grid_row": null,
      "grid_template_areas": null,
      "grid_template_columns": null,
      "grid_template_rows": null,
      "height": null,
      "justify_content": null,
      "justify_items": null,
      "left": null,
      "margin": null,
      "max_height": null,
      "max_width": null,
      "min_height": null,
      "min_width": null,
      "object_fit": null,
      "object_position": null,
      "order": null,
      "overflow": null,
      "overflow_x": null,
      "overflow_y": null,
      "padding": null,
      "right": null,
      "top": null,
      "visibility": null,
      "width": null
     }
    },
    "ddb79f357b8b4f22aa6b01f4182a0af5": {
     "model_module": "@jupyter-widgets/controls",
     "model_module_version": "1.5.0",
     "model_name": "FloatSliderModel",
     "state": {
      "_dom_classes": [],
      "_model_module": "@jupyter-widgets/controls",
      "_model_module_version": "1.5.0",
      "_model_name": "FloatSliderModel",
      "_view_count": null,
      "_view_module": "@jupyter-widgets/controls",
      "_view_module_version": "1.5.0",
      "_view_name": "FloatSliderView",
      "continuous_update": true,
      "description": "x1",
      "description_tooltip": null,
      "disabled": false,
      "layout": "IPY_MODEL_082d5bc19c954d4c85b8130079cb1b22",
      "max": 10,
      "min": -10,
      "orientation": "horizontal",
      "readout": true,
      "readout_format": ".2f",
      "step": 0.5,
      "style": "IPY_MODEL_569417677fde4efea8c8797de9aa09e6",
      "value": 3.5
     }
    }
   }
  }
 },
 "nbformat": 4,
 "nbformat_minor": 1
}
