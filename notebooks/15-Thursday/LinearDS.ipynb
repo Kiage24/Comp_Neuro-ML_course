{
  "nbformat": 4,
  "nbformat_minor": 0,
  "metadata": {
    "colab": {
      "provenance": [],
      "gpuType": "T4",
      "collapsed_sections": [
        "GpPFB4WwqQUJ",
        "65pN6weGxRVd",
        "AVK8xUsqw6Ep"
      ],
      "toc_visible": true,
      "include_colab_link": true
    },
    "kernelspec": {
      "name": "python3",
      "display_name": "Python 3"
    },
    "language_info": {
      "name": "python"
    },
    "gpuClass": "standard"
  },
  "cells": [
    {
      "cell_type": "markdown",
      "metadata": {
        "id": "view-in-github",
        "colab_type": "text"
      },
      "source": [
        "<a href=\"https://colab.research.google.com/github/lauradriscoll/Comp_Neuro-ML_course/blob/main/notebooks/15-Thursday/LinearDS.ipynb\" target=\"_parent\"><img src=\"https://colab.research.google.com/assets/colab-badge.svg\" alt=\"Open In Colab\"/></a>"
      ]
    },
    {
      "cell_type": "markdown",
      "source": [
        "# PART I. Linear Systems:\n",
        "\n",
        "Thanks to Bing Wen Brunton, Alice Schwarze, Matt Golub NeuroAcademy for contributions to this notebook!"
      ],
      "metadata": {
        "id": "xIcSDHGflMdo"
      }
    },
    {
      "cell_type": "markdown",
      "source": [
        "---\n",
        "# Tutorial Objectives\n",
        "\n",
        "*Estimated timing of tutorial: 1 hour*\n",
        "\n",
        "In this tutorial, we will be learning about behavior of dynamical systems -- systems that evolve in time -- where the rules by which they evolve in time are described precisely by a differential equation.\n",
        "\n",
        "Differential equations are equations that express the **rate of change** of the state variable $x$. One typically describes this rate of change using the derivative of $x$ with respect to time ($dx/dt$) on the left hand side of the differential equation:\n",
        "\n",
        "\\begin{equation}\n",
        "\\frac{dx}{dt} = F(x)\n",
        "\\end{equation}\n",
        "\n",
        "A common notational short-hand is to write $\\dot{x}$ for $\\frac{dx}{dt}$. The dot means \"the derivative with respect to time\".\n",
        "\n",
        "Today, the focus will be on **linear dynamics**, where $F(x)$ is a linear function of $x$. In Tutorial 1, we will:\n",
        "\n",
        "* Explore and understand the behavior of such systems where $x$ is a single variable\n",
        "* Consider cases where $\\mathbf{x}$ is a state vector representing two variables."
      ],
      "metadata": {
        "id": "3p6HbQ8uoOGi"
      }
    },
    {
      "cell_type": "code",
      "source": [
        "# Imports\n",
        "import numpy as np\n",
        "import matplotlib.pyplot as plt\n",
        "from scipy.integrate import solve_ivp  # numerical integration solver\n",
        "#@title Figure settings\n",
        "import ipywidgets as widgets       # interactive display\n",
        "%config InlineBackend.figure_format = 'retina'\n",
        "plt.style.use(\"https://raw.githubusercontent.com/NeuromatchAcademy/course-content/main/nma.mplstyle\")\n",
        "#@title Plotting Functions\n",
        "def plot_trajectory(system, params, initial_condition, dt=0.1, T=6,\n",
        "                    figtitle=None):\n",
        "\n",
        "    \"\"\"\n",
        "    Shows the solution of a linear system with two variables in 3 plots.\n",
        "    The first plot shows x1 over time. The second plot shows x2 over time.\n",
        "    The third plot shows x1 and x2 in a phase portrait.\n",
        "\n",
        "    Args:\n",
        "      system (function): a function f(x) that computes a derivative from\n",
        "                         inputs (t, [x1, x2], *params)\n",
        "      params (list or tuple): list of parameters for function \"system\"\n",
        "      initial_condition (list or array): initial condition x0\n",
        "      dt (float): time step of simulation\n",
        "      T (float): end time of simulation\n",
        "      figtitlte (string): title for the figure\n",
        "\n",
        "    Returns:\n",
        "      nothing, but it shows a figure\n",
        "    \"\"\"\n",
        "\n",
        "    # time points for which we want to evaluate solutions\n",
        "    t = np.arange(0, T, dt)\n",
        "\n",
        "    # Integrate\n",
        "    # use built-in ode solver\n",
        "    solution = solve_ivp(system,\n",
        "                     t_span=(0, T),\n",
        "                     y0=initial_condition, t_eval=t,\n",
        "                     args=(params),\n",
        "                     dense_output=True)\n",
        "    x = solution.y\n",
        "\n",
        "    # make a color map to visualize time\n",
        "    timecolors = np.array([(1 , 0 , 0, i)  for i in t / t[-1]])\n",
        "\n",
        "    # make a large figure\n",
        "    fig, (ah1, ah2, ah3) = plt.subplots(1, 3)\n",
        "    fig.set_size_inches(10, 3)\n",
        "\n",
        "    # plot x1 as a function of time\n",
        "    ah1.scatter(t, x[0,], color=timecolors)\n",
        "    ah1.set_xlabel('time')\n",
        "    ah1.set_ylabel('x1', labelpad=-5)\n",
        "\n",
        "    # plot x2 as a function of time\n",
        "    ah2.scatter(t, x[1], color=timecolors)\n",
        "    ah2.set_xlabel('time')\n",
        "    ah2.set_ylabel('x2', labelpad=-5)\n",
        "\n",
        "    # plot x1 and x2 in a phase portrait\n",
        "    ah3.scatter(x[0,], x[1,], color=timecolors)\n",
        "    ah3.set_xlabel('x1')\n",
        "    ah3.set_ylabel('x2', labelpad=-5)\n",
        "    #include initial condition is a blue cross\n",
        "    ah3.plot(x[0,0], x[1,0], 'bx')\n",
        "\n",
        "    # adjust spacing between subplots\n",
        "    plt.subplots_adjust(wspace=0.5)\n",
        "\n",
        "    # add figure title\n",
        "    if figtitle is not None:\n",
        "      fig.suptitle(figtitle, size=16)\n",
        "\n",
        "\n",
        "def plot_streamplot(A, ax, figtitle=None):\n",
        "    \"\"\"\n",
        "    Show a stream plot for a linear ordinary differential equation with\n",
        "    state vector x=[x1,x2] in axis ax.\n",
        "\n",
        "    Args:\n",
        "      A (numpy array): 2x2 matrix specifying the dynamical system\n",
        "      figtitle (string): title for the figure\n",
        "\n",
        "    Returns:\n",
        "      nothing, but shows a figure\n",
        "    \"\"\"\n",
        "\n",
        "    # sample 20 x 20 grid uniformly to get x1 and x2\n",
        "    grid = np.arange(-20, 21, 1)\n",
        "    x1, x2 = np.meshgrid(grid, grid)\n",
        "\n",
        "    # calculate x1dot and x2dot at each grid point\n",
        "    x1dot = A[0,0] * x1 + A[0,1] * x2\n",
        "    x2dot = A[1,0] * x1 + A[1,1] * x2\n",
        "\n",
        "    # make a colormap\n",
        "    magnitude = np.sqrt(x1dot ** 2 + x2dot ** 2)\n",
        "    color = 2 * np.log1p(magnitude) #Avoid taking log of zero\n",
        "\n",
        "    # plot\n",
        "    plt.sca(ax)\n",
        "    plt.streamplot(x1, x2, x1dot, x2dot, color=color,\n",
        "                   linewidth=1, cmap=plt.cm.cividis,\n",
        "                   density=2, arrowstyle='->', arrowsize=1.5)\n",
        "    plt.xlabel(r'$x1$')\n",
        "    plt.ylabel(r'$x2$')\n",
        "\n",
        "    # figure title\n",
        "    if figtitle is not None:\n",
        "        plt.title(figtitle, size=16)\n",
        "\n",
        "    # include eigenvectors\n",
        "    if True:\n",
        "        # get eigenvalues and eigenvectors of A\n",
        "        lam, v = np.linalg.eig(A)\n",
        "\n",
        "        # get eigenvectors of A\n",
        "        eigenvector1 = v[:,0].real\n",
        "        eigenvector2 = v[:,1].real\n",
        "\n",
        "        # plot eigenvectors\n",
        "        plt.arrow(0, 0, 20*eigenvector1[0], 20*eigenvector1[1],\n",
        "                  width=0.5, color='r', head_width=2,\n",
        "                  length_includes_head=True)\n",
        "        plt.arrow(0, 0, 20*eigenvector2[0], 20*eigenvector2[1],\n",
        "                  width=0.5, color='b', head_width=2,\n",
        "                  length_includes_head=True)\n",
        "\n",
        "def plot_specific_example_stream_plots(A_options):\n",
        "    \"\"\"\n",
        "    Show a stream plot for each A in A_options\n",
        "\n",
        "    Args:\n",
        "      A (list): a list of numpy arrays (each element is A)\n",
        "\n",
        "    Returns:\n",
        "      nothing, but shows a figure\n",
        "    \"\"\"\n",
        "    # get stream plots for the four different systems\n",
        "    plt.figure(figsize=(10,10))\n",
        "\n",
        "    for i, A in enumerate(A_options):\n",
        "\n",
        "        ax = plt.subplot(2, 2, 1+i)\n",
        "        # get eigenvalues and eigenvectors\n",
        "        lam, v = np.linalg.eig(A+np.identity(len(A)))\n",
        "\n",
        "        # plot eigenvalues as title\n",
        "        # (two spaces looks better than one)\n",
        "        eigstr = \",  \".join([f\"{x:.2f}\" for x in lam])\n",
        "        figtitle =f\"A with eigenvalues\\n\"+ '[' + eigstr + ']'\n",
        "        plot_streamplot(A, ax, figtitle=figtitle)\n",
        "\n",
        "        # Remove y_labels on righthand plots\n",
        "        if i%2:\n",
        "          ax.set_ylabel(None)\n",
        "        if i<2:\n",
        "          ax.set_xlabel(None)\n",
        "\n",
        "        plt.subplots_adjust(wspace=0.3, hspace=0.3)"
      ],
      "metadata": {
        "cellView": "form",
        "id": "71tNri_1oya5"
      },
      "execution_count": null,
      "outputs": []
    },
    {
      "cell_type": "markdown",
      "source": [
        "---\n",
        "# Section 1: One-dimensional Differential Equations"
      ],
      "metadata": {
        "id": "P3i0is0x5Eb1"
      }
    },
    {
      "cell_type": "markdown",
      "source": [
        "Let's start by reminding ourselves of a one-dimensional differential equation in $x$ of the form\n",
        "\n",
        "$$\\dot{x} = a x - x$$\n",
        "\n",
        "where $a$ is a scalar.\n",
        "\n",
        "Solutions for how $x$ evolves in time when its dynamics are governed by such a differential equation take the form\n",
        "\n",
        "\\begin{equation}\n",
        "x(t) = x_0\\exp((a-1) t)\n",
        "\\end{equation}\n",
        "\n",
        "where $x_0$ is the **initial condition** of the equation -- that is, the value of $x$ at time $0$.\n",
        "</details>\n",
        "\n",
        "To gain further intuition, let's explore the behavior of such systems with a simple simulation. We can simulate an ordinary differential equation by approximating or modeling time as a discrete list of time steps $t_0, t_1, t_2, \\dots$, such that $t_{i+1}=t_i+dt$. We can get the small change $dx$ over a small duration $dt$ of time from the definition of the differential:\n",
        "\n",
        "\\begin{eqnarray}\n",
        "\\dot x &=& \\frac{dx}{dt} \\\\\n",
        "dx &=& \\dot x\\, dt\n",
        "\\end{eqnarray}\n",
        "\n",
        "So, at each time step $t_i$, we compute a value of $x$, $x(t_i)$, as the sum of the value of $x$ at the previous time step, $x(t_{i-1})$ and a small change $dx=\\dot x\\,dt$:\n",
        "\n",
        "\\begin{equation}\n",
        "x(t_i)=x(t_{i-1})+\\dot x(t_{i-1}) dt\n",
        "\\end{equation}\n",
        "\n",
        "This very simple integration scheme, known as **forward Euler integration**, works well if $dt$ is small and the ordinary differential equation is simple. It can run into issues when the ordinary differential equation is very noisy or when the dynamics include sudden big changes of $x$. Such big jumps can occur, for example, in models of excitable neurons. In such cases, one needs to choose an integration scheme carefully. However, for our simple system, the simple integration scheme should work just fine!"
      ],
      "metadata": {
        "id": "55pZeCLTpxHu"
      }
    },
    {
      "cell_type": "markdown",
      "source": [
        "## Coding Exercise 1: Forward Euler Integration\n",
        "\n",
        "In this exercise, we will complete a function, ``integrate_exponential``, to compute the solution of the differential equation $\\dot{x} = (a-1) x$ using forward Euler integration. We will then plot this solution over time."
      ],
      "metadata": {
        "id": "GpPFB4WwqQUJ"
      }
    },
    {
      "cell_type": "code",
      "source": [
        "def integrate_exponential(a, x0, dt, T):\n",
        "  \"\"\"Compute solution of the differential equation xdot=a*x with\n",
        "  initial condition x0 for a duration T. Use time step dt for numerical\n",
        "  solution.\n",
        "\n",
        "  Args:\n",
        "    a (scalar): parameter of xdot (xdot=a*x)\n",
        "    x0 (scalar): initial condition (x at time 0)\n",
        "    dt (scalar): timestep of the simulation\n",
        "    T (scalar): total duration of the simulation\n",
        "\n",
        "  Returns:\n",
        "    ndarray, ndarray: `x` for all simulation steps and the time `t` at each step\n",
        "  \"\"\"\n",
        "\n",
        "  # Initialize variables\n",
        "  t = np.arange(0, T, dt)\n",
        "  x = np.zeros_like(t, dtype=complex)\n",
        "  x[0] = x0 # This is x at time t_0\n",
        "\n",
        "  # Step through system and integrate in time\n",
        "  for k in range(1, len(t)):\n",
        "\n",
        "    ###################################################################\n",
        "    ## Fill out the following then remove\n",
        "    raise NotImplementedError(\"Student exercise: need to implement simulation\")\n",
        "    ###################################################################\n",
        "\n",
        "    # for each point in time, compute xdot from x[k-1]\n",
        "    # xdot = ...\n",
        "\n",
        "    # Update x based on x[k-1] and xdot\n",
        "    # x[k] = ...\n",
        "\n",
        "  return x, t\n",
        "\n",
        "\n",
        "# Choose parameters\n",
        "a = -0.5    # parameter in f(x)\n",
        "T = 10      # total Time duration\n",
        "dt = 0.001  # timestep of our simulation\n",
        "x0 = 1.     # initial condition of x at time 0\n",
        "\n",
        "# Use Euler's method\n",
        "x, t = integrate_exponential(a, x0, dt, T)\n",
        "\n",
        "# Visualize\n",
        "plt.plot(t, x.real)\n",
        "plt.xlabel('Time (s)')\n",
        "plt.ylabel('x')"
      ],
      "metadata": {
        "id": "8vbAz5kbqRpU"
      },
      "execution_count": null,
      "outputs": []
    },
    {
      "cell_type": "markdown",
      "source": [
        "## Interactive Demo 1: Forward Euler Integration\n",
        "\n",
        "1.  What happens when you change $a$? Try values where $a<1$ and $a>1$.\n",
        "\n",
        "2.  The $dt$ is the step size of the forward Euler integration. Try $a = -1.5$ and increase $dt$. What happens to the numerical solution when you increase $dt$?"
      ],
      "metadata": {
        "id": "65pN6weGxRVd"
      }
    },
    {
      "cell_type": "code",
      "source": [
        "## Interactive Demo 1: Forward Euler Integration\n",
        "\n",
        "T = 10      # total Time duration\n",
        "x0 = 1.     # initial condition of x at time 0\n",
        "\n",
        "######################################################\n",
        "## TRY DIFF PARAMETER VALUES FOR a\n",
        "a = 0 #-1.25 #1, #1.25    # parameter of xdot (xdot=a*x)\n",
        "dt = .01     # timestep of the simulation\n",
        "\n",
        "x, t = integrate_exponential(a, x0, dt, T)\n",
        "plt.plot(t, x.real) # integrate_exponential returns complex\n",
        "plt.xlabel('Time (s)')\n",
        "plt.ylabel('x')"
      ],
      "metadata": {
        "id": "mbAYj43huN8v"
      },
      "execution_count": null,
      "outputs": []
    },
    {
      "cell_type": "markdown",
      "source": [
        "---\n",
        "# Section 2: Oscillatory Dynamics\n",
        "\n",
        "*Estimated timing to here from start of tutorial: 20 min*\n",
        "\n",
        "We will now explore what happens when $a$ is a complex number and has a non-zero imaginary component.\n",
        "\n"
      ],
      "metadata": {
        "id": "uvmUrMzfv0SC"
      }
    },
    {
      "cell_type": "markdown",
      "source": [
        "## Interactive Demo 2: Oscillatory Dynamics\n",
        "\n",
        "In the following demo, you can change the real part and imaginary part of $a$ (so a = real + imaginary i)\n",
        "\n",
        "1. What values of $a$ produce dynamics that both ***oscillate*** and ***grow***?\n",
        "2. What value of $a$ is needed to produce a stable oscillation of 0.5 Hertz (cycles/time units)?\n"
      ],
      "metadata": {
        "id": "AVK8xUsqw6Ep"
      }
    },
    {
      "cell_type": "code",
      "source": [
        "#@title\n",
        "\n",
        "#@markdown Make sure you execute this cell to enable the widget!\n",
        "\n",
        "# parameters\n",
        "T = 5         # total Time duration\n",
        "dt = 0.0001      # timestep of our simulation\n",
        "x0 = 1.        # initial condition of x at time 0\n",
        "\n",
        "######################################################\n",
        "## TRY DIFF PARAMETER VALUES FOR a_real and a_imaginary\n",
        "\n",
        "# a_real = ...   # real part of a\n",
        "# a_imaginary = ...   #imaginary part of a\n",
        "\n",
        "def plot_euler_integration(real=(-2, 2, .2), imaginary=(-4, 7, .1)):\n",
        "\n",
        "  a = complex(real, imaginary)\n",
        "  x, t = integrate_exponential(a, x0, dt, T)\n",
        "  plt.plot(t, x.real) #integrate exponential returns complex\n",
        "  plt.grid(True)\n",
        "  plt.xlabel('Time (s)')\n",
        "  plt.ylabel('x')\n",
        "\n",
        "\n",
        "plot_euler_integration(real=a_real, imaginary=a_imaginary)"
      ],
      "metadata": {
        "id": "VdIz2HeZxg6U"
      },
      "execution_count": null,
      "outputs": []
    },
    {
      "cell_type": "markdown",
      "source": [
        "---\n",
        "# Section 3: Deterministic Linear Dynamics in Two Dimensions\n",
        "\n",
        "*Estimated timing to here from start of tutorial: 33 min*"
      ],
      "metadata": {
        "id": "wNv20yue1ZC0"
      }
    },
    {
      "cell_type": "markdown",
      "source": [
        "## Coding Exercise 3: Sample trajectories in 2 dimensions\n",
        "\n",
        "We want to simulate some **trajectories** of a given system and plot how  𝑥1  and  𝑥2  evolve in time. We will begin with this example system:\n",
        "\n",
        "\\begin{equation}\n",
        "\\dot{\\mathbf{x}} = \\bigg[\\begin{array} & 2 & -5 \\\\ 1 & -2 \\end{array} \\bigg] \\mathbf{x}\n",
        "\\end{equation}\n",
        "\n",
        "We will use an integrator from scipy, so we won't have to solve the system ourselves. We have a helper function, ``plot_trajectory``, that plots these trajectories given a system function. In this exercise, we will write the system function for a linear system with two variables."
      ],
      "metadata": {
        "id": "Bsw-rE901nqx"
      }
    },
    {
      "cell_type": "code",
      "source": [
        "def system(t, x, a00, a01, a10, a11):\n",
        "  '''\n",
        "  Compute the derivative of the state x at time t for a linear\n",
        "  differential equation with A matrix [[a00, a01], [a10, a11]].\n",
        "\n",
        "  Args:\n",
        "    t (float): time\n",
        "    x (ndarray): state variable\n",
        "    a00, a01, a10, a11 (float): parameters of the system\n",
        "\n",
        "  Returns:\n",
        "    ndarray: derivative xdot of state variable x at time t\n",
        "  '''\n",
        "  #################################################\n",
        "  ## TODO for students: Compute xdot1 and xdot2 ##\n",
        "  ## Fill out the following then remove\n",
        "  raise NotImplementedError(\"Student exercise: say what they should have done\")\n",
        "  #################################################\n",
        "\n",
        "  # compute x1dot and x2dot\n",
        "  x1dot = ...\n",
        "  x2dot = ...\n",
        "\n",
        "  return np.array([x1dot, x2dot])\n",
        "\n",
        "\n",
        "# Set parameters\n",
        "T = 6 # total time duration\n",
        "dt = 0.1 # timestep of our simulation\n",
        "A = np.array([[2, -5],\n",
        "              [1, -2]])\n",
        "x0 = [-0.1, 0.2]\n",
        "\n",
        "# Simulate and plot trajectories\n",
        "plot_trajectory(system, [A[0,0],A[0,1],A[1,0],A[1,1]], x0, dt=dt, T=T)"
      ],
      "metadata": {
        "id": "d5BMv5gi1x6f"
      },
      "execution_count": null,
      "outputs": []
    },
    {
      "cell_type": "code",
      "source": [
        "#@title\n",
        "\n",
        "#@markdown Make sure you execute this cell to enable the widget!\n",
        "\n",
        "# parameters\n",
        "T = 6      # total Time duration\n",
        "dt = 0.1   # timestep of our simulation\n",
        "x0 = np.asarray([-0.1, 0.2])        # initial condition of x at time 0\n",
        "\n",
        "A_option_1 = [[2, -5],[1, -2]]\n",
        "A_option_2 = [[3,4], [1, 2]]\n",
        "A_option_3 = [[-1, -1], [0, -0.25]]\n",
        "A_option_4 = [[3, -2],[2, -2]]\n",
        "\n",
        "@widgets.interact\n",
        "def plot_euler_integration(A = widgets.Dropdown(\n",
        "  options=[A_option_1, A_option_2, A_option_3, A_option_4, None],\n",
        "  value=A_option_1\n",
        ")):\n",
        "  if A:\n",
        "    plot_trajectory(system, [A[0][0],A[0][1],A[1][0],A[1][1]], x0, dt=dt, T=T)"
      ],
      "metadata": {
        "id": "S0qAvGan323U"
      },
      "execution_count": null,
      "outputs": []
    },
    {
      "cell_type": "markdown",
      "source": [
        "## Interactive Demo 3B: Varying Initial Conditions\n",
        "\n",
        "We will now vary the initial conditions for a given $\\mathbf{A}$:\n",
        "\n",
        "\\begin{equation}\n",
        "\\dot{\\mathbf{x}} = \\bigg[\\begin{array} & 2 & -5 \\\\ 1 & -2 \\end{array} \\bigg] \\mathbf{x}\n",
        "\\end{equation}\n",
        "\n",
        "What kinds of qualitatively different dynamics do you observe? Hint: Keep an eye on the x-axis and y-axis!"
      ],
      "metadata": {
        "id": "zyFsU8c74I1u"
      }
    },
    {
      "cell_type": "code",
      "source": [
        "#@title\n",
        "\n",
        "#@markdown Make sure you execute this cell to enable the widget!\n",
        "\n",
        "# parameters\n",
        "T = 6      # total Time duration\n",
        "dt = 0.1   # timestep of our simulation\n",
        "x0 = np.asarray([-0.1, 0.2])        # initial condition of x at time 0\n",
        "A = [[2, -5],[1, -2]]\n",
        "\n",
        "x0_option_1 = [-.1, 0.2]\n",
        "x0_option_2 = [10, 10]\n",
        "x0_option_3 = [-4, 3]\n",
        "\n",
        "@widgets.interact\n",
        "def plot_euler_integration(x0 = widgets.Dropdown(\n",
        "  options=[x0_option_1, x0_option_2, x0_option_3, None],\n",
        "  value=x0_option_1\n",
        ")):\n",
        "  if x0:\n",
        "    plot_trajectory(system, [A[0][0],A[0][1],A[1][0],A[1][1]], x0, dt=dt, T=T)"
      ],
      "metadata": {
        "id": "HhNig2hj4OBw"
      },
      "execution_count": null,
      "outputs": []
    },
    {
      "cell_type": "markdown",
      "source": [
        "---\n",
        "# Section 4: Stream Plots\n",
        "\n",
        "*Estimated timing to here from start of tutorial: 45 min*\n",
        "\n",
        "It's a bit tedious to plot trajectories one initial condition at a time!\n",
        "\n",
        "Fortunately, to get an overview of how a grid of initial conditions affect trajectories of a system, we can use a _stream plot_.\n",
        "\n",
        "We can think of a initial condition ${\\bf x}_0=(x_{1_0},x_{2_0})$  as coordinates for a position in a space. For a 2x2 matrix $\\bf A$, a stream plot computes at each position $\\bf x$ a small arrow that indicates $\\bf Ax$ and then connects the small arrows to form _stream lines_. Remember from the beginning of this tutorial that $\\dot {\\bf x} = \\bf Ax$ is the rate of change of $\\bf x$. So the stream lines indicate how a system changes. If you are interested in a particular initial condition ${\\bf x}_0$, just find the corresponding position in the stream plot. The stream line that goes through that point in the stream plot indicates ${\\bf x}(t)$."
      ],
      "metadata": {
        "id": "6r-WI5Og4i59"
      }
    },
    {
      "cell_type": "code",
      "source": [
        "# @markdown Execute this cell to see stream plots\n",
        "\n",
        "A_option_1 = np.array([[2, -5], [1, -2]])\n",
        "A_option_2 = np.array([[3,4], [1, 2]])\n",
        "A_option_3 = np.array([[-1, -1], [0, -0.25]])\n",
        "A_option_4 = np.array([[3, -2], [2, -2]])\n",
        "\n",
        "A_options = [A_option_1, A_option_2, A_option_3, A_option_4]\n",
        "plot_specific_example_stream_plots(A_options)"
      ],
      "metadata": {
        "id": "UkIq95mJ4olB"
      },
      "execution_count": null,
      "outputs": []
    },
    {
      "cell_type": "markdown",
      "source": [
        "---\n",
        "# Summary\n",
        "\n",
        "*Estimated timing of tutorial: 1 hour*\n",
        "\n",
        "In this tutorial, we learned:\n",
        "\n",
        "* How to simulate the trajectory of a dynamical system specified by a differential equation $\\dot{x} = f(x)$ using a forward Euler integration scheme.\n",
        "* The behavior of a one-dimensional linear dynamical system $\\dot{x} = a x$ is determined by $a$, which may be a complex valued number. Knowing $a$, we know about the stability and oscillatory dynamics of the system.\n",
        "* The dynamics of high-dimensional linear dynamical systems $\\dot{\\mathbf{x}} = \\mathbf{A} \\mathbf{x}$ can be understood using the same intuitions, where we can summarize the behavior of the trajectories using the eigenvalues and eigenvectors of $\\mathbf{A}$."
      ],
      "metadata": {
        "id": "dVwULJlA4u2k"
      }
    }
  ]
}