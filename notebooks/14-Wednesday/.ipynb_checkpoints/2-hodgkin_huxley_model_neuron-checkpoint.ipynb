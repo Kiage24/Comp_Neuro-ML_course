{
 "cells": [
  {
   "cell_type": "markdown",
   "metadata": {},
   "source": [
    "# hodgkin–huxley model"
   ]
  },
  {
   "cell_type": "markdown",
   "metadata": {},
   "source": [
    "## Introduction\n",
    "\n",
    "In this notebook we will use a model of voltage-gated ion channels in a single neuron to simulate action potentials. The model is based on the work by Hodgkin & Huxley in the 1940s and 1950s. A good reference to refresh your memory about how ion channels in a neuron work is the Kandel, Schwartz & Jessel book \"Principles of Neural Science\". However, we strongly recommend that you read the orininal Hodking and Huxley publication!! it is beautiful, and very well explained: \n",
    "\n",
    "https://www.ncbi.nlm.nih.gov/pmc/articles/PMC1392413/\n",
    "\n",
    "Now, to the problem. \n",
    "\n",
    "Our goal here is to code up a dynamical model of the membrane's electric circuit including two types of ion channels: sodium and potassium channels. We will use this model to better understand the process underlying the origin of an action potential.\n",
    "\n",
    "Remember that the current going through a patch of membrane can be described by the pasive properties of such membrane (capacitance and leak resistance), plus the contribution of the voltage dependent conductances (the sodium and potassium ion channels):\n",
    "\n",
    "Similar to the membrane equation in the integrate-and-fire unit we now have:  \n",
    "\n",
    "\\begin{equation} C_{m}\\frac{dV}{dt} = - g_{L}(V-E_{leak}) - I_{Na} - I_{K} + I_{inj} \\end{equation}\n",
    "\n",
    "\n",
    "### Sodium channels (Na)\n",
    "\n",
    "The current through sodium channels that enter the soma is defined as:\n",
    "\n",
    "\\begin{equation} I_{Na} =g_{Na}m^{3}h(V - E_{Na})\\end{equation}\n",
    "where $m$ is the activation of the sodium channel and $h$ is the inactivation of the sodium channel, and the other terms are constant parameters: $E_{Na}$ is the reversal potential (the point of equilibrium for sodium channels), $g_{Na}$ is the maximum sodium conductance throught the membrane, and $V$ is the membrane potential of the soma.\n",
    "\n",
    "The activation $m$ of the sodium channels is described by the differential equation:\n",
    "\n",
    "\\begin{equation} \\frac{dm}{dt} = \\alpha_{m}(1-m) - \\beta_{m}m \\end{equation}\n",
    "where $\\alpha_{m}$ represents the rate at which the channel switches from a closed to an open state, and $\\beta_{m}$ is rate for the reverse. These two parameters $\\alpha$ and $\\beta$ depend on the membrane potential in the soma. In other words the sodium channel is voltage-gated. \n",
    "\n",
    "We did not cover this in the class, but the sodium channel is a bit more complex than the potassium channel. It does not only has an activation variable, but also presents inactivation (meaning that it innactivates with more voltage at the same time that inactivates). Without this additional therm the action potential could not be terminated. The inactivation of the sodium channels is described by a similar set of equations: a differential equation giving the rate of change of the sodium channel deactivation:\n",
    "\n",
    "\\begin{equation} \\frac{dh}{dt} = \\alpha_{h}(1-h) - \\beta_{h}h \\end{equation}\n",
    "and equations specifying how $\\alpha_{h}$ and $\\beta_{h}$ are voltage-dependent (see the code below for the exact formulas of these values, which are bolzmann exponential functions). Hodking and huxley figured them out by fitting the experimental data that they cleverly collected. \n",
    "\n",
    "So in summary, for the sodium channels, we have two state variables: $(m,h)$ representing the activation $(m)$ and deactivation $(h)$ of the sodium channels. We have a differential equation for each, describing how the rate of change (the first derivative) of these states can be calculated\n",
    "\n",
    "### Potassium channels (K)\n",
    "\n",
    "The potassium channels are represted in a similar way, although in this case there is only channel activation, and no inactivation:\n",
    "\n",
    "\\begin{equation} I_{k} = g_{k}n^{4}(V-E_{k}) \\end{equation} \n",
    "\n",
    "And the probability n is defined again as:\n",
    "\n",
    "\\begin{equation} \\frac{dn}{dt} = \\alpha_{n}(1-n) - \\beta_{n}n \\end{equation}\n",
    "where \\(n\\) is the state variable representing the activation of potassium channels. As before we have expressions for $(\\alpha,\\beta)$ which represent the fact that the potassium channel is also voltage-gated.\n",
    "\n",
    "To summarize, the potassium channel has a single state variable $(n)$ representing the activation of the potassium channel.\n",
    "\n",
    "Remember also that the fact that $n$ and $m$ are raised to the power of 4 and to the power of 3 was done by Hodking and Huxley to properly fit the experimental data. It can be interpreted as a single ion channel having multiple gates that can open or close. The proteic structure of the potassium channel has indeed revealed that it is conformed of 4 voltage dependent domains. \n",
    "\n",
    "Enjoy the model! "
   ]
  },
  {
   "cell_type": "markdown",
   "metadata": {},
   "source": [
    "# Simulation"
   ]
  },
  {
   "cell_type": "code",
   "execution_count": null,
   "metadata": {},
   "outputs": [],
   "source": [
    "import numpy as np\n",
    "import matplotlib.pyplot as plt\n",
    "plt.style.use('ggplot')\n",
    "%matplotlib inline"
   ]
  },
  {
   "cell_type": "markdown",
   "metadata": {},
   "source": [
    "Define the constants and the time step of ODE"
   ]
  },
  {
   "cell_type": "code",
   "execution_count": null,
   "metadata": {},
   "outputs": [],
   "source": [
    "dt = 0.01      # time step\n",
    "T = 10000       # total running step\n",
    "C_m = 1.       # membrane capacitance (microF/cm**2)\n",
    "G_k = 40.      # max K conductance (mS/cm**2)\n",
    "G_l = 0.24     # max leak onductance (mS/cm**2)\n",
    "G_na = 120.    # max Na conductance (mS/cm**2)\n",
    "E_k = -12.0    # K reversal potential (mV)\n",
    "E_l = 10.613   # leak potential (mV)\n",
    "E_na = 115.    # Na reversal potential (mV)"
   ]
  },
  {
   "cell_type": "markdown",
   "metadata": {},
   "source": [
    "4 eqs of Hodgkin-Huxley model  \n",
    "* $C_M\\displaystyle \\frac{dV}{dt}= - g_l(V-V_l) - g_{Na}m^{3}h(V-V_{Na}) - g_{k}n^{4}(V-V_K) + I_inj$ ($V$: Membrane Potential)  \n",
    "* $\\displaystyle \\frac{dh}{dt}=\\alpha_h{(V)}(1-h)-\\beta_h(V)h$ ($h$: Na Inactivation)  \n",
    "* $\\displaystyle \\frac{dm}{dt}=\\alpha_m{(V)}(1-m)-\\beta_m(V)m$ ($m$: Na Activation)  \n",
    "* $\\displaystyle \\frac{dn}{dt}=\\alpha_n{(V)}(1-n)-\\beta_n(V)n$ ($n$: K Activation)  "
   ]
  },
  {
   "cell_type": "code",
   "execution_count": null,
   "metadata": {},
   "outputs": [],
   "source": [
    "def dv(v, param, dt):\n",
    "    h, m, n, i = param\n",
    "    gna = G_na * h * (m**3)\n",
    "    gk = G_k * (n**4)\n",
    "    gl = G_l\n",
    "    ina = gna * (v - E_na)\n",
    "    ik = gk * (v - E_k)\n",
    "    il = gl * (v - E_l)\n",
    "    return (- ina - ik - il + i) * dt / C_m\n",
    "\n",
    "def dh(h, param, dt):\n",
    "    v = param\n",
    "    alph = 0.07 * np.exp(-v / 20)\n",
    "    beth = 1. / (np.exp((30 - v) / 10) + 1)\n",
    "    return (alph * (1 - h) - beth * h) * dt\n",
    "\n",
    "def dm(m, param, dt):\n",
    "    v = param\n",
    "    alpm = 0.1 * (25 - v) / (np.exp((25 - v) / 10) - 1)\n",
    "    betm = 4. * np.exp(-v / 18)\n",
    "    return (alpm * (1 - m) - betm * m) * dt\n",
    "\n",
    "def dn(n, param, dt):\n",
    "    v = param\n",
    "    alpn = 0.01 * (10 - v) / (np.exp((10 - v) / 10) - 1)\n",
    "    betn = 0.125 * np.exp(-v / 80)\n",
    "    return (alpn * (1 - n) - betn * n) * dt"
   ]
  },
  {
   "cell_type": "markdown",
   "metadata": {},
   "source": [
    "Update the variables by a 4th order Runge–Kutta method. This numerical method is more exact than the Euler method to solve differential equations. We will not cover this method in this class, but for more information visit:  \n",
    "https://en.wikipedia.org/wiki/Runge%E2%80%93Kutta_methods"
   ]
  },
  {
   "cell_type": "code",
   "execution_count": null,
   "metadata": {},
   "outputs": [],
   "source": [
    "def rk4(f, y, param, dt):\n",
    "    k1 = f(y, param, dt)\n",
    "    k2 = f(y + dt * k1 * 0.5, param, dt)\n",
    "    k3 = f(y + dt * k2 * 0.5, param, dt)\n",
    "    k4 = f(y + dt * k3, param, dt)\n",
    "    return (k1 + 2*k2 + 2*k3 + k4) / 6\n",
    "\n",
    "def update(v, h, m, n, i, dt):\n",
    "    v += rk4(dv, v, (h, m, n, i), dt)\n",
    "    h += rk4(dh, h, v, dt)\n",
    "    m += rk4(dm, m, v, dt)\n",
    "    n += rk4(dn, n, v, dt)\n",
    "    return v, h, m, n"
   ]
  },
  {
   "cell_type": "markdown",
   "metadata": {},
   "source": [
    "Initialize the variables"
   ]
  },
  {
   "cell_type": "code",
   "execution_count": null,
   "metadata": {},
   "outputs": [],
   "source": [
    "vt = 0. # membrane potential (mV)\n",
    "mt = 0. # Na channel activation (dimensionless)\n",
    "nt = 0. # K channel activation (dimensionless)\n",
    "ht = 0. # Na channel inactivation (dimensionless)\n",
    "# total membrane current (microA/cm**2)\n",
    "it = [0]*1000 + [10] * 500 + [0] * (T - 1500)\n",
    "#it = [0] * 1000 + [-5] * 2000 + [0] * (T - 3000)"
   ]
  },
  {
   "cell_type": "markdown",
   "metadata": {},
   "source": [
    "Define membrane current"
   ]
  },
  {
   "cell_type": "code",
   "execution_count": null,
   "metadata": {},
   "outputs": [],
   "source": [
    "plt.xlabel('$t$ (ms)')\n",
    "plt.ylabel('$I$ $\\mathrm{(\\mu/cm^2)}$')\n",
    "plt.xlim(-1, T*dt)\n",
    "plt.ylim(-2, 12)\n",
    "xticks = [x * dt for x in range(-500, 0)] + [x * dt for x in range(T)]\n",
    "plt.plot(xticks, [0]*500 + it)\n",
    "plt.title('Membrane Current $I$')\n",
    "#plt.savefig('1current.png', dpi=144)"
   ]
  },
  {
   "cell_type": "markdown",
   "metadata": {},
   "source": [
    "Get the values in each time step"
   ]
  },
  {
   "cell_type": "code",
   "execution_count": null,
   "metadata": {},
   "outputs": [],
   "source": [
    "vts, hts, mts, nts = ([] for i in range(4))\n",
    "for t in range(int(100 // dt)):\n",
    "    vt, ht, mt, nt = update(v=vt, h=ht, m=mt, n=nt, i=0, dt=dt)\n",
    "    # dispose of the results for 100 (ms)\n",
    "for t in range(T):\n",
    "    vt, ht, mt, nt = update(v=vt, h=ht, m=mt, n=nt, i=it[t], dt=dt)\n",
    "    vts.append(vt)\n",
    "    hts.append(ht)\n",
    "    mts.append(mt)\n",
    "    nts.append(nt)"
   ]
  },
  {
   "cell_type": "markdown",
   "metadata": {},
   "source": [
    "Membrane potential"
   ]
  },
  {
   "cell_type": "code",
   "execution_count": null,
   "metadata": {
    "scrolled": true
   },
   "outputs": [],
   "source": [
    "plt.xlabel('$t$ (ms)')\n",
    "plt.ylabel('$V$ (mV)')\n",
    "plt.xlim(0, dt*T)\n",
    "plt.ylim(-20, 120)\n",
    "xticks = [x * dt for x in range(T)]\n",
    "plt.plot(xticks, vts)\n",
    "plt.title('Membrane Potential $V$')\n",
    "#plt.savefig('1potential.png', dpi=144)"
   ]
  },
  {
   "cell_type": "markdown",
   "metadata": {},
   "source": [
    "Each channel activation"
   ]
  },
  {
   "cell_type": "code",
   "execution_count": null,
   "metadata": {},
   "outputs": [],
   "source": [
    "plt.xlabel('$t$ (ms)')\n",
    "plt.xlim(0, dt*T)\n",
    "plt.ylim(-0.1, 1.1)\n",
    "xticks = [x * dt for x in range(T)]\n",
    "plt.plot(xticks, hts)\n",
    "plt.plot(xticks, mts)\n",
    "plt.plot(xticks, nts)\n",
    "plt.legend(['h (Na inactivation)', 'm (Na activation)',\n",
    "            'n (K activation)'], bbox_to_anchor=(1, 1), framealpha=1)\n",
    "plt.title('Ion Channel Activation')\n",
    "#plt.savefig('1actv.png', dpi=144)"
   ]
  },
  {
   "cell_type": "markdown",
   "metadata": {},
   "source": [
    "## Exercise 1"
   ]
  },
  {
   "cell_type": "markdown",
   "metadata": {},
   "source": [
    "The combination of activations and inactivations of ion channels in biological membranes can confer neurons with some interesting behaviors. One of them is called \"reboud spiking\". Physiologists realised that when injecting a negative current pulse neurons would spike at the offset of such pulse. Could you reproduce this behavior in the model? Do you understand why is happening? "
   ]
  },
  {
   "cell_type": "markdown",
   "metadata": {},
   "source": [
    "## Multiple spiking"
   ]
  },
  {
   "cell_type": "code",
   "execution_count": null,
   "metadata": {},
   "outputs": [],
   "source": [
    "vt = mt = nt = ht = 0.\n",
    "it = [10] * T\n",
    "vts, hts, mts, nts = ([] for i in range(4))\n",
    "for t in range(int(100 // dt)):\n",
    "    vt, ht, mt, nt = update(v=vt, h=ht, m=mt, n=nt, i=0, dt=dt)\n",
    "for t in range(T):\n",
    "    vt, ht, mt, nt = update(v=vt, h=ht, m=mt, n=nt, i=it[t], dt=dt)\n",
    "    vts.append(vt)\n",
    "    hts.append(ht)\n",
    "    mts.append(mt)\n",
    "    nts.append(nt)"
   ]
  },
  {
   "cell_type": "code",
   "execution_count": null,
   "metadata": {},
   "outputs": [],
   "source": [
    "plt.xlabel('$t$ (ms)')\n",
    "plt.ylabel('$I$ $\\mathrm{(\\mu/cm^2)}$')\n",
    "plt.xlim(-5, 50)\n",
    "plt.ylim(-2, 12)\n",
    "xticks = [x * dt for x in range(-500, 0)] + [x * dt for x in range(T)]\n",
    "plt.plot(xticks, [0]*500 + it)\n",
    "plt.title('Membrane Current $I$')\n",
    "#plt.savefig('2current.png', dpi=144)"
   ]
  },
  {
   "cell_type": "code",
   "execution_count": null,
   "metadata": {},
   "outputs": [],
   "source": [
    "plt.xlabel('$t$ (ms)')\n",
    "plt.ylabel('$V$ (mV)')\n",
    "plt.xlim(0, 50)\n",
    "plt.ylim(-20, 120)\n",
    "xticks = [x * dt for x in range(T)]\n",
    "plt.plot(xticks, vts)\n",
    "plt.title('Membrane Potential $V$')\n",
    "#plt.savefig('2potential.png', dpi=144)"
   ]
  },
  {
   "cell_type": "markdown",
   "metadata": {},
   "source": [
    "# Exercise 2"
   ]
  },
  {
   "cell_type": "markdown",
   "metadata": {},
   "source": [
    "Another property of biological neurons is that after every spike they take some time \"to recover\" this is refered\n",
    "as to the refractory period. \n",
    "Can you show the refractory period in this model? \n",
    "Hint: you should inject the neuron with three consecutive short pulses. Play with the frequency of those pulses. "
   ]
  },
  {
   "cell_type": "markdown",
   "metadata": {},
   "source": [
    "## Refractory Period"
   ]
  },
  {
   "cell_type": "code",
   "execution_count": null,
   "metadata": {},
   "outputs": [],
   "source": [
    "vt = mt = nt = ht = 0.\n",
    "it = ([10] * 200 + [0] * 800) * (T // 1000)\n",
    "vts, hts, mts, nts = ([] for i in range(4))\n",
    "for t in range(int(100 / dt)):\n",
    "    vt, ht, mt, nt = update(v=vt, h=ht, m=mt, n=nt, i=0, dt=dt)\n",
    "for t in range(T):\n",
    "    vt, ht, mt, nt = update(v=vt, h=ht, m=mt, n=nt, i=it[t], dt=dt)\n",
    "    vts.append(vt)\n",
    "    hts.append(ht)\n",
    "    mts.append(mt)\n",
    "    nts.append(nt)"
   ]
  },
  {
   "cell_type": "code",
   "execution_count": null,
   "metadata": {},
   "outputs": [],
   "source": [
    "plt.xlabel('$t$ (ms)')\n",
    "plt.ylabel('$I$ $\\mathrm{(\\mu/cm^2)}$')\n",
    "plt.xlim(-5, 30)\n",
    "plt.ylim(-2, 12)\n",
    "xticks = [x * dt for x in range(-500, 0)] + [x * dt for x in range(T)]\n",
    "plt.plot(xticks, [0]*500 + it)\n",
    "plt.title('Membrane Current $I$')\n",
    "#plt.savefig('3current.png', dpi=144)"
   ]
  },
  {
   "cell_type": "code",
   "execution_count": null,
   "metadata": {},
   "outputs": [],
   "source": [
    "plt.xlabel('$t$ (ms)')\n",
    "plt.ylabel('$V$ (mV)')\n",
    "plt.xlim(0, 30)\n",
    "plt.ylim(-20, 120)\n",
    "xticks = [x * dt for x in range(T)]\n",
    "plt.plot(xticks, vts)\n",
    "plt.title('Membrane Potential $V$')\n",
    "#plt.savefig('3potential.png', dpi=144)"
   ]
  }
 ],
 "metadata": {
  "kernelspec": {
   "display_name": "Python 3 (ipykernel)",
   "language": "python",
   "name": "python3"
  },
  "language_info": {
   "codemirror_mode": {
    "name": "ipython",
    "version": 3
   },
   "file_extension": ".py",
   "mimetype": "text/x-python",
   "name": "python",
   "nbconvert_exporter": "python",
   "pygments_lexer": "ipython3",
   "version": "3.9.12"
  }
 },
 "nbformat": 4,
 "nbformat_minor": 1
}
